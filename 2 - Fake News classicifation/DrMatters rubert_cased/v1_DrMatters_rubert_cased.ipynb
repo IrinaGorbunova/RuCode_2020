{
  "nbformat": 4,
  "nbformat_minor": 0,
  "metadata": {
    "colab": {
      "name": "!!! v2_XLM_R.ipynb",
      "provenance": [],
      "collapsed_sections": [],
      "toc_visible": true,
      "machine_shape": "hm"
    },
    "kernelspec": {
      "name": "python3",
      "display_name": "Python 3"
    },
    "accelerator": "TPU",
    "widgets": {
      "application/vnd.jupyter.widget-state+json": {
        "a52f480283aa4df5b04245491b0f9744": {
          "model_module": "@jupyter-widgets/controls",
          "model_name": "HBoxModel",
          "state": {
            "_view_name": "HBoxView",
            "_dom_classes": [],
            "_model_name": "HBoxModel",
            "_view_module": "@jupyter-widgets/controls",
            "_model_module_version": "1.5.0",
            "_view_count": null,
            "_view_module_version": "1.5.0",
            "box_style": "",
            "layout": "IPY_MODEL_380647b1846b40d3b73a979094c41ea7",
            "_model_module": "@jupyter-widgets/controls",
            "children": [
              "IPY_MODEL_549f2264334f43fb863eb9069a2d831c",
              "IPY_MODEL_902291d00ce94620a9f23a47a9e4ae7f"
            ]
          }
        },
        "380647b1846b40d3b73a979094c41ea7": {
          "model_module": "@jupyter-widgets/base",
          "model_name": "LayoutModel",
          "state": {
            "_view_name": "LayoutView",
            "grid_template_rows": null,
            "right": null,
            "justify_content": null,
            "_view_module": "@jupyter-widgets/base",
            "overflow": null,
            "_model_module_version": "1.2.0",
            "_view_count": null,
            "flex_flow": null,
            "width": null,
            "min_width": null,
            "border": null,
            "align_items": null,
            "bottom": null,
            "_model_module": "@jupyter-widgets/base",
            "top": null,
            "grid_column": null,
            "overflow_y": null,
            "overflow_x": null,
            "grid_auto_flow": null,
            "grid_area": null,
            "grid_template_columns": null,
            "flex": null,
            "_model_name": "LayoutModel",
            "justify_items": null,
            "grid_row": null,
            "max_height": null,
            "align_content": null,
            "visibility": null,
            "align_self": null,
            "height": null,
            "min_height": null,
            "padding": null,
            "grid_auto_rows": null,
            "grid_gap": null,
            "max_width": null,
            "order": null,
            "_view_module_version": "1.2.0",
            "grid_template_areas": null,
            "object_position": null,
            "object_fit": null,
            "grid_auto_columns": null,
            "margin": null,
            "display": null,
            "left": null
          }
        },
        "549f2264334f43fb863eb9069a2d831c": {
          "model_module": "@jupyter-widgets/controls",
          "model_name": "FloatProgressModel",
          "state": {
            "_view_name": "ProgressView",
            "style": "IPY_MODEL_835d0d23b1d7417da52fbc5887c47fc7",
            "_dom_classes": [],
            "description": "Downloading: 100%",
            "_model_name": "FloatProgressModel",
            "bar_style": "success",
            "max": 577,
            "_view_module": "@jupyter-widgets/controls",
            "_model_module_version": "1.5.0",
            "value": 577,
            "_view_count": null,
            "_view_module_version": "1.5.0",
            "orientation": "horizontal",
            "min": 0,
            "description_tooltip": null,
            "_model_module": "@jupyter-widgets/controls",
            "layout": "IPY_MODEL_2a8c857148ba495883c5a62e23531e58"
          }
        },
        "902291d00ce94620a9f23a47a9e4ae7f": {
          "model_module": "@jupyter-widgets/controls",
          "model_name": "HTMLModel",
          "state": {
            "_view_name": "HTMLView",
            "style": "IPY_MODEL_e36f7bb155014a16bb0c4b7edbe1471a",
            "_dom_classes": [],
            "description": "",
            "_model_name": "HTMLModel",
            "placeholder": "​",
            "_view_module": "@jupyter-widgets/controls",
            "_model_module_version": "1.5.0",
            "value": " 577/577 [00:00&lt;00:00, 836B/s]",
            "_view_count": null,
            "_view_module_version": "1.5.0",
            "description_tooltip": null,
            "_model_module": "@jupyter-widgets/controls",
            "layout": "IPY_MODEL_d7dd6db53bf3415c831d859b4467052f"
          }
        },
        "835d0d23b1d7417da52fbc5887c47fc7": {
          "model_module": "@jupyter-widgets/controls",
          "model_name": "ProgressStyleModel",
          "state": {
            "_view_name": "StyleView",
            "_model_name": "ProgressStyleModel",
            "description_width": "initial",
            "_view_module": "@jupyter-widgets/base",
            "_model_module_version": "1.5.0",
            "_view_count": null,
            "_view_module_version": "1.2.0",
            "bar_color": null,
            "_model_module": "@jupyter-widgets/controls"
          }
        },
        "2a8c857148ba495883c5a62e23531e58": {
          "model_module": "@jupyter-widgets/base",
          "model_name": "LayoutModel",
          "state": {
            "_view_name": "LayoutView",
            "grid_template_rows": null,
            "right": null,
            "justify_content": null,
            "_view_module": "@jupyter-widgets/base",
            "overflow": null,
            "_model_module_version": "1.2.0",
            "_view_count": null,
            "flex_flow": null,
            "width": null,
            "min_width": null,
            "border": null,
            "align_items": null,
            "bottom": null,
            "_model_module": "@jupyter-widgets/base",
            "top": null,
            "grid_column": null,
            "overflow_y": null,
            "overflow_x": null,
            "grid_auto_flow": null,
            "grid_area": null,
            "grid_template_columns": null,
            "flex": null,
            "_model_name": "LayoutModel",
            "justify_items": null,
            "grid_row": null,
            "max_height": null,
            "align_content": null,
            "visibility": null,
            "align_self": null,
            "height": null,
            "min_height": null,
            "padding": null,
            "grid_auto_rows": null,
            "grid_gap": null,
            "max_width": null,
            "order": null,
            "_view_module_version": "1.2.0",
            "grid_template_areas": null,
            "object_position": null,
            "object_fit": null,
            "grid_auto_columns": null,
            "margin": null,
            "display": null,
            "left": null
          }
        },
        "e36f7bb155014a16bb0c4b7edbe1471a": {
          "model_module": "@jupyter-widgets/controls",
          "model_name": "DescriptionStyleModel",
          "state": {
            "_view_name": "StyleView",
            "_model_name": "DescriptionStyleModel",
            "description_width": "",
            "_view_module": "@jupyter-widgets/base",
            "_model_module_version": "1.5.0",
            "_view_count": null,
            "_view_module_version": "1.2.0",
            "_model_module": "@jupyter-widgets/controls"
          }
        },
        "d7dd6db53bf3415c831d859b4467052f": {
          "model_module": "@jupyter-widgets/base",
          "model_name": "LayoutModel",
          "state": {
            "_view_name": "LayoutView",
            "grid_template_rows": null,
            "right": null,
            "justify_content": null,
            "_view_module": "@jupyter-widgets/base",
            "overflow": null,
            "_model_module_version": "1.2.0",
            "_view_count": null,
            "flex_flow": null,
            "width": null,
            "min_width": null,
            "border": null,
            "align_items": null,
            "bottom": null,
            "_model_module": "@jupyter-widgets/base",
            "top": null,
            "grid_column": null,
            "overflow_y": null,
            "overflow_x": null,
            "grid_auto_flow": null,
            "grid_area": null,
            "grid_template_columns": null,
            "flex": null,
            "_model_name": "LayoutModel",
            "justify_items": null,
            "grid_row": null,
            "max_height": null,
            "align_content": null,
            "visibility": null,
            "align_self": null,
            "height": null,
            "min_height": null,
            "padding": null,
            "grid_auto_rows": null,
            "grid_gap": null,
            "max_width": null,
            "order": null,
            "_view_module_version": "1.2.0",
            "grid_template_areas": null,
            "object_position": null,
            "object_fit": null,
            "grid_auto_columns": null,
            "margin": null,
            "display": null,
            "left": null
          }
        },
        "1356df0215c14ff5aa6c087592df5910": {
          "model_module": "@jupyter-widgets/controls",
          "model_name": "HBoxModel",
          "state": {
            "_view_name": "HBoxView",
            "_dom_classes": [],
            "_model_name": "HBoxModel",
            "_view_module": "@jupyter-widgets/controls",
            "_model_module_version": "1.5.0",
            "_view_count": null,
            "_view_module_version": "1.5.0",
            "box_style": "",
            "layout": "IPY_MODEL_66b51844e24d4c1bb58d7ee4225451b4",
            "_model_module": "@jupyter-widgets/controls",
            "children": [
              "IPY_MODEL_77ff72f9c8f94d4fb0f5b644a795ac82",
              "IPY_MODEL_45359ea53c7849a2a8cdc3282e40e479"
            ]
          }
        },
        "66b51844e24d4c1bb58d7ee4225451b4": {
          "model_module": "@jupyter-widgets/base",
          "model_name": "LayoutModel",
          "state": {
            "_view_name": "LayoutView",
            "grid_template_rows": null,
            "right": null,
            "justify_content": null,
            "_view_module": "@jupyter-widgets/base",
            "overflow": null,
            "_model_module_version": "1.2.0",
            "_view_count": null,
            "flex_flow": null,
            "width": null,
            "min_width": null,
            "border": null,
            "align_items": null,
            "bottom": null,
            "_model_module": "@jupyter-widgets/base",
            "top": null,
            "grid_column": null,
            "overflow_y": null,
            "overflow_x": null,
            "grid_auto_flow": null,
            "grid_area": null,
            "grid_template_columns": null,
            "flex": null,
            "_model_name": "LayoutModel",
            "justify_items": null,
            "grid_row": null,
            "max_height": null,
            "align_content": null,
            "visibility": null,
            "align_self": null,
            "height": null,
            "min_height": null,
            "padding": null,
            "grid_auto_rows": null,
            "grid_gap": null,
            "max_width": null,
            "order": null,
            "_view_module_version": "1.2.0",
            "grid_template_areas": null,
            "object_position": null,
            "object_fit": null,
            "grid_auto_columns": null,
            "margin": null,
            "display": null,
            "left": null
          }
        },
        "77ff72f9c8f94d4fb0f5b644a795ac82": {
          "model_module": "@jupyter-widgets/controls",
          "model_name": "FloatProgressModel",
          "state": {
            "_view_name": "ProgressView",
            "style": "IPY_MODEL_10be55f5cc13481886b92c683ae142ed",
            "_dom_classes": [],
            "description": "Downloading: 100%",
            "_model_name": "FloatProgressModel",
            "bar_style": "success",
            "max": 714313368,
            "_view_module": "@jupyter-widgets/controls",
            "_model_module_version": "1.5.0",
            "value": 714313368,
            "_view_count": null,
            "_view_module_version": "1.5.0",
            "orientation": "horizontal",
            "min": 0,
            "description_tooltip": null,
            "_model_module": "@jupyter-widgets/controls",
            "layout": "IPY_MODEL_47d9cffde8234becab9279a6c7a9b517"
          }
        },
        "45359ea53c7849a2a8cdc3282e40e479": {
          "model_module": "@jupyter-widgets/controls",
          "model_name": "HTMLModel",
          "state": {
            "_view_name": "HTMLView",
            "style": "IPY_MODEL_9fca4e4b41634a2e97a251979c142e9d",
            "_dom_classes": [],
            "description": "",
            "_model_name": "HTMLModel",
            "placeholder": "​",
            "_view_module": "@jupyter-widgets/controls",
            "_model_module_version": "1.5.0",
            "value": " 714M/714M [00:11&lt;00:00, 62.6MB/s]",
            "_view_count": null,
            "_view_module_version": "1.5.0",
            "description_tooltip": null,
            "_model_module": "@jupyter-widgets/controls",
            "layout": "IPY_MODEL_c1d2cf9143334eaf995f1060fb0f4c5e"
          }
        },
        "10be55f5cc13481886b92c683ae142ed": {
          "model_module": "@jupyter-widgets/controls",
          "model_name": "ProgressStyleModel",
          "state": {
            "_view_name": "StyleView",
            "_model_name": "ProgressStyleModel",
            "description_width": "initial",
            "_view_module": "@jupyter-widgets/base",
            "_model_module_version": "1.5.0",
            "_view_count": null,
            "_view_module_version": "1.2.0",
            "bar_color": null,
            "_model_module": "@jupyter-widgets/controls"
          }
        },
        "47d9cffde8234becab9279a6c7a9b517": {
          "model_module": "@jupyter-widgets/base",
          "model_name": "LayoutModel",
          "state": {
            "_view_name": "LayoutView",
            "grid_template_rows": null,
            "right": null,
            "justify_content": null,
            "_view_module": "@jupyter-widgets/base",
            "overflow": null,
            "_model_module_version": "1.2.0",
            "_view_count": null,
            "flex_flow": null,
            "width": null,
            "min_width": null,
            "border": null,
            "align_items": null,
            "bottom": null,
            "_model_module": "@jupyter-widgets/base",
            "top": null,
            "grid_column": null,
            "overflow_y": null,
            "overflow_x": null,
            "grid_auto_flow": null,
            "grid_area": null,
            "grid_template_columns": null,
            "flex": null,
            "_model_name": "LayoutModel",
            "justify_items": null,
            "grid_row": null,
            "max_height": null,
            "align_content": null,
            "visibility": null,
            "align_self": null,
            "height": null,
            "min_height": null,
            "padding": null,
            "grid_auto_rows": null,
            "grid_gap": null,
            "max_width": null,
            "order": null,
            "_view_module_version": "1.2.0",
            "grid_template_areas": null,
            "object_position": null,
            "object_fit": null,
            "grid_auto_columns": null,
            "margin": null,
            "display": null,
            "left": null
          }
        },
        "9fca4e4b41634a2e97a251979c142e9d": {
          "model_module": "@jupyter-widgets/controls",
          "model_name": "DescriptionStyleModel",
          "state": {
            "_view_name": "StyleView",
            "_model_name": "DescriptionStyleModel",
            "description_width": "",
            "_view_module": "@jupyter-widgets/base",
            "_model_module_version": "1.5.0",
            "_view_count": null,
            "_view_module_version": "1.2.0",
            "_model_module": "@jupyter-widgets/controls"
          }
        },
        "c1d2cf9143334eaf995f1060fb0f4c5e": {
          "model_module": "@jupyter-widgets/base",
          "model_name": "LayoutModel",
          "state": {
            "_view_name": "LayoutView",
            "grid_template_rows": null,
            "right": null,
            "justify_content": null,
            "_view_module": "@jupyter-widgets/base",
            "overflow": null,
            "_model_module_version": "1.2.0",
            "_view_count": null,
            "flex_flow": null,
            "width": null,
            "min_width": null,
            "border": null,
            "align_items": null,
            "bottom": null,
            "_model_module": "@jupyter-widgets/base",
            "top": null,
            "grid_column": null,
            "overflow_y": null,
            "overflow_x": null,
            "grid_auto_flow": null,
            "grid_area": null,
            "grid_template_columns": null,
            "flex": null,
            "_model_name": "LayoutModel",
            "justify_items": null,
            "grid_row": null,
            "max_height": null,
            "align_content": null,
            "visibility": null,
            "align_self": null,
            "height": null,
            "min_height": null,
            "padding": null,
            "grid_auto_rows": null,
            "grid_gap": null,
            "max_width": null,
            "order": null,
            "_view_module_version": "1.2.0",
            "grid_template_areas": null,
            "object_position": null,
            "object_fit": null,
            "grid_auto_columns": null,
            "margin": null,
            "display": null,
            "left": null
          }
        },
        "6752eff06d0743b5a5dbb22a1128b689": {
          "model_module": "@jupyter-widgets/controls",
          "model_name": "HBoxModel",
          "state": {
            "_view_name": "HBoxView",
            "_dom_classes": [],
            "_model_name": "HBoxModel",
            "_view_module": "@jupyter-widgets/controls",
            "_model_module_version": "1.5.0",
            "_view_count": null,
            "_view_module_version": "1.5.0",
            "box_style": "",
            "layout": "IPY_MODEL_6025beb2a8224491ac3351995ded8c39",
            "_model_module": "@jupyter-widgets/controls",
            "children": [
              "IPY_MODEL_fb782cd8777d494d9173d48ea040eed2",
              "IPY_MODEL_ac28a716f80f47eab95af1959ae3c32d"
            ]
          }
        },
        "6025beb2a8224491ac3351995ded8c39": {
          "model_module": "@jupyter-widgets/base",
          "model_name": "LayoutModel",
          "state": {
            "_view_name": "LayoutView",
            "grid_template_rows": null,
            "right": null,
            "justify_content": null,
            "_view_module": "@jupyter-widgets/base",
            "overflow": null,
            "_model_module_version": "1.2.0",
            "_view_count": null,
            "flex_flow": null,
            "width": null,
            "min_width": null,
            "border": null,
            "align_items": null,
            "bottom": null,
            "_model_module": "@jupyter-widgets/base",
            "top": null,
            "grid_column": null,
            "overflow_y": null,
            "overflow_x": null,
            "grid_auto_flow": null,
            "grid_area": null,
            "grid_template_columns": null,
            "flex": null,
            "_model_name": "LayoutModel",
            "justify_items": null,
            "grid_row": null,
            "max_height": null,
            "align_content": null,
            "visibility": null,
            "align_self": null,
            "height": null,
            "min_height": null,
            "padding": null,
            "grid_auto_rows": null,
            "grid_gap": null,
            "max_width": null,
            "order": null,
            "_view_module_version": "1.2.0",
            "grid_template_areas": null,
            "object_position": null,
            "object_fit": null,
            "grid_auto_columns": null,
            "margin": null,
            "display": null,
            "left": null
          }
        },
        "fb782cd8777d494d9173d48ea040eed2": {
          "model_module": "@jupyter-widgets/controls",
          "model_name": "FloatProgressModel",
          "state": {
            "_view_name": "ProgressView",
            "style": "IPY_MODEL_d1a5c9dc40ca4ce0b73d762ec5caeb99",
            "_dom_classes": [],
            "description": "Downloading: 100%",
            "_model_name": "FloatProgressModel",
            "bar_style": "success",
            "max": 1649718,
            "_view_module": "@jupyter-widgets/controls",
            "_model_module_version": "1.5.0",
            "value": 1649718,
            "_view_count": null,
            "_view_module_version": "1.5.0",
            "orientation": "horizontal",
            "min": 0,
            "description_tooltip": null,
            "_model_module": "@jupyter-widgets/controls",
            "layout": "IPY_MODEL_dec66f57371b4ea3b87b3ef4859e1a65"
          }
        },
        "ac28a716f80f47eab95af1959ae3c32d": {
          "model_module": "@jupyter-widgets/controls",
          "model_name": "HTMLModel",
          "state": {
            "_view_name": "HTMLView",
            "style": "IPY_MODEL_cbaf8104c4664c58a80116a4b094fc08",
            "_dom_classes": [],
            "description": "",
            "_model_name": "HTMLModel",
            "placeholder": "​",
            "_view_module": "@jupyter-widgets/controls",
            "_model_module_version": "1.5.0",
            "value": " 1.65M/1.65M [00:00&lt;00:00, 1.69MB/s]",
            "_view_count": null,
            "_view_module_version": "1.5.0",
            "description_tooltip": null,
            "_model_module": "@jupyter-widgets/controls",
            "layout": "IPY_MODEL_0dad49c7c3824796ac69c3295d4a540d"
          }
        },
        "d1a5c9dc40ca4ce0b73d762ec5caeb99": {
          "model_module": "@jupyter-widgets/controls",
          "model_name": "ProgressStyleModel",
          "state": {
            "_view_name": "StyleView",
            "_model_name": "ProgressStyleModel",
            "description_width": "initial",
            "_view_module": "@jupyter-widgets/base",
            "_model_module_version": "1.5.0",
            "_view_count": null,
            "_view_module_version": "1.2.0",
            "bar_color": null,
            "_model_module": "@jupyter-widgets/controls"
          }
        },
        "dec66f57371b4ea3b87b3ef4859e1a65": {
          "model_module": "@jupyter-widgets/base",
          "model_name": "LayoutModel",
          "state": {
            "_view_name": "LayoutView",
            "grid_template_rows": null,
            "right": null,
            "justify_content": null,
            "_view_module": "@jupyter-widgets/base",
            "overflow": null,
            "_model_module_version": "1.2.0",
            "_view_count": null,
            "flex_flow": null,
            "width": null,
            "min_width": null,
            "border": null,
            "align_items": null,
            "bottom": null,
            "_model_module": "@jupyter-widgets/base",
            "top": null,
            "grid_column": null,
            "overflow_y": null,
            "overflow_x": null,
            "grid_auto_flow": null,
            "grid_area": null,
            "grid_template_columns": null,
            "flex": null,
            "_model_name": "LayoutModel",
            "justify_items": null,
            "grid_row": null,
            "max_height": null,
            "align_content": null,
            "visibility": null,
            "align_self": null,
            "height": null,
            "min_height": null,
            "padding": null,
            "grid_auto_rows": null,
            "grid_gap": null,
            "max_width": null,
            "order": null,
            "_view_module_version": "1.2.0",
            "grid_template_areas": null,
            "object_position": null,
            "object_fit": null,
            "grid_auto_columns": null,
            "margin": null,
            "display": null,
            "left": null
          }
        },
        "cbaf8104c4664c58a80116a4b094fc08": {
          "model_module": "@jupyter-widgets/controls",
          "model_name": "DescriptionStyleModel",
          "state": {
            "_view_name": "StyleView",
            "_model_name": "DescriptionStyleModel",
            "description_width": "",
            "_view_module": "@jupyter-widgets/base",
            "_model_module_version": "1.5.0",
            "_view_count": null,
            "_view_module_version": "1.2.0",
            "_model_module": "@jupyter-widgets/controls"
          }
        },
        "0dad49c7c3824796ac69c3295d4a540d": {
          "model_module": "@jupyter-widgets/base",
          "model_name": "LayoutModel",
          "state": {
            "_view_name": "LayoutView",
            "grid_template_rows": null,
            "right": null,
            "justify_content": null,
            "_view_module": "@jupyter-widgets/base",
            "overflow": null,
            "_model_module_version": "1.2.0",
            "_view_count": null,
            "flex_flow": null,
            "width": null,
            "min_width": null,
            "border": null,
            "align_items": null,
            "bottom": null,
            "_model_module": "@jupyter-widgets/base",
            "top": null,
            "grid_column": null,
            "overflow_y": null,
            "overflow_x": null,
            "grid_auto_flow": null,
            "grid_area": null,
            "grid_template_columns": null,
            "flex": null,
            "_model_name": "LayoutModel",
            "justify_items": null,
            "grid_row": null,
            "max_height": null,
            "align_content": null,
            "visibility": null,
            "align_self": null,
            "height": null,
            "min_height": null,
            "padding": null,
            "grid_auto_rows": null,
            "grid_gap": null,
            "max_width": null,
            "order": null,
            "_view_module_version": "1.2.0",
            "grid_template_areas": null,
            "object_position": null,
            "object_fit": null,
            "grid_auto_columns": null,
            "margin": null,
            "display": null,
            "left": null
          }
        },
        "3008f383d49b433193dce0015ea64578": {
          "model_module": "@jupyter-widgets/controls",
          "model_name": "HBoxModel",
          "state": {
            "_view_name": "HBoxView",
            "_dom_classes": [],
            "_model_name": "HBoxModel",
            "_view_module": "@jupyter-widgets/controls",
            "_model_module_version": "1.5.0",
            "_view_count": null,
            "_view_module_version": "1.5.0",
            "box_style": "",
            "layout": "IPY_MODEL_f93ad39296664992bdcbd598537f1c36",
            "_model_module": "@jupyter-widgets/controls",
            "children": [
              "IPY_MODEL_8b5be610179c4169891bfd6af7564b70",
              "IPY_MODEL_99ea6614cfac4b7bbcfa8eb3b638b086"
            ]
          }
        },
        "f93ad39296664992bdcbd598537f1c36": {
          "model_module": "@jupyter-widgets/base",
          "model_name": "LayoutModel",
          "state": {
            "_view_name": "LayoutView",
            "grid_template_rows": null,
            "right": null,
            "justify_content": null,
            "_view_module": "@jupyter-widgets/base",
            "overflow": null,
            "_model_module_version": "1.2.0",
            "_view_count": null,
            "flex_flow": null,
            "width": null,
            "min_width": null,
            "border": null,
            "align_items": null,
            "bottom": null,
            "_model_module": "@jupyter-widgets/base",
            "top": null,
            "grid_column": null,
            "overflow_y": null,
            "overflow_x": null,
            "grid_auto_flow": null,
            "grid_area": null,
            "grid_template_columns": null,
            "flex": null,
            "_model_name": "LayoutModel",
            "justify_items": null,
            "grid_row": null,
            "max_height": null,
            "align_content": null,
            "visibility": null,
            "align_self": null,
            "height": null,
            "min_height": null,
            "padding": null,
            "grid_auto_rows": null,
            "grid_gap": null,
            "max_width": null,
            "order": null,
            "_view_module_version": "1.2.0",
            "grid_template_areas": null,
            "object_position": null,
            "object_fit": null,
            "grid_auto_columns": null,
            "margin": null,
            "display": null,
            "left": null
          }
        },
        "8b5be610179c4169891bfd6af7564b70": {
          "model_module": "@jupyter-widgets/controls",
          "model_name": "FloatProgressModel",
          "state": {
            "_view_name": "ProgressView",
            "style": "IPY_MODEL_4348725cf1664518af4e0aa256c81cf1",
            "_dom_classes": [],
            "description": "100%",
            "_model_name": "FloatProgressModel",
            "bar_style": "success",
            "max": 23,
            "_view_module": "@jupyter-widgets/controls",
            "_model_module_version": "1.5.0",
            "value": 23,
            "_view_count": null,
            "_view_module_version": "1.5.0",
            "orientation": "horizontal",
            "min": 0,
            "description_tooltip": null,
            "_model_module": "@jupyter-widgets/controls",
            "layout": "IPY_MODEL_efa078e860e94562aafc46ebffe4a099"
          }
        },
        "99ea6614cfac4b7bbcfa8eb3b638b086": {
          "model_module": "@jupyter-widgets/controls",
          "model_name": "HTMLModel",
          "state": {
            "_view_name": "HTMLView",
            "style": "IPY_MODEL_8105d3d8f6ab49e3b629b3c39657e679",
            "_dom_classes": [],
            "description": "",
            "_model_name": "HTMLModel",
            "placeholder": "​",
            "_view_module": "@jupyter-widgets/controls",
            "_model_module_version": "1.5.0",
            "value": " 23/23 [05:12&lt;00:00, 13.59s/it]",
            "_view_count": null,
            "_view_module_version": "1.5.0",
            "description_tooltip": null,
            "_model_module": "@jupyter-widgets/controls",
            "layout": "IPY_MODEL_e1e0d4432c9b463683f8ddb4010e527d"
          }
        },
        "4348725cf1664518af4e0aa256c81cf1": {
          "model_module": "@jupyter-widgets/controls",
          "model_name": "ProgressStyleModel",
          "state": {
            "_view_name": "StyleView",
            "_model_name": "ProgressStyleModel",
            "description_width": "initial",
            "_view_module": "@jupyter-widgets/base",
            "_model_module_version": "1.5.0",
            "_view_count": null,
            "_view_module_version": "1.2.0",
            "bar_color": null,
            "_model_module": "@jupyter-widgets/controls"
          }
        },
        "efa078e860e94562aafc46ebffe4a099": {
          "model_module": "@jupyter-widgets/base",
          "model_name": "LayoutModel",
          "state": {
            "_view_name": "LayoutView",
            "grid_template_rows": null,
            "right": null,
            "justify_content": null,
            "_view_module": "@jupyter-widgets/base",
            "overflow": null,
            "_model_module_version": "1.2.0",
            "_view_count": null,
            "flex_flow": null,
            "width": null,
            "min_width": null,
            "border": null,
            "align_items": null,
            "bottom": null,
            "_model_module": "@jupyter-widgets/base",
            "top": null,
            "grid_column": null,
            "overflow_y": null,
            "overflow_x": null,
            "grid_auto_flow": null,
            "grid_area": null,
            "grid_template_columns": null,
            "flex": null,
            "_model_name": "LayoutModel",
            "justify_items": null,
            "grid_row": null,
            "max_height": null,
            "align_content": null,
            "visibility": null,
            "align_self": null,
            "height": null,
            "min_height": null,
            "padding": null,
            "grid_auto_rows": null,
            "grid_gap": null,
            "max_width": null,
            "order": null,
            "_view_module_version": "1.2.0",
            "grid_template_areas": null,
            "object_position": null,
            "object_fit": null,
            "grid_auto_columns": null,
            "margin": null,
            "display": null,
            "left": null
          }
        },
        "8105d3d8f6ab49e3b629b3c39657e679": {
          "model_module": "@jupyter-widgets/controls",
          "model_name": "DescriptionStyleModel",
          "state": {
            "_view_name": "StyleView",
            "_model_name": "DescriptionStyleModel",
            "description_width": "",
            "_view_module": "@jupyter-widgets/base",
            "_model_module_version": "1.5.0",
            "_view_count": null,
            "_view_module_version": "1.2.0",
            "_model_module": "@jupyter-widgets/controls"
          }
        },
        "e1e0d4432c9b463683f8ddb4010e527d": {
          "model_module": "@jupyter-widgets/base",
          "model_name": "LayoutModel",
          "state": {
            "_view_name": "LayoutView",
            "grid_template_rows": null,
            "right": null,
            "justify_content": null,
            "_view_module": "@jupyter-widgets/base",
            "overflow": null,
            "_model_module_version": "1.2.0",
            "_view_count": null,
            "flex_flow": null,
            "width": null,
            "min_width": null,
            "border": null,
            "align_items": null,
            "bottom": null,
            "_model_module": "@jupyter-widgets/base",
            "top": null,
            "grid_column": null,
            "overflow_y": null,
            "overflow_x": null,
            "grid_auto_flow": null,
            "grid_area": null,
            "grid_template_columns": null,
            "flex": null,
            "_model_name": "LayoutModel",
            "justify_items": null,
            "grid_row": null,
            "max_height": null,
            "align_content": null,
            "visibility": null,
            "align_self": null,
            "height": null,
            "min_height": null,
            "padding": null,
            "grid_auto_rows": null,
            "grid_gap": null,
            "max_width": null,
            "order": null,
            "_view_module_version": "1.2.0",
            "grid_template_areas": null,
            "object_position": null,
            "object_fit": null,
            "grid_auto_columns": null,
            "margin": null,
            "display": null,
            "left": null
          }
        },
        "59f2f810c47c4b2388c4d630f202408b": {
          "model_module": "@jupyter-widgets/controls",
          "model_name": "HBoxModel",
          "state": {
            "_view_name": "HBoxView",
            "_dom_classes": [],
            "_model_name": "HBoxModel",
            "_view_module": "@jupyter-widgets/controls",
            "_model_module_version": "1.5.0",
            "_view_count": null,
            "_view_module_version": "1.5.0",
            "box_style": "",
            "layout": "IPY_MODEL_4a8b011cbe634036bdc41ae9a1dde405",
            "_model_module": "@jupyter-widgets/controls",
            "children": [
              "IPY_MODEL_0445a3e6468443318c12773253d8ba09",
              "IPY_MODEL_4ed275f3d5bb4b26ae24f02c8f705802"
            ]
          }
        },
        "4a8b011cbe634036bdc41ae9a1dde405": {
          "model_module": "@jupyter-widgets/base",
          "model_name": "LayoutModel",
          "state": {
            "_view_name": "LayoutView",
            "grid_template_rows": null,
            "right": null,
            "justify_content": null,
            "_view_module": "@jupyter-widgets/base",
            "overflow": null,
            "_model_module_version": "1.2.0",
            "_view_count": null,
            "flex_flow": null,
            "width": null,
            "min_width": null,
            "border": null,
            "align_items": null,
            "bottom": null,
            "_model_module": "@jupyter-widgets/base",
            "top": null,
            "grid_column": null,
            "overflow_y": null,
            "overflow_x": null,
            "grid_auto_flow": null,
            "grid_area": null,
            "grid_template_columns": null,
            "flex": null,
            "_model_name": "LayoutModel",
            "justify_items": null,
            "grid_row": null,
            "max_height": null,
            "align_content": null,
            "visibility": null,
            "align_self": null,
            "height": null,
            "min_height": null,
            "padding": null,
            "grid_auto_rows": null,
            "grid_gap": null,
            "max_width": null,
            "order": null,
            "_view_module_version": "1.2.0",
            "grid_template_areas": null,
            "object_position": null,
            "object_fit": null,
            "grid_auto_columns": null,
            "margin": null,
            "display": null,
            "left": null
          }
        },
        "0445a3e6468443318c12773253d8ba09": {
          "model_module": "@jupyter-widgets/controls",
          "model_name": "FloatProgressModel",
          "state": {
            "_view_name": "ProgressView",
            "style": "IPY_MODEL_d498d6a9ad9e443386f7d6a21f233165",
            "_dom_classes": [],
            "description": "100%",
            "_model_name": "FloatProgressModel",
            "bar_style": "success",
            "max": 2,
            "_view_module": "@jupyter-widgets/controls",
            "_model_module_version": "1.5.0",
            "value": 2,
            "_view_count": null,
            "_view_module_version": "1.5.0",
            "orientation": "horizontal",
            "min": 0,
            "description_tooltip": null,
            "_model_module": "@jupyter-widgets/controls",
            "layout": "IPY_MODEL_3e9c6d391ba647f383c053afa01aa7e1"
          }
        },
        "4ed275f3d5bb4b26ae24f02c8f705802": {
          "model_module": "@jupyter-widgets/controls",
          "model_name": "HTMLModel",
          "state": {
            "_view_name": "HTMLView",
            "style": "IPY_MODEL_a4484d07c9af4073b6d1b43e49d149fe",
            "_dom_classes": [],
            "description": "",
            "_model_name": "HTMLModel",
            "placeholder": "​",
            "_view_module": "@jupyter-widgets/controls",
            "_model_module_version": "1.5.0",
            "value": " 2/2 [03:32&lt;00:00, 106.43s/it]",
            "_view_count": null,
            "_view_module_version": "1.5.0",
            "description_tooltip": null,
            "_model_module": "@jupyter-widgets/controls",
            "layout": "IPY_MODEL_9744689d3fe54692813900b13c724205"
          }
        },
        "d498d6a9ad9e443386f7d6a21f233165": {
          "model_module": "@jupyter-widgets/controls",
          "model_name": "ProgressStyleModel",
          "state": {
            "_view_name": "StyleView",
            "_model_name": "ProgressStyleModel",
            "description_width": "initial",
            "_view_module": "@jupyter-widgets/base",
            "_model_module_version": "1.5.0",
            "_view_count": null,
            "_view_module_version": "1.2.0",
            "bar_color": null,
            "_model_module": "@jupyter-widgets/controls"
          }
        },
        "3e9c6d391ba647f383c053afa01aa7e1": {
          "model_module": "@jupyter-widgets/base",
          "model_name": "LayoutModel",
          "state": {
            "_view_name": "LayoutView",
            "grid_template_rows": null,
            "right": null,
            "justify_content": null,
            "_view_module": "@jupyter-widgets/base",
            "overflow": null,
            "_model_module_version": "1.2.0",
            "_view_count": null,
            "flex_flow": null,
            "width": null,
            "min_width": null,
            "border": null,
            "align_items": null,
            "bottom": null,
            "_model_module": "@jupyter-widgets/base",
            "top": null,
            "grid_column": null,
            "overflow_y": null,
            "overflow_x": null,
            "grid_auto_flow": null,
            "grid_area": null,
            "grid_template_columns": null,
            "flex": null,
            "_model_name": "LayoutModel",
            "justify_items": null,
            "grid_row": null,
            "max_height": null,
            "align_content": null,
            "visibility": null,
            "align_self": null,
            "height": null,
            "min_height": null,
            "padding": null,
            "grid_auto_rows": null,
            "grid_gap": null,
            "max_width": null,
            "order": null,
            "_view_module_version": "1.2.0",
            "grid_template_areas": null,
            "object_position": null,
            "object_fit": null,
            "grid_auto_columns": null,
            "margin": null,
            "display": null,
            "left": null
          }
        },
        "a4484d07c9af4073b6d1b43e49d149fe": {
          "model_module": "@jupyter-widgets/controls",
          "model_name": "DescriptionStyleModel",
          "state": {
            "_view_name": "StyleView",
            "_model_name": "DescriptionStyleModel",
            "description_width": "",
            "_view_module": "@jupyter-widgets/base",
            "_model_module_version": "1.5.0",
            "_view_count": null,
            "_view_module_version": "1.2.0",
            "_model_module": "@jupyter-widgets/controls"
          }
        },
        "9744689d3fe54692813900b13c724205": {
          "model_module": "@jupyter-widgets/base",
          "model_name": "LayoutModel",
          "state": {
            "_view_name": "LayoutView",
            "grid_template_rows": null,
            "right": null,
            "justify_content": null,
            "_view_module": "@jupyter-widgets/base",
            "overflow": null,
            "_model_module_version": "1.2.0",
            "_view_count": null,
            "flex_flow": null,
            "width": null,
            "min_width": null,
            "border": null,
            "align_items": null,
            "bottom": null,
            "_model_module": "@jupyter-widgets/base",
            "top": null,
            "grid_column": null,
            "overflow_y": null,
            "overflow_x": null,
            "grid_auto_flow": null,
            "grid_area": null,
            "grid_template_columns": null,
            "flex": null,
            "_model_name": "LayoutModel",
            "justify_items": null,
            "grid_row": null,
            "max_height": null,
            "align_content": null,
            "visibility": null,
            "align_self": null,
            "height": null,
            "min_height": null,
            "padding": null,
            "grid_auto_rows": null,
            "grid_gap": null,
            "max_width": null,
            "order": null,
            "_view_module_version": "1.2.0",
            "grid_template_areas": null,
            "object_position": null,
            "object_fit": null,
            "grid_auto_columns": null,
            "margin": null,
            "display": null,
            "left": null
          }
        },
        "a2d31a5d5d574f5cb09373abb8292900": {
          "model_module": "@jupyter-widgets/controls",
          "model_name": "HBoxModel",
          "state": {
            "_view_name": "HBoxView",
            "_dom_classes": [],
            "_model_name": "HBoxModel",
            "_view_module": "@jupyter-widgets/controls",
            "_model_module_version": "1.5.0",
            "_view_count": null,
            "_view_module_version": "1.5.0",
            "box_style": "",
            "layout": "IPY_MODEL_67e1170186dd4b8fa83a844a46d77370",
            "_model_module": "@jupyter-widgets/controls",
            "children": [
              "IPY_MODEL_4567c9ad01af4fd395b0f8d1a36dfc6f",
              "IPY_MODEL_abc71521a77b4b7ea66099a6f0faada4"
            ]
          }
        },
        "67e1170186dd4b8fa83a844a46d77370": {
          "model_module": "@jupyter-widgets/base",
          "model_name": "LayoutModel",
          "state": {
            "_view_name": "LayoutView",
            "grid_template_rows": null,
            "right": null,
            "justify_content": null,
            "_view_module": "@jupyter-widgets/base",
            "overflow": null,
            "_model_module_version": "1.2.0",
            "_view_count": null,
            "flex_flow": null,
            "width": null,
            "min_width": null,
            "border": null,
            "align_items": null,
            "bottom": null,
            "_model_module": "@jupyter-widgets/base",
            "top": null,
            "grid_column": null,
            "overflow_y": null,
            "overflow_x": null,
            "grid_auto_flow": null,
            "grid_area": null,
            "grid_template_columns": null,
            "flex": null,
            "_model_name": "LayoutModel",
            "justify_items": null,
            "grid_row": null,
            "max_height": null,
            "align_content": null,
            "visibility": null,
            "align_self": null,
            "height": null,
            "min_height": null,
            "padding": null,
            "grid_auto_rows": null,
            "grid_gap": null,
            "max_width": null,
            "order": null,
            "_view_module_version": "1.2.0",
            "grid_template_areas": null,
            "object_position": null,
            "object_fit": null,
            "grid_auto_columns": null,
            "margin": null,
            "display": null,
            "left": null
          }
        },
        "4567c9ad01af4fd395b0f8d1a36dfc6f": {
          "model_module": "@jupyter-widgets/controls",
          "model_name": "FloatProgressModel",
          "state": {
            "_view_name": "ProgressView",
            "style": "IPY_MODEL_1aeb62947f274fe4ad15f6b9f8f25951",
            "_dom_classes": [],
            "description": "100%",
            "_model_name": "FloatProgressModel",
            "bar_style": "success",
            "max": 7,
            "_view_module": "@jupyter-widgets/controls",
            "_model_module_version": "1.5.0",
            "value": 7,
            "_view_count": null,
            "_view_module_version": "1.5.0",
            "orientation": "horizontal",
            "min": 0,
            "description_tooltip": null,
            "_model_module": "@jupyter-widgets/controls",
            "layout": "IPY_MODEL_5acf3a0c9d8547a9a5d0035c5ff25a36"
          }
        },
        "abc71521a77b4b7ea66099a6f0faada4": {
          "model_module": "@jupyter-widgets/controls",
          "model_name": "HTMLModel",
          "state": {
            "_view_name": "HTMLView",
            "style": "IPY_MODEL_b54d83c00b6d4bf4a0dda9c75137b4b4",
            "_dom_classes": [],
            "description": "",
            "_model_name": "HTMLModel",
            "placeholder": "​",
            "_view_module": "@jupyter-widgets/controls",
            "_model_module_version": "1.5.0",
            "value": " 7/7 [03:28&lt;00:00, 29.77s/it]",
            "_view_count": null,
            "_view_module_version": "1.5.0",
            "description_tooltip": null,
            "_model_module": "@jupyter-widgets/controls",
            "layout": "IPY_MODEL_ff8d1c464b624b8aaa112b63d18fd522"
          }
        },
        "1aeb62947f274fe4ad15f6b9f8f25951": {
          "model_module": "@jupyter-widgets/controls",
          "model_name": "ProgressStyleModel",
          "state": {
            "_view_name": "StyleView",
            "_model_name": "ProgressStyleModel",
            "description_width": "initial",
            "_view_module": "@jupyter-widgets/base",
            "_model_module_version": "1.5.0",
            "_view_count": null,
            "_view_module_version": "1.2.0",
            "bar_color": null,
            "_model_module": "@jupyter-widgets/controls"
          }
        },
        "5acf3a0c9d8547a9a5d0035c5ff25a36": {
          "model_module": "@jupyter-widgets/base",
          "model_name": "LayoutModel",
          "state": {
            "_view_name": "LayoutView",
            "grid_template_rows": null,
            "right": null,
            "justify_content": null,
            "_view_module": "@jupyter-widgets/base",
            "overflow": null,
            "_model_module_version": "1.2.0",
            "_view_count": null,
            "flex_flow": null,
            "width": null,
            "min_width": null,
            "border": null,
            "align_items": null,
            "bottom": null,
            "_model_module": "@jupyter-widgets/base",
            "top": null,
            "grid_column": null,
            "overflow_y": null,
            "overflow_x": null,
            "grid_auto_flow": null,
            "grid_area": null,
            "grid_template_columns": null,
            "flex": null,
            "_model_name": "LayoutModel",
            "justify_items": null,
            "grid_row": null,
            "max_height": null,
            "align_content": null,
            "visibility": null,
            "align_self": null,
            "height": null,
            "min_height": null,
            "padding": null,
            "grid_auto_rows": null,
            "grid_gap": null,
            "max_width": null,
            "order": null,
            "_view_module_version": "1.2.0",
            "grid_template_areas": null,
            "object_position": null,
            "object_fit": null,
            "grid_auto_columns": null,
            "margin": null,
            "display": null,
            "left": null
          }
        },
        "b54d83c00b6d4bf4a0dda9c75137b4b4": {
          "model_module": "@jupyter-widgets/controls",
          "model_name": "DescriptionStyleModel",
          "state": {
            "_view_name": "StyleView",
            "_model_name": "DescriptionStyleModel",
            "description_width": "",
            "_view_module": "@jupyter-widgets/base",
            "_model_module_version": "1.5.0",
            "_view_count": null,
            "_view_module_version": "1.2.0",
            "_model_module": "@jupyter-widgets/controls"
          }
        },
        "ff8d1c464b624b8aaa112b63d18fd522": {
          "model_module": "@jupyter-widgets/base",
          "model_name": "LayoutModel",
          "state": {
            "_view_name": "LayoutView",
            "grid_template_rows": null,
            "right": null,
            "justify_content": null,
            "_view_module": "@jupyter-widgets/base",
            "overflow": null,
            "_model_module_version": "1.2.0",
            "_view_count": null,
            "flex_flow": null,
            "width": null,
            "min_width": null,
            "border": null,
            "align_items": null,
            "bottom": null,
            "_model_module": "@jupyter-widgets/base",
            "top": null,
            "grid_column": null,
            "overflow_y": null,
            "overflow_x": null,
            "grid_auto_flow": null,
            "grid_area": null,
            "grid_template_columns": null,
            "flex": null,
            "_model_name": "LayoutModel",
            "justify_items": null,
            "grid_row": null,
            "max_height": null,
            "align_content": null,
            "visibility": null,
            "align_self": null,
            "height": null,
            "min_height": null,
            "padding": null,
            "grid_auto_rows": null,
            "grid_gap": null,
            "max_width": null,
            "order": null,
            "_view_module_version": "1.2.0",
            "grid_template_areas": null,
            "object_position": null,
            "object_fit": null,
            "grid_auto_columns": null,
            "margin": null,
            "display": null,
            "left": null
          }
        }
      }
    }
  },
  "cells": [
    {
      "cell_type": "markdown",
      "metadata": {
        "papermill": {
          "duration": 0.020523,
          "end_time": "2020-09-05T22:08:08.228630",
          "exception": false,
          "start_time": "2020-09-05T22:08:08.208107",
          "status": "completed"
        },
        "tags": [],
        "colab_type": "text",
        "id": "tJjnwy5Fdt9f"
      },
      "source": [
        "# DrMatters/rubert_cased"
      ]
    },
    {
      "cell_type": "markdown",
      "metadata": {
        "papermill": {
          "duration": 0.022614,
          "end_time": "2020-09-05T22:08:08.270925",
          "exception": false,
          "start_time": "2020-09-05T22:08:08.248311",
          "status": "completed"
        },
        "tags": [],
        "colab_type": "text",
        "id": "By2lpsNbdt9n"
      },
      "source": [
        "## Dependencies"
      ]
    },
    {
      "cell_type": "code",
      "metadata": {
        "execution": {
          "iopub.execute_input": "2020-09-05T22:08:08.317383Z",
          "iopub.status.busy": "2020-09-05T22:08:08.316484Z",
          "iopub.status.idle": "2020-09-05T22:08:38.689545Z",
          "shell.execute_reply": "2020-09-05T22:08:38.688712Z"
        },
        "papermill": {
          "duration": 30.399134,
          "end_time": "2020-09-05T22:08:38.689688",
          "exception": false,
          "start_time": "2020-09-05T22:08:08.290554",
          "status": "completed"
        },
        "tags": [],
        "colab_type": "code",
        "id": "2HmhEEH1dt9o",
        "colab": {
          "base_uri": "https://localhost:8080/",
          "height": 1000
        },
        "outputId": "189e7487-f0a5-40e0-cc4c-2391f6ca9229"
      },
      "source": [
        "!pip install git+https://github.com/huggingface/transformers\n",
        "!pip install -U nlp"
      ],
      "execution_count": 1,
      "outputs": [
        {
          "output_type": "stream",
          "text": [
            "Collecting git+https://github.com/huggingface/transformers\n",
            "  Cloning https://github.com/huggingface/transformers to /tmp/pip-req-build-woazmko2\n",
            "  Running command git clone -q https://github.com/huggingface/transformers /tmp/pip-req-build-woazmko2\n",
            "  Installing build dependencies ... \u001b[?25l\u001b[?25hdone\n",
            "  Getting requirements to build wheel ... \u001b[?25l\u001b[?25hdone\n",
            "    Preparing wheel metadata ... \u001b[?25l\u001b[?25hdone\n",
            "Requirement already satisfied: numpy in /usr/local/lib/python3.6/dist-packages (from transformers==3.2.0) (1.18.5)\n",
            "Requirement already satisfied: tqdm>=4.27 in /usr/local/lib/python3.6/dist-packages (from transformers==3.2.0) (4.41.1)\n",
            "Requirement already satisfied: filelock in /usr/local/lib/python3.6/dist-packages (from transformers==3.2.0) (3.0.12)\n",
            "Requirement already satisfied: regex!=2019.12.17 in /usr/local/lib/python3.6/dist-packages (from transformers==3.2.0) (2019.12.20)\n",
            "Requirement already satisfied: dataclasses; python_version < \"3.7\" in /usr/local/lib/python3.6/dist-packages (from transformers==3.2.0) (0.7)\n",
            "Requirement already satisfied: packaging in /usr/local/lib/python3.6/dist-packages (from transformers==3.2.0) (20.4)\n",
            "Requirement already satisfied: requests in /usr/local/lib/python3.6/dist-packages (from transformers==3.2.0) (2.23.0)\n",
            "Collecting sentencepiece!=0.1.92\n",
            "\u001b[?25l  Downloading https://files.pythonhosted.org/packages/d4/a4/d0a884c4300004a78cca907a6ff9a5e9fe4f090f5d95ab341c53d28cbc58/sentencepiece-0.1.91-cp36-cp36m-manylinux1_x86_64.whl (1.1MB)\n",
            "\u001b[K     |████████████████████████████████| 1.1MB 3.5MB/s \n",
            "\u001b[?25hCollecting tokenizers==0.8.1.rc2\n",
            "\u001b[?25l  Downloading https://files.pythonhosted.org/packages/80/83/8b9fccb9e48eeb575ee19179e2bdde0ee9a1904f97de5f02d19016b8804f/tokenizers-0.8.1rc2-cp36-cp36m-manylinux1_x86_64.whl (3.0MB)\n",
            "\u001b[K     |████████████████████████████████| 3.0MB 12.5MB/s \n",
            "\u001b[?25hCollecting sacremoses\n",
            "\u001b[?25l  Downloading https://files.pythonhosted.org/packages/7d/34/09d19aff26edcc8eb2a01bed8e98f13a1537005d31e95233fd48216eed10/sacremoses-0.0.43.tar.gz (883kB)\n",
            "\u001b[K     |████████████████████████████████| 890kB 32.7MB/s \n",
            "\u001b[?25hRequirement already satisfied: pyparsing>=2.0.2 in /usr/local/lib/python3.6/dist-packages (from packaging->transformers==3.2.0) (2.4.7)\n",
            "Requirement already satisfied: six in /usr/local/lib/python3.6/dist-packages (from packaging->transformers==3.2.0) (1.15.0)\n",
            "Requirement already satisfied: idna<3,>=2.5 in /usr/local/lib/python3.6/dist-packages (from requests->transformers==3.2.0) (2.10)\n",
            "Requirement already satisfied: certifi>=2017.4.17 in /usr/local/lib/python3.6/dist-packages (from requests->transformers==3.2.0) (2020.6.20)\n",
            "Requirement already satisfied: chardet<4,>=3.0.2 in /usr/local/lib/python3.6/dist-packages (from requests->transformers==3.2.0) (3.0.4)\n",
            "Requirement already satisfied: urllib3!=1.25.0,!=1.25.1,<1.26,>=1.21.1 in /usr/local/lib/python3.6/dist-packages (from requests->transformers==3.2.0) (1.24.3)\n",
            "Requirement already satisfied: click in /usr/local/lib/python3.6/dist-packages (from sacremoses->transformers==3.2.0) (7.1.2)\n",
            "Requirement already satisfied: joblib in /usr/local/lib/python3.6/dist-packages (from sacremoses->transformers==3.2.0) (0.16.0)\n",
            "Building wheels for collected packages: transformers\n",
            "  Building wheel for transformers (PEP 517) ... \u001b[?25l\u001b[?25hdone\n",
            "  Created wheel for transformers: filename=transformers-3.2.0-cp36-none-any.whl size=1037533 sha256=3a4453699f302aac1241ee71910dd68f553f5643c84645f94956a21f9025ffe2\n",
            "  Stored in directory: /tmp/pip-ephem-wheel-cache-ihegkh0g/wheels/70/d3/52/b3fa4f8b8ef04167ac62e5bb2accb62ae764db2a378247490e\n",
            "Successfully built transformers\n",
            "Building wheels for collected packages: sacremoses\n",
            "  Building wheel for sacremoses (setup.py) ... \u001b[?25l\u001b[?25hdone\n",
            "  Created wheel for sacremoses: filename=sacremoses-0.0.43-cp36-none-any.whl size=893257 sha256=3ca80f094f651ab5bc11c0dbe631473891f2e1eaca1e8ac74a76777ad3bdea8e\n",
            "  Stored in directory: /root/.cache/pip/wheels/29/3c/fd/7ce5c3f0666dab31a50123635e6fb5e19ceb42ce38d4e58f45\n",
            "Successfully built sacremoses\n",
            "Installing collected packages: sentencepiece, tokenizers, sacremoses, transformers\n",
            "Successfully installed sacremoses-0.0.43 sentencepiece-0.1.91 tokenizers-0.8.1rc2 transformers-3.2.0\n",
            "Collecting nlp\n",
            "\u001b[?25l  Downloading https://files.pythonhosted.org/packages/09/e3/bcdc59f3434b224040c1047769c47b82705feca2b89ebbc28311e3764782/nlp-0.4.0-py3-none-any.whl (1.7MB)\n",
            "\u001b[K     |████████████████████████████████| 1.7MB 3.4MB/s \n",
            "\u001b[?25hRequirement already satisfied, skipping upgrade: dill in /usr/local/lib/python3.6/dist-packages (from nlp) (0.3.2)\n",
            "Requirement already satisfied, skipping upgrade: filelock in /usr/local/lib/python3.6/dist-packages (from nlp) (3.0.12)\n",
            "Requirement already satisfied, skipping upgrade: numpy in /usr/local/lib/python3.6/dist-packages (from nlp) (1.18.5)\n",
            "Requirement already satisfied, skipping upgrade: requests>=2.19.0 in /usr/local/lib/python3.6/dist-packages (from nlp) (2.23.0)\n",
            "Requirement already satisfied, skipping upgrade: pandas in /usr/local/lib/python3.6/dist-packages (from nlp) (1.0.5)\n",
            "Requirement already satisfied, skipping upgrade: tqdm>=4.27 in /usr/local/lib/python3.6/dist-packages (from nlp) (4.41.1)\n",
            "Requirement already satisfied, skipping upgrade: dataclasses; python_version < \"3.7\" in /usr/local/lib/python3.6/dist-packages (from nlp) (0.7)\n",
            "Collecting pyarrow>=0.16.0\n",
            "\u001b[?25l  Downloading https://files.pythonhosted.org/packages/f3/99/0a605f016121ca314d1469dc9069e4978395bc46fda40f73099d90ad3ba4/pyarrow-1.0.1-cp36-cp36m-manylinux2014_x86_64.whl (17.3MB)\n",
            "\u001b[K     |████████████████████████████████| 17.3MB 209kB/s \n",
            "\u001b[?25hCollecting xxhash\n",
            "\u001b[?25l  Downloading https://files.pythonhosted.org/packages/f7/73/826b19f3594756cb1c6c23d2fbd8ca6a77a9cd3b650c9dec5acc85004c38/xxhash-2.0.0-cp36-cp36m-manylinux2010_x86_64.whl (242kB)\n",
            "\u001b[K     |████████████████████████████████| 245kB 57.3MB/s \n",
            "\u001b[?25hRequirement already satisfied, skipping upgrade: idna<3,>=2.5 in /usr/local/lib/python3.6/dist-packages (from requests>=2.19.0->nlp) (2.10)\n",
            "Requirement already satisfied, skipping upgrade: urllib3!=1.25.0,!=1.25.1,<1.26,>=1.21.1 in /usr/local/lib/python3.6/dist-packages (from requests>=2.19.0->nlp) (1.24.3)\n",
            "Requirement already satisfied, skipping upgrade: certifi>=2017.4.17 in /usr/local/lib/python3.6/dist-packages (from requests>=2.19.0->nlp) (2020.6.20)\n",
            "Requirement already satisfied, skipping upgrade: chardet<4,>=3.0.2 in /usr/local/lib/python3.6/dist-packages (from requests>=2.19.0->nlp) (3.0.4)\n",
            "Requirement already satisfied, skipping upgrade: pytz>=2017.2 in /usr/local/lib/python3.6/dist-packages (from pandas->nlp) (2018.9)\n",
            "Requirement already satisfied, skipping upgrade: python-dateutil>=2.6.1 in /usr/local/lib/python3.6/dist-packages (from pandas->nlp) (2.8.1)\n",
            "Requirement already satisfied, skipping upgrade: six>=1.5 in /usr/local/lib/python3.6/dist-packages (from python-dateutil>=2.6.1->pandas->nlp) (1.15.0)\n",
            "Installing collected packages: pyarrow, xxhash, nlp\n",
            "  Found existing installation: pyarrow 0.14.1\n",
            "    Uninstalling pyarrow-0.14.1:\n",
            "      Successfully uninstalled pyarrow-0.14.1\n",
            "Successfully installed nlp-0.4.0 pyarrow-1.0.1 xxhash-2.0.0\n"
          ],
          "name": "stdout"
        }
      ]
    },
    {
      "cell_type": "code",
      "metadata": {
        "_cell_guid": "b1076dfc-b9ad-4769-8c92-a6c4dae69d19",
        "_kg_hide-input": true,
        "_kg_hide-output": true,
        "_uuid": "8f2839f25d086af736a60e9eeb907d3b93b6e0e5",
        "execution": {
          "iopub.execute_input": "2020-09-05T22:08:38.748722Z",
          "iopub.status.busy": "2020-09-05T22:08:38.747472Z",
          "iopub.status.idle": "2020-09-05T22:10:15.283546Z",
          "shell.execute_reply": "2020-09-05T22:10:15.282840Z"
        },
        "papermill": {
          "duration": 96.571073,
          "end_time": "2020-09-05T22:10:15.283678",
          "exception": false,
          "start_time": "2020-09-05T22:08:38.712605",
          "status": "completed"
        },
        "tags": [],
        "colab_type": "code",
        "id": "AGetq1sCdt9w",
        "colab": {
          "base_uri": "https://localhost:8080/",
          "height": 1000
        },
        "outputId": "31f3e4cf-6564-4924-855d-9127e55db1db"
      },
      "source": [
        "!curl https://raw.githubusercontent.com/pytorch/xla/master/contrib/scripts/env-setup.py -o pytorch-xla-env-setup.py\n",
        "!python pytorch-xla-env-setup.py --version nightly  --apt-packages libomp5 libopenblas-dev"
      ],
      "execution_count": 2,
      "outputs": [
        {
          "output_type": "stream",
          "text": [
            "  % Total    % Received % Xferd  Average Speed   Time    Time     Time  Current\n",
            "                                 Dload  Upload   Total   Spent    Left  Speed\n",
            "100  5115  100  5115    0     0  27207      0 --:--:-- --:--:-- --:--:-- 27207\n",
            "Updating... This may take around 2 minutes.\n",
            "Updating TPU runtime to pytorch-nightly ...\n",
            "Collecting cloud-tpu-client\n",
            "  Downloading https://files.pythonhosted.org/packages/56/9f/7b1958c2886db06feb5de5b2c191096f9e619914b6c31fdf93999fdbbd8b/cloud_tpu_client-0.10-py3-none-any.whl\n",
            "Requirement already satisfied: oauth2client in /usr/local/lib/python3.6/dist-packages (from cloud-tpu-client) (4.1.3)\n",
            "Collecting google-api-python-client==1.8.0\n",
            "\u001b[?25l  Downloading https://files.pythonhosted.org/packages/9a/b4/a955f393b838bc47cbb6ae4643b9d0f90333d3b4db4dc1e819f36aad18cc/google_api_python_client-1.8.0-py3-none-any.whl (57kB)\n",
            "\u001b[K     |████████████████████████████████| 61kB 3.0MB/s \n",
            "\u001b[?25hRequirement already satisfied: httplib2>=0.9.1 in /usr/local/lib/python3.6/dist-packages (from oauth2client->cloud-tpu-client) (0.17.4)\n",
            "Requirement already satisfied: pyasn1>=0.1.7 in /usr/local/lib/python3.6/dist-packages (from oauth2client->cloud-tpu-client) (0.4.8)\n",
            "Requirement already satisfied: six>=1.6.1 in /usr/local/lib/python3.6/dist-packages (from oauth2client->cloud-tpu-client) (1.15.0)\n",
            "Requirement already satisfied: pyasn1-modules>=0.0.5 in /usr/local/lib/python3.6/dist-packages (from oauth2client->cloud-tpu-client) (0.2.8)\n",
            "Requirement already satisfied: rsa>=3.1.4 in /usr/local/lib/python3.6/dist-packages (from oauth2client->cloud-tpu-client) (4.6)\n",
            "Requirement already satisfied: google-api-core<2dev,>=1.13.0 in /usr/local/lib/python3.6/dist-packages (from google-api-python-client==1.8.0->cloud-tpu-client) (1.16.0)\n",
            "Uninstalling torch-1.6.0+cu101:\n",
            "Requirement already satisfied: google-auth-httplib2>=0.0.3 in /usr/local/lib/python3.6/dist-packages (from google-api-python-client==1.8.0->cloud-tpu-client) (0.0.4)\n",
            "Requirement already satisfied: uritemplate<4dev,>=3.0.0 in /usr/local/lib/python3.6/dist-packages (from google-api-python-client==1.8.0->cloud-tpu-client) (3.0.1)\n",
            "Requirement already satisfied: google-auth>=1.4.1 in /usr/local/lib/python3.6/dist-packages (from google-api-python-client==1.8.0->cloud-tpu-client) (1.17.2)\n",
            "Requirement already satisfied: protobuf>=3.4.0 in /usr/local/lib/python3.6/dist-packages (from google-api-core<2dev,>=1.13.0->google-api-python-client==1.8.0->cloud-tpu-client) (3.12.4)\n",
            "Requirement already satisfied: pytz in /usr/local/lib/python3.6/dist-packages (from google-api-core<2dev,>=1.13.0->google-api-python-client==1.8.0->cloud-tpu-client) (2018.9)\n",
            "Requirement already satisfied: requests<3.0.0dev,>=2.18.0 in /usr/local/lib/python3.6/dist-packages (from google-api-core<2dev,>=1.13.0->google-api-python-client==1.8.0->cloud-tpu-client) (2.23.0)\n",
            "Requirement already satisfied: googleapis-common-protos<2.0dev,>=1.6.0 in /usr/local/lib/python3.6/dist-packages (from google-api-core<2dev,>=1.13.0->google-api-python-client==1.8.0->cloud-tpu-client) (1.52.0)\n",
            "Requirement already satisfied: setuptools>=34.0.0 in /usr/local/lib/python3.6/dist-packages (from google-api-core<2dev,>=1.13.0->google-api-python-client==1.8.0->cloud-tpu-client) (50.3.0)\n",
            "Requirement already satisfied: cachetools<5.0,>=2.0.0 in /usr/local/lib/python3.6/dist-packages (from google-auth>=1.4.1->google-api-python-client==1.8.0->cloud-tpu-client) (4.1.1)\n",
            "Requirement already satisfied: certifi>=2017.4.17 in /usr/local/lib/python3.6/dist-packages (from requests<3.0.0dev,>=2.18.0->google-api-core<2dev,>=1.13.0->google-api-python-client==1.8.0->cloud-tpu-client) (2020.6.20)\n",
            "Requirement already satisfied: urllib3!=1.25.0,!=1.25.1,<1.26,>=1.21.1 in /usr/local/lib/python3.6/dist-packages (from requests<3.0.0dev,>=2.18.0->google-api-core<2dev,>=1.13.0->google-api-python-client==1.8.0->cloud-tpu-client) (1.24.3)\n",
            "Requirement already satisfied: idna<3,>=2.5 in /usr/local/lib/python3.6/dist-packages (from requests<3.0.0dev,>=2.18.0->google-api-core<2dev,>=1.13.0->google-api-python-client==1.8.0->cloud-tpu-client) (2.10)\n",
            "Requirement already satisfied: chardet<4,>=3.0.2 in /usr/local/lib/python3.6/dist-packages (from requests<3.0.0dev,>=2.18.0->google-api-core<2dev,>=1.13.0->google-api-python-client==1.8.0->cloud-tpu-client) (3.0.4)\n",
            "Installing collected packages: google-api-python-client, cloud-tpu-client\n",
            "  Found existing installation: google-api-python-client 1.7.12\n",
            "    Uninstalling google-api-python-client-1.7.12:\n",
            "      Successfully uninstalled google-api-python-client-1.7.12\n",
            "Successfully installed cloud-tpu-client-0.10 google-api-python-client-1.8.0\n",
            "Done updating TPU runtime\n",
            "  Successfully uninstalled torch-1.6.0+cu101\n",
            "Uninstalling torchvision-0.7.0+cu101:\n",
            "  Successfully uninstalled torchvision-0.7.0+cu101\n",
            "Copying gs://tpu-pytorch/wheels/torch-nightly-cp36-cp36m-linux_x86_64.whl...\n",
            "- [1 files][113.8 MiB/113.8 MiB]                                                \n",
            "Operation completed over 1 objects/113.8 MiB.                                    \n",
            "Copying gs://tpu-pytorch/wheels/torch_xla-nightly-cp36-cp36m-linux_x86_64.whl...\n",
            "- [1 files][128.0 MiB/128.0 MiB]                                                \n",
            "Operation completed over 1 objects/128.0 MiB.                                    \n",
            "Copying gs://tpu-pytorch/wheels/torchvision-nightly-cp36-cp36m-linux_x86_64.whl...\n",
            "/ [1 files][  2.4 MiB/  2.4 MiB]                                                \n",
            "Operation completed over 1 objects/2.4 MiB.                                      \n",
            "Processing ./torch-nightly-cp36-cp36m-linux_x86_64.whl\n",
            "Requirement already satisfied: typing-extensions in /usr/local/lib/python3.6/dist-packages (from torch==nightly) (3.7.4.3)\n",
            "Requirement already satisfied: numpy in /usr/local/lib/python3.6/dist-packages (from torch==nightly) (1.18.5)\n",
            "Requirement already satisfied: future in /usr/local/lib/python3.6/dist-packages (from torch==nightly) (0.16.0)\n",
            "Requirement already satisfied: dataclasses in /usr/local/lib/python3.6/dist-packages (from torch==nightly) (0.7)\n",
            "\u001b[31mERROR: fastai 1.0.61 requires torchvision, which is not installed.\u001b[0m\n",
            "Installing collected packages: torch\n",
            "Successfully installed torch-1.7.0a0\n",
            "Processing ./torch_xla-nightly-cp36-cp36m-linux_x86_64.whl\n",
            "Installing collected packages: torch-xla\n",
            "Successfully installed torch-xla-1.6+f32e137\n",
            "Processing ./torchvision-nightly-cp36-cp36m-linux_x86_64.whl\n",
            "Requirement already satisfied: numpy in /usr/local/lib/python3.6/dist-packages (from torchvision==nightly) (1.18.5)\n",
            "Requirement already satisfied: torch in /usr/local/lib/python3.6/dist-packages (from torchvision==nightly) (1.7.0a0)\n",
            "Requirement already satisfied: pillow>=4.1.1 in /usr/local/lib/python3.6/dist-packages (from torchvision==nightly) (7.0.0)\n",
            "Requirement already satisfied: dataclasses in /usr/local/lib/python3.6/dist-packages (from torch->torchvision==nightly) (0.7)\n",
            "Requirement already satisfied: future in /usr/local/lib/python3.6/dist-packages (from torch->torchvision==nightly) (0.16.0)\n",
            "Requirement already satisfied: typing-extensions in /usr/local/lib/python3.6/dist-packages (from torch->torchvision==nightly) (3.7.4.3)\n",
            "Installing collected packages: torchvision\n",
            "Successfully installed torchvision-0.8.0a0+8dfcff7\n",
            "Reading package lists... Done\n",
            "Building dependency tree       \n",
            "Reading state information... Done\n",
            "libopenblas-dev is already the newest version (0.2.20+ds-4).\n",
            "The following NEW packages will be installed:\n",
            "  libomp5\n",
            "0 upgraded, 1 newly installed, 0 to remove and 11 not upgraded.\n",
            "Need to get 234 kB of archives.\n",
            "After this operation, 774 kB of additional disk space will be used.\n",
            "Get:1 http://archive.ubuntu.com/ubuntu bionic/universe amd64 libomp5 amd64 5.0.1-1 [234 kB]\n",
            "Fetched 234 kB in 1s (355 kB/s)\n",
            "Selecting previously unselected package libomp5:amd64.\n",
            "(Reading database ... 144676 files and directories currently installed.)\n",
            "Preparing to unpack .../libomp5_5.0.1-1_amd64.deb ...\n",
            "Unpacking libomp5:amd64 (5.0.1-1) ...\n",
            "Setting up libomp5:amd64 (5.0.1-1) ...\n",
            "Processing triggers for libc-bin (2.27-3ubuntu1.2) ...\n",
            "/sbin/ldconfig.real: /usr/local/lib/python3.6/dist-packages/ideep4py/lib/libmkldnn.so.0 is not a symbolic link\n",
            "\n"
          ],
          "name": "stdout"
        }
      ]
    },
    {
      "cell_type": "code",
      "metadata": {
        "_cell_guid": "79c7e3d0-c299-4dcb-8224-4455121ee9b0",
        "_uuid": "d629ff2d2480ee46fbb7e2d37f6b5fab8052498a",
        "execution": {
          "iopub.execute_input": "2020-09-05T22:10:15.354859Z",
          "iopub.status.busy": "2020-09-05T22:10:15.354053Z",
          "iopub.status.idle": "2020-09-05T22:10:23.499112Z",
          "shell.execute_reply": "2020-09-05T22:10:23.498427Z"
        },
        "papermill": {
          "duration": 8.187478,
          "end_time": "2020-09-05T22:10:23.499287",
          "exception": false,
          "start_time": "2020-09-05T22:10:15.311809",
          "status": "completed"
        },
        "tags": [],
        "colab_type": "code",
        "id": "8qpj1Vwadt9z",
        "colab": {}
      },
      "source": [
        "import os\n",
        "os.environ['XLA_USE_BF16'] = \"1\"\n",
        "os.environ['XLA_TENSOR_ALLOCATOR_MAXSIZE'] = '100000000'\n",
        "\n",
        "import gc\n",
        "gc.enable()\n",
        "\n",
        "import numpy as np\n",
        "import pandas as pd\n",
        "\n",
        "import transformers\n",
        "from transformers import AutoTokenizer, AutoModelForSequenceClassification, AdamW\n",
        "\n",
        "import torch\n",
        "import torch.nn as nn\n",
        "import torch.nn.functional as F\n",
        "from torch.utils.data import DataLoader \n",
        "from torch.utils.data.distributed import DistributedSampler\n",
        "\n",
        "import torch_xla\n",
        "import torch_xla.core.xla_model as xm\n",
        "import torch_xla.debug.metrics as met\n",
        "import torch_xla.distributed.parallel_loader as pl\n",
        "import torch_xla.distributed.xla_multiprocessing as xmp\n",
        "import torch_xla.utils.serialization as xser\n",
        "import torch_xla.version as xv\n",
        "\n",
        "import warnings\n",
        "warnings.filterwarnings(\"ignore\")"
      ],
      "execution_count": 3,
      "outputs": []
    },
    {
      "cell_type": "code",
      "metadata": {
        "execution": {
          "iopub.execute_input": "2020-09-05T22:10:23.569267Z",
          "iopub.status.busy": "2020-09-05T22:10:23.568501Z",
          "iopub.status.idle": "2020-09-05T22:10:23.573136Z",
          "shell.execute_reply": "2020-09-05T22:10:23.572435Z"
        },
        "papermill": {
          "duration": 0.045398,
          "end_time": "2020-09-05T22:10:23.573331",
          "exception": false,
          "start_time": "2020-09-05T22:10:23.527933",
          "status": "completed"
        },
        "tags": [],
        "colab_type": "code",
        "id": "cvqUEzbbdt92",
        "colab": {}
      },
      "source": [
        "import random\n",
        "\n",
        "def my_seed(seed=42):\n",
        "    torch.manual_seed(seed)\n",
        "    np.random.seed(seed)\n",
        "    random.seed(seed)\n",
        "\n",
        "my_seed()"
      ],
      "execution_count": 4,
      "outputs": []
    },
    {
      "cell_type": "markdown",
      "metadata": {
        "papermill": {
          "duration": 0.036229,
          "end_time": "2020-09-05T22:11:38.510307",
          "exception": false,
          "start_time": "2020-09-05T22:11:38.474078",
          "status": "completed"
        },
        "tags": [],
        "colab_type": "text",
        "id": "Y8Fn2RyAdt_5"
      },
      "source": [
        "## Model"
      ]
    },
    {
      "cell_type": "code",
      "metadata": {
        "execution": {
          "iopub.execute_input": "2020-09-05T22:11:38.589175Z",
          "iopub.status.busy": "2020-09-05T22:11:38.588440Z",
          "iopub.status.idle": "2020-09-05T22:13:15.608403Z",
          "shell.execute_reply": "2020-09-05T22:13:15.607633Z"
        },
        "papermill": {
          "duration": 97.061659,
          "end_time": "2020-09-05T22:13:15.608558",
          "exception": false,
          "start_time": "2020-09-05T22:11:38.546899",
          "status": "completed"
        },
        "tags": [],
        "colab_type": "code",
        "id": "745HGcOJdt_6",
        "colab": {
          "base_uri": "https://localhost:8080/",
          "height": 273,
          "referenced_widgets": [
            "a52f480283aa4df5b04245491b0f9744",
            "380647b1846b40d3b73a979094c41ea7",
            "549f2264334f43fb863eb9069a2d831c",
            "902291d00ce94620a9f23a47a9e4ae7f",
            "835d0d23b1d7417da52fbc5887c47fc7",
            "2a8c857148ba495883c5a62e23531e58",
            "e36f7bb155014a16bb0c4b7edbe1471a",
            "d7dd6db53bf3415c831d859b4467052f",
            "1356df0215c14ff5aa6c087592df5910",
            "66b51844e24d4c1bb58d7ee4225451b4",
            "77ff72f9c8f94d4fb0f5b644a795ac82",
            "45359ea53c7849a2a8cdc3282e40e479",
            "10be55f5cc13481886b92c683ae142ed",
            "47d9cffde8234becab9279a6c7a9b517",
            "9fca4e4b41634a2e97a251979c142e9d",
            "c1d2cf9143334eaf995f1060fb0f4c5e",
            "6752eff06d0743b5a5dbb22a1128b689",
            "6025beb2a8224491ac3351995ded8c39",
            "fb782cd8777d494d9173d48ea040eed2",
            "ac28a716f80f47eab95af1959ae3c32d",
            "d1a5c9dc40ca4ce0b73d762ec5caeb99",
            "dec66f57371b4ea3b87b3ef4859e1a65",
            "cbaf8104c4664c58a80116a4b094fc08",
            "0dad49c7c3824796ac69c3295d4a540d"
          ]
        },
        "outputId": "5f00d936-0470-4f80-ec40-5263bac7bf0e"
      },
      "source": [
        "WRAPPED_MODEL = xmp.MpModelWrapper(AutoModelForSequenceClassification.from_pretrained(\"DrMatters/rubert_cased\"))\n",
        "tokenizer = AutoTokenizer.from_pretrained(\"DrMatters/rubert_cased\")"
      ],
      "execution_count": 5,
      "outputs": [
        {
          "output_type": "display_data",
          "data": {
            "application/vnd.jupyter.widget-view+json": {
              "model_id": "a52f480283aa4df5b04245491b0f9744",
              "version_minor": 0,
              "version_major": 2
            },
            "text/plain": [
              "HBox(children=(FloatProgress(value=0.0, description='Downloading', max=577.0, style=ProgressStyle(description_…"
            ]
          },
          "metadata": {
            "tags": []
          }
        },
        {
          "output_type": "stream",
          "text": [
            "\n"
          ],
          "name": "stdout"
        },
        {
          "output_type": "display_data",
          "data": {
            "application/vnd.jupyter.widget-view+json": {
              "model_id": "1356df0215c14ff5aa6c087592df5910",
              "version_minor": 0,
              "version_major": 2
            },
            "text/plain": [
              "HBox(children=(FloatProgress(value=0.0, description='Downloading', max=714313368.0, style=ProgressStyle(descri…"
            ]
          },
          "metadata": {
            "tags": []
          }
        },
        {
          "output_type": "stream",
          "text": [
            "\n"
          ],
          "name": "stdout"
        },
        {
          "output_type": "stream",
          "text": [
            "Some weights of the model checkpoint at DrMatters/rubert_cased were not used when initializing BertForSequenceClassification: ['cls.predictions.bias', 'cls.predictions.transform.dense.weight', 'cls.predictions.transform.dense.bias', 'cls.predictions.transform.LayerNorm.weight', 'cls.predictions.transform.LayerNorm.bias', 'cls.predictions.decoder.weight', 'cls.predictions.decoder.bias', 'cls.seq_relationship.weight', 'cls.seq_relationship.bias']\n",
            "- This IS expected if you are initializing BertForSequenceClassification from the checkpoint of a model trained on another task or with another architecture (e.g. initializing a BertForSequenceClassification model from a BertForPretraining model).\n",
            "- This IS NOT expected if you are initializing BertForSequenceClassification from the checkpoint of a model that you expect to be exactly identical (initializing a BertForSequenceClassification model from a BertForSequenceClassification model).\n",
            "Some weights of BertForSequenceClassification were not initialized from the model checkpoint at DrMatters/rubert_cased and are newly initialized: ['classifier.weight', 'classifier.bias']\n",
            "You should probably TRAIN this model on a down-stream task to be able to use it for predictions and inference.\n"
          ],
          "name": "stderr"
        },
        {
          "output_type": "display_data",
          "data": {
            "application/vnd.jupyter.widget-view+json": {
              "model_id": "6752eff06d0743b5a5dbb22a1128b689",
              "version_minor": 0,
              "version_major": 2
            },
            "text/plain": [
              "HBox(children=(FloatProgress(value=0.0, description='Downloading', max=1649718.0, style=ProgressStyle(descript…"
            ]
          },
          "metadata": {
            "tags": []
          }
        },
        {
          "output_type": "stream",
          "text": [
            "\n"
          ],
          "name": "stdout"
        }
      ]
    },
    {
      "cell_type": "markdown",
      "metadata": {
        "papermill": {
          "duration": 0.028245,
          "end_time": "2020-09-05T22:10:23.630157",
          "exception": false,
          "start_time": "2020-09-05T22:10:23.601912",
          "status": "completed"
        },
        "tags": [],
        "colab_type": "text",
        "id": "vXj5DQWidt95"
      },
      "source": [
        "## Data"
      ]
    },
    {
      "cell_type": "code",
      "metadata": {
        "id": "UK0O672Oluld",
        "colab_type": "code",
        "colab": {}
      },
      "source": [
        "train_df = pd.read_csv('/content/train.csv', delimiter=\"\\t\")"
      ],
      "execution_count": 6,
      "outputs": []
    },
    {
      "cell_type": "code",
      "metadata": {
        "id": "YyYm1TmEm24v",
        "colab_type": "code",
        "colab": {
          "base_uri": "https://localhost:8080/",
          "height": 400
        },
        "outputId": "0fbb19ef-76f4-4c25-92e8-570850415ba7"
      },
      "source": [
        "train_df"
      ],
      "execution_count": 7,
      "outputs": [
        {
          "output_type": "execute_result",
          "data": {
            "text/html": [
              "<div>\n",
              "<style scoped>\n",
              "    .dataframe tbody tr th:only-of-type {\n",
              "        vertical-align: middle;\n",
              "    }\n",
              "\n",
              "    .dataframe tbody tr th {\n",
              "        vertical-align: top;\n",
              "    }\n",
              "\n",
              "    .dataframe thead th {\n",
              "        text-align: right;\n",
              "    }\n",
              "</style>\n",
              "<table border=\"1\" class=\"dataframe\">\n",
              "  <thead>\n",
              "    <tr style=\"text-align: right;\">\n",
              "      <th></th>\n",
              "      <th>text</th>\n",
              "      <th>class</th>\n",
              "    </tr>\n",
              "  </thead>\n",
              "  <tbody>\n",
              "    <tr>\n",
              "      <th>0</th>\n",
              "      <td>В Синьцзян-Уйгурском автономном районе Китая С...</td>\n",
              "      <td>true</td>\n",
              "    </tr>\n",
              "    <tr>\n",
              "      <th>1</th>\n",
              "      <td>Режиссер Дэвид Линч один из создателей телесер...</td>\n",
              "      <td>true</td>\n",
              "    </tr>\n",
              "    <tr>\n",
              "      <th>2</th>\n",
              "      <td>Министр регионального развития России Виктор Б...</td>\n",
              "      <td>true</td>\n",
              "    </tr>\n",
              "    <tr>\n",
              "      <th>3</th>\n",
              "      <td>На несогласованной акции в поддержку украинско...</td>\n",
              "      <td>true</td>\n",
              "    </tr>\n",
              "    <tr>\n",
              "      <th>4</th>\n",
              "      <td>Госдума РФ одобрила в первом чтении законопрое...</td>\n",
              "      <td>true</td>\n",
              "    </tr>\n",
              "    <tr>\n",
              "      <th>...</th>\n",
              "      <td>...</td>\n",
              "      <td>...</td>\n",
              "    </tr>\n",
              "    <tr>\n",
              "      <th>23878</th>\n",
              "      <td>Пожар на плавучем дебаркадере в центре Москвы ...</td>\n",
              "      <td>true</td>\n",
              "    </tr>\n",
              "    <tr>\n",
              "      <th>23879</th>\n",
              "      <td>В Омске возбудили уголовное дело в отношении 6...</td>\n",
              "      <td>true</td>\n",
              "    </tr>\n",
              "    <tr>\n",
              "      <th>23880</th>\n",
              "      <td>\\n    var PROJECTID  80674\\n    function w d c...</td>\n",
              "      <td>true</td>\n",
              "    </tr>\n",
              "    <tr>\n",
              "      <th>23881</th>\n",
              "      <td>Бывший главный тренер московского футбольного ...</td>\n",
              "      <td>true</td>\n",
              "    </tr>\n",
              "    <tr>\n",
              "      <th>23882</th>\n",
              "      <td>Европейское государство Босния и Герцеговина м...</td>\n",
              "      <td>fake</td>\n",
              "    </tr>\n",
              "  </tbody>\n",
              "</table>\n",
              "<p>23883 rows × 2 columns</p>\n",
              "</div>"
            ],
            "text/plain": [
              "                                                    text class\n",
              "0      В Синьцзян-Уйгурском автономном районе Китая С...  true\n",
              "1      Режиссер Дэвид Линч один из создателей телесер...  true\n",
              "2      Министр регионального развития России Виктор Б...  true\n",
              "3      На несогласованной акции в поддержку украинско...  true\n",
              "4      Госдума РФ одобрила в первом чтении законопрое...  true\n",
              "...                                                  ...   ...\n",
              "23878  Пожар на плавучем дебаркадере в центре Москвы ...  true\n",
              "23879  В Омске возбудили уголовное дело в отношении 6...  true\n",
              "23880  \\n    var PROJECTID  80674\\n    function w d c...  true\n",
              "23881  Бывший главный тренер московского футбольного ...  true\n",
              "23882  Европейское государство Босния и Герцеговина м...  fake\n",
              "\n",
              "[23883 rows x 2 columns]"
            ]
          },
          "metadata": {
            "tags": []
          },
          "execution_count": 7
        }
      ]
    },
    {
      "cell_type": "code",
      "metadata": {
        "id": "kouTb8satevE",
        "colab_type": "code",
        "colab": {
          "base_uri": "https://localhost:8080/",
          "height": 175
        },
        "outputId": "65b1a55e-f085-4f51-a138-3708646555e5"
      },
      "source": [
        "train_df.info()"
      ],
      "execution_count": 8,
      "outputs": [
        {
          "output_type": "stream",
          "text": [
            "<class 'pandas.core.frame.DataFrame'>\n",
            "RangeIndex: 23883 entries, 0 to 23882\n",
            "Data columns (total 2 columns):\n",
            " #   Column  Non-Null Count  Dtype \n",
            "---  ------  --------------  ----- \n",
            " 0   text    23878 non-null  object\n",
            " 1   class   23883 non-null  object\n",
            "dtypes: object(2)\n",
            "memory usage: 373.3+ KB\n"
          ],
          "name": "stdout"
        }
      ]
    },
    {
      "cell_type": "code",
      "metadata": {
        "id": "xVAGVI5jm6_Z",
        "colab_type": "code",
        "colab": {
          "base_uri": "https://localhost:8080/",
          "height": 69
        },
        "outputId": "371e0ca0-d53f-4855-bbbd-ef46f7fe39cb"
      },
      "source": [
        "train_df['class'].value_counts()"
      ],
      "execution_count": 9,
      "outputs": [
        {
          "output_type": "execute_result",
          "data": {
            "text/plain": [
              "true    19919\n",
              "fake     3964\n",
              "Name: class, dtype: int64"
            ]
          },
          "metadata": {
            "tags": []
          },
          "execution_count": 9
        }
      ]
    },
    {
      "cell_type": "markdown",
      "metadata": {
        "id": "Byj323QNMYrk",
        "colab_type": "text"
      },
      "source": [
        "Удаляем строки с пустым text"
      ]
    },
    {
      "cell_type": "code",
      "metadata": {
        "id": "S-azgsMFxTkn",
        "colab_type": "code",
        "colab": {}
      },
      "source": [
        "train_df.dropna(inplace=True)"
      ],
      "execution_count": 10,
      "outputs": []
    },
    {
      "cell_type": "code",
      "metadata": {
        "id": "3XLan7Akx_xK",
        "colab_type": "code",
        "colab": {}
      },
      "source": [
        "train_df.reset_index(drop=True, inplace=True)"
      ],
      "execution_count": 11,
      "outputs": []
    },
    {
      "cell_type": "code",
      "metadata": {
        "id": "hxRf256fxfgc",
        "colab_type": "code",
        "colab": {
          "base_uri": "https://localhost:8080/",
          "height": 175
        },
        "outputId": "8fd34663-f62f-4e35-fbe4-b0f99639d753"
      },
      "source": [
        "train_df.info()"
      ],
      "execution_count": 12,
      "outputs": [
        {
          "output_type": "stream",
          "text": [
            "<class 'pandas.core.frame.DataFrame'>\n",
            "RangeIndex: 23878 entries, 0 to 23877\n",
            "Data columns (total 2 columns):\n",
            " #   Column  Non-Null Count  Dtype \n",
            "---  ------  --------------  ----- \n",
            " 0   text    23878 non-null  object\n",
            " 1   class   23878 non-null  object\n",
            "dtypes: object(2)\n",
            "memory usage: 373.2+ KB\n"
          ],
          "name": "stdout"
        }
      ]
    },
    {
      "cell_type": "code",
      "metadata": {
        "id": "X7zUqln7y1Eo",
        "colab_type": "code",
        "colab": {
          "base_uri": "https://localhost:8080/",
          "height": 400
        },
        "outputId": "4d94618e-e336-4364-f1f7-23c3d9eb3ddd"
      },
      "source": [
        "train_df"
      ],
      "execution_count": 13,
      "outputs": [
        {
          "output_type": "execute_result",
          "data": {
            "text/html": [
              "<div>\n",
              "<style scoped>\n",
              "    .dataframe tbody tr th:only-of-type {\n",
              "        vertical-align: middle;\n",
              "    }\n",
              "\n",
              "    .dataframe tbody tr th {\n",
              "        vertical-align: top;\n",
              "    }\n",
              "\n",
              "    .dataframe thead th {\n",
              "        text-align: right;\n",
              "    }\n",
              "</style>\n",
              "<table border=\"1\" class=\"dataframe\">\n",
              "  <thead>\n",
              "    <tr style=\"text-align: right;\">\n",
              "      <th></th>\n",
              "      <th>text</th>\n",
              "      <th>class</th>\n",
              "    </tr>\n",
              "  </thead>\n",
              "  <tbody>\n",
              "    <tr>\n",
              "      <th>0</th>\n",
              "      <td>В Синьцзян-Уйгурском автономном районе Китая С...</td>\n",
              "      <td>true</td>\n",
              "    </tr>\n",
              "    <tr>\n",
              "      <th>1</th>\n",
              "      <td>Режиссер Дэвид Линч один из создателей телесер...</td>\n",
              "      <td>true</td>\n",
              "    </tr>\n",
              "    <tr>\n",
              "      <th>2</th>\n",
              "      <td>Министр регионального развития России Виктор Б...</td>\n",
              "      <td>true</td>\n",
              "    </tr>\n",
              "    <tr>\n",
              "      <th>3</th>\n",
              "      <td>На несогласованной акции в поддержку украинско...</td>\n",
              "      <td>true</td>\n",
              "    </tr>\n",
              "    <tr>\n",
              "      <th>4</th>\n",
              "      <td>Госдума РФ одобрила в первом чтении законопрое...</td>\n",
              "      <td>true</td>\n",
              "    </tr>\n",
              "    <tr>\n",
              "      <th>...</th>\n",
              "      <td>...</td>\n",
              "      <td>...</td>\n",
              "    </tr>\n",
              "    <tr>\n",
              "      <th>23873</th>\n",
              "      <td>Пожар на плавучем дебаркадере в центре Москвы ...</td>\n",
              "      <td>true</td>\n",
              "    </tr>\n",
              "    <tr>\n",
              "      <th>23874</th>\n",
              "      <td>В Омске возбудили уголовное дело в отношении 6...</td>\n",
              "      <td>true</td>\n",
              "    </tr>\n",
              "    <tr>\n",
              "      <th>23875</th>\n",
              "      <td>\\n    var PROJECTID  80674\\n    function w d c...</td>\n",
              "      <td>true</td>\n",
              "    </tr>\n",
              "    <tr>\n",
              "      <th>23876</th>\n",
              "      <td>Бывший главный тренер московского футбольного ...</td>\n",
              "      <td>true</td>\n",
              "    </tr>\n",
              "    <tr>\n",
              "      <th>23877</th>\n",
              "      <td>Европейское государство Босния и Герцеговина м...</td>\n",
              "      <td>fake</td>\n",
              "    </tr>\n",
              "  </tbody>\n",
              "</table>\n",
              "<p>23878 rows × 2 columns</p>\n",
              "</div>"
            ],
            "text/plain": [
              "                                                    text class\n",
              "0      В Синьцзян-Уйгурском автономном районе Китая С...  true\n",
              "1      Режиссер Дэвид Линч один из создателей телесер...  true\n",
              "2      Министр регионального развития России Виктор Б...  true\n",
              "3      На несогласованной акции в поддержку украинско...  true\n",
              "4      Госдума РФ одобрила в первом чтении законопрое...  true\n",
              "...                                                  ...   ...\n",
              "23873  Пожар на плавучем дебаркадере в центре Москвы ...  true\n",
              "23874  В Омске возбудили уголовное дело в отношении 6...  true\n",
              "23875  \\n    var PROJECTID  80674\\n    function w d c...  true\n",
              "23876  Бывший главный тренер московского футбольного ...  true\n",
              "23877  Европейское государство Босния и Герцеговина м...  fake\n",
              "\n",
              "[23878 rows x 2 columns]"
            ]
          },
          "metadata": {
            "tags": []
          },
          "execution_count": 13
        }
      ]
    },
    {
      "cell_type": "code",
      "metadata": {
        "id": "5NJfLgaW1Zhi",
        "colab_type": "code",
        "colab": {
          "base_uri": "https://localhost:8080/",
          "height": 69
        },
        "outputId": "3d7cc62c-9c67-4ad2-89e7-950f1948bb7e"
      },
      "source": [
        "train_df['class'].value_counts()"
      ],
      "execution_count": 14,
      "outputs": [
        {
          "output_type": "execute_result",
          "data": {
            "text/plain": [
              "true    19914\n",
              "fake     3964\n",
              "Name: class, dtype: int64"
            ]
          },
          "metadata": {
            "tags": []
          },
          "execution_count": 14
        }
      ]
    },
    {
      "cell_type": "markdown",
      "metadata": {
        "id": "k1PJOreXM2p0",
        "colab_type": "text"
      },
      "source": [
        "Преобразуем метки классов в 0 и 1"
      ]
    },
    {
      "cell_type": "code",
      "metadata": {
        "id": "xzutUtjVGNLD",
        "colab_type": "code",
        "colab": {}
      },
      "source": [
        "from sklearn.preprocessing import LabelBinarizer\n",
        "binarizer = LabelBinarizer()\n",
        "\n",
        "train_df['class'] = binarizer.fit_transform(train_df['class'])"
      ],
      "execution_count": 15,
      "outputs": []
    },
    {
      "cell_type": "code",
      "metadata": {
        "id": "jgSpuX6WGZpl",
        "colab_type": "code",
        "colab": {
          "base_uri": "https://localhost:8080/",
          "height": 400
        },
        "outputId": "b489c514-8b6c-4e5d-a5b5-57ed5285ef0a"
      },
      "source": [
        "train_df"
      ],
      "execution_count": 16,
      "outputs": [
        {
          "output_type": "execute_result",
          "data": {
            "text/html": [
              "<div>\n",
              "<style scoped>\n",
              "    .dataframe tbody tr th:only-of-type {\n",
              "        vertical-align: middle;\n",
              "    }\n",
              "\n",
              "    .dataframe tbody tr th {\n",
              "        vertical-align: top;\n",
              "    }\n",
              "\n",
              "    .dataframe thead th {\n",
              "        text-align: right;\n",
              "    }\n",
              "</style>\n",
              "<table border=\"1\" class=\"dataframe\">\n",
              "  <thead>\n",
              "    <tr style=\"text-align: right;\">\n",
              "      <th></th>\n",
              "      <th>text</th>\n",
              "      <th>class</th>\n",
              "    </tr>\n",
              "  </thead>\n",
              "  <tbody>\n",
              "    <tr>\n",
              "      <th>0</th>\n",
              "      <td>В Синьцзян-Уйгурском автономном районе Китая С...</td>\n",
              "      <td>1</td>\n",
              "    </tr>\n",
              "    <tr>\n",
              "      <th>1</th>\n",
              "      <td>Режиссер Дэвид Линч один из создателей телесер...</td>\n",
              "      <td>1</td>\n",
              "    </tr>\n",
              "    <tr>\n",
              "      <th>2</th>\n",
              "      <td>Министр регионального развития России Виктор Б...</td>\n",
              "      <td>1</td>\n",
              "    </tr>\n",
              "    <tr>\n",
              "      <th>3</th>\n",
              "      <td>На несогласованной акции в поддержку украинско...</td>\n",
              "      <td>1</td>\n",
              "    </tr>\n",
              "    <tr>\n",
              "      <th>4</th>\n",
              "      <td>Госдума РФ одобрила в первом чтении законопрое...</td>\n",
              "      <td>1</td>\n",
              "    </tr>\n",
              "    <tr>\n",
              "      <th>...</th>\n",
              "      <td>...</td>\n",
              "      <td>...</td>\n",
              "    </tr>\n",
              "    <tr>\n",
              "      <th>23873</th>\n",
              "      <td>Пожар на плавучем дебаркадере в центре Москвы ...</td>\n",
              "      <td>1</td>\n",
              "    </tr>\n",
              "    <tr>\n",
              "      <th>23874</th>\n",
              "      <td>В Омске возбудили уголовное дело в отношении 6...</td>\n",
              "      <td>1</td>\n",
              "    </tr>\n",
              "    <tr>\n",
              "      <th>23875</th>\n",
              "      <td>\\n    var PROJECTID  80674\\n    function w d c...</td>\n",
              "      <td>1</td>\n",
              "    </tr>\n",
              "    <tr>\n",
              "      <th>23876</th>\n",
              "      <td>Бывший главный тренер московского футбольного ...</td>\n",
              "      <td>1</td>\n",
              "    </tr>\n",
              "    <tr>\n",
              "      <th>23877</th>\n",
              "      <td>Европейское государство Босния и Герцеговина м...</td>\n",
              "      <td>0</td>\n",
              "    </tr>\n",
              "  </tbody>\n",
              "</table>\n",
              "<p>23878 rows × 2 columns</p>\n",
              "</div>"
            ],
            "text/plain": [
              "                                                    text  class\n",
              "0      В Синьцзян-Уйгурском автономном районе Китая С...      1\n",
              "1      Режиссер Дэвид Линч один из создателей телесер...      1\n",
              "2      Министр регионального развития России Виктор Б...      1\n",
              "3      На несогласованной акции в поддержку украинско...      1\n",
              "4      Госдума РФ одобрила в первом чтении законопрое...      1\n",
              "...                                                  ...    ...\n",
              "23873  Пожар на плавучем дебаркадере в центре Москвы ...      1\n",
              "23874  В Омске возбудили уголовное дело в отношении 6...      1\n",
              "23875  \\n    var PROJECTID  80674\\n    function w d c...      1\n",
              "23876  Бывший главный тренер московского футбольного ...      1\n",
              "23877  Европейское государство Босния и Герцеговина м...      0\n",
              "\n",
              "[23878 rows x 2 columns]"
            ]
          },
          "metadata": {
            "tags": []
          },
          "execution_count": 16
        }
      ]
    },
    {
      "cell_type": "code",
      "metadata": {
        "id": "ic9p9k24NU-P",
        "colab_type": "code",
        "colab": {
          "base_uri": "https://localhost:8080/",
          "height": 69
        },
        "outputId": "f4a2dc60-d6df-4339-c713-f17fb51f18d7"
      },
      "source": [
        "train_df['class'].value_counts()"
      ],
      "execution_count": 17,
      "outputs": [
        {
          "output_type": "execute_result",
          "data": {
            "text/plain": [
              "1    19914\n",
              "0     3964\n",
              "Name: class, dtype: int64"
            ]
          },
          "metadata": {
            "tags": []
          },
          "execution_count": 17
        }
      ]
    },
    {
      "cell_type": "markdown",
      "metadata": {
        "id": "IiwPRnUmpjXL",
        "colab_type": "text"
      },
      "source": [
        "Разделим на датасеты для обучения и валидации"
      ]
    },
    {
      "cell_type": "code",
      "metadata": {
        "id": "12WPA_D2ZvPG",
        "colab_type": "code",
        "colab": {}
      },
      "source": [
        "from sklearn.model_selection import train_test_split\n",
        "train_df, valid_df = train_test_split(train_df, test_size=1024, random_state=42)"
      ],
      "execution_count": 18,
      "outputs": []
    },
    {
      "cell_type": "code",
      "metadata": {
        "id": "nUaMM6WOfF5h",
        "colab_type": "code",
        "colab": {
          "base_uri": "https://localhost:8080/",
          "height": 400
        },
        "outputId": "ccfee618-d4ab-4b1c-fcc8-5d1613c3069b"
      },
      "source": [
        "train_df"
      ],
      "execution_count": 19,
      "outputs": [
        {
          "output_type": "execute_result",
          "data": {
            "text/html": [
              "<div>\n",
              "<style scoped>\n",
              "    .dataframe tbody tr th:only-of-type {\n",
              "        vertical-align: middle;\n",
              "    }\n",
              "\n",
              "    .dataframe tbody tr th {\n",
              "        vertical-align: top;\n",
              "    }\n",
              "\n",
              "    .dataframe thead th {\n",
              "        text-align: right;\n",
              "    }\n",
              "</style>\n",
              "<table border=\"1\" class=\"dataframe\">\n",
              "  <thead>\n",
              "    <tr style=\"text-align: right;\">\n",
              "      <th></th>\n",
              "      <th>text</th>\n",
              "      <th>class</th>\n",
              "    </tr>\n",
              "  </thead>\n",
              "  <tbody>\n",
              "    <tr>\n",
              "      <th>21835</th>\n",
              "      <td>Фактическое отсутствие венчурного финансирован...</td>\n",
              "      <td>1</td>\n",
              "    </tr>\n",
              "    <tr>\n",
              "      <th>2923</th>\n",
              "      <td>В Липецкой области у мужчины при попытке устро...</td>\n",
              "      <td>1</td>\n",
              "    </tr>\n",
              "    <tr>\n",
              "      <th>6888</th>\n",
              "      <td>В результате обрушения стены строящегося здани...</td>\n",
              "      <td>1</td>\n",
              "    </tr>\n",
              "    <tr>\n",
              "      <th>8149</th>\n",
              "      <td>Москва не видит причин для ввода новых экономи...</td>\n",
              "      <td>1</td>\n",
              "    </tr>\n",
              "    <tr>\n",
              "      <th>4189</th>\n",
              "      <td>Боевики группировки Исламское государство ИГ к...</td>\n",
              "      <td>1</td>\n",
              "    </tr>\n",
              "    <tr>\n",
              "      <th>...</th>\n",
              "      <td>...</td>\n",
              "      <td>...</td>\n",
              "    </tr>\n",
              "    <tr>\n",
              "      <th>21575</th>\n",
              "      <td>Об организации в противовес западному Хеллоуин...</td>\n",
              "      <td>0</td>\n",
              "    </tr>\n",
              "    <tr>\n",
              "      <th>5390</th>\n",
              "      <td>Сирия нашла нового покупателя на свою черешню,...</td>\n",
              "      <td>1</td>\n",
              "    </tr>\n",
              "    <tr>\n",
              "      <th>860</th>\n",
              "      <td>Закон, определяющий территорию самопровозглаше...</td>\n",
              "      <td>1</td>\n",
              "    </tr>\n",
              "    <tr>\n",
              "      <th>15795</th>\n",
              "      <td>Президент России Дмитрий Медведев одобрил пред...</td>\n",
              "      <td>1</td>\n",
              "    </tr>\n",
              "    <tr>\n",
              "      <th>23654</th>\n",
              "      <td>Экипажи самолетов авиакомпании British Airways...</td>\n",
              "      <td>1</td>\n",
              "    </tr>\n",
              "  </tbody>\n",
              "</table>\n",
              "<p>22854 rows × 2 columns</p>\n",
              "</div>"
            ],
            "text/plain": [
              "                                                    text  class\n",
              "21835  Фактическое отсутствие венчурного финансирован...      1\n",
              "2923   В Липецкой области у мужчины при попытке устро...      1\n",
              "6888   В результате обрушения стены строящегося здани...      1\n",
              "8149   Москва не видит причин для ввода новых экономи...      1\n",
              "4189   Боевики группировки Исламское государство ИГ к...      1\n",
              "...                                                  ...    ...\n",
              "21575  Об организации в противовес западному Хеллоуин...      0\n",
              "5390   Сирия нашла нового покупателя на свою черешню,...      1\n",
              "860    Закон, определяющий территорию самопровозглаше...      1\n",
              "15795  Президент России Дмитрий Медведев одобрил пред...      1\n",
              "23654  Экипажи самолетов авиакомпании British Airways...      1\n",
              "\n",
              "[22854 rows x 2 columns]"
            ]
          },
          "metadata": {
            "tags": []
          },
          "execution_count": 19
        }
      ]
    },
    {
      "cell_type": "code",
      "metadata": {
        "id": "EXLA8hw6fGxK",
        "colab_type": "code",
        "colab": {
          "base_uri": "https://localhost:8080/",
          "height": 400
        },
        "outputId": "c5a3af07-8e2d-448f-c3dd-230b06c0f1c9"
      },
      "source": [
        "valid_df"
      ],
      "execution_count": 20,
      "outputs": [
        {
          "output_type": "execute_result",
          "data": {
            "text/html": [
              "<div>\n",
              "<style scoped>\n",
              "    .dataframe tbody tr th:only-of-type {\n",
              "        vertical-align: middle;\n",
              "    }\n",
              "\n",
              "    .dataframe tbody tr th {\n",
              "        vertical-align: top;\n",
              "    }\n",
              "\n",
              "    .dataframe thead th {\n",
              "        text-align: right;\n",
              "    }\n",
              "</style>\n",
              "<table border=\"1\" class=\"dataframe\">\n",
              "  <thead>\n",
              "    <tr style=\"text-align: right;\">\n",
              "      <th></th>\n",
              "      <th>text</th>\n",
              "      <th>class</th>\n",
              "    </tr>\n",
              "  </thead>\n",
              "  <tbody>\n",
              "    <tr>\n",
              "      <th>12635</th>\n",
              "      <td>В ЕС считают неполным отвод вооружений украинс...</td>\n",
              "      <td>1</td>\n",
              "    </tr>\n",
              "    <tr>\n",
              "      <th>19667</th>\n",
              "      <td>В Подмосковье убит бывший руководитель аэропор...</td>\n",
              "      <td>1</td>\n",
              "    </tr>\n",
              "    <tr>\n",
              "      <th>20987</th>\n",
              "      <td>\\n  function catchOutboundClicklink \\n      li...</td>\n",
              "      <td>1</td>\n",
              "    </tr>\n",
              "    <tr>\n",
              "      <th>11961</th>\n",
              "      <td>Турецкая экономическая газета Dunya со ссылкой...</td>\n",
              "      <td>1</td>\n",
              "    </tr>\n",
              "    <tr>\n",
              "      <th>4413</th>\n",
              "      <td>Все высшие должностные лица Российской Федерац...</td>\n",
              "      <td>1</td>\n",
              "    </tr>\n",
              "    <tr>\n",
              "      <th>...</th>\n",
              "      <td>...</td>\n",
              "      <td>...</td>\n",
              "    </tr>\n",
              "    <tr>\n",
              "      <th>10696</th>\n",
              "      <td>Белоруссия ведет переговоры с Ираном о поставк...</td>\n",
              "      <td>1</td>\n",
              "    </tr>\n",
              "    <tr>\n",
              "      <th>7558</th>\n",
              "      <td>В прошлом внутренности комет были жидкими - та...</td>\n",
              "      <td>1</td>\n",
              "    </tr>\n",
              "    <tr>\n",
              "      <th>3213</th>\n",
              "      <td>На фоне обвинений звучащих в Конгрессе США в а...</td>\n",
              "      <td>0</td>\n",
              "    </tr>\n",
              "    <tr>\n",
              "      <th>11259</th>\n",
              "      <td>Двое граждан Германии похищены на востоке Лива...</td>\n",
              "      <td>1</td>\n",
              "    </tr>\n",
              "    <tr>\n",
              "      <th>2393</th>\n",
              "      <td>На складе аэропорта в венесуэльском городе Вал...</td>\n",
              "      <td>1</td>\n",
              "    </tr>\n",
              "  </tbody>\n",
              "</table>\n",
              "<p>1024 rows × 2 columns</p>\n",
              "</div>"
            ],
            "text/plain": [
              "                                                    text  class\n",
              "12635  В ЕС считают неполным отвод вооружений украинс...      1\n",
              "19667  В Подмосковье убит бывший руководитель аэропор...      1\n",
              "20987  \\n  function catchOutboundClicklink \\n      li...      1\n",
              "11961  Турецкая экономическая газета Dunya со ссылкой...      1\n",
              "4413   Все высшие должностные лица Российской Федерац...      1\n",
              "...                                                  ...    ...\n",
              "10696  Белоруссия ведет переговоры с Ираном о поставк...      1\n",
              "7558   В прошлом внутренности комет были жидкими - та...      1\n",
              "3213   На фоне обвинений звучащих в Конгрессе США в а...      0\n",
              "11259  Двое граждан Германии похищены на востоке Лива...      1\n",
              "2393   На складе аэропорта в венесуэльском городе Вал...      1\n",
              "\n",
              "[1024 rows x 2 columns]"
            ]
          },
          "metadata": {
            "tags": []
          },
          "execution_count": 20
        }
      ]
    },
    {
      "cell_type": "markdown",
      "metadata": {
        "id": "4Pvh0bSfpwYD",
        "colab_type": "text"
      },
      "source": [
        "Считаем тестовый набор данных"
      ]
    },
    {
      "cell_type": "code",
      "metadata": {
        "id": "KsEvl-Smlzw1",
        "colab_type": "code",
        "colab": {}
      },
      "source": [
        "test_df = pd.read_csv('/content/test.csv', delimiter=\"\\t\")"
      ],
      "execution_count": 21,
      "outputs": []
    },
    {
      "cell_type": "code",
      "metadata": {
        "id": "0nS6nViNl7pW",
        "colab_type": "code",
        "colab": {
          "base_uri": "https://localhost:8080/",
          "height": 400
        },
        "outputId": "b261817b-1a4d-452b-984d-ae61eebe466a"
      },
      "source": [
        "test_df"
      ],
      "execution_count": 22,
      "outputs": [
        {
          "output_type": "execute_result",
          "data": {
            "text/html": [
              "<div>\n",
              "<style scoped>\n",
              "    .dataframe tbody tr th:only-of-type {\n",
              "        vertical-align: middle;\n",
              "    }\n",
              "\n",
              "    .dataframe tbody tr th {\n",
              "        vertical-align: top;\n",
              "    }\n",
              "\n",
              "    .dataframe thead th {\n",
              "        text-align: right;\n",
              "    }\n",
              "</style>\n",
              "<table border=\"1\" class=\"dataframe\">\n",
              "  <thead>\n",
              "    <tr style=\"text-align: right;\">\n",
              "      <th></th>\n",
              "      <th>text</th>\n",
              "      <th>class</th>\n",
              "    </tr>\n",
              "  </thead>\n",
              "  <tbody>\n",
              "    <tr>\n",
              "      <th>0</th>\n",
              "      <td>Британское министерство информации приняло дек...</td>\n",
              "      <td>NaN</td>\n",
              "    </tr>\n",
              "    <tr>\n",
              "      <th>1</th>\n",
              "      <td>Альбом \"Chief\" кантри-исполнителя Эрика Черча ...</td>\n",
              "      <td>NaN</td>\n",
              "    </tr>\n",
              "    <tr>\n",
              "      <th>2</th>\n",
              "      <td>Новый вид микрокредитных организаций появился ...</td>\n",
              "      <td>NaN</td>\n",
              "    </tr>\n",
              "    <tr>\n",
              "      <th>3</th>\n",
              "      <td>Один из крупнейших торговых комплексов Москвы ...</td>\n",
              "      <td>NaN</td>\n",
              "    </tr>\n",
              "    <tr>\n",
              "      <th>4</th>\n",
              "      <td>Министерство обороны Белоруссии приостановила ...</td>\n",
              "      <td>NaN</td>\n",
              "    </tr>\n",
              "    <tr>\n",
              "      <th>...</th>\n",
              "      <td>...</td>\n",
              "      <td>...</td>\n",
              "    </tr>\n",
              "    <tr>\n",
              "      <th>6019</th>\n",
              "      <td>Представители интернет-сообщества попросили Го...</td>\n",
              "      <td>NaN</td>\n",
              "    </tr>\n",
              "    <tr>\n",
              "      <th>6020</th>\n",
              "      <td>Московские кришнаиты как и было запланировано ...</td>\n",
              "      <td>NaN</td>\n",
              "    </tr>\n",
              "    <tr>\n",
              "      <th>6021</th>\n",
              "      <td>Компания Fox Broadcasting договорились с опера...</td>\n",
              "      <td>NaN</td>\n",
              "    </tr>\n",
              "    <tr>\n",
              "      <th>6022</th>\n",
              "      <td>Гражданка Великобритании Джорджина Чайлдс задо...</td>\n",
              "      <td>NaN</td>\n",
              "    </tr>\n",
              "    <tr>\n",
              "      <th>6023</th>\n",
              "      <td>Участники экологических движений заблокировали...</td>\n",
              "      <td>NaN</td>\n",
              "    </tr>\n",
              "  </tbody>\n",
              "</table>\n",
              "<p>6024 rows × 2 columns</p>\n",
              "</div>"
            ],
            "text/plain": [
              "                                                   text  class\n",
              "0     Британское министерство информации приняло дек...    NaN\n",
              "1     Альбом \"Chief\" кантри-исполнителя Эрика Черча ...    NaN\n",
              "2     Новый вид микрокредитных организаций появился ...    NaN\n",
              "3     Один из крупнейших торговых комплексов Москвы ...    NaN\n",
              "4     Министерство обороны Белоруссии приостановила ...    NaN\n",
              "...                                                 ...    ...\n",
              "6019  Представители интернет-сообщества попросили Го...    NaN\n",
              "6020  Московские кришнаиты как и было запланировано ...    NaN\n",
              "6021  Компания Fox Broadcasting договорились с опера...    NaN\n",
              "6022  Гражданка Великобритании Джорджина Чайлдс задо...    NaN\n",
              "6023  Участники экологических движений заблокировали...    NaN\n",
              "\n",
              "[6024 rows x 2 columns]"
            ]
          },
          "metadata": {
            "tags": []
          },
          "execution_count": 22
        }
      ]
    },
    {
      "cell_type": "code",
      "metadata": {
        "id": "RFu8A8FR1LLV",
        "colab_type": "code",
        "colab": {
          "base_uri": "https://localhost:8080/",
          "height": 175
        },
        "outputId": "29249749-94c1-4fff-995a-b53497672f8f"
      },
      "source": [
        "test_df.info()"
      ],
      "execution_count": 23,
      "outputs": [
        {
          "output_type": "stream",
          "text": [
            "<class 'pandas.core.frame.DataFrame'>\n",
            "RangeIndex: 6024 entries, 0 to 6023\n",
            "Data columns (total 2 columns):\n",
            " #   Column  Non-Null Count  Dtype  \n",
            "---  ------  --------------  -----  \n",
            " 0   text    6024 non-null   object \n",
            " 1   class   0 non-null      float64\n",
            "dtypes: float64(1), object(1)\n",
            "memory usage: 94.2+ KB\n"
          ],
          "name": "stdout"
        }
      ]
    },
    {
      "cell_type": "code",
      "metadata": {
        "id": "uJxZnzxzk6Vl",
        "colab_type": "code",
        "colab": {}
      },
      "source": [
        "test_df.drop(columns=['class'], inplace=True)"
      ],
      "execution_count": 24,
      "outputs": []
    },
    {
      "cell_type": "code",
      "metadata": {
        "id": "piqS9EdilCDz",
        "colab_type": "code",
        "colab": {
          "base_uri": "https://localhost:8080/",
          "height": 400
        },
        "outputId": "3b7c68ff-e41e-4d6a-a7ce-b9f6dd4df1d2"
      },
      "source": [
        "test_df"
      ],
      "execution_count": 25,
      "outputs": [
        {
          "output_type": "execute_result",
          "data": {
            "text/html": [
              "<div>\n",
              "<style scoped>\n",
              "    .dataframe tbody tr th:only-of-type {\n",
              "        vertical-align: middle;\n",
              "    }\n",
              "\n",
              "    .dataframe tbody tr th {\n",
              "        vertical-align: top;\n",
              "    }\n",
              "\n",
              "    .dataframe thead th {\n",
              "        text-align: right;\n",
              "    }\n",
              "</style>\n",
              "<table border=\"1\" class=\"dataframe\">\n",
              "  <thead>\n",
              "    <tr style=\"text-align: right;\">\n",
              "      <th></th>\n",
              "      <th>text</th>\n",
              "    </tr>\n",
              "  </thead>\n",
              "  <tbody>\n",
              "    <tr>\n",
              "      <th>0</th>\n",
              "      <td>Британское министерство информации приняло дек...</td>\n",
              "    </tr>\n",
              "    <tr>\n",
              "      <th>1</th>\n",
              "      <td>Альбом \"Chief\" кантри-исполнителя Эрика Черча ...</td>\n",
              "    </tr>\n",
              "    <tr>\n",
              "      <th>2</th>\n",
              "      <td>Новый вид микрокредитных организаций появился ...</td>\n",
              "    </tr>\n",
              "    <tr>\n",
              "      <th>3</th>\n",
              "      <td>Один из крупнейших торговых комплексов Москвы ...</td>\n",
              "    </tr>\n",
              "    <tr>\n",
              "      <th>4</th>\n",
              "      <td>Министерство обороны Белоруссии приостановила ...</td>\n",
              "    </tr>\n",
              "    <tr>\n",
              "      <th>...</th>\n",
              "      <td>...</td>\n",
              "    </tr>\n",
              "    <tr>\n",
              "      <th>6019</th>\n",
              "      <td>Представители интернет-сообщества попросили Го...</td>\n",
              "    </tr>\n",
              "    <tr>\n",
              "      <th>6020</th>\n",
              "      <td>Московские кришнаиты как и было запланировано ...</td>\n",
              "    </tr>\n",
              "    <tr>\n",
              "      <th>6021</th>\n",
              "      <td>Компания Fox Broadcasting договорились с опера...</td>\n",
              "    </tr>\n",
              "    <tr>\n",
              "      <th>6022</th>\n",
              "      <td>Гражданка Великобритании Джорджина Чайлдс задо...</td>\n",
              "    </tr>\n",
              "    <tr>\n",
              "      <th>6023</th>\n",
              "      <td>Участники экологических движений заблокировали...</td>\n",
              "    </tr>\n",
              "  </tbody>\n",
              "</table>\n",
              "<p>6024 rows × 1 columns</p>\n",
              "</div>"
            ],
            "text/plain": [
              "                                                   text\n",
              "0     Британское министерство информации приняло дек...\n",
              "1     Альбом \"Chief\" кантри-исполнителя Эрика Черча ...\n",
              "2     Новый вид микрокредитных организаций появился ...\n",
              "3     Один из крупнейших торговых комплексов Москвы ...\n",
              "4     Министерство обороны Белоруссии приостановила ...\n",
              "...                                                 ...\n",
              "6019  Представители интернет-сообщества попросили Го...\n",
              "6020  Московские кришнаиты как и было запланировано ...\n",
              "6021  Компания Fox Broadcasting договорились с опера...\n",
              "6022  Гражданка Великобритании Джорджина Чайлдс задо...\n",
              "6023  Участники экологических движений заблокировали...\n",
              "\n",
              "[6024 rows x 1 columns]"
            ]
          },
          "metadata": {
            "tags": []
          },
          "execution_count": 25
        }
      ]
    },
    {
      "cell_type": "markdown",
      "metadata": {
        "papermill": {
          "duration": 0.038143,
          "end_time": "2020-09-05T22:13:15.685456",
          "exception": false,
          "start_time": "2020-09-05T22:13:15.647313",
          "status": "completed"
        },
        "tags": [],
        "colab_type": "text",
        "id": "dHo-OozMdt_8"
      },
      "source": [
        "## Datasets"
      ]
    },
    {
      "cell_type": "code",
      "metadata": {
        "id": "ZLET3zJhlymR",
        "colab_type": "code",
        "colab": {}
      },
      "source": [
        "import nlp"
      ],
      "execution_count": 26,
      "outputs": []
    },
    {
      "cell_type": "code",
      "metadata": {
        "execution": {
          "iopub.execute_input": "2020-09-05T22:13:15.845561Z",
          "iopub.status.busy": "2020-09-05T22:13:15.844629Z",
          "iopub.status.idle": "2020-09-05T22:14:18.490780Z",
          "shell.execute_reply": "2020-09-05T22:14:18.489532Z"
        },
        "papermill": {
          "duration": 62.76746,
          "end_time": "2020-09-05T22:14:18.490930",
          "exception": false,
          "start_time": "2020-09-05T22:13:15.723470",
          "status": "completed"
        },
        "tags": [],
        "colab_type": "code",
        "id": "w9stWz8Zdt_8",
        "colab": {
          "base_uri": "https://localhost:8080/",
          "height": 165,
          "referenced_widgets": [
            "3008f383d49b433193dce0015ea64578",
            "f93ad39296664992bdcbd598537f1c36",
            "8b5be610179c4169891bfd6af7564b70",
            "99ea6614cfac4b7bbcfa8eb3b638b086",
            "4348725cf1664518af4e0aa256c81cf1",
            "efa078e860e94562aafc46ebffe4a099",
            "8105d3d8f6ab49e3b629b3c39657e679",
            "e1e0d4432c9b463683f8ddb4010e527d",
            "59f2f810c47c4b2388c4d630f202408b",
            "4a8b011cbe634036bdc41ae9a1dde405",
            "0445a3e6468443318c12773253d8ba09",
            "4ed275f3d5bb4b26ae24f02c8f705802",
            "d498d6a9ad9e443386f7d6a21f233165",
            "3e9c6d391ba647f383c053afa01aa7e1",
            "a4484d07c9af4073b6d1b43e49d149fe",
            "9744689d3fe54692813900b13c724205",
            "a2d31a5d5d574f5cb09373abb8292900",
            "67e1170186dd4b8fa83a844a46d77370",
            "4567c9ad01af4fd395b0f8d1a36dfc6f",
            "abc71521a77b4b7ea66099a6f0faada4",
            "1aeb62947f274fe4ad15f6b9f8f25951",
            "5acf3a0c9d8547a9a5d0035c5ff25a36",
            "b54d83c00b6d4bf4a0dda9c75137b4b4",
            "ff8d1c464b624b8aaa112b63d18fd522"
          ]
        },
        "outputId": "e82d8dce-7ce1-450b-b03b-f63900cff193"
      },
      "source": [
        "MAX_LEN = 256\n",
        "\n",
        "def convert_to_features(batch):\n",
        "\n",
        "    encodings = tokenizer.batch_encode_plus(batch['text'], \n",
        "                                            add_special_tokens=True,\n",
        "                                            pad_to_max_length=True,\n",
        "                                            truncation=True,\n",
        "                                            max_length=MAX_LEN)\n",
        "    return encodings\n",
        "\n",
        "train_dataset = nlp.Dataset.from_pandas(train_df)\n",
        "train_dataset = train_dataset.map(convert_to_features, batched=True)\n",
        "train_dataset.set_format(\"torch\", columns=['input_ids', 'attention_mask', 'class'])\n",
        "\n",
        "valid_dataset = nlp.Dataset.from_pandas(valid_df)\n",
        "valid_dataset = valid_dataset.map(convert_to_features, batched=True) \n",
        "valid_dataset.set_format(\"torch\", columns=['input_ids', 'attention_mask', 'class'])\n",
        "\n",
        "test_dataset = nlp.Dataset.from_pandas(test_df)\n",
        "test_dataset = test_dataset.map(convert_to_features, batched=True) \n",
        "test_dataset.set_format(\"torch\", columns=['input_ids', 'attention_mask'])"
      ],
      "execution_count": 27,
      "outputs": [
        {
          "output_type": "display_data",
          "data": {
            "application/vnd.jupyter.widget-view+json": {
              "model_id": "3008f383d49b433193dce0015ea64578",
              "version_minor": 0,
              "version_major": 2
            },
            "text/plain": [
              "HBox(children=(FloatProgress(value=0.0, max=23.0), HTML(value='')))"
            ]
          },
          "metadata": {
            "tags": []
          }
        },
        {
          "output_type": "stream",
          "text": [
            "\n"
          ],
          "name": "stdout"
        },
        {
          "output_type": "display_data",
          "data": {
            "application/vnd.jupyter.widget-view+json": {
              "model_id": "59f2f810c47c4b2388c4d630f202408b",
              "version_minor": 0,
              "version_major": 2
            },
            "text/plain": [
              "HBox(children=(FloatProgress(value=0.0, max=2.0), HTML(value='')))"
            ]
          },
          "metadata": {
            "tags": []
          }
        },
        {
          "output_type": "stream",
          "text": [
            "\n"
          ],
          "name": "stdout"
        },
        {
          "output_type": "display_data",
          "data": {
            "application/vnd.jupyter.widget-view+json": {
              "model_id": "a2d31a5d5d574f5cb09373abb8292900",
              "version_minor": 0,
              "version_major": 2
            },
            "text/plain": [
              "HBox(children=(FloatProgress(value=0.0, max=7.0), HTML(value='')))"
            ]
          },
          "metadata": {
            "tags": []
          }
        },
        {
          "output_type": "stream",
          "text": [
            "\n"
          ],
          "name": "stdout"
        }
      ]
    },
    {
      "cell_type": "markdown",
      "metadata": {
        "papermill": {
          "duration": 0.039562,
          "end_time": "2020-09-05T22:14:18.575706",
          "exception": false,
          "start_time": "2020-09-05T22:14:18.536144",
          "status": "completed"
        },
        "tags": [],
        "colab_type": "text",
        "id": "hioXa5BqduAB"
      },
      "source": [
        "## Train & Submit"
      ]
    },
    {
      "cell_type": "markdown",
      "metadata": {
        "papermill": {
          "duration": 0.038621,
          "end_time": "2020-09-05T22:14:18.655566",
          "exception": false,
          "start_time": "2020-09-05T22:14:18.616945",
          "status": "completed"
        },
        "tags": [],
        "colab_type": "text",
        "id": "785uErE2duAC"
      },
      "source": [
        "### Metrics"
      ]
    },
    {
      "cell_type": "code",
      "metadata": {
        "id": "7JpsMzN2h9n-",
        "colab_type": "code",
        "colab": {}
      },
      "source": [
        "from sklearn.metrics import f1_score"
      ],
      "execution_count": 28,
      "outputs": []
    },
    {
      "cell_type": "code",
      "metadata": {
        "execution": {
          "iopub.execute_input": "2020-09-05T22:14:18.753297Z",
          "iopub.status.busy": "2020-09-05T22:14:18.743161Z",
          "iopub.status.idle": "2020-09-05T22:14:18.756244Z",
          "shell.execute_reply": "2020-09-05T22:14:18.756843Z"
        },
        "papermill": {
          "duration": 0.062144,
          "end_time": "2020-09-05T22:14:18.757020",
          "exception": false,
          "start_time": "2020-09-05T22:14:18.694876",
          "status": "completed"
        },
        "tags": [],
        "colab_type": "code",
        "id": "eNK34-ROduAD",
        "colab": {}
      },
      "source": [
        "class AverageMeter(object):\n",
        "    def __init__(self, name, fmt=':f'):\n",
        "        self.name = name\n",
        "        self.fmt = fmt\n",
        "        self.reset()\n",
        "\n",
        "    def reset(self):\n",
        "        self.val = 0\n",
        "        self.avg = 0\n",
        "        self.sum = 0\n",
        "        self.count = 0\n",
        "\n",
        "    def update(self, val, n=1):\n",
        "        self.val = val\n",
        "        self.sum += val * n\n",
        "        self.count += n\n",
        "        self.avg = self.sum / self.count\n",
        "\n",
        "    def __str__(self):\n",
        "        fmtstr = '{name} {avg' + self.fmt + '}'\n",
        "        return fmtstr.format(**self.__dict__)\n",
        "\n",
        "class ProgressMeter(object):\n",
        "    def __init__(self, num_batches, meters, prefix=\"\"):\n",
        "        self.batch_fmtstr = self._get_batch_fmtstr(num_batches)\n",
        "        self.meters = meters\n",
        "        self.prefix = prefix\n",
        "\n",
        "    def display(self, batch):\n",
        "        entries = [self.prefix + self.batch_fmtstr.format(batch)]\n",
        "        entries += [str(meter) for meter in self.meters]\n",
        "        print('\\t'.join(entries))\n",
        "\n",
        "    def _get_batch_fmtstr(self, num_batches):\n",
        "        num_digits = len(str(num_batches // 1))\n",
        "        fmt = '{:' + str(num_digits) + 'd}'\n",
        "        return '[' + fmt + '/' + fmt.format(num_batches) + ']'\n",
        "\n",
        "def F1_score(outputs, targets):\n",
        "    with torch.no_grad():\n",
        "        return f1_score(targets, outputs.argmax(dim=-1), average='macro') "
      ],
      "execution_count": 29,
      "outputs": []
    },
    {
      "cell_type": "markdown",
      "metadata": {
        "papermill": {
          "duration": 0.03979,
          "end_time": "2020-09-05T22:14:18.837106",
          "exception": false,
          "start_time": "2020-09-05T22:14:18.797316",
          "status": "completed"
        },
        "tags": [],
        "colab_type": "text",
        "id": "M5C7IKZMduAF"
      },
      "source": [
        "### Training"
      ]
    },
    {
      "cell_type": "code",
      "metadata": {
        "execution": {
          "iopub.execute_input": "2020-09-05T22:14:18.932557Z",
          "iopub.status.busy": "2020-09-05T22:14:18.930554Z",
          "iopub.status.idle": "2020-09-05T22:14:18.936256Z",
          "shell.execute_reply": "2020-09-05T22:14:18.935498Z"
        },
        "papermill": {
          "duration": 0.059258,
          "end_time": "2020-09-05T22:14:18.936400",
          "exception": false,
          "start_time": "2020-09-05T22:14:18.877142",
          "status": "completed"
        },
        "tags": [],
        "colab_type": "code",
        "id": "Khu87ZumduAG",
        "colab": {}
      },
      "source": [
        "def train_loop_fn(train_loader, model, optimizer, device, epoch=None):\n",
        "\n",
        "    model.train()\n",
        "    \n",
        "    losses = AverageMeter('Loss:', ':.4e')\n",
        "    top1 = AverageMeter('F1:', ':.2f')\n",
        "    progress = ProgressMeter(\n",
        "        len(train_loader),\n",
        "        [losses, top1],\n",
        "        prefix=\"[xla:{}]  Train:  Epoch: [{}]\".format(xm.get_ordinal(), epoch + 1)\n",
        "    )    \n",
        "\n",
        "    for i, data in enumerate(train_loader):\n",
        "\n",
        "        input_ids = data[\"input_ids\"].to(device, dtype=torch.long)\n",
        "        attention_mask = data[\"attention_mask\"].to(device, dtype=torch.long)\n",
        "        labels = data[\"class\"].to(device, dtype=torch.float)\n",
        "\n",
        "        optimizer.zero_grad()\n",
        "        outputs = model(\n",
        "            input_ids = input_ids,\n",
        "            attention_mask = attention_mask,\n",
        "            labels = labels\n",
        "        )\n",
        "\n",
        "        loss = outputs[0] \n",
        "        loss.backward()\n",
        "        xm.optimizer_step(optimizer)\n",
        "\n",
        "        f1 = F1_score(outputs[1].cpu(), labels.cpu())\n",
        "        losses.update(loss.item(), input_ids.size(0))\n",
        "        top1.update(f1.item(), input_ids.size(0))\n",
        "\n",
        "        if i == len(train_loader) - 1: \n",
        "            progress.display(i)\n",
        "\n",
        "    del loss\n",
        "    del f1\n",
        "    del outputs\n",
        "    del input_ids\n",
        "    del attention_mask\n",
        "    del labels\n",
        "    gc.collect()"
      ],
      "execution_count": 30,
      "outputs": []
    },
    {
      "cell_type": "markdown",
      "metadata": {
        "papermill": {
          "duration": 0.03969,
          "end_time": "2020-09-05T22:14:19.015962",
          "exception": false,
          "start_time": "2020-09-05T22:14:18.976272",
          "status": "completed"
        },
        "tags": [],
        "colab_type": "text",
        "id": "cPZ3ewCDduAI"
      },
      "source": [
        "### Evaluation"
      ]
    },
    {
      "cell_type": "code",
      "metadata": {
        "id": "zAUNHAzFnw4e",
        "colab_type": "code",
        "colab": {}
      },
      "source": [
        "from sklearn.metrics import confusion_matrix"
      ],
      "execution_count": 31,
      "outputs": []
    },
    {
      "cell_type": "code",
      "metadata": {
        "execution": {
          "iopub.execute_input": "2020-09-05T22:14:19.112966Z",
          "iopub.status.busy": "2020-09-05T22:14:19.112033Z",
          "iopub.status.idle": "2020-09-05T22:14:19.115404Z",
          "shell.execute_reply": "2020-09-05T22:14:19.114738Z"
        },
        "papermill": {
          "duration": 0.059236,
          "end_time": "2020-09-05T22:14:19.115533",
          "exception": false,
          "start_time": "2020-09-05T22:14:19.056297",
          "status": "completed"
        },
        "tags": [],
        "colab_type": "code",
        "id": "Ubs6T0JOuJds",
        "colab": {}
      },
      "source": [
        "def eval_loop_fn(test_data_loader, model, device):\n",
        "\n",
        "    model.eval()\n",
        "\n",
        "    with torch.no_grad():\n",
        "\n",
        "        test_preds = []\n",
        "        targets = []\n",
        "        val_loss = 0\n",
        "\n",
        "        for i, data in enumerate(test_data_loader):\n",
        "\n",
        "            input_ids = data[\"input_ids\"].to(device, dtype=torch.long)\n",
        "            attention_mask = data[\"attention_mask\"].to(device, dtype=torch.long)\n",
        "            labels = data[\"class\"].to(device, dtype=torch.float)\n",
        "\n",
        "            outputs = model(\n",
        "                input_ids = input_ids,\n",
        "                attention_mask = attention_mask,\n",
        "                labels = labels\n",
        "            )\n",
        "\n",
        "            val_loss += outputs[0].item()\n",
        "            test_preds.extend(torch.argmax(outputs[1], -1).cpu().detach().tolist())\n",
        "            targets.extend(data[\"class\"].detach().tolist())  \n",
        "        \n",
        "    xm.master_print(f'Val loss: {val_loss / len(test_data_loader)}')\n",
        "    xm.master_print(f'F1 score: {f1_score(targets, test_preds, average=\"macro\")}')\n",
        "    xm.master_print('Confusion matrix:')\n",
        "    xm.master_print(f'{confusion_matrix(targets, test_preds)}')\n",
        "\n",
        "    del outputs\n",
        "    del targets \n",
        "    del test_preds\n",
        "    del input_ids\n",
        "    del attention_mask\n",
        "    gc.collect()"
      ],
      "execution_count": 32,
      "outputs": []
    },
    {
      "cell_type": "markdown",
      "metadata": {
        "papermill": {
          "duration": 0.039369,
          "end_time": "2020-09-05T22:14:19.195683",
          "exception": false,
          "start_time": "2020-09-05T22:14:19.156314",
          "status": "completed"
        },
        "tags": [],
        "colab_type": "text",
        "id": "5deBCxT4duAM"
      },
      "source": [
        "### Test"
      ]
    },
    {
      "cell_type": "code",
      "metadata": {
        "id": "-pVuPDKSfsmc",
        "colab_type": "code",
        "colab": {}
      },
      "source": [
        "sample_submission = pd.read_csv('/content/test.csv', delimiter=\"\\t\")"
      ],
      "execution_count": 33,
      "outputs": []
    },
    {
      "cell_type": "code",
      "metadata": {
        "execution": {
          "iopub.execute_input": "2020-09-05T22:14:19.288684Z",
          "iopub.status.busy": "2020-09-05T22:14:19.287895Z",
          "iopub.status.idle": "2020-09-05T22:14:19.291933Z",
          "shell.execute_reply": "2020-09-05T22:14:19.291203Z"
        },
        "papermill": {
          "duration": 0.056595,
          "end_time": "2020-09-05T22:14:19.292056",
          "exception": false,
          "start_time": "2020-09-05T22:14:19.235461",
          "status": "completed"
        },
        "tags": [],
        "colab_type": "code",
        "id": "JMZNr1J1duAM",
        "colab": {}
      },
      "source": [
        "def test_loop_fn(test_data_loader, model, device, epoch=0):\n",
        "\n",
        "    model.eval()\n",
        "\n",
        "    with torch.no_grad():\n",
        "\n",
        "        test_preds = []\n",
        "\n",
        "        for i, data in enumerate(test_data_loader):\n",
        "\n",
        "            input_ids = data[\"input_ids\"].to(device, dtype=torch.long)\n",
        "            attention_mask = data[\"attention_mask\"].to(device, dtype=torch.long)\n",
        "\n",
        "            outputs = model(\n",
        "                input_ids = input_ids,\n",
        "                attention_mask = attention_mask,\n",
        "            )[0]\n",
        "\n",
        "            test_preds.extend(torch.argmax(outputs, -1).cpu().detach().tolist())  \n",
        "\n",
        "    sample_submission['class'] = binarizer.inverse_transform(np.array(test_preds))\n",
        "    sample_submission.to_csv(f'submission_{epoch + 1}.csv', sep=\"\\t\")\n",
        "\n",
        "    del outputs\n",
        "    del test_preds\n",
        "    del input_ids\n",
        "    del attention_mask\n",
        "    gc.collect()"
      ],
      "execution_count": 34,
      "outputs": []
    },
    {
      "cell_type": "markdown",
      "metadata": {
        "papermill": {
          "duration": 0.03919,
          "end_time": "2020-09-05T22:14:19.370981",
          "exception": false,
          "start_time": "2020-09-05T22:14:19.331791",
          "status": "completed"
        },
        "tags": [],
        "colab_type": "text",
        "id": "IsbT1MOMduAO"
      },
      "source": [
        "### Run"
      ]
    },
    {
      "cell_type": "code",
      "metadata": {
        "_kg_hide-output": true,
        "execution": {
          "iopub.execute_input": "2020-09-05T22:14:19.457902Z",
          "iopub.status.busy": "2020-09-05T22:14:19.457110Z",
          "iopub.status.idle": "2020-09-05T22:14:19.461887Z",
          "shell.execute_reply": "2020-09-05T22:14:19.461152Z"
        },
        "papermill": {
          "duration": 0.051603,
          "end_time": "2020-09-05T22:14:19.462019",
          "exception": false,
          "start_time": "2020-09-05T22:14:19.410416",
          "status": "completed"
        },
        "tags": [],
        "colab_type": "code",
        "id": "qV7lg941duAP",
        "colab": {}
      },
      "source": [
        "my_seed(42)\n",
        "\n",
        "TRAIN_BATCH_SIZE = 8 * xm.xrt_world_size()\n",
        "VALID_BATCH_SIZE = 16 * xm.xrt_world_size()\n",
        "TEST_BATCH_SIZE = 16\n",
        "EPOCHS = 10\n",
        "LR = 5e-5 * xm.xrt_world_size() "
      ],
      "execution_count": 35,
      "outputs": []
    },
    {
      "cell_type": "code",
      "metadata": {
        "colab_type": "code",
        "id": "FVilPMLfoeE2",
        "colab": {}
      },
      "source": [
        "# from google.colab import drive\n",
        "# drive.mount('/content/drive')"
      ],
      "execution_count": 36,
      "outputs": []
    },
    {
      "cell_type": "code",
      "metadata": {
        "execution": {
          "iopub.execute_input": "2020-09-05T22:14:19.563132Z",
          "iopub.status.busy": "2020-09-05T22:14:19.562322Z",
          "iopub.status.idle": "2020-09-05T22:14:19.567315Z",
          "shell.execute_reply": "2020-09-05T22:14:19.566643Z"
        },
        "id": "akuL2cGPzqmn",
        "papermill": {
          "duration": 0.065445,
          "end_time": "2020-09-05T22:14:19.567452",
          "exception": false,
          "start_time": "2020-09-05T22:14:19.502007",
          "status": "completed"
        },
        "tags": [],
        "colab_type": "code",
        "colab": {}
      },
      "source": [
        "def _run():\n",
        "\n",
        "    # Train\n",
        "    xm.master_print('Starting Run ...')\n",
        "    train_sampler = DistributedSampler(\n",
        "        train_dataset,\n",
        "        num_replicas=xm.xrt_world_size(),\n",
        "        rank=xm.get_ordinal(),\n",
        "        shuffle=True \n",
        "    )    \n",
        "    train_data_loader = DataLoader(\n",
        "        train_dataset,\n",
        "        batch_size=TRAIN_BATCH_SIZE,\n",
        "        sampler=train_sampler,\n",
        "        drop_last=True,\n",
        "        num_workers=0,\n",
        "    )\n",
        "    xm.master_print('Train Loader Created.')\n",
        "    \n",
        "    # Valid   \n",
        "    valid_data_loader = DataLoader(\n",
        "        valid_dataset,\n",
        "        batch_size=VALID_BATCH_SIZE,\n",
        "        drop_last=False,\n",
        "        num_workers=0,\n",
        "        shuffle=False\n",
        "    )\n",
        "    xm.master_print('Valid Loader Created.')\n",
        "\n",
        "    # Test\n",
        "    test_data_loader = DataLoader(\n",
        "        test_dataset, \n",
        "        batch_size=TEST_BATCH_SIZE,\n",
        "        drop_last=False,\n",
        "        num_workers=0,\n",
        "        shuffle=False,\n",
        "    )\n",
        "    xm.master_print('Test Loader Created.')\n",
        "    \n",
        "    num_train_steps = int(len(train_df) / TRAIN_BATCH_SIZE / xm.xrt_world_size())\n",
        "    device = xm.xla_device()\n",
        "    model = WRAPPED_MODEL.to(device)\n",
        "    xm.master_print('Done Model Loading.')\n",
        "    optimizer = AdamW(\n",
        "        model.parameters(),\n",
        "        lr=LR, \n",
        "    )\n",
        "    xm.master_print(f'Num Train Steps= {num_train_steps}, XRT World Size= {xm.xrt_world_size()}.')\n",
        "\n",
        "    for epoch in range(EPOCHS):\n",
        "\n",
        "        train_sampler.set_epoch(epoch)\n",
        "        \n",
        "        para_loader = pl.ParallelLoader(train_data_loader, [device])\n",
        "        xm.master_print('Parallel Loader Created. Training ...')\n",
        "        train_loop_fn(para_loader.per_device_loader(device),\n",
        "                      model,  \n",
        "                      optimizer, \n",
        "                      device,  \n",
        "                      epoch\n",
        "                     )        \n",
        "        xm.master_print(\"Finished training epoch {}\".format(epoch + 1))\n",
        "            \n",
        "        para_loader = pl.ParallelLoader(valid_data_loader, [device])\n",
        "        xm.master_print('Parallel Loader Created. Validating ...')\n",
        "        eval_loop_fn(para_loader.per_device_loader(device), \n",
        "                     model,  \n",
        "                     device\n",
        "                    )\n",
        "        \n",
        "        para_loader = pl.ParallelLoader(test_data_loader, [device])\n",
        "        xm.master_print('Parallel Loader Created. Testing ...')\n",
        "        test_loop_fn(para_loader.per_device_loader(device), \n",
        "                    model,  \n",
        "                    device,\n",
        "                    epoch \n",
        "                    )\n",
        "        xm.master_print('Predicted.')\n",
        "\n",
        "        # if epoch == EPOCHS-1:\n",
        "        #     xm.save(model.state_dict(), f'/content/drive/My Drive/XLM_R_{epoch + 1}.pt')\n",
        "        #     xm.master_print('Model Saved.')"
      ],
      "execution_count": 37,
      "outputs": []
    },
    {
      "cell_type": "code",
      "metadata": {
        "_kg_hide-output": true,
        "execution": {
          "iopub.execute_input": "2020-09-05T22:14:19.658948Z",
          "iopub.status.busy": "2020-09-05T22:14:19.657927Z",
          "iopub.status.idle": "2020-09-05T23:43:19.065617Z",
          "shell.execute_reply": "2020-09-05T23:43:19.064773Z"
        },
        "id": "Gm0V-BTnzqmq",
        "papermill": {
          "duration": 5339.457651,
          "end_time": "2020-09-05T23:43:19.065763",
          "exception": false,
          "start_time": "2020-09-05T22:14:19.608112",
          "status": "completed"
        },
        "tags": [],
        "colab_type": "code",
        "colab": {
          "base_uri": "https://localhost:8080/",
          "height": 1000
        },
        "outputId": "f94505f1-cc83-4eba-e492-b2932a80caaa"
      },
      "source": [
        "def _mp_fn(rank, flags):\n",
        "    _run()\n",
        "\n",
        "FLAGS={}\n",
        "xmp.spawn(_mp_fn, args=(FLAGS,), nprocs=8, start_method='fork')"
      ],
      "execution_count": 38,
      "outputs": [
        {
          "output_type": "stream",
          "text": [
            "Starting Run ...\n",
            "Train Loader Created.\n",
            "Valid Loader Created.\n",
            "Test Loader Created.\n",
            "Done Model Loading.\n",
            "Num Train Steps= 357, XRT World Size= 8.\n",
            "Parallel Loader Created. Training ...\n",
            "[xla:2]  Train:  Epoch: [1][356/357]\tLoss: 8.9509e-02\tF1: 0.92\n",
            "[xla:3]  Train:  Epoch: [1][356/357]\tLoss: 8.0117e-02\tF1: 0.93\n",
            "[xla:4]  Train:  Epoch: [1][356/357]\tLoss: 8.4716e-02\tF1: 0.93\n",
            "[xla:1]  Train:  Epoch: [1][356/357]\tLoss: 7.8656e-02\tF1: 0.95\n",
            "[xla:5]  Train:  Epoch: [1][356/357]\tLoss: 8.1353e-02\tF1: 0.94\n",
            "[xla:0]  Train:  Epoch: [1][356/357]\tLoss: 8.5329e-02\tF1: 0.93\n",
            "[xla:6]  Train:  Epoch: [1][356/357]\tLoss: 8.3912e-02\tF1: 0.93\n",
            "[xla:7]  Train:  Epoch: [1][356/357]\tLoss: 9.0615e-02\tF1: 0.93\n",
            "Finished training epoch 1\n",
            "Parallel Loader Created. Validating ...\n",
            "Val loss: 0.03334015607833862\n",
            "F1 score: 0.9853341353728051\n",
            "Confusion matrix:\n",
            "[[158   7]\n",
            " [  1 858]]\n",
            "Parallel Loader Created. Testing ...\n",
            "Predicted.\n",
            "Parallel Loader Created. Training ...\n",
            "[xla:3]  Train:  Epoch: [2][356/357]\tLoss: 1.6875e-02\tF1: 0.99\n",
            "[xla:6]  Train:  Epoch: [2][356/357]\tLoss: 1.3773e-02\tF1: 0.99\n",
            "[xla:2]  Train:  Epoch: [2][356/357]\tLoss: 1.5323e-02\tF1: 0.99\n",
            "[xla:5]  Train:  Epoch: [2][356/357]\tLoss: 1.9163e-02\tF1: 0.98\n",
            "[xla:0]  Train:  Epoch: [2][356/357]\tLoss: 1.6370e-02\tF1: 0.99\n",
            "[xla:4]  Train:  Epoch: [2][356/357]\tLoss: 1.5470e-02\tF1: 0.99\n",
            "[xla:7]  Train:  Epoch: [2][356/357]\tLoss: 1.6883e-02\tF1: 0.99\n",
            "[xla:1]  Train:  Epoch: [2][356/357]\tLoss: 1.5411e-02\tF1: 0.99\n",
            "Finished training epoch 2\n",
            "Parallel Loader Created. Validating ...\n",
            "Val loss: 0.026286989450454712\n",
            "F1 score: 0.9854071809780324\n",
            "Confusion matrix:\n",
            "[[159   6]\n",
            " [  2 857]]\n",
            "Parallel Loader Created. Testing ...\n",
            "Predicted.\n",
            "Parallel Loader Created. Training ...\n",
            "[xla:4]  Train:  Epoch: [3][356/357]\tLoss: 9.7085e-03\tF1: 0.99\n",
            "[xla:7]  Train:  Epoch: [3][356/357]\tLoss: 7.7931e-03\tF1: 1.00\n",
            "[xla:2]  Train:  Epoch: [3][356/357]\tLoss: 1.2608e-02\tF1: 0.99\n",
            "[xla:0]  Train:  Epoch: [3][356/357]\tLoss: 9.7248e-03\tF1: 1.00\n",
            "[xla:1]  Train:  Epoch: [3][356/357]\tLoss: 9.6009e-03\tF1: 1.00\n",
            "[xla:3]  Train:  Epoch: [3][356/357]\tLoss: 1.0859e-02\tF1: 1.00\n",
            "[xla:5]  Train:  Epoch: [3][356/357]\tLoss: 1.1284e-02\tF1: 0.99\n",
            "[xla:6]  Train:  Epoch: [3][356/357]\tLoss: 1.2365e-02\tF1: 0.99\n",
            "Finished training epoch 3\n",
            "Parallel Loader Created. Validating ...\n",
            "Val loss: 0.051809072494506836\n",
            "F1 score: 0.9796813302379109\n",
            "Confusion matrix:\n",
            "[[155  10]\n",
            " [  1 858]]\n",
            "Parallel Loader Created. Testing ...\n",
            "Predicted.\n",
            "Parallel Loader Created. Training ...\n",
            "[xla:1]  Train:  Epoch: [4][356/357]\tLoss: 4.2554e-03\tF1: 1.00\n",
            "[xla:4]  Train:  Epoch: [4][356/357]\tLoss: 7.4040e-03\tF1: 1.00\n",
            "[xla:5]  Train:  Epoch: [4][356/357]\tLoss: 5.5758e-03\tF1: 1.00\n",
            "[xla:2]  Train:  Epoch: [4][356/357]\tLoss: 4.1745e-03\tF1: 1.00\n",
            "[xla:3]  Train:  Epoch: [4][356/357]\tLoss: 5.3504e-03\tF1: 1.00\n",
            "[xla:6]  Train:  Epoch: [4][356/357]\tLoss: 7.1211e-03\tF1: 1.00\n",
            "[xla:7]  Train:  Epoch: [4][356/357]\tLoss: 4.9658e-03\tF1: 1.00\n",
            "[xla:0]  Train:  Epoch: [4][356/357]\tLoss: 7.5062e-03\tF1: 1.00\n",
            "Finished training epoch 4\n",
            "Parallel Loader Created. Validating ...\n",
            "Val loss: 0.029932260513305664\n",
            "F1 score: 0.9871994285459172\n",
            "Confusion matrix:\n",
            "[[159   6]\n",
            " [  1 858]]\n",
            "Parallel Loader Created. Testing ...\n",
            "Predicted.\n",
            "Parallel Loader Created. Training ...\n",
            "[xla:0]  Train:  Epoch: [5][356/357]\tLoss: 4.2803e-03\tF1: 1.00\n",
            "[xla:4]  Train:  Epoch: [5][356/357]\tLoss: 3.1111e-03\tF1: 1.00\n",
            "[xla:5]  Train:  Epoch: [5][356/357]\tLoss: 3.2103e-03\tF1: 1.00\n",
            "[xla:1]  Train:  Epoch: [5][356/357]\tLoss: 3.7392e-03\tF1: 1.00\n",
            "[xla:3]  Train:  Epoch: [5][356/357]\tLoss: 2.9725e-03\tF1: 1.00\n",
            "[xla:2]  Train:  Epoch: [5][356/357]\tLoss: 3.3432e-03\tF1: 1.00\n",
            "[xla:7]  Train:  Epoch: [5][356/357]\tLoss: 3.8050e-03\tF1: 1.00\n",
            "[xla:6]  Train:  Epoch: [5][356/357]\tLoss: 5.9087e-03\tF1: 1.00\n",
            "Finished training epoch 5\n",
            "Parallel Loader Created. Validating ...\n",
            "Val loss: 0.02474236488342285\n",
            "F1 score: 0.9890553857335243\n",
            "Confusion matrix:\n",
            "[[160   5]\n",
            " [  1 858]]\n",
            "Parallel Loader Created. Testing ...\n",
            "Predicted.\n",
            "Parallel Loader Created. Training ...\n",
            "[xla:2]  Train:  Epoch: [6][356/357]\tLoss: 2.7433e-03\tF1: 1.00\n",
            "[xla:1]  Train:  Epoch: [6][356/357]\tLoss: 2.8794e-03\tF1: 1.00\n",
            "[xla:5]  Train:  Epoch: [6][356/357]\tLoss: 3.7437e-03\tF1: 1.00\n",
            "[xla:7]  Train:  Epoch: [6][356/357]\tLoss: 3.3476e-03\tF1: 1.00\n",
            "[xla:6]  Train:  Epoch: [6][356/357]\tLoss: 4.5171e-03\tF1: 1.00\n",
            "[xla:0]  Train:  Epoch: [6][356/357]\tLoss: 3.5250e-03\tF1: 1.00\n",
            "[xla:3]  Train:  Epoch: [6][356/357]\tLoss: 3.4525e-03\tF1: 1.00\n",
            "[xla:4]  Train:  Epoch: [6][356/357]\tLoss: 4.1696e-03\tF1: 1.00\n",
            "Finished training epoch 6\n",
            "Parallel Loader Created. Validating ...\n",
            "Val loss: 0.03440415859222412\n",
            "F1 score: 0.9871994285459172\n",
            "Confusion matrix:\n",
            "[[159   6]\n",
            " [  1 858]]\n",
            "Parallel Loader Created. Testing ...\n",
            "Predicted.\n",
            "Parallel Loader Created. Training ...\n",
            "[xla:1]  Train:  Epoch: [7][356/357]\tLoss: 3.4579e-03\tF1: 1.00\n",
            "[xla:7]  Train:  Epoch: [7][356/357]\tLoss: 2.9791e-03\tF1: 1.00\n",
            "[xla:2]  Train:  Epoch: [7][356/357]\tLoss: 6.9151e-03\tF1: 1.00\n",
            "[xla:0]  Train:  Epoch: [7][356/357]\tLoss: 4.5022e-03\tF1: 1.00\n",
            "[xla:3]  Train:  Epoch: [7][356/357]\tLoss: 3.4784e-03\tF1: 1.00\n",
            "[xla:6]  Train:  Epoch: [7][356/357]\tLoss: 4.2969e-03\tF1: 1.00\n",
            "[xla:5]  Train:  Epoch: [7][356/357]\tLoss: 2.9902e-03\tF1: 1.00\n",
            "[xla:4]  Train:  Epoch: [7][356/357]\tLoss: 4.9275e-03\tF1: 1.00\n",
            "Finished training epoch 7\n",
            "Parallel Loader Created. Validating ...\n",
            "Val loss: 0.029901862144470215\n",
            "F1 score: 0.9872629347491946\n",
            "Confusion matrix:\n",
            "[[160   5]\n",
            " [  2 857]]\n",
            "Parallel Loader Created. Testing ...\n",
            "Predicted.\n",
            "Parallel Loader Created. Training ...\n",
            "[xla:5]  Train:  Epoch: [8][356/357]\tLoss: 2.8929e-03\tF1: 1.00\n",
            "[xla:1]  Train:  Epoch: [8][356/357]\tLoss: 3.0080e-03\tF1: 1.00\n",
            "[xla:0]  Train:  Epoch: [8][356/357]\tLoss: 4.7483e-03\tF1: 1.00\n",
            "[xla:2]  Train:  Epoch: [8][356/357]\tLoss: 4.4775e-03\tF1: 1.00\n",
            "[xla:3]  Train:  Epoch: [8][356/357]\tLoss: 3.8078e-03\tF1: 1.00\n",
            "[xla:4]  Train:  Epoch: [8][356/357]\tLoss: 3.0498e-03\tF1: 1.00\n",
            "[xla:7]  Train:  Epoch: [8][356/357]\tLoss: 3.0699e-03\tF1: 1.00\n",
            "[xla:6]  Train:  Epoch: [8][356/357]\tLoss: 3.2055e-03\tF1: 1.00\n",
            "Finished training epoch 8\n",
            "Parallel Loader Created. Validating ...\n",
            "Val loss: 0.03492176532745361\n",
            "F1 score: 0.9871994285459172\n",
            "Confusion matrix:\n",
            "[[159   6]\n",
            " [  1 858]]\n",
            "Parallel Loader Created. Testing ...\n",
            "Predicted.\n",
            "Parallel Loader Created. Training ...\n",
            "[xla:6]  Train:  Epoch: [9][356/357]\tLoss: 4.2223e-03\tF1: 1.00\n",
            "[xla:1]  Train:  Epoch: [9][356/357]\tLoss: 2.9349e-03\tF1: 1.00\n",
            "[xla:5]  Train:  Epoch: [9][356/357]\tLoss: 2.6589e-03\tF1: 1.00\n",
            "[xla:0]  Train:  Epoch: [9][356/357]\tLoss: 3.0186e-03\tF1: 1.00\n",
            "[xla:2]  Train:  Epoch: [9][356/357]\tLoss: 3.1463e-03\tF1: 1.00\n",
            "[xla:3]  Train:  Epoch: [9][356/357]\tLoss: 3.0551e-03\tF1: 1.00\n",
            "[xla:4]  Train:  Epoch: [9][356/357]\tLoss: 2.8903e-03\tF1: 1.00\n",
            "[xla:7]  Train:  Epoch: [9][356/357]\tLoss: 4.3098e-03\tF1: 1.00\n",
            "Finished training epoch 9\n",
            "Parallel Loader Created. Validating ...\n",
            "Val loss: 0.0347973108291626\n",
            "F1 score: 0.9871994285459172\n",
            "Confusion matrix:\n",
            "[[159   6]\n",
            " [  1 858]]\n",
            "Parallel Loader Created. Testing ...\n",
            "Predicted.\n",
            "Parallel Loader Created. Training ...\n",
            "[xla:5]  Train:  Epoch: [10][356/357]\tLoss: 2.9365e-03\tF1: 1.00\n",
            "[xla:7]  Train:  Epoch: [10][356/357]\tLoss: 2.7716e-03\tF1: 1.00\n",
            "[xla:1]  Train:  Epoch: [10][356/357]\tLoss: 2.7788e-03\tF1: 1.00\n",
            "[xla:3]  Train:  Epoch: [10][356/357]\tLoss: 2.9928e-03\tF1: 1.00\n",
            "[xla:0]  Train:  Epoch: [10][356/357]\tLoss: 4.3120e-03\tF1: 1.00\n",
            "[xla:6]  Train:  Epoch: [10][356/357]\tLoss: 2.6533e-03\tF1: 1.00\n",
            "[xla:4]  Train:  Epoch: [10][356/357]\tLoss: 4.3113e-03\tF1: 1.00\n",
            "[xla:2]  Train:  Epoch: [10][356/357]\tLoss: 2.7376e-03\tF1: 1.00\n",
            "Finished training epoch 10\n",
            "Parallel Loader Created. Validating ...\n",
            "Val loss: 0.03449857234954834\n",
            "F1 score: 0.9871994285459172\n",
            "Confusion matrix:\n",
            "[[159   6]\n",
            " [  1 858]]\n",
            "Parallel Loader Created. Testing ...\n",
            "Predicted.\n"
          ],
          "name": "stdout"
        }
      ]
    }
  ]
}