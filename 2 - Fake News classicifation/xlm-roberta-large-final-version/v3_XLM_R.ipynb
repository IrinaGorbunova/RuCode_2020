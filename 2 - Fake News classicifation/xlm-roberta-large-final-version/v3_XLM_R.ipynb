{
  "nbformat": 4,
  "nbformat_minor": 0,
  "metadata": {
    "colab": {
      "name": "v3_XLM_R.ipynb",
      "provenance": [],
      "collapsed_sections": [],
      "machine_shape": "hm"
    },
    "kernelspec": {
      "name": "python3",
      "display_name": "Python 3"
    },
    "accelerator": "TPU",
    "widgets": {
      "application/vnd.jupyter.widget-state+json": {
        "c73b2d4d8c0c46789f76b610fa749548": {
          "model_module": "@jupyter-widgets/controls",
          "model_name": "HBoxModel",
          "state": {
            "_view_name": "HBoxView",
            "_dom_classes": [],
            "_model_name": "HBoxModel",
            "_view_module": "@jupyter-widgets/controls",
            "_model_module_version": "1.5.0",
            "_view_count": null,
            "_view_module_version": "1.5.0",
            "box_style": "",
            "layout": "IPY_MODEL_ec081cee32ed4219ac7eb77a1569dae7",
            "_model_module": "@jupyter-widgets/controls",
            "children": [
              "IPY_MODEL_79aa4979a737462aa97c61d17132d149",
              "IPY_MODEL_3366b6136b774ce5a4ba40fe15c223b2"
            ]
          }
        },
        "ec081cee32ed4219ac7eb77a1569dae7": {
          "model_module": "@jupyter-widgets/base",
          "model_name": "LayoutModel",
          "state": {
            "_view_name": "LayoutView",
            "grid_template_rows": null,
            "right": null,
            "justify_content": null,
            "_view_module": "@jupyter-widgets/base",
            "overflow": null,
            "_model_module_version": "1.2.0",
            "_view_count": null,
            "flex_flow": null,
            "width": null,
            "min_width": null,
            "border": null,
            "align_items": null,
            "bottom": null,
            "_model_module": "@jupyter-widgets/base",
            "top": null,
            "grid_column": null,
            "overflow_y": null,
            "overflow_x": null,
            "grid_auto_flow": null,
            "grid_area": null,
            "grid_template_columns": null,
            "flex": null,
            "_model_name": "LayoutModel",
            "justify_items": null,
            "grid_row": null,
            "max_height": null,
            "align_content": null,
            "visibility": null,
            "align_self": null,
            "height": null,
            "min_height": null,
            "padding": null,
            "grid_auto_rows": null,
            "grid_gap": null,
            "max_width": null,
            "order": null,
            "_view_module_version": "1.2.0",
            "grid_template_areas": null,
            "object_position": null,
            "object_fit": null,
            "grid_auto_columns": null,
            "margin": null,
            "display": null,
            "left": null
          }
        },
        "79aa4979a737462aa97c61d17132d149": {
          "model_module": "@jupyter-widgets/controls",
          "model_name": "FloatProgressModel",
          "state": {
            "_view_name": "ProgressView",
            "style": "IPY_MODEL_b6b8257673db4807939cdbe5f6e6cba6",
            "_dom_classes": [],
            "description": "Downloading: 100%",
            "_model_name": "FloatProgressModel",
            "bar_style": "success",
            "max": 513,
            "_view_module": "@jupyter-widgets/controls",
            "_model_module_version": "1.5.0",
            "value": 513,
            "_view_count": null,
            "_view_module_version": "1.5.0",
            "orientation": "horizontal",
            "min": 0,
            "description_tooltip": null,
            "_model_module": "@jupyter-widgets/controls",
            "layout": "IPY_MODEL_413ca87e61e049eb9143ac5404467633"
          }
        },
        "3366b6136b774ce5a4ba40fe15c223b2": {
          "model_module": "@jupyter-widgets/controls",
          "model_name": "HTMLModel",
          "state": {
            "_view_name": "HTMLView",
            "style": "IPY_MODEL_560a2d8c2bac4a189b51ceb18aad08e0",
            "_dom_classes": [],
            "description": "",
            "_model_name": "HTMLModel",
            "placeholder": "​",
            "_view_module": "@jupyter-widgets/controls",
            "_model_module_version": "1.5.0",
            "value": " 513/513 [00:00&lt;00:00, 756B/s]",
            "_view_count": null,
            "_view_module_version": "1.5.0",
            "description_tooltip": null,
            "_model_module": "@jupyter-widgets/controls",
            "layout": "IPY_MODEL_08fb10bb0f0d4134b7b35376d3e2022b"
          }
        },
        "b6b8257673db4807939cdbe5f6e6cba6": {
          "model_module": "@jupyter-widgets/controls",
          "model_name": "ProgressStyleModel",
          "state": {
            "_view_name": "StyleView",
            "_model_name": "ProgressStyleModel",
            "description_width": "initial",
            "_view_module": "@jupyter-widgets/base",
            "_model_module_version": "1.5.0",
            "_view_count": null,
            "_view_module_version": "1.2.0",
            "bar_color": null,
            "_model_module": "@jupyter-widgets/controls"
          }
        },
        "413ca87e61e049eb9143ac5404467633": {
          "model_module": "@jupyter-widgets/base",
          "model_name": "LayoutModel",
          "state": {
            "_view_name": "LayoutView",
            "grid_template_rows": null,
            "right": null,
            "justify_content": null,
            "_view_module": "@jupyter-widgets/base",
            "overflow": null,
            "_model_module_version": "1.2.0",
            "_view_count": null,
            "flex_flow": null,
            "width": null,
            "min_width": null,
            "border": null,
            "align_items": null,
            "bottom": null,
            "_model_module": "@jupyter-widgets/base",
            "top": null,
            "grid_column": null,
            "overflow_y": null,
            "overflow_x": null,
            "grid_auto_flow": null,
            "grid_area": null,
            "grid_template_columns": null,
            "flex": null,
            "_model_name": "LayoutModel",
            "justify_items": null,
            "grid_row": null,
            "max_height": null,
            "align_content": null,
            "visibility": null,
            "align_self": null,
            "height": null,
            "min_height": null,
            "padding": null,
            "grid_auto_rows": null,
            "grid_gap": null,
            "max_width": null,
            "order": null,
            "_view_module_version": "1.2.0",
            "grid_template_areas": null,
            "object_position": null,
            "object_fit": null,
            "grid_auto_columns": null,
            "margin": null,
            "display": null,
            "left": null
          }
        },
        "560a2d8c2bac4a189b51ceb18aad08e0": {
          "model_module": "@jupyter-widgets/controls",
          "model_name": "DescriptionStyleModel",
          "state": {
            "_view_name": "StyleView",
            "_model_name": "DescriptionStyleModel",
            "description_width": "",
            "_view_module": "@jupyter-widgets/base",
            "_model_module_version": "1.5.0",
            "_view_count": null,
            "_view_module_version": "1.2.0",
            "_model_module": "@jupyter-widgets/controls"
          }
        },
        "08fb10bb0f0d4134b7b35376d3e2022b": {
          "model_module": "@jupyter-widgets/base",
          "model_name": "LayoutModel",
          "state": {
            "_view_name": "LayoutView",
            "grid_template_rows": null,
            "right": null,
            "justify_content": null,
            "_view_module": "@jupyter-widgets/base",
            "overflow": null,
            "_model_module_version": "1.2.0",
            "_view_count": null,
            "flex_flow": null,
            "width": null,
            "min_width": null,
            "border": null,
            "align_items": null,
            "bottom": null,
            "_model_module": "@jupyter-widgets/base",
            "top": null,
            "grid_column": null,
            "overflow_y": null,
            "overflow_x": null,
            "grid_auto_flow": null,
            "grid_area": null,
            "grid_template_columns": null,
            "flex": null,
            "_model_name": "LayoutModel",
            "justify_items": null,
            "grid_row": null,
            "max_height": null,
            "align_content": null,
            "visibility": null,
            "align_self": null,
            "height": null,
            "min_height": null,
            "padding": null,
            "grid_auto_rows": null,
            "grid_gap": null,
            "max_width": null,
            "order": null,
            "_view_module_version": "1.2.0",
            "grid_template_areas": null,
            "object_position": null,
            "object_fit": null,
            "grid_auto_columns": null,
            "margin": null,
            "display": null,
            "left": null
          }
        },
        "519af3f36578494ea770db64875a8432": {
          "model_module": "@jupyter-widgets/controls",
          "model_name": "HBoxModel",
          "state": {
            "_view_name": "HBoxView",
            "_dom_classes": [],
            "_model_name": "HBoxModel",
            "_view_module": "@jupyter-widgets/controls",
            "_model_module_version": "1.5.0",
            "_view_count": null,
            "_view_module_version": "1.5.0",
            "box_style": "",
            "layout": "IPY_MODEL_21b6057df8fa46a3b2792ac342e45063",
            "_model_module": "@jupyter-widgets/controls",
            "children": [
              "IPY_MODEL_4c4324b33bf84bf9a7900f8e5e1131b7",
              "IPY_MODEL_6010a94f082d483bb0c9fbb6f1f7b5c1"
            ]
          }
        },
        "21b6057df8fa46a3b2792ac342e45063": {
          "model_module": "@jupyter-widgets/base",
          "model_name": "LayoutModel",
          "state": {
            "_view_name": "LayoutView",
            "grid_template_rows": null,
            "right": null,
            "justify_content": null,
            "_view_module": "@jupyter-widgets/base",
            "overflow": null,
            "_model_module_version": "1.2.0",
            "_view_count": null,
            "flex_flow": null,
            "width": null,
            "min_width": null,
            "border": null,
            "align_items": null,
            "bottom": null,
            "_model_module": "@jupyter-widgets/base",
            "top": null,
            "grid_column": null,
            "overflow_y": null,
            "overflow_x": null,
            "grid_auto_flow": null,
            "grid_area": null,
            "grid_template_columns": null,
            "flex": null,
            "_model_name": "LayoutModel",
            "justify_items": null,
            "grid_row": null,
            "max_height": null,
            "align_content": null,
            "visibility": null,
            "align_self": null,
            "height": null,
            "min_height": null,
            "padding": null,
            "grid_auto_rows": null,
            "grid_gap": null,
            "max_width": null,
            "order": null,
            "_view_module_version": "1.2.0",
            "grid_template_areas": null,
            "object_position": null,
            "object_fit": null,
            "grid_auto_columns": null,
            "margin": null,
            "display": null,
            "left": null
          }
        },
        "4c4324b33bf84bf9a7900f8e5e1131b7": {
          "model_module": "@jupyter-widgets/controls",
          "model_name": "FloatProgressModel",
          "state": {
            "_view_name": "ProgressView",
            "style": "IPY_MODEL_b05cf16c48dd4f5f988075684785b277",
            "_dom_classes": [],
            "description": "Downloading: 100%",
            "_model_name": "FloatProgressModel",
            "bar_style": "success",
            "max": 2244861551,
            "_view_module": "@jupyter-widgets/controls",
            "_model_module_version": "1.5.0",
            "value": 2244861551,
            "_view_count": null,
            "_view_module_version": "1.5.0",
            "orientation": "horizontal",
            "min": 0,
            "description_tooltip": null,
            "_model_module": "@jupyter-widgets/controls",
            "layout": "IPY_MODEL_9a0542b1d8e34307a2b7af81273479c7"
          }
        },
        "6010a94f082d483bb0c9fbb6f1f7b5c1": {
          "model_module": "@jupyter-widgets/controls",
          "model_name": "HTMLModel",
          "state": {
            "_view_name": "HTMLView",
            "style": "IPY_MODEL_638e16cf10d744508c18d4dfd30594be",
            "_dom_classes": [],
            "description": "",
            "_model_name": "HTMLModel",
            "placeholder": "​",
            "_view_module": "@jupyter-widgets/controls",
            "_model_module_version": "1.5.0",
            "value": " 2.24G/2.24G [01:05&lt;00:00, 34.3MB/s]",
            "_view_count": null,
            "_view_module_version": "1.5.0",
            "description_tooltip": null,
            "_model_module": "@jupyter-widgets/controls",
            "layout": "IPY_MODEL_a36ad2c14f454b69b09c6b4a55d2e5e4"
          }
        },
        "b05cf16c48dd4f5f988075684785b277": {
          "model_module": "@jupyter-widgets/controls",
          "model_name": "ProgressStyleModel",
          "state": {
            "_view_name": "StyleView",
            "_model_name": "ProgressStyleModel",
            "description_width": "initial",
            "_view_module": "@jupyter-widgets/base",
            "_model_module_version": "1.5.0",
            "_view_count": null,
            "_view_module_version": "1.2.0",
            "bar_color": null,
            "_model_module": "@jupyter-widgets/controls"
          }
        },
        "9a0542b1d8e34307a2b7af81273479c7": {
          "model_module": "@jupyter-widgets/base",
          "model_name": "LayoutModel",
          "state": {
            "_view_name": "LayoutView",
            "grid_template_rows": null,
            "right": null,
            "justify_content": null,
            "_view_module": "@jupyter-widgets/base",
            "overflow": null,
            "_model_module_version": "1.2.0",
            "_view_count": null,
            "flex_flow": null,
            "width": null,
            "min_width": null,
            "border": null,
            "align_items": null,
            "bottom": null,
            "_model_module": "@jupyter-widgets/base",
            "top": null,
            "grid_column": null,
            "overflow_y": null,
            "overflow_x": null,
            "grid_auto_flow": null,
            "grid_area": null,
            "grid_template_columns": null,
            "flex": null,
            "_model_name": "LayoutModel",
            "justify_items": null,
            "grid_row": null,
            "max_height": null,
            "align_content": null,
            "visibility": null,
            "align_self": null,
            "height": null,
            "min_height": null,
            "padding": null,
            "grid_auto_rows": null,
            "grid_gap": null,
            "max_width": null,
            "order": null,
            "_view_module_version": "1.2.0",
            "grid_template_areas": null,
            "object_position": null,
            "object_fit": null,
            "grid_auto_columns": null,
            "margin": null,
            "display": null,
            "left": null
          }
        },
        "638e16cf10d744508c18d4dfd30594be": {
          "model_module": "@jupyter-widgets/controls",
          "model_name": "DescriptionStyleModel",
          "state": {
            "_view_name": "StyleView",
            "_model_name": "DescriptionStyleModel",
            "description_width": "",
            "_view_module": "@jupyter-widgets/base",
            "_model_module_version": "1.5.0",
            "_view_count": null,
            "_view_module_version": "1.2.0",
            "_model_module": "@jupyter-widgets/controls"
          }
        },
        "a36ad2c14f454b69b09c6b4a55d2e5e4": {
          "model_module": "@jupyter-widgets/base",
          "model_name": "LayoutModel",
          "state": {
            "_view_name": "LayoutView",
            "grid_template_rows": null,
            "right": null,
            "justify_content": null,
            "_view_module": "@jupyter-widgets/base",
            "overflow": null,
            "_model_module_version": "1.2.0",
            "_view_count": null,
            "flex_flow": null,
            "width": null,
            "min_width": null,
            "border": null,
            "align_items": null,
            "bottom": null,
            "_model_module": "@jupyter-widgets/base",
            "top": null,
            "grid_column": null,
            "overflow_y": null,
            "overflow_x": null,
            "grid_auto_flow": null,
            "grid_area": null,
            "grid_template_columns": null,
            "flex": null,
            "_model_name": "LayoutModel",
            "justify_items": null,
            "grid_row": null,
            "max_height": null,
            "align_content": null,
            "visibility": null,
            "align_self": null,
            "height": null,
            "min_height": null,
            "padding": null,
            "grid_auto_rows": null,
            "grid_gap": null,
            "max_width": null,
            "order": null,
            "_view_module_version": "1.2.0",
            "grid_template_areas": null,
            "object_position": null,
            "object_fit": null,
            "grid_auto_columns": null,
            "margin": null,
            "display": null,
            "left": null
          }
        },
        "30e55da67db34979ab96b3e45d816f1a": {
          "model_module": "@jupyter-widgets/controls",
          "model_name": "HBoxModel",
          "state": {
            "_view_name": "HBoxView",
            "_dom_classes": [],
            "_model_name": "HBoxModel",
            "_view_module": "@jupyter-widgets/controls",
            "_model_module_version": "1.5.0",
            "_view_count": null,
            "_view_module_version": "1.5.0",
            "box_style": "",
            "layout": "IPY_MODEL_81587565f96c43c8beb5b3087fabd99d",
            "_model_module": "@jupyter-widgets/controls",
            "children": [
              "IPY_MODEL_7ae53882714443719eac341f9620b4c8",
              "IPY_MODEL_2a98a2a7c0104a49a2657ccd532a27e0"
            ]
          }
        },
        "81587565f96c43c8beb5b3087fabd99d": {
          "model_module": "@jupyter-widgets/base",
          "model_name": "LayoutModel",
          "state": {
            "_view_name": "LayoutView",
            "grid_template_rows": null,
            "right": null,
            "justify_content": null,
            "_view_module": "@jupyter-widgets/base",
            "overflow": null,
            "_model_module_version": "1.2.0",
            "_view_count": null,
            "flex_flow": null,
            "width": null,
            "min_width": null,
            "border": null,
            "align_items": null,
            "bottom": null,
            "_model_module": "@jupyter-widgets/base",
            "top": null,
            "grid_column": null,
            "overflow_y": null,
            "overflow_x": null,
            "grid_auto_flow": null,
            "grid_area": null,
            "grid_template_columns": null,
            "flex": null,
            "_model_name": "LayoutModel",
            "justify_items": null,
            "grid_row": null,
            "max_height": null,
            "align_content": null,
            "visibility": null,
            "align_self": null,
            "height": null,
            "min_height": null,
            "padding": null,
            "grid_auto_rows": null,
            "grid_gap": null,
            "max_width": null,
            "order": null,
            "_view_module_version": "1.2.0",
            "grid_template_areas": null,
            "object_position": null,
            "object_fit": null,
            "grid_auto_columns": null,
            "margin": null,
            "display": null,
            "left": null
          }
        },
        "7ae53882714443719eac341f9620b4c8": {
          "model_module": "@jupyter-widgets/controls",
          "model_name": "FloatProgressModel",
          "state": {
            "_view_name": "ProgressView",
            "style": "IPY_MODEL_7f4db45dde294ef4a3e380b9e1e85a71",
            "_dom_classes": [],
            "description": "Downloading: 100%",
            "_model_name": "FloatProgressModel",
            "bar_style": "success",
            "max": 5069051,
            "_view_module": "@jupyter-widgets/controls",
            "_model_module_version": "1.5.0",
            "value": 5069051,
            "_view_count": null,
            "_view_module_version": "1.5.0",
            "orientation": "horizontal",
            "min": 0,
            "description_tooltip": null,
            "_model_module": "@jupyter-widgets/controls",
            "layout": "IPY_MODEL_8f09f94ef4ce4850b3ba4c1a9169463b"
          }
        },
        "2a98a2a7c0104a49a2657ccd532a27e0": {
          "model_module": "@jupyter-widgets/controls",
          "model_name": "HTMLModel",
          "state": {
            "_view_name": "HTMLView",
            "style": "IPY_MODEL_e67964bd643e4798aceea437405461ed",
            "_dom_classes": [],
            "description": "",
            "_model_name": "HTMLModel",
            "placeholder": "​",
            "_view_module": "@jupyter-widgets/controls",
            "_model_module_version": "1.5.0",
            "value": " 5.07M/5.07M [00:01&lt;00:00, 2.68MB/s]",
            "_view_count": null,
            "_view_module_version": "1.5.0",
            "description_tooltip": null,
            "_model_module": "@jupyter-widgets/controls",
            "layout": "IPY_MODEL_a893b24199b745dea10e0ee494632de0"
          }
        },
        "7f4db45dde294ef4a3e380b9e1e85a71": {
          "model_module": "@jupyter-widgets/controls",
          "model_name": "ProgressStyleModel",
          "state": {
            "_view_name": "StyleView",
            "_model_name": "ProgressStyleModel",
            "description_width": "initial",
            "_view_module": "@jupyter-widgets/base",
            "_model_module_version": "1.5.0",
            "_view_count": null,
            "_view_module_version": "1.2.0",
            "bar_color": null,
            "_model_module": "@jupyter-widgets/controls"
          }
        },
        "8f09f94ef4ce4850b3ba4c1a9169463b": {
          "model_module": "@jupyter-widgets/base",
          "model_name": "LayoutModel",
          "state": {
            "_view_name": "LayoutView",
            "grid_template_rows": null,
            "right": null,
            "justify_content": null,
            "_view_module": "@jupyter-widgets/base",
            "overflow": null,
            "_model_module_version": "1.2.0",
            "_view_count": null,
            "flex_flow": null,
            "width": null,
            "min_width": null,
            "border": null,
            "align_items": null,
            "bottom": null,
            "_model_module": "@jupyter-widgets/base",
            "top": null,
            "grid_column": null,
            "overflow_y": null,
            "overflow_x": null,
            "grid_auto_flow": null,
            "grid_area": null,
            "grid_template_columns": null,
            "flex": null,
            "_model_name": "LayoutModel",
            "justify_items": null,
            "grid_row": null,
            "max_height": null,
            "align_content": null,
            "visibility": null,
            "align_self": null,
            "height": null,
            "min_height": null,
            "padding": null,
            "grid_auto_rows": null,
            "grid_gap": null,
            "max_width": null,
            "order": null,
            "_view_module_version": "1.2.0",
            "grid_template_areas": null,
            "object_position": null,
            "object_fit": null,
            "grid_auto_columns": null,
            "margin": null,
            "display": null,
            "left": null
          }
        },
        "e67964bd643e4798aceea437405461ed": {
          "model_module": "@jupyter-widgets/controls",
          "model_name": "DescriptionStyleModel",
          "state": {
            "_view_name": "StyleView",
            "_model_name": "DescriptionStyleModel",
            "description_width": "",
            "_view_module": "@jupyter-widgets/base",
            "_model_module_version": "1.5.0",
            "_view_count": null,
            "_view_module_version": "1.2.0",
            "_model_module": "@jupyter-widgets/controls"
          }
        },
        "a893b24199b745dea10e0ee494632de0": {
          "model_module": "@jupyter-widgets/base",
          "model_name": "LayoutModel",
          "state": {
            "_view_name": "LayoutView",
            "grid_template_rows": null,
            "right": null,
            "justify_content": null,
            "_view_module": "@jupyter-widgets/base",
            "overflow": null,
            "_model_module_version": "1.2.0",
            "_view_count": null,
            "flex_flow": null,
            "width": null,
            "min_width": null,
            "border": null,
            "align_items": null,
            "bottom": null,
            "_model_module": "@jupyter-widgets/base",
            "top": null,
            "grid_column": null,
            "overflow_y": null,
            "overflow_x": null,
            "grid_auto_flow": null,
            "grid_area": null,
            "grid_template_columns": null,
            "flex": null,
            "_model_name": "LayoutModel",
            "justify_items": null,
            "grid_row": null,
            "max_height": null,
            "align_content": null,
            "visibility": null,
            "align_self": null,
            "height": null,
            "min_height": null,
            "padding": null,
            "grid_auto_rows": null,
            "grid_gap": null,
            "max_width": null,
            "order": null,
            "_view_module_version": "1.2.0",
            "grid_template_areas": null,
            "object_position": null,
            "object_fit": null,
            "grid_auto_columns": null,
            "margin": null,
            "display": null,
            "left": null
          }
        },
        "863c8ea986764b1fb9d5beb920a6edfc": {
          "model_module": "@jupyter-widgets/controls",
          "model_name": "HBoxModel",
          "state": {
            "_view_name": "HBoxView",
            "_dom_classes": [],
            "_model_name": "HBoxModel",
            "_view_module": "@jupyter-widgets/controls",
            "_model_module_version": "1.5.0",
            "_view_count": null,
            "_view_module_version": "1.5.0",
            "box_style": "",
            "layout": "IPY_MODEL_c7b641d8bcd5479e8a8b1ebc8acebe1f",
            "_model_module": "@jupyter-widgets/controls",
            "children": [
              "IPY_MODEL_44a0ce4d156a4b298848eeffb964f04f",
              "IPY_MODEL_9d0fb980993f4c27847d8b2c501724b6"
            ]
          }
        },
        "c7b641d8bcd5479e8a8b1ebc8acebe1f": {
          "model_module": "@jupyter-widgets/base",
          "model_name": "LayoutModel",
          "state": {
            "_view_name": "LayoutView",
            "grid_template_rows": null,
            "right": null,
            "justify_content": null,
            "_view_module": "@jupyter-widgets/base",
            "overflow": null,
            "_model_module_version": "1.2.0",
            "_view_count": null,
            "flex_flow": null,
            "width": null,
            "min_width": null,
            "border": null,
            "align_items": null,
            "bottom": null,
            "_model_module": "@jupyter-widgets/base",
            "top": null,
            "grid_column": null,
            "overflow_y": null,
            "overflow_x": null,
            "grid_auto_flow": null,
            "grid_area": null,
            "grid_template_columns": null,
            "flex": null,
            "_model_name": "LayoutModel",
            "justify_items": null,
            "grid_row": null,
            "max_height": null,
            "align_content": null,
            "visibility": null,
            "align_self": null,
            "height": null,
            "min_height": null,
            "padding": null,
            "grid_auto_rows": null,
            "grid_gap": null,
            "max_width": null,
            "order": null,
            "_view_module_version": "1.2.0",
            "grid_template_areas": null,
            "object_position": null,
            "object_fit": null,
            "grid_auto_columns": null,
            "margin": null,
            "display": null,
            "left": null
          }
        },
        "44a0ce4d156a4b298848eeffb964f04f": {
          "model_module": "@jupyter-widgets/controls",
          "model_name": "FloatProgressModel",
          "state": {
            "_view_name": "ProgressView",
            "style": "IPY_MODEL_9dcaba0d928541f896170cb3a1911af9",
            "_dom_classes": [],
            "description": "100%",
            "_model_name": "FloatProgressModel",
            "bar_style": "success",
            "max": 23,
            "_view_module": "@jupyter-widgets/controls",
            "_model_module_version": "1.5.0",
            "value": 23,
            "_view_count": null,
            "_view_module_version": "1.5.0",
            "orientation": "horizontal",
            "min": 0,
            "description_tooltip": null,
            "_model_module": "@jupyter-widgets/controls",
            "layout": "IPY_MODEL_40562fba7d49473baba2d0b4755f4dba"
          }
        },
        "9d0fb980993f4c27847d8b2c501724b6": {
          "model_module": "@jupyter-widgets/controls",
          "model_name": "HTMLModel",
          "state": {
            "_view_name": "HTMLView",
            "style": "IPY_MODEL_fb477f21ebb24d4199818c635331bc31",
            "_dom_classes": [],
            "description": "",
            "_model_name": "HTMLModel",
            "placeholder": "​",
            "_view_module": "@jupyter-widgets/controls",
            "_model_module_version": "1.5.0",
            "value": " 23/23 [09:00&lt;00:00, 23.52s/it]",
            "_view_count": null,
            "_view_module_version": "1.5.0",
            "description_tooltip": null,
            "_model_module": "@jupyter-widgets/controls",
            "layout": "IPY_MODEL_9305c7473c204951b1fde47905307324"
          }
        },
        "9dcaba0d928541f896170cb3a1911af9": {
          "model_module": "@jupyter-widgets/controls",
          "model_name": "ProgressStyleModel",
          "state": {
            "_view_name": "StyleView",
            "_model_name": "ProgressStyleModel",
            "description_width": "initial",
            "_view_module": "@jupyter-widgets/base",
            "_model_module_version": "1.5.0",
            "_view_count": null,
            "_view_module_version": "1.2.0",
            "bar_color": null,
            "_model_module": "@jupyter-widgets/controls"
          }
        },
        "40562fba7d49473baba2d0b4755f4dba": {
          "model_module": "@jupyter-widgets/base",
          "model_name": "LayoutModel",
          "state": {
            "_view_name": "LayoutView",
            "grid_template_rows": null,
            "right": null,
            "justify_content": null,
            "_view_module": "@jupyter-widgets/base",
            "overflow": null,
            "_model_module_version": "1.2.0",
            "_view_count": null,
            "flex_flow": null,
            "width": null,
            "min_width": null,
            "border": null,
            "align_items": null,
            "bottom": null,
            "_model_module": "@jupyter-widgets/base",
            "top": null,
            "grid_column": null,
            "overflow_y": null,
            "overflow_x": null,
            "grid_auto_flow": null,
            "grid_area": null,
            "grid_template_columns": null,
            "flex": null,
            "_model_name": "LayoutModel",
            "justify_items": null,
            "grid_row": null,
            "max_height": null,
            "align_content": null,
            "visibility": null,
            "align_self": null,
            "height": null,
            "min_height": null,
            "padding": null,
            "grid_auto_rows": null,
            "grid_gap": null,
            "max_width": null,
            "order": null,
            "_view_module_version": "1.2.0",
            "grid_template_areas": null,
            "object_position": null,
            "object_fit": null,
            "grid_auto_columns": null,
            "margin": null,
            "display": null,
            "left": null
          }
        },
        "fb477f21ebb24d4199818c635331bc31": {
          "model_module": "@jupyter-widgets/controls",
          "model_name": "DescriptionStyleModel",
          "state": {
            "_view_name": "StyleView",
            "_model_name": "DescriptionStyleModel",
            "description_width": "",
            "_view_module": "@jupyter-widgets/base",
            "_model_module_version": "1.5.0",
            "_view_count": null,
            "_view_module_version": "1.2.0",
            "_model_module": "@jupyter-widgets/controls"
          }
        },
        "9305c7473c204951b1fde47905307324": {
          "model_module": "@jupyter-widgets/base",
          "model_name": "LayoutModel",
          "state": {
            "_view_name": "LayoutView",
            "grid_template_rows": null,
            "right": null,
            "justify_content": null,
            "_view_module": "@jupyter-widgets/base",
            "overflow": null,
            "_model_module_version": "1.2.0",
            "_view_count": null,
            "flex_flow": null,
            "width": null,
            "min_width": null,
            "border": null,
            "align_items": null,
            "bottom": null,
            "_model_module": "@jupyter-widgets/base",
            "top": null,
            "grid_column": null,
            "overflow_y": null,
            "overflow_x": null,
            "grid_auto_flow": null,
            "grid_area": null,
            "grid_template_columns": null,
            "flex": null,
            "_model_name": "LayoutModel",
            "justify_items": null,
            "grid_row": null,
            "max_height": null,
            "align_content": null,
            "visibility": null,
            "align_self": null,
            "height": null,
            "min_height": null,
            "padding": null,
            "grid_auto_rows": null,
            "grid_gap": null,
            "max_width": null,
            "order": null,
            "_view_module_version": "1.2.0",
            "grid_template_areas": null,
            "object_position": null,
            "object_fit": null,
            "grid_auto_columns": null,
            "margin": null,
            "display": null,
            "left": null
          }
        },
        "aa940bce610a4f69a361d7430fdf90de": {
          "model_module": "@jupyter-widgets/controls",
          "model_name": "HBoxModel",
          "state": {
            "_view_name": "HBoxView",
            "_dom_classes": [],
            "_model_name": "HBoxModel",
            "_view_module": "@jupyter-widgets/controls",
            "_model_module_version": "1.5.0",
            "_view_count": null,
            "_view_module_version": "1.5.0",
            "box_style": "",
            "layout": "IPY_MODEL_1bdcb7cc979740b1805a7267af5fc3a5",
            "_model_module": "@jupyter-widgets/controls",
            "children": [
              "IPY_MODEL_b4db19a636bc49d1a8cbf8a5077ae821",
              "IPY_MODEL_87d3642eb23c4c668fdbd0eaa64815a3"
            ]
          }
        },
        "1bdcb7cc979740b1805a7267af5fc3a5": {
          "model_module": "@jupyter-widgets/base",
          "model_name": "LayoutModel",
          "state": {
            "_view_name": "LayoutView",
            "grid_template_rows": null,
            "right": null,
            "justify_content": null,
            "_view_module": "@jupyter-widgets/base",
            "overflow": null,
            "_model_module_version": "1.2.0",
            "_view_count": null,
            "flex_flow": null,
            "width": null,
            "min_width": null,
            "border": null,
            "align_items": null,
            "bottom": null,
            "_model_module": "@jupyter-widgets/base",
            "top": null,
            "grid_column": null,
            "overflow_y": null,
            "overflow_x": null,
            "grid_auto_flow": null,
            "grid_area": null,
            "grid_template_columns": null,
            "flex": null,
            "_model_name": "LayoutModel",
            "justify_items": null,
            "grid_row": null,
            "max_height": null,
            "align_content": null,
            "visibility": null,
            "align_self": null,
            "height": null,
            "min_height": null,
            "padding": null,
            "grid_auto_rows": null,
            "grid_gap": null,
            "max_width": null,
            "order": null,
            "_view_module_version": "1.2.0",
            "grid_template_areas": null,
            "object_position": null,
            "object_fit": null,
            "grid_auto_columns": null,
            "margin": null,
            "display": null,
            "left": null
          }
        },
        "b4db19a636bc49d1a8cbf8a5077ae821": {
          "model_module": "@jupyter-widgets/controls",
          "model_name": "FloatProgressModel",
          "state": {
            "_view_name": "ProgressView",
            "style": "IPY_MODEL_35c411af9a2542a8906642bccb437a37",
            "_dom_classes": [],
            "description": "100%",
            "_model_name": "FloatProgressModel",
            "bar_style": "success",
            "max": 2,
            "_view_module": "@jupyter-widgets/controls",
            "_model_module_version": "1.5.0",
            "value": 2,
            "_view_count": null,
            "_view_module_version": "1.5.0",
            "orientation": "horizontal",
            "min": 0,
            "description_tooltip": null,
            "_model_module": "@jupyter-widgets/controls",
            "layout": "IPY_MODEL_7e0e434ec8244a968c52e2f6ace49efc"
          }
        },
        "87d3642eb23c4c668fdbd0eaa64815a3": {
          "model_module": "@jupyter-widgets/controls",
          "model_name": "HTMLModel",
          "state": {
            "_view_name": "HTMLView",
            "style": "IPY_MODEL_80eba3bc950b46ce902c7083cb767747",
            "_dom_classes": [],
            "description": "",
            "_model_name": "HTMLModel",
            "placeholder": "​",
            "_view_module": "@jupyter-widgets/controls",
            "_model_module_version": "1.5.0",
            "value": " 2/2 [00:02&lt;00:00,  1.48s/it]",
            "_view_count": null,
            "_view_module_version": "1.5.0",
            "description_tooltip": null,
            "_model_module": "@jupyter-widgets/controls",
            "layout": "IPY_MODEL_df36c3e90cdb42d0a4bbab8e380dd65e"
          }
        },
        "35c411af9a2542a8906642bccb437a37": {
          "model_module": "@jupyter-widgets/controls",
          "model_name": "ProgressStyleModel",
          "state": {
            "_view_name": "StyleView",
            "_model_name": "ProgressStyleModel",
            "description_width": "initial",
            "_view_module": "@jupyter-widgets/base",
            "_model_module_version": "1.5.0",
            "_view_count": null,
            "_view_module_version": "1.2.0",
            "bar_color": null,
            "_model_module": "@jupyter-widgets/controls"
          }
        },
        "7e0e434ec8244a968c52e2f6ace49efc": {
          "model_module": "@jupyter-widgets/base",
          "model_name": "LayoutModel",
          "state": {
            "_view_name": "LayoutView",
            "grid_template_rows": null,
            "right": null,
            "justify_content": null,
            "_view_module": "@jupyter-widgets/base",
            "overflow": null,
            "_model_module_version": "1.2.0",
            "_view_count": null,
            "flex_flow": null,
            "width": null,
            "min_width": null,
            "border": null,
            "align_items": null,
            "bottom": null,
            "_model_module": "@jupyter-widgets/base",
            "top": null,
            "grid_column": null,
            "overflow_y": null,
            "overflow_x": null,
            "grid_auto_flow": null,
            "grid_area": null,
            "grid_template_columns": null,
            "flex": null,
            "_model_name": "LayoutModel",
            "justify_items": null,
            "grid_row": null,
            "max_height": null,
            "align_content": null,
            "visibility": null,
            "align_self": null,
            "height": null,
            "min_height": null,
            "padding": null,
            "grid_auto_rows": null,
            "grid_gap": null,
            "max_width": null,
            "order": null,
            "_view_module_version": "1.2.0",
            "grid_template_areas": null,
            "object_position": null,
            "object_fit": null,
            "grid_auto_columns": null,
            "margin": null,
            "display": null,
            "left": null
          }
        },
        "80eba3bc950b46ce902c7083cb767747": {
          "model_module": "@jupyter-widgets/controls",
          "model_name": "DescriptionStyleModel",
          "state": {
            "_view_name": "StyleView",
            "_model_name": "DescriptionStyleModel",
            "description_width": "",
            "_view_module": "@jupyter-widgets/base",
            "_model_module_version": "1.5.0",
            "_view_count": null,
            "_view_module_version": "1.2.0",
            "_model_module": "@jupyter-widgets/controls"
          }
        },
        "df36c3e90cdb42d0a4bbab8e380dd65e": {
          "model_module": "@jupyter-widgets/base",
          "model_name": "LayoutModel",
          "state": {
            "_view_name": "LayoutView",
            "grid_template_rows": null,
            "right": null,
            "justify_content": null,
            "_view_module": "@jupyter-widgets/base",
            "overflow": null,
            "_model_module_version": "1.2.0",
            "_view_count": null,
            "flex_flow": null,
            "width": null,
            "min_width": null,
            "border": null,
            "align_items": null,
            "bottom": null,
            "_model_module": "@jupyter-widgets/base",
            "top": null,
            "grid_column": null,
            "overflow_y": null,
            "overflow_x": null,
            "grid_auto_flow": null,
            "grid_area": null,
            "grid_template_columns": null,
            "flex": null,
            "_model_name": "LayoutModel",
            "justify_items": null,
            "grid_row": null,
            "max_height": null,
            "align_content": null,
            "visibility": null,
            "align_self": null,
            "height": null,
            "min_height": null,
            "padding": null,
            "grid_auto_rows": null,
            "grid_gap": null,
            "max_width": null,
            "order": null,
            "_view_module_version": "1.2.0",
            "grid_template_areas": null,
            "object_position": null,
            "object_fit": null,
            "grid_auto_columns": null,
            "margin": null,
            "display": null,
            "left": null
          }
        },
        "80be08759eba43498af65b0b5180f795": {
          "model_module": "@jupyter-widgets/controls",
          "model_name": "HBoxModel",
          "state": {
            "_view_name": "HBoxView",
            "_dom_classes": [],
            "_model_name": "HBoxModel",
            "_view_module": "@jupyter-widgets/controls",
            "_model_module_version": "1.5.0",
            "_view_count": null,
            "_view_module_version": "1.5.0",
            "box_style": "",
            "layout": "IPY_MODEL_e64d6a3b9792471a8b83beb0e3d7f94e",
            "_model_module": "@jupyter-widgets/controls",
            "children": [
              "IPY_MODEL_044e0901003b430da685c4092b85d0f0",
              "IPY_MODEL_5e85237b18604365bfe4d01251b5e90c"
            ]
          }
        },
        "e64d6a3b9792471a8b83beb0e3d7f94e": {
          "model_module": "@jupyter-widgets/base",
          "model_name": "LayoutModel",
          "state": {
            "_view_name": "LayoutView",
            "grid_template_rows": null,
            "right": null,
            "justify_content": null,
            "_view_module": "@jupyter-widgets/base",
            "overflow": null,
            "_model_module_version": "1.2.0",
            "_view_count": null,
            "flex_flow": null,
            "width": null,
            "min_width": null,
            "border": null,
            "align_items": null,
            "bottom": null,
            "_model_module": "@jupyter-widgets/base",
            "top": null,
            "grid_column": null,
            "overflow_y": null,
            "overflow_x": null,
            "grid_auto_flow": null,
            "grid_area": null,
            "grid_template_columns": null,
            "flex": null,
            "_model_name": "LayoutModel",
            "justify_items": null,
            "grid_row": null,
            "max_height": null,
            "align_content": null,
            "visibility": null,
            "align_self": null,
            "height": null,
            "min_height": null,
            "padding": null,
            "grid_auto_rows": null,
            "grid_gap": null,
            "max_width": null,
            "order": null,
            "_view_module_version": "1.2.0",
            "grid_template_areas": null,
            "object_position": null,
            "object_fit": null,
            "grid_auto_columns": null,
            "margin": null,
            "display": null,
            "left": null
          }
        },
        "044e0901003b430da685c4092b85d0f0": {
          "model_module": "@jupyter-widgets/controls",
          "model_name": "FloatProgressModel",
          "state": {
            "_view_name": "ProgressView",
            "style": "IPY_MODEL_12d43da1e0d946809d1225a87041cb76",
            "_dom_classes": [],
            "description": "100%",
            "_model_name": "FloatProgressModel",
            "bar_style": "success",
            "max": 7,
            "_view_module": "@jupyter-widgets/controls",
            "_model_module_version": "1.5.0",
            "value": 7,
            "_view_count": null,
            "_view_module_version": "1.5.0",
            "orientation": "horizontal",
            "min": 0,
            "description_tooltip": null,
            "_model_module": "@jupyter-widgets/controls",
            "layout": "IPY_MODEL_1b99c68304f04af9b1a5087ce88a2829"
          }
        },
        "5e85237b18604365bfe4d01251b5e90c": {
          "model_module": "@jupyter-widgets/controls",
          "model_name": "HTMLModel",
          "state": {
            "_view_name": "HTMLView",
            "style": "IPY_MODEL_e3ff81f818ff41f696fdbb5a4838f935",
            "_dom_classes": [],
            "description": "",
            "_model_name": "HTMLModel",
            "placeholder": "​",
            "_view_module": "@jupyter-widgets/controls",
            "_model_module_version": "1.5.0",
            "value": " 7/7 [08:19&lt;00:00, 71.29s/it]",
            "_view_count": null,
            "_view_module_version": "1.5.0",
            "description_tooltip": null,
            "_model_module": "@jupyter-widgets/controls",
            "layout": "IPY_MODEL_1b5e6776a3d043368c43c01ce99b6cf1"
          }
        },
        "12d43da1e0d946809d1225a87041cb76": {
          "model_module": "@jupyter-widgets/controls",
          "model_name": "ProgressStyleModel",
          "state": {
            "_view_name": "StyleView",
            "_model_name": "ProgressStyleModel",
            "description_width": "initial",
            "_view_module": "@jupyter-widgets/base",
            "_model_module_version": "1.5.0",
            "_view_count": null,
            "_view_module_version": "1.2.0",
            "bar_color": null,
            "_model_module": "@jupyter-widgets/controls"
          }
        },
        "1b99c68304f04af9b1a5087ce88a2829": {
          "model_module": "@jupyter-widgets/base",
          "model_name": "LayoutModel",
          "state": {
            "_view_name": "LayoutView",
            "grid_template_rows": null,
            "right": null,
            "justify_content": null,
            "_view_module": "@jupyter-widgets/base",
            "overflow": null,
            "_model_module_version": "1.2.0",
            "_view_count": null,
            "flex_flow": null,
            "width": null,
            "min_width": null,
            "border": null,
            "align_items": null,
            "bottom": null,
            "_model_module": "@jupyter-widgets/base",
            "top": null,
            "grid_column": null,
            "overflow_y": null,
            "overflow_x": null,
            "grid_auto_flow": null,
            "grid_area": null,
            "grid_template_columns": null,
            "flex": null,
            "_model_name": "LayoutModel",
            "justify_items": null,
            "grid_row": null,
            "max_height": null,
            "align_content": null,
            "visibility": null,
            "align_self": null,
            "height": null,
            "min_height": null,
            "padding": null,
            "grid_auto_rows": null,
            "grid_gap": null,
            "max_width": null,
            "order": null,
            "_view_module_version": "1.2.0",
            "grid_template_areas": null,
            "object_position": null,
            "object_fit": null,
            "grid_auto_columns": null,
            "margin": null,
            "display": null,
            "left": null
          }
        },
        "e3ff81f818ff41f696fdbb5a4838f935": {
          "model_module": "@jupyter-widgets/controls",
          "model_name": "DescriptionStyleModel",
          "state": {
            "_view_name": "StyleView",
            "_model_name": "DescriptionStyleModel",
            "description_width": "",
            "_view_module": "@jupyter-widgets/base",
            "_model_module_version": "1.5.0",
            "_view_count": null,
            "_view_module_version": "1.2.0",
            "_model_module": "@jupyter-widgets/controls"
          }
        },
        "1b5e6776a3d043368c43c01ce99b6cf1": {
          "model_module": "@jupyter-widgets/base",
          "model_name": "LayoutModel",
          "state": {
            "_view_name": "LayoutView",
            "grid_template_rows": null,
            "right": null,
            "justify_content": null,
            "_view_module": "@jupyter-widgets/base",
            "overflow": null,
            "_model_module_version": "1.2.0",
            "_view_count": null,
            "flex_flow": null,
            "width": null,
            "min_width": null,
            "border": null,
            "align_items": null,
            "bottom": null,
            "_model_module": "@jupyter-widgets/base",
            "top": null,
            "grid_column": null,
            "overflow_y": null,
            "overflow_x": null,
            "grid_auto_flow": null,
            "grid_area": null,
            "grid_template_columns": null,
            "flex": null,
            "_model_name": "LayoutModel",
            "justify_items": null,
            "grid_row": null,
            "max_height": null,
            "align_content": null,
            "visibility": null,
            "align_self": null,
            "height": null,
            "min_height": null,
            "padding": null,
            "grid_auto_rows": null,
            "grid_gap": null,
            "max_width": null,
            "order": null,
            "_view_module_version": "1.2.0",
            "grid_template_areas": null,
            "object_position": null,
            "object_fit": null,
            "grid_auto_columns": null,
            "margin": null,
            "display": null,
            "left": null
          }
        }
      }
    }
  },
  "cells": [
    {
      "cell_type": "markdown",
      "metadata": {
        "id": "xSmXB9NX7JGM"
      },
      "source": [
        "# Fake News classification\n",
        "\n",
        "В этом треке необходимо научиться предсказывать подлинность новости. В качестве данных вам предстоит работать с текстами новостей с различных информационных порталов. На этих данных вам предстоит обучить модель машинного обучения, предсказывающую является ли новость фейком или нет.\n",
        "\n",
        "Ссылка на соревнование: [Fake News classification](https://competitions.codalab.org/competitions/26284#learn_the_details-overview)"
      ]
    },
    {
      "cell_type": "markdown",
      "metadata": {
        "papermill": {
          "duration": 0.020523,
          "end_time": "2020-09-05T22:08:08.228630",
          "exception": false,
          "start_time": "2020-09-05T22:08:08.208107",
          "status": "completed"
        },
        "tags": [],
        "id": "tJjnwy5Fdt9f"
      },
      "source": [
        "# XLM-RoBERTa-large"
      ]
    },
    {
      "cell_type": "markdown",
      "metadata": {
        "id": "z0hUeWEG8rcS"
      },
      "source": [
        "Для решения данной задачи я использовала предобученную модель **XLM-RoBERTa** из библиотеки **Transformers** от **Hugging Face**. Модель была обучена на 100 языках, включая русский, поэтому должна хорошо подойти для классификации русских новостных текстов.\n",
        "\n",
        "Подробнее о модели можно прочитать по ссылкам:\n",
        "\n",
        "*   [Unsupervised Cross-lingual Representation Learning at Scale](https://arxiv.org/abs/1911.02116)\n",
        "*   [xlm-roberta-large](https://huggingface.co/xlm-roberta-large)\n",
        "\n"
      ]
    },
    {
      "cell_type": "markdown",
      "metadata": {
        "papermill": {
          "duration": 0.022614,
          "end_time": "2020-09-05T22:08:08.270925",
          "exception": false,
          "start_time": "2020-09-05T22:08:08.248311",
          "status": "completed"
        },
        "tags": [],
        "id": "By2lpsNbdt9n"
      },
      "source": [
        "## Dependencies"
      ]
    },
    {
      "cell_type": "markdown",
      "metadata": {
        "id": "qc3lNeo__f-I"
      },
      "source": [
        "Установим библиотеки от Hugging Face"
      ]
    },
    {
      "cell_type": "code",
      "metadata": {
        "execution": {
          "iopub.execute_input": "2020-09-05T22:08:08.317383Z",
          "iopub.status.busy": "2020-09-05T22:08:08.316484Z",
          "iopub.status.idle": "2020-09-05T22:08:38.689545Z",
          "shell.execute_reply": "2020-09-05T22:08:38.688712Z"
        },
        "papermill": {
          "duration": 30.399134,
          "end_time": "2020-09-05T22:08:38.689688",
          "exception": false,
          "start_time": "2020-09-05T22:08:08.290554",
          "status": "completed"
        },
        "tags": [],
        "id": "2HmhEEH1dt9o",
        "outputId": "2f55cc4a-26e6-471a-ccbb-7a243abcba33",
        "colab": {
          "base_uri": "https://localhost:8080/",
          "height": 1000
        }
      },
      "source": [
        "!pip install transformers==3.1.0\n",
        "!pip install -U nlp"
      ],
      "execution_count": null,
      "outputs": [
        {
          "output_type": "stream",
          "text": [
            "Collecting transformers==3.1.0\n",
            "\u001b[?25l  Downloading https://files.pythonhosted.org/packages/ae/05/c8c55b600308dc04e95100dc8ad8a244dd800fe75dfafcf1d6348c6f6209/transformers-3.1.0-py3-none-any.whl (884kB)\n",
            "\u001b[K     |████████████████████████████████| 890kB 3.3MB/s \n",
            "\u001b[?25hCollecting tokenizers==0.8.1.rc2\n",
            "\u001b[?25l  Downloading https://files.pythonhosted.org/packages/80/83/8b9fccb9e48eeb575ee19179e2bdde0ee9a1904f97de5f02d19016b8804f/tokenizers-0.8.1rc2-cp36-cp36m-manylinux1_x86_64.whl (3.0MB)\n",
            "\u001b[K     |████████████████████████████████| 3.0MB 16.2MB/s \n",
            "\u001b[?25hRequirement already satisfied: requests in /usr/local/lib/python3.6/dist-packages (from transformers==3.1.0) (2.23.0)\n",
            "Requirement already satisfied: dataclasses; python_version < \"3.7\" in /usr/local/lib/python3.6/dist-packages (from transformers==3.1.0) (0.7)\n",
            "Requirement already satisfied: tqdm>=4.27 in /usr/local/lib/python3.6/dist-packages (from transformers==3.1.0) (4.41.1)\n",
            "Collecting sacremoses\n",
            "\u001b[?25l  Downloading https://files.pythonhosted.org/packages/7d/34/09d19aff26edcc8eb2a01bed8e98f13a1537005d31e95233fd48216eed10/sacremoses-0.0.43.tar.gz (883kB)\n",
            "\u001b[K     |████████████████████████████████| 890kB 50.6MB/s \n",
            "\u001b[?25hRequirement already satisfied: regex!=2019.12.17 in /usr/local/lib/python3.6/dist-packages (from transformers==3.1.0) (2019.12.20)\n",
            "Collecting sentencepiece!=0.1.92\n",
            "\u001b[?25l  Downloading https://files.pythonhosted.org/packages/d4/a4/d0a884c4300004a78cca907a6ff9a5e9fe4f090f5d95ab341c53d28cbc58/sentencepiece-0.1.91-cp36-cp36m-manylinux1_x86_64.whl (1.1MB)\n",
            "\u001b[K     |████████████████████████████████| 1.1MB 48.4MB/s \n",
            "\u001b[?25hRequirement already satisfied: filelock in /usr/local/lib/python3.6/dist-packages (from transformers==3.1.0) (3.0.12)\n",
            "Requirement already satisfied: packaging in /usr/local/lib/python3.6/dist-packages (from transformers==3.1.0) (20.4)\n",
            "Requirement already satisfied: numpy in /usr/local/lib/python3.6/dist-packages (from transformers==3.1.0) (1.18.5)\n",
            "Requirement already satisfied: certifi>=2017.4.17 in /usr/local/lib/python3.6/dist-packages (from requests->transformers==3.1.0) (2020.6.20)\n",
            "Requirement already satisfied: idna<3,>=2.5 in /usr/local/lib/python3.6/dist-packages (from requests->transformers==3.1.0) (2.10)\n",
            "Requirement already satisfied: chardet<4,>=3.0.2 in /usr/local/lib/python3.6/dist-packages (from requests->transformers==3.1.0) (3.0.4)\n",
            "Requirement already satisfied: urllib3!=1.25.0,!=1.25.1,<1.26,>=1.21.1 in /usr/local/lib/python3.6/dist-packages (from requests->transformers==3.1.0) (1.24.3)\n",
            "Requirement already satisfied: six in /usr/local/lib/python3.6/dist-packages (from sacremoses->transformers==3.1.0) (1.15.0)\n",
            "Requirement already satisfied: click in /usr/local/lib/python3.6/dist-packages (from sacremoses->transformers==3.1.0) (7.1.2)\n",
            "Requirement already satisfied: joblib in /usr/local/lib/python3.6/dist-packages (from sacremoses->transformers==3.1.0) (0.16.0)\n",
            "Requirement already satisfied: pyparsing>=2.0.2 in /usr/local/lib/python3.6/dist-packages (from packaging->transformers==3.1.0) (2.4.7)\n",
            "Building wheels for collected packages: sacremoses\n",
            "  Building wheel for sacremoses (setup.py) ... \u001b[?25l\u001b[?25hdone\n",
            "  Created wheel for sacremoses: filename=sacremoses-0.0.43-cp36-none-any.whl size=893257 sha256=35f2de63eb354bfa7d68bb981da9e9150893a86c64e716eb7be5c24fdcd221ae\n",
            "  Stored in directory: /root/.cache/pip/wheels/29/3c/fd/7ce5c3f0666dab31a50123635e6fb5e19ceb42ce38d4e58f45\n",
            "Successfully built sacremoses\n",
            "Installing collected packages: tokenizers, sacremoses, sentencepiece, transformers\n",
            "Successfully installed sacremoses-0.0.43 sentencepiece-0.1.91 tokenizers-0.8.1rc2 transformers-3.1.0\n",
            "Collecting nlp\n",
            "\u001b[?25l  Downloading https://files.pythonhosted.org/packages/09/e3/bcdc59f3434b224040c1047769c47b82705feca2b89ebbc28311e3764782/nlp-0.4.0-py3-none-any.whl (1.7MB)\n",
            "\u001b[K     |████████████████████████████████| 1.7MB 3.4MB/s \n",
            "\u001b[?25hRequirement already satisfied, skipping upgrade: numpy in /usr/local/lib/python3.6/dist-packages (from nlp) (1.18.5)\n",
            "Requirement already satisfied, skipping upgrade: requests>=2.19.0 in /usr/local/lib/python3.6/dist-packages (from nlp) (2.23.0)\n",
            "Requirement already satisfied, skipping upgrade: filelock in /usr/local/lib/python3.6/dist-packages (from nlp) (3.0.12)\n",
            "Collecting xxhash\n",
            "\u001b[?25l  Downloading https://files.pythonhosted.org/packages/f7/73/826b19f3594756cb1c6c23d2fbd8ca6a77a9cd3b650c9dec5acc85004c38/xxhash-2.0.0-cp36-cp36m-manylinux2010_x86_64.whl (242kB)\n",
            "\u001b[K     |████████████████████████████████| 245kB 55.9MB/s \n",
            "\u001b[?25hRequirement already satisfied, skipping upgrade: dataclasses; python_version < \"3.7\" in /usr/local/lib/python3.6/dist-packages (from nlp) (0.7)\n",
            "Collecting pyarrow>=0.16.0\n",
            "\u001b[?25l  Downloading https://files.pythonhosted.org/packages/f3/99/0a605f016121ca314d1469dc9069e4978395bc46fda40f73099d90ad3ba4/pyarrow-1.0.1-cp36-cp36m-manylinux2014_x86_64.whl (17.3MB)\n",
            "\u001b[K     |████████████████████████████████| 17.3MB 262kB/s \n",
            "\u001b[?25hRequirement already satisfied, skipping upgrade: tqdm>=4.27 in /usr/local/lib/python3.6/dist-packages (from nlp) (4.41.1)\n",
            "Requirement already satisfied, skipping upgrade: pandas in /usr/local/lib/python3.6/dist-packages (from nlp) (1.0.5)\n",
            "Requirement already satisfied, skipping upgrade: dill in /usr/local/lib/python3.6/dist-packages (from nlp) (0.3.2)\n",
            "Requirement already satisfied, skipping upgrade: idna<3,>=2.5 in /usr/local/lib/python3.6/dist-packages (from requests>=2.19.0->nlp) (2.10)\n",
            "Requirement already satisfied, skipping upgrade: urllib3!=1.25.0,!=1.25.1,<1.26,>=1.21.1 in /usr/local/lib/python3.6/dist-packages (from requests>=2.19.0->nlp) (1.24.3)\n",
            "Requirement already satisfied, skipping upgrade: certifi>=2017.4.17 in /usr/local/lib/python3.6/dist-packages (from requests>=2.19.0->nlp) (2020.6.20)\n",
            "Requirement already satisfied, skipping upgrade: chardet<4,>=3.0.2 in /usr/local/lib/python3.6/dist-packages (from requests>=2.19.0->nlp) (3.0.4)\n",
            "Requirement already satisfied, skipping upgrade: python-dateutil>=2.6.1 in /usr/local/lib/python3.6/dist-packages (from pandas->nlp) (2.8.1)\n",
            "Requirement already satisfied, skipping upgrade: pytz>=2017.2 in /usr/local/lib/python3.6/dist-packages (from pandas->nlp) (2018.9)\n",
            "Requirement already satisfied, skipping upgrade: six>=1.5 in /usr/local/lib/python3.6/dist-packages (from python-dateutil>=2.6.1->pandas->nlp) (1.15.0)\n",
            "Installing collected packages: xxhash, pyarrow, nlp\n",
            "  Found existing installation: pyarrow 0.14.1\n",
            "    Uninstalling pyarrow-0.14.1:\n",
            "      Successfully uninstalled pyarrow-0.14.1\n",
            "Successfully installed nlp-0.4.0 pyarrow-1.0.1 xxhash-2.0.0\n"
          ],
          "name": "stdout"
        }
      ]
    },
    {
      "cell_type": "markdown",
      "metadata": {
        "id": "6kpvALTI_lhP"
      },
      "source": [
        "Для работы на TPU установим PyTorch-XLA"
      ]
    },
    {
      "cell_type": "code",
      "metadata": {
        "_cell_guid": "b1076dfc-b9ad-4769-8c92-a6c4dae69d19",
        "_kg_hide-input": true,
        "_kg_hide-output": true,
        "_uuid": "8f2839f25d086af736a60e9eeb907d3b93b6e0e5",
        "execution": {
          "iopub.execute_input": "2020-09-05T22:08:38.748722Z",
          "iopub.status.busy": "2020-09-05T22:08:38.747472Z",
          "iopub.status.idle": "2020-09-05T22:10:15.283546Z",
          "shell.execute_reply": "2020-09-05T22:10:15.282840Z"
        },
        "papermill": {
          "duration": 96.571073,
          "end_time": "2020-09-05T22:10:15.283678",
          "exception": false,
          "start_time": "2020-09-05T22:08:38.712605",
          "status": "completed"
        },
        "tags": [],
        "id": "AGetq1sCdt9w",
        "outputId": "b7cbbace-4e96-4288-92df-b91a6df82c9b",
        "colab": {
          "base_uri": "https://localhost:8080/",
          "height": 1000
        }
      },
      "source": [
        "!curl https://raw.githubusercontent.com/pytorch/xla/master/contrib/scripts/env-setup.py -o pytorch-xla-env-setup.py\n",
        "!python pytorch-xla-env-setup.py --version 20200924  --apt-packages libomp5 libopenblas-dev"
      ],
      "execution_count": null,
      "outputs": [
        {
          "output_type": "stream",
          "text": [
            "  % Total    % Received % Xferd  Average Speed   Time    Time     Time  Current\n",
            "                                 Dload  Upload   Total   Spent    Left  Speed\n",
            "100  5115  100  5115    0     0  26640      0 --:--:-- --:--:-- --:--:-- 26640\n",
            "Updating... This may take around 2 minutes.\n",
            "Updating TPU runtime to pytorch-dev20200924 ...\n",
            "Collecting cloud-tpu-client\n",
            "  Downloading https://files.pythonhosted.org/packages/56/9f/7b1958c2886db06feb5de5b2c191096f9e619914b6c31fdf93999fdbbd8b/cloud_tpu_client-0.10-py3-none-any.whl\n",
            "Collecting google-api-python-client==1.8.0\n",
            "\u001b[?25l  Downloading https://files.pythonhosted.org/packages/9a/b4/a955f393b838bc47cbb6ae4643b9d0f90333d3b4db4dc1e819f36aad18cc/google_api_python_client-1.8.0-py3-none-any.whl (57kB)\n",
            "\u001b[K     |████████████████████████████████| 61kB 2.9MB/s \n",
            "\u001b[?25hRequirement already satisfied: oauth2client in /usr/local/lib/python3.6/dist-packages (from cloud-tpu-client) (4.1.3)\n",
            "Requirement already satisfied: six<2dev,>=1.6.1 in /usr/local/lib/python3.6/dist-packages (from google-api-python-client==1.8.0->cloud-tpu-client) (1.15.0)\n",
            "Requirement already satisfied: uritemplate<4dev,>=3.0.0 in /usr/local/lib/python3.6/dist-packages (from google-api-python-client==1.8.0->cloud-tpu-client) (3.0.1)\n",
            "Requirement already satisfied: httplib2<1dev,>=0.9.2 in /usr/local/lib/python3.6/dist-packages (from google-api-python-client==1.8.0->cloud-tpu-client) (0.17.4)\n",
            "Requirement already satisfied: google-auth>=1.4.1 in /usr/local/lib/python3.6/dist-packages (from google-api-python-client==1.8.0->cloud-tpu-client) (1.17.2)\n",
            "Uninstalling torch-1.6.0+cu101:\n",
            "Requirement already satisfied: google-auth-httplib2>=0.0.3 in /usr/local/lib/python3.6/dist-packages (from google-api-python-client==1.8.0->cloud-tpu-client) (0.0.4)\n",
            "Requirement already satisfied: google-api-core<2dev,>=1.13.0 in /usr/local/lib/python3.6/dist-packages (from google-api-python-client==1.8.0->cloud-tpu-client) (1.16.0)\n",
            "Requirement already satisfied: rsa>=3.1.4 in /usr/local/lib/python3.6/dist-packages (from oauth2client->cloud-tpu-client) (4.6)\n",
            "Requirement already satisfied: pyasn1>=0.1.7 in /usr/local/lib/python3.6/dist-packages (from oauth2client->cloud-tpu-client) (0.4.8)\n",
            "Requirement already satisfied: pyasn1-modules>=0.0.5 in /usr/local/lib/python3.6/dist-packages (from oauth2client->cloud-tpu-client) (0.2.8)\n",
            "Requirement already satisfied: cachetools<5.0,>=2.0.0 in /usr/local/lib/python3.6/dist-packages (from google-auth>=1.4.1->google-api-python-client==1.8.0->cloud-tpu-client) (4.1.1)\n",
            "Requirement already satisfied: setuptools>=40.3.0 in /usr/local/lib/python3.6/dist-packages (from google-auth>=1.4.1->google-api-python-client==1.8.0->cloud-tpu-client) (50.3.0)\n",
            "Requirement already satisfied: pytz in /usr/local/lib/python3.6/dist-packages (from google-api-core<2dev,>=1.13.0->google-api-python-client==1.8.0->cloud-tpu-client) (2018.9)\n",
            "Requirement already satisfied: protobuf>=3.4.0 in /usr/local/lib/python3.6/dist-packages (from google-api-core<2dev,>=1.13.0->google-api-python-client==1.8.0->cloud-tpu-client) (3.12.4)\n",
            "Requirement already satisfied: requests<3.0.0dev,>=2.18.0 in /usr/local/lib/python3.6/dist-packages (from google-api-core<2dev,>=1.13.0->google-api-python-client==1.8.0->cloud-tpu-client) (2.23.0)\n",
            "Requirement already satisfied: googleapis-common-protos<2.0dev,>=1.6.0 in /usr/local/lib/python3.6/dist-packages (from google-api-core<2dev,>=1.13.0->google-api-python-client==1.8.0->cloud-tpu-client) (1.52.0)\n",
            "Requirement already satisfied: urllib3!=1.25.0,!=1.25.1,<1.26,>=1.21.1 in /usr/local/lib/python3.6/dist-packages (from requests<3.0.0dev,>=2.18.0->google-api-core<2dev,>=1.13.0->google-api-python-client==1.8.0->cloud-tpu-client) (1.24.3)\n",
            "Requirement already satisfied: certifi>=2017.4.17 in /usr/local/lib/python3.6/dist-packages (from requests<3.0.0dev,>=2.18.0->google-api-core<2dev,>=1.13.0->google-api-python-client==1.8.0->cloud-tpu-client) (2020.6.20)\n",
            "Requirement already satisfied: idna<3,>=2.5 in /usr/local/lib/python3.6/dist-packages (from requests<3.0.0dev,>=2.18.0->google-api-core<2dev,>=1.13.0->google-api-python-client==1.8.0->cloud-tpu-client) (2.10)\n",
            "Requirement already satisfied: chardet<4,>=3.0.2 in /usr/local/lib/python3.6/dist-packages (from requests<3.0.0dev,>=2.18.0->google-api-core<2dev,>=1.13.0->google-api-python-client==1.8.0->cloud-tpu-client) (3.0.4)\n",
            "Installing collected packages: google-api-python-client, cloud-tpu-client\n",
            "  Found existing installation: google-api-python-client 1.7.12\n",
            "    Uninstalling google-api-python-client-1.7.12:\n",
            "      Successfully uninstalled google-api-python-client-1.7.12\n",
            "Successfully installed cloud-tpu-client-0.10 google-api-python-client-1.8.0\n",
            "Done updating TPU runtime\n",
            "  Successfully uninstalled torch-1.6.0+cu101\n",
            "Uninstalling torchvision-0.7.0+cu101:\n",
            "  Successfully uninstalled torchvision-0.7.0+cu101\n",
            "Copying gs://tpu-pytorch/wheels/torch-nightly+20200924-cp36-cp36m-linux_x86_64.whl...\n",
            "\\ [1 files][113.8 MiB/113.8 MiB]                                                \n",
            "Operation completed over 1 objects/113.8 MiB.                                    \n",
            "Copying gs://tpu-pytorch/wheels/torch_xla-nightly+20200924-cp36-cp36m-linux_x86_64.whl...\n",
            "/ [1 files][128.0 MiB/128.0 MiB]                                                \n",
            "Operation completed over 1 objects/128.0 MiB.                                    \n",
            "Copying gs://tpu-pytorch/wheels/torchvision-nightly+20200924-cp36-cp36m-linux_x86_64.whl...\n",
            "/ [1 files][  2.4 MiB/  2.4 MiB]                                                \n",
            "Operation completed over 1 objects/2.4 MiB.                                      \n",
            "Processing ./torch-nightly+20200924-cp36-cp36m-linux_x86_64.whl\n",
            "Requirement already satisfied: dataclasses in /usr/local/lib/python3.6/dist-packages (from torch==nightly+20200924) (0.7)\n",
            "Requirement already satisfied: future in /usr/local/lib/python3.6/dist-packages (from torch==nightly+20200924) (0.16.0)\n",
            "Requirement already satisfied: numpy in /usr/local/lib/python3.6/dist-packages (from torch==nightly+20200924) (1.18.5)\n",
            "Requirement already satisfied: typing-extensions in /usr/local/lib/python3.6/dist-packages (from torch==nightly+20200924) (3.7.4.3)\n",
            "\u001b[31mERROR: fastai 1.0.61 requires torchvision, which is not installed.\u001b[0m\n",
            "Installing collected packages: torch\n",
            "Successfully installed torch-1.7.0a0\n",
            "Processing ./torch_xla-nightly+20200924-cp36-cp36m-linux_x86_64.whl\n",
            "Installing collected packages: torch-xla\n",
            "Successfully installed torch-xla-1.6+7dfa77f\n",
            "Processing ./torchvision-nightly+20200924-cp36-cp36m-linux_x86_64.whl\n",
            "Requirement already satisfied: pillow>=4.1.1 in /usr/local/lib/python3.6/dist-packages (from torchvision==nightly+20200924) (7.0.0)\n",
            "Requirement already satisfied: torch in /usr/local/lib/python3.6/dist-packages (from torchvision==nightly+20200924) (1.7.0a0)\n",
            "Requirement already satisfied: numpy in /usr/local/lib/python3.6/dist-packages (from torchvision==nightly+20200924) (1.18.5)\n",
            "Requirement already satisfied: typing-extensions in /usr/local/lib/python3.6/dist-packages (from torch->torchvision==nightly+20200924) (3.7.4.3)\n",
            "Requirement already satisfied: dataclasses in /usr/local/lib/python3.6/dist-packages (from torch->torchvision==nightly+20200924) (0.7)\n",
            "Requirement already satisfied: future in /usr/local/lib/python3.6/dist-packages (from torch->torchvision==nightly+20200924) (0.16.0)\n",
            "Installing collected packages: torchvision\n",
            "Successfully installed torchvision-0.8.0a0+15848ed\n",
            "Reading package lists... Done\n",
            "Building dependency tree       \n",
            "Reading state information... Done\n",
            "libopenblas-dev is already the newest version (0.2.20+ds-4).\n",
            "The following NEW packages will be installed:\n",
            "  libomp5\n",
            "0 upgraded, 1 newly installed, 0 to remove and 11 not upgraded.\n",
            "Need to get 234 kB of archives.\n",
            "After this operation, 774 kB of additional disk space will be used.\n",
            "Get:1 http://archive.ubuntu.com/ubuntu bionic/universe amd64 libomp5 amd64 5.0.1-1 [234 kB]\n",
            "Fetched 234 kB in 1s (374 kB/s)\n",
            "Selecting previously unselected package libomp5:amd64.\n",
            "(Reading database ... 144676 files and directories currently installed.)\n",
            "Preparing to unpack .../libomp5_5.0.1-1_amd64.deb ...\n",
            "Unpacking libomp5:amd64 (5.0.1-1) ...\n",
            "Setting up libomp5:amd64 (5.0.1-1) ...\n",
            "Processing triggers for libc-bin (2.27-3ubuntu1.2) ...\n",
            "/sbin/ldconfig.real: /usr/local/lib/python3.6/dist-packages/ideep4py/lib/libmkldnn.so.0 is not a symbolic link\n",
            "\n"
          ],
          "name": "stdout"
        }
      ]
    },
    {
      "cell_type": "markdown",
      "metadata": {
        "id": "BzrQbAsg_1KA"
      },
      "source": [
        "Импортируем необходимые библиотеки"
      ]
    },
    {
      "cell_type": "code",
      "metadata": {
        "_cell_guid": "79c7e3d0-c299-4dcb-8224-4455121ee9b0",
        "_uuid": "d629ff2d2480ee46fbb7e2d37f6b5fab8052498a",
        "execution": {
          "iopub.execute_input": "2020-09-05T22:10:15.354859Z",
          "iopub.status.busy": "2020-09-05T22:10:15.354053Z",
          "iopub.status.idle": "2020-09-05T22:10:23.499112Z",
          "shell.execute_reply": "2020-09-05T22:10:23.498427Z"
        },
        "papermill": {
          "duration": 8.187478,
          "end_time": "2020-09-05T22:10:23.499287",
          "exception": false,
          "start_time": "2020-09-05T22:10:15.311809",
          "status": "completed"
        },
        "tags": [],
        "id": "8qpj1Vwadt9z"
      },
      "source": [
        "import os\n",
        "os.environ['XLA_USE_BF16'] = \"1\"\n",
        "os.environ['XLA_TENSOR_ALLOCATOR_MAXSIZE'] = '100000000'\n",
        "\n",
        "import gc\n",
        "gc.enable()\n",
        "\n",
        "import numpy as np\n",
        "import pandas as pd\n",
        "\n",
        "import transformers\n",
        "from transformers import AutoTokenizer, AutoModelForSequenceClassification, AdamW\n",
        "\n",
        "import torch\n",
        "import torch.nn as nn\n",
        "import torch.nn.functional as F\n",
        "from torch.utils.data import DataLoader \n",
        "from torch.utils.data.distributed import DistributedSampler\n",
        "\n",
        "import torch_xla\n",
        "import torch_xla.core.xla_model as xm\n",
        "import torch_xla.debug.metrics as met\n",
        "import torch_xla.distributed.parallel_loader as pl\n",
        "import torch_xla.distributed.xla_multiprocessing as xmp\n",
        "import torch_xla.utils.serialization as xser\n",
        "import torch_xla.version as xv\n",
        "\n",
        "import warnings\n",
        "warnings.filterwarnings(\"ignore\")"
      ],
      "execution_count": null,
      "outputs": []
    },
    {
      "cell_type": "markdown",
      "metadata": {
        "id": "6JjN0Dko_6Go"
      },
      "source": [
        "Зафиксируем `seed` для воспроизводимости результата"
      ]
    },
    {
      "cell_type": "code",
      "metadata": {
        "execution": {
          "iopub.execute_input": "2020-09-05T22:10:23.569267Z",
          "iopub.status.busy": "2020-09-05T22:10:23.568501Z",
          "iopub.status.idle": "2020-09-05T22:10:23.573136Z",
          "shell.execute_reply": "2020-09-05T22:10:23.572435Z"
        },
        "papermill": {
          "duration": 0.045398,
          "end_time": "2020-09-05T22:10:23.573331",
          "exception": false,
          "start_time": "2020-09-05T22:10:23.527933",
          "status": "completed"
        },
        "tags": [],
        "id": "cvqUEzbbdt92"
      },
      "source": [
        "import random\n",
        "\n",
        "def my_seed(seed=42):\n",
        "    torch.manual_seed(seed)\n",
        "    np.random.seed(seed)\n",
        "    random.seed(seed)\n",
        "\n",
        "my_seed()"
      ],
      "execution_count": null,
      "outputs": []
    },
    {
      "cell_type": "markdown",
      "metadata": {
        "papermill": {
          "duration": 0.036229,
          "end_time": "2020-09-05T22:11:38.510307",
          "exception": false,
          "start_time": "2020-09-05T22:11:38.474078",
          "status": "completed"
        },
        "tags": [],
        "id": "Y8Fn2RyAdt_5"
      },
      "source": [
        "## Model"
      ]
    },
    {
      "cell_type": "markdown",
      "metadata": {
        "id": "_sWwZUIPAAm_"
      },
      "source": [
        "Загружаем предобученную модель `xlm-roberta-large` и токенизатор"
      ]
    },
    {
      "cell_type": "code",
      "metadata": {
        "execution": {
          "iopub.execute_input": "2020-09-05T22:11:38.589175Z",
          "iopub.status.busy": "2020-09-05T22:11:38.588440Z",
          "iopub.status.idle": "2020-09-05T22:13:15.608403Z",
          "shell.execute_reply": "2020-09-05T22:13:15.607633Z"
        },
        "papermill": {
          "duration": 97.061659,
          "end_time": "2020-09-05T22:13:15.608558",
          "exception": false,
          "start_time": "2020-09-05T22:11:38.546899",
          "status": "completed"
        },
        "tags": [],
        "id": "745HGcOJdt_6",
        "outputId": "b3c97286-0b74-4bf8-bda6-2e60cc717f86",
        "colab": {
          "base_uri": "https://localhost:8080/",
          "height": 273,
          "referenced_widgets": [
            "c73b2d4d8c0c46789f76b610fa749548",
            "ec081cee32ed4219ac7eb77a1569dae7",
            "79aa4979a737462aa97c61d17132d149",
            "3366b6136b774ce5a4ba40fe15c223b2",
            "b6b8257673db4807939cdbe5f6e6cba6",
            "413ca87e61e049eb9143ac5404467633",
            "560a2d8c2bac4a189b51ceb18aad08e0",
            "08fb10bb0f0d4134b7b35376d3e2022b",
            "519af3f36578494ea770db64875a8432",
            "21b6057df8fa46a3b2792ac342e45063",
            "4c4324b33bf84bf9a7900f8e5e1131b7",
            "6010a94f082d483bb0c9fbb6f1f7b5c1",
            "b05cf16c48dd4f5f988075684785b277",
            "9a0542b1d8e34307a2b7af81273479c7",
            "638e16cf10d744508c18d4dfd30594be",
            "a36ad2c14f454b69b09c6b4a55d2e5e4",
            "30e55da67db34979ab96b3e45d816f1a",
            "81587565f96c43c8beb5b3087fabd99d",
            "7ae53882714443719eac341f9620b4c8",
            "2a98a2a7c0104a49a2657ccd532a27e0",
            "7f4db45dde294ef4a3e380b9e1e85a71",
            "8f09f94ef4ce4850b3ba4c1a9169463b",
            "e67964bd643e4798aceea437405461ed",
            "a893b24199b745dea10e0ee494632de0"
          ]
        }
      },
      "source": [
        "WRAPPED_MODEL = xmp.MpModelWrapper(AutoModelForSequenceClassification.from_pretrained(\"xlm-roberta-large\"))\n",
        "tokenizer = AutoTokenizer.from_pretrained(\"xlm-roberta-large\")"
      ],
      "execution_count": null,
      "outputs": [
        {
          "output_type": "display_data",
          "data": {
            "application/vnd.jupyter.widget-view+json": {
              "model_id": "c73b2d4d8c0c46789f76b610fa749548",
              "version_minor": 0,
              "version_major": 2
            },
            "text/plain": [
              "HBox(children=(FloatProgress(value=0.0, description='Downloading', max=513.0, style=ProgressStyle(description_…"
            ]
          },
          "metadata": {
            "tags": []
          }
        },
        {
          "output_type": "stream",
          "text": [
            "\n"
          ],
          "name": "stdout"
        },
        {
          "output_type": "display_data",
          "data": {
            "application/vnd.jupyter.widget-view+json": {
              "model_id": "519af3f36578494ea770db64875a8432",
              "version_minor": 0,
              "version_major": 2
            },
            "text/plain": [
              "HBox(children=(FloatProgress(value=0.0, description='Downloading', max=2244861551.0, style=ProgressStyle(descr…"
            ]
          },
          "metadata": {
            "tags": []
          }
        },
        {
          "output_type": "stream",
          "text": [
            "\n"
          ],
          "name": "stdout"
        },
        {
          "output_type": "stream",
          "text": [
            "Some weights of the model checkpoint at xlm-roberta-large were not used when initializing XLMRobertaForSequenceClassification: ['lm_head.bias', 'lm_head.dense.weight', 'lm_head.dense.bias', 'lm_head.layer_norm.weight', 'lm_head.layer_norm.bias', 'lm_head.decoder.weight']\n",
            "- This IS expected if you are initializing XLMRobertaForSequenceClassification from the checkpoint of a model trained on another task or with another architecture (e.g. initializing a BertForSequenceClassification model from a BertForPretraining model).\n",
            "- This IS NOT expected if you are initializing XLMRobertaForSequenceClassification from the checkpoint of a model that you expect to be exactly identical (initializing a BertForSequenceClassification model from a BertForSequenceClassification model).\n",
            "Some weights of XLMRobertaForSequenceClassification were not initialized from the model checkpoint at xlm-roberta-large and are newly initialized: ['classifier.dense.weight', 'classifier.dense.bias', 'classifier.out_proj.weight', 'classifier.out_proj.bias']\n",
            "You should probably TRAIN this model on a down-stream task to be able to use it for predictions and inference.\n"
          ],
          "name": "stderr"
        },
        {
          "output_type": "display_data",
          "data": {
            "application/vnd.jupyter.widget-view+json": {
              "model_id": "30e55da67db34979ab96b3e45d816f1a",
              "version_minor": 0,
              "version_major": 2
            },
            "text/plain": [
              "HBox(children=(FloatProgress(value=0.0, description='Downloading', max=5069051.0, style=ProgressStyle(descript…"
            ]
          },
          "metadata": {
            "tags": []
          }
        },
        {
          "output_type": "stream",
          "text": [
            "\n"
          ],
          "name": "stdout"
        }
      ]
    },
    {
      "cell_type": "markdown",
      "metadata": {
        "papermill": {
          "duration": 0.028245,
          "end_time": "2020-09-05T22:10:23.630157",
          "exception": false,
          "start_time": "2020-09-05T22:10:23.601912",
          "status": "completed"
        },
        "tags": [],
        "id": "vXj5DQWidt95"
      },
      "source": [
        "## Data"
      ]
    },
    {
      "cell_type": "markdown",
      "metadata": {
        "id": "Jn--hPGGAadh"
      },
      "source": [
        "Считываем данные для обучения"
      ]
    },
    {
      "cell_type": "code",
      "metadata": {
        "id": "UK0O672Oluld"
      },
      "source": [
        "train_df = pd.read_csv('/content/train.csv', delimiter=\"\\t\")"
      ],
      "execution_count": null,
      "outputs": []
    },
    {
      "cell_type": "markdown",
      "metadata": {
        "id": "GT6QVYf7AnGW"
      },
      "source": [
        "В наших данных всего 2 колонки:  \n",
        "\n",
        "*   **text** - текст новости\n",
        "*   **class** - класс новости, принимающий два значения: `true`, если новость настоящая, и `fake` в противном случае\n",
        "\n"
      ]
    },
    {
      "cell_type": "code",
      "metadata": {
        "id": "YyYm1TmEm24v",
        "outputId": "1015e4e1-3b36-4f63-eeb8-c1299060aefd",
        "colab": {
          "base_uri": "https://localhost:8080/",
          "height": 400
        }
      },
      "source": [
        "train_df"
      ],
      "execution_count": null,
      "outputs": [
        {
          "output_type": "execute_result",
          "data": {
            "text/html": [
              "<div>\n",
              "<style scoped>\n",
              "    .dataframe tbody tr th:only-of-type {\n",
              "        vertical-align: middle;\n",
              "    }\n",
              "\n",
              "    .dataframe tbody tr th {\n",
              "        vertical-align: top;\n",
              "    }\n",
              "\n",
              "    .dataframe thead th {\n",
              "        text-align: right;\n",
              "    }\n",
              "</style>\n",
              "<table border=\"1\" class=\"dataframe\">\n",
              "  <thead>\n",
              "    <tr style=\"text-align: right;\">\n",
              "      <th></th>\n",
              "      <th>text</th>\n",
              "      <th>class</th>\n",
              "    </tr>\n",
              "  </thead>\n",
              "  <tbody>\n",
              "    <tr>\n",
              "      <th>0</th>\n",
              "      <td>В Синьцзян-Уйгурском автономном районе Китая С...</td>\n",
              "      <td>true</td>\n",
              "    </tr>\n",
              "    <tr>\n",
              "      <th>1</th>\n",
              "      <td>Режиссер Дэвид Линч один из создателей телесер...</td>\n",
              "      <td>true</td>\n",
              "    </tr>\n",
              "    <tr>\n",
              "      <th>2</th>\n",
              "      <td>Министр регионального развития России Виктор Б...</td>\n",
              "      <td>true</td>\n",
              "    </tr>\n",
              "    <tr>\n",
              "      <th>3</th>\n",
              "      <td>На несогласованной акции в поддержку украинско...</td>\n",
              "      <td>true</td>\n",
              "    </tr>\n",
              "    <tr>\n",
              "      <th>4</th>\n",
              "      <td>Госдума РФ одобрила в первом чтении законопрое...</td>\n",
              "      <td>true</td>\n",
              "    </tr>\n",
              "    <tr>\n",
              "      <th>...</th>\n",
              "      <td>...</td>\n",
              "      <td>...</td>\n",
              "    </tr>\n",
              "    <tr>\n",
              "      <th>23878</th>\n",
              "      <td>Пожар на плавучем дебаркадере в центре Москвы ...</td>\n",
              "      <td>true</td>\n",
              "    </tr>\n",
              "    <tr>\n",
              "      <th>23879</th>\n",
              "      <td>В Омске возбудили уголовное дело в отношении 6...</td>\n",
              "      <td>true</td>\n",
              "    </tr>\n",
              "    <tr>\n",
              "      <th>23880</th>\n",
              "      <td>\\n    var PROJECTID  80674\\n    function w d c...</td>\n",
              "      <td>true</td>\n",
              "    </tr>\n",
              "    <tr>\n",
              "      <th>23881</th>\n",
              "      <td>Бывший главный тренер московского футбольного ...</td>\n",
              "      <td>true</td>\n",
              "    </tr>\n",
              "    <tr>\n",
              "      <th>23882</th>\n",
              "      <td>Европейское государство Босния и Герцеговина м...</td>\n",
              "      <td>fake</td>\n",
              "    </tr>\n",
              "  </tbody>\n",
              "</table>\n",
              "<p>23883 rows × 2 columns</p>\n",
              "</div>"
            ],
            "text/plain": [
              "                                                    text class\n",
              "0      В Синьцзян-Уйгурском автономном районе Китая С...  true\n",
              "1      Режиссер Дэвид Линч один из создателей телесер...  true\n",
              "2      Министр регионального развития России Виктор Б...  true\n",
              "3      На несогласованной акции в поддержку украинско...  true\n",
              "4      Госдума РФ одобрила в первом чтении законопрое...  true\n",
              "...                                                  ...   ...\n",
              "23878  Пожар на плавучем дебаркадере в центре Москвы ...  true\n",
              "23879  В Омске возбудили уголовное дело в отношении 6...  true\n",
              "23880  \\n    var PROJECTID  80674\\n    function w d c...  true\n",
              "23881  Бывший главный тренер московского футбольного ...  true\n",
              "23882  Европейское государство Босния и Герцеговина м...  fake\n",
              "\n",
              "[23883 rows x 2 columns]"
            ]
          },
          "metadata": {
            "tags": []
          },
          "execution_count": 8
        }
      ]
    },
    {
      "cell_type": "markdown",
      "metadata": {
        "id": "tXWoaZk0AgVH"
      },
      "source": [
        "В колонке **text** имеются пустые значения"
      ]
    },
    {
      "cell_type": "code",
      "metadata": {
        "id": "kouTb8satevE",
        "outputId": "cd2c4c4e-ffcd-4ec1-f6b1-6746b577fe29",
        "colab": {
          "base_uri": "https://localhost:8080/",
          "height": 175
        }
      },
      "source": [
        "train_df.info()"
      ],
      "execution_count": null,
      "outputs": [
        {
          "output_type": "stream",
          "text": [
            "<class 'pandas.core.frame.DataFrame'>\n",
            "RangeIndex: 23883 entries, 0 to 23882\n",
            "Data columns (total 2 columns):\n",
            " #   Column  Non-Null Count  Dtype \n",
            "---  ------  --------------  ----- \n",
            " 0   text    23878 non-null  object\n",
            " 1   class   23883 non-null  object\n",
            "dtypes: object(2)\n",
            "memory usage: 373.3+ KB\n"
          ],
          "name": "stdout"
        }
      ]
    },
    {
      "cell_type": "markdown",
      "metadata": {
        "id": "CPdbqbioBbpM"
      },
      "source": [
        "Классы несбалансированы"
      ]
    },
    {
      "cell_type": "code",
      "metadata": {
        "id": "xVAGVI5jm6_Z",
        "outputId": "93fc976a-ba33-406e-c7ae-5e216c087921",
        "colab": {
          "base_uri": "https://localhost:8080/",
          "height": 69
        }
      },
      "source": [
        "train_df['class'].value_counts()"
      ],
      "execution_count": null,
      "outputs": [
        {
          "output_type": "execute_result",
          "data": {
            "text/plain": [
              "true    19919\n",
              "fake     3964\n",
              "Name: class, dtype: int64"
            ]
          },
          "metadata": {
            "tags": []
          },
          "execution_count": 10
        }
      ]
    },
    {
      "cell_type": "markdown",
      "metadata": {
        "id": "Byj323QNMYrk"
      },
      "source": [
        "Удалим строки с пустым значением **text**, никакой полезной информации в них нет"
      ]
    },
    {
      "cell_type": "code",
      "metadata": {
        "id": "S-azgsMFxTkn"
      },
      "source": [
        "train_df.dropna(inplace=True)"
      ],
      "execution_count": null,
      "outputs": []
    },
    {
      "cell_type": "code",
      "metadata": {
        "id": "3XLan7Akx_xK"
      },
      "source": [
        "train_df.reset_index(drop=True, inplace=True)"
      ],
      "execution_count": null,
      "outputs": []
    },
    {
      "cell_type": "markdown",
      "metadata": {
        "id": "liRXGM17B2Ge"
      },
      "source": [
        "Теперь осталось 23878 примеров в нашем датасете"
      ]
    },
    {
      "cell_type": "code",
      "metadata": {
        "id": "hxRf256fxfgc",
        "outputId": "b53d74a3-ccd1-4ea4-8c8c-f961f4b708c2",
        "colab": {
          "base_uri": "https://localhost:8080/",
          "height": 175
        }
      },
      "source": [
        "train_df.info()"
      ],
      "execution_count": null,
      "outputs": [
        {
          "output_type": "stream",
          "text": [
            "<class 'pandas.core.frame.DataFrame'>\n",
            "RangeIndex: 23878 entries, 0 to 23877\n",
            "Data columns (total 2 columns):\n",
            " #   Column  Non-Null Count  Dtype \n",
            "---  ------  --------------  ----- \n",
            " 0   text    23878 non-null  object\n",
            " 1   class   23878 non-null  object\n",
            "dtypes: object(2)\n",
            "memory usage: 373.2+ KB\n"
          ],
          "name": "stdout"
        }
      ]
    },
    {
      "cell_type": "code",
      "metadata": {
        "id": "X7zUqln7y1Eo",
        "outputId": "ed4fb8ea-81ae-4484-8893-1cd3daacafb3",
        "colab": {
          "base_uri": "https://localhost:8080/",
          "height": 400
        }
      },
      "source": [
        "train_df"
      ],
      "execution_count": null,
      "outputs": [
        {
          "output_type": "execute_result",
          "data": {
            "text/html": [
              "<div>\n",
              "<style scoped>\n",
              "    .dataframe tbody tr th:only-of-type {\n",
              "        vertical-align: middle;\n",
              "    }\n",
              "\n",
              "    .dataframe tbody tr th {\n",
              "        vertical-align: top;\n",
              "    }\n",
              "\n",
              "    .dataframe thead th {\n",
              "        text-align: right;\n",
              "    }\n",
              "</style>\n",
              "<table border=\"1\" class=\"dataframe\">\n",
              "  <thead>\n",
              "    <tr style=\"text-align: right;\">\n",
              "      <th></th>\n",
              "      <th>text</th>\n",
              "      <th>class</th>\n",
              "    </tr>\n",
              "  </thead>\n",
              "  <tbody>\n",
              "    <tr>\n",
              "      <th>0</th>\n",
              "      <td>В Синьцзян-Уйгурском автономном районе Китая С...</td>\n",
              "      <td>true</td>\n",
              "    </tr>\n",
              "    <tr>\n",
              "      <th>1</th>\n",
              "      <td>Режиссер Дэвид Линч один из создателей телесер...</td>\n",
              "      <td>true</td>\n",
              "    </tr>\n",
              "    <tr>\n",
              "      <th>2</th>\n",
              "      <td>Министр регионального развития России Виктор Б...</td>\n",
              "      <td>true</td>\n",
              "    </tr>\n",
              "    <tr>\n",
              "      <th>3</th>\n",
              "      <td>На несогласованной акции в поддержку украинско...</td>\n",
              "      <td>true</td>\n",
              "    </tr>\n",
              "    <tr>\n",
              "      <th>4</th>\n",
              "      <td>Госдума РФ одобрила в первом чтении законопрое...</td>\n",
              "      <td>true</td>\n",
              "    </tr>\n",
              "    <tr>\n",
              "      <th>...</th>\n",
              "      <td>...</td>\n",
              "      <td>...</td>\n",
              "    </tr>\n",
              "    <tr>\n",
              "      <th>23873</th>\n",
              "      <td>Пожар на плавучем дебаркадере в центре Москвы ...</td>\n",
              "      <td>true</td>\n",
              "    </tr>\n",
              "    <tr>\n",
              "      <th>23874</th>\n",
              "      <td>В Омске возбудили уголовное дело в отношении 6...</td>\n",
              "      <td>true</td>\n",
              "    </tr>\n",
              "    <tr>\n",
              "      <th>23875</th>\n",
              "      <td>\\n    var PROJECTID  80674\\n    function w d c...</td>\n",
              "      <td>true</td>\n",
              "    </tr>\n",
              "    <tr>\n",
              "      <th>23876</th>\n",
              "      <td>Бывший главный тренер московского футбольного ...</td>\n",
              "      <td>true</td>\n",
              "    </tr>\n",
              "    <tr>\n",
              "      <th>23877</th>\n",
              "      <td>Европейское государство Босния и Герцеговина м...</td>\n",
              "      <td>fake</td>\n",
              "    </tr>\n",
              "  </tbody>\n",
              "</table>\n",
              "<p>23878 rows × 2 columns</p>\n",
              "</div>"
            ],
            "text/plain": [
              "                                                    text class\n",
              "0      В Синьцзян-Уйгурском автономном районе Китая С...  true\n",
              "1      Режиссер Дэвид Линч один из создателей телесер...  true\n",
              "2      Министр регионального развития России Виктор Б...  true\n",
              "3      На несогласованной акции в поддержку украинско...  true\n",
              "4      Госдума РФ одобрила в первом чтении законопрое...  true\n",
              "...                                                  ...   ...\n",
              "23873  Пожар на плавучем дебаркадере в центре Москвы ...  true\n",
              "23874  В Омске возбудили уголовное дело в отношении 6...  true\n",
              "23875  \\n    var PROJECTID  80674\\n    function w d c...  true\n",
              "23876  Бывший главный тренер московского футбольного ...  true\n",
              "23877  Европейское государство Босния и Герцеговина м...  fake\n",
              "\n",
              "[23878 rows x 2 columns]"
            ]
          },
          "metadata": {
            "tags": []
          },
          "execution_count": 14
        }
      ]
    },
    {
      "cell_type": "code",
      "metadata": {
        "id": "5NJfLgaW1Zhi",
        "outputId": "38382757-5866-4cd8-b274-8f9745f848fc",
        "colab": {
          "base_uri": "https://localhost:8080/",
          "height": 69
        }
      },
      "source": [
        "train_df['class'].value_counts()"
      ],
      "execution_count": null,
      "outputs": [
        {
          "output_type": "execute_result",
          "data": {
            "text/plain": [
              "true    19914\n",
              "fake     3964\n",
              "Name: class, dtype: int64"
            ]
          },
          "metadata": {
            "tags": []
          },
          "execution_count": 15
        }
      ]
    },
    {
      "cell_type": "markdown",
      "metadata": {
        "id": "k1PJOreXM2p0"
      },
      "source": [
        "Преобразуем метки классов в **0** и **1**"
      ]
    },
    {
      "cell_type": "code",
      "metadata": {
        "id": "xzutUtjVGNLD"
      },
      "source": [
        "from sklearn.preprocessing import LabelBinarizer\n",
        "binarizer = LabelBinarizer()\n",
        "\n",
        "train_df['class'] = binarizer.fit_transform(train_df['class'])"
      ],
      "execution_count": null,
      "outputs": []
    },
    {
      "cell_type": "code",
      "metadata": {
        "id": "jgSpuX6WGZpl",
        "outputId": "ec388a09-b73a-40a8-fa9b-5e210d1fee02",
        "colab": {
          "base_uri": "https://localhost:8080/",
          "height": 400
        }
      },
      "source": [
        "train_df"
      ],
      "execution_count": null,
      "outputs": [
        {
          "output_type": "execute_result",
          "data": {
            "text/html": [
              "<div>\n",
              "<style scoped>\n",
              "    .dataframe tbody tr th:only-of-type {\n",
              "        vertical-align: middle;\n",
              "    }\n",
              "\n",
              "    .dataframe tbody tr th {\n",
              "        vertical-align: top;\n",
              "    }\n",
              "\n",
              "    .dataframe thead th {\n",
              "        text-align: right;\n",
              "    }\n",
              "</style>\n",
              "<table border=\"1\" class=\"dataframe\">\n",
              "  <thead>\n",
              "    <tr style=\"text-align: right;\">\n",
              "      <th></th>\n",
              "      <th>text</th>\n",
              "      <th>class</th>\n",
              "    </tr>\n",
              "  </thead>\n",
              "  <tbody>\n",
              "    <tr>\n",
              "      <th>0</th>\n",
              "      <td>В Синьцзян-Уйгурском автономном районе Китая С...</td>\n",
              "      <td>1</td>\n",
              "    </tr>\n",
              "    <tr>\n",
              "      <th>1</th>\n",
              "      <td>Режиссер Дэвид Линч один из создателей телесер...</td>\n",
              "      <td>1</td>\n",
              "    </tr>\n",
              "    <tr>\n",
              "      <th>2</th>\n",
              "      <td>Министр регионального развития России Виктор Б...</td>\n",
              "      <td>1</td>\n",
              "    </tr>\n",
              "    <tr>\n",
              "      <th>3</th>\n",
              "      <td>На несогласованной акции в поддержку украинско...</td>\n",
              "      <td>1</td>\n",
              "    </tr>\n",
              "    <tr>\n",
              "      <th>4</th>\n",
              "      <td>Госдума РФ одобрила в первом чтении законопрое...</td>\n",
              "      <td>1</td>\n",
              "    </tr>\n",
              "    <tr>\n",
              "      <th>...</th>\n",
              "      <td>...</td>\n",
              "      <td>...</td>\n",
              "    </tr>\n",
              "    <tr>\n",
              "      <th>23873</th>\n",
              "      <td>Пожар на плавучем дебаркадере в центре Москвы ...</td>\n",
              "      <td>1</td>\n",
              "    </tr>\n",
              "    <tr>\n",
              "      <th>23874</th>\n",
              "      <td>В Омске возбудили уголовное дело в отношении 6...</td>\n",
              "      <td>1</td>\n",
              "    </tr>\n",
              "    <tr>\n",
              "      <th>23875</th>\n",
              "      <td>\\n    var PROJECTID  80674\\n    function w d c...</td>\n",
              "      <td>1</td>\n",
              "    </tr>\n",
              "    <tr>\n",
              "      <th>23876</th>\n",
              "      <td>Бывший главный тренер московского футбольного ...</td>\n",
              "      <td>1</td>\n",
              "    </tr>\n",
              "    <tr>\n",
              "      <th>23877</th>\n",
              "      <td>Европейское государство Босния и Герцеговина м...</td>\n",
              "      <td>0</td>\n",
              "    </tr>\n",
              "  </tbody>\n",
              "</table>\n",
              "<p>23878 rows × 2 columns</p>\n",
              "</div>"
            ],
            "text/plain": [
              "                                                    text  class\n",
              "0      В Синьцзян-Уйгурском автономном районе Китая С...      1\n",
              "1      Режиссер Дэвид Линч один из создателей телесер...      1\n",
              "2      Министр регионального развития России Виктор Б...      1\n",
              "3      На несогласованной акции в поддержку украинско...      1\n",
              "4      Госдума РФ одобрила в первом чтении законопрое...      1\n",
              "...                                                  ...    ...\n",
              "23873  Пожар на плавучем дебаркадере в центре Москвы ...      1\n",
              "23874  В Омске возбудили уголовное дело в отношении 6...      1\n",
              "23875  \\n    var PROJECTID  80674\\n    function w d c...      1\n",
              "23876  Бывший главный тренер московского футбольного ...      1\n",
              "23877  Европейское государство Босния и Герцеговина м...      0\n",
              "\n",
              "[23878 rows x 2 columns]"
            ]
          },
          "metadata": {
            "tags": []
          },
          "execution_count": 17
        }
      ]
    },
    {
      "cell_type": "code",
      "metadata": {
        "id": "ic9p9k24NU-P",
        "outputId": "9bdc54de-c074-445b-f54a-f2afde0143e2",
        "colab": {
          "base_uri": "https://localhost:8080/",
          "height": 69
        }
      },
      "source": [
        "train_df['class'].value_counts()"
      ],
      "execution_count": null,
      "outputs": [
        {
          "output_type": "execute_result",
          "data": {
            "text/plain": [
              "1    19914\n",
              "0     3964\n",
              "Name: class, dtype: int64"
            ]
          },
          "metadata": {
            "tags": []
          },
          "execution_count": 18
        }
      ]
    },
    {
      "cell_type": "markdown",
      "metadata": {
        "id": "IiwPRnUmpjXL"
      },
      "source": [
        "Разделим наш датасет на две части, выделив для валидации 1024 примера (фиксируем random state для одинакового разбиения при перезапуске ноутбука)"
      ]
    },
    {
      "cell_type": "code",
      "metadata": {
        "id": "12WPA_D2ZvPG"
      },
      "source": [
        "from sklearn.model_selection import train_test_split\n",
        "train_df, valid_df = train_test_split(train_df, test_size=1024, random_state=42)"
      ],
      "execution_count": null,
      "outputs": []
    },
    {
      "cell_type": "code",
      "metadata": {
        "id": "nUaMM6WOfF5h",
        "outputId": "32f77828-0952-489e-a0d5-7b8f1c3c457c",
        "colab": {
          "base_uri": "https://localhost:8080/",
          "height": 400
        }
      },
      "source": [
        "train_df"
      ],
      "execution_count": null,
      "outputs": [
        {
          "output_type": "execute_result",
          "data": {
            "text/html": [
              "<div>\n",
              "<style scoped>\n",
              "    .dataframe tbody tr th:only-of-type {\n",
              "        vertical-align: middle;\n",
              "    }\n",
              "\n",
              "    .dataframe tbody tr th {\n",
              "        vertical-align: top;\n",
              "    }\n",
              "\n",
              "    .dataframe thead th {\n",
              "        text-align: right;\n",
              "    }\n",
              "</style>\n",
              "<table border=\"1\" class=\"dataframe\">\n",
              "  <thead>\n",
              "    <tr style=\"text-align: right;\">\n",
              "      <th></th>\n",
              "      <th>text</th>\n",
              "      <th>class</th>\n",
              "    </tr>\n",
              "  </thead>\n",
              "  <tbody>\n",
              "    <tr>\n",
              "      <th>21835</th>\n",
              "      <td>Фактическое отсутствие венчурного финансирован...</td>\n",
              "      <td>1</td>\n",
              "    </tr>\n",
              "    <tr>\n",
              "      <th>2923</th>\n",
              "      <td>В Липецкой области у мужчины при попытке устро...</td>\n",
              "      <td>1</td>\n",
              "    </tr>\n",
              "    <tr>\n",
              "      <th>6888</th>\n",
              "      <td>В результате обрушения стены строящегося здани...</td>\n",
              "      <td>1</td>\n",
              "    </tr>\n",
              "    <tr>\n",
              "      <th>8149</th>\n",
              "      <td>Москва не видит причин для ввода новых экономи...</td>\n",
              "      <td>1</td>\n",
              "    </tr>\n",
              "    <tr>\n",
              "      <th>4189</th>\n",
              "      <td>Боевики группировки Исламское государство ИГ к...</td>\n",
              "      <td>1</td>\n",
              "    </tr>\n",
              "    <tr>\n",
              "      <th>...</th>\n",
              "      <td>...</td>\n",
              "      <td>...</td>\n",
              "    </tr>\n",
              "    <tr>\n",
              "      <th>21575</th>\n",
              "      <td>Об организации в противовес западному Хеллоуин...</td>\n",
              "      <td>0</td>\n",
              "    </tr>\n",
              "    <tr>\n",
              "      <th>5390</th>\n",
              "      <td>Сирия нашла нового покупателя на свою черешню,...</td>\n",
              "      <td>1</td>\n",
              "    </tr>\n",
              "    <tr>\n",
              "      <th>860</th>\n",
              "      <td>Закон, определяющий территорию самопровозглаше...</td>\n",
              "      <td>1</td>\n",
              "    </tr>\n",
              "    <tr>\n",
              "      <th>15795</th>\n",
              "      <td>Президент России Дмитрий Медведев одобрил пред...</td>\n",
              "      <td>1</td>\n",
              "    </tr>\n",
              "    <tr>\n",
              "      <th>23654</th>\n",
              "      <td>Экипажи самолетов авиакомпании British Airways...</td>\n",
              "      <td>1</td>\n",
              "    </tr>\n",
              "  </tbody>\n",
              "</table>\n",
              "<p>22854 rows × 2 columns</p>\n",
              "</div>"
            ],
            "text/plain": [
              "                                                    text  class\n",
              "21835  Фактическое отсутствие венчурного финансирован...      1\n",
              "2923   В Липецкой области у мужчины при попытке устро...      1\n",
              "6888   В результате обрушения стены строящегося здани...      1\n",
              "8149   Москва не видит причин для ввода новых экономи...      1\n",
              "4189   Боевики группировки Исламское государство ИГ к...      1\n",
              "...                                                  ...    ...\n",
              "21575  Об организации в противовес западному Хеллоуин...      0\n",
              "5390   Сирия нашла нового покупателя на свою черешню,...      1\n",
              "860    Закон, определяющий территорию самопровозглаше...      1\n",
              "15795  Президент России Дмитрий Медведев одобрил пред...      1\n",
              "23654  Экипажи самолетов авиакомпании British Airways...      1\n",
              "\n",
              "[22854 rows x 2 columns]"
            ]
          },
          "metadata": {
            "tags": []
          },
          "execution_count": 20
        }
      ]
    },
    {
      "cell_type": "code",
      "metadata": {
        "id": "EXLA8hw6fGxK",
        "outputId": "2a9e8af3-3c20-4ce3-863d-f23c62317d9c",
        "colab": {
          "base_uri": "https://localhost:8080/",
          "height": 400
        }
      },
      "source": [
        "valid_df"
      ],
      "execution_count": null,
      "outputs": [
        {
          "output_type": "execute_result",
          "data": {
            "text/html": [
              "<div>\n",
              "<style scoped>\n",
              "    .dataframe tbody tr th:only-of-type {\n",
              "        vertical-align: middle;\n",
              "    }\n",
              "\n",
              "    .dataframe tbody tr th {\n",
              "        vertical-align: top;\n",
              "    }\n",
              "\n",
              "    .dataframe thead th {\n",
              "        text-align: right;\n",
              "    }\n",
              "</style>\n",
              "<table border=\"1\" class=\"dataframe\">\n",
              "  <thead>\n",
              "    <tr style=\"text-align: right;\">\n",
              "      <th></th>\n",
              "      <th>text</th>\n",
              "      <th>class</th>\n",
              "    </tr>\n",
              "  </thead>\n",
              "  <tbody>\n",
              "    <tr>\n",
              "      <th>12635</th>\n",
              "      <td>В ЕС считают неполным отвод вооружений украинс...</td>\n",
              "      <td>1</td>\n",
              "    </tr>\n",
              "    <tr>\n",
              "      <th>19667</th>\n",
              "      <td>В Подмосковье убит бывший руководитель аэропор...</td>\n",
              "      <td>1</td>\n",
              "    </tr>\n",
              "    <tr>\n",
              "      <th>20987</th>\n",
              "      <td>\\n  function catchOutboundClicklink \\n      li...</td>\n",
              "      <td>1</td>\n",
              "    </tr>\n",
              "    <tr>\n",
              "      <th>11961</th>\n",
              "      <td>Турецкая экономическая газета Dunya со ссылкой...</td>\n",
              "      <td>1</td>\n",
              "    </tr>\n",
              "    <tr>\n",
              "      <th>4413</th>\n",
              "      <td>Все высшие должностные лица Российской Федерац...</td>\n",
              "      <td>1</td>\n",
              "    </tr>\n",
              "    <tr>\n",
              "      <th>...</th>\n",
              "      <td>...</td>\n",
              "      <td>...</td>\n",
              "    </tr>\n",
              "    <tr>\n",
              "      <th>10696</th>\n",
              "      <td>Белоруссия ведет переговоры с Ираном о поставк...</td>\n",
              "      <td>1</td>\n",
              "    </tr>\n",
              "    <tr>\n",
              "      <th>7558</th>\n",
              "      <td>В прошлом внутренности комет были жидкими - та...</td>\n",
              "      <td>1</td>\n",
              "    </tr>\n",
              "    <tr>\n",
              "      <th>3213</th>\n",
              "      <td>На фоне обвинений звучащих в Конгрессе США в а...</td>\n",
              "      <td>0</td>\n",
              "    </tr>\n",
              "    <tr>\n",
              "      <th>11259</th>\n",
              "      <td>Двое граждан Германии похищены на востоке Лива...</td>\n",
              "      <td>1</td>\n",
              "    </tr>\n",
              "    <tr>\n",
              "      <th>2393</th>\n",
              "      <td>На складе аэропорта в венесуэльском городе Вал...</td>\n",
              "      <td>1</td>\n",
              "    </tr>\n",
              "  </tbody>\n",
              "</table>\n",
              "<p>1024 rows × 2 columns</p>\n",
              "</div>"
            ],
            "text/plain": [
              "                                                    text  class\n",
              "12635  В ЕС считают неполным отвод вооружений украинс...      1\n",
              "19667  В Подмосковье убит бывший руководитель аэропор...      1\n",
              "20987  \\n  function catchOutboundClicklink \\n      li...      1\n",
              "11961  Турецкая экономическая газета Dunya со ссылкой...      1\n",
              "4413   Все высшие должностные лица Российской Федерац...      1\n",
              "...                                                  ...    ...\n",
              "10696  Белоруссия ведет переговоры с Ираном о поставк...      1\n",
              "7558   В прошлом внутренности комет были жидкими - та...      1\n",
              "3213   На фоне обвинений звучащих в Конгрессе США в а...      0\n",
              "11259  Двое граждан Германии похищены на востоке Лива...      1\n",
              "2393   На складе аэропорта в венесуэльском городе Вал...      1\n",
              "\n",
              "[1024 rows x 2 columns]"
            ]
          },
          "metadata": {
            "tags": []
          },
          "execution_count": 21
        }
      ]
    },
    {
      "cell_type": "markdown",
      "metadata": {
        "id": "4Pvh0bSfpwYD"
      },
      "source": [
        "Теперь прочитаем тестовый набор данных"
      ]
    },
    {
      "cell_type": "code",
      "metadata": {
        "id": "KsEvl-Smlzw1"
      },
      "source": [
        "test_df = pd.read_csv('/content/test.csv', delimiter=\"\\t\")"
      ],
      "execution_count": null,
      "outputs": []
    },
    {
      "cell_type": "code",
      "metadata": {
        "id": "0nS6nViNl7pW",
        "outputId": "a23fef31-e868-4537-f588-2767318e2ebb",
        "colab": {
          "base_uri": "https://localhost:8080/",
          "height": 400
        }
      },
      "source": [
        "test_df"
      ],
      "execution_count": null,
      "outputs": [
        {
          "output_type": "execute_result",
          "data": {
            "text/html": [
              "<div>\n",
              "<style scoped>\n",
              "    .dataframe tbody tr th:only-of-type {\n",
              "        vertical-align: middle;\n",
              "    }\n",
              "\n",
              "    .dataframe tbody tr th {\n",
              "        vertical-align: top;\n",
              "    }\n",
              "\n",
              "    .dataframe thead th {\n",
              "        text-align: right;\n",
              "    }\n",
              "</style>\n",
              "<table border=\"1\" class=\"dataframe\">\n",
              "  <thead>\n",
              "    <tr style=\"text-align: right;\">\n",
              "      <th></th>\n",
              "      <th>text</th>\n",
              "      <th>class</th>\n",
              "    </tr>\n",
              "  </thead>\n",
              "  <tbody>\n",
              "    <tr>\n",
              "      <th>0</th>\n",
              "      <td>Британское министерство информации приняло дек...</td>\n",
              "      <td>NaN</td>\n",
              "    </tr>\n",
              "    <tr>\n",
              "      <th>1</th>\n",
              "      <td>Альбом \"Chief\" кантри-исполнителя Эрика Черча ...</td>\n",
              "      <td>NaN</td>\n",
              "    </tr>\n",
              "    <tr>\n",
              "      <th>2</th>\n",
              "      <td>Новый вид микрокредитных организаций появился ...</td>\n",
              "      <td>NaN</td>\n",
              "    </tr>\n",
              "    <tr>\n",
              "      <th>3</th>\n",
              "      <td>Один из крупнейших торговых комплексов Москвы ...</td>\n",
              "      <td>NaN</td>\n",
              "    </tr>\n",
              "    <tr>\n",
              "      <th>4</th>\n",
              "      <td>Министерство обороны Белоруссии приостановила ...</td>\n",
              "      <td>NaN</td>\n",
              "    </tr>\n",
              "    <tr>\n",
              "      <th>...</th>\n",
              "      <td>...</td>\n",
              "      <td>...</td>\n",
              "    </tr>\n",
              "    <tr>\n",
              "      <th>6019</th>\n",
              "      <td>Представители интернет-сообщества попросили Го...</td>\n",
              "      <td>NaN</td>\n",
              "    </tr>\n",
              "    <tr>\n",
              "      <th>6020</th>\n",
              "      <td>Московские кришнаиты как и было запланировано ...</td>\n",
              "      <td>NaN</td>\n",
              "    </tr>\n",
              "    <tr>\n",
              "      <th>6021</th>\n",
              "      <td>Компания Fox Broadcasting договорились с опера...</td>\n",
              "      <td>NaN</td>\n",
              "    </tr>\n",
              "    <tr>\n",
              "      <th>6022</th>\n",
              "      <td>Гражданка Великобритании Джорджина Чайлдс задо...</td>\n",
              "      <td>NaN</td>\n",
              "    </tr>\n",
              "    <tr>\n",
              "      <th>6023</th>\n",
              "      <td>Участники экологических движений заблокировали...</td>\n",
              "      <td>NaN</td>\n",
              "    </tr>\n",
              "  </tbody>\n",
              "</table>\n",
              "<p>6024 rows × 2 columns</p>\n",
              "</div>"
            ],
            "text/plain": [
              "                                                   text  class\n",
              "0     Британское министерство информации приняло дек...    NaN\n",
              "1     Альбом \"Chief\" кантри-исполнителя Эрика Черча ...    NaN\n",
              "2     Новый вид микрокредитных организаций появился ...    NaN\n",
              "3     Один из крупнейших торговых комплексов Москвы ...    NaN\n",
              "4     Министерство обороны Белоруссии приостановила ...    NaN\n",
              "...                                                 ...    ...\n",
              "6019  Представители интернет-сообщества попросили Го...    NaN\n",
              "6020  Московские кришнаиты как и было запланировано ...    NaN\n",
              "6021  Компания Fox Broadcasting договорились с опера...    NaN\n",
              "6022  Гражданка Великобритании Джорджина Чайлдс задо...    NaN\n",
              "6023  Участники экологических движений заблокировали...    NaN\n",
              "\n",
              "[6024 rows x 2 columns]"
            ]
          },
          "metadata": {
            "tags": []
          },
          "execution_count": 23
        }
      ]
    },
    {
      "cell_type": "code",
      "metadata": {
        "id": "RFu8A8FR1LLV",
        "outputId": "f03d9bc8-13a6-4050-abd7-6f6575735f7f",
        "colab": {
          "base_uri": "https://localhost:8080/",
          "height": 175
        }
      },
      "source": [
        "test_df.info()"
      ],
      "execution_count": null,
      "outputs": [
        {
          "output_type": "stream",
          "text": [
            "<class 'pandas.core.frame.DataFrame'>\n",
            "RangeIndex: 6024 entries, 0 to 6023\n",
            "Data columns (total 2 columns):\n",
            " #   Column  Non-Null Count  Dtype  \n",
            "---  ------  --------------  -----  \n",
            " 0   text    6024 non-null   object \n",
            " 1   class   0 non-null      float64\n",
            "dtypes: float64(1), object(1)\n",
            "memory usage: 94.2+ KB\n"
          ],
          "name": "stdout"
        }
      ]
    },
    {
      "cell_type": "markdown",
      "metadata": {
        "id": "xB83Cx8tCizy"
      },
      "source": [
        "Для обучения колонка **class** нам будет не нужна"
      ]
    },
    {
      "cell_type": "code",
      "metadata": {
        "id": "uJxZnzxzk6Vl"
      },
      "source": [
        "test_df.drop(columns=['class'], inplace=True)"
      ],
      "execution_count": null,
      "outputs": []
    },
    {
      "cell_type": "code",
      "metadata": {
        "id": "piqS9EdilCDz",
        "outputId": "67e41db5-a564-49f1-9c3c-6b9678962b9d",
        "colab": {
          "base_uri": "https://localhost:8080/",
          "height": 400
        }
      },
      "source": [
        "test_df"
      ],
      "execution_count": null,
      "outputs": [
        {
          "output_type": "execute_result",
          "data": {
            "text/html": [
              "<div>\n",
              "<style scoped>\n",
              "    .dataframe tbody tr th:only-of-type {\n",
              "        vertical-align: middle;\n",
              "    }\n",
              "\n",
              "    .dataframe tbody tr th {\n",
              "        vertical-align: top;\n",
              "    }\n",
              "\n",
              "    .dataframe thead th {\n",
              "        text-align: right;\n",
              "    }\n",
              "</style>\n",
              "<table border=\"1\" class=\"dataframe\">\n",
              "  <thead>\n",
              "    <tr style=\"text-align: right;\">\n",
              "      <th></th>\n",
              "      <th>text</th>\n",
              "    </tr>\n",
              "  </thead>\n",
              "  <tbody>\n",
              "    <tr>\n",
              "      <th>0</th>\n",
              "      <td>Британское министерство информации приняло дек...</td>\n",
              "    </tr>\n",
              "    <tr>\n",
              "      <th>1</th>\n",
              "      <td>Альбом \"Chief\" кантри-исполнителя Эрика Черча ...</td>\n",
              "    </tr>\n",
              "    <tr>\n",
              "      <th>2</th>\n",
              "      <td>Новый вид микрокредитных организаций появился ...</td>\n",
              "    </tr>\n",
              "    <tr>\n",
              "      <th>3</th>\n",
              "      <td>Один из крупнейших торговых комплексов Москвы ...</td>\n",
              "    </tr>\n",
              "    <tr>\n",
              "      <th>4</th>\n",
              "      <td>Министерство обороны Белоруссии приостановила ...</td>\n",
              "    </tr>\n",
              "    <tr>\n",
              "      <th>...</th>\n",
              "      <td>...</td>\n",
              "    </tr>\n",
              "    <tr>\n",
              "      <th>6019</th>\n",
              "      <td>Представители интернет-сообщества попросили Го...</td>\n",
              "    </tr>\n",
              "    <tr>\n",
              "      <th>6020</th>\n",
              "      <td>Московские кришнаиты как и было запланировано ...</td>\n",
              "    </tr>\n",
              "    <tr>\n",
              "      <th>6021</th>\n",
              "      <td>Компания Fox Broadcasting договорились с опера...</td>\n",
              "    </tr>\n",
              "    <tr>\n",
              "      <th>6022</th>\n",
              "      <td>Гражданка Великобритании Джорджина Чайлдс задо...</td>\n",
              "    </tr>\n",
              "    <tr>\n",
              "      <th>6023</th>\n",
              "      <td>Участники экологических движений заблокировали...</td>\n",
              "    </tr>\n",
              "  </tbody>\n",
              "</table>\n",
              "<p>6024 rows × 1 columns</p>\n",
              "</div>"
            ],
            "text/plain": [
              "                                                   text\n",
              "0     Британское министерство информации приняло дек...\n",
              "1     Альбом \"Chief\" кантри-исполнителя Эрика Черча ...\n",
              "2     Новый вид микрокредитных организаций появился ...\n",
              "3     Один из крупнейших торговых комплексов Москвы ...\n",
              "4     Министерство обороны Белоруссии приостановила ...\n",
              "...                                                 ...\n",
              "6019  Представители интернет-сообщества попросили Го...\n",
              "6020  Московские кришнаиты как и было запланировано ...\n",
              "6021  Компания Fox Broadcasting договорились с опера...\n",
              "6022  Гражданка Великобритании Джорджина Чайлдс задо...\n",
              "6023  Участники экологических движений заблокировали...\n",
              "\n",
              "[6024 rows x 1 columns]"
            ]
          },
          "metadata": {
            "tags": []
          },
          "execution_count": 26
        }
      ]
    },
    {
      "cell_type": "markdown",
      "metadata": {
        "papermill": {
          "duration": 0.038143,
          "end_time": "2020-09-05T22:13:15.685456",
          "exception": false,
          "start_time": "2020-09-05T22:13:15.647313",
          "status": "completed"
        },
        "tags": [],
        "id": "dHo-OozMdt_8"
      },
      "source": [
        "## Datasets"
      ]
    },
    {
      "cell_type": "markdown",
      "metadata": {
        "id": "75BiBoq1Crok"
      },
      "source": [
        "С помощью токенизатора преобразуем наши тексты в вектора `input_ids` одной длины, а также укажем необходимый для нашей модели формат тензоров `torch`"
      ]
    },
    {
      "cell_type": "code",
      "metadata": {
        "id": "ZLET3zJhlymR"
      },
      "source": [
        "import nlp"
      ],
      "execution_count": null,
      "outputs": []
    },
    {
      "cell_type": "code",
      "metadata": {
        "execution": {
          "iopub.execute_input": "2020-09-05T22:13:15.845561Z",
          "iopub.status.busy": "2020-09-05T22:13:15.844629Z",
          "iopub.status.idle": "2020-09-05T22:14:18.490780Z",
          "shell.execute_reply": "2020-09-05T22:14:18.489532Z"
        },
        "papermill": {
          "duration": 62.76746,
          "end_time": "2020-09-05T22:14:18.490930",
          "exception": false,
          "start_time": "2020-09-05T22:13:15.723470",
          "status": "completed"
        },
        "tags": [],
        "id": "w9stWz8Zdt_8",
        "outputId": "890682a3-a410-47f1-87d9-5d377c3c0c9f",
        "colab": {
          "base_uri": "https://localhost:8080/",
          "height": 165,
          "referenced_widgets": [
            "863c8ea986764b1fb9d5beb920a6edfc",
            "c7b641d8bcd5479e8a8b1ebc8acebe1f",
            "44a0ce4d156a4b298848eeffb964f04f",
            "9d0fb980993f4c27847d8b2c501724b6",
            "9dcaba0d928541f896170cb3a1911af9",
            "40562fba7d49473baba2d0b4755f4dba",
            "fb477f21ebb24d4199818c635331bc31",
            "9305c7473c204951b1fde47905307324",
            "aa940bce610a4f69a361d7430fdf90de",
            "1bdcb7cc979740b1805a7267af5fc3a5",
            "b4db19a636bc49d1a8cbf8a5077ae821",
            "87d3642eb23c4c668fdbd0eaa64815a3",
            "35c411af9a2542a8906642bccb437a37",
            "7e0e434ec8244a968c52e2f6ace49efc",
            "80eba3bc950b46ce902c7083cb767747",
            "df36c3e90cdb42d0a4bbab8e380dd65e",
            "80be08759eba43498af65b0b5180f795",
            "e64d6a3b9792471a8b83beb0e3d7f94e",
            "044e0901003b430da685c4092b85d0f0",
            "5e85237b18604365bfe4d01251b5e90c",
            "12d43da1e0d946809d1225a87041cb76",
            "1b99c68304f04af9b1a5087ce88a2829",
            "e3ff81f818ff41f696fdbb5a4838f935",
            "1b5e6776a3d043368c43c01ce99b6cf1"
          ]
        }
      },
      "source": [
        "MAX_LEN = 256\n",
        "\n",
        "def convert_to_features(batch):\n",
        "\n",
        "    encodings = tokenizer.batch_encode_plus(batch['text'], \n",
        "                                            add_special_tokens=True,\n",
        "                                            pad_to_max_length=True,\n",
        "                                            truncation=True,\n",
        "                                            max_length=MAX_LEN)\n",
        "    return encodings\n",
        "\n",
        "train_dataset = nlp.Dataset.from_pandas(train_df)\n",
        "train_dataset = train_dataset.map(convert_to_features, batched=True)\n",
        "train_dataset.set_format(\"torch\", columns=['input_ids', 'attention_mask', 'class'])\n",
        "\n",
        "valid_dataset = nlp.Dataset.from_pandas(valid_df)\n",
        "valid_dataset = valid_dataset.map(convert_to_features, batched=True) \n",
        "valid_dataset.set_format(\"torch\", columns=['input_ids', 'attention_mask', 'class'])\n",
        "\n",
        "test_dataset = nlp.Dataset.from_pandas(test_df)\n",
        "test_dataset = test_dataset.map(convert_to_features, batched=True) \n",
        "test_dataset.set_format(\"torch\", columns=['input_ids', 'attention_mask'])"
      ],
      "execution_count": null,
      "outputs": [
        {
          "output_type": "display_data",
          "data": {
            "application/vnd.jupyter.widget-view+json": {
              "model_id": "863c8ea986764b1fb9d5beb920a6edfc",
              "version_minor": 0,
              "version_major": 2
            },
            "text/plain": [
              "HBox(children=(FloatProgress(value=0.0, max=23.0), HTML(value='')))"
            ]
          },
          "metadata": {
            "tags": []
          }
        },
        {
          "output_type": "stream",
          "text": [
            "\n"
          ],
          "name": "stdout"
        },
        {
          "output_type": "display_data",
          "data": {
            "application/vnd.jupyter.widget-view+json": {
              "model_id": "aa940bce610a4f69a361d7430fdf90de",
              "version_minor": 0,
              "version_major": 2
            },
            "text/plain": [
              "HBox(children=(FloatProgress(value=0.0, max=2.0), HTML(value='')))"
            ]
          },
          "metadata": {
            "tags": []
          }
        },
        {
          "output_type": "stream",
          "text": [
            "\n"
          ],
          "name": "stdout"
        },
        {
          "output_type": "display_data",
          "data": {
            "application/vnd.jupyter.widget-view+json": {
              "model_id": "80be08759eba43498af65b0b5180f795",
              "version_minor": 0,
              "version_major": 2
            },
            "text/plain": [
              "HBox(children=(FloatProgress(value=0.0, max=7.0), HTML(value='')))"
            ]
          },
          "metadata": {
            "tags": []
          }
        },
        {
          "output_type": "stream",
          "text": [
            "\n"
          ],
          "name": "stdout"
        }
      ]
    },
    {
      "cell_type": "markdown",
      "metadata": {
        "papermill": {
          "duration": 0.039562,
          "end_time": "2020-09-05T22:14:18.575706",
          "exception": false,
          "start_time": "2020-09-05T22:14:18.536144",
          "status": "completed"
        },
        "tags": [],
        "id": "hioXa5BqduAB"
      },
      "source": [
        "## Train & Submit"
      ]
    },
    {
      "cell_type": "markdown",
      "metadata": {
        "papermill": {
          "duration": 0.038621,
          "end_time": "2020-09-05T22:14:18.655566",
          "exception": false,
          "start_time": "2020-09-05T22:14:18.616945",
          "status": "completed"
        },
        "tags": [],
        "id": "785uErE2duAC"
      },
      "source": [
        "### Metrics"
      ]
    },
    {
      "cell_type": "markdown",
      "metadata": {
        "id": "oFTVuBDhEnoo"
      },
      "source": [
        "Во время обучения будем следить за значениями функции потерь и метрикой f1"
      ]
    },
    {
      "cell_type": "code",
      "metadata": {
        "id": "7JpsMzN2h9n-"
      },
      "source": [
        "from sklearn.metrics import f1_score"
      ],
      "execution_count": null,
      "outputs": []
    },
    {
      "cell_type": "code",
      "metadata": {
        "execution": {
          "iopub.execute_input": "2020-09-05T22:14:18.753297Z",
          "iopub.status.busy": "2020-09-05T22:14:18.743161Z",
          "iopub.status.idle": "2020-09-05T22:14:18.756244Z",
          "shell.execute_reply": "2020-09-05T22:14:18.756843Z"
        },
        "papermill": {
          "duration": 0.062144,
          "end_time": "2020-09-05T22:14:18.757020",
          "exception": false,
          "start_time": "2020-09-05T22:14:18.694876",
          "status": "completed"
        },
        "tags": [],
        "id": "eNK34-ROduAD"
      },
      "source": [
        "class AverageMeter(object):\n",
        "    def __init__(self, name, fmt=':f'):\n",
        "        self.name = name\n",
        "        self.fmt = fmt\n",
        "        self.reset()\n",
        "\n",
        "    def reset(self):\n",
        "        self.val = 0\n",
        "        self.avg = 0\n",
        "        self.sum = 0\n",
        "        self.count = 0\n",
        "\n",
        "    def update(self, val, n=1):\n",
        "        self.val = val\n",
        "        self.sum += val * n\n",
        "        self.count += n\n",
        "        self.avg = self.sum / self.count\n",
        "\n",
        "    def __str__(self):\n",
        "        fmtstr = '{name} {avg' + self.fmt + '}'\n",
        "        return fmtstr.format(**self.__dict__)\n",
        "\n",
        "class ProgressMeter(object):\n",
        "    def __init__(self, num_batches, meters, prefix=\"\"):\n",
        "        self.batch_fmtstr = self._get_batch_fmtstr(num_batches)\n",
        "        self.meters = meters\n",
        "        self.prefix = prefix\n",
        "\n",
        "    def display(self, batch):\n",
        "        entries = [self.prefix + self.batch_fmtstr.format(batch)]\n",
        "        entries += [str(meter) for meter in self.meters]\n",
        "        print('\\t'.join(entries))\n",
        "\n",
        "    def _get_batch_fmtstr(self, num_batches):\n",
        "        num_digits = len(str(num_batches // 1))\n",
        "        fmt = '{:' + str(num_digits) + 'd}'\n",
        "        return '[' + fmt + '/' + fmt.format(num_batches) + ']'\n",
        "\n",
        "def F1_score(outputs, targets):\n",
        "    with torch.no_grad():\n",
        "        return f1_score(targets, outputs.argmax(dim=-1), average='macro') "
      ],
      "execution_count": null,
      "outputs": []
    },
    {
      "cell_type": "markdown",
      "metadata": {
        "papermill": {
          "duration": 0.03979,
          "end_time": "2020-09-05T22:14:18.837106",
          "exception": false,
          "start_time": "2020-09-05T22:14:18.797316",
          "status": "completed"
        },
        "tags": [],
        "id": "M5C7IKZMduAF"
      },
      "source": [
        "### Training"
      ]
    },
    {
      "cell_type": "markdown",
      "metadata": {
        "id": "1YcJfpQaE0sv"
      },
      "source": [
        "Опишем функцию для обучения"
      ]
    },
    {
      "cell_type": "code",
      "metadata": {
        "execution": {
          "iopub.execute_input": "2020-09-05T22:14:18.932557Z",
          "iopub.status.busy": "2020-09-05T22:14:18.930554Z",
          "iopub.status.idle": "2020-09-05T22:14:18.936256Z",
          "shell.execute_reply": "2020-09-05T22:14:18.935498Z"
        },
        "papermill": {
          "duration": 0.059258,
          "end_time": "2020-09-05T22:14:18.936400",
          "exception": false,
          "start_time": "2020-09-05T22:14:18.877142",
          "status": "completed"
        },
        "tags": [],
        "id": "Khu87ZumduAG"
      },
      "source": [
        "def train_loop_fn(train_loader, model, optimizer, device, epoch=None):\n",
        "\n",
        "    model.train()\n",
        "    \n",
        "    losses = AverageMeter('Loss:', ':.4e')\n",
        "    top1 = AverageMeter('F1:', ':.2f')\n",
        "    progress = ProgressMeter(\n",
        "        len(train_loader),\n",
        "        [losses, top1],\n",
        "        prefix=\"[xla:{}]  Train:  Epoch: [{}]\".format(xm.get_ordinal(), epoch + 1)\n",
        "    )    \n",
        "\n",
        "    for i, data in enumerate(train_loader):\n",
        "\n",
        "        input_ids = data[\"input_ids\"].to(device, dtype=torch.long)\n",
        "        attention_mask = data[\"attention_mask\"].to(device, dtype=torch.long)\n",
        "        labels = data[\"class\"].to(device, dtype=torch.float)\n",
        "\n",
        "        optimizer.zero_grad()\n",
        "        outputs = model(\n",
        "            input_ids = input_ids,\n",
        "            attention_mask = attention_mask,\n",
        "            labels = labels\n",
        "        )\n",
        "\n",
        "        loss = outputs[0] \n",
        "        loss.backward()\n",
        "        xm.optimizer_step(optimizer)\n",
        "\n",
        "        f1 = F1_score(outputs[1].cpu(), labels.cpu())\n",
        "        losses.update(loss.item(), input_ids.size(0))\n",
        "        top1.update(f1.item(), input_ids.size(0))\n",
        "\n",
        "        if i == len(train_loader) - 1: \n",
        "            progress.display(i)\n",
        "\n",
        "    del loss\n",
        "    del f1\n",
        "    del outputs\n",
        "    del input_ids\n",
        "    del attention_mask\n",
        "    del labels\n",
        "    gc.collect()"
      ],
      "execution_count": null,
      "outputs": []
    },
    {
      "cell_type": "markdown",
      "metadata": {
        "papermill": {
          "duration": 0.03969,
          "end_time": "2020-09-05T22:14:19.015962",
          "exception": false,
          "start_time": "2020-09-05T22:14:18.976272",
          "status": "completed"
        },
        "tags": [],
        "id": "cPZ3ewCDduAI"
      },
      "source": [
        "### Evaluation"
      ]
    },
    {
      "cell_type": "markdown",
      "metadata": {
        "id": "wBW0G4CCE4q3"
      },
      "source": [
        "Опишем функцию для валидации"
      ]
    },
    {
      "cell_type": "code",
      "metadata": {
        "id": "zAUNHAzFnw4e"
      },
      "source": [
        "from sklearn.metrics import confusion_matrix"
      ],
      "execution_count": null,
      "outputs": []
    },
    {
      "cell_type": "code",
      "metadata": {
        "execution": {
          "iopub.execute_input": "2020-09-05T22:14:19.112966Z",
          "iopub.status.busy": "2020-09-05T22:14:19.112033Z",
          "iopub.status.idle": "2020-09-05T22:14:19.115404Z",
          "shell.execute_reply": "2020-09-05T22:14:19.114738Z"
        },
        "papermill": {
          "duration": 0.059236,
          "end_time": "2020-09-05T22:14:19.115533",
          "exception": false,
          "start_time": "2020-09-05T22:14:19.056297",
          "status": "completed"
        },
        "tags": [],
        "id": "Ubs6T0JOuJds"
      },
      "source": [
        "def eval_loop_fn(test_data_loader, model, device):\n",
        "\n",
        "    model.eval()\n",
        "\n",
        "    with torch.no_grad():\n",
        "\n",
        "        test_preds = []\n",
        "        targets = []\n",
        "        val_loss = 0\n",
        "\n",
        "        for i, data in enumerate(test_data_loader):\n",
        "\n",
        "            input_ids = data[\"input_ids\"].to(device, dtype=torch.long)\n",
        "            attention_mask = data[\"attention_mask\"].to(device, dtype=torch.long)\n",
        "            labels = data[\"class\"].to(device, dtype=torch.float)\n",
        "\n",
        "            outputs = model(\n",
        "                input_ids = input_ids,\n",
        "                attention_mask = attention_mask,\n",
        "                labels = labels\n",
        "            )\n",
        "\n",
        "            val_loss += outputs[0].item()\n",
        "            test_preds.extend(torch.argmax(outputs[1], -1).cpu().detach().tolist())\n",
        "            targets.extend(data[\"class\"].detach().tolist())  \n",
        "        \n",
        "    xm.master_print(f'Val loss: {val_loss / len(test_data_loader)}')\n",
        "    xm.master_print(f'F1 score: {f1_score(targets, test_preds, average=\"macro\")}')\n",
        "    xm.master_print('Confusion matrix:')\n",
        "    xm.master_print(f'{confusion_matrix(targets, test_preds)}')\n",
        "\n",
        "    del outputs\n",
        "    del targets \n",
        "    del test_preds\n",
        "    del input_ids\n",
        "    del attention_mask\n",
        "    gc.collect()"
      ],
      "execution_count": null,
      "outputs": []
    },
    {
      "cell_type": "markdown",
      "metadata": {
        "papermill": {
          "duration": 0.039369,
          "end_time": "2020-09-05T22:14:19.195683",
          "exception": false,
          "start_time": "2020-09-05T22:14:19.156314",
          "status": "completed"
        },
        "tags": [],
        "id": "5deBCxT4duAM"
      },
      "source": [
        "### Test"
      ]
    },
    {
      "cell_type": "markdown",
      "metadata": {
        "id": "DJJ80DBGE8Nv"
      },
      "source": [
        "Опишем функцию, которая будет получать предсказания для тестового датасета, преобразовывать их обратно в **true**/**fake** и записывать в колонку `class` исходного файла `test.csv` под именем `submission_epoch.csv`"
      ]
    },
    {
      "cell_type": "code",
      "metadata": {
        "id": "-pVuPDKSfsmc"
      },
      "source": [
        "sample_submission = pd.read_csv('/content/test.csv', delimiter=\"\\t\")"
      ],
      "execution_count": null,
      "outputs": []
    },
    {
      "cell_type": "code",
      "metadata": {
        "execution": {
          "iopub.execute_input": "2020-09-05T22:14:19.288684Z",
          "iopub.status.busy": "2020-09-05T22:14:19.287895Z",
          "iopub.status.idle": "2020-09-05T22:14:19.291933Z",
          "shell.execute_reply": "2020-09-05T22:14:19.291203Z"
        },
        "papermill": {
          "duration": 0.056595,
          "end_time": "2020-09-05T22:14:19.292056",
          "exception": false,
          "start_time": "2020-09-05T22:14:19.235461",
          "status": "completed"
        },
        "tags": [],
        "id": "JMZNr1J1duAM"
      },
      "source": [
        "def test_loop_fn(test_data_loader, model, device, epoch=0):\n",
        "\n",
        "    model.eval()\n",
        "\n",
        "    with torch.no_grad():\n",
        "\n",
        "        test_preds = []\n",
        "\n",
        "        for i, data in enumerate(test_data_loader):\n",
        "\n",
        "            input_ids = data[\"input_ids\"].to(device, dtype=torch.long)\n",
        "            attention_mask = data[\"attention_mask\"].to(device, dtype=torch.long)\n",
        "\n",
        "            outputs = model(\n",
        "                input_ids = input_ids,\n",
        "                attention_mask = attention_mask,\n",
        "            )[0]\n",
        "\n",
        "            test_preds.extend(torch.argmax(outputs, -1).cpu().detach().tolist())  \n",
        "\n",
        "    sample_submission['class'] = binarizer.inverse_transform(np.array(test_preds))\n",
        "    sample_submission.to_csv(f'submission_{epoch + 1}.csv', sep=\"\\t\")\n",
        "\n",
        "    del outputs\n",
        "    del test_preds\n",
        "    del input_ids\n",
        "    del attention_mask\n",
        "    gc.collect()"
      ],
      "execution_count": null,
      "outputs": []
    },
    {
      "cell_type": "markdown",
      "metadata": {
        "papermill": {
          "duration": 0.03919,
          "end_time": "2020-09-05T22:14:19.370981",
          "exception": false,
          "start_time": "2020-09-05T22:14:19.331791",
          "status": "completed"
        },
        "tags": [],
        "id": "IsbT1MOMduAO"
      },
      "source": [
        "### Run"
      ]
    },
    {
      "cell_type": "markdown",
      "metadata": {
        "id": "0IGGsfMCF4OQ"
      },
      "source": [
        "Укажем параметры обучения"
      ]
    },
    {
      "cell_type": "code",
      "metadata": {
        "_kg_hide-output": true,
        "execution": {
          "iopub.execute_input": "2020-09-05T22:14:19.457902Z",
          "iopub.status.busy": "2020-09-05T22:14:19.457110Z",
          "iopub.status.idle": "2020-09-05T22:14:19.461887Z",
          "shell.execute_reply": "2020-09-05T22:14:19.461152Z"
        },
        "papermill": {
          "duration": 0.051603,
          "end_time": "2020-09-05T22:14:19.462019",
          "exception": false,
          "start_time": "2020-09-05T22:14:19.410416",
          "status": "completed"
        },
        "tags": [],
        "id": "qV7lg941duAP"
      },
      "source": [
        "my_seed(42)\n",
        "\n",
        "TRAIN_BATCH_SIZE = 8 * xm.xrt_world_size()\n",
        "VALID_BATCH_SIZE = 8 * xm.xrt_world_size()\n",
        "TEST_BATCH_SIZE = 8\n",
        "EPOCHS = 5\n",
        "LR = 5e-5 * xm.xrt_world_size() "
      ],
      "execution_count": null,
      "outputs": []
    },
    {
      "cell_type": "markdown",
      "metadata": {
        "id": "Xzp_m5LEGBpS"
      },
      "source": [
        "Определим загрузчики данных для каждого датасета и опишем основной цикл обучения. После каждой эпохи будем оценивать качество на валидационном датасете и делать предсказания для тестового."
      ]
    },
    {
      "cell_type": "code",
      "metadata": {
        "execution": {
          "iopub.execute_input": "2020-09-05T22:14:19.563132Z",
          "iopub.status.busy": "2020-09-05T22:14:19.562322Z",
          "iopub.status.idle": "2020-09-05T22:14:19.567315Z",
          "shell.execute_reply": "2020-09-05T22:14:19.566643Z"
        },
        "id": "akuL2cGPzqmn",
        "papermill": {
          "duration": 0.065445,
          "end_time": "2020-09-05T22:14:19.567452",
          "exception": false,
          "start_time": "2020-09-05T22:14:19.502007",
          "status": "completed"
        },
        "tags": []
      },
      "source": [
        "def _run():\n",
        "\n",
        "    # Train\n",
        "    xm.master_print('Starting Run ...')\n",
        "    train_sampler = DistributedSampler(\n",
        "        train_dataset,\n",
        "        num_replicas=xm.xrt_world_size(),\n",
        "        rank=xm.get_ordinal(),\n",
        "        shuffle=True \n",
        "    )    \n",
        "    train_data_loader = DataLoader(\n",
        "        train_dataset,\n",
        "        batch_size=TRAIN_BATCH_SIZE,\n",
        "        sampler=train_sampler,\n",
        "        drop_last=True,\n",
        "        num_workers=0,\n",
        "    )\n",
        "    xm.master_print('Train Loader Created.')\n",
        "    \n",
        "    # Valid   \n",
        "    valid_data_loader = DataLoader(\n",
        "        valid_dataset,\n",
        "        batch_size=VALID_BATCH_SIZE,\n",
        "        drop_last=False,\n",
        "        num_workers=0,\n",
        "        shuffle=False\n",
        "    )\n",
        "    xm.master_print('Valid Loader Created.')\n",
        "\n",
        "    # Test\n",
        "    test_data_loader = DataLoader(\n",
        "        test_dataset, \n",
        "        batch_size=TEST_BATCH_SIZE,\n",
        "        drop_last=False,\n",
        "        num_workers=0,\n",
        "        shuffle=False,\n",
        "    )\n",
        "    xm.master_print('Test Loader Created.')\n",
        "    \n",
        "    num_train_steps = int(len(train_df) / TRAIN_BATCH_SIZE / xm.xrt_world_size())\n",
        "    device = xm.xla_device()\n",
        "    model = WRAPPED_MODEL.to(device)\n",
        "    xm.master_print('Done Model Loading.')\n",
        "    optimizer = AdamW(\n",
        "        model.parameters(),\n",
        "        lr=LR, \n",
        "    )\n",
        "    xm.master_print(f'Num Train Steps= {num_train_steps}, XRT World Size= {xm.xrt_world_size()}.')\n",
        "\n",
        "    for epoch in range(EPOCHS):\n",
        "\n",
        "        train_sampler.set_epoch(epoch)\n",
        "        \n",
        "        para_loader = pl.ParallelLoader(train_data_loader, [device])\n",
        "        xm.master_print('Parallel Loader Created. Training ...')\n",
        "        train_loop_fn(para_loader.per_device_loader(device),\n",
        "                      model,  \n",
        "                      optimizer, \n",
        "                      device,  \n",
        "                      epoch\n",
        "                     )        \n",
        "        xm.master_print(\"Finished training epoch {}\".format(epoch + 1))\n",
        "            \n",
        "        para_loader = pl.ParallelLoader(valid_data_loader, [device])\n",
        "        xm.master_print('Parallel Loader Created. Validating ...')\n",
        "        eval_loop_fn(para_loader.per_device_loader(device), \n",
        "                     model,  \n",
        "                     device\n",
        "                    )\n",
        "        \n",
        "        para_loader = pl.ParallelLoader(test_data_loader, [device])\n",
        "        xm.master_print('Parallel Loader Created. Testing ...')\n",
        "        test_loop_fn(para_loader.per_device_loader(device), \n",
        "                    model,  \n",
        "                    device,\n",
        "                    epoch \n",
        "                    )\n",
        "        xm.master_print('Predicted.')\n",
        "\n",
        "        # При необходимости можно сохранить веса модели\n",
        "        # if epoch == EPOCHS-1:\n",
        "        #     xm.save(model.state_dict(), f'XLM_R_{epoch + 1}.pt')\n",
        "        #     xm.master_print('Model Saved.')"
      ],
      "execution_count": null,
      "outputs": []
    },
    {
      "cell_type": "markdown",
      "metadata": {
        "id": "1adnN4bXGlaN"
      },
      "source": [
        "Запускаем обучение"
      ]
    },
    {
      "cell_type": "code",
      "metadata": {
        "_kg_hide-output": true,
        "execution": {
          "iopub.execute_input": "2020-09-05T22:14:19.658948Z",
          "iopub.status.busy": "2020-09-05T22:14:19.657927Z",
          "iopub.status.idle": "2020-09-05T23:43:19.065617Z",
          "shell.execute_reply": "2020-09-05T23:43:19.064773Z"
        },
        "papermill": {
          "duration": 5339.457651,
          "end_time": "2020-09-05T23:43:19.065763",
          "exception": false,
          "start_time": "2020-09-05T22:14:19.608112",
          "status": "completed"
        },
        "tags": [],
        "id": "r1tD7SnAB97O",
        "outputId": "ac9b825a-acca-45de-8517-345aa89fa7eb",
        "colab": {
          "base_uri": "https://localhost:8080/",
          "height": 1000
        }
      },
      "source": [
        "def _mp_fn(rank, flags):\n",
        "    _run()\n",
        "\n",
        "FLAGS={}\n",
        "xmp.spawn(_mp_fn, args=(FLAGS,), nprocs=8, start_method='fork')"
      ],
      "execution_count": null,
      "outputs": [
        {
          "output_type": "stream",
          "text": [
            "Starting Run ...\n",
            "Train Loader Created.\n",
            "Valid Loader Created.\n",
            "Test Loader Created.\n",
            "Done Model Loading.\n",
            "Num Train Steps= 357, XRT World Size= 8.\n",
            "Parallel Loader Created. Training ...\n",
            "[xla:3]  Train:  Epoch: [1][356/357]\tLoss: 6.3044e-02\tF1: 0.94\n",
            "[xla:0]  Train:  Epoch: [1][356/357]\tLoss: 4.9686e-02\tF1: 0.95\n",
            "[xla:1]  Train:  Epoch: [1][356/357]\tLoss: 6.0571e-02\tF1: 0.95\n",
            "[xla:5]  Train:  Epoch: [1][356/357]\tLoss: 5.9557e-02\tF1: 0.95\n",
            "[xla:4]  Train:  Epoch: [1][356/357]\tLoss: 5.5347e-02\tF1: 0.95\n",
            "[xla:6]  Train:  Epoch: [1][356/357]\tLoss: 6.4242e-02\tF1: 0.94\n",
            "[xla:2]  Train:  Epoch: [1][356/357]\tLoss: 6.8966e-02\tF1: 0.94\n",
            "[xla:7]  Train:  Epoch: [1][356/357]\tLoss: 5.5922e-02\tF1: 0.95\n",
            "Finished training epoch 1\n",
            "Parallel Loader Created. Validating ...\n",
            "Val loss: 0.013354778289794922\n",
            "F1 score: 0.9928104024489566\n",
            "Confusion matrix:\n",
            "[[164   1]\n",
            " [  3 856]]\n",
            "Parallel Loader Created. Testing ...\n",
            "Predicted.\n",
            "Parallel Loader Created. Training ...\n",
            "[xla:5]  Train:  Epoch: [2][356/357]\tLoss: 4.3562e-03\tF1: 1.00\n",
            "[xla:3]  Train:  Epoch: [2][356/357]\tLoss: 5.5744e-03\tF1: 1.00\n",
            "[xla:2]  Train:  Epoch: [2][356/357]\tLoss: 3.2458e-03\tF1: 1.00\n",
            "[xla:7]  Train:  Epoch: [2][356/357]\tLoss: 4.5072e-03\tF1: 0.99\n",
            "[xla:4]  Train:  Epoch: [2][356/357]\tLoss: 5.7839e-03\tF1: 1.00\n",
            "[xla:0]  Train:  Epoch: [2][356/357]\tLoss: 4.3365e-03\tF1: 1.00\n",
            "[xla:6]  Train:  Epoch: [2][356/357]\tLoss: 4.9113e-03\tF1: 1.00\n",
            "[xla:1]  Train:  Epoch: [2][356/357]\tLoss: 5.3408e-03\tF1: 1.00\n",
            "Finished training epoch 2\n",
            "Parallel Loader Created. Validating ...\n",
            "Val loss: 0.010583937168121338\n",
            "F1 score: 0.9946208599269823\n",
            "Confusion matrix:\n",
            "[[165   0]\n",
            " [  3 856]]\n",
            "Parallel Loader Created. Testing ...\n",
            "Predicted.\n",
            "Parallel Loader Created. Training ...\n",
            "[xla:1]  Train:  Epoch: [3][356/357]\tLoss: 6.2016e-03\tF1: 0.99\n",
            "[xla:5]  Train:  Epoch: [3][356/357]\tLoss: 1.9652e-03\tF1: 1.00\n",
            "[xla:0]  Train:  Epoch: [3][356/357]\tLoss: 1.0038e-03\tF1: 1.00\n",
            "[xla:3]  Train:  Epoch: [3][356/357]\tLoss: 1.4796e-03\tF1: 1.00\n",
            "[xla:6]  Train:  Epoch: [3][356/357]\tLoss: 2.3025e-03\tF1: 1.00\n",
            "[xla:7]  Train:  Epoch: [3][356/357]\tLoss: 1.2995e-03\tF1: 1.00\n",
            "[xla:2]  Train:  Epoch: [3][356/357]\tLoss: 1.6732e-03\tF1: 1.00\n",
            "[xla:4]  Train:  Epoch: [3][356/357]\tLoss: 1.3407e-03\tF1: 1.00\n",
            "Finished training epoch 3\n",
            "Parallel Loader Created. Validating ...\n",
            "Val loss: 0.0011731982231140137\n",
            "F1 score: 0.9981893763780808\n",
            "Confusion matrix:\n",
            "[[164   1]\n",
            " [  0 859]]\n",
            "Parallel Loader Created. Testing ...\n",
            "Predicted.\n",
            "Parallel Loader Created. Training ...\n",
            "[xla:6]  Train:  Epoch: [4][356/357]\tLoss: 5.2596e-03\tF1: 1.00\n",
            "[xla:7]  Train:  Epoch: [4][356/357]\tLoss: 4.7653e-03\tF1: 1.00\n",
            "[xla:4]  Train:  Epoch: [4][356/357]\tLoss: 8.7151e-03\tF1: 0.99\n",
            "[xla:0]  Train:  Epoch: [4][356/357]\tLoss: 2.2638e-03\tF1: 1.00\n",
            "[xla:3]  Train:  Epoch: [4][356/357]\tLoss: 5.4504e-03\tF1: 1.00\n",
            "[xla:2]  Train:  Epoch: [4][356/357]\tLoss: 6.9177e-03\tF1: 0.99\n",
            "[xla:1]  Train:  Epoch: [4][356/357]\tLoss: 5.7548e-03\tF1: 1.00\n",
            "[xla:5]  Train:  Epoch: [4][356/357]\tLoss: 4.0101e-03\tF1: 0.99\n",
            "Finished training epoch 4\n",
            "Parallel Loader Created. Validating ...\n",
            "Val loss: 0.009636849164962769\n",
            "F1 score: 0.9928451149043802\n",
            "Confusion matrix:\n",
            "[[165   0]\n",
            " [  4 855]]\n",
            "Parallel Loader Created. Testing ...\n",
            "Predicted.\n",
            "Parallel Loader Created. Training ...\n",
            "[xla:1]  Train:  Epoch: [5][356/357]\tLoss: 8.1085e-04\tF1: 1.00\n",
            "[xla:7]  Train:  Epoch: [5][356/357]\tLoss: 8.7363e-04\tF1: 1.00\n",
            "[xla:5]  Train:  Epoch: [5][356/357]\tLoss: 2.0557e-03\tF1: 1.00\n",
            "[xla:0]  Train:  Epoch: [5][356/357]\tLoss: 1.9530e-03\tF1: 1.00\n",
            "[xla:2]  Train:  Epoch: [5][356/357]\tLoss: 9.9033e-04\tF1: 1.00\n",
            "[xla:4]  Train:  Epoch: [5][356/357]\tLoss: 6.9800e-04\tF1: 1.00\n",
            "[xla:3]  Train:  Epoch: [5][356/357]\tLoss: 2.4916e-03\tF1: 1.00\n",
            "[xla:6]  Train:  Epoch: [5][356/357]\tLoss: 8.4249e-04\tF1: 1.00\n",
            "Finished training epoch 5\n",
            "Parallel Loader Created. Validating ...\n",
            "Val loss: 0.010512560606002808\n",
            "F1 score: 0.9946208599269823\n",
            "Confusion matrix:\n",
            "[[165   0]\n",
            " [  3 856]]\n",
            "Parallel Loader Created. Testing ...\n"
          ],
          "name": "stdout"
        }
      ]
    },
    {
      "cell_type": "markdown",
      "metadata": {
        "id": "22NiuZrItRlr"
      },
      "source": [
        "Файл `submission_5.csv` как раз соответствует результату f1=1.0"
      ]
    }
  ]
}