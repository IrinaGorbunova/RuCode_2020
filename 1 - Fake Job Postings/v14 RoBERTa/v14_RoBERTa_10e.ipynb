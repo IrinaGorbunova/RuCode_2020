{
  "nbformat": 4,
  "nbformat_minor": 0,
  "metadata": {
    "colab": {
      "name": "v14_new_RoBERTa_10e_tr_3.2.0.ipynb",
      "provenance": [],
      "toc_visible": true,
      "machine_shape": "hm"
    },
    "kernelspec": {
      "name": "python3",
      "display_name": "Python 3"
    },
    "accelerator": "TPU",
    "widgets": {
      "application/vnd.jupyter.widget-state+json": {
        "597e3845e4334e37915f4940a72738c9": {
          "model_module": "@jupyter-widgets/controls",
          "model_name": "HBoxModel",
          "state": {
            "_view_name": "HBoxView",
            "_dom_classes": [],
            "_model_name": "HBoxModel",
            "_view_module": "@jupyter-widgets/controls",
            "_model_module_version": "1.5.0",
            "_view_count": null,
            "_view_module_version": "1.5.0",
            "box_style": "",
            "layout": "IPY_MODEL_75f650305fcf4ee28c2ed84538eaad0f",
            "_model_module": "@jupyter-widgets/controls",
            "children": [
              "IPY_MODEL_60cf8aacad7e4f21ada0ae9ffd749894",
              "IPY_MODEL_8f72c79a9c3641629b78fdece8e2db5f"
            ]
          }
        },
        "75f650305fcf4ee28c2ed84538eaad0f": {
          "model_module": "@jupyter-widgets/base",
          "model_name": "LayoutModel",
          "state": {
            "_view_name": "LayoutView",
            "grid_template_rows": null,
            "right": null,
            "justify_content": null,
            "_view_module": "@jupyter-widgets/base",
            "overflow": null,
            "_model_module_version": "1.2.0",
            "_view_count": null,
            "flex_flow": null,
            "width": null,
            "min_width": null,
            "border": null,
            "align_items": null,
            "bottom": null,
            "_model_module": "@jupyter-widgets/base",
            "top": null,
            "grid_column": null,
            "overflow_y": null,
            "overflow_x": null,
            "grid_auto_flow": null,
            "grid_area": null,
            "grid_template_columns": null,
            "flex": null,
            "_model_name": "LayoutModel",
            "justify_items": null,
            "grid_row": null,
            "max_height": null,
            "align_content": null,
            "visibility": null,
            "align_self": null,
            "height": null,
            "min_height": null,
            "padding": null,
            "grid_auto_rows": null,
            "grid_gap": null,
            "max_width": null,
            "order": null,
            "_view_module_version": "1.2.0",
            "grid_template_areas": null,
            "object_position": null,
            "object_fit": null,
            "grid_auto_columns": null,
            "margin": null,
            "display": null,
            "left": null
          }
        },
        "60cf8aacad7e4f21ada0ae9ffd749894": {
          "model_module": "@jupyter-widgets/controls",
          "model_name": "FloatProgressModel",
          "state": {
            "_view_name": "ProgressView",
            "style": "IPY_MODEL_aff36a0af2a74e4cbecc09ccd1b6e56e",
            "_dom_classes": [],
            "description": "Downloading: 100%",
            "_model_name": "FloatProgressModel",
            "bar_style": "success",
            "max": 482,
            "_view_module": "@jupyter-widgets/controls",
            "_model_module_version": "1.5.0",
            "value": 482,
            "_view_count": null,
            "_view_module_version": "1.5.0",
            "orientation": "horizontal",
            "min": 0,
            "description_tooltip": null,
            "_model_module": "@jupyter-widgets/controls",
            "layout": "IPY_MODEL_be8323d42a1c4ffbbefe2d0dc16a9b1c"
          }
        },
        "8f72c79a9c3641629b78fdece8e2db5f": {
          "model_module": "@jupyter-widgets/controls",
          "model_name": "HTMLModel",
          "state": {
            "_view_name": "HTMLView",
            "style": "IPY_MODEL_ae1e497696334a6898831038da955c40",
            "_dom_classes": [],
            "description": "",
            "_model_name": "HTMLModel",
            "placeholder": "​",
            "_view_module": "@jupyter-widgets/controls",
            "_model_module_version": "1.5.0",
            "value": " 482/482 [00:00&lt;00:00, 2.35kB/s]",
            "_view_count": null,
            "_view_module_version": "1.5.0",
            "description_tooltip": null,
            "_model_module": "@jupyter-widgets/controls",
            "layout": "IPY_MODEL_187d23d060cd4f1f9c4e2d2e0077b6a6"
          }
        },
        "aff36a0af2a74e4cbecc09ccd1b6e56e": {
          "model_module": "@jupyter-widgets/controls",
          "model_name": "ProgressStyleModel",
          "state": {
            "_view_name": "StyleView",
            "_model_name": "ProgressStyleModel",
            "description_width": "initial",
            "_view_module": "@jupyter-widgets/base",
            "_model_module_version": "1.5.0",
            "_view_count": null,
            "_view_module_version": "1.2.0",
            "bar_color": null,
            "_model_module": "@jupyter-widgets/controls"
          }
        },
        "be8323d42a1c4ffbbefe2d0dc16a9b1c": {
          "model_module": "@jupyter-widgets/base",
          "model_name": "LayoutModel",
          "state": {
            "_view_name": "LayoutView",
            "grid_template_rows": null,
            "right": null,
            "justify_content": null,
            "_view_module": "@jupyter-widgets/base",
            "overflow": null,
            "_model_module_version": "1.2.0",
            "_view_count": null,
            "flex_flow": null,
            "width": null,
            "min_width": null,
            "border": null,
            "align_items": null,
            "bottom": null,
            "_model_module": "@jupyter-widgets/base",
            "top": null,
            "grid_column": null,
            "overflow_y": null,
            "overflow_x": null,
            "grid_auto_flow": null,
            "grid_area": null,
            "grid_template_columns": null,
            "flex": null,
            "_model_name": "LayoutModel",
            "justify_items": null,
            "grid_row": null,
            "max_height": null,
            "align_content": null,
            "visibility": null,
            "align_self": null,
            "height": null,
            "min_height": null,
            "padding": null,
            "grid_auto_rows": null,
            "grid_gap": null,
            "max_width": null,
            "order": null,
            "_view_module_version": "1.2.0",
            "grid_template_areas": null,
            "object_position": null,
            "object_fit": null,
            "grid_auto_columns": null,
            "margin": null,
            "display": null,
            "left": null
          }
        },
        "ae1e497696334a6898831038da955c40": {
          "model_module": "@jupyter-widgets/controls",
          "model_name": "DescriptionStyleModel",
          "state": {
            "_view_name": "StyleView",
            "_model_name": "DescriptionStyleModel",
            "description_width": "",
            "_view_module": "@jupyter-widgets/base",
            "_model_module_version": "1.5.0",
            "_view_count": null,
            "_view_module_version": "1.2.0",
            "_model_module": "@jupyter-widgets/controls"
          }
        },
        "187d23d060cd4f1f9c4e2d2e0077b6a6": {
          "model_module": "@jupyter-widgets/base",
          "model_name": "LayoutModel",
          "state": {
            "_view_name": "LayoutView",
            "grid_template_rows": null,
            "right": null,
            "justify_content": null,
            "_view_module": "@jupyter-widgets/base",
            "overflow": null,
            "_model_module_version": "1.2.0",
            "_view_count": null,
            "flex_flow": null,
            "width": null,
            "min_width": null,
            "border": null,
            "align_items": null,
            "bottom": null,
            "_model_module": "@jupyter-widgets/base",
            "top": null,
            "grid_column": null,
            "overflow_y": null,
            "overflow_x": null,
            "grid_auto_flow": null,
            "grid_area": null,
            "grid_template_columns": null,
            "flex": null,
            "_model_name": "LayoutModel",
            "justify_items": null,
            "grid_row": null,
            "max_height": null,
            "align_content": null,
            "visibility": null,
            "align_self": null,
            "height": null,
            "min_height": null,
            "padding": null,
            "grid_auto_rows": null,
            "grid_gap": null,
            "max_width": null,
            "order": null,
            "_view_module_version": "1.2.0",
            "grid_template_areas": null,
            "object_position": null,
            "object_fit": null,
            "grid_auto_columns": null,
            "margin": null,
            "display": null,
            "left": null
          }
        },
        "4335b29064b14a54b55f5e82b44047ba": {
          "model_module": "@jupyter-widgets/controls",
          "model_name": "HBoxModel",
          "state": {
            "_view_name": "HBoxView",
            "_dom_classes": [],
            "_model_name": "HBoxModel",
            "_view_module": "@jupyter-widgets/controls",
            "_model_module_version": "1.5.0",
            "_view_count": null,
            "_view_module_version": "1.5.0",
            "box_style": "",
            "layout": "IPY_MODEL_fc79f8f109254f188a68aaed646f0566",
            "_model_module": "@jupyter-widgets/controls",
            "children": [
              "IPY_MODEL_2cf6619e0ebd4fb48e3e639988953140",
              "IPY_MODEL_d326cfb919ad4c6f8dc6f60b67caeff0"
            ]
          }
        },
        "fc79f8f109254f188a68aaed646f0566": {
          "model_module": "@jupyter-widgets/base",
          "model_name": "LayoutModel",
          "state": {
            "_view_name": "LayoutView",
            "grid_template_rows": null,
            "right": null,
            "justify_content": null,
            "_view_module": "@jupyter-widgets/base",
            "overflow": null,
            "_model_module_version": "1.2.0",
            "_view_count": null,
            "flex_flow": null,
            "width": null,
            "min_width": null,
            "border": null,
            "align_items": null,
            "bottom": null,
            "_model_module": "@jupyter-widgets/base",
            "top": null,
            "grid_column": null,
            "overflow_y": null,
            "overflow_x": null,
            "grid_auto_flow": null,
            "grid_area": null,
            "grid_template_columns": null,
            "flex": null,
            "_model_name": "LayoutModel",
            "justify_items": null,
            "grid_row": null,
            "max_height": null,
            "align_content": null,
            "visibility": null,
            "align_self": null,
            "height": null,
            "min_height": null,
            "padding": null,
            "grid_auto_rows": null,
            "grid_gap": null,
            "max_width": null,
            "order": null,
            "_view_module_version": "1.2.0",
            "grid_template_areas": null,
            "object_position": null,
            "object_fit": null,
            "grid_auto_columns": null,
            "margin": null,
            "display": null,
            "left": null
          }
        },
        "2cf6619e0ebd4fb48e3e639988953140": {
          "model_module": "@jupyter-widgets/controls",
          "model_name": "FloatProgressModel",
          "state": {
            "_view_name": "ProgressView",
            "style": "IPY_MODEL_2487b8dbbadd4fa980e0a88fe3e63401",
            "_dom_classes": [],
            "description": "Downloading: 100%",
            "_model_name": "FloatProgressModel",
            "bar_style": "success",
            "max": 1425941629,
            "_view_module": "@jupyter-widgets/controls",
            "_model_module_version": "1.5.0",
            "value": 1425941629,
            "_view_count": null,
            "_view_module_version": "1.5.0",
            "orientation": "horizontal",
            "min": 0,
            "description_tooltip": null,
            "_model_module": "@jupyter-widgets/controls",
            "layout": "IPY_MODEL_c8c4afd8ce474d0fa9f16a9706f1d36a"
          }
        },
        "d326cfb919ad4c6f8dc6f60b67caeff0": {
          "model_module": "@jupyter-widgets/controls",
          "model_name": "HTMLModel",
          "state": {
            "_view_name": "HTMLView",
            "style": "IPY_MODEL_1300398c75164002aa282418920d2886",
            "_dom_classes": [],
            "description": "",
            "_model_name": "HTMLModel",
            "placeholder": "​",
            "_view_module": "@jupyter-widgets/controls",
            "_model_module_version": "1.5.0",
            "value": " 1.43G/1.43G [02:03&lt;00:00, 11.6MB/s]",
            "_view_count": null,
            "_view_module_version": "1.5.0",
            "description_tooltip": null,
            "_model_module": "@jupyter-widgets/controls",
            "layout": "IPY_MODEL_fe7cf2bfc53840ff8c77c728f5eb7669"
          }
        },
        "2487b8dbbadd4fa980e0a88fe3e63401": {
          "model_module": "@jupyter-widgets/controls",
          "model_name": "ProgressStyleModel",
          "state": {
            "_view_name": "StyleView",
            "_model_name": "ProgressStyleModel",
            "description_width": "initial",
            "_view_module": "@jupyter-widgets/base",
            "_model_module_version": "1.5.0",
            "_view_count": null,
            "_view_module_version": "1.2.0",
            "bar_color": null,
            "_model_module": "@jupyter-widgets/controls"
          }
        },
        "c8c4afd8ce474d0fa9f16a9706f1d36a": {
          "model_module": "@jupyter-widgets/base",
          "model_name": "LayoutModel",
          "state": {
            "_view_name": "LayoutView",
            "grid_template_rows": null,
            "right": null,
            "justify_content": null,
            "_view_module": "@jupyter-widgets/base",
            "overflow": null,
            "_model_module_version": "1.2.0",
            "_view_count": null,
            "flex_flow": null,
            "width": null,
            "min_width": null,
            "border": null,
            "align_items": null,
            "bottom": null,
            "_model_module": "@jupyter-widgets/base",
            "top": null,
            "grid_column": null,
            "overflow_y": null,
            "overflow_x": null,
            "grid_auto_flow": null,
            "grid_area": null,
            "grid_template_columns": null,
            "flex": null,
            "_model_name": "LayoutModel",
            "justify_items": null,
            "grid_row": null,
            "max_height": null,
            "align_content": null,
            "visibility": null,
            "align_self": null,
            "height": null,
            "min_height": null,
            "padding": null,
            "grid_auto_rows": null,
            "grid_gap": null,
            "max_width": null,
            "order": null,
            "_view_module_version": "1.2.0",
            "grid_template_areas": null,
            "object_position": null,
            "object_fit": null,
            "grid_auto_columns": null,
            "margin": null,
            "display": null,
            "left": null
          }
        },
        "1300398c75164002aa282418920d2886": {
          "model_module": "@jupyter-widgets/controls",
          "model_name": "DescriptionStyleModel",
          "state": {
            "_view_name": "StyleView",
            "_model_name": "DescriptionStyleModel",
            "description_width": "",
            "_view_module": "@jupyter-widgets/base",
            "_model_module_version": "1.5.0",
            "_view_count": null,
            "_view_module_version": "1.2.0",
            "_model_module": "@jupyter-widgets/controls"
          }
        },
        "fe7cf2bfc53840ff8c77c728f5eb7669": {
          "model_module": "@jupyter-widgets/base",
          "model_name": "LayoutModel",
          "state": {
            "_view_name": "LayoutView",
            "grid_template_rows": null,
            "right": null,
            "justify_content": null,
            "_view_module": "@jupyter-widgets/base",
            "overflow": null,
            "_model_module_version": "1.2.0",
            "_view_count": null,
            "flex_flow": null,
            "width": null,
            "min_width": null,
            "border": null,
            "align_items": null,
            "bottom": null,
            "_model_module": "@jupyter-widgets/base",
            "top": null,
            "grid_column": null,
            "overflow_y": null,
            "overflow_x": null,
            "grid_auto_flow": null,
            "grid_area": null,
            "grid_template_columns": null,
            "flex": null,
            "_model_name": "LayoutModel",
            "justify_items": null,
            "grid_row": null,
            "max_height": null,
            "align_content": null,
            "visibility": null,
            "align_self": null,
            "height": null,
            "min_height": null,
            "padding": null,
            "grid_auto_rows": null,
            "grid_gap": null,
            "max_width": null,
            "order": null,
            "_view_module_version": "1.2.0",
            "grid_template_areas": null,
            "object_position": null,
            "object_fit": null,
            "grid_auto_columns": null,
            "margin": null,
            "display": null,
            "left": null
          }
        },
        "124d8ca2e5c443bc9613a5867bcc0b77": {
          "model_module": "@jupyter-widgets/controls",
          "model_name": "HBoxModel",
          "state": {
            "_view_name": "HBoxView",
            "_dom_classes": [],
            "_model_name": "HBoxModel",
            "_view_module": "@jupyter-widgets/controls",
            "_model_module_version": "1.5.0",
            "_view_count": null,
            "_view_module_version": "1.5.0",
            "box_style": "",
            "layout": "IPY_MODEL_79af368e058d49ef855c7c7995ba1294",
            "_model_module": "@jupyter-widgets/controls",
            "children": [
              "IPY_MODEL_98d7838f19ef45bc9f0b52fba34b335f",
              "IPY_MODEL_0dd5465b80554a469f71b984e923f188"
            ]
          }
        },
        "79af368e058d49ef855c7c7995ba1294": {
          "model_module": "@jupyter-widgets/base",
          "model_name": "LayoutModel",
          "state": {
            "_view_name": "LayoutView",
            "grid_template_rows": null,
            "right": null,
            "justify_content": null,
            "_view_module": "@jupyter-widgets/base",
            "overflow": null,
            "_model_module_version": "1.2.0",
            "_view_count": null,
            "flex_flow": null,
            "width": null,
            "min_width": null,
            "border": null,
            "align_items": null,
            "bottom": null,
            "_model_module": "@jupyter-widgets/base",
            "top": null,
            "grid_column": null,
            "overflow_y": null,
            "overflow_x": null,
            "grid_auto_flow": null,
            "grid_area": null,
            "grid_template_columns": null,
            "flex": null,
            "_model_name": "LayoutModel",
            "justify_items": null,
            "grid_row": null,
            "max_height": null,
            "align_content": null,
            "visibility": null,
            "align_self": null,
            "height": null,
            "min_height": null,
            "padding": null,
            "grid_auto_rows": null,
            "grid_gap": null,
            "max_width": null,
            "order": null,
            "_view_module_version": "1.2.0",
            "grid_template_areas": null,
            "object_position": null,
            "object_fit": null,
            "grid_auto_columns": null,
            "margin": null,
            "display": null,
            "left": null
          }
        },
        "98d7838f19ef45bc9f0b52fba34b335f": {
          "model_module": "@jupyter-widgets/controls",
          "model_name": "FloatProgressModel",
          "state": {
            "_view_name": "ProgressView",
            "style": "IPY_MODEL_17ec915488984bb79fd193403279ca42",
            "_dom_classes": [],
            "description": "Downloading: 100%",
            "_model_name": "FloatProgressModel",
            "bar_style": "success",
            "max": 898823,
            "_view_module": "@jupyter-widgets/controls",
            "_model_module_version": "1.5.0",
            "value": 898823,
            "_view_count": null,
            "_view_module_version": "1.5.0",
            "orientation": "horizontal",
            "min": 0,
            "description_tooltip": null,
            "_model_module": "@jupyter-widgets/controls",
            "layout": "IPY_MODEL_584ef2e5971a4b0ba86d8fb3ae994d72"
          }
        },
        "0dd5465b80554a469f71b984e923f188": {
          "model_module": "@jupyter-widgets/controls",
          "model_name": "HTMLModel",
          "state": {
            "_view_name": "HTMLView",
            "style": "IPY_MODEL_026c3c73cbac4bc0a915db8b5ec8301b",
            "_dom_classes": [],
            "description": "",
            "_model_name": "HTMLModel",
            "placeholder": "​",
            "_view_module": "@jupyter-widgets/controls",
            "_model_module_version": "1.5.0",
            "value": " 899k/899k [00:00&lt;00:00, 1.07MB/s]",
            "_view_count": null,
            "_view_module_version": "1.5.0",
            "description_tooltip": null,
            "_model_module": "@jupyter-widgets/controls",
            "layout": "IPY_MODEL_852390d4585448eea2acad9f2d4e9614"
          }
        },
        "17ec915488984bb79fd193403279ca42": {
          "model_module": "@jupyter-widgets/controls",
          "model_name": "ProgressStyleModel",
          "state": {
            "_view_name": "StyleView",
            "_model_name": "ProgressStyleModel",
            "description_width": "initial",
            "_view_module": "@jupyter-widgets/base",
            "_model_module_version": "1.5.0",
            "_view_count": null,
            "_view_module_version": "1.2.0",
            "bar_color": null,
            "_model_module": "@jupyter-widgets/controls"
          }
        },
        "584ef2e5971a4b0ba86d8fb3ae994d72": {
          "model_module": "@jupyter-widgets/base",
          "model_name": "LayoutModel",
          "state": {
            "_view_name": "LayoutView",
            "grid_template_rows": null,
            "right": null,
            "justify_content": null,
            "_view_module": "@jupyter-widgets/base",
            "overflow": null,
            "_model_module_version": "1.2.0",
            "_view_count": null,
            "flex_flow": null,
            "width": null,
            "min_width": null,
            "border": null,
            "align_items": null,
            "bottom": null,
            "_model_module": "@jupyter-widgets/base",
            "top": null,
            "grid_column": null,
            "overflow_y": null,
            "overflow_x": null,
            "grid_auto_flow": null,
            "grid_area": null,
            "grid_template_columns": null,
            "flex": null,
            "_model_name": "LayoutModel",
            "justify_items": null,
            "grid_row": null,
            "max_height": null,
            "align_content": null,
            "visibility": null,
            "align_self": null,
            "height": null,
            "min_height": null,
            "padding": null,
            "grid_auto_rows": null,
            "grid_gap": null,
            "max_width": null,
            "order": null,
            "_view_module_version": "1.2.0",
            "grid_template_areas": null,
            "object_position": null,
            "object_fit": null,
            "grid_auto_columns": null,
            "margin": null,
            "display": null,
            "left": null
          }
        },
        "026c3c73cbac4bc0a915db8b5ec8301b": {
          "model_module": "@jupyter-widgets/controls",
          "model_name": "DescriptionStyleModel",
          "state": {
            "_view_name": "StyleView",
            "_model_name": "DescriptionStyleModel",
            "description_width": "",
            "_view_module": "@jupyter-widgets/base",
            "_model_module_version": "1.5.0",
            "_view_count": null,
            "_view_module_version": "1.2.0",
            "_model_module": "@jupyter-widgets/controls"
          }
        },
        "852390d4585448eea2acad9f2d4e9614": {
          "model_module": "@jupyter-widgets/base",
          "model_name": "LayoutModel",
          "state": {
            "_view_name": "LayoutView",
            "grid_template_rows": null,
            "right": null,
            "justify_content": null,
            "_view_module": "@jupyter-widgets/base",
            "overflow": null,
            "_model_module_version": "1.2.0",
            "_view_count": null,
            "flex_flow": null,
            "width": null,
            "min_width": null,
            "border": null,
            "align_items": null,
            "bottom": null,
            "_model_module": "@jupyter-widgets/base",
            "top": null,
            "grid_column": null,
            "overflow_y": null,
            "overflow_x": null,
            "grid_auto_flow": null,
            "grid_area": null,
            "grid_template_columns": null,
            "flex": null,
            "_model_name": "LayoutModel",
            "justify_items": null,
            "grid_row": null,
            "max_height": null,
            "align_content": null,
            "visibility": null,
            "align_self": null,
            "height": null,
            "min_height": null,
            "padding": null,
            "grid_auto_rows": null,
            "grid_gap": null,
            "max_width": null,
            "order": null,
            "_view_module_version": "1.2.0",
            "grid_template_areas": null,
            "object_position": null,
            "object_fit": null,
            "grid_auto_columns": null,
            "margin": null,
            "display": null,
            "left": null
          }
        },
        "97f0b8b1a61149519f66e5e5d815e7b2": {
          "model_module": "@jupyter-widgets/controls",
          "model_name": "HBoxModel",
          "state": {
            "_view_name": "HBoxView",
            "_dom_classes": [],
            "_model_name": "HBoxModel",
            "_view_module": "@jupyter-widgets/controls",
            "_model_module_version": "1.5.0",
            "_view_count": null,
            "_view_module_version": "1.5.0",
            "box_style": "",
            "layout": "IPY_MODEL_4f63428727ad435d82fc73b9d5ddce36",
            "_model_module": "@jupyter-widgets/controls",
            "children": [
              "IPY_MODEL_129197b389a84bd18edfd517d1568039",
              "IPY_MODEL_da7f77fc20c148dcb792caa14a6a8816"
            ]
          }
        },
        "4f63428727ad435d82fc73b9d5ddce36": {
          "model_module": "@jupyter-widgets/base",
          "model_name": "LayoutModel",
          "state": {
            "_view_name": "LayoutView",
            "grid_template_rows": null,
            "right": null,
            "justify_content": null,
            "_view_module": "@jupyter-widgets/base",
            "overflow": null,
            "_model_module_version": "1.2.0",
            "_view_count": null,
            "flex_flow": null,
            "width": null,
            "min_width": null,
            "border": null,
            "align_items": null,
            "bottom": null,
            "_model_module": "@jupyter-widgets/base",
            "top": null,
            "grid_column": null,
            "overflow_y": null,
            "overflow_x": null,
            "grid_auto_flow": null,
            "grid_area": null,
            "grid_template_columns": null,
            "flex": null,
            "_model_name": "LayoutModel",
            "justify_items": null,
            "grid_row": null,
            "max_height": null,
            "align_content": null,
            "visibility": null,
            "align_self": null,
            "height": null,
            "min_height": null,
            "padding": null,
            "grid_auto_rows": null,
            "grid_gap": null,
            "max_width": null,
            "order": null,
            "_view_module_version": "1.2.0",
            "grid_template_areas": null,
            "object_position": null,
            "object_fit": null,
            "grid_auto_columns": null,
            "margin": null,
            "display": null,
            "left": null
          }
        },
        "129197b389a84bd18edfd517d1568039": {
          "model_module": "@jupyter-widgets/controls",
          "model_name": "FloatProgressModel",
          "state": {
            "_view_name": "ProgressView",
            "style": "IPY_MODEL_9e7b272b4fd14a5cbe9a7b842c049b0f",
            "_dom_classes": [],
            "description": "Downloading: 100%",
            "_model_name": "FloatProgressModel",
            "bar_style": "success",
            "max": 456318,
            "_view_module": "@jupyter-widgets/controls",
            "_model_module_version": "1.5.0",
            "value": 456318,
            "_view_count": null,
            "_view_module_version": "1.5.0",
            "orientation": "horizontal",
            "min": 0,
            "description_tooltip": null,
            "_model_module": "@jupyter-widgets/controls",
            "layout": "IPY_MODEL_50e11978daca457a838956af0ddfb883"
          }
        },
        "da7f77fc20c148dcb792caa14a6a8816": {
          "model_module": "@jupyter-widgets/controls",
          "model_name": "HTMLModel",
          "state": {
            "_view_name": "HTMLView",
            "style": "IPY_MODEL_9124199956644e6485bc85e41ed9a0b7",
            "_dom_classes": [],
            "description": "",
            "_model_name": "HTMLModel",
            "placeholder": "​",
            "_view_module": "@jupyter-widgets/controls",
            "_model_module_version": "1.5.0",
            "value": " 456k/456k [00:00&lt;00:00, 2.47MB/s]",
            "_view_count": null,
            "_view_module_version": "1.5.0",
            "description_tooltip": null,
            "_model_module": "@jupyter-widgets/controls",
            "layout": "IPY_MODEL_23bd8c274dd1485a99bf957d456eadf5"
          }
        },
        "9e7b272b4fd14a5cbe9a7b842c049b0f": {
          "model_module": "@jupyter-widgets/controls",
          "model_name": "ProgressStyleModel",
          "state": {
            "_view_name": "StyleView",
            "_model_name": "ProgressStyleModel",
            "description_width": "initial",
            "_view_module": "@jupyter-widgets/base",
            "_model_module_version": "1.5.0",
            "_view_count": null,
            "_view_module_version": "1.2.0",
            "bar_color": null,
            "_model_module": "@jupyter-widgets/controls"
          }
        },
        "50e11978daca457a838956af0ddfb883": {
          "model_module": "@jupyter-widgets/base",
          "model_name": "LayoutModel",
          "state": {
            "_view_name": "LayoutView",
            "grid_template_rows": null,
            "right": null,
            "justify_content": null,
            "_view_module": "@jupyter-widgets/base",
            "overflow": null,
            "_model_module_version": "1.2.0",
            "_view_count": null,
            "flex_flow": null,
            "width": null,
            "min_width": null,
            "border": null,
            "align_items": null,
            "bottom": null,
            "_model_module": "@jupyter-widgets/base",
            "top": null,
            "grid_column": null,
            "overflow_y": null,
            "overflow_x": null,
            "grid_auto_flow": null,
            "grid_area": null,
            "grid_template_columns": null,
            "flex": null,
            "_model_name": "LayoutModel",
            "justify_items": null,
            "grid_row": null,
            "max_height": null,
            "align_content": null,
            "visibility": null,
            "align_self": null,
            "height": null,
            "min_height": null,
            "padding": null,
            "grid_auto_rows": null,
            "grid_gap": null,
            "max_width": null,
            "order": null,
            "_view_module_version": "1.2.0",
            "grid_template_areas": null,
            "object_position": null,
            "object_fit": null,
            "grid_auto_columns": null,
            "margin": null,
            "display": null,
            "left": null
          }
        },
        "9124199956644e6485bc85e41ed9a0b7": {
          "model_module": "@jupyter-widgets/controls",
          "model_name": "DescriptionStyleModel",
          "state": {
            "_view_name": "StyleView",
            "_model_name": "DescriptionStyleModel",
            "description_width": "",
            "_view_module": "@jupyter-widgets/base",
            "_model_module_version": "1.5.0",
            "_view_count": null,
            "_view_module_version": "1.2.0",
            "_model_module": "@jupyter-widgets/controls"
          }
        },
        "23bd8c274dd1485a99bf957d456eadf5": {
          "model_module": "@jupyter-widgets/base",
          "model_name": "LayoutModel",
          "state": {
            "_view_name": "LayoutView",
            "grid_template_rows": null,
            "right": null,
            "justify_content": null,
            "_view_module": "@jupyter-widgets/base",
            "overflow": null,
            "_model_module_version": "1.2.0",
            "_view_count": null,
            "flex_flow": null,
            "width": null,
            "min_width": null,
            "border": null,
            "align_items": null,
            "bottom": null,
            "_model_module": "@jupyter-widgets/base",
            "top": null,
            "grid_column": null,
            "overflow_y": null,
            "overflow_x": null,
            "grid_auto_flow": null,
            "grid_area": null,
            "grid_template_columns": null,
            "flex": null,
            "_model_name": "LayoutModel",
            "justify_items": null,
            "grid_row": null,
            "max_height": null,
            "align_content": null,
            "visibility": null,
            "align_self": null,
            "height": null,
            "min_height": null,
            "padding": null,
            "grid_auto_rows": null,
            "grid_gap": null,
            "max_width": null,
            "order": null,
            "_view_module_version": "1.2.0",
            "grid_template_areas": null,
            "object_position": null,
            "object_fit": null,
            "grid_auto_columns": null,
            "margin": null,
            "display": null,
            "left": null
          }
        },
        "19b028a8eff84948bccf8d8244a86e43": {
          "model_module": "@jupyter-widgets/controls",
          "model_name": "HBoxModel",
          "state": {
            "_view_name": "HBoxView",
            "_dom_classes": [],
            "_model_name": "HBoxModel",
            "_view_module": "@jupyter-widgets/controls",
            "_model_module_version": "1.5.0",
            "_view_count": null,
            "_view_module_version": "1.5.0",
            "box_style": "",
            "layout": "IPY_MODEL_a1e20fc37aee463e9eeff9040467f1bd",
            "_model_module": "@jupyter-widgets/controls",
            "children": [
              "IPY_MODEL_f2302f3dcf0f4ca89448547e35bc4f3b",
              "IPY_MODEL_df88e91d01894b1daf502eba7a6b14d7"
            ]
          }
        },
        "a1e20fc37aee463e9eeff9040467f1bd": {
          "model_module": "@jupyter-widgets/base",
          "model_name": "LayoutModel",
          "state": {
            "_view_name": "LayoutView",
            "grid_template_rows": null,
            "right": null,
            "justify_content": null,
            "_view_module": "@jupyter-widgets/base",
            "overflow": null,
            "_model_module_version": "1.2.0",
            "_view_count": null,
            "flex_flow": null,
            "width": null,
            "min_width": null,
            "border": null,
            "align_items": null,
            "bottom": null,
            "_model_module": "@jupyter-widgets/base",
            "top": null,
            "grid_column": null,
            "overflow_y": null,
            "overflow_x": null,
            "grid_auto_flow": null,
            "grid_area": null,
            "grid_template_columns": null,
            "flex": null,
            "_model_name": "LayoutModel",
            "justify_items": null,
            "grid_row": null,
            "max_height": null,
            "align_content": null,
            "visibility": null,
            "align_self": null,
            "height": null,
            "min_height": null,
            "padding": null,
            "grid_auto_rows": null,
            "grid_gap": null,
            "max_width": null,
            "order": null,
            "_view_module_version": "1.2.0",
            "grid_template_areas": null,
            "object_position": null,
            "object_fit": null,
            "grid_auto_columns": null,
            "margin": null,
            "display": null,
            "left": null
          }
        },
        "f2302f3dcf0f4ca89448547e35bc4f3b": {
          "model_module": "@jupyter-widgets/controls",
          "model_name": "FloatProgressModel",
          "state": {
            "_view_name": "ProgressView",
            "style": "IPY_MODEL_1ed3809d8dfe4c01a03a9f8ae37171d8",
            "_dom_classes": [],
            "description": "100%",
            "_model_name": "FloatProgressModel",
            "bar_style": "success",
            "max": 19,
            "_view_module": "@jupyter-widgets/controls",
            "_model_module_version": "1.5.0",
            "value": 19,
            "_view_count": null,
            "_view_module_version": "1.5.0",
            "orientation": "horizontal",
            "min": 0,
            "description_tooltip": null,
            "_model_module": "@jupyter-widgets/controls",
            "layout": "IPY_MODEL_1b3cfbcdf56741d2b3d4cf2b151b5d10"
          }
        },
        "df88e91d01894b1daf502eba7a6b14d7": {
          "model_module": "@jupyter-widgets/controls",
          "model_name": "HTMLModel",
          "state": {
            "_view_name": "HTMLView",
            "style": "IPY_MODEL_c2931992b04b4cb48e9a31460db63203",
            "_dom_classes": [],
            "description": "",
            "_model_name": "HTMLModel",
            "placeholder": "​",
            "_view_module": "@jupyter-widgets/controls",
            "_model_module_version": "1.5.0",
            "value": " 19/19 [12:25&lt;00:00, 39.25s/it]",
            "_view_count": null,
            "_view_module_version": "1.5.0",
            "description_tooltip": null,
            "_model_module": "@jupyter-widgets/controls",
            "layout": "IPY_MODEL_e28d93d6ea59464581c762b688ce7542"
          }
        },
        "1ed3809d8dfe4c01a03a9f8ae37171d8": {
          "model_module": "@jupyter-widgets/controls",
          "model_name": "ProgressStyleModel",
          "state": {
            "_view_name": "StyleView",
            "_model_name": "ProgressStyleModel",
            "description_width": "initial",
            "_view_module": "@jupyter-widgets/base",
            "_model_module_version": "1.5.0",
            "_view_count": null,
            "_view_module_version": "1.2.0",
            "bar_color": null,
            "_model_module": "@jupyter-widgets/controls"
          }
        },
        "1b3cfbcdf56741d2b3d4cf2b151b5d10": {
          "model_module": "@jupyter-widgets/base",
          "model_name": "LayoutModel",
          "state": {
            "_view_name": "LayoutView",
            "grid_template_rows": null,
            "right": null,
            "justify_content": null,
            "_view_module": "@jupyter-widgets/base",
            "overflow": null,
            "_model_module_version": "1.2.0",
            "_view_count": null,
            "flex_flow": null,
            "width": null,
            "min_width": null,
            "border": null,
            "align_items": null,
            "bottom": null,
            "_model_module": "@jupyter-widgets/base",
            "top": null,
            "grid_column": null,
            "overflow_y": null,
            "overflow_x": null,
            "grid_auto_flow": null,
            "grid_area": null,
            "grid_template_columns": null,
            "flex": null,
            "_model_name": "LayoutModel",
            "justify_items": null,
            "grid_row": null,
            "max_height": null,
            "align_content": null,
            "visibility": null,
            "align_self": null,
            "height": null,
            "min_height": null,
            "padding": null,
            "grid_auto_rows": null,
            "grid_gap": null,
            "max_width": null,
            "order": null,
            "_view_module_version": "1.2.0",
            "grid_template_areas": null,
            "object_position": null,
            "object_fit": null,
            "grid_auto_columns": null,
            "margin": null,
            "display": null,
            "left": null
          }
        },
        "c2931992b04b4cb48e9a31460db63203": {
          "model_module": "@jupyter-widgets/controls",
          "model_name": "DescriptionStyleModel",
          "state": {
            "_view_name": "StyleView",
            "_model_name": "DescriptionStyleModel",
            "description_width": "",
            "_view_module": "@jupyter-widgets/base",
            "_model_module_version": "1.5.0",
            "_view_count": null,
            "_view_module_version": "1.2.0",
            "_model_module": "@jupyter-widgets/controls"
          }
        },
        "e28d93d6ea59464581c762b688ce7542": {
          "model_module": "@jupyter-widgets/base",
          "model_name": "LayoutModel",
          "state": {
            "_view_name": "LayoutView",
            "grid_template_rows": null,
            "right": null,
            "justify_content": null,
            "_view_module": "@jupyter-widgets/base",
            "overflow": null,
            "_model_module_version": "1.2.0",
            "_view_count": null,
            "flex_flow": null,
            "width": null,
            "min_width": null,
            "border": null,
            "align_items": null,
            "bottom": null,
            "_model_module": "@jupyter-widgets/base",
            "top": null,
            "grid_column": null,
            "overflow_y": null,
            "overflow_x": null,
            "grid_auto_flow": null,
            "grid_area": null,
            "grid_template_columns": null,
            "flex": null,
            "_model_name": "LayoutModel",
            "justify_items": null,
            "grid_row": null,
            "max_height": null,
            "align_content": null,
            "visibility": null,
            "align_self": null,
            "height": null,
            "min_height": null,
            "padding": null,
            "grid_auto_rows": null,
            "grid_gap": null,
            "max_width": null,
            "order": null,
            "_view_module_version": "1.2.0",
            "grid_template_areas": null,
            "object_position": null,
            "object_fit": null,
            "grid_auto_columns": null,
            "margin": null,
            "display": null,
            "left": null
          }
        },
        "17d8a1bb8f4144af92d547eb449f42ba": {
          "model_module": "@jupyter-widgets/controls",
          "model_name": "HBoxModel",
          "state": {
            "_view_name": "HBoxView",
            "_dom_classes": [],
            "_model_name": "HBoxModel",
            "_view_module": "@jupyter-widgets/controls",
            "_model_module_version": "1.5.0",
            "_view_count": null,
            "_view_module_version": "1.5.0",
            "box_style": "",
            "layout": "IPY_MODEL_f61e54cdc1874f8598f1f6db3604c55d",
            "_model_module": "@jupyter-widgets/controls",
            "children": [
              "IPY_MODEL_9d81955099c14842aa034bfb10fe170f",
              "IPY_MODEL_25cca9c96fde4c9698b505b68144ef83"
            ]
          }
        },
        "f61e54cdc1874f8598f1f6db3604c55d": {
          "model_module": "@jupyter-widgets/base",
          "model_name": "LayoutModel",
          "state": {
            "_view_name": "LayoutView",
            "grid_template_rows": null,
            "right": null,
            "justify_content": null,
            "_view_module": "@jupyter-widgets/base",
            "overflow": null,
            "_model_module_version": "1.2.0",
            "_view_count": null,
            "flex_flow": null,
            "width": null,
            "min_width": null,
            "border": null,
            "align_items": null,
            "bottom": null,
            "_model_module": "@jupyter-widgets/base",
            "top": null,
            "grid_column": null,
            "overflow_y": null,
            "overflow_x": null,
            "grid_auto_flow": null,
            "grid_area": null,
            "grid_template_columns": null,
            "flex": null,
            "_model_name": "LayoutModel",
            "justify_items": null,
            "grid_row": null,
            "max_height": null,
            "align_content": null,
            "visibility": null,
            "align_self": null,
            "height": null,
            "min_height": null,
            "padding": null,
            "grid_auto_rows": null,
            "grid_gap": null,
            "max_width": null,
            "order": null,
            "_view_module_version": "1.2.0",
            "grid_template_areas": null,
            "object_position": null,
            "object_fit": null,
            "grid_auto_columns": null,
            "margin": null,
            "display": null,
            "left": null
          }
        },
        "9d81955099c14842aa034bfb10fe170f": {
          "model_module": "@jupyter-widgets/controls",
          "model_name": "FloatProgressModel",
          "state": {
            "_view_name": "ProgressView",
            "style": "IPY_MODEL_bbd122f6e006434c9f90e627d12de256",
            "_dom_classes": [],
            "description": "100%",
            "_model_name": "FloatProgressModel",
            "bar_style": "success",
            "max": 2,
            "_view_module": "@jupyter-widgets/controls",
            "_model_module_version": "1.5.0",
            "value": 2,
            "_view_count": null,
            "_view_module_version": "1.5.0",
            "orientation": "horizontal",
            "min": 0,
            "description_tooltip": null,
            "_model_module": "@jupyter-widgets/controls",
            "layout": "IPY_MODEL_8e0f2b58d6b949f69e1b849cffdc2e99"
          }
        },
        "25cca9c96fde4c9698b505b68144ef83": {
          "model_module": "@jupyter-widgets/controls",
          "model_name": "HTMLModel",
          "state": {
            "_view_name": "HTMLView",
            "style": "IPY_MODEL_4350fbc1bf814189827e0837fa611f70",
            "_dom_classes": [],
            "description": "",
            "_model_name": "HTMLModel",
            "placeholder": "​",
            "_view_module": "@jupyter-widgets/controls",
            "_model_module_version": "1.5.0",
            "value": " 2/2 [00:06&lt;00:00,  3.29s/it]",
            "_view_count": null,
            "_view_module_version": "1.5.0",
            "description_tooltip": null,
            "_model_module": "@jupyter-widgets/controls",
            "layout": "IPY_MODEL_0cc79a6dcb0a4e8980d02622a9af3fcc"
          }
        },
        "bbd122f6e006434c9f90e627d12de256": {
          "model_module": "@jupyter-widgets/controls",
          "model_name": "ProgressStyleModel",
          "state": {
            "_view_name": "StyleView",
            "_model_name": "ProgressStyleModel",
            "description_width": "initial",
            "_view_module": "@jupyter-widgets/base",
            "_model_module_version": "1.5.0",
            "_view_count": null,
            "_view_module_version": "1.2.0",
            "bar_color": null,
            "_model_module": "@jupyter-widgets/controls"
          }
        },
        "8e0f2b58d6b949f69e1b849cffdc2e99": {
          "model_module": "@jupyter-widgets/base",
          "model_name": "LayoutModel",
          "state": {
            "_view_name": "LayoutView",
            "grid_template_rows": null,
            "right": null,
            "justify_content": null,
            "_view_module": "@jupyter-widgets/base",
            "overflow": null,
            "_model_module_version": "1.2.0",
            "_view_count": null,
            "flex_flow": null,
            "width": null,
            "min_width": null,
            "border": null,
            "align_items": null,
            "bottom": null,
            "_model_module": "@jupyter-widgets/base",
            "top": null,
            "grid_column": null,
            "overflow_y": null,
            "overflow_x": null,
            "grid_auto_flow": null,
            "grid_area": null,
            "grid_template_columns": null,
            "flex": null,
            "_model_name": "LayoutModel",
            "justify_items": null,
            "grid_row": null,
            "max_height": null,
            "align_content": null,
            "visibility": null,
            "align_self": null,
            "height": null,
            "min_height": null,
            "padding": null,
            "grid_auto_rows": null,
            "grid_gap": null,
            "max_width": null,
            "order": null,
            "_view_module_version": "1.2.0",
            "grid_template_areas": null,
            "object_position": null,
            "object_fit": null,
            "grid_auto_columns": null,
            "margin": null,
            "display": null,
            "left": null
          }
        },
        "4350fbc1bf814189827e0837fa611f70": {
          "model_module": "@jupyter-widgets/controls",
          "model_name": "DescriptionStyleModel",
          "state": {
            "_view_name": "StyleView",
            "_model_name": "DescriptionStyleModel",
            "description_width": "",
            "_view_module": "@jupyter-widgets/base",
            "_model_module_version": "1.5.0",
            "_view_count": null,
            "_view_module_version": "1.2.0",
            "_model_module": "@jupyter-widgets/controls"
          }
        },
        "0cc79a6dcb0a4e8980d02622a9af3fcc": {
          "model_module": "@jupyter-widgets/base",
          "model_name": "LayoutModel",
          "state": {
            "_view_name": "LayoutView",
            "grid_template_rows": null,
            "right": null,
            "justify_content": null,
            "_view_module": "@jupyter-widgets/base",
            "overflow": null,
            "_model_module_version": "1.2.0",
            "_view_count": null,
            "flex_flow": null,
            "width": null,
            "min_width": null,
            "border": null,
            "align_items": null,
            "bottom": null,
            "_model_module": "@jupyter-widgets/base",
            "top": null,
            "grid_column": null,
            "overflow_y": null,
            "overflow_x": null,
            "grid_auto_flow": null,
            "grid_area": null,
            "grid_template_columns": null,
            "flex": null,
            "_model_name": "LayoutModel",
            "justify_items": null,
            "grid_row": null,
            "max_height": null,
            "align_content": null,
            "visibility": null,
            "align_self": null,
            "height": null,
            "min_height": null,
            "padding": null,
            "grid_auto_rows": null,
            "grid_gap": null,
            "max_width": null,
            "order": null,
            "_view_module_version": "1.2.0",
            "grid_template_areas": null,
            "object_position": null,
            "object_fit": null,
            "grid_auto_columns": null,
            "margin": null,
            "display": null,
            "left": null
          }
        },
        "8f2596c1536f4738aa002bbe74413c27": {
          "model_module": "@jupyter-widgets/controls",
          "model_name": "HBoxModel",
          "state": {
            "_view_name": "HBoxView",
            "_dom_classes": [],
            "_model_name": "HBoxModel",
            "_view_module": "@jupyter-widgets/controls",
            "_model_module_version": "1.5.0",
            "_view_count": null,
            "_view_module_version": "1.5.0",
            "box_style": "",
            "layout": "IPY_MODEL_38b77cd0e4c441ab96cddbc50fdcfe18",
            "_model_module": "@jupyter-widgets/controls",
            "children": [
              "IPY_MODEL_2bc6d5edde5d4e2599f7e5071198c9cd",
              "IPY_MODEL_02eb481976404250be274214f946cab6"
            ]
          }
        },
        "38b77cd0e4c441ab96cddbc50fdcfe18": {
          "model_module": "@jupyter-widgets/base",
          "model_name": "LayoutModel",
          "state": {
            "_view_name": "LayoutView",
            "grid_template_rows": null,
            "right": null,
            "justify_content": null,
            "_view_module": "@jupyter-widgets/base",
            "overflow": null,
            "_model_module_version": "1.2.0",
            "_view_count": null,
            "flex_flow": null,
            "width": null,
            "min_width": null,
            "border": null,
            "align_items": null,
            "bottom": null,
            "_model_module": "@jupyter-widgets/base",
            "top": null,
            "grid_column": null,
            "overflow_y": null,
            "overflow_x": null,
            "grid_auto_flow": null,
            "grid_area": null,
            "grid_template_columns": null,
            "flex": null,
            "_model_name": "LayoutModel",
            "justify_items": null,
            "grid_row": null,
            "max_height": null,
            "align_content": null,
            "visibility": null,
            "align_self": null,
            "height": null,
            "min_height": null,
            "padding": null,
            "grid_auto_rows": null,
            "grid_gap": null,
            "max_width": null,
            "order": null,
            "_view_module_version": "1.2.0",
            "grid_template_areas": null,
            "object_position": null,
            "object_fit": null,
            "grid_auto_columns": null,
            "margin": null,
            "display": null,
            "left": null
          }
        },
        "2bc6d5edde5d4e2599f7e5071198c9cd": {
          "model_module": "@jupyter-widgets/controls",
          "model_name": "FloatProgressModel",
          "state": {
            "_view_name": "ProgressView",
            "style": "IPY_MODEL_88b2b54b4c9d4ac8ba1421a6f843f844",
            "_dom_classes": [],
            "description": "100%",
            "_model_name": "FloatProgressModel",
            "bar_style": "success",
            "max": 8,
            "_view_module": "@jupyter-widgets/controls",
            "_model_module_version": "1.5.0",
            "value": 8,
            "_view_count": null,
            "_view_module_version": "1.5.0",
            "orientation": "horizontal",
            "min": 0,
            "description_tooltip": null,
            "_model_module": "@jupyter-widgets/controls",
            "layout": "IPY_MODEL_a74f65b90fb64db6891106d974c2ac1d"
          }
        },
        "02eb481976404250be274214f946cab6": {
          "model_module": "@jupyter-widgets/controls",
          "model_name": "HTMLModel",
          "state": {
            "_view_name": "HTMLView",
            "style": "IPY_MODEL_bddb19b324294af0a0f27860b6b4ddfd",
            "_dom_classes": [],
            "description": "",
            "_model_name": "HTMLModel",
            "placeholder": "​",
            "_view_module": "@jupyter-widgets/controls",
            "_model_module_version": "1.5.0",
            "value": " 8/8 [11:16&lt;00:00, 84.62s/it]",
            "_view_count": null,
            "_view_module_version": "1.5.0",
            "description_tooltip": null,
            "_model_module": "@jupyter-widgets/controls",
            "layout": "IPY_MODEL_61b90b8e2fb34108b8106d8a7b13b48c"
          }
        },
        "88b2b54b4c9d4ac8ba1421a6f843f844": {
          "model_module": "@jupyter-widgets/controls",
          "model_name": "ProgressStyleModel",
          "state": {
            "_view_name": "StyleView",
            "_model_name": "ProgressStyleModel",
            "description_width": "initial",
            "_view_module": "@jupyter-widgets/base",
            "_model_module_version": "1.5.0",
            "_view_count": null,
            "_view_module_version": "1.2.0",
            "bar_color": null,
            "_model_module": "@jupyter-widgets/controls"
          }
        },
        "a74f65b90fb64db6891106d974c2ac1d": {
          "model_module": "@jupyter-widgets/base",
          "model_name": "LayoutModel",
          "state": {
            "_view_name": "LayoutView",
            "grid_template_rows": null,
            "right": null,
            "justify_content": null,
            "_view_module": "@jupyter-widgets/base",
            "overflow": null,
            "_model_module_version": "1.2.0",
            "_view_count": null,
            "flex_flow": null,
            "width": null,
            "min_width": null,
            "border": null,
            "align_items": null,
            "bottom": null,
            "_model_module": "@jupyter-widgets/base",
            "top": null,
            "grid_column": null,
            "overflow_y": null,
            "overflow_x": null,
            "grid_auto_flow": null,
            "grid_area": null,
            "grid_template_columns": null,
            "flex": null,
            "_model_name": "LayoutModel",
            "justify_items": null,
            "grid_row": null,
            "max_height": null,
            "align_content": null,
            "visibility": null,
            "align_self": null,
            "height": null,
            "min_height": null,
            "padding": null,
            "grid_auto_rows": null,
            "grid_gap": null,
            "max_width": null,
            "order": null,
            "_view_module_version": "1.2.0",
            "grid_template_areas": null,
            "object_position": null,
            "object_fit": null,
            "grid_auto_columns": null,
            "margin": null,
            "display": null,
            "left": null
          }
        },
        "bddb19b324294af0a0f27860b6b4ddfd": {
          "model_module": "@jupyter-widgets/controls",
          "model_name": "DescriptionStyleModel",
          "state": {
            "_view_name": "StyleView",
            "_model_name": "DescriptionStyleModel",
            "description_width": "",
            "_view_module": "@jupyter-widgets/base",
            "_model_module_version": "1.5.0",
            "_view_count": null,
            "_view_module_version": "1.2.0",
            "_model_module": "@jupyter-widgets/controls"
          }
        },
        "61b90b8e2fb34108b8106d8a7b13b48c": {
          "model_module": "@jupyter-widgets/base",
          "model_name": "LayoutModel",
          "state": {
            "_view_name": "LayoutView",
            "grid_template_rows": null,
            "right": null,
            "justify_content": null,
            "_view_module": "@jupyter-widgets/base",
            "overflow": null,
            "_model_module_version": "1.2.0",
            "_view_count": null,
            "flex_flow": null,
            "width": null,
            "min_width": null,
            "border": null,
            "align_items": null,
            "bottom": null,
            "_model_module": "@jupyter-widgets/base",
            "top": null,
            "grid_column": null,
            "overflow_y": null,
            "overflow_x": null,
            "grid_auto_flow": null,
            "grid_area": null,
            "grid_template_columns": null,
            "flex": null,
            "_model_name": "LayoutModel",
            "justify_items": null,
            "grid_row": null,
            "max_height": null,
            "align_content": null,
            "visibility": null,
            "align_self": null,
            "height": null,
            "min_height": null,
            "padding": null,
            "grid_auto_rows": null,
            "grid_gap": null,
            "max_width": null,
            "order": null,
            "_view_module_version": "1.2.0",
            "grid_template_areas": null,
            "object_position": null,
            "object_fit": null,
            "grid_auto_columns": null,
            "margin": null,
            "display": null,
            "left": null
          }
        }
      }
    }
  },
  "cells": [
    {
      "cell_type": "markdown",
      "metadata": {
        "id": "-taSjWV1WYkZ"
      },
      "source": [
        "# Fake Job Postings\n",
        "\n",
        "Ссылка на соревнование: [Fake Job Postings](https://www.kaggle.com/c/rucode-fake-job-postings/overview/evaluation)\n",
        "\n",
        "В этом конкурсе необходимо решить задачу выявления фейковых объявлений о приеме на работу. Данные представляют собой csv таблицу с текстовыми и категориальными полями. Чтобы успешно решить эту задачу, понадобится обработать оба вида информации."
      ]
    },
    {
      "cell_type": "markdown",
      "metadata": {
        "papermill": {
          "duration": 0.020523,
          "end_time": "2020-09-05T22:08:08.228630",
          "exception": false,
          "start_time": "2020-09-05T22:08:08.208107",
          "status": "completed"
        },
        "tags": [],
        "id": "tJjnwy5Fdt9f"
      },
      "source": [
        "# RoBERTa-large"
      ]
    },
    {
      "cell_type": "markdown",
      "metadata": {
        "id": "80hmnCA2W-7Q"
      },
      "source": [
        "Для решения задачи я использовала предобученную модель **RoBERTa** из библиотеки **Hugging Face**.\n",
        "\n",
        "Подробнее о модели можно прочитать по ссылкам:\n",
        "\n",
        "\n",
        "*   [RoBERTa: A Robustly Optimized BERT Pretraining Approach](https://arxiv.org/abs/1907.11692)\n",
        "\n",
        "*   [RoBERTa-large](https://huggingface.co/roberta-large)\n",
        "\n"
      ]
    },
    {
      "cell_type": "markdown",
      "metadata": {
        "papermill": {
          "duration": 0.022614,
          "end_time": "2020-09-05T22:08:08.270925",
          "exception": false,
          "start_time": "2020-09-05T22:08:08.248311",
          "status": "completed"
        },
        "tags": [],
        "id": "By2lpsNbdt9n"
      },
      "source": [
        "## Dependencies"
      ]
    },
    {
      "cell_type": "markdown",
      "metadata": {
        "id": "qc3lNeo__f-I"
      },
      "source": [
        "Установим библиотеки от Hugging Face"
      ]
    },
    {
      "cell_type": "code",
      "metadata": {
        "execution": {
          "iopub.execute_input": "2020-09-05T22:08:08.317383Z",
          "iopub.status.busy": "2020-09-05T22:08:08.316484Z",
          "iopub.status.idle": "2020-09-05T22:08:38.689545Z",
          "shell.execute_reply": "2020-09-05T22:08:38.688712Z"
        },
        "papermill": {
          "duration": 30.399134,
          "end_time": "2020-09-05T22:08:38.689688",
          "exception": false,
          "start_time": "2020-09-05T22:08:08.290554",
          "status": "completed"
        },
        "tags": [],
        "id": "2HmhEEH1dt9o",
        "outputId": "9de75a97-bbb9-4def-8402-b10f5c88ee9e",
        "colab": {
          "base_uri": "https://localhost:8080/",
          "height": 1000
        }
      },
      "source": [
        "!pip install git+https://github.com/huggingface/transformers\n",
        "!pip install -U nlp"
      ],
      "execution_count": null,
      "outputs": [
        {
          "output_type": "stream",
          "text": [
            "Collecting git+https://github.com/huggingface/transformers\n",
            "  Cloning https://github.com/huggingface/transformers to /tmp/pip-req-build-2rk0sj60\n",
            "  Running command git clone -q https://github.com/huggingface/transformers /tmp/pip-req-build-2rk0sj60\n",
            "  Installing build dependencies ... \u001b[?25l\u001b[?25hdone\n",
            "  Getting requirements to build wheel ... \u001b[?25l\u001b[?25hdone\n",
            "    Preparing wheel metadata ... \u001b[?25l\u001b[?25hdone\n",
            "Collecting sacremoses\n",
            "\u001b[?25l  Downloading https://files.pythonhosted.org/packages/7d/34/09d19aff26edcc8eb2a01bed8e98f13a1537005d31e95233fd48216eed10/sacremoses-0.0.43.tar.gz (883kB)\n",
            "\u001b[K     |████████████████████████████████| 890kB 3.2MB/s \n",
            "\u001b[?25hRequirement already satisfied: dataclasses; python_version < \"3.7\" in /usr/local/lib/python3.6/dist-packages (from transformers==3.3.0) (0.7)\n",
            "Collecting tokenizers==0.8.1.rc2\n",
            "\u001b[?25l  Downloading https://files.pythonhosted.org/packages/80/83/8b9fccb9e48eeb575ee19179e2bdde0ee9a1904f97de5f02d19016b8804f/tokenizers-0.8.1rc2-cp36-cp36m-manylinux1_x86_64.whl (3.0MB)\n",
            "\u001b[K     |████████████████████████████████| 3.0MB 8.8MB/s \n",
            "\u001b[?25hRequirement already satisfied: requests in /usr/local/lib/python3.6/dist-packages (from transformers==3.3.0) (2.23.0)\n",
            "Requirement already satisfied: filelock in /usr/local/lib/python3.6/dist-packages (from transformers==3.3.0) (3.0.12)\n",
            "Requirement already satisfied: packaging in /usr/local/lib/python3.6/dist-packages (from transformers==3.3.0) (20.4)\n",
            "Requirement already satisfied: numpy in /usr/local/lib/python3.6/dist-packages (from transformers==3.3.0) (1.18.5)\n",
            "Collecting sentencepiece!=0.1.92\n",
            "\u001b[?25l  Downloading https://files.pythonhosted.org/packages/d4/a4/d0a884c4300004a78cca907a6ff9a5e9fe4f090f5d95ab341c53d28cbc58/sentencepiece-0.1.91-cp36-cp36m-manylinux1_x86_64.whl (1.1MB)\n",
            "\u001b[K     |████████████████████████████████| 1.1MB 30.0MB/s \n",
            "\u001b[?25hRequirement already satisfied: tqdm>=4.27 in /usr/local/lib/python3.6/dist-packages (from transformers==3.3.0) (4.41.1)\n",
            "Requirement already satisfied: regex!=2019.12.17 in /usr/local/lib/python3.6/dist-packages (from transformers==3.3.0) (2019.12.20)\n",
            "Requirement already satisfied: six in /usr/local/lib/python3.6/dist-packages (from sacremoses->transformers==3.3.0) (1.15.0)\n",
            "Requirement already satisfied: click in /usr/local/lib/python3.6/dist-packages (from sacremoses->transformers==3.3.0) (7.1.2)\n",
            "Requirement already satisfied: joblib in /usr/local/lib/python3.6/dist-packages (from sacremoses->transformers==3.3.0) (0.16.0)\n",
            "Requirement already satisfied: idna<3,>=2.5 in /usr/local/lib/python3.6/dist-packages (from requests->transformers==3.3.0) (2.10)\n",
            "Requirement already satisfied: certifi>=2017.4.17 in /usr/local/lib/python3.6/dist-packages (from requests->transformers==3.3.0) (2020.6.20)\n",
            "Requirement already satisfied: urllib3!=1.25.0,!=1.25.1,<1.26,>=1.21.1 in /usr/local/lib/python3.6/dist-packages (from requests->transformers==3.3.0) (1.24.3)\n",
            "Requirement already satisfied: chardet<4,>=3.0.2 in /usr/local/lib/python3.6/dist-packages (from requests->transformers==3.3.0) (3.0.4)\n",
            "Requirement already satisfied: pyparsing>=2.0.2 in /usr/local/lib/python3.6/dist-packages (from packaging->transformers==3.3.0) (2.4.7)\n",
            "Building wheels for collected packages: transformers\n",
            "  Building wheel for transformers (PEP 517) ... \u001b[?25l\u001b[?25hdone\n",
            "  Created wheel for transformers: filename=transformers-3.3.0-cp36-none-any.whl size=1059443 sha256=03f3f5765de30adbc4eff92f14b09642b4274170e26a6222a1dda2b5475c8981\n",
            "  Stored in directory: /tmp/pip-ephem-wheel-cache-amp1lb76/wheels/70/d3/52/b3fa4f8b8ef04167ac62e5bb2accb62ae764db2a378247490e\n",
            "Successfully built transformers\n",
            "Building wheels for collected packages: sacremoses\n",
            "  Building wheel for sacremoses (setup.py) ... \u001b[?25l\u001b[?25hdone\n",
            "  Created wheel for sacremoses: filename=sacremoses-0.0.43-cp36-none-any.whl size=893257 sha256=17696b359d1c05ed7b08780fe5bff78db33b3fccfef4294c6d15f13320942d18\n",
            "  Stored in directory: /root/.cache/pip/wheels/29/3c/fd/7ce5c3f0666dab31a50123635e6fb5e19ceb42ce38d4e58f45\n",
            "Successfully built sacremoses\n",
            "Installing collected packages: sacremoses, tokenizers, sentencepiece, transformers\n",
            "Successfully installed sacremoses-0.0.43 sentencepiece-0.1.91 tokenizers-0.8.1rc2 transformers-3.3.0\n",
            "Collecting nlp\n",
            "\u001b[?25l  Downloading https://files.pythonhosted.org/packages/09/e3/bcdc59f3434b224040c1047769c47b82705feca2b89ebbc28311e3764782/nlp-0.4.0-py3-none-any.whl (1.7MB)\n",
            "\u001b[K     |████████████████████████████████| 1.7MB 3.4MB/s \n",
            "\u001b[?25hRequirement already satisfied, skipping upgrade: requests>=2.19.0 in /usr/local/lib/python3.6/dist-packages (from nlp) (2.23.0)\n",
            "Requirement already satisfied, skipping upgrade: filelock in /usr/local/lib/python3.6/dist-packages (from nlp) (3.0.12)\n",
            "Requirement already satisfied, skipping upgrade: dataclasses; python_version < \"3.7\" in /usr/local/lib/python3.6/dist-packages (from nlp) (0.7)\n",
            "Requirement already satisfied, skipping upgrade: tqdm>=4.27 in /usr/local/lib/python3.6/dist-packages (from nlp) (4.41.1)\n",
            "Collecting pyarrow>=0.16.0\n",
            "\u001b[?25l  Downloading https://files.pythonhosted.org/packages/f3/99/0a605f016121ca314d1469dc9069e4978395bc46fda40f73099d90ad3ba4/pyarrow-1.0.1-cp36-cp36m-manylinux2014_x86_64.whl (17.3MB)\n",
            "\u001b[K     |████████████████████████████████| 17.3MB 258kB/s \n",
            "\u001b[?25hRequirement already satisfied, skipping upgrade: numpy in /usr/local/lib/python3.6/dist-packages (from nlp) (1.18.5)\n",
            "Collecting xxhash\n",
            "\u001b[?25l  Downloading https://files.pythonhosted.org/packages/f7/73/826b19f3594756cb1c6c23d2fbd8ca6a77a9cd3b650c9dec5acc85004c38/xxhash-2.0.0-cp36-cp36m-manylinux2010_x86_64.whl (242kB)\n",
            "\u001b[K     |████████████████████████████████| 245kB 69.1MB/s \n",
            "\u001b[?25hRequirement already satisfied, skipping upgrade: dill in /usr/local/lib/python3.6/dist-packages (from nlp) (0.3.2)\n",
            "Requirement already satisfied, skipping upgrade: pandas in /usr/local/lib/python3.6/dist-packages (from nlp) (1.0.5)\n",
            "Requirement already satisfied, skipping upgrade: certifi>=2017.4.17 in /usr/local/lib/python3.6/dist-packages (from requests>=2.19.0->nlp) (2020.6.20)\n",
            "Requirement already satisfied, skipping upgrade: idna<3,>=2.5 in /usr/local/lib/python3.6/dist-packages (from requests>=2.19.0->nlp) (2.10)\n",
            "Requirement already satisfied, skipping upgrade: chardet<4,>=3.0.2 in /usr/local/lib/python3.6/dist-packages (from requests>=2.19.0->nlp) (3.0.4)\n",
            "Requirement already satisfied, skipping upgrade: urllib3!=1.25.0,!=1.25.1,<1.26,>=1.21.1 in /usr/local/lib/python3.6/dist-packages (from requests>=2.19.0->nlp) (1.24.3)\n",
            "Requirement already satisfied, skipping upgrade: python-dateutil>=2.6.1 in /usr/local/lib/python3.6/dist-packages (from pandas->nlp) (2.8.1)\n",
            "Requirement already satisfied, skipping upgrade: pytz>=2017.2 in /usr/local/lib/python3.6/dist-packages (from pandas->nlp) (2018.9)\n",
            "Requirement already satisfied, skipping upgrade: six>=1.5 in /usr/local/lib/python3.6/dist-packages (from python-dateutil>=2.6.1->pandas->nlp) (1.15.0)\n",
            "Installing collected packages: pyarrow, xxhash, nlp\n",
            "  Found existing installation: pyarrow 0.14.1\n",
            "    Uninstalling pyarrow-0.14.1:\n",
            "      Successfully uninstalled pyarrow-0.14.1\n",
            "Successfully installed nlp-0.4.0 pyarrow-1.0.1 xxhash-2.0.0\n"
          ],
          "name": "stdout"
        }
      ]
    },
    {
      "cell_type": "markdown",
      "metadata": {
        "id": "6kpvALTI_lhP"
      },
      "source": [
        "Для работы на TPU установим PyTorch-XLA"
      ]
    },
    {
      "cell_type": "code",
      "metadata": {
        "_cell_guid": "b1076dfc-b9ad-4769-8c92-a6c4dae69d19",
        "_kg_hide-input": true,
        "_kg_hide-output": true,
        "_uuid": "8f2839f25d086af736a60e9eeb907d3b93b6e0e5",
        "execution": {
          "iopub.execute_input": "2020-09-05T22:08:38.748722Z",
          "iopub.status.busy": "2020-09-05T22:08:38.747472Z",
          "iopub.status.idle": "2020-09-05T22:10:15.283546Z",
          "shell.execute_reply": "2020-09-05T22:10:15.282840Z"
        },
        "papermill": {
          "duration": 96.571073,
          "end_time": "2020-09-05T22:10:15.283678",
          "exception": false,
          "start_time": "2020-09-05T22:08:38.712605",
          "status": "completed"
        },
        "tags": [],
        "id": "AGetq1sCdt9w",
        "outputId": "45277bba-810d-4100-c917-95901e78ea16",
        "colab": {
          "base_uri": "https://localhost:8080/",
          "height": 1000
        }
      },
      "source": [
        "!curl https://raw.githubusercontent.com/pytorch/xla/master/contrib/scripts/env-setup.py -o pytorch-xla-env-setup.py\n",
        "!python pytorch-xla-env-setup.py --version 20200924  --apt-packages libomp5 libopenblas-dev"
      ],
      "execution_count": null,
      "outputs": [
        {
          "output_type": "stream",
          "text": [
            "  % Total    % Received % Xferd  Average Speed   Time    Time     Time  Current\n",
            "                                 Dload  Upload   Total   Spent    Left  Speed\n",
            "\r  0     0    0     0    0     0      0      0 --:--:-- --:--:-- --:--:--     0\r100  5115  100  5115    0     0  91339      0 --:--:-- --:--:-- --:--:-- 91339\n",
            "Updating... This may take around 2 minutes.\n",
            "Updating TPU runtime to pytorch-dev20200924 ...\n",
            "Collecting cloud-tpu-client\n",
            "  Downloading https://files.pythonhosted.org/packages/56/9f/7b1958c2886db06feb5de5b2c191096f9e619914b6c31fdf93999fdbbd8b/cloud_tpu_client-0.10-py3-none-any.whl\n",
            "Collecting google-api-python-client==1.8.0\n",
            "\u001b[?25l  Downloading https://files.pythonhosted.org/packages/9a/b4/a955f393b838bc47cbb6ae4643b9d0f90333d3b4db4dc1e819f36aad18cc/google_api_python_client-1.8.0-py3-none-any.whl (57kB)\n",
            "\u001b[K     |████████████████████████████████| 61kB 3.1MB/s \n",
            "Uninstalling torch-1.6.0+cu101:\n",
            "\u001b[?25hRequirement already satisfied: oauth2client in /usr/local/lib/python3.6/dist-packages (from cloud-tpu-client) (4.1.3)\n",
            "Requirement already satisfied: google-api-core<2dev,>=1.13.0 in /usr/local/lib/python3.6/dist-packages (from google-api-python-client==1.8.0->cloud-tpu-client) (1.16.0)\n",
            "Requirement already satisfied: uritemplate<4dev,>=3.0.0 in /usr/local/lib/python3.6/dist-packages (from google-api-python-client==1.8.0->cloud-tpu-client) (3.0.1)\n",
            "Requirement already satisfied: google-auth>=1.4.1 in /usr/local/lib/python3.6/dist-packages (from google-api-python-client==1.8.0->cloud-tpu-client) (1.17.2)\n",
            "Requirement already satisfied: google-auth-httplib2>=0.0.3 in /usr/local/lib/python3.6/dist-packages (from google-api-python-client==1.8.0->cloud-tpu-client) (0.0.4)\n",
            "Requirement already satisfied: six<2dev,>=1.6.1 in /usr/local/lib/python3.6/dist-packages (from google-api-python-client==1.8.0->cloud-tpu-client) (1.15.0)\n",
            "Requirement already satisfied: httplib2<1dev,>=0.9.2 in /usr/local/lib/python3.6/dist-packages (from google-api-python-client==1.8.0->cloud-tpu-client) (0.17.4)\n",
            "Requirement already satisfied: pyasn1-modules>=0.0.5 in /usr/local/lib/python3.6/dist-packages (from oauth2client->cloud-tpu-client) (0.2.8)\n",
            "Requirement already satisfied: pyasn1>=0.1.7 in /usr/local/lib/python3.6/dist-packages (from oauth2client->cloud-tpu-client) (0.4.8)\n",
            "Requirement already satisfied: rsa>=3.1.4 in /usr/local/lib/python3.6/dist-packages (from oauth2client->cloud-tpu-client) (4.6)\n",
            "Requirement already satisfied: googleapis-common-protos<2.0dev,>=1.6.0 in /usr/local/lib/python3.6/dist-packages (from google-api-core<2dev,>=1.13.0->google-api-python-client==1.8.0->cloud-tpu-client) (1.52.0)\n",
            "Requirement already satisfied: protobuf>=3.4.0 in /usr/local/lib/python3.6/dist-packages (from google-api-core<2dev,>=1.13.0->google-api-python-client==1.8.0->cloud-tpu-client) (3.12.4)\n",
            "Requirement already satisfied: pytz in /usr/local/lib/python3.6/dist-packages (from google-api-core<2dev,>=1.13.0->google-api-python-client==1.8.0->cloud-tpu-client) (2018.9)\n",
            "Requirement already satisfied: setuptools>=34.0.0 in /usr/local/lib/python3.6/dist-packages (from google-api-core<2dev,>=1.13.0->google-api-python-client==1.8.0->cloud-tpu-client) (50.3.0)\n",
            "Requirement already satisfied: requests<3.0.0dev,>=2.18.0 in /usr/local/lib/python3.6/dist-packages (from google-api-core<2dev,>=1.13.0->google-api-python-client==1.8.0->cloud-tpu-client) (2.23.0)\n",
            "Requirement already satisfied: cachetools<5.0,>=2.0.0 in /usr/local/lib/python3.6/dist-packages (from google-auth>=1.4.1->google-api-python-client==1.8.0->cloud-tpu-client) (4.1.1)\n",
            "Requirement already satisfied: certifi>=2017.4.17 in /usr/local/lib/python3.6/dist-packages (from requests<3.0.0dev,>=2.18.0->google-api-core<2dev,>=1.13.0->google-api-python-client==1.8.0->cloud-tpu-client) (2020.6.20)\n",
            "Requirement already satisfied: idna<3,>=2.5 in /usr/local/lib/python3.6/dist-packages (from requests<3.0.0dev,>=2.18.0->google-api-core<2dev,>=1.13.0->google-api-python-client==1.8.0->cloud-tpu-client) (2.10)\n",
            "Requirement already satisfied: urllib3!=1.25.0,!=1.25.1,<1.26,>=1.21.1 in /usr/local/lib/python3.6/dist-packages (from requests<3.0.0dev,>=2.18.0->google-api-core<2dev,>=1.13.0->google-api-python-client==1.8.0->cloud-tpu-client) (1.24.3)\n",
            "Requirement already satisfied: chardet<4,>=3.0.2 in /usr/local/lib/python3.6/dist-packages (from requests<3.0.0dev,>=2.18.0->google-api-core<2dev,>=1.13.0->google-api-python-client==1.8.0->cloud-tpu-client) (3.0.4)\n",
            "Installing collected packages: google-api-python-client, cloud-tpu-client\n",
            "  Found existing installation: google-api-python-client 1.7.12\n",
            "    Uninstalling google-api-python-client-1.7.12:\n",
            "      Successfully uninstalled google-api-python-client-1.7.12\n",
            "Successfully installed cloud-tpu-client-0.10 google-api-python-client-1.8.0\n",
            "Done updating TPU runtime\n",
            "  Successfully uninstalled torch-1.6.0+cu101\n",
            "Uninstalling torchvision-0.7.0+cu101:\n",
            "  Successfully uninstalled torchvision-0.7.0+cu101\n",
            "Copying gs://tpu-pytorch/wheels/torch-nightly+20200924-cp36-cp36m-linux_x86_64.whl...\n",
            "| [1 files][113.8 MiB/113.8 MiB]                                                \n",
            "Operation completed over 1 objects/113.8 MiB.                                    \n",
            "Copying gs://tpu-pytorch/wheels/torch_xla-nightly+20200924-cp36-cp36m-linux_x86_64.whl...\n",
            "| [1 files][128.0 MiB/128.0 MiB]                                                \n",
            "Operation completed over 1 objects/128.0 MiB.                                    \n",
            "Copying gs://tpu-pytorch/wheels/torchvision-nightly+20200924-cp36-cp36m-linux_x86_64.whl...\n",
            "/ [1 files][  2.4 MiB/  2.4 MiB]                                                \n",
            "Operation completed over 1 objects/2.4 MiB.                                      \n",
            "Processing ./torch-nightly+20200924-cp36-cp36m-linux_x86_64.whl\n",
            "Requirement already satisfied: typing-extensions in /usr/local/lib/python3.6/dist-packages (from torch==nightly+20200924) (3.7.4.3)\n",
            "Requirement already satisfied: dataclasses in /usr/local/lib/python3.6/dist-packages (from torch==nightly+20200924) (0.7)\n",
            "Requirement already satisfied: numpy in /usr/local/lib/python3.6/dist-packages (from torch==nightly+20200924) (1.18.5)\n",
            "Requirement already satisfied: future in /usr/local/lib/python3.6/dist-packages (from torch==nightly+20200924) (0.16.0)\n",
            "\u001b[31mERROR: fastai 1.0.61 requires torchvision, which is not installed.\u001b[0m\n",
            "Installing collected packages: torch\n",
            "Successfully installed torch-1.7.0a0\n",
            "Processing ./torch_xla-nightly+20200924-cp36-cp36m-linux_x86_64.whl\n",
            "Installing collected packages: torch-xla\n",
            "Successfully installed torch-xla-1.6+7dfa77f\n",
            "Processing ./torchvision-nightly+20200924-cp36-cp36m-linux_x86_64.whl\n",
            "Requirement already satisfied: numpy in /usr/local/lib/python3.6/dist-packages (from torchvision==nightly+20200924) (1.18.5)\n",
            "Requirement already satisfied: torch in /usr/local/lib/python3.6/dist-packages (from torchvision==nightly+20200924) (1.7.0a0)\n",
            "Requirement already satisfied: pillow>=4.1.1 in /usr/local/lib/python3.6/dist-packages (from torchvision==nightly+20200924) (7.0.0)\n",
            "Requirement already satisfied: future in /usr/local/lib/python3.6/dist-packages (from torch->torchvision==nightly+20200924) (0.16.0)\n",
            "Requirement already satisfied: typing-extensions in /usr/local/lib/python3.6/dist-packages (from torch->torchvision==nightly+20200924) (3.7.4.3)\n",
            "Requirement already satisfied: dataclasses in /usr/local/lib/python3.6/dist-packages (from torch->torchvision==nightly+20200924) (0.7)\n",
            "Installing collected packages: torchvision\n",
            "Successfully installed torchvision-0.8.0a0+15848ed\n",
            "Reading package lists... Done\n",
            "Building dependency tree       \n",
            "Reading state information... Done\n",
            "libopenblas-dev is already the newest version (0.2.20+ds-4).\n",
            "The following NEW packages will be installed:\n",
            "  libomp5\n",
            "0 upgraded, 1 newly installed, 0 to remove and 11 not upgraded.\n",
            "Need to get 234 kB of archives.\n",
            "After this operation, 774 kB of additional disk space will be used.\n",
            "Get:1 http://archive.ubuntu.com/ubuntu bionic/universe amd64 libomp5 amd64 5.0.1-1 [234 kB]\n",
            "Fetched 234 kB in 1s (357 kB/s)\n",
            "Selecting previously unselected package libomp5:amd64.\n",
            "(Reading database ... 144676 files and directories currently installed.)\n",
            "Preparing to unpack .../libomp5_5.0.1-1_amd64.deb ...\n",
            "Unpacking libomp5:amd64 (5.0.1-1) ...\n",
            "Setting up libomp5:amd64 (5.0.1-1) ...\n",
            "Processing triggers for libc-bin (2.27-3ubuntu1.2) ...\n",
            "/sbin/ldconfig.real: /usr/local/lib/python3.6/dist-packages/ideep4py/lib/libmkldnn.so.0 is not a symbolic link\n",
            "\n"
          ],
          "name": "stdout"
        }
      ]
    },
    {
      "cell_type": "markdown",
      "metadata": {
        "id": "BzrQbAsg_1KA"
      },
      "source": [
        "Импортируем необходимые библиотеки"
      ]
    },
    {
      "cell_type": "code",
      "metadata": {
        "_cell_guid": "79c7e3d0-c299-4dcb-8224-4455121ee9b0",
        "_uuid": "d629ff2d2480ee46fbb7e2d37f6b5fab8052498a",
        "execution": {
          "iopub.execute_input": "2020-09-05T22:10:15.354859Z",
          "iopub.status.busy": "2020-09-05T22:10:15.354053Z",
          "iopub.status.idle": "2020-09-05T22:10:23.499112Z",
          "shell.execute_reply": "2020-09-05T22:10:23.498427Z"
        },
        "papermill": {
          "duration": 8.187478,
          "end_time": "2020-09-05T22:10:23.499287",
          "exception": false,
          "start_time": "2020-09-05T22:10:15.311809",
          "status": "completed"
        },
        "tags": [],
        "id": "8qpj1Vwadt9z"
      },
      "source": [
        "import os\n",
        "os.environ['XLA_USE_BF16'] = \"1\"\n",
        "os.environ['XLA_TENSOR_ALLOCATOR_MAXSIZE'] = '100000000'\n",
        "\n",
        "import gc\n",
        "gc.enable()\n",
        "\n",
        "import numpy as np\n",
        "import pandas as pd\n",
        "\n",
        "import transformers\n",
        "from transformers import AutoTokenizer, AutoModelForSequenceClassification, AdamW\n",
        "\n",
        "import torch\n",
        "import torch.nn as nn\n",
        "import torch.nn.functional as F\n",
        "from torch.utils.data import DataLoader \n",
        "from torch.utils.data.distributed import DistributedSampler\n",
        "\n",
        "import torch_xla\n",
        "import torch_xla.core.xla_model as xm\n",
        "import torch_xla.debug.metrics as met\n",
        "import torch_xla.distributed.parallel_loader as pl\n",
        "import torch_xla.distributed.xla_multiprocessing as xmp\n",
        "import torch_xla.utils.serialization as xser\n",
        "import torch_xla.version as xv\n",
        "\n",
        "import warnings\n",
        "warnings.filterwarnings(\"ignore\")"
      ],
      "execution_count": null,
      "outputs": []
    },
    {
      "cell_type": "markdown",
      "metadata": {
        "id": "6JjN0Dko_6Go"
      },
      "source": [
        "Зафиксируем `seed` для воспроизводимости результата"
      ]
    },
    {
      "cell_type": "code",
      "metadata": {
        "execution": {
          "iopub.execute_input": "2020-09-05T22:10:23.569267Z",
          "iopub.status.busy": "2020-09-05T22:10:23.568501Z",
          "iopub.status.idle": "2020-09-05T22:10:23.573136Z",
          "shell.execute_reply": "2020-09-05T22:10:23.572435Z"
        },
        "papermill": {
          "duration": 0.045398,
          "end_time": "2020-09-05T22:10:23.573331",
          "exception": false,
          "start_time": "2020-09-05T22:10:23.527933",
          "status": "completed"
        },
        "tags": [],
        "id": "cvqUEzbbdt92"
      },
      "source": [
        "import random\n",
        "\n",
        "def my_seed(seed=42):\n",
        "    torch.manual_seed(seed)\n",
        "    np.random.seed(seed)\n",
        "    random.seed(seed)\n",
        "\n",
        "my_seed()"
      ],
      "execution_count": null,
      "outputs": []
    },
    {
      "cell_type": "markdown",
      "metadata": {
        "papermill": {
          "duration": 0.036229,
          "end_time": "2020-09-05T22:11:38.510307",
          "exception": false,
          "start_time": "2020-09-05T22:11:38.474078",
          "status": "completed"
        },
        "tags": [],
        "id": "Y8Fn2RyAdt_5"
      },
      "source": [
        "## Model"
      ]
    },
    {
      "cell_type": "markdown",
      "metadata": {
        "id": "_sWwZUIPAAm_"
      },
      "source": [
        "Загружаем предобученную модель `roberta-large` и токенизатор"
      ]
    },
    {
      "cell_type": "code",
      "metadata": {
        "execution": {
          "iopub.execute_input": "2020-09-05T22:11:38.589175Z",
          "iopub.status.busy": "2020-09-05T22:11:38.588440Z",
          "iopub.status.idle": "2020-09-05T22:13:15.608403Z",
          "shell.execute_reply": "2020-09-05T22:13:15.607633Z"
        },
        "papermill": {
          "duration": 97.061659,
          "end_time": "2020-09-05T22:13:15.608558",
          "exception": false,
          "start_time": "2020-09-05T22:11:38.546899",
          "status": "completed"
        },
        "tags": [],
        "id": "745HGcOJdt_6",
        "outputId": "ba455a5a-bf94-42fa-adff-1f6d20b0488a",
        "colab": {
          "base_uri": "https://localhost:8080/",
          "height": 323,
          "referenced_widgets": [
            "597e3845e4334e37915f4940a72738c9",
            "75f650305fcf4ee28c2ed84538eaad0f",
            "60cf8aacad7e4f21ada0ae9ffd749894",
            "8f72c79a9c3641629b78fdece8e2db5f",
            "aff36a0af2a74e4cbecc09ccd1b6e56e",
            "be8323d42a1c4ffbbefe2d0dc16a9b1c",
            "ae1e497696334a6898831038da955c40",
            "187d23d060cd4f1f9c4e2d2e0077b6a6",
            "4335b29064b14a54b55f5e82b44047ba",
            "fc79f8f109254f188a68aaed646f0566",
            "2cf6619e0ebd4fb48e3e639988953140",
            "d326cfb919ad4c6f8dc6f60b67caeff0",
            "2487b8dbbadd4fa980e0a88fe3e63401",
            "c8c4afd8ce474d0fa9f16a9706f1d36a",
            "1300398c75164002aa282418920d2886",
            "fe7cf2bfc53840ff8c77c728f5eb7669",
            "124d8ca2e5c443bc9613a5867bcc0b77",
            "79af368e058d49ef855c7c7995ba1294",
            "98d7838f19ef45bc9f0b52fba34b335f",
            "0dd5465b80554a469f71b984e923f188",
            "17ec915488984bb79fd193403279ca42",
            "584ef2e5971a4b0ba86d8fb3ae994d72",
            "026c3c73cbac4bc0a915db8b5ec8301b",
            "852390d4585448eea2acad9f2d4e9614",
            "97f0b8b1a61149519f66e5e5d815e7b2",
            "4f63428727ad435d82fc73b9d5ddce36",
            "129197b389a84bd18edfd517d1568039",
            "da7f77fc20c148dcb792caa14a6a8816",
            "9e7b272b4fd14a5cbe9a7b842c049b0f",
            "50e11978daca457a838956af0ddfb883",
            "9124199956644e6485bc85e41ed9a0b7",
            "23bd8c274dd1485a99bf957d456eadf5"
          ]
        }
      },
      "source": [
        "WRAPPED_MODEL = xmp.MpModelWrapper(AutoModelForSequenceClassification.from_pretrained(\"roberta-large\"))\n",
        "tokenizer = AutoTokenizer.from_pretrained(\"roberta-large\")"
      ],
      "execution_count": null,
      "outputs": [
        {
          "output_type": "display_data",
          "data": {
            "application/vnd.jupyter.widget-view+json": {
              "model_id": "597e3845e4334e37915f4940a72738c9",
              "version_minor": 0,
              "version_major": 2
            },
            "text/plain": [
              "HBox(children=(FloatProgress(value=0.0, description='Downloading', max=482.0, style=ProgressStyle(description_…"
            ]
          },
          "metadata": {
            "tags": []
          }
        },
        {
          "output_type": "stream",
          "text": [
            "\n"
          ],
          "name": "stdout"
        },
        {
          "output_type": "display_data",
          "data": {
            "application/vnd.jupyter.widget-view+json": {
              "model_id": "4335b29064b14a54b55f5e82b44047ba",
              "version_minor": 0,
              "version_major": 2
            },
            "text/plain": [
              "HBox(children=(FloatProgress(value=0.0, description='Downloading', max=1425941629.0, style=ProgressStyle(descr…"
            ]
          },
          "metadata": {
            "tags": []
          }
        },
        {
          "output_type": "stream",
          "text": [
            "\n"
          ],
          "name": "stdout"
        },
        {
          "output_type": "stream",
          "text": [
            "Some weights of the model checkpoint at roberta-large were not used when initializing RobertaForSequenceClassification: ['lm_head.bias', 'lm_head.dense.weight', 'lm_head.dense.bias', 'lm_head.layer_norm.weight', 'lm_head.layer_norm.bias', 'lm_head.decoder.weight', 'roberta.pooler.dense.weight', 'roberta.pooler.dense.bias']\n",
            "- This IS expected if you are initializing RobertaForSequenceClassification from the checkpoint of a model trained on another task or with another architecture (e.g. initializing a BertForSequenceClassification model from a BertForPretraining model).\n",
            "- This IS NOT expected if you are initializing RobertaForSequenceClassification from the checkpoint of a model that you expect to be exactly identical (initializing a BertForSequenceClassification model from a BertForSequenceClassification model).\n",
            "Some weights of RobertaForSequenceClassification were not initialized from the model checkpoint at roberta-large and are newly initialized: ['classifier.dense.weight', 'classifier.dense.bias', 'classifier.out_proj.weight', 'classifier.out_proj.bias']\n",
            "You should probably TRAIN this model on a down-stream task to be able to use it for predictions and inference.\n"
          ],
          "name": "stderr"
        },
        {
          "output_type": "display_data",
          "data": {
            "application/vnd.jupyter.widget-view+json": {
              "model_id": "124d8ca2e5c443bc9613a5867bcc0b77",
              "version_minor": 0,
              "version_major": 2
            },
            "text/plain": [
              "HBox(children=(FloatProgress(value=0.0, description='Downloading', max=898823.0, style=ProgressStyle(descripti…"
            ]
          },
          "metadata": {
            "tags": []
          }
        },
        {
          "output_type": "stream",
          "text": [
            "\n"
          ],
          "name": "stdout"
        },
        {
          "output_type": "display_data",
          "data": {
            "application/vnd.jupyter.widget-view+json": {
              "model_id": "97f0b8b1a61149519f66e5e5d815e7b2",
              "version_minor": 0,
              "version_major": 2
            },
            "text/plain": [
              "HBox(children=(FloatProgress(value=0.0, description='Downloading', max=456318.0, style=ProgressStyle(descripti…"
            ]
          },
          "metadata": {
            "tags": []
          }
        },
        {
          "output_type": "stream",
          "text": [
            "\n"
          ],
          "name": "stdout"
        }
      ]
    },
    {
      "cell_type": "markdown",
      "metadata": {
        "id": "yzaZybmtuULE"
      },
      "source": [
        "## Data preprocessing"
      ]
    },
    {
      "cell_type": "markdown",
      "metadata": {
        "id": "RjakX5-8SLud"
      },
      "source": [
        "### Train & Val"
      ]
    },
    {
      "cell_type": "markdown",
      "metadata": {
        "id": "Jn--hPGGAadh"
      },
      "source": [
        "Считываем данные для обучения"
      ]
    },
    {
      "cell_type": "code",
      "metadata": {
        "id": "Ag3fSIxMZufE"
      },
      "source": [
        "train_df = pd.read_csv('train_data.csv')"
      ],
      "execution_count": null,
      "outputs": []
    },
    {
      "cell_type": "markdown",
      "metadata": {
        "id": "rg7tS7D7zLfj"
      },
      "source": [
        "Колонки:\n",
        "*  **Id** - уникальный идентификатор объявления\n",
        "*  **Название** - название вакансии\n",
        "*  **Место** - место работы (город, страна, штат)\n",
        "*  **Отдел** - название отдела в компании, куда есть вакансия\n",
        "*  **Зарплата** - предлагаемая зарплата на вакансию\n",
        "*  **Описание компании** - описание компании, которая разместила вакансию. Составлено самой компанией\n",
        "*  **Описание вакансии** - развернутое описание вакансии. Составлено компанией, которая разместила вакансию.\n",
        "*  **Требования** - описание обязанностей работника\n",
        "*  **Соцпакет** - все benefits, предоставляемые компанией работнику\n",
        "*  **Дистанционно** - бинарная переменная: 1, если работа удаленная\n",
        "*  **Вопросы** - бинарная переменная: 1, если в первичной анкете при приеме на работу присутствуют вопросы\n",
        "*  **Тип занятости** - полный/неполный рабочий день, стажировка и т.д.\n",
        "*  **Опыт** - опыт, которым должен обладать потенциальный кандидат\n",
        "*  **Образование** - образование, которым должен обладать потенциальный кандидат\n",
        "*  **Индустрия** - сфера деятельности компании. Ритейл/медицина и т.д.\n",
        "*  **Позиция** - позиция, на которую открыта вакансия\n",
        "*  **Фейк** - (только в тренировочном датасете) целевая переменная: 0, если объявление не фейк, 1, если фейк"
      ]
    },
    {
      "cell_type": "code",
      "metadata": {
        "id": "aFWvjeIsa6bM",
        "outputId": "e32d3ada-e5f0-4554-86ec-1144361f9ecb",
        "colab": {
          "base_uri": "https://localhost:8080/",
          "height": 551
        }
      },
      "source": [
        "train_df.head()"
      ],
      "execution_count": null,
      "outputs": [
        {
          "output_type": "execute_result",
          "data": {
            "text/html": [
              "<div>\n",
              "<style scoped>\n",
              "    .dataframe tbody tr th:only-of-type {\n",
              "        vertical-align: middle;\n",
              "    }\n",
              "\n",
              "    .dataframe tbody tr th {\n",
              "        vertical-align: top;\n",
              "    }\n",
              "\n",
              "    .dataframe thead th {\n",
              "        text-align: right;\n",
              "    }\n",
              "</style>\n",
              "<table border=\"1\" class=\"dataframe\">\n",
              "  <thead>\n",
              "    <tr style=\"text-align: right;\">\n",
              "      <th></th>\n",
              "      <th>Id</th>\n",
              "      <th>Название</th>\n",
              "      <th>Место</th>\n",
              "      <th>Отдел</th>\n",
              "      <th>Зарплата</th>\n",
              "      <th>Описание компании</th>\n",
              "      <th>Описание вакансии</th>\n",
              "      <th>Требования</th>\n",
              "      <th>Соцпакет</th>\n",
              "      <th>Дистанционно</th>\n",
              "      <th>Вопросы</th>\n",
              "      <th>Тип занятости</th>\n",
              "      <th>Опыт</th>\n",
              "      <th>Образование</th>\n",
              "      <th>Индустрия</th>\n",
              "      <th>Позиция</th>\n",
              "      <th>Фейк</th>\n",
              "    </tr>\n",
              "  </thead>\n",
              "  <tbody>\n",
              "    <tr>\n",
              "      <th>0</th>\n",
              "      <td>10497</td>\n",
              "      <td>Reporter, Agri Investor</td>\n",
              "      <td>US, ,</td>\n",
              "      <td>KHR</td>\n",
              "      <td>NaN</td>\n",
              "      <td>PEI Media (#URL_4cffe430b8da4c0d7e6074d11e638d...</td>\n",
              "      <td>Seeking savvy business reporter Are you a news...</td>\n",
              "      <td>The successful candidate should have a bachelo...</td>\n",
              "      <td>PEI Media (#URL_4cffe430b8da4c0d7e6074d11e638d...</td>\n",
              "      <td>0</td>\n",
              "      <td>0</td>\n",
              "      <td>Full-time</td>\n",
              "      <td>Associate</td>\n",
              "      <td>Bachelor's Degree</td>\n",
              "      <td>Publishing</td>\n",
              "      <td>Writing/Editing</td>\n",
              "      <td>0</td>\n",
              "    </tr>\n",
              "    <tr>\n",
              "      <th>1</th>\n",
              "      <td>8219</td>\n",
              "      <td>Software Engineer</td>\n",
              "      <td>US, VA, Herndon</td>\n",
              "      <td>Software Engineering</td>\n",
              "      <td>NaN</td>\n",
              "      <td>Roka Security is a boutique security firm that...</td>\n",
              "      <td>Roka Security is looking for Software Engineer...</td>\n",
              "      <td>NaN</td>\n",
              "      <td>NaN</td>\n",
              "      <td>0</td>\n",
              "      <td>0</td>\n",
              "      <td>Full-time</td>\n",
              "      <td>Not Applicable</td>\n",
              "      <td>Unspecified</td>\n",
              "      <td>Computer Software</td>\n",
              "      <td>Engineering</td>\n",
              "      <td>0</td>\n",
              "    </tr>\n",
              "    <tr>\n",
              "      <th>2</th>\n",
              "      <td>5342</td>\n",
              "      <td>Structural Engineer</td>\n",
              "      <td>NL, ZH, Rotterdam</td>\n",
              "      <td>onshore</td>\n",
              "      <td>NaN</td>\n",
              "      <td>NaN</td>\n",
              "      <td>Job tasks:Analyse project specifications on st...</td>\n",
              "      <td>Job requirements:HTS/TU Civil Engineering or M...</td>\n",
              "      <td>NaN</td>\n",
              "      <td>0</td>\n",
              "      <td>1</td>\n",
              "      <td>NaN</td>\n",
              "      <td>NaN</td>\n",
              "      <td>NaN</td>\n",
              "      <td>NaN</td>\n",
              "      <td>NaN</td>\n",
              "      <td>0</td>\n",
              "    </tr>\n",
              "    <tr>\n",
              "      <th>3</th>\n",
              "      <td>1916</td>\n",
              "      <td>Senior Publishing Specialist</td>\n",
              "      <td>US, ,</td>\n",
              "      <td>NaN</td>\n",
              "      <td>NaN</td>\n",
              "      <td>NaN</td>\n",
              "      <td>The Senior Publishing Specialist will be part ...</td>\n",
              "      <td>Minimum of 3 – 4 years experience in Regulator...</td>\n",
              "      <td>NaN</td>\n",
              "      <td>0</td>\n",
              "      <td>0</td>\n",
              "      <td>NaN</td>\n",
              "      <td>NaN</td>\n",
              "      <td>NaN</td>\n",
              "      <td>NaN</td>\n",
              "      <td>NaN</td>\n",
              "      <td>0</td>\n",
              "    </tr>\n",
              "    <tr>\n",
              "      <th>4</th>\n",
              "      <td>1811</td>\n",
              "      <td>Sales Representative</td>\n",
              "      <td>CA, BC, Vancouver</td>\n",
              "      <td>Sales &amp; Marketing</td>\n",
              "      <td>NaN</td>\n",
              "      <td>NaN</td>\n",
              "      <td>BCCC Enterprises provides management consultin...</td>\n",
              "      <td>Key Responsibilities:Contribute to the financi...</td>\n",
              "      <td>How to ApplyThis is an exciting opportunity. ...</td>\n",
              "      <td>0</td>\n",
              "      <td>1</td>\n",
              "      <td>NaN</td>\n",
              "      <td>NaN</td>\n",
              "      <td>NaN</td>\n",
              "      <td>NaN</td>\n",
              "      <td>NaN</td>\n",
              "      <td>0</td>\n",
              "    </tr>\n",
              "  </tbody>\n",
              "</table>\n",
              "</div>"
            ],
            "text/plain": [
              "      Id                       Название  ...          Позиция Фейк\n",
              "0  10497        Reporter, Agri Investor  ...  Writing/Editing    0\n",
              "1   8219              Software Engineer  ...      Engineering    0\n",
              "2   5342            Structural Engineer  ...              NaN    0\n",
              "3   1916  Senior Publishing Specialist   ...              NaN    0\n",
              "4   1811          Sales Representative   ...              NaN    0\n",
              "\n",
              "[5 rows x 17 columns]"
            ]
          },
          "metadata": {
            "tags": []
          },
          "execution_count": 9
        }
      ]
    },
    {
      "cell_type": "markdown",
      "metadata": {
        "id": "c4egD0ah0IZE"
      },
      "source": [
        "Видим, что данные содержат достаточно много пустых значений"
      ]
    },
    {
      "cell_type": "code",
      "metadata": {
        "id": "fHTik2Mua9Eu",
        "outputId": "df578b60-7ed3-44b9-da08-f68cac763d81",
        "colab": {
          "base_uri": "https://localhost:8080/",
          "height": 438
        }
      },
      "source": [
        "train_df.info()"
      ],
      "execution_count": null,
      "outputs": [
        {
          "output_type": "stream",
          "text": [
            "<class 'pandas.core.frame.DataFrame'>\n",
            "RangeIndex: 10728 entries, 0 to 10727\n",
            "Data columns (total 17 columns):\n",
            " #   Column             Non-Null Count  Dtype \n",
            "---  ------             --------------  ----- \n",
            " 0   Id                 10728 non-null  int64 \n",
            " 1   Название           10728 non-null  object\n",
            " 2   Место              10504 non-null  object\n",
            " 3   Отдел              3758 non-null   object\n",
            " 4   Зарплата           1730 non-null   object\n",
            " 5   Описание компании  8682 non-null   object\n",
            " 6   Описание вакансии  10728 non-null  object\n",
            " 7   Требования         9097 non-null   object\n",
            " 8   Соцпакет           6397 non-null   object\n",
            " 9   Дистанционно       10728 non-null  int64 \n",
            " 10  Вопросы            10728 non-null  int64 \n",
            " 11  Тип занятости      8586 non-null   object\n",
            " 12  Опыт               6478 non-null   object\n",
            " 13  Образование        5836 non-null   object\n",
            " 14  Индустрия          7775 non-null   object\n",
            " 15  Позиция            6853 non-null   object\n",
            " 16  Фейк               10728 non-null  int64 \n",
            "dtypes: int64(4), object(13)\n",
            "memory usage: 1.4+ MB\n"
          ],
          "name": "stdout"
        }
      ]
    },
    {
      "cell_type": "markdown",
      "metadata": {
        "id": "czYJyTyO0PCj"
      },
      "source": [
        "Данные сильно несбалансированы: среди объявлений фейковых очень мало (примерно 5%)"
      ]
    },
    {
      "cell_type": "code",
      "metadata": {
        "id": "mTDqXFWGjxaN",
        "outputId": "f73aa2b0-8e3f-4a2d-ed07-bec7d4fd1374",
        "colab": {
          "base_uri": "https://localhost:8080/",
          "height": 69
        }
      },
      "source": [
        "train_df['Фейк'].value_counts()"
      ],
      "execution_count": null,
      "outputs": [
        {
          "output_type": "execute_result",
          "data": {
            "text/plain": [
              "0    10205\n",
              "1      523\n",
              "Name: Фейк, dtype: int64"
            ]
          },
          "metadata": {
            "tags": []
          },
          "execution_count": 11
        }
      ]
    },
    {
      "cell_type": "markdown",
      "metadata": {
        "id": "hPJye1bX04xk"
      },
      "source": [
        "Выделяются две колонки **Дистанционно** и **Вопросы**, в которых данные числовые. Представим их в строковом виде, заменив на подходящие по смыслу фразы, чтобы можно было подавать их на вход нашей модели наравне с остальными колонками."
      ]
    },
    {
      "cell_type": "code",
      "metadata": {
        "id": "n_P7iaSqbIoD"
      },
      "source": [
        "train_df['Дистанционно'] = train_df['Дистанционно'].map({1:'Telecommuting positions', 0:'Office positions'})"
      ],
      "execution_count": null,
      "outputs": []
    },
    {
      "cell_type": "code",
      "metadata": {
        "id": "F6B7aLonctr8",
        "outputId": "2f05066b-71f0-4ddc-fe78-1913ccc5c5b5",
        "colab": {
          "base_uri": "https://localhost:8080/",
          "height": 69
        }
      },
      "source": [
        "train_df['Дистанционно'].value_counts()"
      ],
      "execution_count": null,
      "outputs": [
        {
          "output_type": "execute_result",
          "data": {
            "text/plain": [
              "Office positions           10274\n",
              "Telecommuting positions      454\n",
              "Name: Дистанционно, dtype: int64"
            ]
          },
          "metadata": {
            "tags": []
          },
          "execution_count": 13
        }
      ]
    },
    {
      "cell_type": "code",
      "metadata": {
        "id": "ifLj5Og1cbAs"
      },
      "source": [
        "train_df['Вопросы'] = train_df['Вопросы'].map({1:'Screening questions are present', 0:'There are no screening questions'})"
      ],
      "execution_count": null,
      "outputs": []
    },
    {
      "cell_type": "code",
      "metadata": {
        "id": "zUiiT33XcxqV",
        "outputId": "be72a413-0292-4601-a685-bd87ec9ec197",
        "colab": {
          "base_uri": "https://localhost:8080/",
          "height": 69
        }
      },
      "source": [
        "train_df['Вопросы'].value_counts()"
      ],
      "execution_count": null,
      "outputs": [
        {
          "output_type": "execute_result",
          "data": {
            "text/plain": [
              "There are no screening questions    5424\n",
              "Screening questions are present     5304\n",
              "Name: Вопросы, dtype: int64"
            ]
          },
          "metadata": {
            "tags": []
          },
          "execution_count": 15
        }
      ]
    },
    {
      "cell_type": "markdown",
      "metadata": {
        "id": "YtcGbhyT1a4t"
      },
      "source": [
        "Выделим колонки, которые хотим подать на вход нашей модели"
      ]
    },
    {
      "cell_type": "code",
      "metadata": {
        "id": "epvsirDGcM6x"
      },
      "source": [
        "columns_to_text = ['Название', \n",
        "                   'Тип занятости',\n",
        "                   'Дистанционно',\n",
        "                   'Место',\n",
        "                   'Вопросы', \n",
        "                   'Описание компании', \n",
        "                   'Описание вакансии', \n",
        "                   'Требования']"
      ],
      "execution_count": null,
      "outputs": []
    },
    {
      "cell_type": "markdown",
      "metadata": {
        "id": "bj33Dew-1q5r"
      },
      "source": [
        "Также соберем все колонки, кроме целевой переменной"
      ]
    },
    {
      "cell_type": "code",
      "metadata": {
        "id": "6Pnlx9lCfNkV"
      },
      "source": [
        "old_columns = train_df.columns"
      ],
      "execution_count": null,
      "outputs": []
    },
    {
      "cell_type": "code",
      "metadata": {
        "id": "Jd4vs6jtfZ40"
      },
      "source": [
        "old_columns = old_columns.drop('Фейк')"
      ],
      "execution_count": null,
      "outputs": []
    },
    {
      "cell_type": "code",
      "metadata": {
        "id": "V9CzYle4faxi",
        "outputId": "57814d4c-fad5-4180-8016-c367493c7521",
        "colab": {
          "base_uri": "https://localhost:8080/",
          "height": 104
        }
      },
      "source": [
        "old_columns"
      ],
      "execution_count": null,
      "outputs": [
        {
          "output_type": "execute_result",
          "data": {
            "text/plain": [
              "Index(['Id', 'Название', 'Место', 'Отдел', 'Зарплата', 'Описание компании',\n",
              "       'Описание вакансии', 'Требования', 'Соцпакет', 'Дистанционно',\n",
              "       'Вопросы', 'Тип занятости', 'Опыт', 'Образование', 'Индустрия',\n",
              "       'Позиция'],\n",
              "      dtype='object')"
            ]
          },
          "metadata": {
            "tags": []
          },
          "execution_count": 19
        }
      ]
    },
    {
      "cell_type": "markdown",
      "metadata": {
        "id": "GglvwXFO15eT"
      },
      "source": [
        "Все пропуски в данных заменим на пустую строку"
      ]
    },
    {
      "cell_type": "code",
      "metadata": {
        "id": "y5EgTqKFfkfx"
      },
      "source": [
        "train_df.fillna('', inplace=True)"
      ],
      "execution_count": null,
      "outputs": []
    },
    {
      "cell_type": "code",
      "metadata": {
        "id": "49Dy11GWf238",
        "outputId": "7524b5ec-e2de-4133-f8d8-bd13f7d79b3f",
        "colab": {
          "base_uri": "https://localhost:8080/",
          "height": 438
        }
      },
      "source": [
        "train_df.info()"
      ],
      "execution_count": null,
      "outputs": [
        {
          "output_type": "stream",
          "text": [
            "<class 'pandas.core.frame.DataFrame'>\n",
            "RangeIndex: 10728 entries, 0 to 10727\n",
            "Data columns (total 17 columns):\n",
            " #   Column             Non-Null Count  Dtype \n",
            "---  ------             --------------  ----- \n",
            " 0   Id                 10728 non-null  int64 \n",
            " 1   Название           10728 non-null  object\n",
            " 2   Место              10728 non-null  object\n",
            " 3   Отдел              10728 non-null  object\n",
            " 4   Зарплата           10728 non-null  object\n",
            " 5   Описание компании  10728 non-null  object\n",
            " 6   Описание вакансии  10728 non-null  object\n",
            " 7   Требования         10728 non-null  object\n",
            " 8   Соцпакет           10728 non-null  object\n",
            " 9   Дистанционно       10728 non-null  object\n",
            " 10  Вопросы            10728 non-null  object\n",
            " 11  Тип занятости      10728 non-null  object\n",
            " 12  Опыт               10728 non-null  object\n",
            " 13  Образование        10728 non-null  object\n",
            " 14  Индустрия          10728 non-null  object\n",
            " 15  Позиция            10728 non-null  object\n",
            " 16  Фейк               10728 non-null  int64 \n",
            "dtypes: int64(2), object(15)\n",
            "memory usage: 1.4+ MB\n"
          ],
          "name": "stdout"
        }
      ]
    },
    {
      "cell_type": "markdown",
      "metadata": {
        "id": "60KU-ARv19-T"
      },
      "source": [
        "Теперь объединим значения из выбранных колонок **columns_to_text** в одну строку и запишем ее в новую колонку **text_data**"
      ]
    },
    {
      "cell_type": "code",
      "metadata": {
        "id": "v-p25OE-f5Ot"
      },
      "source": [
        "train_df['text_data'] = train_df[columns_to_text].agg(' '.join, axis=1)"
      ],
      "execution_count": null,
      "outputs": []
    },
    {
      "cell_type": "code",
      "metadata": {
        "id": "k-63qmU-npsv"
      },
      "source": [
        "from pprint import pprint"
      ],
      "execution_count": null,
      "outputs": []
    },
    {
      "cell_type": "markdown",
      "metadata": {
        "id": "sz1f_yl02ZAE"
      },
      "source": [
        "Вот что у нас получилось"
      ]
    },
    {
      "cell_type": "code",
      "metadata": {
        "id": "5l1ERWONnjyM",
        "outputId": "9fb92695-6916-4d6b-bc55-ed0c999e401c",
        "colab": {
          "base_uri": "https://localhost:8080/",
          "height": 1000
        }
      },
      "source": [
        "for i in range(10):\n",
        "    pprint(train_df['text_data'][i])\n",
        "    print()"
      ],
      "execution_count": null,
      "outputs": [
        {
          "output_type": "stream",
          "text": [
            "('Reporter, Agri Investor Full-time Office positions US, ,  There are no '\n",
            " 'screening questions PEI Media\\xa0'\n",
            " '(#URL_4cffe430b8da4c0d7e6074d11e638d28a1e165c8782b891e111fc17606c3d961#) '\n",
            " 'provides a range of highly respected publications and market leading events '\n",
            " 'to its financial sector audience. The\\xa0leading information provider in '\n",
            " 'private capital markets, PEI Media also has a strong international presence, '\n",
            " 'with offices in London, New York and Hong Kong. Seeking savvy business '\n",
            " 'reporter Are you a news-hungry journalist? Have a passion for finance, a '\n",
            " 'talent for breaking news, networking and developing sophisticated sources?If '\n",
            " 'so, there’s an exciting full-time reporter position available with PEI '\n",
            " 'Media, the leading global B2B financial publishing and information group '\n",
            " 'focused exclusively on alternative asset classes.Based in Manhattan, this '\n",
            " 'opening is a rare opportunity for an ambitious individual seeking to advance '\n",
            " 'their career in one of the most dynamic segments\\xa0of global\\xa0finance.The '\n",
            " 'position is tied to\\xa0Agri Investor '\n",
            " '(#URL_a2fcb2906ec9e228792ec6fd689398146109ba55c512a7a9c45b9224c88c1da0#), a '\n",
            " 'growing online news and intelligence platform covering private markets '\n",
            " 'investment in agriculture and agribusiness.\\xa0 The successful candidate '\n",
            " 'should have a bachelor’s degree or equivalent and at least three years of\\xa0'\n",
            " 'journalism or related writing/reporting experience. A\\xa0demonstrable\\xa0'\n",
            " 'passion for\\xa0business,\\xa0finance\\xa0and investment is essential, as is '\n",
            " 'the ability to work both independently and as part of a global '\n",
            " 'team.Resilience under pressure – remaining focused in the face of competing '\n",
            " 'priorities to ensure key deadlines are met – is key. The individual\\xa0'\n",
            " 'should also be a gifted networker, who is willing and able to travel\\xa0and '\n",
            " 'attend industry-related events; engaging constantly with the markets we '\n",
            " 'cover is a core requirement. Fluency in foreign languages and multimedia '\n",
            " 'reporting skills are a plus.')\n",
            "\n",
            "('Software Engineer Full-time Office positions US, VA, Herndon There are no '\n",
            " 'screening questions Roka Security is a boutique security firm that '\n",
            " 'specializes in full-scale network protection and defending against advanced, '\n",
            " 'targeted attacks. Our staff members have background in governmental and '\n",
            " 'intelligence fields as well as large-scale data center and network '\n",
            " 'deployments.We leverage our in-depth experience to aid our customers in '\n",
            " \"protecting their data, and their intellectual property, andtheir customer's \"\n",
            " \"data, We help our clients with the full breadth of services whether it's \"\n",
            " 'consulting on general security issues or performing security assessments or '\n",
            " 'assisting them with their latest network design or datacenter build-out. We '\n",
            " 'also provide the full breadth of managed services including managed security '\n",
            " 'perimeters, Managed Infrastructure / private cloud, or 24x7 security '\n",
            " 'monitoring in our state-of-the-art Security Operations Center. Roka Security '\n",
            " 'is looking for Software Engineers with a variety of talents. \\xa0The '\n",
            " 'position is for a full time employee at our office in Herndon, Virginia. \\xa0'\n",
            " 'We are looking for both hourly and salaried positions.There is a large '\n",
            " 'security component to all of our software, so a background in computer '\n",
            " 'security is a plus. \\xa0We are looking for people to help us build mobile, '\n",
            " 'desktop, and server based application. \\xa0We are interesting in development '\n",
            " 'languages ranging from scripting and C, to mobile development in iOS \\xa0and '\n",
            " 'Android platforms. ')\n",
            "\n",
            "('Structural Engineer  Office positions NL, ZH, Rotterdam Screening questions '\n",
            " 'are present  Job tasks:Analyse project specifications on structural design '\n",
            " 'related project items and define the scope of work;Prepare design '\n",
            " 'calculations for all structural design work within the scope, budget and '\n",
            " 'schedule defined at the start of the project. Main emphasis should be to '\n",
            " 'minimise fabrication cost and vessel time;Prepare procedures for using and '\n",
            " 'testing the installation aids and discuss these procedures with the offshore '\n",
            " 'personnel responsible for the execution and the project team;Perform '\n",
            " 'detailed calculations using the appropriate in-house tools;Review '\n",
            " 'subcontractor equipment design and installation methods;Co-ordinate '\n",
            " 'fabrication work of installation aids fabricated in-house or by a '\n",
            " 'subcontractor when required;Assist the Field Engineer onshore or offshore '\n",
            " 'when required during the execution phase of the project.Responsible for the '\n",
            " 'hand-over to the Field Engineer;Check reports of structural design work '\n",
            " 'performed within the Engineering Department. Job requirements:HTS/TU Civil '\n",
            " 'Engineering or Mechanical Engineering;Minimum of 3 years experience, '\n",
            " 'preferably in offshore engineering;Good knowledge of Windows and MS Office '\n",
            " 'applications;Good command of the English language, both written and '\n",
            " 'spoken;Prepared to work offshore occasionally.')\n",
            "\n",
            "('Senior Publishing Specialist   Office positions US, ,  There are no '\n",
            " 'screening questions  The Senior Publishing Specialist will be part of the '\n",
            " 'Regulatory Operations Publishing Group and to ensure that dossier is '\n",
            " 'prepared ready to submit to the FDA and other agencies. This includes,\\xa0'\n",
            " 'Publishing(Bookmarking and Hyperlinking) and Peer Reviewing different types '\n",
            " 'of document like (eg Clinical Study Report, Annual Report, Protocol, '\n",
            " 'Amendments, PSUR, DMF, IMPD, CRFs and eCRF Pre-Meeting packages, '\n",
            " 'Labeling)\\xa0Knowledge in building different types of submission.\\xa0Peer '\n",
            " 'Reviewing of other group members’ documents.\\xa0Experience in publishing the '\n",
            " 'documents globally.\\xa0Knowledge in preparing Paper submission, scanning '\n",
            " 'documents and Printing Desk copies (Internal or Health Authority).\\xa0'\n",
            " 'Experience in formatting documents as per Eisai Standards.  Minimum of 3 – 4 '\n",
            " 'years experience in Regulatory Affairs publishing and reviewing the '\n",
            " 'documents\\xa0in a pharmaceutical environment, with strong familiarity with '\n",
            " 'regulatory eCTD submission process.\\xa0Must be highly proficient in '\n",
            " 'Microsoft office, Adobe Acrobat, ISI writer and ISI Toolbox (with proven\\xa0'\n",
            " 'background in bookmarking and Hyperlink, page stamp, masking and watermarks '\n",
            " 'etc,).\\xa0Knowledge of eCTD submission eCTD Validator, eCTD Viewer and Life '\n",
            " 'Cycle Management\\xa0Experience in using different application like '\n",
            " 'viewpoint, Coredossier or eCTDExpress etc\\xa0Knowledge in scanning '\n",
            " 'document.\\xa0Knowledge in FDA &amp; ICH Guidance’s\\xa0Must be able to do '\n",
            " 'multi-task and work well under tight timeliness. ')\n",
            "\n",
            "('Sales Representative   Office positions CA, BC, Vancouver Screening '\n",
            " 'questions are present  BCCC Enterprises provides management consulting '\n",
            " 'services for Commissionaires BC, Kinetic Security and Lexxon '\n",
            " 'Training.\\xa0\\xa0Position Overview\\xa0As the Sales Representative your main '\n",
            " 'focus will be on all aspects of the sales cycle. You are responsible for the '\n",
            " 'development and retention of new business leading to revenue growth within '\n",
            " 'the Fraser Valley territory. The primary focus of this position is lead '\n",
            " 'generation, provide quotes on services required, close contracts and provide '\n",
            " 'account management services. This position is required to be home-based, '\n",
            " 'ideally in the Fraser Valley and reports to the Director of Business '\n",
            " 'Development Key Responsibilities:Contribute to the financial success of the '\n",
            " 'organization by coordinating and monitoring leads through the sales cycle to '\n",
            " 'close.Qualify leads and generate proposals to close the sale on various '\n",
            " 'services; primarily Security, Enforcement, Training, and Identification '\n",
            " 'Services.Introduce new services and expand business opportunities within '\n",
            " 'existing client accountsConduct cold calls to gain leads and generate '\n",
            " 'businessTravel to client sites to hold meetings, make sales presentations '\n",
            " 'and gather informationMaintain an active sales pipelineAccount Management of '\n",
            " 'newly established accounts, maintaining long-term sales relationships, '\n",
            " 'provide contract status reporting and cross selling additional servicesTrack '\n",
            " 'sales and status reports on leadsRespond to internal sales leads to identify '\n",
            " 'opportunities and create sales strategiesAnalyze price quotes against '\n",
            " 'competitorsSupport sales and marketing programs by maintaining/building '\n",
            " 'databases and client lists as well as participating in any applicable '\n",
            " 'marketing campaigns and or tradeshows.Maintain CRM system with account '\n",
            " 'information and sales pipelineQualifications:Working towards or completion '\n",
            " 'of a Diploma or Degree in Business Administration or Marketing, and/or '\n",
            " \"equivalent work experience2-3 years' work experience within a client focused \"\n",
            " 'sales environmentProven sales and relationship building skills; comfortable '\n",
            " 'with cold calling using a warm approach and has well developed \"closing\" '\n",
            " 'techniquesHigh accuracy and attention to detail and an ability to '\n",
            " 'multi-taskExcellent written and verbal communication skills with '\n",
            " 'professional demeanor over the telephoneExcellent presentation and '\n",
            " 'interpersonal skillsStrong time management and organizational skills with '\n",
            " 'the ability to work in an environment with shifting priorities and minimal '\n",
            " 'supervisionExcellent customer service and problem solving skillsSolid '\n",
            " 'project management and research skillsDemonstrated self-starter with a '\n",
            " 'positive can-do attitude, can work independently or as a collaborative team '\n",
            " 'playerProfessional appearance and conduct to positively represent the '\n",
            " 'companyAbility to demonstrate good judgment and a high level of '\n",
            " 'professionalism in dealing with peopleStrong computer skills including data '\n",
            " 'base management and proficiency in MS Office programs including Word, Excel '\n",
            " 'and AccessCompletion of successful criminal record check and security '\n",
            " 'clearances are required.')\n",
            "\n",
            "('Sales & Support role Full-time Office positions GB, LND, Westminster '\n",
            " 'Screening questions are present  We are a small and successful satellite '\n",
            " 'telecoms company, offering both hardware and airtime to a global, diverse '\n",
            " 'customer base.We are currently looking to recruit a self-motivated, '\n",
            " 'adaptable and enthusiastic candidate to a multi-task position in our London '\n",
            " 'office,\\xa0located near Oxford Circus tube station.The\\xa0role\\xa0'\n",
            " 'includes\\xa0Sales, Order preparation, Customer after-sales\\xa0support\\xa0and '\n",
            " 'general administration.Excellent written and oral communication skills and a '\n",
            " 'good telephone manner are essentialExperience in having already worked in '\n",
            " 'the technology sector preferred.We offer a competitive salary. ')\n",
            "\n",
            "('SEO Analysis Full-time Office positions US, CA, San Mateo Screening '\n",
            " 'questions are present Bright Edge and Aptitude Staffing Solutions have '\n",
            " 'partnered up in an effort to streamline the hiring process and provide a '\n",
            " 'more efficient and effective recruitng model.\\xa0 Our focus is to help '\n",
            " 'develop and achieve your career goals while makeing a solid geographical, '\n",
            " 'cultural and professional fiit when leveraging your career into your new and '\n",
            " 'exciting professional venture!BrightEdge today is over 180 employees strong, '\n",
            " 'and continuously growing. BrightEdge has over 8400 brands and 650 direct '\n",
            " 'customers, and has lead the market in SEO innovation. The new headquarters '\n",
            " \"reflect BrightEdge's growth and the maturity of the company, with a sleek \"\n",
            " \"and modern space in the heart of Silicon Valley.Stay tuned, as BrightEdge's \"\n",
            " 'story is only beginning.\\xa0 Seeking an SEO Analyst to drive traffic from '\n",
            " 'organic search.\\xa0 The ideal candidate will be extremely detail oriented '\n",
            " 'with SEO or online Marketing Campaign Management experience.\\xa0 This is '\n",
            " 'great ground floor opportunity to join a Nascent Digital Marketing team to '\n",
            " 'establish new processes.\\xa0 You will work with accomplished B2C and B2B '\n",
            " 'digital marketers to bring your expertise to this best-in-class team.\\xa0'\n",
            " 'Responsibilities:\\xa0Owning and growing our organic content '\n",
            " 'marketing.Internal usage of company platform.Analysis of organic rankings '\n",
            " 'volatility.Backlink management.Landing page optimization for search engine '\n",
            " 'rankings.Tracking social metrics.\\xa0 Qualifications:\\xa02+ years of '\n",
            " 'experience with proven SEO results.Solid understanding of SEO and '\n",
            " 'HTML.Strong forensics, problem solving, and analytical skills.Ability to '\n",
            " 'work cross-functionally with product, marketing, and design '\n",
            " 'teams.Proficiency in site analytics, Google Analytics '\n",
            " 'preferred.Self-starter/self-motivated, capable of staying on track and '\n",
            " 'pursuing solutions without supervision.Ability to work under pressure, meet '\n",
            " 'deadlines and handle multiple projects simultaneously.\\xa0Preferred '\n",
            " 'Qualifications:\\xa0Experience in a B2B SaaS company.Experience with Drupal, '\n",
            " 'Wordpress and Marketo.Engineering background.\\xa0')\n",
            "\n",
            "('Customer Service Associate - Part Time  Part-time Office positions US, KY, '\n",
            " 'Louisville There are no screening questions Novitex Enterprise Solutions, '\n",
            " 'formerly Pitney Bowes Management Services, delivers innovative document and '\n",
            " 'communications management solutions that help companies around the world '\n",
            " 'drive business process efficiencies, increase productivity, reduce costs and '\n",
            " 'improve customer satisfaction. For almost 30 years, clients have turned to '\n",
            " 'us to integrate and optimize their enterprise-wide business processes to '\n",
            " 'empower employees, increase productivity and maximize results. As a trusted '\n",
            " 'partner, we continually focus on delivering secure, technology-enabled '\n",
            " \"document and communications solutions that improve our clients' work \"\n",
            " 'processes, enhance their customer interactions and drive growth. The '\n",
            " 'Customer Service Associate will be based in Louisville, KY. The right '\n",
            " 'candidate will be an integral part of our talented team, supporting our '\n",
            " 'continued growth.Responsibilities:Perform various Mail Center activities '\n",
            " '(sorting, metering, folding, inserting, delivery, pickup, etc.)Lift heavy '\n",
            " 'boxes, files or paper when neededMaintain the highest levels of customer '\n",
            " 'care while demonstrating a friendly and cooperative attitudeDemonstrate '\n",
            " 'flexibility in satisfying customer demands in a high volume, production '\n",
            " 'environmentConsistently adhere to business procedure guidelinesAdhere to all '\n",
            " 'safety proceduresTake direction from supervisor or site managerMaintain all '\n",
            " 'logs and reporting documentation; attention to detailParticipate in '\n",
            " 'cross-training and perform other duties as assigned (Filing, outgoing '\n",
            " 'shipments, etc)Operating mailing, copy or scanning equipmentShipping &amp; '\n",
            " 'ReceivingHandle time-sensitive material like confidential, urgent '\n",
            " 'packagesPerform other tasks as assignedScanning incoming mail to '\n",
            " 'recipientsPerform file purges and pullsCreate files and ship filesProvide '\n",
            " 'backfill when neededEnter information daily into spreadsheetsIdentify '\n",
            " 'charges and match them to billingSort and deliver mail, small packages '\n",
            " 'Minimum Requirements:Minimum of 6 months customer service related experience '\n",
            " 'requiredHigh school diploma or equivalent (GED) requiredPreferred '\n",
            " 'Qualifications:Keyboarding and windows environment PC skills required (Word, '\n",
            " 'Excel and PowerPoint preferred)Experience running mail posting equipment a '\n",
            " 'plusExcellent communication skills both verbal and writtenLifting up to 55 '\n",
            " 'lbs with or without accommodationsWillingness and availability to work '\n",
            " 'additional hours if assignedWillingness to submit to a pre-employment drug '\n",
            " 'screening and criminal background checkAbility to effectively work '\n",
            " 'individually or in a team environmentCompetency in performing multiple '\n",
            " \"functional tasksAbility to meet employer's attendance policy\")\n",
            "\n",
            "('High School Physics/Living Environment Teacher Full-time Office positions '\n",
            " 'US, NY, Albany Screening questions are present The Albany Charter School '\n",
            " 'Network is a family of charter schools in the City of Albany that works to '\n",
            " 'prepare children for meaningful future lives – as purposeful, productive, '\n",
            " 'and participatory citizens of New York, the United States, and the world.Our '\n",
            " 'strong and unified movement of charter schools collaborates with parents to '\n",
            " 'provide for all students a vibrant academic environment and dynamic learning '\n",
            " 'experiences that create what we call “Future Life Opportunity” – a pathway '\n",
            " 'to success in college, career, and community life.The Albany Charter School '\n",
            " 'Network and the schools that comprise our community are always looking for '\n",
            " 'highly committed and highly skilled people to come and join us in the '\n",
            " 'exciting and meaningful work of helping create Future Life Opportunity for '\n",
            " 'this generation of students.Please take the time to look at the various open '\n",
            " 'positions on our site. If there is a role for which you think you would be a '\n",
            " 'great match, then we encourage you to learn more about it and submit an '\n",
            " 'application. Do you have what it takes to cultivate the next generation of '\n",
            " 'students with both the disciplined expertise and creative imagination to '\n",
            " 'contribute effectively to the betterment of the global society? If so, the '\n",
            " 'Albany Charter School Network may be the place for you! We are looking for a '\n",
            " 'High School Physics and Living Environment Teacher to join Green Tech High '\n",
            " 'Charter School who is committed to helping our students write like Frederick '\n",
            " 'Douglass and reason like Albert Einstein.POSITION SUMMARYAs a High School '\n",
            " 'Physics/Living Environment Teacher, you will work collaboratively with other '\n",
            " 'science instructional staff instructional staff and the instructional leader '\n",
            " 'to champion a high-quality education for each and every student while '\n",
            " 'cultivating success for future life opportunities in college, career, and '\n",
            " 'community. You will participate in both horizontal and vertical planning to '\n",
            " 'ensure every student’s academic needs are met. You will also develop '\n",
            " 'strategies for the design, delivery, modification, and extension of Common '\n",
            " 'Core State Standards-aligned curriculum and instruction, allowing all '\n",
            " 'students to engage in active academic challenge and growth. As you work '\n",
            " 'collaboratively with your peers to foster a thirst for lifelong learning, '\n",
            " 'you will be responsible for your students’ performance and your own personal '\n",
            " 'and professional growth.ABOUT THE NETWORKThe Albany Charter School Network '\n",
            " 'is\\u2028'\n",
            " ' a family of charter schools in the city of Albany that works to prepare '\n",
            " 'students for meaningful future lives – as purposeful, productive, and '\n",
            " 'participatory citizens of New York, the United States, and the world. Our '\n",
            " 'strong and unified movement of charter schools collaborates with parents to '\n",
            " 'provide all students a vibrant academic environment and dynamic learning '\n",
            " 'experience that create what we call “Future Life Opportunity” – a pathway to '\n",
            " 'success in college, career, and community life.\\xa0 We create this '\n",
            " 'environment and these experiences with a focus on Choice, Reliability, '\n",
            " 'Quality, and Growth.ABOUT GREEN TECH CHARTER HIGH SCHOOL\\xa0Green Tech High '\n",
            " 'Charter School prepares young men to complete high school with a Regents '\n",
            " 'Diploma so they will have the opportunity to attend college or choose an '\n",
            " 'alternative, responsible career path as they enter adulthood.\\xa0 Green Tech '\n",
            " 'High provides a complete high school curriculum, backed by a philosophy and '\n",
            " 'culture that ensures every student will attain the skills and coursework '\n",
            " 'necessary for a Regents Diploma, and does so with a high graduation rate.\\xa0'\n",
            " 'HIGH SCHOOL PHYSICS &amp; LIVING ENVIRONMENT TEACHER JOB DESCRIPTION '\n",
            " 'DETAILSWorks with the instructional leader, school leadership team, and '\n",
            " 'instructional staff to establish a Common Core Standards-oriented curriculum '\n",
            " 'that engages students in active academic challenge and growth.Cultivates a '\n",
            " 'culture of high-expectations-great-outcomes learning in which students can '\n",
            " 'achieve the highest standards of success.Develops collaborative '\n",
            " 'relationships with colleagues and school leadership to ensure quality '\n",
            " 'teaching and learning for all students.Through professional development, '\n",
            " 'serves as the lead learner while building knowledge and expertise in physics '\n",
            " 'and living environment.\\xa0Engages in active classroom management to ensure '\n",
            " 'students represent their peers and teachers with excellence.Develops and '\n",
            " 'maintains open communication with parents and families.Uses predictive '\n",
            " 'analysis to design, deliver, and modify teaching practices to support '\n",
            " 'student growth and learning.Analyzes various student performance '\n",
            " 'assessments, identifies areas of growth, and implements appropriate '\n",
            " 'curriculum and instructional modifications to support student development '\n",
            " 'and advancement. QUALIFICATIONSValid Certification in Physics, Living '\n",
            " 'Environment or General Science, grades 7-12.Demonstrated ability to work in '\n",
            " 'a collaborative environment with key stakeholders, including faculty, '\n",
            " 'students, and parents.Mission-driven with a genuine commitment to fostering '\n",
            " 'future life opportunities for all students.Excellent communication skills, '\n",
            " 'both verbal and written.')\n",
            "\n",
            "('Front-End Developer  Full-time Office positions BE, , Brussels There are no '\n",
            " 'screening questions EUROPEAN DYNAMICS '\n",
            " '(#URL_c66532ffa1ce76ab447da6774719060c42c584edbf44d74cdb94fc4ac219ca45#) is '\n",
            " 'a leading European Software, Information and Communication Technologies '\n",
            " 'company, operating internationally (Athens, Brussels, Luxembourg, '\n",
            " 'Copenhagen, Berlin, Rome, Stockholm, London, Nicosia, Helsinki, Valetta, '\n",
            " 'etc). The company employs over 600 engineers and IT experts. We design and '\n",
            " 'develop software applications using integrated, state-of-the-art technology. '\n",
            " 'Our current IT and telecoms projects have a value exceeding 250 million '\n",
            " 'EURO. EUROPEAN DYNAMICS is a renowned supplier of IT services to European '\n",
            " 'Union Institutions, international organizations, European Agencies and '\n",
            " 'national government Administrations all over Europe. We currently have a '\n",
            " 'vacancy for a Front-End Developer, fluent in English, to offer his/her '\n",
            " 'services as an expert who will be based in Brussels. The work will be '\n",
            " 'carried out either in the company’s premises or on site at the customer '\n",
            " 'premises. In the context of the first assignment, the successful candidate '\n",
            " 'will be integrated in the Development Team of the company that will closely '\n",
            " 'cooperate with a major client’s IT team on site.\\xa0Your tasks:Design and '\n",
            " 'develop web user\\xa0 interfaces based on jQuery;Technical analysis and '\n",
            " 'maintenance work for back and front end services;Testing, deployment and '\n",
            " 'development of applications that reflect specifications;Provision of '\n",
            " 'assistance with the implementation of the technical architecture;Definition, '\n",
            " 'production of technical documentation and integration of technological '\n",
            " 'components and integration with other applications. Your skills:Minimum 10 '\n",
            " 'years of combined relevant University Studies and experience in IT;Minimum 6 '\n",
            " 'years of experience in Web design and development using JavaScript, JQuery '\n",
            " '(Kendo UI), SQL, Oracle PL/SQL, UML, CSS,\\xa0 XHTML, \\xa0SOAP, REST and '\n",
            " 'XML;Experience with JAVA and Web application scripting languages such as '\n",
            " 'Coldfusion, .Net and PHP;Knowledge of XSLT 2.0 and XPath 2.0 is considered '\n",
            " 'an asset;Excellent command of English;Knowledge of French is an asset.\\xa0')\n",
            "\n"
          ],
          "name": "stdout"
        }
      ]
    },
    {
      "cell_type": "markdown",
      "metadata": {
        "id": "mKFpcsCk3LLS"
      },
      "source": [
        "Теперь можем разделить данные, выделив для валидации 1024 примера"
      ]
    },
    {
      "cell_type": "code",
      "metadata": {
        "id": "RTRFp2nQXhUu"
      },
      "source": [
        "from sklearn.model_selection import train_test_split"
      ],
      "execution_count": null,
      "outputs": []
    },
    {
      "cell_type": "code",
      "metadata": {
        "id": "XYa6MMWjXhU0"
      },
      "source": [
        "train_df, val_df = train_test_split(train_df, test_size=1024, random_state=42)"
      ],
      "execution_count": null,
      "outputs": []
    },
    {
      "cell_type": "code",
      "metadata": {
        "id": "sexu3-A1pcxc",
        "outputId": "a2badd55-f520-40ce-a309-acdec9f629cf",
        "colab": {
          "base_uri": "https://localhost:8080/",
          "height": 455
        }
      },
      "source": [
        "val_df.info()"
      ],
      "execution_count": null,
      "outputs": [
        {
          "output_type": "stream",
          "text": [
            "<class 'pandas.core.frame.DataFrame'>\n",
            "Int64Index: 1024 entries, 592 to 6311\n",
            "Data columns (total 18 columns):\n",
            " #   Column             Non-Null Count  Dtype \n",
            "---  ------             --------------  ----- \n",
            " 0   Id                 1024 non-null   int64 \n",
            " 1   Название           1024 non-null   object\n",
            " 2   Место              1024 non-null   object\n",
            " 3   Отдел              1024 non-null   object\n",
            " 4   Зарплата           1024 non-null   object\n",
            " 5   Описание компании  1024 non-null   object\n",
            " 6   Описание вакансии  1024 non-null   object\n",
            " 7   Требования         1024 non-null   object\n",
            " 8   Соцпакет           1024 non-null   object\n",
            " 9   Дистанционно       1024 non-null   object\n",
            " 10  Вопросы            1024 non-null   object\n",
            " 11  Тип занятости      1024 non-null   object\n",
            " 12  Опыт               1024 non-null   object\n",
            " 13  Образование        1024 non-null   object\n",
            " 14  Индустрия          1024 non-null   object\n",
            " 15  Позиция            1024 non-null   object\n",
            " 16  Фейк               1024 non-null   int64 \n",
            " 17  text_data          1024 non-null   object\n",
            "dtypes: int64(2), object(16)\n",
            "memory usage: 152.0+ KB\n"
          ],
          "name": "stdout"
        }
      ]
    },
    {
      "cell_type": "markdown",
      "metadata": {
        "id": "vRoZC6fJ3W5D"
      },
      "source": [
        "Удалим все старые колонки и наши валидационные данные готовы!"
      ]
    },
    {
      "cell_type": "code",
      "metadata": {
        "id": "PutJVkl8pgL7"
      },
      "source": [
        "val_df.drop(columns=old_columns, inplace=True)"
      ],
      "execution_count": null,
      "outputs": []
    },
    {
      "cell_type": "code",
      "metadata": {
        "id": "6G81gFnDpmzd",
        "outputId": "6e17ce53-3a45-4df8-de04-e8e985d5a772",
        "colab": {
          "base_uri": "https://localhost:8080/",
          "height": 400
        }
      },
      "source": [
        "val_df"
      ],
      "execution_count": null,
      "outputs": [
        {
          "output_type": "execute_result",
          "data": {
            "text/html": [
              "<div>\n",
              "<style scoped>\n",
              "    .dataframe tbody tr th:only-of-type {\n",
              "        vertical-align: middle;\n",
              "    }\n",
              "\n",
              "    .dataframe tbody tr th {\n",
              "        vertical-align: top;\n",
              "    }\n",
              "\n",
              "    .dataframe thead th {\n",
              "        text-align: right;\n",
              "    }\n",
              "</style>\n",
              "<table border=\"1\" class=\"dataframe\">\n",
              "  <thead>\n",
              "    <tr style=\"text-align: right;\">\n",
              "      <th></th>\n",
              "      <th>Фейк</th>\n",
              "      <th>text_data</th>\n",
              "    </tr>\n",
              "  </thead>\n",
              "  <tbody>\n",
              "    <tr>\n",
              "      <th>592</th>\n",
              "      <td>0</td>\n",
              "      <td>Technical Site Representative  Full-time Offic...</td>\n",
              "    </tr>\n",
              "    <tr>\n",
              "      <th>608</th>\n",
              "      <td>0</td>\n",
              "      <td>Communications / Media Relations  Full-time Of...</td>\n",
              "    </tr>\n",
              "    <tr>\n",
              "      <th>424</th>\n",
              "      <td>0</td>\n",
              "      <td>Customer Support Associate  Office positions E...</td>\n",
              "    </tr>\n",
              "    <tr>\n",
              "      <th>10133</th>\n",
              "      <td>0</td>\n",
              "      <td>Property Manager (LCAM) Full-time Office posit...</td>\n",
              "    </tr>\n",
              "    <tr>\n",
              "      <th>5635</th>\n",
              "      <td>0</td>\n",
              "      <td>Talent Acquisition Specialist USA Full-time Of...</td>\n",
              "    </tr>\n",
              "    <tr>\n",
              "      <th>...</th>\n",
              "      <td>...</td>\n",
              "      <td>...</td>\n",
              "    </tr>\n",
              "    <tr>\n",
              "      <th>5269</th>\n",
              "      <td>0</td>\n",
              "      <td>Marketing Manager Full-time Office positions E...</td>\n",
              "    </tr>\n",
              "    <tr>\n",
              "      <th>7877</th>\n",
              "      <td>0</td>\n",
              "      <td>Healthcare Assistant  Office positions GB, LND...</td>\n",
              "    </tr>\n",
              "    <tr>\n",
              "      <th>4076</th>\n",
              "      <td>0</td>\n",
              "      <td>Clinical Psychotherapist Full-time Office posi...</td>\n",
              "    </tr>\n",
              "    <tr>\n",
              "      <th>106</th>\n",
              "      <td>0</td>\n",
              "      <td>Accountant / Office Manager Full-time Office p...</td>\n",
              "    </tr>\n",
              "    <tr>\n",
              "      <th>6311</th>\n",
              "      <td>1</td>\n",
              "      <td>Manufacturing Engineer   Office positions US, ...</td>\n",
              "    </tr>\n",
              "  </tbody>\n",
              "</table>\n",
              "<p>1024 rows × 2 columns</p>\n",
              "</div>"
            ],
            "text/plain": [
              "       Фейк                                          text_data\n",
              "592       0  Technical Site Representative  Full-time Offic...\n",
              "608       0  Communications / Media Relations  Full-time Of...\n",
              "424       0  Customer Support Associate  Office positions E...\n",
              "10133     0  Property Manager (LCAM) Full-time Office posit...\n",
              "5635      0  Talent Acquisition Specialist USA Full-time Of...\n",
              "...     ...                                                ...\n",
              "5269      0  Marketing Manager Full-time Office positions E...\n",
              "7877      0  Healthcare Assistant  Office positions GB, LND...\n",
              "4076      0  Clinical Psychotherapist Full-time Office posi...\n",
              "106       0  Accountant / Office Manager Full-time Office p...\n",
              "6311      1  Manufacturing Engineer   Office positions US, ...\n",
              "\n",
              "[1024 rows x 2 columns]"
            ]
          },
          "metadata": {
            "tags": []
          },
          "execution_count": 29
        }
      ]
    },
    {
      "cell_type": "markdown",
      "metadata": {
        "id": "oYuVXVZP3dQF"
      },
      "source": [
        "А вот в тренировочных надо еще устранить дисбаланс. \n",
        "\n",
        "Выделим отдельно только фейковые объявления"
      ]
    },
    {
      "cell_type": "code",
      "metadata": {
        "id": "OEG9sCNZqPX7"
      },
      "source": [
        "fake_df = train_df[train_df['Фейк']==1]"
      ],
      "execution_count": null,
      "outputs": []
    },
    {
      "cell_type": "code",
      "metadata": {
        "id": "pr10HP8aqRkr",
        "outputId": "7428bffe-f7ae-4c58-90fa-fc7c33e3ed27",
        "colab": {
          "base_uri": "https://localhost:8080/",
          "height": 455
        }
      },
      "source": [
        "fake_df.info()"
      ],
      "execution_count": null,
      "outputs": [
        {
          "output_type": "stream",
          "text": [
            "<class 'pandas.core.frame.DataFrame'>\n",
            "Int64Index: 466 entries, 9413 to 2433\n",
            "Data columns (total 18 columns):\n",
            " #   Column             Non-Null Count  Dtype \n",
            "---  ------             --------------  ----- \n",
            " 0   Id                 466 non-null    int64 \n",
            " 1   Название           466 non-null    object\n",
            " 2   Место              466 non-null    object\n",
            " 3   Отдел              466 non-null    object\n",
            " 4   Зарплата           466 non-null    object\n",
            " 5   Описание компании  466 non-null    object\n",
            " 6   Описание вакансии  466 non-null    object\n",
            " 7   Требования         466 non-null    object\n",
            " 8   Соцпакет           466 non-null    object\n",
            " 9   Дистанционно       466 non-null    object\n",
            " 10  Вопросы            466 non-null    object\n",
            " 11  Тип занятости      466 non-null    object\n",
            " 12  Опыт               466 non-null    object\n",
            " 13  Образование        466 non-null    object\n",
            " 14  Индустрия          466 non-null    object\n",
            " 15  Позиция            466 non-null    object\n",
            " 16  Фейк               466 non-null    int64 \n",
            " 17  text_data          466 non-null    object\n",
            "dtypes: int64(2), object(16)\n",
            "memory usage: 69.2+ KB\n"
          ],
          "name": "stdout"
        }
      ]
    },
    {
      "cell_type": "markdown",
      "metadata": {
        "id": "1uPEtsxn4EhL"
      },
      "source": [
        "И добавим фейковые данные в наш тренировочный датасет столько раз, чтобы соотношение между настоящими и фейковыми стало примерно одинаковым"
      ]
    },
    {
      "cell_type": "code",
      "metadata": {
        "id": "g6r2N9i-8Wfr"
      },
      "source": [
        "train_df = pd.concat([train_df] + [fake_df]*18, axis=0, ignore_index=True)"
      ],
      "execution_count": null,
      "outputs": []
    },
    {
      "cell_type": "code",
      "metadata": {
        "id": "ujk54A3Ar_r5",
        "outputId": "084973bb-4a61-4266-d674-870d36cea365",
        "colab": {
          "base_uri": "https://localhost:8080/",
          "height": 34
        }
      },
      "source": [
        "train_df.shape"
      ],
      "execution_count": null,
      "outputs": [
        {
          "output_type": "execute_result",
          "data": {
            "text/plain": [
              "(18092, 18)"
            ]
          },
          "metadata": {
            "tags": []
          },
          "execution_count": 33
        }
      ]
    },
    {
      "cell_type": "markdown",
      "metadata": {
        "id": "_k5LVNhb4gi7"
      },
      "source": [
        "Удалим все старые колонки"
      ]
    },
    {
      "cell_type": "code",
      "metadata": {
        "id": "queaJGw7sJMJ"
      },
      "source": [
        "train_df.drop(columns=old_columns, inplace=True)"
      ],
      "execution_count": null,
      "outputs": []
    },
    {
      "cell_type": "code",
      "metadata": {
        "id": "_Xj76MpQsa5k",
        "outputId": "27f8df0b-7732-479d-f941-6f513ad4184d",
        "colab": {
          "base_uri": "https://localhost:8080/",
          "height": 175
        }
      },
      "source": [
        "train_df.info()"
      ],
      "execution_count": null,
      "outputs": [
        {
          "output_type": "stream",
          "text": [
            "<class 'pandas.core.frame.DataFrame'>\n",
            "RangeIndex: 18092 entries, 0 to 18091\n",
            "Data columns (total 2 columns):\n",
            " #   Column     Non-Null Count  Dtype \n",
            "---  ------     --------------  ----- \n",
            " 0   Фейк       18092 non-null  int64 \n",
            " 1   text_data  18092 non-null  object\n",
            "dtypes: int64(1), object(1)\n",
            "memory usage: 282.8+ KB\n"
          ],
          "name": "stdout"
        }
      ]
    },
    {
      "cell_type": "markdown",
      "metadata": {
        "id": "UU2luTO537Gt"
      },
      "source": [
        "Так намного лучше"
      ]
    },
    {
      "cell_type": "code",
      "metadata": {
        "id": "i0ETAx1bsc-g",
        "outputId": "c095d0c2-9adc-4280-f66a-5ee2417bc58d",
        "colab": {
          "base_uri": "https://localhost:8080/",
          "height": 69
        }
      },
      "source": [
        "train_df['Фейк'].value_counts()"
      ],
      "execution_count": null,
      "outputs": [
        {
          "output_type": "execute_result",
          "data": {
            "text/plain": [
              "0    9238\n",
              "1    8854\n",
              "Name: Фейк, dtype: int64"
            ]
          },
          "metadata": {
            "tags": []
          },
          "execution_count": 36
        }
      ]
    },
    {
      "cell_type": "markdown",
      "metadata": {
        "id": "DQbkG9h_vnX1"
      },
      "source": [
        "### Test"
      ]
    },
    {
      "cell_type": "markdown",
      "metadata": {
        "id": "Ysh8MIrA41cQ"
      },
      "source": [
        "Повторяем те же действия с тестовым датасетом.\n",
        "\n",
        "Прочитаем данные"
      ]
    },
    {
      "cell_type": "code",
      "metadata": {
        "id": "hFAUJA9_vpCu"
      },
      "source": [
        "test_df = pd.read_csv('test_data.csv')"
      ],
      "execution_count": null,
      "outputs": []
    },
    {
      "cell_type": "code",
      "metadata": {
        "id": "zGs70D_QvpCx",
        "outputId": "418dc185-b58b-494a-9389-98089b1a02a7",
        "colab": {
          "base_uri": "https://localhost:8080/",
          "height": 534
        }
      },
      "source": [
        "test_df.head()"
      ],
      "execution_count": null,
      "outputs": [
        {
          "output_type": "execute_result",
          "data": {
            "text/html": [
              "<div>\n",
              "<style scoped>\n",
              "    .dataframe tbody tr th:only-of-type {\n",
              "        vertical-align: middle;\n",
              "    }\n",
              "\n",
              "    .dataframe tbody tr th {\n",
              "        vertical-align: top;\n",
              "    }\n",
              "\n",
              "    .dataframe thead th {\n",
              "        text-align: right;\n",
              "    }\n",
              "</style>\n",
              "<table border=\"1\" class=\"dataframe\">\n",
              "  <thead>\n",
              "    <tr style=\"text-align: right;\">\n",
              "      <th></th>\n",
              "      <th>Id</th>\n",
              "      <th>Название</th>\n",
              "      <th>Место</th>\n",
              "      <th>Отдел</th>\n",
              "      <th>Зарплата</th>\n",
              "      <th>Описание компании</th>\n",
              "      <th>Описание вакансии</th>\n",
              "      <th>Требования</th>\n",
              "      <th>Соцпакет</th>\n",
              "      <th>Дистанционно</th>\n",
              "      <th>Вопросы</th>\n",
              "      <th>Тип занятости</th>\n",
              "      <th>Опыт</th>\n",
              "      <th>Образование</th>\n",
              "      <th>Индустрия</th>\n",
              "      <th>Позиция</th>\n",
              "    </tr>\n",
              "  </thead>\n",
              "  <tbody>\n",
              "    <tr>\n",
              "      <th>0</th>\n",
              "      <td>10728</td>\n",
              "      <td>Internet Marketing Specialist</td>\n",
              "      <td>IE, L, Dublin</td>\n",
              "      <td>Marketing</td>\n",
              "      <td>NaN</td>\n",
              "      <td>NaN</td>\n",
              "      <td>This role represents an important position wit...</td>\n",
              "      <td> 3 to 10+ years experience in a similar inter...</td>\n",
              "      <td>RemunerationA highly attractive salary will be...</td>\n",
              "      <td>0</td>\n",
              "      <td>0</td>\n",
              "      <td>NaN</td>\n",
              "      <td>NaN</td>\n",
              "      <td>NaN</td>\n",
              "      <td>NaN</td>\n",
              "      <td>NaN</td>\n",
              "    </tr>\n",
              "    <tr>\n",
              "      <th>1</th>\n",
              "      <td>10729</td>\n",
              "      <td>Business Development</td>\n",
              "      <td>DE, , Berlin</td>\n",
              "      <td>NaN</td>\n",
              "      <td>NaN</td>\n",
              "      <td>We are on a mission: Making cities smarter.Cit...</td>\n",
              "      <td>You have an opinion about how we can make our ...</td>\n",
              "      <td>NaN</td>\n",
              "      <td>NaN</td>\n",
              "      <td>0</td>\n",
              "      <td>1</td>\n",
              "      <td>NaN</td>\n",
              "      <td>NaN</td>\n",
              "      <td>NaN</td>\n",
              "      <td>NaN</td>\n",
              "      <td>NaN</td>\n",
              "    </tr>\n",
              "    <tr>\n",
              "      <th>2</th>\n",
              "      <td>10730</td>\n",
              "      <td>Sonographer - Full and Part Time Opportunities</td>\n",
              "      <td>GB, ,</td>\n",
              "      <td>Ultrasound</td>\n",
              "      <td>NaN</td>\n",
              "      <td>Diagnostic Health deploy and manage high quali...</td>\n",
              "      <td>We are a leading local ultrasound company spec...</td>\n",
              "      <td>Diploma of College of Radiographers or BSc (Ho...</td>\n",
              "      <td>Competative SalaryHours to suit</td>\n",
              "      <td>0</td>\n",
              "      <td>1</td>\n",
              "      <td>Part-time</td>\n",
              "      <td>NaN</td>\n",
              "      <td>Associate Degree</td>\n",
              "      <td>Medical Practice</td>\n",
              "      <td>Health Care Provider</td>\n",
              "    </tr>\n",
              "    <tr>\n",
              "      <th>3</th>\n",
              "      <td>10731</td>\n",
              "      <td>Care Support Worker</td>\n",
              "      <td>GB, EDH, Edinburgh</td>\n",
              "      <td>NaN</td>\n",
              "      <td>NaN</td>\n",
              "      <td>Social Care Alba is the highest graded Care at...</td>\n",
              "      <td>Social Care Alba is the highest quality Care a...</td>\n",
              "      <td>Key Accountabilities would be:To provide indiv...</td>\n",
              "      <td>This is your chance to become part of our cont...</td>\n",
              "      <td>0</td>\n",
              "      <td>1</td>\n",
              "      <td>NaN</td>\n",
              "      <td>Not Applicable</td>\n",
              "      <td>NaN</td>\n",
              "      <td>Hospital &amp; Health Care</td>\n",
              "      <td>NaN</td>\n",
              "    </tr>\n",
              "    <tr>\n",
              "      <th>4</th>\n",
              "      <td>10732</td>\n",
              "      <td>Outside Sales Professional-Springfield</td>\n",
              "      <td>US, IL, Springfield</td>\n",
              "      <td>NaN</td>\n",
              "      <td>NaN</td>\n",
              "      <td>ABC Supply Co., Inc. is the nation’s largest w...</td>\n",
              "      <td>As an Outside Sales Representative, you must h...</td>\n",
              "      <td>Track Record of Sales Success – B2B or B2CNo m...</td>\n",
              "      <td>As an Outside Sales Representative, you will r...</td>\n",
              "      <td>0</td>\n",
              "      <td>0</td>\n",
              "      <td>NaN</td>\n",
              "      <td>NaN</td>\n",
              "      <td>NaN</td>\n",
              "      <td>NaN</td>\n",
              "      <td>NaN</td>\n",
              "    </tr>\n",
              "  </tbody>\n",
              "</table>\n",
              "</div>"
            ],
            "text/plain": [
              "      Id  ...               Позиция\n",
              "0  10728  ...                   NaN\n",
              "1  10729  ...                   NaN\n",
              "2  10730  ...  Health Care Provider\n",
              "3  10731  ...                   NaN\n",
              "4  10732  ...                   NaN\n",
              "\n",
              "[5 rows x 16 columns]"
            ]
          },
          "metadata": {
            "tags": []
          },
          "execution_count": 38
        }
      ]
    },
    {
      "cell_type": "code",
      "metadata": {
        "id": "FwSRub4fvpC1",
        "outputId": "5a32a7a7-505a-4840-c758-c2a1a6071406",
        "colab": {
          "base_uri": "https://localhost:8080/",
          "height": 420
        }
      },
      "source": [
        "test_df.info()"
      ],
      "execution_count": null,
      "outputs": [
        {
          "output_type": "stream",
          "text": [
            "<class 'pandas.core.frame.DataFrame'>\n",
            "RangeIndex: 7152 entries, 0 to 7151\n",
            "Data columns (total 16 columns):\n",
            " #   Column             Non-Null Count  Dtype \n",
            "---  ------             --------------  ----- \n",
            " 0   Id                 7152 non-null   int64 \n",
            " 1   Название           7152 non-null   object\n",
            " 2   Место              7030 non-null   object\n",
            " 3   Отдел              2575 non-null   object\n",
            " 4   Зарплата           1138 non-null   object\n",
            " 5   Описание компании  5890 non-null   object\n",
            " 6   Описание вакансии  7151 non-null   object\n",
            " 7   Требования         6088 non-null   object\n",
            " 8   Соцпакет           4273 non-null   object\n",
            " 9   Дистанционно       7152 non-null   int64 \n",
            " 10  Вопросы            7152 non-null   int64 \n",
            " 11  Тип занятости      5823 non-null   object\n",
            " 12  Опыт               4352 non-null   object\n",
            " 13  Образование        3939 non-null   object\n",
            " 14  Индустрия          5202 non-null   object\n",
            " 15  Позиция            4572 non-null   object\n",
            "dtypes: int64(3), object(13)\n",
            "memory usage: 894.1+ KB\n"
          ],
          "name": "stdout"
        }
      ]
    },
    {
      "cell_type": "markdown",
      "metadata": {
        "id": "yaLq27IA5Cgb"
      },
      "source": [
        "Преобразуем значения в колонках **Дистанционно** и **Вопросы**"
      ]
    },
    {
      "cell_type": "code",
      "metadata": {
        "id": "sbw2A6VdvpC3"
      },
      "source": [
        "test_df['Дистанционно'] = test_df['Дистанционно'].map({1:'Telecommuting positions', 0:'Office positions'})"
      ],
      "execution_count": null,
      "outputs": []
    },
    {
      "cell_type": "code",
      "metadata": {
        "id": "bUEBp4RDvpC4"
      },
      "source": [
        "test_df['Вопросы'] = test_df['Вопросы'].map({1:'Screening questions are present', 0:'There are no screening questions'})"
      ],
      "execution_count": null,
      "outputs": []
    },
    {
      "cell_type": "markdown",
      "metadata": {
        "id": "fcXBncnC5IyF"
      },
      "source": [
        "Заменим пропуски"
      ]
    },
    {
      "cell_type": "code",
      "metadata": {
        "id": "Q36YnO_wvpC7"
      },
      "source": [
        "test_df.fillna('', inplace=True)"
      ],
      "execution_count": null,
      "outputs": []
    },
    {
      "cell_type": "markdown",
      "metadata": {
        "id": "MTE6xSaE5Lxs"
      },
      "source": [
        "Добавим новую колонку с объединенным текстом из выбранных колонок"
      ]
    },
    {
      "cell_type": "code",
      "metadata": {
        "id": "SuySae4Tzjab"
      },
      "source": [
        "test_df['text_data'] = test_df[columns_to_text].agg(' '.join, axis=1)"
      ],
      "execution_count": null,
      "outputs": []
    },
    {
      "cell_type": "markdown",
      "metadata": {
        "id": "S57yX8ao5hVk"
      },
      "source": [
        "Удалим все старые колонки"
      ]
    },
    {
      "cell_type": "code",
      "metadata": {
        "id": "_Bt33kjDvpC_"
      },
      "source": [
        "test_df.drop(columns=old_columns, inplace=True)"
      ],
      "execution_count": null,
      "outputs": []
    },
    {
      "cell_type": "code",
      "metadata": {
        "id": "C7pucWrnvpDA",
        "outputId": "dfce1afc-2b28-4f27-d2eb-b3d9796e4b78",
        "colab": {
          "base_uri": "https://localhost:8080/",
          "height": 157
        }
      },
      "source": [
        "test_df.info()"
      ],
      "execution_count": null,
      "outputs": [
        {
          "output_type": "stream",
          "text": [
            "<class 'pandas.core.frame.DataFrame'>\n",
            "RangeIndex: 7152 entries, 0 to 7151\n",
            "Data columns (total 1 columns):\n",
            " #   Column     Non-Null Count  Dtype \n",
            "---  ------     --------------  ----- \n",
            " 0   text_data  7152 non-null   object\n",
            "dtypes: object(1)\n",
            "memory usage: 56.0+ KB\n"
          ],
          "name": "stdout"
        }
      ]
    },
    {
      "cell_type": "markdown",
      "metadata": {
        "papermill": {
          "duration": 0.038143,
          "end_time": "2020-09-05T22:13:15.685456",
          "exception": false,
          "start_time": "2020-09-05T22:13:15.647313",
          "status": "completed"
        },
        "tags": [],
        "id": "dHo-OozMdt_8"
      },
      "source": [
        "## Datasets"
      ]
    },
    {
      "cell_type": "markdown",
      "metadata": {
        "id": "75BiBoq1Crok"
      },
      "source": [
        "С помощью токенизатора преобразуем наши тексты в вектора `input_ids` одной длины (512) и переведем их в необходимый для нашей модели формат тензоров `torch`"
      ]
    },
    {
      "cell_type": "code",
      "metadata": {
        "id": "ZLET3zJhlymR"
      },
      "source": [
        "import nlp"
      ],
      "execution_count": null,
      "outputs": []
    },
    {
      "cell_type": "code",
      "metadata": {
        "execution": {
          "iopub.execute_input": "2020-09-05T22:13:15.845561Z",
          "iopub.status.busy": "2020-09-05T22:13:15.844629Z",
          "iopub.status.idle": "2020-09-05T22:14:18.490780Z",
          "shell.execute_reply": "2020-09-05T22:14:18.489532Z"
        },
        "papermill": {
          "duration": 62.76746,
          "end_time": "2020-09-05T22:14:18.490930",
          "exception": false,
          "start_time": "2020-09-05T22:13:15.723470",
          "status": "completed"
        },
        "tags": [],
        "id": "w9stWz8Zdt_8",
        "outputId": "46415175-3ec1-4117-f21c-eae8dd0ec394",
        "colab": {
          "base_uri": "https://localhost:8080/",
          "height": 165,
          "referenced_widgets": [
            "19b028a8eff84948bccf8d8244a86e43",
            "a1e20fc37aee463e9eeff9040467f1bd",
            "f2302f3dcf0f4ca89448547e35bc4f3b",
            "df88e91d01894b1daf502eba7a6b14d7",
            "1ed3809d8dfe4c01a03a9f8ae37171d8",
            "1b3cfbcdf56741d2b3d4cf2b151b5d10",
            "c2931992b04b4cb48e9a31460db63203",
            "e28d93d6ea59464581c762b688ce7542",
            "17d8a1bb8f4144af92d547eb449f42ba",
            "f61e54cdc1874f8598f1f6db3604c55d",
            "9d81955099c14842aa034bfb10fe170f",
            "25cca9c96fde4c9698b505b68144ef83",
            "bbd122f6e006434c9f90e627d12de256",
            "8e0f2b58d6b949f69e1b849cffdc2e99",
            "4350fbc1bf814189827e0837fa611f70",
            "0cc79a6dcb0a4e8980d02622a9af3fcc",
            "8f2596c1536f4738aa002bbe74413c27",
            "38b77cd0e4c441ab96cddbc50fdcfe18",
            "2bc6d5edde5d4e2599f7e5071198c9cd",
            "02eb481976404250be274214f946cab6",
            "88b2b54b4c9d4ac8ba1421a6f843f844",
            "a74f65b90fb64db6891106d974c2ac1d",
            "bddb19b324294af0a0f27860b6b4ddfd",
            "61b90b8e2fb34108b8106d8a7b13b48c"
          ]
        }
      },
      "source": [
        "MAX_LEN = 512 \n",
        "\n",
        "def convert_to_features(batch):\n",
        "\n",
        "    encodings = tokenizer.batch_encode_plus(batch['text_data'], \n",
        "                                            add_special_tokens=True,\n",
        "                                            pad_to_max_length=True,\n",
        "                                            truncation=True,\n",
        "                                            max_length=MAX_LEN)\n",
        "    return encodings\n",
        "\n",
        "train_dataset = nlp.Dataset.from_pandas(train_df)\n",
        "train_dataset = train_dataset.map(convert_to_features, batched=True) \n",
        "train_dataset.set_format(\"torch\", columns=['input_ids', 'attention_mask', 'Фейк'])\n",
        "\n",
        "valid_dataset = nlp.Dataset.from_pandas(val_df)\n",
        "valid_dataset = valid_dataset.map(convert_to_features, batched=True) \n",
        "valid_dataset.set_format(\"torch\", columns=['input_ids', 'attention_mask', 'Фейк'])\n",
        "\n",
        "test_dataset = nlp.Dataset.from_pandas(test_df)\n",
        "test_dataset = test_dataset.map(convert_to_features, batched=True) \n",
        "test_dataset.set_format(\"torch\", columns=['input_ids', 'attention_mask'])"
      ],
      "execution_count": null,
      "outputs": [
        {
          "output_type": "display_data",
          "data": {
            "application/vnd.jupyter.widget-view+json": {
              "model_id": "19b028a8eff84948bccf8d8244a86e43",
              "version_minor": 0,
              "version_major": 2
            },
            "text/plain": [
              "HBox(children=(FloatProgress(value=0.0, max=19.0), HTML(value='')))"
            ]
          },
          "metadata": {
            "tags": []
          }
        },
        {
          "output_type": "stream",
          "text": [
            "\n"
          ],
          "name": "stdout"
        },
        {
          "output_type": "display_data",
          "data": {
            "application/vnd.jupyter.widget-view+json": {
              "model_id": "17d8a1bb8f4144af92d547eb449f42ba",
              "version_minor": 0,
              "version_major": 2
            },
            "text/plain": [
              "HBox(children=(FloatProgress(value=0.0, max=2.0), HTML(value='')))"
            ]
          },
          "metadata": {
            "tags": []
          }
        },
        {
          "output_type": "stream",
          "text": [
            "\n"
          ],
          "name": "stdout"
        },
        {
          "output_type": "display_data",
          "data": {
            "application/vnd.jupyter.widget-view+json": {
              "model_id": "8f2596c1536f4738aa002bbe74413c27",
              "version_minor": 0,
              "version_major": 2
            },
            "text/plain": [
              "HBox(children=(FloatProgress(value=0.0, max=8.0), HTML(value='')))"
            ]
          },
          "metadata": {
            "tags": []
          }
        },
        {
          "output_type": "stream",
          "text": [
            "\n"
          ],
          "name": "stdout"
        }
      ]
    },
    {
      "cell_type": "markdown",
      "metadata": {
        "papermill": {
          "duration": 0.039562,
          "end_time": "2020-09-05T22:14:18.575706",
          "exception": false,
          "start_time": "2020-09-05T22:14:18.536144",
          "status": "completed"
        },
        "tags": [],
        "id": "hioXa5BqduAB"
      },
      "source": [
        "## Train & Submit"
      ]
    },
    {
      "cell_type": "markdown",
      "metadata": {
        "papermill": {
          "duration": 0.038621,
          "end_time": "2020-09-05T22:14:18.655566",
          "exception": false,
          "start_time": "2020-09-05T22:14:18.616945",
          "status": "completed"
        },
        "tags": [],
        "id": "785uErE2duAC"
      },
      "source": [
        "### Metrics"
      ]
    },
    {
      "cell_type": "markdown",
      "metadata": {
        "id": "oFTVuBDhEnoo"
      },
      "source": [
        "Во время обучения будем следить за значениями функции потерь и метрикой f1"
      ]
    },
    {
      "cell_type": "code",
      "metadata": {
        "id": "7JpsMzN2h9n-"
      },
      "source": [
        "from sklearn.metrics import f1_score"
      ],
      "execution_count": null,
      "outputs": []
    },
    {
      "cell_type": "code",
      "metadata": {
        "execution": {
          "iopub.execute_input": "2020-09-05T22:14:18.753297Z",
          "iopub.status.busy": "2020-09-05T22:14:18.743161Z",
          "iopub.status.idle": "2020-09-05T22:14:18.756244Z",
          "shell.execute_reply": "2020-09-05T22:14:18.756843Z"
        },
        "papermill": {
          "duration": 0.062144,
          "end_time": "2020-09-05T22:14:18.757020",
          "exception": false,
          "start_time": "2020-09-05T22:14:18.694876",
          "status": "completed"
        },
        "tags": [],
        "id": "eNK34-ROduAD"
      },
      "source": [
        "class AverageMeter(object):\n",
        "    def __init__(self, name, fmt=':f'):\n",
        "        self.name = name\n",
        "        self.fmt = fmt\n",
        "        self.reset()\n",
        "\n",
        "    def reset(self):\n",
        "        self.val = 0\n",
        "        self.avg = 0\n",
        "        self.sum = 0\n",
        "        self.count = 0\n",
        "\n",
        "    def update(self, val, n=1):\n",
        "        self.val = val\n",
        "        self.sum += val * n\n",
        "        self.count += n\n",
        "        self.avg = self.sum / self.count\n",
        "\n",
        "    def __str__(self):\n",
        "        fmtstr = '{name} {avg' + self.fmt + '}'\n",
        "        return fmtstr.format(**self.__dict__)\n",
        "\n",
        "class ProgressMeter(object):\n",
        "    def __init__(self, num_batches, meters, prefix=\"\"):\n",
        "        self.batch_fmtstr = self._get_batch_fmtstr(num_batches)\n",
        "        self.meters = meters\n",
        "        self.prefix = prefix\n",
        "\n",
        "    def display(self, batch):\n",
        "        entries = [self.prefix + self.batch_fmtstr.format(batch)]\n",
        "        entries += [str(meter) for meter in self.meters]\n",
        "        print('\\t'.join(entries))\n",
        "\n",
        "    def _get_batch_fmtstr(self, num_batches):\n",
        "        num_digits = len(str(num_batches // 1))\n",
        "        fmt = '{:' + str(num_digits) + 'd}'\n",
        "        return '[' + fmt + '/' + fmt.format(num_batches) + ']'\n",
        "\n",
        "def F1_score(outputs, targets):\n",
        "    with torch.no_grad():\n",
        "        return f1_score(targets, outputs.argmax(dim=-1)) "
      ],
      "execution_count": null,
      "outputs": []
    },
    {
      "cell_type": "markdown",
      "metadata": {
        "papermill": {
          "duration": 0.03979,
          "end_time": "2020-09-05T22:14:18.837106",
          "exception": false,
          "start_time": "2020-09-05T22:14:18.797316",
          "status": "completed"
        },
        "tags": [],
        "id": "M5C7IKZMduAF"
      },
      "source": [
        "### Training"
      ]
    },
    {
      "cell_type": "markdown",
      "metadata": {
        "id": "1YcJfpQaE0sv"
      },
      "source": [
        "Опишем функцию для обучения"
      ]
    },
    {
      "cell_type": "code",
      "metadata": {
        "execution": {
          "iopub.execute_input": "2020-09-05T22:14:18.932557Z",
          "iopub.status.busy": "2020-09-05T22:14:18.930554Z",
          "iopub.status.idle": "2020-09-05T22:14:18.936256Z",
          "shell.execute_reply": "2020-09-05T22:14:18.935498Z"
        },
        "papermill": {
          "duration": 0.059258,
          "end_time": "2020-09-05T22:14:18.936400",
          "exception": false,
          "start_time": "2020-09-05T22:14:18.877142",
          "status": "completed"
        },
        "tags": [],
        "id": "Khu87ZumduAG"
      },
      "source": [
        "def train_loop_fn(train_loader, model, optimizer, device, epoch=None):\n",
        "\n",
        "    model.train()\n",
        "    \n",
        "    losses = AverageMeter('Loss', ':.4e')\n",
        "    top1 = AverageMeter(' F1', ':.2f')\n",
        "    progress = ProgressMeter(\n",
        "        len(train_loader),\n",
        "        [losses, top1],\n",
        "        prefix=\"[xla:{}]  Train:  Epoch: [{}]\".format(xm.get_ordinal(), epoch + 1)\n",
        "    )    \n",
        "\n",
        "    for i, data in enumerate(train_loader):\n",
        "\n",
        "        input_ids = data[\"input_ids\"].to(device, dtype=torch.long)\n",
        "        attention_mask = data[\"attention_mask\"].to(device, dtype=torch.long)\n",
        "        labels = data[\"Фейк\"].to(device, dtype=torch.float)\n",
        "\n",
        "        optimizer.zero_grad()\n",
        "        outputs = model(\n",
        "            input_ids = input_ids,\n",
        "            attention_mask = attention_mask,\n",
        "            labels = labels\n",
        "        )\n",
        "\n",
        "        loss = outputs[0] \n",
        "        loss.backward()\n",
        "        xm.optimizer_step(optimizer)\n",
        "\n",
        "        f1 = F1_score(outputs[1].cpu(), labels.cpu())\n",
        "        losses.update(loss.item(), input_ids.size(0))\n",
        "        top1.update(f1.item(), input_ids.size(0))\n",
        "\n",
        "        if i == len(train_loader) - 1: \n",
        "            progress.display(i)\n",
        "\n",
        "    del loss\n",
        "    del f1\n",
        "    del outputs\n",
        "    del input_ids\n",
        "    del attention_mask\n",
        "    del labels\n",
        "    gc.collect()"
      ],
      "execution_count": null,
      "outputs": []
    },
    {
      "cell_type": "markdown",
      "metadata": {
        "papermill": {
          "duration": 0.03969,
          "end_time": "2020-09-05T22:14:19.015962",
          "exception": false,
          "start_time": "2020-09-05T22:14:18.976272",
          "status": "completed"
        },
        "tags": [],
        "id": "cPZ3ewCDduAI"
      },
      "source": [
        "### Evaluation"
      ]
    },
    {
      "cell_type": "markdown",
      "metadata": {
        "id": "wBW0G4CCE4q3"
      },
      "source": [
        "Опишем функцию для валидации"
      ]
    },
    {
      "cell_type": "code",
      "metadata": {
        "id": "zAUNHAzFnw4e"
      },
      "source": [
        "from sklearn.metrics import confusion_matrix"
      ],
      "execution_count": null,
      "outputs": []
    },
    {
      "cell_type": "code",
      "metadata": {
        "id": "Eqcud1YHmZmm"
      },
      "source": [
        "def eval_loop_fn(test_data_loader, model, device):\n",
        "\n",
        "    model.eval()\n",
        "\n",
        "    with torch.no_grad():\n",
        "\n",
        "        test_preds = []\n",
        "        targets = []\n",
        "        val_loss = 0\n",
        "\n",
        "        for i, data in enumerate(test_data_loader):\n",
        "\n",
        "            input_ids = data[\"input_ids\"].to(device, dtype=torch.long)\n",
        "            attention_mask = data[\"attention_mask\"].to(device, dtype=torch.long)\n",
        "            labels = data[\"Фейк\"].to(device, dtype=torch.float)\n",
        "\n",
        "            outputs = model(\n",
        "                input_ids = input_ids,\n",
        "                attention_mask = attention_mask,\n",
        "                labels = labels\n",
        "            )\n",
        "\n",
        "            val_loss += outputs[0].item()\n",
        "            test_preds.extend(torch.argmax(outputs[1], -1).cpu().detach().tolist())\n",
        "            targets.extend(data[\"Фейк\"].detach().tolist())  \n",
        "        \n",
        "    xm.master_print(f'Val loss: {val_loss / len(test_data_loader)}')\n",
        "    xm.master_print(f'F1 score: {f1_score(targets, test_preds)}')\n",
        "    xm.master_print('Confusion matrix:')\n",
        "    xm.master_print(f'{confusion_matrix(targets, test_preds)}')\n",
        "\n",
        "    del outputs\n",
        "    del targets\n",
        "    del val_loss\n",
        "    del test_preds\n",
        "    del input_ids\n",
        "    del attention_mask\n",
        "    del labels\n",
        "    gc.collect()"
      ],
      "execution_count": null,
      "outputs": []
    },
    {
      "cell_type": "markdown",
      "metadata": {
        "papermill": {
          "duration": 0.039369,
          "end_time": "2020-09-05T22:14:19.195683",
          "exception": false,
          "start_time": "2020-09-05T22:14:19.156314",
          "status": "completed"
        },
        "tags": [],
        "id": "5deBCxT4duAM"
      },
      "source": [
        "### Test"
      ]
    },
    {
      "cell_type": "markdown",
      "metadata": {
        "id": "DJJ80DBGE8Nv"
      },
      "source": [
        "Опишем функцию, которая будет получать предсказания для тестового датасета и записывать их в колонку `Фейк` файла `sample_submission.csv` под именем `submission_epoch.csv`"
      ]
    },
    {
      "cell_type": "code",
      "metadata": {
        "id": "-pVuPDKSfsmc"
      },
      "source": [
        "sample_submission = pd.read_csv('sample_submission.csv')"
      ],
      "execution_count": null,
      "outputs": []
    },
    {
      "cell_type": "code",
      "metadata": {
        "execution": {
          "iopub.execute_input": "2020-09-05T22:14:19.288684Z",
          "iopub.status.busy": "2020-09-05T22:14:19.287895Z",
          "iopub.status.idle": "2020-09-05T22:14:19.291933Z",
          "shell.execute_reply": "2020-09-05T22:14:19.291203Z"
        },
        "papermill": {
          "duration": 0.056595,
          "end_time": "2020-09-05T22:14:19.292056",
          "exception": false,
          "start_time": "2020-09-05T22:14:19.235461",
          "status": "completed"
        },
        "tags": [],
        "id": "JMZNr1J1duAM"
      },
      "source": [
        "def test_loop_fn(test_data_loader, model, device, epoch=0):\n",
        "\n",
        "    model.eval()\n",
        "\n",
        "    with torch.no_grad():\n",
        "\n",
        "        test_preds = []\n",
        "\n",
        "        for i, data in enumerate(test_data_loader):\n",
        "\n",
        "            input_ids = data[\"input_ids\"].to(device, dtype=torch.long)\n",
        "            attention_mask = data[\"attention_mask\"].to(device, dtype=torch.long)\n",
        "\n",
        "            outputs = model(\n",
        "                input_ids = input_ids,\n",
        "                attention_mask = attention_mask,\n",
        "            )[0]\n",
        "            \n",
        "            test_preds.extend(torch.argmax(outputs, -1).cpu().detach().tolist())  \n",
        "\n",
        "    sample_submission['Фейк'] = test_preds\n",
        "    sample_submission.to_csv(f'submission_{epoch + 1}.csv', index=False)\n",
        "\n",
        "    del outputs\n",
        "    del test_preds\n",
        "    del input_ids\n",
        "    del attention_mask\n",
        "    gc.collect()"
      ],
      "execution_count": null,
      "outputs": []
    },
    {
      "cell_type": "markdown",
      "metadata": {
        "papermill": {
          "duration": 0.03919,
          "end_time": "2020-09-05T22:14:19.370981",
          "exception": false,
          "start_time": "2020-09-05T22:14:19.331791",
          "status": "completed"
        },
        "tags": [],
        "id": "IsbT1MOMduAO"
      },
      "source": [
        "### Run"
      ]
    },
    {
      "cell_type": "markdown",
      "metadata": {
        "id": "0IGGsfMCF4OQ"
      },
      "source": [
        "Укажем параметры обучения"
      ]
    },
    {
      "cell_type": "code",
      "metadata": {
        "_kg_hide-output": true,
        "execution": {
          "iopub.execute_input": "2020-09-05T22:14:19.457902Z",
          "iopub.status.busy": "2020-09-05T22:14:19.457110Z",
          "iopub.status.idle": "2020-09-05T22:14:19.461887Z",
          "shell.execute_reply": "2020-09-05T22:14:19.461152Z"
        },
        "papermill": {
          "duration": 0.051603,
          "end_time": "2020-09-05T22:14:19.462019",
          "exception": false,
          "start_time": "2020-09-05T22:14:19.410416",
          "status": "completed"
        },
        "tags": [],
        "id": "qV7lg941duAP"
      },
      "source": [
        "my_seed(42)\n",
        "\n",
        "TRAIN_BATCH_SIZE = 4 * xm.xrt_world_size()\n",
        "VALID_BATCH_SIZE = 8 \n",
        "TEST_BATCH_SIZE = 8\n",
        "EPOCHS = 10\n",
        "LR = 5e-5 * xm.xrt_world_size() "
      ],
      "execution_count": null,
      "outputs": []
    },
    {
      "cell_type": "markdown",
      "metadata": {
        "id": "Xzp_m5LEGBpS"
      },
      "source": [
        "Определим загрузчики данных для каждого датасета и опишем основной цикл обучения. После каждой эпохи будем оценивать качество на валидационном датасете и делать предсказания для тестового."
      ]
    },
    {
      "cell_type": "code",
      "metadata": {
        "execution": {
          "iopub.execute_input": "2020-09-05T22:14:19.563132Z",
          "iopub.status.busy": "2020-09-05T22:14:19.562322Z",
          "iopub.status.idle": "2020-09-05T22:14:19.567315Z",
          "shell.execute_reply": "2020-09-05T22:14:19.566643Z"
        },
        "id": "akuL2cGPzqmn",
        "papermill": {
          "duration": 0.065445,
          "end_time": "2020-09-05T22:14:19.567452",
          "exception": false,
          "start_time": "2020-09-05T22:14:19.502007",
          "status": "completed"
        },
        "tags": []
      },
      "source": [
        "def _run():\n",
        "\n",
        "    # Train\n",
        "    xm.master_print('Starting Run ...')\n",
        "    train_sampler = DistributedSampler( \n",
        "        train_dataset,\n",
        "        num_replicas=xm.xrt_world_size(),\n",
        "        rank=xm.get_ordinal(),\n",
        "        shuffle=True \n",
        "    )    \n",
        "    train_data_loader = DataLoader(\n",
        "        train_dataset,\n",
        "        batch_size=TRAIN_BATCH_SIZE,\n",
        "        sampler=train_sampler,\n",
        "        drop_last=True,\n",
        "        num_workers=0,\n",
        "    )\n",
        "    xm.master_print('Train Loader Created.')\n",
        "    \n",
        "    # Valid    \n",
        "    valid_data_loader = DataLoader(\n",
        "        valid_dataset,\n",
        "        batch_size=VALID_BATCH_SIZE,\n",
        "        drop_last=False,\n",
        "        num_workers=0,\n",
        "        shuffle=False,\n",
        "    )\n",
        "    xm.master_print('Valid Loader Created.')\n",
        "\n",
        "    # Test\n",
        "    test_data_loader = DataLoader(\n",
        "        test_dataset, \n",
        "        batch_size=TEST_BATCH_SIZE,\n",
        "        drop_last=False,\n",
        "        num_workers=0,\n",
        "        shuffle=False,\n",
        "    )\n",
        "    xm.master_print('Test Loader Created.')\n",
        "    \n",
        "    num_train_steps = int(train_dataset.num_rows / TRAIN_BATCH_SIZE / xm.xrt_world_size())\n",
        "    device = xm.xla_device()\n",
        "    model = WRAPPED_MODEL.to(device)\n",
        "    xm.master_print('Done Model Loading.')\n",
        "    optimizer = AdamW(\n",
        "        model.parameters(),\n",
        "        lr=LR, \n",
        "    )\n",
        "    xm.master_print(f'Num Train Steps= {num_train_steps}, XRT World Size= {xm.xrt_world_size()}.')\n",
        "    \n",
        "    for epoch in range(EPOCHS):\n",
        "\n",
        "        train_sampler.set_epoch(epoch)\n",
        "\n",
        "        para_loader = pl.ParallelLoader(train_data_loader, [device])\n",
        "        xm.master_print('Parallel Loader Created. Training ...')\n",
        "        train_loop_fn(para_loader.per_device_loader(device),\n",
        "                      model,  \n",
        "                      optimizer, \n",
        "                      device,  \n",
        "                      epoch\n",
        "                     )        \n",
        "        xm.master_print(\"Finished training epoch {}\".format(epoch + 1))\n",
        "            \n",
        "        para_loader = pl.ParallelLoader(valid_data_loader, [device])\n",
        "        xm.master_print('Parallel Loader Created. Validating ...')\n",
        "        eval_loop_fn(para_loader.per_device_loader(device), \n",
        "                     model,  \n",
        "                     device\n",
        "                    )\n",
        "        \n",
        "        para_loader = pl.ParallelLoader(test_data_loader, [device])\n",
        "        xm.master_print('Parallel Loader Created. Testing ...')\n",
        "        test_loop_fn(para_loader.per_device_loader(device), \n",
        "                    model,  \n",
        "                    device,\n",
        "                    epoch \n",
        "                    )\n",
        "        xm.master_print('Predicted.')\n",
        "\n",
        "        # При необходимости можно сохранить веса модели\n",
        "        # if epoch == EPOCHS-1:\n",
        "        #     xm.save(model.state_dict(), f'RoBERTa_{epoch + 1}.pt')\n",
        "        #     xm.master_print('Model Saved.')"
      ],
      "execution_count": null,
      "outputs": []
    },
    {
      "cell_type": "markdown",
      "metadata": {
        "id": "1adnN4bXGlaN"
      },
      "source": [
        "Запускаем обучение"
      ]
    },
    {
      "cell_type": "code",
      "metadata": {
        "_kg_hide-output": true,
        "execution": {
          "iopub.execute_input": "2020-09-05T22:14:19.658948Z",
          "iopub.status.busy": "2020-09-05T22:14:19.657927Z",
          "iopub.status.idle": "2020-09-05T23:43:19.065617Z",
          "shell.execute_reply": "2020-09-05T23:43:19.064773Z"
        },
        "id": "Gm0V-BTnzqmq",
        "papermill": {
          "duration": 5339.457651,
          "end_time": "2020-09-05T23:43:19.065763",
          "exception": false,
          "start_time": "2020-09-05T22:14:19.608112",
          "status": "completed"
        },
        "tags": [],
        "outputId": "7cfeea57-27a4-47ff-a26d-c564fd77386a",
        "colab": {
          "base_uri": "https://localhost:8080/",
          "height": 1000
        }
      },
      "source": [
        "def _mp_fn(rank, flags):\n",
        "    _run()\n",
        "\n",
        "FLAGS={}\n",
        "xmp.spawn(_mp_fn, args=(FLAGS,), nprocs=8, start_method='fork')"
      ],
      "execution_count": null,
      "outputs": [
        {
          "output_type": "stream",
          "text": [
            "Starting Run ...\n",
            "Train Loader Created.\n",
            "Valid Loader Created.\n",
            "Test Loader Created.\n",
            "Done Model Loading.\n",
            "Num Train Steps= 565, XRT World Size= 8.\n",
            "Parallel Loader Created. Training ...\n",
            "[xla:1]  Train:  Epoch: [1][564/565]\tLoss 1.3232e-01\t F1 0.86\n",
            "[xla:4]  Train:  Epoch: [1][564/565]\tLoss 1.4454e-01\t F1 0.88\n",
            "[xla:7]  Train:  Epoch: [1][564/565]\tLoss 1.4556e-01\t F1 0.87\n",
            "[xla:6]  Train:  Epoch: [1][564/565]\tLoss 1.3418e-01\t F1 0.86\n",
            "[xla:5]  Train:  Epoch: [1][564/565]\tLoss 1.3635e-01\t F1 0.85\n",
            "[xla:2]  Train:  Epoch: [1][564/565]\tLoss 1.2962e-01\t F1 0.86\n",
            "[xla:3]  Train:  Epoch: [1][564/565]\tLoss 1.4298e-01\t F1 0.85\n",
            "[xla:0]  Train:  Epoch: [1][564/565]\tLoss 1.3587e-01\t F1 0.86\n",
            "Finished training epoch 1\n",
            "Parallel Loader Created. Validating ...\n",
            "Val loss: 0.06249290704727173\n",
            "F1 score: 0.8828828828828829\n",
            "Confusion matrix:\n",
            "[[962   5]\n",
            " [  8  49]]\n",
            "Parallel Loader Created. Testing ...\n",
            "Predicted.\n",
            "Parallel Loader Created. Training ...\n",
            "[xla:5]  Train:  Epoch: [2][564/565]\tLoss 2.4872e-02\t F1 0.91\n",
            "[xla:0]  Train:  Epoch: [2][564/565]\tLoss 2.6863e-02\t F1 0.93\n",
            "[xla:2]  Train:  Epoch: [2][564/565]\tLoss 1.5335e-02\t F1 0.93\n",
            "[xla:7]  Train:  Epoch: [2][564/565]\tLoss 1.2700e-02\t F1 0.93\n",
            "[xla:1]  Train:  Epoch: [2][564/565]\tLoss 2.2157e-02\t F1 0.93\n",
            "[xla:6]  Train:  Epoch: [2][564/565]\tLoss 1.6003e-02\t F1 0.92\n",
            "[xla:3]  Train:  Epoch: [2][564/565]\tLoss 1.4415e-02\t F1 0.93\n",
            "[xla:4]  Train:  Epoch: [2][564/565]\tLoss 3.0290e-02\t F1 0.94\n",
            "Finished training epoch 2\n",
            "Parallel Loader Created. Validating ...\n",
            "Val loss: 0.05900558829307556\n",
            "F1 score: 0.8807339449541285\n",
            "Confusion matrix:\n",
            "[[963   4]\n",
            " [  9  48]]\n",
            "Parallel Loader Created. Testing ...\n",
            "Predicted.\n",
            "Parallel Loader Created. Training ...\n",
            "[xla:4]  Train:  Epoch: [3][564/565]\tLoss 6.7738e-03\t F1 0.93\n",
            "[xla:6]  Train:  Epoch: [3][564/565]\tLoss 4.8783e-03\t F1 0.93\n",
            "[xla:5]  Train:  Epoch: [3][564/565]\tLoss 3.9528e-03\t F1 0.94\n",
            "[xla:2]  Train:  Epoch: [3][564/565]\tLoss 4.9247e-03\t F1 0.92\n",
            "[xla:3]  Train:  Epoch: [3][564/565]\tLoss 6.5008e-03\t F1 0.93\n",
            "[xla:7]  Train:  Epoch: [3][564/565]\tLoss 5.1415e-03\t F1 0.95\n",
            "[xla:1]  Train:  Epoch: [3][564/565]\tLoss 4.1428e-03\t F1 0.93\n",
            "[xla:0]  Train:  Epoch: [3][564/565]\tLoss 1.8725e-03\t F1 0.94\n",
            "Finished training epoch 3\n",
            "Parallel Loader Created. Validating ...\n",
            "Val loss: 0.04968291521072388\n",
            "F1 score: 0.9026548672566371\n",
            "Confusion matrix:\n",
            "[[962   5]\n",
            " [  6  51]]\n",
            "Parallel Loader Created. Testing ...\n",
            "Predicted.\n",
            "Parallel Loader Created. Training ...\n",
            "[xla:0]  Train:  Epoch: [4][564/565]\tLoss 9.6361e-04\t F1 0.91\n",
            "[xla:3]  Train:  Epoch: [4][564/565]\tLoss 1.0578e-03\t F1 0.95\n",
            "[xla:1]  Train:  Epoch: [4][564/565]\tLoss 1.9565e-03\t F1 0.93\n",
            "[xla:5]  Train:  Epoch: [4][564/565]\tLoss 4.4110e-03\t F1 0.92\n",
            "[xla:6]  Train:  Epoch: [4][564/565]\tLoss 1.8422e-03\t F1 0.94\n",
            "[xla:7]  Train:  Epoch: [4][564/565]\tLoss 1.8634e-03\t F1 0.92\n",
            "[xla:2]  Train:  Epoch: [4][564/565]\tLoss 9.3104e-04\t F1 0.94\n",
            "[xla:4]  Train:  Epoch: [4][564/565]\tLoss 4.3763e-03\t F1 0.94\n",
            "Finished training epoch 4\n",
            "Parallel Loader Created. Validating ...\n",
            "Val loss: 0.05679205060005188\n",
            "F1 score: 0.8807339449541285\n",
            "Confusion matrix:\n",
            "[[963   4]\n",
            " [  9  48]]\n",
            "Parallel Loader Created. Testing ...\n",
            "Predicted.\n",
            "Parallel Loader Created. Training ...\n",
            "[xla:0]  Train:  Epoch: [5][564/565]\tLoss 1.7615e-03\t F1 0.93\n",
            "[xla:1]  Train:  Epoch: [5][564/565]\tLoss 3.1937e-03\t F1 0.94\n",
            "[xla:4]  Train:  Epoch: [5][564/565]\tLoss 2.1801e-03\t F1 0.92\n",
            "[xla:7]  Train:  Epoch: [5][564/565]\tLoss 1.7806e-03\t F1 0.94\n",
            "[xla:5]  Train:  Epoch: [5][564/565]\tLoss 1.1688e-03\t F1 0.94\n",
            "[xla:2]  Train:  Epoch: [5][564/565]\tLoss 6.5405e-04\t F1 0.95\n",
            "[xla:6]  Train:  Epoch: [5][564/565]\tLoss 8.4212e-04\t F1 0.93\n",
            "[xla:3]  Train:  Epoch: [5][564/565]\tLoss 8.5550e-04\t F1 0.94\n",
            "Finished training epoch 5\n",
            "Parallel Loader Created. Validating ...\n",
            "Val loss: 0.06188586354255676\n",
            "F1 score: 0.8828828828828829\n",
            "Confusion matrix:\n",
            "[[962   5]\n",
            " [  8  49]]\n",
            "Parallel Loader Created. Testing ...\n",
            "Predicted.\n",
            "Parallel Loader Created. Training ...\n",
            "[xla:1]  Train:  Epoch: [6][564/565]\tLoss 1.1112e-03\t F1 0.92\n",
            "[xla:3]  Train:  Epoch: [6][564/565]\tLoss 7.2809e-04\t F1 0.94\n",
            "[xla:7]  Train:  Epoch: [6][564/565]\tLoss 8.7429e-04\t F1 0.95\n",
            "[xla:2]  Train:  Epoch: [6][564/565]\tLoss 6.7387e-04\t F1 0.93\n",
            "[xla:5]  Train:  Epoch: [6][564/565]\tLoss 6.6127e-04\t F1 0.92\n",
            "[xla:4]  Train:  Epoch: [6][564/565]\tLoss 4.0164e-04\t F1 0.95\n",
            "[xla:6]  Train:  Epoch: [6][564/565]\tLoss 2.7632e-03\t F1 0.94\n",
            "[xla:0]  Train:  Epoch: [6][564/565]\tLoss 6.9556e-04\t F1 0.93\n",
            "Finished training epoch 6\n",
            "Parallel Loader Created. Validating ...\n",
            "Val loss: 0.0620097815990448\n",
            "F1 score: 0.9009009009009009\n",
            "Confusion matrix:\n",
            "[[963   4]\n",
            " [  7  50]]\n",
            "Parallel Loader Created. Testing ...\n",
            "Predicted.\n",
            "Parallel Loader Created. Training ...\n",
            "[xla:4]  Train:  Epoch: [7][564/565]\tLoss 6.5867e-03\t F1 0.93\n",
            "[xla:0]  Train:  Epoch: [7][564/565]\tLoss 1.3768e-02\t F1 0.91\n",
            "[xla:5]  Train:  Epoch: [7][564/565]\tLoss 7.8589e-03\t F1 0.93\n",
            "[xla:3]  Train:  Epoch: [7][564/565]\tLoss 8.6149e-03\t F1 0.94\n",
            "[xla:6]  Train:  Epoch: [7][564/565]\tLoss 1.0110e-02\t F1 0.93\n",
            "[xla:7]  Train:  Epoch: [7][564/565]\tLoss 1.1165e-02\t F1 0.92\n",
            "[xla:1]  Train:  Epoch: [7][564/565]\tLoss 1.1778e-02\t F1 0.93\n",
            "[xla:2]  Train:  Epoch: [7][564/565]\tLoss 1.1713e-02\t F1 0.93\n",
            "Finished training epoch 7\n",
            "Parallel Loader Created. Validating ...\n",
            "Val loss: 0.06758102774620056\n",
            "F1 score: 0.875\n",
            "Confusion matrix:\n",
            "[[961   6]\n",
            " [  8  49]]\n",
            "Parallel Loader Created. Testing ...\n",
            "Predicted.\n",
            "Model Saved.\n",
            "Parallel Loader Created. Training ...\n",
            "[xla:3]  Train:  Epoch: [8][564/565]\tLoss 6.0486e-03\t F1 0.93\n",
            "[xla:6]  Train:  Epoch: [8][564/565]\tLoss 3.5303e-03\t F1 0.92\n",
            "[xla:5]  Train:  Epoch: [8][564/565]\tLoss 3.5578e-03\t F1 0.93\n",
            "[xla:4]  Train:  Epoch: [8][564/565]\tLoss 3.6605e-03\t F1 0.94\n",
            "[xla:0]  Train:  Epoch: [8][564/565]\tLoss 8.3901e-03\t F1 0.93\n",
            "[xla:7]  Train:  Epoch: [8][564/565]\tLoss 4.7514e-03\t F1 0.93\n",
            "[xla:2]  Train:  Epoch: [8][564/565]\tLoss 6.1314e-03\t F1 0.94\n",
            "[xla:1]  Train:  Epoch: [8][564/565]\tLoss 4.5232e-03\t F1 0.94\n",
            "Finished training epoch 8\n",
            "Parallel Loader Created. Validating ...\n",
            "Val loss: 0.05951613187789917\n",
            "F1 score: 0.8807339449541285\n",
            "Confusion matrix:\n",
            "[[963   4]\n",
            " [  9  48]]\n",
            "Parallel Loader Created. Testing ...\n",
            "Predicted.\n",
            "Parallel Loader Created. Training ...\n",
            "[xla:7]  Train:  Epoch: [9][564/565]\tLoss 6.4867e-04\t F1 0.93\n",
            "[xla:4]  Train:  Epoch: [9][564/565]\tLoss 1.5086e-03\t F1 0.93\n",
            "[xla:5]  Train:  Epoch: [9][564/565]\tLoss 1.1035e-03\t F1 0.94\n",
            "[xla:3]  Train:  Epoch: [9][564/565]\tLoss 6.9811e-04\t F1 0.92\n",
            "[xla:6]  Train:  Epoch: [9][564/565]\tLoss 2.5880e-03\t F1 0.94\n",
            "[xla:1]  Train:  Epoch: [9][564/565]\tLoss 6.6210e-04\t F1 0.93\n",
            "[xla:2]  Train:  Epoch: [9][564/565]\tLoss 6.6846e-04\t F1 0.91\n",
            "[xla:0]  Train:  Epoch: [9][564/565]\tLoss 1.6175e-03\t F1 0.93\n",
            "Finished training epoch 9\n",
            "Parallel Loader Created. Validating ...\n",
            "Val loss: 0.05538707971572876\n",
            "F1 score: 0.8727272727272727\n",
            "Confusion matrix:\n",
            "[[962   5]\n",
            " [  9  48]]\n",
            "Parallel Loader Created. Testing ...\n",
            "Predicted.\n",
            "Parallel Loader Created. Training ...\n",
            "[xla:4]  Train:  Epoch: [10][564/565]\tLoss 8.0943e-04\t F1 0.92\n",
            "[xla:5]  Train:  Epoch: [10][564/565]\tLoss 2.1943e-03\t F1 0.93\n",
            "[xla:2]  Train:  Epoch: [10][564/565]\tLoss 6.6218e-04\t F1 0.93\n",
            "[xla:3]  Train:  Epoch: [10][564/565]\tLoss 8.5255e-04\t F1 0.93\n",
            "[xla:0]  Train:  Epoch: [10][564/565]\tLoss 5.6980e-04\t F1 0.94\n",
            "[xla:1]  Train:  Epoch: [10][564/565]\tLoss 6.4515e-04\t F1 0.94\n",
            "[xla:6]  Train:  Epoch: [10][564/565]\tLoss 5.5146e-04\t F1 0.92\n",
            "[xla:7]  Train:  Epoch: [10][564/565]\tLoss 5.0733e-04\t F1 0.94\n",
            "Finished training epoch 10\n",
            "Parallel Loader Created. Validating ...\n",
            "Val loss: 0.0621638298034668\n",
            "F1 score: 0.8828828828828829\n",
            "Confusion matrix:\n",
            "[[962   5]\n",
            " [  8  49]]\n",
            "Parallel Loader Created. Testing ...\n",
            "Predicted.\n"
          ],
          "name": "stdout"
        }
      ]
    },
    {
      "cell_type": "markdown",
      "metadata": {
        "id": "FyJ-mPddViq2"
      },
      "source": [
        "Высокие результаты получились после 5 и 6 эпох (соответственно, `submission_5.csv` и `submission_6.csv`)"
      ]
    }
  ]
}