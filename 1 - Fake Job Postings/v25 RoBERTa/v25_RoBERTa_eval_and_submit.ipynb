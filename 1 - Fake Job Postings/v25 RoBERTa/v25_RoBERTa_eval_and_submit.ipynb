{
  "nbformat": 4,
  "nbformat_minor": 0,
  "metadata": {
    "colab": {
      "name": "_v25_18000_RoBERTa_7e_saved.ipynb",
      "provenance": [],
      "toc_visible": true,
      "machine_shape": "hm"
    },
    "kernelspec": {
      "name": "python3",
      "display_name": "Python 3"
    },
    "accelerator": "TPU",
    "widgets": {
      "application/vnd.jupyter.widget-state+json": {
        "50ebfe5457804ca698e8abfa53002a5a": {
          "model_module": "@jupyter-widgets/controls",
          "model_name": "HBoxModel",
          "state": {
            "_view_name": "HBoxView",
            "_dom_classes": [],
            "_model_name": "HBoxModel",
            "_view_module": "@jupyter-widgets/controls",
            "_model_module_version": "1.5.0",
            "_view_count": null,
            "_view_module_version": "1.5.0",
            "box_style": "",
            "layout": "IPY_MODEL_e20e8ad1c9bc40b290851c1470ed32f7",
            "_model_module": "@jupyter-widgets/controls",
            "children": [
              "IPY_MODEL_dae68580f1aa4c07af3841c9e030622f",
              "IPY_MODEL_580bb0be53574d55acfd2bd16b82e683"
            ]
          }
        },
        "e20e8ad1c9bc40b290851c1470ed32f7": {
          "model_module": "@jupyter-widgets/base",
          "model_name": "LayoutModel",
          "state": {
            "_view_name": "LayoutView",
            "grid_template_rows": null,
            "right": null,
            "justify_content": null,
            "_view_module": "@jupyter-widgets/base",
            "overflow": null,
            "_model_module_version": "1.2.0",
            "_view_count": null,
            "flex_flow": null,
            "width": null,
            "min_width": null,
            "border": null,
            "align_items": null,
            "bottom": null,
            "_model_module": "@jupyter-widgets/base",
            "top": null,
            "grid_column": null,
            "overflow_y": null,
            "overflow_x": null,
            "grid_auto_flow": null,
            "grid_area": null,
            "grid_template_columns": null,
            "flex": null,
            "_model_name": "LayoutModel",
            "justify_items": null,
            "grid_row": null,
            "max_height": null,
            "align_content": null,
            "visibility": null,
            "align_self": null,
            "height": null,
            "min_height": null,
            "padding": null,
            "grid_auto_rows": null,
            "grid_gap": null,
            "max_width": null,
            "order": null,
            "_view_module_version": "1.2.0",
            "grid_template_areas": null,
            "object_position": null,
            "object_fit": null,
            "grid_auto_columns": null,
            "margin": null,
            "display": null,
            "left": null
          }
        },
        "dae68580f1aa4c07af3841c9e030622f": {
          "model_module": "@jupyter-widgets/controls",
          "model_name": "FloatProgressModel",
          "state": {
            "_view_name": "ProgressView",
            "style": "IPY_MODEL_f99f9cbcdd684291a9d3feeae1c07af5",
            "_dom_classes": [],
            "description": "Downloading: 100%",
            "_model_name": "FloatProgressModel",
            "bar_style": "success",
            "max": 482,
            "_view_module": "@jupyter-widgets/controls",
            "_model_module_version": "1.5.0",
            "value": 482,
            "_view_count": null,
            "_view_module_version": "1.5.0",
            "orientation": "horizontal",
            "min": 0,
            "description_tooltip": null,
            "_model_module": "@jupyter-widgets/controls",
            "layout": "IPY_MODEL_cb2a085f0a954389837bf5cc01270184"
          }
        },
        "580bb0be53574d55acfd2bd16b82e683": {
          "model_module": "@jupyter-widgets/controls",
          "model_name": "HTMLModel",
          "state": {
            "_view_name": "HTMLView",
            "style": "IPY_MODEL_6d02a2a1273a4e38b71c7d44c796f8ac",
            "_dom_classes": [],
            "description": "",
            "_model_name": "HTMLModel",
            "placeholder": "​",
            "_view_module": "@jupyter-widgets/controls",
            "_model_module_version": "1.5.0",
            "value": " 482/482 [02:19&lt;00:00, 3.46B/s]",
            "_view_count": null,
            "_view_module_version": "1.5.0",
            "description_tooltip": null,
            "_model_module": "@jupyter-widgets/controls",
            "layout": "IPY_MODEL_6ee5f3b969ba47f9983c55ad29b8f060"
          }
        },
        "f99f9cbcdd684291a9d3feeae1c07af5": {
          "model_module": "@jupyter-widgets/controls",
          "model_name": "ProgressStyleModel",
          "state": {
            "_view_name": "StyleView",
            "_model_name": "ProgressStyleModel",
            "description_width": "initial",
            "_view_module": "@jupyter-widgets/base",
            "_model_module_version": "1.5.0",
            "_view_count": null,
            "_view_module_version": "1.2.0",
            "bar_color": null,
            "_model_module": "@jupyter-widgets/controls"
          }
        },
        "cb2a085f0a954389837bf5cc01270184": {
          "model_module": "@jupyter-widgets/base",
          "model_name": "LayoutModel",
          "state": {
            "_view_name": "LayoutView",
            "grid_template_rows": null,
            "right": null,
            "justify_content": null,
            "_view_module": "@jupyter-widgets/base",
            "overflow": null,
            "_model_module_version": "1.2.0",
            "_view_count": null,
            "flex_flow": null,
            "width": null,
            "min_width": null,
            "border": null,
            "align_items": null,
            "bottom": null,
            "_model_module": "@jupyter-widgets/base",
            "top": null,
            "grid_column": null,
            "overflow_y": null,
            "overflow_x": null,
            "grid_auto_flow": null,
            "grid_area": null,
            "grid_template_columns": null,
            "flex": null,
            "_model_name": "LayoutModel",
            "justify_items": null,
            "grid_row": null,
            "max_height": null,
            "align_content": null,
            "visibility": null,
            "align_self": null,
            "height": null,
            "min_height": null,
            "padding": null,
            "grid_auto_rows": null,
            "grid_gap": null,
            "max_width": null,
            "order": null,
            "_view_module_version": "1.2.0",
            "grid_template_areas": null,
            "object_position": null,
            "object_fit": null,
            "grid_auto_columns": null,
            "margin": null,
            "display": null,
            "left": null
          }
        },
        "6d02a2a1273a4e38b71c7d44c796f8ac": {
          "model_module": "@jupyter-widgets/controls",
          "model_name": "DescriptionStyleModel",
          "state": {
            "_view_name": "StyleView",
            "_model_name": "DescriptionStyleModel",
            "description_width": "",
            "_view_module": "@jupyter-widgets/base",
            "_model_module_version": "1.5.0",
            "_view_count": null,
            "_view_module_version": "1.2.0",
            "_model_module": "@jupyter-widgets/controls"
          }
        },
        "6ee5f3b969ba47f9983c55ad29b8f060": {
          "model_module": "@jupyter-widgets/base",
          "model_name": "LayoutModel",
          "state": {
            "_view_name": "LayoutView",
            "grid_template_rows": null,
            "right": null,
            "justify_content": null,
            "_view_module": "@jupyter-widgets/base",
            "overflow": null,
            "_model_module_version": "1.2.0",
            "_view_count": null,
            "flex_flow": null,
            "width": null,
            "min_width": null,
            "border": null,
            "align_items": null,
            "bottom": null,
            "_model_module": "@jupyter-widgets/base",
            "top": null,
            "grid_column": null,
            "overflow_y": null,
            "overflow_x": null,
            "grid_auto_flow": null,
            "grid_area": null,
            "grid_template_columns": null,
            "flex": null,
            "_model_name": "LayoutModel",
            "justify_items": null,
            "grid_row": null,
            "max_height": null,
            "align_content": null,
            "visibility": null,
            "align_self": null,
            "height": null,
            "min_height": null,
            "padding": null,
            "grid_auto_rows": null,
            "grid_gap": null,
            "max_width": null,
            "order": null,
            "_view_module_version": "1.2.0",
            "grid_template_areas": null,
            "object_position": null,
            "object_fit": null,
            "grid_auto_columns": null,
            "margin": null,
            "display": null,
            "left": null
          }
        },
        "ad2e636ff9b34d13851bbf3d34aa1794": {
          "model_module": "@jupyter-widgets/controls",
          "model_name": "HBoxModel",
          "state": {
            "_view_name": "HBoxView",
            "_dom_classes": [],
            "_model_name": "HBoxModel",
            "_view_module": "@jupyter-widgets/controls",
            "_model_module_version": "1.5.0",
            "_view_count": null,
            "_view_module_version": "1.5.0",
            "box_style": "",
            "layout": "IPY_MODEL_62ac97bc11da40508898ab6eaca27240",
            "_model_module": "@jupyter-widgets/controls",
            "children": [
              "IPY_MODEL_5d3abc267ef44a0f9358fd80998e3f40",
              "IPY_MODEL_cf35c36ada9b41d4a952de37c3ada554"
            ]
          }
        },
        "62ac97bc11da40508898ab6eaca27240": {
          "model_module": "@jupyter-widgets/base",
          "model_name": "LayoutModel",
          "state": {
            "_view_name": "LayoutView",
            "grid_template_rows": null,
            "right": null,
            "justify_content": null,
            "_view_module": "@jupyter-widgets/base",
            "overflow": null,
            "_model_module_version": "1.2.0",
            "_view_count": null,
            "flex_flow": null,
            "width": null,
            "min_width": null,
            "border": null,
            "align_items": null,
            "bottom": null,
            "_model_module": "@jupyter-widgets/base",
            "top": null,
            "grid_column": null,
            "overflow_y": null,
            "overflow_x": null,
            "grid_auto_flow": null,
            "grid_area": null,
            "grid_template_columns": null,
            "flex": null,
            "_model_name": "LayoutModel",
            "justify_items": null,
            "grid_row": null,
            "max_height": null,
            "align_content": null,
            "visibility": null,
            "align_self": null,
            "height": null,
            "min_height": null,
            "padding": null,
            "grid_auto_rows": null,
            "grid_gap": null,
            "max_width": null,
            "order": null,
            "_view_module_version": "1.2.0",
            "grid_template_areas": null,
            "object_position": null,
            "object_fit": null,
            "grid_auto_columns": null,
            "margin": null,
            "display": null,
            "left": null
          }
        },
        "5d3abc267ef44a0f9358fd80998e3f40": {
          "model_module": "@jupyter-widgets/controls",
          "model_name": "FloatProgressModel",
          "state": {
            "_view_name": "ProgressView",
            "style": "IPY_MODEL_a395d7defbdd44cabda7e03760fb34b8",
            "_dom_classes": [],
            "description": "Downloading: 100%",
            "_model_name": "FloatProgressModel",
            "bar_style": "success",
            "max": 1425941629,
            "_view_module": "@jupyter-widgets/controls",
            "_model_module_version": "1.5.0",
            "value": 1425941629,
            "_view_count": null,
            "_view_module_version": "1.5.0",
            "orientation": "horizontal",
            "min": 0,
            "description_tooltip": null,
            "_model_module": "@jupyter-widgets/controls",
            "layout": "IPY_MODEL_70c36fba33464d869c49c2969ebb3ecf"
          }
        },
        "cf35c36ada9b41d4a952de37c3ada554": {
          "model_module": "@jupyter-widgets/controls",
          "model_name": "HTMLModel",
          "state": {
            "_view_name": "HTMLView",
            "style": "IPY_MODEL_220f010be2c4475dadb912dab6a14e89",
            "_dom_classes": [],
            "description": "",
            "_model_name": "HTMLModel",
            "placeholder": "​",
            "_view_module": "@jupyter-widgets/controls",
            "_model_module_version": "1.5.0",
            "value": " 1.43G/1.43G [02:18&lt;00:00, 10.3MB/s]",
            "_view_count": null,
            "_view_module_version": "1.5.0",
            "description_tooltip": null,
            "_model_module": "@jupyter-widgets/controls",
            "layout": "IPY_MODEL_7d94e7eadac54a0185bd67b49c0f6388"
          }
        },
        "a395d7defbdd44cabda7e03760fb34b8": {
          "model_module": "@jupyter-widgets/controls",
          "model_name": "ProgressStyleModel",
          "state": {
            "_view_name": "StyleView",
            "_model_name": "ProgressStyleModel",
            "description_width": "initial",
            "_view_module": "@jupyter-widgets/base",
            "_model_module_version": "1.5.0",
            "_view_count": null,
            "_view_module_version": "1.2.0",
            "bar_color": null,
            "_model_module": "@jupyter-widgets/controls"
          }
        },
        "70c36fba33464d869c49c2969ebb3ecf": {
          "model_module": "@jupyter-widgets/base",
          "model_name": "LayoutModel",
          "state": {
            "_view_name": "LayoutView",
            "grid_template_rows": null,
            "right": null,
            "justify_content": null,
            "_view_module": "@jupyter-widgets/base",
            "overflow": null,
            "_model_module_version": "1.2.0",
            "_view_count": null,
            "flex_flow": null,
            "width": null,
            "min_width": null,
            "border": null,
            "align_items": null,
            "bottom": null,
            "_model_module": "@jupyter-widgets/base",
            "top": null,
            "grid_column": null,
            "overflow_y": null,
            "overflow_x": null,
            "grid_auto_flow": null,
            "grid_area": null,
            "grid_template_columns": null,
            "flex": null,
            "_model_name": "LayoutModel",
            "justify_items": null,
            "grid_row": null,
            "max_height": null,
            "align_content": null,
            "visibility": null,
            "align_self": null,
            "height": null,
            "min_height": null,
            "padding": null,
            "grid_auto_rows": null,
            "grid_gap": null,
            "max_width": null,
            "order": null,
            "_view_module_version": "1.2.0",
            "grid_template_areas": null,
            "object_position": null,
            "object_fit": null,
            "grid_auto_columns": null,
            "margin": null,
            "display": null,
            "left": null
          }
        },
        "220f010be2c4475dadb912dab6a14e89": {
          "model_module": "@jupyter-widgets/controls",
          "model_name": "DescriptionStyleModel",
          "state": {
            "_view_name": "StyleView",
            "_model_name": "DescriptionStyleModel",
            "description_width": "",
            "_view_module": "@jupyter-widgets/base",
            "_model_module_version": "1.5.0",
            "_view_count": null,
            "_view_module_version": "1.2.0",
            "_model_module": "@jupyter-widgets/controls"
          }
        },
        "7d94e7eadac54a0185bd67b49c0f6388": {
          "model_module": "@jupyter-widgets/base",
          "model_name": "LayoutModel",
          "state": {
            "_view_name": "LayoutView",
            "grid_template_rows": null,
            "right": null,
            "justify_content": null,
            "_view_module": "@jupyter-widgets/base",
            "overflow": null,
            "_model_module_version": "1.2.0",
            "_view_count": null,
            "flex_flow": null,
            "width": null,
            "min_width": null,
            "border": null,
            "align_items": null,
            "bottom": null,
            "_model_module": "@jupyter-widgets/base",
            "top": null,
            "grid_column": null,
            "overflow_y": null,
            "overflow_x": null,
            "grid_auto_flow": null,
            "grid_area": null,
            "grid_template_columns": null,
            "flex": null,
            "_model_name": "LayoutModel",
            "justify_items": null,
            "grid_row": null,
            "max_height": null,
            "align_content": null,
            "visibility": null,
            "align_self": null,
            "height": null,
            "min_height": null,
            "padding": null,
            "grid_auto_rows": null,
            "grid_gap": null,
            "max_width": null,
            "order": null,
            "_view_module_version": "1.2.0",
            "grid_template_areas": null,
            "object_position": null,
            "object_fit": null,
            "grid_auto_columns": null,
            "margin": null,
            "display": null,
            "left": null
          }
        },
        "30f25b4253fc418f8bb8d70d25403c2f": {
          "model_module": "@jupyter-widgets/controls",
          "model_name": "HBoxModel",
          "state": {
            "_view_name": "HBoxView",
            "_dom_classes": [],
            "_model_name": "HBoxModel",
            "_view_module": "@jupyter-widgets/controls",
            "_model_module_version": "1.5.0",
            "_view_count": null,
            "_view_module_version": "1.5.0",
            "box_style": "",
            "layout": "IPY_MODEL_54ee20a3520644de9a9797713e8518a6",
            "_model_module": "@jupyter-widgets/controls",
            "children": [
              "IPY_MODEL_14433a6b72cc4b9799d61b7c04a6876b",
              "IPY_MODEL_257013f9eff949b39a3d8fc31e66ef65"
            ]
          }
        },
        "54ee20a3520644de9a9797713e8518a6": {
          "model_module": "@jupyter-widgets/base",
          "model_name": "LayoutModel",
          "state": {
            "_view_name": "LayoutView",
            "grid_template_rows": null,
            "right": null,
            "justify_content": null,
            "_view_module": "@jupyter-widgets/base",
            "overflow": null,
            "_model_module_version": "1.2.0",
            "_view_count": null,
            "flex_flow": null,
            "width": null,
            "min_width": null,
            "border": null,
            "align_items": null,
            "bottom": null,
            "_model_module": "@jupyter-widgets/base",
            "top": null,
            "grid_column": null,
            "overflow_y": null,
            "overflow_x": null,
            "grid_auto_flow": null,
            "grid_area": null,
            "grid_template_columns": null,
            "flex": null,
            "_model_name": "LayoutModel",
            "justify_items": null,
            "grid_row": null,
            "max_height": null,
            "align_content": null,
            "visibility": null,
            "align_self": null,
            "height": null,
            "min_height": null,
            "padding": null,
            "grid_auto_rows": null,
            "grid_gap": null,
            "max_width": null,
            "order": null,
            "_view_module_version": "1.2.0",
            "grid_template_areas": null,
            "object_position": null,
            "object_fit": null,
            "grid_auto_columns": null,
            "margin": null,
            "display": null,
            "left": null
          }
        },
        "14433a6b72cc4b9799d61b7c04a6876b": {
          "model_module": "@jupyter-widgets/controls",
          "model_name": "FloatProgressModel",
          "state": {
            "_view_name": "ProgressView",
            "style": "IPY_MODEL_f90bf16d335d4c13b88f0a9a537b5413",
            "_dom_classes": [],
            "description": "Downloading: 100%",
            "_model_name": "FloatProgressModel",
            "bar_style": "success",
            "max": 898823,
            "_view_module": "@jupyter-widgets/controls",
            "_model_module_version": "1.5.0",
            "value": 898823,
            "_view_count": null,
            "_view_module_version": "1.5.0",
            "orientation": "horizontal",
            "min": 0,
            "description_tooltip": null,
            "_model_module": "@jupyter-widgets/controls",
            "layout": "IPY_MODEL_90983e6aed7f45a2a18c3e4bad6abb36"
          }
        },
        "257013f9eff949b39a3d8fc31e66ef65": {
          "model_module": "@jupyter-widgets/controls",
          "model_name": "HTMLModel",
          "state": {
            "_view_name": "HTMLView",
            "style": "IPY_MODEL_ab3a466283694c7e840cc2e49baaef1b",
            "_dom_classes": [],
            "description": "",
            "_model_name": "HTMLModel",
            "placeholder": "​",
            "_view_module": "@jupyter-widgets/controls",
            "_model_module_version": "1.5.0",
            "value": " 899k/899k [00:00&lt;00:00, 1.40MB/s]",
            "_view_count": null,
            "_view_module_version": "1.5.0",
            "description_tooltip": null,
            "_model_module": "@jupyter-widgets/controls",
            "layout": "IPY_MODEL_d96b3fa0997b4d5a9f435571f44a77f2"
          }
        },
        "f90bf16d335d4c13b88f0a9a537b5413": {
          "model_module": "@jupyter-widgets/controls",
          "model_name": "ProgressStyleModel",
          "state": {
            "_view_name": "StyleView",
            "_model_name": "ProgressStyleModel",
            "description_width": "initial",
            "_view_module": "@jupyter-widgets/base",
            "_model_module_version": "1.5.0",
            "_view_count": null,
            "_view_module_version": "1.2.0",
            "bar_color": null,
            "_model_module": "@jupyter-widgets/controls"
          }
        },
        "90983e6aed7f45a2a18c3e4bad6abb36": {
          "model_module": "@jupyter-widgets/base",
          "model_name": "LayoutModel",
          "state": {
            "_view_name": "LayoutView",
            "grid_template_rows": null,
            "right": null,
            "justify_content": null,
            "_view_module": "@jupyter-widgets/base",
            "overflow": null,
            "_model_module_version": "1.2.0",
            "_view_count": null,
            "flex_flow": null,
            "width": null,
            "min_width": null,
            "border": null,
            "align_items": null,
            "bottom": null,
            "_model_module": "@jupyter-widgets/base",
            "top": null,
            "grid_column": null,
            "overflow_y": null,
            "overflow_x": null,
            "grid_auto_flow": null,
            "grid_area": null,
            "grid_template_columns": null,
            "flex": null,
            "_model_name": "LayoutModel",
            "justify_items": null,
            "grid_row": null,
            "max_height": null,
            "align_content": null,
            "visibility": null,
            "align_self": null,
            "height": null,
            "min_height": null,
            "padding": null,
            "grid_auto_rows": null,
            "grid_gap": null,
            "max_width": null,
            "order": null,
            "_view_module_version": "1.2.0",
            "grid_template_areas": null,
            "object_position": null,
            "object_fit": null,
            "grid_auto_columns": null,
            "margin": null,
            "display": null,
            "left": null
          }
        },
        "ab3a466283694c7e840cc2e49baaef1b": {
          "model_module": "@jupyter-widgets/controls",
          "model_name": "DescriptionStyleModel",
          "state": {
            "_view_name": "StyleView",
            "_model_name": "DescriptionStyleModel",
            "description_width": "",
            "_view_module": "@jupyter-widgets/base",
            "_model_module_version": "1.5.0",
            "_view_count": null,
            "_view_module_version": "1.2.0",
            "_model_module": "@jupyter-widgets/controls"
          }
        },
        "d96b3fa0997b4d5a9f435571f44a77f2": {
          "model_module": "@jupyter-widgets/base",
          "model_name": "LayoutModel",
          "state": {
            "_view_name": "LayoutView",
            "grid_template_rows": null,
            "right": null,
            "justify_content": null,
            "_view_module": "@jupyter-widgets/base",
            "overflow": null,
            "_model_module_version": "1.2.0",
            "_view_count": null,
            "flex_flow": null,
            "width": null,
            "min_width": null,
            "border": null,
            "align_items": null,
            "bottom": null,
            "_model_module": "@jupyter-widgets/base",
            "top": null,
            "grid_column": null,
            "overflow_y": null,
            "overflow_x": null,
            "grid_auto_flow": null,
            "grid_area": null,
            "grid_template_columns": null,
            "flex": null,
            "_model_name": "LayoutModel",
            "justify_items": null,
            "grid_row": null,
            "max_height": null,
            "align_content": null,
            "visibility": null,
            "align_self": null,
            "height": null,
            "min_height": null,
            "padding": null,
            "grid_auto_rows": null,
            "grid_gap": null,
            "max_width": null,
            "order": null,
            "_view_module_version": "1.2.0",
            "grid_template_areas": null,
            "object_position": null,
            "object_fit": null,
            "grid_auto_columns": null,
            "margin": null,
            "display": null,
            "left": null
          }
        },
        "2fa65dff5c754957ad778f8625addc1e": {
          "model_module": "@jupyter-widgets/controls",
          "model_name": "HBoxModel",
          "state": {
            "_view_name": "HBoxView",
            "_dom_classes": [],
            "_model_name": "HBoxModel",
            "_view_module": "@jupyter-widgets/controls",
            "_model_module_version": "1.5.0",
            "_view_count": null,
            "_view_module_version": "1.5.0",
            "box_style": "",
            "layout": "IPY_MODEL_c9aea8efcf524e87a1bcf943edc73d78",
            "_model_module": "@jupyter-widgets/controls",
            "children": [
              "IPY_MODEL_5aadb739122342138a2806905853bd33",
              "IPY_MODEL_51ce448d80a045c0a30e4ebea1d9608b"
            ]
          }
        },
        "c9aea8efcf524e87a1bcf943edc73d78": {
          "model_module": "@jupyter-widgets/base",
          "model_name": "LayoutModel",
          "state": {
            "_view_name": "LayoutView",
            "grid_template_rows": null,
            "right": null,
            "justify_content": null,
            "_view_module": "@jupyter-widgets/base",
            "overflow": null,
            "_model_module_version": "1.2.0",
            "_view_count": null,
            "flex_flow": null,
            "width": null,
            "min_width": null,
            "border": null,
            "align_items": null,
            "bottom": null,
            "_model_module": "@jupyter-widgets/base",
            "top": null,
            "grid_column": null,
            "overflow_y": null,
            "overflow_x": null,
            "grid_auto_flow": null,
            "grid_area": null,
            "grid_template_columns": null,
            "flex": null,
            "_model_name": "LayoutModel",
            "justify_items": null,
            "grid_row": null,
            "max_height": null,
            "align_content": null,
            "visibility": null,
            "align_self": null,
            "height": null,
            "min_height": null,
            "padding": null,
            "grid_auto_rows": null,
            "grid_gap": null,
            "max_width": null,
            "order": null,
            "_view_module_version": "1.2.0",
            "grid_template_areas": null,
            "object_position": null,
            "object_fit": null,
            "grid_auto_columns": null,
            "margin": null,
            "display": null,
            "left": null
          }
        },
        "5aadb739122342138a2806905853bd33": {
          "model_module": "@jupyter-widgets/controls",
          "model_name": "FloatProgressModel",
          "state": {
            "_view_name": "ProgressView",
            "style": "IPY_MODEL_107ae170e01c4d2c9005c1541eb60d49",
            "_dom_classes": [],
            "description": "Downloading: 100%",
            "_model_name": "FloatProgressModel",
            "bar_style": "success",
            "max": 456318,
            "_view_module": "@jupyter-widgets/controls",
            "_model_module_version": "1.5.0",
            "value": 456318,
            "_view_count": null,
            "_view_module_version": "1.5.0",
            "orientation": "horizontal",
            "min": 0,
            "description_tooltip": null,
            "_model_module": "@jupyter-widgets/controls",
            "layout": "IPY_MODEL_a21ed0191e154d92b18068fb1e56dc4a"
          }
        },
        "51ce448d80a045c0a30e4ebea1d9608b": {
          "model_module": "@jupyter-widgets/controls",
          "model_name": "HTMLModel",
          "state": {
            "_view_name": "HTMLView",
            "style": "IPY_MODEL_6e766b5239ba442b9fcc820c296d5871",
            "_dom_classes": [],
            "description": "",
            "_model_name": "HTMLModel",
            "placeholder": "​",
            "_view_module": "@jupyter-widgets/controls",
            "_model_module_version": "1.5.0",
            "value": " 456k/456k [00:00&lt;00:00, 2.42MB/s]",
            "_view_count": null,
            "_view_module_version": "1.5.0",
            "description_tooltip": null,
            "_model_module": "@jupyter-widgets/controls",
            "layout": "IPY_MODEL_63ee8b06b3ae4f92bf2e06115f561750"
          }
        },
        "107ae170e01c4d2c9005c1541eb60d49": {
          "model_module": "@jupyter-widgets/controls",
          "model_name": "ProgressStyleModel",
          "state": {
            "_view_name": "StyleView",
            "_model_name": "ProgressStyleModel",
            "description_width": "initial",
            "_view_module": "@jupyter-widgets/base",
            "_model_module_version": "1.5.0",
            "_view_count": null,
            "_view_module_version": "1.2.0",
            "bar_color": null,
            "_model_module": "@jupyter-widgets/controls"
          }
        },
        "a21ed0191e154d92b18068fb1e56dc4a": {
          "model_module": "@jupyter-widgets/base",
          "model_name": "LayoutModel",
          "state": {
            "_view_name": "LayoutView",
            "grid_template_rows": null,
            "right": null,
            "justify_content": null,
            "_view_module": "@jupyter-widgets/base",
            "overflow": null,
            "_model_module_version": "1.2.0",
            "_view_count": null,
            "flex_flow": null,
            "width": null,
            "min_width": null,
            "border": null,
            "align_items": null,
            "bottom": null,
            "_model_module": "@jupyter-widgets/base",
            "top": null,
            "grid_column": null,
            "overflow_y": null,
            "overflow_x": null,
            "grid_auto_flow": null,
            "grid_area": null,
            "grid_template_columns": null,
            "flex": null,
            "_model_name": "LayoutModel",
            "justify_items": null,
            "grid_row": null,
            "max_height": null,
            "align_content": null,
            "visibility": null,
            "align_self": null,
            "height": null,
            "min_height": null,
            "padding": null,
            "grid_auto_rows": null,
            "grid_gap": null,
            "max_width": null,
            "order": null,
            "_view_module_version": "1.2.0",
            "grid_template_areas": null,
            "object_position": null,
            "object_fit": null,
            "grid_auto_columns": null,
            "margin": null,
            "display": null,
            "left": null
          }
        },
        "6e766b5239ba442b9fcc820c296d5871": {
          "model_module": "@jupyter-widgets/controls",
          "model_name": "DescriptionStyleModel",
          "state": {
            "_view_name": "StyleView",
            "_model_name": "DescriptionStyleModel",
            "description_width": "",
            "_view_module": "@jupyter-widgets/base",
            "_model_module_version": "1.5.0",
            "_view_count": null,
            "_view_module_version": "1.2.0",
            "_model_module": "@jupyter-widgets/controls"
          }
        },
        "63ee8b06b3ae4f92bf2e06115f561750": {
          "model_module": "@jupyter-widgets/base",
          "model_name": "LayoutModel",
          "state": {
            "_view_name": "LayoutView",
            "grid_template_rows": null,
            "right": null,
            "justify_content": null,
            "_view_module": "@jupyter-widgets/base",
            "overflow": null,
            "_model_module_version": "1.2.0",
            "_view_count": null,
            "flex_flow": null,
            "width": null,
            "min_width": null,
            "border": null,
            "align_items": null,
            "bottom": null,
            "_model_module": "@jupyter-widgets/base",
            "top": null,
            "grid_column": null,
            "overflow_y": null,
            "overflow_x": null,
            "grid_auto_flow": null,
            "grid_area": null,
            "grid_template_columns": null,
            "flex": null,
            "_model_name": "LayoutModel",
            "justify_items": null,
            "grid_row": null,
            "max_height": null,
            "align_content": null,
            "visibility": null,
            "align_self": null,
            "height": null,
            "min_height": null,
            "padding": null,
            "grid_auto_rows": null,
            "grid_gap": null,
            "max_width": null,
            "order": null,
            "_view_module_version": "1.2.0",
            "grid_template_areas": null,
            "object_position": null,
            "object_fit": null,
            "grid_auto_columns": null,
            "margin": null,
            "display": null,
            "left": null
          }
        },
        "a06f6fda5b9e4b30b216a9b05e3a6bf1": {
          "model_module": "@jupyter-widgets/controls",
          "model_name": "HBoxModel",
          "state": {
            "_view_name": "HBoxView",
            "_dom_classes": [],
            "_model_name": "HBoxModel",
            "_view_module": "@jupyter-widgets/controls",
            "_model_module_version": "1.5.0",
            "_view_count": null,
            "_view_module_version": "1.5.0",
            "box_style": "",
            "layout": "IPY_MODEL_2c42585aa5f641f5b30c1abe64277b3d",
            "_model_module": "@jupyter-widgets/controls",
            "children": [
              "IPY_MODEL_0df31c6222514a4f92e88701cbcd677a",
              "IPY_MODEL_08c73b9524254f4585d6a9f2721ddd65"
            ]
          }
        },
        "2c42585aa5f641f5b30c1abe64277b3d": {
          "model_module": "@jupyter-widgets/base",
          "model_name": "LayoutModel",
          "state": {
            "_view_name": "LayoutView",
            "grid_template_rows": null,
            "right": null,
            "justify_content": null,
            "_view_module": "@jupyter-widgets/base",
            "overflow": null,
            "_model_module_version": "1.2.0",
            "_view_count": null,
            "flex_flow": null,
            "width": null,
            "min_width": null,
            "border": null,
            "align_items": null,
            "bottom": null,
            "_model_module": "@jupyter-widgets/base",
            "top": null,
            "grid_column": null,
            "overflow_y": null,
            "overflow_x": null,
            "grid_auto_flow": null,
            "grid_area": null,
            "grid_template_columns": null,
            "flex": null,
            "_model_name": "LayoutModel",
            "justify_items": null,
            "grid_row": null,
            "max_height": null,
            "align_content": null,
            "visibility": null,
            "align_self": null,
            "height": null,
            "min_height": null,
            "padding": null,
            "grid_auto_rows": null,
            "grid_gap": null,
            "max_width": null,
            "order": null,
            "_view_module_version": "1.2.0",
            "grid_template_areas": null,
            "object_position": null,
            "object_fit": null,
            "grid_auto_columns": null,
            "margin": null,
            "display": null,
            "left": null
          }
        },
        "0df31c6222514a4f92e88701cbcd677a": {
          "model_module": "@jupyter-widgets/controls",
          "model_name": "FloatProgressModel",
          "state": {
            "_view_name": "ProgressView",
            "style": "IPY_MODEL_b5b9114a57f141949d596591382821a0",
            "_dom_classes": [],
            "description": "100%",
            "_model_name": "FloatProgressModel",
            "bar_style": "success",
            "max": 10,
            "_view_module": "@jupyter-widgets/controls",
            "_model_module_version": "1.5.0",
            "value": 10,
            "_view_count": null,
            "_view_module_version": "1.5.0",
            "orientation": "horizontal",
            "min": 0,
            "description_tooltip": null,
            "_model_module": "@jupyter-widgets/controls",
            "layout": "IPY_MODEL_710e4174eafd4fceb598f5321d02cded"
          }
        },
        "08c73b9524254f4585d6a9f2721ddd65": {
          "model_module": "@jupyter-widgets/controls",
          "model_name": "HTMLModel",
          "state": {
            "_view_name": "HTMLView",
            "style": "IPY_MODEL_86829dc3637c490fadde17e42c811663",
            "_dom_classes": [],
            "description": "",
            "_model_name": "HTMLModel",
            "placeholder": "​",
            "_view_module": "@jupyter-widgets/controls",
            "_model_module_version": "1.5.0",
            "value": " 10/10 [05:57&lt;00:00, 35.80s/it]",
            "_view_count": null,
            "_view_module_version": "1.5.0",
            "description_tooltip": null,
            "_model_module": "@jupyter-widgets/controls",
            "layout": "IPY_MODEL_8f9432dfc4fc493386c9539785ddb997"
          }
        },
        "b5b9114a57f141949d596591382821a0": {
          "model_module": "@jupyter-widgets/controls",
          "model_name": "ProgressStyleModel",
          "state": {
            "_view_name": "StyleView",
            "_model_name": "ProgressStyleModel",
            "description_width": "initial",
            "_view_module": "@jupyter-widgets/base",
            "_model_module_version": "1.5.0",
            "_view_count": null,
            "_view_module_version": "1.2.0",
            "bar_color": null,
            "_model_module": "@jupyter-widgets/controls"
          }
        },
        "710e4174eafd4fceb598f5321d02cded": {
          "model_module": "@jupyter-widgets/base",
          "model_name": "LayoutModel",
          "state": {
            "_view_name": "LayoutView",
            "grid_template_rows": null,
            "right": null,
            "justify_content": null,
            "_view_module": "@jupyter-widgets/base",
            "overflow": null,
            "_model_module_version": "1.2.0",
            "_view_count": null,
            "flex_flow": null,
            "width": null,
            "min_width": null,
            "border": null,
            "align_items": null,
            "bottom": null,
            "_model_module": "@jupyter-widgets/base",
            "top": null,
            "grid_column": null,
            "overflow_y": null,
            "overflow_x": null,
            "grid_auto_flow": null,
            "grid_area": null,
            "grid_template_columns": null,
            "flex": null,
            "_model_name": "LayoutModel",
            "justify_items": null,
            "grid_row": null,
            "max_height": null,
            "align_content": null,
            "visibility": null,
            "align_self": null,
            "height": null,
            "min_height": null,
            "padding": null,
            "grid_auto_rows": null,
            "grid_gap": null,
            "max_width": null,
            "order": null,
            "_view_module_version": "1.2.0",
            "grid_template_areas": null,
            "object_position": null,
            "object_fit": null,
            "grid_auto_columns": null,
            "margin": null,
            "display": null,
            "left": null
          }
        },
        "86829dc3637c490fadde17e42c811663": {
          "model_module": "@jupyter-widgets/controls",
          "model_name": "DescriptionStyleModel",
          "state": {
            "_view_name": "StyleView",
            "_model_name": "DescriptionStyleModel",
            "description_width": "",
            "_view_module": "@jupyter-widgets/base",
            "_model_module_version": "1.5.0",
            "_view_count": null,
            "_view_module_version": "1.2.0",
            "_model_module": "@jupyter-widgets/controls"
          }
        },
        "8f9432dfc4fc493386c9539785ddb997": {
          "model_module": "@jupyter-widgets/base",
          "model_name": "LayoutModel",
          "state": {
            "_view_name": "LayoutView",
            "grid_template_rows": null,
            "right": null,
            "justify_content": null,
            "_view_module": "@jupyter-widgets/base",
            "overflow": null,
            "_model_module_version": "1.2.0",
            "_view_count": null,
            "flex_flow": null,
            "width": null,
            "min_width": null,
            "border": null,
            "align_items": null,
            "bottom": null,
            "_model_module": "@jupyter-widgets/base",
            "top": null,
            "grid_column": null,
            "overflow_y": null,
            "overflow_x": null,
            "grid_auto_flow": null,
            "grid_area": null,
            "grid_template_columns": null,
            "flex": null,
            "_model_name": "LayoutModel",
            "justify_items": null,
            "grid_row": null,
            "max_height": null,
            "align_content": null,
            "visibility": null,
            "align_self": null,
            "height": null,
            "min_height": null,
            "padding": null,
            "grid_auto_rows": null,
            "grid_gap": null,
            "max_width": null,
            "order": null,
            "_view_module_version": "1.2.0",
            "grid_template_areas": null,
            "object_position": null,
            "object_fit": null,
            "grid_auto_columns": null,
            "margin": null,
            "display": null,
            "left": null
          }
        },
        "2453c12ddecb4a389fe369fbba3721a6": {
          "model_module": "@jupyter-widgets/controls",
          "model_name": "HBoxModel",
          "state": {
            "_view_name": "HBoxView",
            "_dom_classes": [],
            "_model_name": "HBoxModel",
            "_view_module": "@jupyter-widgets/controls",
            "_model_module_version": "1.5.0",
            "_view_count": null,
            "_view_module_version": "1.5.0",
            "box_style": "",
            "layout": "IPY_MODEL_860dd09ed4294f9daa0a787f65546216",
            "_model_module": "@jupyter-widgets/controls",
            "children": [
              "IPY_MODEL_0ff85d905a8a4c24a6ea763a1462537b",
              "IPY_MODEL_e154a27fb22242d99a15a35ae715fbf3"
            ]
          }
        },
        "860dd09ed4294f9daa0a787f65546216": {
          "model_module": "@jupyter-widgets/base",
          "model_name": "LayoutModel",
          "state": {
            "_view_name": "LayoutView",
            "grid_template_rows": null,
            "right": null,
            "justify_content": null,
            "_view_module": "@jupyter-widgets/base",
            "overflow": null,
            "_model_module_version": "1.2.0",
            "_view_count": null,
            "flex_flow": null,
            "width": null,
            "min_width": null,
            "border": null,
            "align_items": null,
            "bottom": null,
            "_model_module": "@jupyter-widgets/base",
            "top": null,
            "grid_column": null,
            "overflow_y": null,
            "overflow_x": null,
            "grid_auto_flow": null,
            "grid_area": null,
            "grid_template_columns": null,
            "flex": null,
            "_model_name": "LayoutModel",
            "justify_items": null,
            "grid_row": null,
            "max_height": null,
            "align_content": null,
            "visibility": null,
            "align_self": null,
            "height": null,
            "min_height": null,
            "padding": null,
            "grid_auto_rows": null,
            "grid_gap": null,
            "max_width": null,
            "order": null,
            "_view_module_version": "1.2.0",
            "grid_template_areas": null,
            "object_position": null,
            "object_fit": null,
            "grid_auto_columns": null,
            "margin": null,
            "display": null,
            "left": null
          }
        },
        "0ff85d905a8a4c24a6ea763a1462537b": {
          "model_module": "@jupyter-widgets/controls",
          "model_name": "FloatProgressModel",
          "state": {
            "_view_name": "ProgressView",
            "style": "IPY_MODEL_01a1d07a18024a4aa6f0f36f3967076c",
            "_dom_classes": [],
            "description": "100%",
            "_model_name": "FloatProgressModel",
            "bar_style": "success",
            "max": 2,
            "_view_module": "@jupyter-widgets/controls",
            "_model_module_version": "1.5.0",
            "value": 2,
            "_view_count": null,
            "_view_module_version": "1.5.0",
            "orientation": "horizontal",
            "min": 0,
            "description_tooltip": null,
            "_model_module": "@jupyter-widgets/controls",
            "layout": "IPY_MODEL_8edeef019c314f19983933d0a94e3e38"
          }
        },
        "e154a27fb22242d99a15a35ae715fbf3": {
          "model_module": "@jupyter-widgets/controls",
          "model_name": "HTMLModel",
          "state": {
            "_view_name": "HTMLView",
            "style": "IPY_MODEL_c0784093be6341f4b61e97be57d3fe87",
            "_dom_classes": [],
            "description": "",
            "_model_name": "HTMLModel",
            "placeholder": "​",
            "_view_module": "@jupyter-widgets/controls",
            "_model_module_version": "1.5.0",
            "value": " 2/2 [00:06&lt;00:00,  3.33s/it]",
            "_view_count": null,
            "_view_module_version": "1.5.0",
            "description_tooltip": null,
            "_model_module": "@jupyter-widgets/controls",
            "layout": "IPY_MODEL_31dfff14bd944ecab249c5cf36707690"
          }
        },
        "01a1d07a18024a4aa6f0f36f3967076c": {
          "model_module": "@jupyter-widgets/controls",
          "model_name": "ProgressStyleModel",
          "state": {
            "_view_name": "StyleView",
            "_model_name": "ProgressStyleModel",
            "description_width": "initial",
            "_view_module": "@jupyter-widgets/base",
            "_model_module_version": "1.5.0",
            "_view_count": null,
            "_view_module_version": "1.2.0",
            "bar_color": null,
            "_model_module": "@jupyter-widgets/controls"
          }
        },
        "8edeef019c314f19983933d0a94e3e38": {
          "model_module": "@jupyter-widgets/base",
          "model_name": "LayoutModel",
          "state": {
            "_view_name": "LayoutView",
            "grid_template_rows": null,
            "right": null,
            "justify_content": null,
            "_view_module": "@jupyter-widgets/base",
            "overflow": null,
            "_model_module_version": "1.2.0",
            "_view_count": null,
            "flex_flow": null,
            "width": null,
            "min_width": null,
            "border": null,
            "align_items": null,
            "bottom": null,
            "_model_module": "@jupyter-widgets/base",
            "top": null,
            "grid_column": null,
            "overflow_y": null,
            "overflow_x": null,
            "grid_auto_flow": null,
            "grid_area": null,
            "grid_template_columns": null,
            "flex": null,
            "_model_name": "LayoutModel",
            "justify_items": null,
            "grid_row": null,
            "max_height": null,
            "align_content": null,
            "visibility": null,
            "align_self": null,
            "height": null,
            "min_height": null,
            "padding": null,
            "grid_auto_rows": null,
            "grid_gap": null,
            "max_width": null,
            "order": null,
            "_view_module_version": "1.2.0",
            "grid_template_areas": null,
            "object_position": null,
            "object_fit": null,
            "grid_auto_columns": null,
            "margin": null,
            "display": null,
            "left": null
          }
        },
        "c0784093be6341f4b61e97be57d3fe87": {
          "model_module": "@jupyter-widgets/controls",
          "model_name": "DescriptionStyleModel",
          "state": {
            "_view_name": "StyleView",
            "_model_name": "DescriptionStyleModel",
            "description_width": "",
            "_view_module": "@jupyter-widgets/base",
            "_model_module_version": "1.5.0",
            "_view_count": null,
            "_view_module_version": "1.2.0",
            "_model_module": "@jupyter-widgets/controls"
          }
        },
        "31dfff14bd944ecab249c5cf36707690": {
          "model_module": "@jupyter-widgets/base",
          "model_name": "LayoutModel",
          "state": {
            "_view_name": "LayoutView",
            "grid_template_rows": null,
            "right": null,
            "justify_content": null,
            "_view_module": "@jupyter-widgets/base",
            "overflow": null,
            "_model_module_version": "1.2.0",
            "_view_count": null,
            "flex_flow": null,
            "width": null,
            "min_width": null,
            "border": null,
            "align_items": null,
            "bottom": null,
            "_model_module": "@jupyter-widgets/base",
            "top": null,
            "grid_column": null,
            "overflow_y": null,
            "overflow_x": null,
            "grid_auto_flow": null,
            "grid_area": null,
            "grid_template_columns": null,
            "flex": null,
            "_model_name": "LayoutModel",
            "justify_items": null,
            "grid_row": null,
            "max_height": null,
            "align_content": null,
            "visibility": null,
            "align_self": null,
            "height": null,
            "min_height": null,
            "padding": null,
            "grid_auto_rows": null,
            "grid_gap": null,
            "max_width": null,
            "order": null,
            "_view_module_version": "1.2.0",
            "grid_template_areas": null,
            "object_position": null,
            "object_fit": null,
            "grid_auto_columns": null,
            "margin": null,
            "display": null,
            "left": null
          }
        },
        "51b029a97c0b42c99399890a7c4501dc": {
          "model_module": "@jupyter-widgets/controls",
          "model_name": "HBoxModel",
          "state": {
            "_view_name": "HBoxView",
            "_dom_classes": [],
            "_model_name": "HBoxModel",
            "_view_module": "@jupyter-widgets/controls",
            "_model_module_version": "1.5.0",
            "_view_count": null,
            "_view_module_version": "1.5.0",
            "box_style": "",
            "layout": "IPY_MODEL_29e2e7d09d624f39a5ee45a4856b5930",
            "_model_module": "@jupyter-widgets/controls",
            "children": [
              "IPY_MODEL_df003bae59444bbab6869a9a6b91f1d9",
              "IPY_MODEL_9ca159f0971e4450acf17b13a1968a3b"
            ]
          }
        },
        "29e2e7d09d624f39a5ee45a4856b5930": {
          "model_module": "@jupyter-widgets/base",
          "model_name": "LayoutModel",
          "state": {
            "_view_name": "LayoutView",
            "grid_template_rows": null,
            "right": null,
            "justify_content": null,
            "_view_module": "@jupyter-widgets/base",
            "overflow": null,
            "_model_module_version": "1.2.0",
            "_view_count": null,
            "flex_flow": null,
            "width": null,
            "min_width": null,
            "border": null,
            "align_items": null,
            "bottom": null,
            "_model_module": "@jupyter-widgets/base",
            "top": null,
            "grid_column": null,
            "overflow_y": null,
            "overflow_x": null,
            "grid_auto_flow": null,
            "grid_area": null,
            "grid_template_columns": null,
            "flex": null,
            "_model_name": "LayoutModel",
            "justify_items": null,
            "grid_row": null,
            "max_height": null,
            "align_content": null,
            "visibility": null,
            "align_self": null,
            "height": null,
            "min_height": null,
            "padding": null,
            "grid_auto_rows": null,
            "grid_gap": null,
            "max_width": null,
            "order": null,
            "_view_module_version": "1.2.0",
            "grid_template_areas": null,
            "object_position": null,
            "object_fit": null,
            "grid_auto_columns": null,
            "margin": null,
            "display": null,
            "left": null
          }
        },
        "df003bae59444bbab6869a9a6b91f1d9": {
          "model_module": "@jupyter-widgets/controls",
          "model_name": "FloatProgressModel",
          "state": {
            "_view_name": "ProgressView",
            "style": "IPY_MODEL_fc8bb88e6cd14f82a92d2954ee32069f",
            "_dom_classes": [],
            "description": "100%",
            "_model_name": "FloatProgressModel",
            "bar_style": "success",
            "max": 8,
            "_view_module": "@jupyter-widgets/controls",
            "_model_module_version": "1.5.0",
            "value": 8,
            "_view_count": null,
            "_view_module_version": "1.5.0",
            "orientation": "horizontal",
            "min": 0,
            "description_tooltip": null,
            "_model_module": "@jupyter-widgets/controls",
            "layout": "IPY_MODEL_ad1434c063624f0c931e1ceaec870034"
          }
        },
        "9ca159f0971e4450acf17b13a1968a3b": {
          "model_module": "@jupyter-widgets/controls",
          "model_name": "HTMLModel",
          "state": {
            "_view_name": "HTMLView",
            "style": "IPY_MODEL_33d62a4d16044b5a88db4c8f962ace64",
            "_dom_classes": [],
            "description": "",
            "_model_name": "HTMLModel",
            "placeholder": "​",
            "_view_module": "@jupyter-widgets/controls",
            "_model_module_version": "1.5.0",
            "value": " 8/8 [05:13&lt;00:00, 39.16s/it]",
            "_view_count": null,
            "_view_module_version": "1.5.0",
            "description_tooltip": null,
            "_model_module": "@jupyter-widgets/controls",
            "layout": "IPY_MODEL_beb02047231d49939452aa0509045b50"
          }
        },
        "fc8bb88e6cd14f82a92d2954ee32069f": {
          "model_module": "@jupyter-widgets/controls",
          "model_name": "ProgressStyleModel",
          "state": {
            "_view_name": "StyleView",
            "_model_name": "ProgressStyleModel",
            "description_width": "initial",
            "_view_module": "@jupyter-widgets/base",
            "_model_module_version": "1.5.0",
            "_view_count": null,
            "_view_module_version": "1.2.0",
            "bar_color": null,
            "_model_module": "@jupyter-widgets/controls"
          }
        },
        "ad1434c063624f0c931e1ceaec870034": {
          "model_module": "@jupyter-widgets/base",
          "model_name": "LayoutModel",
          "state": {
            "_view_name": "LayoutView",
            "grid_template_rows": null,
            "right": null,
            "justify_content": null,
            "_view_module": "@jupyter-widgets/base",
            "overflow": null,
            "_model_module_version": "1.2.0",
            "_view_count": null,
            "flex_flow": null,
            "width": null,
            "min_width": null,
            "border": null,
            "align_items": null,
            "bottom": null,
            "_model_module": "@jupyter-widgets/base",
            "top": null,
            "grid_column": null,
            "overflow_y": null,
            "overflow_x": null,
            "grid_auto_flow": null,
            "grid_area": null,
            "grid_template_columns": null,
            "flex": null,
            "_model_name": "LayoutModel",
            "justify_items": null,
            "grid_row": null,
            "max_height": null,
            "align_content": null,
            "visibility": null,
            "align_self": null,
            "height": null,
            "min_height": null,
            "padding": null,
            "grid_auto_rows": null,
            "grid_gap": null,
            "max_width": null,
            "order": null,
            "_view_module_version": "1.2.0",
            "grid_template_areas": null,
            "object_position": null,
            "object_fit": null,
            "grid_auto_columns": null,
            "margin": null,
            "display": null,
            "left": null
          }
        },
        "33d62a4d16044b5a88db4c8f962ace64": {
          "model_module": "@jupyter-widgets/controls",
          "model_name": "DescriptionStyleModel",
          "state": {
            "_view_name": "StyleView",
            "_model_name": "DescriptionStyleModel",
            "description_width": "",
            "_view_module": "@jupyter-widgets/base",
            "_model_module_version": "1.5.0",
            "_view_count": null,
            "_view_module_version": "1.2.0",
            "_model_module": "@jupyter-widgets/controls"
          }
        },
        "beb02047231d49939452aa0509045b50": {
          "model_module": "@jupyter-widgets/base",
          "model_name": "LayoutModel",
          "state": {
            "_view_name": "LayoutView",
            "grid_template_rows": null,
            "right": null,
            "justify_content": null,
            "_view_module": "@jupyter-widgets/base",
            "overflow": null,
            "_model_module_version": "1.2.0",
            "_view_count": null,
            "flex_flow": null,
            "width": null,
            "min_width": null,
            "border": null,
            "align_items": null,
            "bottom": null,
            "_model_module": "@jupyter-widgets/base",
            "top": null,
            "grid_column": null,
            "overflow_y": null,
            "overflow_x": null,
            "grid_auto_flow": null,
            "grid_area": null,
            "grid_template_columns": null,
            "flex": null,
            "_model_name": "LayoutModel",
            "justify_items": null,
            "grid_row": null,
            "max_height": null,
            "align_content": null,
            "visibility": null,
            "align_self": null,
            "height": null,
            "min_height": null,
            "padding": null,
            "grid_auto_rows": null,
            "grid_gap": null,
            "max_width": null,
            "order": null,
            "_view_module_version": "1.2.0",
            "grid_template_areas": null,
            "object_position": null,
            "object_fit": null,
            "grid_auto_columns": null,
            "margin": null,
            "display": null,
            "left": null
          }
        }
      }
    }
  },
  "cells": [
    {
      "cell_type": "markdown",
      "metadata": {
        "id": "K5WsRSh49Yyg"
      },
      "source": [
        "В данном ноутбуке можно загрузить сохраненную модель, проверить качество на валидационном датасете и получить файл с предсказаниями для тестового датасета `submission.csv`"
      ]
    },
    {
      "cell_type": "markdown",
      "metadata": {
        "papermill": {
          "duration": 0.020523,
          "end_time": "2020-09-05T22:08:08.228630",
          "exception": false,
          "start_time": "2020-09-05T22:08:08.208107",
          "status": "completed"
        },
        "tags": [],
        "id": "T6oQrplUP6aS"
      },
      "source": [
        "# RoBERTa-large"
      ]
    },
    {
      "cell_type": "markdown",
      "metadata": {
        "id": "80hmnCA2W-7Q"
      },
      "source": [
        "Для решения задачи я использовала предобученную модель **RoBERTa** из библиотеки **Hugging Face**.\n",
        "\n",
        "Подробнее о модели можно прочитать по ссылкам:\n",
        "\n",
        "\n",
        "*   [RoBERTa: A Robustly Optimized BERT Pretraining Approach](https://arxiv.org/abs/1907.11692)\n",
        "\n",
        "*   [RoBERTa-large](https://huggingface.co/roberta-large)\n",
        "\n"
      ]
    },
    {
      "cell_type": "markdown",
      "metadata": {
        "papermill": {
          "duration": 0.022614,
          "end_time": "2020-09-05T22:08:08.270925",
          "exception": false,
          "start_time": "2020-09-05T22:08:08.248311",
          "status": "completed"
        },
        "tags": [],
        "id": "0eLPmdLIP6aT"
      },
      "source": [
        "## Dependencies"
      ]
    },
    {
      "cell_type": "code",
      "metadata": {
        "id": "-M3aIJ5PS-ww",
        "outputId": "9bc04bb3-8117-4335-d7e5-19089e180b4a",
        "colab": {
          "base_uri": "https://localhost:8080/",
          "height": 34
        }
      },
      "source": [
        "from google.colab import drive\n",
        "drive.mount('/content/drive')"
      ],
      "execution_count": 1,
      "outputs": [
        {
          "output_type": "stream",
          "text": [
            "Mounted at /content/drive\n"
          ],
          "name": "stdout"
        }
      ]
    },
    {
      "cell_type": "markdown",
      "metadata": {
        "id": "qc3lNeo__f-I"
      },
      "source": [
        "Установим библиотеки от Hugging Face"
      ]
    },
    {
      "cell_type": "code",
      "metadata": {
        "execution": {
          "iopub.execute_input": "2020-09-05T22:08:08.317383Z",
          "iopub.status.busy": "2020-09-05T22:08:08.316484Z",
          "iopub.status.idle": "2020-09-05T22:08:38.689545Z",
          "shell.execute_reply": "2020-09-05T22:08:38.688712Z"
        },
        "papermill": {
          "duration": 30.399134,
          "end_time": "2020-09-05T22:08:38.689688",
          "exception": false,
          "start_time": "2020-09-05T22:08:08.290554",
          "status": "completed"
        },
        "tags": [],
        "id": "zWj98ILJP6aW",
        "outputId": "e428f409-b4fe-4c4c-95c8-82edfbe7700d",
        "colab": {
          "base_uri": "https://localhost:8080/",
          "height": 1000
        }
      },
      "source": [
        "!pip install git+https://github.com/huggingface/transformers\n",
        "!pip install -U nlp"
      ],
      "execution_count": 2,
      "outputs": [
        {
          "output_type": "stream",
          "text": [
            "Collecting git+https://github.com/huggingface/transformers\n",
            "  Cloning https://github.com/huggingface/transformers to /tmp/pip-req-build-x6fjoo1v\n",
            "  Running command git clone -q https://github.com/huggingface/transformers /tmp/pip-req-build-x6fjoo1v\n",
            "  Installing build dependencies ... \u001b[?25l\u001b[?25hdone\n",
            "  Getting requirements to build wheel ... \u001b[?25l\u001b[?25hdone\n",
            "    Preparing wheel metadata ... \u001b[?25l\u001b[?25hdone\n",
            "Requirement already satisfied: dataclasses; python_version < \"3.7\" in /usr/local/lib/python3.6/dist-packages (from transformers==3.3.1) (0.7)\n",
            "Requirement already satisfied: regex!=2019.12.17 in /usr/local/lib/python3.6/dist-packages (from transformers==3.3.1) (2019.12.20)\n",
            "Requirement already satisfied: filelock in /usr/local/lib/python3.6/dist-packages (from transformers==3.3.1) (3.0.12)\n",
            "Collecting sentencepiece!=0.1.92\n",
            "\u001b[?25l  Downloading https://files.pythonhosted.org/packages/d4/a4/d0a884c4300004a78cca907a6ff9a5e9fe4f090f5d95ab341c53d28cbc58/sentencepiece-0.1.91-cp36-cp36m-manylinux1_x86_64.whl (1.1MB)\n",
            "\u001b[K     |████████████████████████████████| 1.1MB 3.4MB/s \n",
            "\u001b[?25hRequirement already satisfied: requests in /usr/local/lib/python3.6/dist-packages (from transformers==3.3.1) (2.23.0)\n",
            "Requirement already satisfied: tqdm>=4.27 in /usr/local/lib/python3.6/dist-packages (from transformers==3.3.1) (4.41.1)\n",
            "Collecting sacremoses\n",
            "\u001b[?25l  Downloading https://files.pythonhosted.org/packages/7d/34/09d19aff26edcc8eb2a01bed8e98f13a1537005d31e95233fd48216eed10/sacremoses-0.0.43.tar.gz (883kB)\n",
            "\u001b[K     |████████████████████████████████| 890kB 8.5MB/s \n",
            "\u001b[?25hRequirement already satisfied: packaging in /usr/local/lib/python3.6/dist-packages (from transformers==3.3.1) (20.4)\n",
            "Collecting tokenizers==0.8.1.rc2\n",
            "\u001b[?25l  Downloading https://files.pythonhosted.org/packages/80/83/8b9fccb9e48eeb575ee19179e2bdde0ee9a1904f97de5f02d19016b8804f/tokenizers-0.8.1rc2-cp36-cp36m-manylinux1_x86_64.whl (3.0MB)\n",
            "\u001b[K     |████████████████████████████████| 3.0MB 8.9MB/s \n",
            "\u001b[?25hRequirement already satisfied: numpy in /usr/local/lib/python3.6/dist-packages (from transformers==3.3.1) (1.18.5)\n",
            "Requirement already satisfied: certifi>=2017.4.17 in /usr/local/lib/python3.6/dist-packages (from requests->transformers==3.3.1) (2020.6.20)\n",
            "Requirement already satisfied: urllib3!=1.25.0,!=1.25.1,<1.26,>=1.21.1 in /usr/local/lib/python3.6/dist-packages (from requests->transformers==3.3.1) (1.24.3)\n",
            "Requirement already satisfied: chardet<4,>=3.0.2 in /usr/local/lib/python3.6/dist-packages (from requests->transformers==3.3.1) (3.0.4)\n",
            "Requirement already satisfied: idna<3,>=2.5 in /usr/local/lib/python3.6/dist-packages (from requests->transformers==3.3.1) (2.10)\n",
            "Requirement already satisfied: six in /usr/local/lib/python3.6/dist-packages (from sacremoses->transformers==3.3.1) (1.15.0)\n",
            "Requirement already satisfied: click in /usr/local/lib/python3.6/dist-packages (from sacremoses->transformers==3.3.1) (7.1.2)\n",
            "Requirement already satisfied: joblib in /usr/local/lib/python3.6/dist-packages (from sacremoses->transformers==3.3.1) (0.16.0)\n",
            "Requirement already satisfied: pyparsing>=2.0.2 in /usr/local/lib/python3.6/dist-packages (from packaging->transformers==3.3.1) (2.4.7)\n",
            "Building wheels for collected packages: transformers\n",
            "  Building wheel for transformers (PEP 517) ... \u001b[?25l\u001b[?25hdone\n",
            "  Created wheel for transformers: filename=transformers-3.3.1-cp36-none-any.whl size=1061349 sha256=0614d9d433c938ee33933991d585764c32fe511ebd8168691040b8b0f4fc3cf7\n",
            "  Stored in directory: /tmp/pip-ephem-wheel-cache-mq54zigh/wheels/70/d3/52/b3fa4f8b8ef04167ac62e5bb2accb62ae764db2a378247490e\n",
            "Successfully built transformers\n",
            "Building wheels for collected packages: sacremoses\n",
            "  Building wheel for sacremoses (setup.py) ... \u001b[?25l\u001b[?25hdone\n",
            "  Created wheel for sacremoses: filename=sacremoses-0.0.43-cp36-none-any.whl size=893257 sha256=1cad5efd20261ff98755e44fb4795a8cbb316cdbdc2d21c24b912fb7e92172bf\n",
            "  Stored in directory: /root/.cache/pip/wheels/29/3c/fd/7ce5c3f0666dab31a50123635e6fb5e19ceb42ce38d4e58f45\n",
            "Successfully built sacremoses\n",
            "Installing collected packages: sentencepiece, sacremoses, tokenizers, transformers\n",
            "Successfully installed sacremoses-0.0.43 sentencepiece-0.1.91 tokenizers-0.8.1rc2 transformers-3.3.1\n",
            "Collecting nlp\n",
            "\u001b[?25l  Downloading https://files.pythonhosted.org/packages/09/e3/bcdc59f3434b224040c1047769c47b82705feca2b89ebbc28311e3764782/nlp-0.4.0-py3-none-any.whl (1.7MB)\n",
            "\u001b[K     |████████████████████████████████| 1.7MB 3.4MB/s \n",
            "\u001b[?25hCollecting pyarrow>=0.16.0\n",
            "\u001b[?25l  Downloading https://files.pythonhosted.org/packages/f3/99/0a605f016121ca314d1469dc9069e4978395bc46fda40f73099d90ad3ba4/pyarrow-1.0.1-cp36-cp36m-manylinux2014_x86_64.whl (17.3MB)\n",
            "\u001b[K     |████████████████████████████████| 17.3MB 4.5MB/s \n",
            "\u001b[?25hCollecting xxhash\n",
            "\u001b[?25l  Downloading https://files.pythonhosted.org/packages/f7/73/826b19f3594756cb1c6c23d2fbd8ca6a77a9cd3b650c9dec5acc85004c38/xxhash-2.0.0-cp36-cp36m-manylinux2010_x86_64.whl (242kB)\n",
            "\u001b[K     |████████████████████████████████| 245kB 5.8MB/s \n",
            "\u001b[?25hRequirement already satisfied, skipping upgrade: filelock in /usr/local/lib/python3.6/dist-packages (from nlp) (3.0.12)\n",
            "Requirement already satisfied, skipping upgrade: requests>=2.19.0 in /usr/local/lib/python3.6/dist-packages (from nlp) (2.23.0)\n",
            "Requirement already satisfied, skipping upgrade: numpy in /usr/local/lib/python3.6/dist-packages (from nlp) (1.18.5)\n",
            "Requirement already satisfied, skipping upgrade: tqdm>=4.27 in /usr/local/lib/python3.6/dist-packages (from nlp) (4.41.1)\n",
            "Requirement already satisfied, skipping upgrade: pandas in /usr/local/lib/python3.6/dist-packages (from nlp) (1.1.2)\n",
            "Requirement already satisfied, skipping upgrade: dill in /usr/local/lib/python3.6/dist-packages (from nlp) (0.3.2)\n",
            "Requirement already satisfied, skipping upgrade: dataclasses; python_version < \"3.7\" in /usr/local/lib/python3.6/dist-packages (from nlp) (0.7)\n",
            "Requirement already satisfied, skipping upgrade: urllib3!=1.25.0,!=1.25.1,<1.26,>=1.21.1 in /usr/local/lib/python3.6/dist-packages (from requests>=2.19.0->nlp) (1.24.3)\n",
            "Requirement already satisfied, skipping upgrade: certifi>=2017.4.17 in /usr/local/lib/python3.6/dist-packages (from requests>=2.19.0->nlp) (2020.6.20)\n",
            "Requirement already satisfied, skipping upgrade: chardet<4,>=3.0.2 in /usr/local/lib/python3.6/dist-packages (from requests>=2.19.0->nlp) (3.0.4)\n",
            "Requirement already satisfied, skipping upgrade: idna<3,>=2.5 in /usr/local/lib/python3.6/dist-packages (from requests>=2.19.0->nlp) (2.10)\n",
            "Requirement already satisfied, skipping upgrade: python-dateutil>=2.7.3 in /usr/local/lib/python3.6/dist-packages (from pandas->nlp) (2.8.1)\n",
            "Requirement already satisfied, skipping upgrade: pytz>=2017.2 in /usr/local/lib/python3.6/dist-packages (from pandas->nlp) (2018.9)\n",
            "Requirement already satisfied, skipping upgrade: six>=1.5 in /usr/local/lib/python3.6/dist-packages (from python-dateutil>=2.7.3->pandas->nlp) (1.15.0)\n",
            "Installing collected packages: pyarrow, xxhash, nlp\n",
            "  Found existing installation: pyarrow 0.14.1\n",
            "    Uninstalling pyarrow-0.14.1:\n",
            "      Successfully uninstalled pyarrow-0.14.1\n",
            "Successfully installed nlp-0.4.0 pyarrow-1.0.1 xxhash-2.0.0\n"
          ],
          "name": "stdout"
        }
      ]
    },
    {
      "cell_type": "markdown",
      "metadata": {
        "id": "6kpvALTI_lhP"
      },
      "source": [
        "Для работы на TPU установим PyTorch-XLA"
      ]
    },
    {
      "cell_type": "code",
      "metadata": {
        "_cell_guid": "b1076dfc-b9ad-4769-8c92-a6c4dae69d19",
        "_kg_hide-input": true,
        "_kg_hide-output": true,
        "_uuid": "8f2839f25d086af736a60e9eeb907d3b93b6e0e5",
        "execution": {
          "iopub.execute_input": "2020-09-05T22:08:38.748722Z",
          "iopub.status.busy": "2020-09-05T22:08:38.747472Z",
          "iopub.status.idle": "2020-09-05T22:10:15.283546Z",
          "shell.execute_reply": "2020-09-05T22:10:15.282840Z"
        },
        "papermill": {
          "duration": 96.571073,
          "end_time": "2020-09-05T22:10:15.283678",
          "exception": false,
          "start_time": "2020-09-05T22:08:38.712605",
          "status": "completed"
        },
        "tags": [],
        "id": "M4pdjTocP6aY",
        "outputId": "73e1536f-ec7c-4dfc-e3fb-5a99c768b48e",
        "colab": {
          "base_uri": "https://localhost:8080/",
          "height": 1000
        }
      },
      "source": [
        "!curl https://raw.githubusercontent.com/pytorch/xla/master/contrib/scripts/env-setup.py -o pytorch-xla-env-setup.py\n",
        "!python pytorch-xla-env-setup.py --version 20200924  --apt-packages libomp5 libopenblas-dev"
      ],
      "execution_count": 3,
      "outputs": [
        {
          "output_type": "stream",
          "text": [
            "  % Total    % Received % Xferd  Average Speed   Time    Time     Time  Current\n",
            "                                 Dload  Upload   Total   Spent    Left  Speed\n",
            "\r  0     0    0     0    0     0      0      0 --:--:-- --:--:-- --:--:--     0\r100  5116  100  5116    0     0  91357      0 --:--:-- --:--:-- --:--:-- 91357\n",
            "Updating... This may take around 2 minutes.\n",
            "Updating TPU runtime to pytorch-dev20200924 ...\n",
            "Collecting cloud-tpu-client\n",
            "  Downloading https://files.pythonhosted.org/packages/56/9f/7b1958c2886db06feb5de5b2c191096f9e619914b6c31fdf93999fdbbd8b/cloud_tpu_client-0.10-py3-none-any.whl\n",
            "Requirement already satisfied: oauth2client in /usr/local/lib/python3.6/dist-packages (from cloud-tpu-client) (4.1.3)\n",
            "Collecting google-api-python-client==1.8.0\n",
            "\u001b[?25l  Downloading https://files.pythonhosted.org/packages/9a/b4/a955f393b838bc47cbb6ae4643b9d0f90333d3b4db4dc1e819f36aad18cc/google_api_python_client-1.8.0-py3-none-any.whl (57kB)\n",
            "\u001b[K     |████████████████████████████████| 61kB 3.0MB/s \n",
            "\u001b[?25hRequirement already satisfied: six>=1.6.1 in /usr/local/lib/python3.6/dist-packages (from oauth2client->cloud-tpu-client) (1.15.0)\n",
            "Requirement already satisfied: pyasn1>=0.1.7 in /usr/local/lib/python3.6/dist-packages (from oauth2client->cloud-tpu-client) (0.4.8)\n",
            "Requirement already satisfied: rsa>=3.1.4 in /usr/local/lib/python3.6/dist-packages (from oauth2client->cloud-tpu-client) (4.6)\n",
            "Requirement already satisfied: httplib2>=0.9.1 in /usr/local/lib/python3.6/dist-packages (from oauth2client->cloud-tpu-client) (0.17.4)\n",
            "Requirement already satisfied: pyasn1-modules>=0.0.5 in /usr/local/lib/python3.6/dist-packages (from oauth2client->cloud-tpu-client) (0.2.8)\n",
            "Requirement already satisfied: uritemplate<4dev,>=3.0.0 in /usr/local/lib/python3.6/dist-packages (from google-api-python-client==1.8.0->cloud-tpu-client) (3.0.1)\n",
            "Requirement already satisfied: google-auth-httplib2>=0.0.3 in /usr/local/lib/python3.6/dist-packages (from google-api-python-client==1.8.0->cloud-tpu-client) (0.0.4)\n",
            "Requirement already satisfied: google-api-core<2dev,>=1.13.0 in /usr/local/lib/python3.6/dist-packages (from google-api-python-client==1.8.0->cloud-tpu-client) (1.16.0)\n",
            "Uninstalling torch-1.6.0+cu101:\n",
            "Requirement already satisfied: google-auth>=1.4.1 in /usr/local/lib/python3.6/dist-packages (from google-api-python-client==1.8.0->cloud-tpu-client) (1.17.2)\n",
            "Requirement already satisfied: requests<3.0.0dev,>=2.18.0 in /usr/local/lib/python3.6/dist-packages (from google-api-core<2dev,>=1.13.0->google-api-python-client==1.8.0->cloud-tpu-client) (2.23.0)\n",
            "Requirement already satisfied: protobuf>=3.4.0 in /usr/local/lib/python3.6/dist-packages (from google-api-core<2dev,>=1.13.0->google-api-python-client==1.8.0->cloud-tpu-client) (3.12.4)\n",
            "Requirement already satisfied: setuptools>=34.0.0 in /usr/local/lib/python3.6/dist-packages (from google-api-core<2dev,>=1.13.0->google-api-python-client==1.8.0->cloud-tpu-client) (50.3.0)\n",
            "Requirement already satisfied: googleapis-common-protos<2.0dev,>=1.6.0 in /usr/local/lib/python3.6/dist-packages (from google-api-core<2dev,>=1.13.0->google-api-python-client==1.8.0->cloud-tpu-client) (1.52.0)\n",
            "Requirement already satisfied: pytz in /usr/local/lib/python3.6/dist-packages (from google-api-core<2dev,>=1.13.0->google-api-python-client==1.8.0->cloud-tpu-client) (2018.9)\n",
            "Requirement already satisfied: cachetools<5.0,>=2.0.0 in /usr/local/lib/python3.6/dist-packages (from google-auth>=1.4.1->google-api-python-client==1.8.0->cloud-tpu-client) (4.1.1)\n",
            "Requirement already satisfied: idna<3,>=2.5 in /usr/local/lib/python3.6/dist-packages (from requests<3.0.0dev,>=2.18.0->google-api-core<2dev,>=1.13.0->google-api-python-client==1.8.0->cloud-tpu-client) (2.10)\n",
            "Requirement already satisfied: certifi>=2017.4.17 in /usr/local/lib/python3.6/dist-packages (from requests<3.0.0dev,>=2.18.0->google-api-core<2dev,>=1.13.0->google-api-python-client==1.8.0->cloud-tpu-client) (2020.6.20)\n",
            "Requirement already satisfied: chardet<4,>=3.0.2 in /usr/local/lib/python3.6/dist-packages (from requests<3.0.0dev,>=2.18.0->google-api-core<2dev,>=1.13.0->google-api-python-client==1.8.0->cloud-tpu-client) (3.0.4)\n",
            "Requirement already satisfied: urllib3!=1.25.0,!=1.25.1,<1.26,>=1.21.1 in /usr/local/lib/python3.6/dist-packages (from requests<3.0.0dev,>=2.18.0->google-api-core<2dev,>=1.13.0->google-api-python-client==1.8.0->cloud-tpu-client) (1.24.3)\n",
            "Installing collected packages: google-api-python-client, cloud-tpu-client\n",
            "  Found existing installation: google-api-python-client 1.7.12\n",
            "    Uninstalling google-api-python-client-1.7.12:\n",
            "      Successfully uninstalled google-api-python-client-1.7.12\n",
            "Successfully installed cloud-tpu-client-0.10 google-api-python-client-1.8.0\n",
            "Done updating TPU runtime\n",
            "  Successfully uninstalled torch-1.6.0+cu101\n",
            "Uninstalling torchvision-0.7.0+cu101:\n",
            "  Successfully uninstalled torchvision-0.7.0+cu101\n",
            "Copying gs://tpu-pytorch/wheels/torch-nightly+20200924-cp36-cp36m-linux_x86_64.whl...\n",
            "|\n",
            "Operation completed over 1 objects/113.8 MiB.                                    \n",
            "Copying gs://tpu-pytorch/wheels/torch_xla-nightly+20200924-cp36-cp36m-linux_x86_64.whl...\n",
            "\\ [1 files][128.0 MiB/128.0 MiB]                                                \n",
            "Operation completed over 1 objects/128.0 MiB.                                    \n",
            "Copying gs://tpu-pytorch/wheels/torchvision-nightly+20200924-cp36-cp36m-linux_x86_64.whl...\n",
            "/ [1 files][  2.4 MiB/  2.4 MiB]                                                \n",
            "Operation completed over 1 objects/2.4 MiB.                                      \n",
            "Processing ./torch-nightly+20200924-cp36-cp36m-linux_x86_64.whl\n",
            "Requirement already satisfied: dataclasses in /usr/local/lib/python3.6/dist-packages (from torch==nightly+20200924) (0.7)\n",
            "Requirement already satisfied: numpy in /usr/local/lib/python3.6/dist-packages (from torch==nightly+20200924) (1.18.5)\n",
            "Requirement already satisfied: typing-extensions in /usr/local/lib/python3.6/dist-packages (from torch==nightly+20200924) (3.7.4.3)\n",
            "Requirement already satisfied: future in /usr/local/lib/python3.6/dist-packages (from torch==nightly+20200924) (0.16.0)\n",
            "\u001b[31mERROR: fastai 1.0.61 requires torchvision, which is not installed.\u001b[0m\n",
            "Installing collected packages: torch\n",
            "Successfully installed torch-1.7.0a0\n",
            "Processing ./torch_xla-nightly+20200924-cp36-cp36m-linux_x86_64.whl\n",
            "Installing collected packages: torch-xla\n",
            "Successfully installed torch-xla-1.6+7dfa77f\n",
            "Processing ./torchvision-nightly+20200924-cp36-cp36m-linux_x86_64.whl\n",
            "Requirement already satisfied: torch in /usr/local/lib/python3.6/dist-packages (from torchvision==nightly+20200924) (1.7.0a0)\n",
            "Requirement already satisfied: pillow>=4.1.1 in /usr/local/lib/python3.6/dist-packages (from torchvision==nightly+20200924) (7.0.0)\n",
            "Requirement already satisfied: numpy in /usr/local/lib/python3.6/dist-packages (from torchvision==nightly+20200924) (1.18.5)\n",
            "Requirement already satisfied: typing-extensions in /usr/local/lib/python3.6/dist-packages (from torch->torchvision==nightly+20200924) (3.7.4.3)\n",
            "Requirement already satisfied: future in /usr/local/lib/python3.6/dist-packages (from torch->torchvision==nightly+20200924) (0.16.0)\n",
            "Requirement already satisfied: dataclasses in /usr/local/lib/python3.6/dist-packages (from torch->torchvision==nightly+20200924) (0.7)\n",
            "Installing collected packages: torchvision\n",
            "Successfully installed torchvision-0.8.0a0+15848ed\n",
            "Reading package lists... Done\n",
            "Building dependency tree       \n",
            "Reading state information... Done\n",
            "libopenblas-dev is already the newest version (0.2.20+ds-4).\n",
            "The following NEW packages will be installed:\n",
            "  libomp5\n",
            "0 upgraded, 1 newly installed, 0 to remove and 21 not upgraded.\n",
            "Need to get 234 kB of archives.\n",
            "After this operation, 774 kB of additional disk space will be used.\n",
            "Get:1 http://archive.ubuntu.com/ubuntu bionic/universe amd64 libomp5 amd64 5.0.1-1 [234 kB]\n",
            "Fetched 234 kB in 1s (372 kB/s)\n",
            "Selecting previously unselected package libomp5:amd64.\n",
            "(Reading database ... 144619 files and directories currently installed.)\n",
            "Preparing to unpack .../libomp5_5.0.1-1_amd64.deb ...\n",
            "Unpacking libomp5:amd64 (5.0.1-1) ...\n",
            "Setting up libomp5:amd64 (5.0.1-1) ...\n",
            "Processing triggers for libc-bin (2.27-3ubuntu1.2) ...\n",
            "/sbin/ldconfig.real: /usr/local/lib/python3.6/dist-packages/ideep4py/lib/libmkldnn.so.0 is not a symbolic link\n",
            "\n"
          ],
          "name": "stdout"
        }
      ]
    },
    {
      "cell_type": "markdown",
      "metadata": {
        "id": "BzrQbAsg_1KA"
      },
      "source": [
        "Импортируем необходимые библиотеки"
      ]
    },
    {
      "cell_type": "code",
      "metadata": {
        "_cell_guid": "79c7e3d0-c299-4dcb-8224-4455121ee9b0",
        "_uuid": "d629ff2d2480ee46fbb7e2d37f6b5fab8052498a",
        "execution": {
          "iopub.execute_input": "2020-09-05T22:10:15.354859Z",
          "iopub.status.busy": "2020-09-05T22:10:15.354053Z",
          "iopub.status.idle": "2020-09-05T22:10:23.499112Z",
          "shell.execute_reply": "2020-09-05T22:10:23.498427Z"
        },
        "papermill": {
          "duration": 8.187478,
          "end_time": "2020-09-05T22:10:23.499287",
          "exception": false,
          "start_time": "2020-09-05T22:10:15.311809",
          "status": "completed"
        },
        "tags": [],
        "id": "2xBqKFQ3P6aa"
      },
      "source": [
        "import os\n",
        "os.environ['XLA_USE_BF16'] = \"1\"\n",
        "os.environ['XLA_TENSOR_ALLOCATOR_MAXSIZE'] = '100000000'\n",
        "\n",
        "import gc\n",
        "gc.enable()\n",
        "\n",
        "import numpy as np\n",
        "import pandas as pd\n",
        "\n",
        "import transformers\n",
        "from transformers import AutoTokenizer, AutoModelForSequenceClassification, AdamW\n",
        "\n",
        "import torch\n",
        "import torch.nn as nn\n",
        "import torch.nn.functional as F\n",
        "from torch.utils.data import DataLoader #, Dataset\n",
        "from torch.utils.data.distributed import DistributedSampler\n",
        "\n",
        "import torch_xla\n",
        "import torch_xla.core.xla_model as xm\n",
        "import torch_xla.debug.metrics as met\n",
        "import torch_xla.distributed.parallel_loader as pl\n",
        "import torch_xla.distributed.xla_multiprocessing as xmp\n",
        "import torch_xla.utils.serialization as xser\n",
        "import torch_xla.version as xv\n",
        "\n",
        "import warnings\n",
        "warnings.filterwarnings(\"ignore\")"
      ],
      "execution_count": 4,
      "outputs": []
    },
    {
      "cell_type": "markdown",
      "metadata": {
        "id": "6JjN0Dko_6Go"
      },
      "source": [
        "Зафиксируем `seed` для воспроизводимости результата"
      ]
    },
    {
      "cell_type": "code",
      "metadata": {
        "execution": {
          "iopub.execute_input": "2020-09-05T22:10:23.569267Z",
          "iopub.status.busy": "2020-09-05T22:10:23.568501Z",
          "iopub.status.idle": "2020-09-05T22:10:23.573136Z",
          "shell.execute_reply": "2020-09-05T22:10:23.572435Z"
        },
        "papermill": {
          "duration": 0.045398,
          "end_time": "2020-09-05T22:10:23.573331",
          "exception": false,
          "start_time": "2020-09-05T22:10:23.527933",
          "status": "completed"
        },
        "tags": [],
        "id": "k99FYvfLP6ab"
      },
      "source": [
        "import random\n",
        "\n",
        "def my_seed(seed=42):\n",
        "    torch.manual_seed(seed)\n",
        "    np.random.seed(seed)\n",
        "    random.seed(seed)\n",
        "\n",
        "my_seed()"
      ],
      "execution_count": 5,
      "outputs": []
    },
    {
      "cell_type": "markdown",
      "metadata": {
        "papermill": {
          "duration": 0.036229,
          "end_time": "2020-09-05T22:11:38.510307",
          "exception": false,
          "start_time": "2020-09-05T22:11:38.474078",
          "status": "completed"
        },
        "tags": [],
        "id": "YYuQzquiP6ac"
      },
      "source": [
        "## Model"
      ]
    },
    {
      "cell_type": "markdown",
      "metadata": {
        "id": "_sWwZUIPAAm_"
      },
      "source": [
        "Загружаем предобученную модель `roberta-large` и токенизатор"
      ]
    },
    {
      "cell_type": "code",
      "metadata": {
        "execution": {
          "iopub.execute_input": "2020-09-05T22:11:38.589175Z",
          "iopub.status.busy": "2020-09-05T22:11:38.588440Z",
          "iopub.status.idle": "2020-09-05T22:13:15.608403Z",
          "shell.execute_reply": "2020-09-05T22:13:15.607633Z"
        },
        "papermill": {
          "duration": 97.061659,
          "end_time": "2020-09-05T22:13:15.608558",
          "exception": false,
          "start_time": "2020-09-05T22:11:38.546899",
          "status": "completed"
        },
        "tags": [],
        "id": "Pvh2LFDeP6ad",
        "outputId": "f5047247-d19d-49e8-e4cf-14d4f11d5acd",
        "colab": {
          "base_uri": "https://localhost:8080/",
          "height": 323,
          "referenced_widgets": [
            "50ebfe5457804ca698e8abfa53002a5a",
            "e20e8ad1c9bc40b290851c1470ed32f7",
            "dae68580f1aa4c07af3841c9e030622f",
            "580bb0be53574d55acfd2bd16b82e683",
            "f99f9cbcdd684291a9d3feeae1c07af5",
            "cb2a085f0a954389837bf5cc01270184",
            "6d02a2a1273a4e38b71c7d44c796f8ac",
            "6ee5f3b969ba47f9983c55ad29b8f060",
            "ad2e636ff9b34d13851bbf3d34aa1794",
            "62ac97bc11da40508898ab6eaca27240",
            "5d3abc267ef44a0f9358fd80998e3f40",
            "cf35c36ada9b41d4a952de37c3ada554",
            "a395d7defbdd44cabda7e03760fb34b8",
            "70c36fba33464d869c49c2969ebb3ecf",
            "220f010be2c4475dadb912dab6a14e89",
            "7d94e7eadac54a0185bd67b49c0f6388",
            "30f25b4253fc418f8bb8d70d25403c2f",
            "54ee20a3520644de9a9797713e8518a6",
            "14433a6b72cc4b9799d61b7c04a6876b",
            "257013f9eff949b39a3d8fc31e66ef65",
            "f90bf16d335d4c13b88f0a9a537b5413",
            "90983e6aed7f45a2a18c3e4bad6abb36",
            "ab3a466283694c7e840cc2e49baaef1b",
            "d96b3fa0997b4d5a9f435571f44a77f2",
            "2fa65dff5c754957ad778f8625addc1e",
            "c9aea8efcf524e87a1bcf943edc73d78",
            "5aadb739122342138a2806905853bd33",
            "51ce448d80a045c0a30e4ebea1d9608b",
            "107ae170e01c4d2c9005c1541eb60d49",
            "a21ed0191e154d92b18068fb1e56dc4a",
            "6e766b5239ba442b9fcc820c296d5871",
            "63ee8b06b3ae4f92bf2e06115f561750"
          ]
        }
      },
      "source": [
        "model = AutoModelForSequenceClassification.from_pretrained(\"roberta-large\")\n",
        "tokenizer = AutoTokenizer.from_pretrained(\"roberta-large\")"
      ],
      "execution_count": 7,
      "outputs": [
        {
          "output_type": "display_data",
          "data": {
            "application/vnd.jupyter.widget-view+json": {
              "model_id": "50ebfe5457804ca698e8abfa53002a5a",
              "version_minor": 0,
              "version_major": 2
            },
            "text/plain": [
              "HBox(children=(FloatProgress(value=0.0, description='Downloading', max=482.0, style=ProgressStyle(description_…"
            ]
          },
          "metadata": {
            "tags": []
          }
        },
        {
          "output_type": "stream",
          "text": [
            "\n"
          ],
          "name": "stdout"
        },
        {
          "output_type": "display_data",
          "data": {
            "application/vnd.jupyter.widget-view+json": {
              "model_id": "ad2e636ff9b34d13851bbf3d34aa1794",
              "version_minor": 0,
              "version_major": 2
            },
            "text/plain": [
              "HBox(children=(FloatProgress(value=0.0, description='Downloading', max=1425941629.0, style=ProgressStyle(descr…"
            ]
          },
          "metadata": {
            "tags": []
          }
        },
        {
          "output_type": "stream",
          "text": [
            "\n"
          ],
          "name": "stdout"
        },
        {
          "output_type": "stream",
          "text": [
            "Some weights of the model checkpoint at roberta-large were not used when initializing RobertaForSequenceClassification: ['lm_head.bias', 'lm_head.dense.weight', 'lm_head.dense.bias', 'lm_head.layer_norm.weight', 'lm_head.layer_norm.bias', 'lm_head.decoder.weight', 'roberta.pooler.dense.weight', 'roberta.pooler.dense.bias']\n",
            "- This IS expected if you are initializing RobertaForSequenceClassification from the checkpoint of a model trained on another task or with another architecture (e.g. initializing a BertForSequenceClassification model from a BertForPretraining model).\n",
            "- This IS NOT expected if you are initializing RobertaForSequenceClassification from the checkpoint of a model that you expect to be exactly identical (initializing a BertForSequenceClassification model from a BertForSequenceClassification model).\n",
            "Some weights of RobertaForSequenceClassification were not initialized from the model checkpoint at roberta-large and are newly initialized: ['classifier.dense.weight', 'classifier.dense.bias', 'classifier.out_proj.weight', 'classifier.out_proj.bias']\n",
            "You should probably TRAIN this model on a down-stream task to be able to use it for predictions and inference.\n"
          ],
          "name": "stderr"
        },
        {
          "output_type": "display_data",
          "data": {
            "application/vnd.jupyter.widget-view+json": {
              "model_id": "30f25b4253fc418f8bb8d70d25403c2f",
              "version_minor": 0,
              "version_major": 2
            },
            "text/plain": [
              "HBox(children=(FloatProgress(value=0.0, description='Downloading', max=898823.0, style=ProgressStyle(descripti…"
            ]
          },
          "metadata": {
            "tags": []
          }
        },
        {
          "output_type": "stream",
          "text": [
            "\n"
          ],
          "name": "stdout"
        },
        {
          "output_type": "display_data",
          "data": {
            "application/vnd.jupyter.widget-view+json": {
              "model_id": "2fa65dff5c754957ad778f8625addc1e",
              "version_minor": 0,
              "version_major": 2
            },
            "text/plain": [
              "HBox(children=(FloatProgress(value=0.0, description='Downloading', max=456318.0, style=ProgressStyle(descripti…"
            ]
          },
          "metadata": {
            "tags": []
          }
        },
        {
          "output_type": "stream",
          "text": [
            "\n"
          ],
          "name": "stdout"
        }
      ]
    },
    {
      "cell_type": "markdown",
      "metadata": {
        "id": "momZfGqL9Ly3"
      },
      "source": [
        "Загрузим сохраненные веса модели (например, после 9-ой эпохи)"
      ]
    },
    {
      "cell_type": "code",
      "metadata": {
        "id": "2LCVUmq550zM",
        "outputId": "d01d4cdc-c972-4cd3-d291-33ae6c769c90",
        "colab": {
          "base_uri": "https://localhost:8080/",
          "height": 34
        }
      },
      "source": [
        "model.load_state_dict(torch.load('/content/drive/My Drive/v25/RoBERTa_9.pt'))"
      ],
      "execution_count": 8,
      "outputs": [
        {
          "output_type": "execute_result",
          "data": {
            "text/plain": [
              "<All keys matched successfully>"
            ]
          },
          "metadata": {
            "tags": []
          },
          "execution_count": 8
        }
      ]
    },
    {
      "cell_type": "code",
      "metadata": {
        "id": "c9Wx4JwW5ysF"
      },
      "source": [
        "WRAPPED_MODEL = xmp.MpModelWrapper(model)"
      ],
      "execution_count": 9,
      "outputs": []
    },
    {
      "cell_type": "markdown",
      "metadata": {
        "id": "GW7g1lSEP6ae"
      },
      "source": [
        "## Data preprocessing"
      ]
    },
    {
      "cell_type": "markdown",
      "metadata": {
        "id": "_Uw433sgYt9a"
      },
      "source": [
        "### Train & Val"
      ]
    },
    {
      "cell_type": "markdown",
      "metadata": {
        "id": "Jn--hPGGAadh"
      },
      "source": [
        "Считываем данные для обучения"
      ]
    },
    {
      "cell_type": "code",
      "metadata": {
        "id": "fxMqeblYP6ah"
      },
      "source": [
        "train_df = pd.read_csv('train_data.csv')"
      ],
      "execution_count": 10,
      "outputs": []
    },
    {
      "cell_type": "markdown",
      "metadata": {
        "id": "rg7tS7D7zLfj"
      },
      "source": [
        "Колонки:\n",
        "*  **Id** - уникальный идентификатор объявления\n",
        "*  **Название** - название вакансии\n",
        "*  **Место** - место работы (город, страна, штат)\n",
        "*  **Отдел** - название отдела в компании, куда есть вакансия\n",
        "*  **Зарплата** - предлагаемая зарплата на вакансию\n",
        "*  **Описание компании** - описание компании, которая разместила вакансию. Составлено самой компанией\n",
        "*  **Описание вакансии** - развернутое описание вакансии. Составлено компанией, которая разместила вакансию.\n",
        "*  **Требования** - описание обязанностей работника\n",
        "*  **Соцпакет** - все benefits, предоставляемые компанией работнику\n",
        "*  **Дистанционно** - бинарная переменная: 1, если работа удаленная\n",
        "*  **Вопросы** - бинарная переменная: 1, если в первичной анкете при приеме на работу присутствуют вопросы\n",
        "*  **Тип занятости** - полный/неполный рабочий день, стажировка и т.д.\n",
        "*  **Опыт** - опыт, которым должен обладать потенциальный кандидат\n",
        "*  **Образование** - образование, которым должен обладать потенциальный кандидат\n",
        "*  **Индустрия** - сфера деятельности компании. Ритейл/медицина и т.д.\n",
        "*  **Позиция** - позиция, на которую открыта вакансия\n",
        "*  **Фейк** - (только в тренировочном датасете) целевая переменная: 0, если объявление не фейк, 1, если фейк"
      ]
    },
    {
      "cell_type": "code",
      "metadata": {
        "id": "wV8EcUkGP6ai",
        "outputId": "b0804fd6-018f-44f7-916f-db541191f2fc",
        "colab": {
          "base_uri": "https://localhost:8080/",
          "height": 551
        }
      },
      "source": [
        "train_df.head()"
      ],
      "execution_count": 11,
      "outputs": [
        {
          "output_type": "execute_result",
          "data": {
            "text/html": [
              "<div>\n",
              "<style scoped>\n",
              "    .dataframe tbody tr th:only-of-type {\n",
              "        vertical-align: middle;\n",
              "    }\n",
              "\n",
              "    .dataframe tbody tr th {\n",
              "        vertical-align: top;\n",
              "    }\n",
              "\n",
              "    .dataframe thead th {\n",
              "        text-align: right;\n",
              "    }\n",
              "</style>\n",
              "<table border=\"1\" class=\"dataframe\">\n",
              "  <thead>\n",
              "    <tr style=\"text-align: right;\">\n",
              "      <th></th>\n",
              "      <th>Id</th>\n",
              "      <th>Название</th>\n",
              "      <th>Место</th>\n",
              "      <th>Отдел</th>\n",
              "      <th>Зарплата</th>\n",
              "      <th>Описание компании</th>\n",
              "      <th>Описание вакансии</th>\n",
              "      <th>Требования</th>\n",
              "      <th>Соцпакет</th>\n",
              "      <th>Дистанционно</th>\n",
              "      <th>Вопросы</th>\n",
              "      <th>Тип занятости</th>\n",
              "      <th>Опыт</th>\n",
              "      <th>Образование</th>\n",
              "      <th>Индустрия</th>\n",
              "      <th>Позиция</th>\n",
              "      <th>Фейк</th>\n",
              "    </tr>\n",
              "  </thead>\n",
              "  <tbody>\n",
              "    <tr>\n",
              "      <th>0</th>\n",
              "      <td>10497</td>\n",
              "      <td>Reporter, Agri Investor</td>\n",
              "      <td>US, ,</td>\n",
              "      <td>KHR</td>\n",
              "      <td>NaN</td>\n",
              "      <td>PEI Media (#URL_4cffe430b8da4c0d7e6074d11e638d...</td>\n",
              "      <td>Seeking savvy business reporter Are you a news...</td>\n",
              "      <td>The successful candidate should have a bachelo...</td>\n",
              "      <td>PEI Media (#URL_4cffe430b8da4c0d7e6074d11e638d...</td>\n",
              "      <td>0</td>\n",
              "      <td>0</td>\n",
              "      <td>Full-time</td>\n",
              "      <td>Associate</td>\n",
              "      <td>Bachelor's Degree</td>\n",
              "      <td>Publishing</td>\n",
              "      <td>Writing/Editing</td>\n",
              "      <td>0</td>\n",
              "    </tr>\n",
              "    <tr>\n",
              "      <th>1</th>\n",
              "      <td>8219</td>\n",
              "      <td>Software Engineer</td>\n",
              "      <td>US, VA, Herndon</td>\n",
              "      <td>Software Engineering</td>\n",
              "      <td>NaN</td>\n",
              "      <td>Roka Security is a boutique security firm that...</td>\n",
              "      <td>Roka Security is looking for Software Engineer...</td>\n",
              "      <td>NaN</td>\n",
              "      <td>NaN</td>\n",
              "      <td>0</td>\n",
              "      <td>0</td>\n",
              "      <td>Full-time</td>\n",
              "      <td>Not Applicable</td>\n",
              "      <td>Unspecified</td>\n",
              "      <td>Computer Software</td>\n",
              "      <td>Engineering</td>\n",
              "      <td>0</td>\n",
              "    </tr>\n",
              "    <tr>\n",
              "      <th>2</th>\n",
              "      <td>5342</td>\n",
              "      <td>Structural Engineer</td>\n",
              "      <td>NL, ZH, Rotterdam</td>\n",
              "      <td>onshore</td>\n",
              "      <td>NaN</td>\n",
              "      <td>NaN</td>\n",
              "      <td>Job tasks:Analyse project specifications on st...</td>\n",
              "      <td>Job requirements:HTS/TU Civil Engineering or M...</td>\n",
              "      <td>NaN</td>\n",
              "      <td>0</td>\n",
              "      <td>1</td>\n",
              "      <td>NaN</td>\n",
              "      <td>NaN</td>\n",
              "      <td>NaN</td>\n",
              "      <td>NaN</td>\n",
              "      <td>NaN</td>\n",
              "      <td>0</td>\n",
              "    </tr>\n",
              "    <tr>\n",
              "      <th>3</th>\n",
              "      <td>1916</td>\n",
              "      <td>Senior Publishing Specialist</td>\n",
              "      <td>US, ,</td>\n",
              "      <td>NaN</td>\n",
              "      <td>NaN</td>\n",
              "      <td>NaN</td>\n",
              "      <td>The Senior Publishing Specialist will be part ...</td>\n",
              "      <td>Minimum of 3 – 4 years experience in Regulator...</td>\n",
              "      <td>NaN</td>\n",
              "      <td>0</td>\n",
              "      <td>0</td>\n",
              "      <td>NaN</td>\n",
              "      <td>NaN</td>\n",
              "      <td>NaN</td>\n",
              "      <td>NaN</td>\n",
              "      <td>NaN</td>\n",
              "      <td>0</td>\n",
              "    </tr>\n",
              "    <tr>\n",
              "      <th>4</th>\n",
              "      <td>1811</td>\n",
              "      <td>Sales Representative</td>\n",
              "      <td>CA, BC, Vancouver</td>\n",
              "      <td>Sales &amp; Marketing</td>\n",
              "      <td>NaN</td>\n",
              "      <td>NaN</td>\n",
              "      <td>BCCC Enterprises provides management consultin...</td>\n",
              "      <td>Key Responsibilities:Contribute to the financi...</td>\n",
              "      <td>How to ApplyThis is an exciting opportunity. ...</td>\n",
              "      <td>0</td>\n",
              "      <td>1</td>\n",
              "      <td>NaN</td>\n",
              "      <td>NaN</td>\n",
              "      <td>NaN</td>\n",
              "      <td>NaN</td>\n",
              "      <td>NaN</td>\n",
              "      <td>0</td>\n",
              "    </tr>\n",
              "  </tbody>\n",
              "</table>\n",
              "</div>"
            ],
            "text/plain": [
              "      Id                       Название  ...          Позиция Фейк\n",
              "0  10497        Reporter, Agri Investor  ...  Writing/Editing    0\n",
              "1   8219              Software Engineer  ...      Engineering    0\n",
              "2   5342            Structural Engineer  ...              NaN    0\n",
              "3   1916  Senior Publishing Specialist   ...              NaN    0\n",
              "4   1811          Sales Representative   ...              NaN    0\n",
              "\n",
              "[5 rows x 17 columns]"
            ]
          },
          "metadata": {
            "tags": []
          },
          "execution_count": 11
        }
      ]
    },
    {
      "cell_type": "markdown",
      "metadata": {
        "id": "c4egD0ah0IZE"
      },
      "source": [
        "Видим, что данные содержат достаточно много пустых значений"
      ]
    },
    {
      "cell_type": "code",
      "metadata": {
        "id": "HMEMxm6HP6ak",
        "outputId": "1ef6c9e7-b30d-46bb-bee5-ba9c1eb5dd90",
        "colab": {
          "base_uri": "https://localhost:8080/",
          "height": 438
        }
      },
      "source": [
        "train_df.info()"
      ],
      "execution_count": 12,
      "outputs": [
        {
          "output_type": "stream",
          "text": [
            "<class 'pandas.core.frame.DataFrame'>\n",
            "RangeIndex: 10728 entries, 0 to 10727\n",
            "Data columns (total 17 columns):\n",
            " #   Column             Non-Null Count  Dtype \n",
            "---  ------             --------------  ----- \n",
            " 0   Id                 10728 non-null  int64 \n",
            " 1   Название           10728 non-null  object\n",
            " 2   Место              10504 non-null  object\n",
            " 3   Отдел              3758 non-null   object\n",
            " 4   Зарплата           1730 non-null   object\n",
            " 5   Описание компании  8682 non-null   object\n",
            " 6   Описание вакансии  10728 non-null  object\n",
            " 7   Требования         9097 non-null   object\n",
            " 8   Соцпакет           6397 non-null   object\n",
            " 9   Дистанционно       10728 non-null  int64 \n",
            " 10  Вопросы            10728 non-null  int64 \n",
            " 11  Тип занятости      8586 non-null   object\n",
            " 12  Опыт               6478 non-null   object\n",
            " 13  Образование        5836 non-null   object\n",
            " 14  Индустрия          7775 non-null   object\n",
            " 15  Позиция            6853 non-null   object\n",
            " 16  Фейк               10728 non-null  int64 \n",
            "dtypes: int64(4), object(13)\n",
            "memory usage: 1.4+ MB\n"
          ],
          "name": "stdout"
        }
      ]
    },
    {
      "cell_type": "markdown",
      "metadata": {
        "id": "czYJyTyO0PCj"
      },
      "source": [
        "Данные сильно несбалансированы: среди объявлений фейковых очень мало (примерно 5%)"
      ]
    },
    {
      "cell_type": "code",
      "metadata": {
        "id": "uNYyfwW5P6al",
        "outputId": "e965c107-015b-4d02-c633-72b488130f7a",
        "colab": {
          "base_uri": "https://localhost:8080/",
          "height": 69
        }
      },
      "source": [
        "train_df['Фейк'].value_counts()"
      ],
      "execution_count": 13,
      "outputs": [
        {
          "output_type": "execute_result",
          "data": {
            "text/plain": [
              "0    10205\n",
              "1      523\n",
              "Name: Фейк, dtype: int64"
            ]
          },
          "metadata": {
            "tags": []
          },
          "execution_count": 13
        }
      ]
    },
    {
      "cell_type": "markdown",
      "metadata": {
        "id": "hPJye1bX04xk"
      },
      "source": [
        "Выделяются две колонки **Дистанционно** и **Вопросы**, в которых данные числовые. Представим их в строковом виде, заменив на подходящие по смыслу фразы, чтобы можно было подавать их на вход нашей модели наравне с остальными колонками."
      ]
    },
    {
      "cell_type": "code",
      "metadata": {
        "id": "8cpoWAANP6an"
      },
      "source": [
        "train_df['Дистанционно'] = train_df['Дистанционно'].map({1:'Telecommuting positions', 0:'Office positions'})"
      ],
      "execution_count": 14,
      "outputs": []
    },
    {
      "cell_type": "code",
      "metadata": {
        "id": "10j684JuP6ao",
        "outputId": "3406c862-5e11-4801-9476-e8dcf6e2e272",
        "colab": {
          "base_uri": "https://localhost:8080/",
          "height": 69
        }
      },
      "source": [
        "train_df['Дистанционно'].value_counts()"
      ],
      "execution_count": 15,
      "outputs": [
        {
          "output_type": "execute_result",
          "data": {
            "text/plain": [
              "Office positions           10274\n",
              "Telecommuting positions      454\n",
              "Name: Дистанционно, dtype: int64"
            ]
          },
          "metadata": {
            "tags": []
          },
          "execution_count": 15
        }
      ]
    },
    {
      "cell_type": "code",
      "metadata": {
        "id": "2zghx4gqP6aq"
      },
      "source": [
        "train_df['Вопросы'] = train_df['Вопросы'].map({1:'Screening questions are present', 0:'There are no screening questions'})"
      ],
      "execution_count": 16,
      "outputs": []
    },
    {
      "cell_type": "code",
      "metadata": {
        "id": "afgHs8qLP6as",
        "outputId": "37af7c74-968e-4ce0-b10a-84a0501422a1",
        "colab": {
          "base_uri": "https://localhost:8080/",
          "height": 69
        }
      },
      "source": [
        "train_df['Вопросы'].value_counts()"
      ],
      "execution_count": 17,
      "outputs": [
        {
          "output_type": "execute_result",
          "data": {
            "text/plain": [
              "There are no screening questions    5424\n",
              "Screening questions are present     5304\n",
              "Name: Вопросы, dtype: int64"
            ]
          },
          "metadata": {
            "tags": []
          },
          "execution_count": 17
        }
      ]
    },
    {
      "cell_type": "markdown",
      "metadata": {
        "id": "YtcGbhyT1a4t"
      },
      "source": [
        "Выделим колонки, которые хотим подать на вход нашей модели"
      ]
    },
    {
      "cell_type": "code",
      "metadata": {
        "id": "O_k8f3O4N1gv"
      },
      "source": [
        "columns_to_text = ['Название', \n",
        "                   'Тип занятости',\n",
        "                   'Дистанционно',\n",
        "                   'Вопросы', \n",
        "                   'Описание компании', \n",
        "                   'Описание вакансии', \n",
        "                   'Требования']"
      ],
      "execution_count": 18,
      "outputs": []
    },
    {
      "cell_type": "markdown",
      "metadata": {
        "id": "bj33Dew-1q5r"
      },
      "source": [
        "Также соберем все колонки, кроме целевой переменной"
      ]
    },
    {
      "cell_type": "code",
      "metadata": {
        "id": "OkVHQVEGP6aw"
      },
      "source": [
        "old_columns = train_df.columns"
      ],
      "execution_count": 19,
      "outputs": []
    },
    {
      "cell_type": "code",
      "metadata": {
        "id": "X_lNwiJ7P6ax"
      },
      "source": [
        "old_columns = old_columns.drop('Фейк')"
      ],
      "execution_count": 20,
      "outputs": []
    },
    {
      "cell_type": "code",
      "metadata": {
        "id": "HTFC_MmwP6ay",
        "outputId": "af7c21f9-6255-4d5f-d573-ab45b0075dcb",
        "colab": {
          "base_uri": "https://localhost:8080/",
          "height": 104
        }
      },
      "source": [
        "old_columns"
      ],
      "execution_count": 21,
      "outputs": [
        {
          "output_type": "execute_result",
          "data": {
            "text/plain": [
              "Index(['Id', 'Название', 'Место', 'Отдел', 'Зарплата', 'Описание компании',\n",
              "       'Описание вакансии', 'Требования', 'Соцпакет', 'Дистанционно',\n",
              "       'Вопросы', 'Тип занятости', 'Опыт', 'Образование', 'Индустрия',\n",
              "       'Позиция'],\n",
              "      dtype='object')"
            ]
          },
          "metadata": {
            "tags": []
          },
          "execution_count": 21
        }
      ]
    },
    {
      "cell_type": "markdown",
      "metadata": {
        "id": "GglvwXFO15eT"
      },
      "source": [
        "Все пропуски в данных заменим на пустую строку"
      ]
    },
    {
      "cell_type": "code",
      "metadata": {
        "id": "twSLp7rQP6a0"
      },
      "source": [
        "train_df.fillna('', inplace=True)"
      ],
      "execution_count": 22,
      "outputs": []
    },
    {
      "cell_type": "code",
      "metadata": {
        "id": "TKpRzco-P6a2",
        "outputId": "91fc72ff-8060-47ea-a08f-c8bc9bd00a74",
        "colab": {
          "base_uri": "https://localhost:8080/",
          "height": 438
        }
      },
      "source": [
        "train_df.info()"
      ],
      "execution_count": 23,
      "outputs": [
        {
          "output_type": "stream",
          "text": [
            "<class 'pandas.core.frame.DataFrame'>\n",
            "RangeIndex: 10728 entries, 0 to 10727\n",
            "Data columns (total 17 columns):\n",
            " #   Column             Non-Null Count  Dtype \n",
            "---  ------             --------------  ----- \n",
            " 0   Id                 10728 non-null  int64 \n",
            " 1   Название           10728 non-null  object\n",
            " 2   Место              10728 non-null  object\n",
            " 3   Отдел              10728 non-null  object\n",
            " 4   Зарплата           10728 non-null  object\n",
            " 5   Описание компании  10728 non-null  object\n",
            " 6   Описание вакансии  10728 non-null  object\n",
            " 7   Требования         10728 non-null  object\n",
            " 8   Соцпакет           10728 non-null  object\n",
            " 9   Дистанционно       10728 non-null  object\n",
            " 10  Вопросы            10728 non-null  object\n",
            " 11  Тип занятости      10728 non-null  object\n",
            " 12  Опыт               10728 non-null  object\n",
            " 13  Образование        10728 non-null  object\n",
            " 14  Индустрия          10728 non-null  object\n",
            " 15  Позиция            10728 non-null  object\n",
            " 16  Фейк               10728 non-null  int64 \n",
            "dtypes: int64(2), object(15)\n",
            "memory usage: 1.4+ MB\n"
          ],
          "name": "stdout"
        }
      ]
    },
    {
      "cell_type": "markdown",
      "metadata": {
        "id": "60KU-ARv19-T"
      },
      "source": [
        "Теперь объединим значения из выбранных колонок **columns_to_text** в одну строку и запишем ее в новую колонку **text_data**"
      ]
    },
    {
      "cell_type": "code",
      "metadata": {
        "id": "y8d_MY2OP6a3"
      },
      "source": [
        "train_df['text_data'] = train_df[columns_to_text].agg(' '.join, axis=1)"
      ],
      "execution_count": 24,
      "outputs": []
    },
    {
      "cell_type": "code",
      "metadata": {
        "id": "8bhTBDg4P6a4"
      },
      "source": [
        "from pprint import pprint"
      ],
      "execution_count": 25,
      "outputs": []
    },
    {
      "cell_type": "markdown",
      "metadata": {
        "id": "sz1f_yl02ZAE"
      },
      "source": [
        "Вот что у нас получилось. Не очень красиво, но \"чистка\" текста качество классификации только ухудшила (по крайней мере, у меня)"
      ]
    },
    {
      "cell_type": "code",
      "metadata": {
        "id": "B2WowsGfP6a6",
        "outputId": "571f3db3-8b31-4297-a188-56e6df297b2f",
        "colab": {
          "base_uri": "https://localhost:8080/",
          "height": 1000
        }
      },
      "source": [
        "for i in range(10):\n",
        "    pprint(train_df['text_data'][i])\n",
        "    print()"
      ],
      "execution_count": 26,
      "outputs": [
        {
          "output_type": "stream",
          "text": [
            "('Reporter, Agri Investor Full-time Office positions There are no screening '\n",
            " 'questions PEI Media\\xa0'\n",
            " '(#URL_4cffe430b8da4c0d7e6074d11e638d28a1e165c8782b891e111fc17606c3d961#) '\n",
            " 'provides a range of highly respected publications and market leading events '\n",
            " 'to its financial sector audience. The\\xa0leading information provider in '\n",
            " 'private capital markets, PEI Media also has a strong international presence, '\n",
            " 'with offices in London, New York and Hong Kong. Seeking savvy business '\n",
            " 'reporter Are you a news-hungry journalist? Have a passion for finance, a '\n",
            " 'talent for breaking news, networking and developing sophisticated sources?If '\n",
            " 'so, there’s an exciting full-time reporter position available with PEI '\n",
            " 'Media, the leading global B2B financial publishing and information group '\n",
            " 'focused exclusively on alternative asset classes.Based in Manhattan, this '\n",
            " 'opening is a rare opportunity for an ambitious individual seeking to advance '\n",
            " 'their career in one of the most dynamic segments\\xa0of global\\xa0finance.The '\n",
            " 'position is tied to\\xa0Agri Investor '\n",
            " '(#URL_a2fcb2906ec9e228792ec6fd689398146109ba55c512a7a9c45b9224c88c1da0#), a '\n",
            " 'growing online news and intelligence platform covering private markets '\n",
            " 'investment in agriculture and agribusiness.\\xa0 The successful candidate '\n",
            " 'should have a bachelor’s degree or equivalent and at least three years of\\xa0'\n",
            " 'journalism or related writing/reporting experience. A\\xa0demonstrable\\xa0'\n",
            " 'passion for\\xa0business,\\xa0finance\\xa0and investment is essential, as is '\n",
            " 'the ability to work both independently and as part of a global '\n",
            " 'team.Resilience under pressure – remaining focused in the face of competing '\n",
            " 'priorities to ensure key deadlines are met – is key. The individual\\xa0'\n",
            " 'should also be a gifted networker, who is willing and able to travel\\xa0and '\n",
            " 'attend industry-related events; engaging constantly with the markets we '\n",
            " 'cover is a core requirement. Fluency in foreign languages and multimedia '\n",
            " 'reporting skills are a plus.')\n",
            "\n",
            "('Software Engineer Full-time Office positions There are no screening '\n",
            " 'questions Roka Security is a boutique security firm that specializes in '\n",
            " 'full-scale network protection and defending against advanced, targeted '\n",
            " 'attacks. Our staff members have background in governmental and intelligence '\n",
            " 'fields as well as large-scale data center and network deployments.We '\n",
            " 'leverage our in-depth experience to aid our customers in protecting their '\n",
            " \"data, and their intellectual property, andtheir customer's data, We help our \"\n",
            " \"clients with the full breadth of services whether it's consulting on general \"\n",
            " 'security issues or performing security assessments or assisting them with '\n",
            " 'their latest network design or datacenter build-out. We also provide the '\n",
            " 'full breadth of managed services including managed security perimeters, '\n",
            " 'Managed Infrastructure / private cloud, or 24x7 security monitoring in our '\n",
            " 'state-of-the-art Security Operations Center. Roka Security is looking for '\n",
            " 'Software Engineers with a variety of talents. \\xa0The position is for a full '\n",
            " 'time employee at our office in Herndon, Virginia. \\xa0We are looking for '\n",
            " 'both hourly and salaried positions.There is a large security component to '\n",
            " 'all of our software, so a background in computer security is a plus. \\xa0We '\n",
            " 'are looking for people to help us build mobile, desktop, and server based '\n",
            " 'application. \\xa0We are interesting in development languages ranging from '\n",
            " 'scripting and C, to mobile development in iOS \\xa0and Android platforms. ')\n",
            "\n",
            "('Structural Engineer  Office positions Screening questions are present  Job '\n",
            " 'tasks:Analyse project specifications on structural design related project '\n",
            " 'items and define the scope of work;Prepare design calculations for all '\n",
            " 'structural design work within the scope, budget and schedule defined at the '\n",
            " 'start of the project. Main emphasis should be to minimise fabrication cost '\n",
            " 'and vessel time;Prepare procedures for using and testing the installation '\n",
            " 'aids and discuss these procedures with the offshore personnel responsible '\n",
            " 'for the execution and the project team;Perform detailed calculations using '\n",
            " 'the appropriate in-house tools;Review subcontractor equipment design and '\n",
            " 'installation methods;Co-ordinate fabrication work of installation aids '\n",
            " 'fabricated in-house or by a subcontractor when required;Assist the Field '\n",
            " 'Engineer onshore or offshore when required during the execution phase of the '\n",
            " 'project.Responsible for the hand-over to the Field Engineer;Check reports of '\n",
            " 'structural design work performed within the Engineering Department. Job '\n",
            " 'requirements:HTS/TU Civil Engineering or Mechanical Engineering;Minimum of 3 '\n",
            " 'years experience, preferably in offshore engineering;Good knowledge of '\n",
            " 'Windows and MS Office applications;Good command of the English language, '\n",
            " 'both written and spoken;Prepared to work offshore occasionally.')\n",
            "\n",
            "('Senior Publishing Specialist   Office positions There are no screening '\n",
            " 'questions  The Senior Publishing Specialist will be part of the Regulatory '\n",
            " 'Operations Publishing Group and to ensure that dossier is prepared ready to '\n",
            " 'submit to the FDA and other agencies. This includes,\\xa0'\n",
            " 'Publishing(Bookmarking and Hyperlinking) and Peer Reviewing different types '\n",
            " 'of document like (eg Clinical Study Report, Annual Report, Protocol, '\n",
            " 'Amendments, PSUR, DMF, IMPD, CRFs and eCRF Pre-Meeting packages, '\n",
            " 'Labeling)\\xa0Knowledge in building different types of submission.\\xa0Peer '\n",
            " 'Reviewing of other group members’ documents.\\xa0Experience in publishing the '\n",
            " 'documents globally.\\xa0Knowledge in preparing Paper submission, scanning '\n",
            " 'documents and Printing Desk copies (Internal or Health Authority).\\xa0'\n",
            " 'Experience in formatting documents as per Eisai Standards.  Minimum of 3 – 4 '\n",
            " 'years experience in Regulatory Affairs publishing and reviewing the '\n",
            " 'documents\\xa0in a pharmaceutical environment, with strong familiarity with '\n",
            " 'regulatory eCTD submission process.\\xa0Must be highly proficient in '\n",
            " 'Microsoft office, Adobe Acrobat, ISI writer and ISI Toolbox (with proven\\xa0'\n",
            " 'background in bookmarking and Hyperlink, page stamp, masking and watermarks '\n",
            " 'etc,).\\xa0Knowledge of eCTD submission eCTD Validator, eCTD Viewer and Life '\n",
            " 'Cycle Management\\xa0Experience in using different application like '\n",
            " 'viewpoint, Coredossier or eCTDExpress etc\\xa0Knowledge in scanning '\n",
            " 'document.\\xa0Knowledge in FDA &amp; ICH Guidance’s\\xa0Must be able to do '\n",
            " 'multi-task and work well under tight timeliness. ')\n",
            "\n",
            "('Sales Representative   Office positions Screening questions are present  '\n",
            " 'BCCC Enterprises provides management consulting services for Commissionaires '\n",
            " 'BC, Kinetic Security and Lexxon Training.\\xa0\\xa0Position Overview\\xa0As the '\n",
            " 'Sales Representative your main focus will be on all aspects of the sales '\n",
            " 'cycle. You are responsible for the development and retention of new business '\n",
            " 'leading to revenue growth within the Fraser Valley territory. The primary '\n",
            " 'focus of this position is lead generation, provide quotes on services '\n",
            " 'required, close contracts and provide account management services. This '\n",
            " 'position is required to be home-based, ideally in the Fraser Valley and '\n",
            " 'reports to the Director of Business Development Key '\n",
            " 'Responsibilities:Contribute to the financial success of the organization by '\n",
            " 'coordinating and monitoring leads through the sales cycle to close.Qualify '\n",
            " 'leads and generate proposals to close the sale on various services; '\n",
            " 'primarily Security, Enforcement, Training, and Identification '\n",
            " 'Services.Introduce new services and expand business opportunities within '\n",
            " 'existing client accountsConduct cold calls to gain leads and generate '\n",
            " 'businessTravel to client sites to hold meetings, make sales presentations '\n",
            " 'and gather informationMaintain an active sales pipelineAccount Management of '\n",
            " 'newly established accounts, maintaining long-term sales relationships, '\n",
            " 'provide contract status reporting and cross selling additional servicesTrack '\n",
            " 'sales and status reports on leadsRespond to internal sales leads to identify '\n",
            " 'opportunities and create sales strategiesAnalyze price quotes against '\n",
            " 'competitorsSupport sales and marketing programs by maintaining/building '\n",
            " 'databases and client lists as well as participating in any applicable '\n",
            " 'marketing campaigns and or tradeshows.Maintain CRM system with account '\n",
            " 'information and sales pipelineQualifications:Working towards or completion '\n",
            " 'of a Diploma or Degree in Business Administration or Marketing, and/or '\n",
            " \"equivalent work experience2-3 years' work experience within a client focused \"\n",
            " 'sales environmentProven sales and relationship building skills; comfortable '\n",
            " 'with cold calling using a warm approach and has well developed \"closing\" '\n",
            " 'techniquesHigh accuracy and attention to detail and an ability to '\n",
            " 'multi-taskExcellent written and verbal communication skills with '\n",
            " 'professional demeanor over the telephoneExcellent presentation and '\n",
            " 'interpersonal skillsStrong time management and organizational skills with '\n",
            " 'the ability to work in an environment with shifting priorities and minimal '\n",
            " 'supervisionExcellent customer service and problem solving skillsSolid '\n",
            " 'project management and research skillsDemonstrated self-starter with a '\n",
            " 'positive can-do attitude, can work independently or as a collaborative team '\n",
            " 'playerProfessional appearance and conduct to positively represent the '\n",
            " 'companyAbility to demonstrate good judgment and a high level of '\n",
            " 'professionalism in dealing with peopleStrong computer skills including data '\n",
            " 'base management and proficiency in MS Office programs including Word, Excel '\n",
            " 'and AccessCompletion of successful criminal record check and security '\n",
            " 'clearances are required.')\n",
            "\n",
            "('Sales & Support role Full-time Office positions Screening questions are '\n",
            " 'present  We are a small and successful satellite telecoms company, offering '\n",
            " 'both hardware and airtime to a global, diverse customer base.We are '\n",
            " 'currently looking to recruit a self-motivated, adaptable and enthusiastic '\n",
            " 'candidate to a multi-task position in our London office,\\xa0located near '\n",
            " 'Oxford Circus tube station.The\\xa0role\\xa0includes\\xa0Sales, Order '\n",
            " 'preparation, Customer after-sales\\xa0support\\xa0and general '\n",
            " 'administration.Excellent written and oral communication skills and a good '\n",
            " 'telephone manner are essentialExperience in having already worked in the '\n",
            " 'technology sector preferred.We offer a competitive salary. ')\n",
            "\n",
            "('SEO Analysis Full-time Office positions Screening questions are present '\n",
            " 'Bright Edge and Aptitude Staffing Solutions have partnered up in an effort '\n",
            " 'to streamline the hiring process and provide a more efficient and effective '\n",
            " 'recruitng model.\\xa0 Our focus is to help develop and achieve your career '\n",
            " 'goals while makeing a solid geographical, cultural and professional fiit '\n",
            " 'when leveraging your career into your new and exciting professional '\n",
            " 'venture!BrightEdge today is over 180 employees strong, and continuously '\n",
            " 'growing. BrightEdge has over 8400 brands and 650 direct customers, and has '\n",
            " \"lead the market in SEO innovation. The new headquarters reflect BrightEdge's \"\n",
            " 'growth and the maturity of the company, with a sleek and modern space in the '\n",
            " \"heart of Silicon Valley.Stay tuned, as BrightEdge's story is only \"\n",
            " 'beginning.\\xa0 Seeking an SEO Analyst to drive traffic from organic '\n",
            " 'search.\\xa0 The ideal candidate will be extremely detail oriented with SEO '\n",
            " 'or online Marketing Campaign Management experience.\\xa0 This is great ground '\n",
            " 'floor opportunity to join a Nascent Digital Marketing team to establish new '\n",
            " 'processes.\\xa0 You will work with accomplished B2C and B2B digital marketers '\n",
            " 'to bring your expertise to this best-in-class team.\\xa0Responsibilities:\\xa0'\n",
            " 'Owning and growing our organic content marketing.Internal usage of company '\n",
            " 'platform.Analysis of organic rankings volatility.Backlink management.Landing '\n",
            " 'page optimization for search engine rankings.Tracking social metrics.\\xa0 '\n",
            " 'Qualifications:\\xa02+ years of experience with proven SEO results.Solid '\n",
            " 'understanding of SEO and HTML.Strong forensics, problem solving, and '\n",
            " 'analytical skills.Ability to work cross-functionally with product, '\n",
            " 'marketing, and design teams.Proficiency in site analytics, Google Analytics '\n",
            " 'preferred.Self-starter/self-motivated, capable of staying on track and '\n",
            " 'pursuing solutions without supervision.Ability to work under pressure, meet '\n",
            " 'deadlines and handle multiple projects simultaneously.\\xa0Preferred '\n",
            " 'Qualifications:\\xa0Experience in a B2B SaaS company.Experience with Drupal, '\n",
            " 'Wordpress and Marketo.Engineering background.\\xa0')\n",
            "\n",
            "('Customer Service Associate - Part Time  Part-time Office positions There are '\n",
            " 'no screening questions Novitex Enterprise Solutions, formerly Pitney Bowes '\n",
            " 'Management Services, delivers innovative document and communications '\n",
            " 'management solutions that help companies around the world drive business '\n",
            " 'process efficiencies, increase productivity, reduce costs and improve '\n",
            " 'customer satisfaction. For almost 30 years, clients have turned to us to '\n",
            " 'integrate and optimize their enterprise-wide business processes to empower '\n",
            " 'employees, increase productivity and maximize results. As a trusted partner, '\n",
            " 'we continually focus on delivering secure, technology-enabled document and '\n",
            " \"communications solutions that improve our clients' work processes, enhance \"\n",
            " 'their customer interactions and drive growth. The Customer Service Associate '\n",
            " 'will be based in Louisville, KY. The right candidate will be an integral '\n",
            " 'part of our talented team, supporting our continued '\n",
            " 'growth.Responsibilities:Perform various Mail Center activities (sorting, '\n",
            " 'metering, folding, inserting, delivery, pickup, etc.)Lift heavy boxes, files '\n",
            " 'or paper when neededMaintain the highest levels of customer care while '\n",
            " 'demonstrating a friendly and cooperative attitudeDemonstrate flexibility in '\n",
            " 'satisfying customer demands in a high volume, production '\n",
            " 'environmentConsistently adhere to business procedure guidelinesAdhere to all '\n",
            " 'safety proceduresTake direction from supervisor or site managerMaintain all '\n",
            " 'logs and reporting documentation; attention to detailParticipate in '\n",
            " 'cross-training and perform other duties as assigned (Filing, outgoing '\n",
            " 'shipments, etc)Operating mailing, copy or scanning equipmentShipping &amp; '\n",
            " 'ReceivingHandle time-sensitive material like confidential, urgent '\n",
            " 'packagesPerform other tasks as assignedScanning incoming mail to '\n",
            " 'recipientsPerform file purges and pullsCreate files and ship filesProvide '\n",
            " 'backfill when neededEnter information daily into spreadsheetsIdentify '\n",
            " 'charges and match them to billingSort and deliver mail, small packages '\n",
            " 'Minimum Requirements:Minimum of 6 months customer service related experience '\n",
            " 'requiredHigh school diploma or equivalent (GED) requiredPreferred '\n",
            " 'Qualifications:Keyboarding and windows environment PC skills required (Word, '\n",
            " 'Excel and PowerPoint preferred)Experience running mail posting equipment a '\n",
            " 'plusExcellent communication skills both verbal and writtenLifting up to 55 '\n",
            " 'lbs with or without accommodationsWillingness and availability to work '\n",
            " 'additional hours if assignedWillingness to submit to a pre-employment drug '\n",
            " 'screening and criminal background checkAbility to effectively work '\n",
            " 'individually or in a team environmentCompetency in performing multiple '\n",
            " \"functional tasksAbility to meet employer's attendance policy\")\n",
            "\n",
            "('High School Physics/Living Environment Teacher Full-time Office positions '\n",
            " 'Screening questions are present The Albany Charter School Network is a '\n",
            " 'family of charter schools in the City of Albany that works to prepare '\n",
            " 'children for meaningful future lives – as purposeful, productive, and '\n",
            " 'participatory citizens of New York, the United States, and the world.Our '\n",
            " 'strong and unified movement of charter schools collaborates with parents to '\n",
            " 'provide for all students a vibrant academic environment and dynamic learning '\n",
            " 'experiences that create what we call “Future Life Opportunity” – a pathway '\n",
            " 'to success in college, career, and community life.The Albany Charter School '\n",
            " 'Network and the schools that comprise our community are always looking for '\n",
            " 'highly committed and highly skilled people to come and join us in the '\n",
            " 'exciting and meaningful work of helping create Future Life Opportunity for '\n",
            " 'this generation of students.Please take the time to look at the various open '\n",
            " 'positions on our site. If there is a role for which you think you would be a '\n",
            " 'great match, then we encourage you to learn more about it and submit an '\n",
            " 'application. Do you have what it takes to cultivate the next generation of '\n",
            " 'students with both the disciplined expertise and creative imagination to '\n",
            " 'contribute effectively to the betterment of the global society? If so, the '\n",
            " 'Albany Charter School Network may be the place for you! We are looking for a '\n",
            " 'High School Physics and Living Environment Teacher to join Green Tech High '\n",
            " 'Charter School who is committed to helping our students write like Frederick '\n",
            " 'Douglass and reason like Albert Einstein.POSITION SUMMARYAs a High School '\n",
            " 'Physics/Living Environment Teacher, you will work collaboratively with other '\n",
            " 'science instructional staff instructional staff and the instructional leader '\n",
            " 'to champion a high-quality education for each and every student while '\n",
            " 'cultivating success for future life opportunities in college, career, and '\n",
            " 'community. You will participate in both horizontal and vertical planning to '\n",
            " 'ensure every student’s academic needs are met. You will also develop '\n",
            " 'strategies for the design, delivery, modification, and extension of Common '\n",
            " 'Core State Standards-aligned curriculum and instruction, allowing all '\n",
            " 'students to engage in active academic challenge and growth. As you work '\n",
            " 'collaboratively with your peers to foster a thirst for lifelong learning, '\n",
            " 'you will be responsible for your students’ performance and your own personal '\n",
            " 'and professional growth.ABOUT THE NETWORKThe Albany Charter School Network '\n",
            " 'is\\u2028'\n",
            " ' a family of charter schools in the city of Albany that works to prepare '\n",
            " 'students for meaningful future lives – as purposeful, productive, and '\n",
            " 'participatory citizens of New York, the United States, and the world. Our '\n",
            " 'strong and unified movement of charter schools collaborates with parents to '\n",
            " 'provide all students a vibrant academic environment and dynamic learning '\n",
            " 'experience that create what we call “Future Life Opportunity” – a pathway to '\n",
            " 'success in college, career, and community life.\\xa0 We create this '\n",
            " 'environment and these experiences with a focus on Choice, Reliability, '\n",
            " 'Quality, and Growth.ABOUT GREEN TECH CHARTER HIGH SCHOOL\\xa0Green Tech High '\n",
            " 'Charter School prepares young men to complete high school with a Regents '\n",
            " 'Diploma so they will have the opportunity to attend college or choose an '\n",
            " 'alternative, responsible career path as they enter adulthood.\\xa0 Green Tech '\n",
            " 'High provides a complete high school curriculum, backed by a philosophy and '\n",
            " 'culture that ensures every student will attain the skills and coursework '\n",
            " 'necessary for a Regents Diploma, and does so with a high graduation rate.\\xa0'\n",
            " 'HIGH SCHOOL PHYSICS &amp; LIVING ENVIRONMENT TEACHER JOB DESCRIPTION '\n",
            " 'DETAILSWorks with the instructional leader, school leadership team, and '\n",
            " 'instructional staff to establish a Common Core Standards-oriented curriculum '\n",
            " 'that engages students in active academic challenge and growth.Cultivates a '\n",
            " 'culture of high-expectations-great-outcomes learning in which students can '\n",
            " 'achieve the highest standards of success.Develops collaborative '\n",
            " 'relationships with colleagues and school leadership to ensure quality '\n",
            " 'teaching and learning for all students.Through professional development, '\n",
            " 'serves as the lead learner while building knowledge and expertise in physics '\n",
            " 'and living environment.\\xa0Engages in active classroom management to ensure '\n",
            " 'students represent their peers and teachers with excellence.Develops and '\n",
            " 'maintains open communication with parents and families.Uses predictive '\n",
            " 'analysis to design, deliver, and modify teaching practices to support '\n",
            " 'student growth and learning.Analyzes various student performance '\n",
            " 'assessments, identifies areas of growth, and implements appropriate '\n",
            " 'curriculum and instructional modifications to support student development '\n",
            " 'and advancement. QUALIFICATIONSValid Certification in Physics, Living '\n",
            " 'Environment or General Science, grades 7-12.Demonstrated ability to work in '\n",
            " 'a collaborative environment with key stakeholders, including faculty, '\n",
            " 'students, and parents.Mission-driven with a genuine commitment to fostering '\n",
            " 'future life opportunities for all students.Excellent communication skills, '\n",
            " 'both verbal and written.')\n",
            "\n",
            "('Front-End Developer  Full-time Office positions There are no screening '\n",
            " 'questions EUROPEAN DYNAMICS '\n",
            " '(#URL_c66532ffa1ce76ab447da6774719060c42c584edbf44d74cdb94fc4ac219ca45#) is '\n",
            " 'a leading European Software, Information and Communication Technologies '\n",
            " 'company, operating internationally (Athens, Brussels, Luxembourg, '\n",
            " 'Copenhagen, Berlin, Rome, Stockholm, London, Nicosia, Helsinki, Valetta, '\n",
            " 'etc). The company employs over 600 engineers and IT experts. We design and '\n",
            " 'develop software applications using integrated, state-of-the-art technology. '\n",
            " 'Our current IT and telecoms projects have a value exceeding 250 million '\n",
            " 'EURO. EUROPEAN DYNAMICS is a renowned supplier of IT services to European '\n",
            " 'Union Institutions, international organizations, European Agencies and '\n",
            " 'national government Administrations all over Europe. We currently have a '\n",
            " 'vacancy for a Front-End Developer, fluent in English, to offer his/her '\n",
            " 'services as an expert who will be based in Brussels. The work will be '\n",
            " 'carried out either in the company’s premises or on site at the customer '\n",
            " 'premises. In the context of the first assignment, the successful candidate '\n",
            " 'will be integrated in the Development Team of the company that will closely '\n",
            " 'cooperate with a major client’s IT team on site.\\xa0Your tasks:Design and '\n",
            " 'develop web user\\xa0 interfaces based on jQuery;Technical analysis and '\n",
            " 'maintenance work for back and front end services;Testing, deployment and '\n",
            " 'development of applications that reflect specifications;Provision of '\n",
            " 'assistance with the implementation of the technical architecture;Definition, '\n",
            " 'production of technical documentation and integration of technological '\n",
            " 'components and integration with other applications. Your skills:Minimum 10 '\n",
            " 'years of combined relevant University Studies and experience in IT;Minimum 6 '\n",
            " 'years of experience in Web design and development using JavaScript, JQuery '\n",
            " '(Kendo UI), SQL, Oracle PL/SQL, UML, CSS,\\xa0 XHTML, \\xa0SOAP, REST and '\n",
            " 'XML;Experience with JAVA and Web application scripting languages such as '\n",
            " 'Coldfusion, .Net and PHP;Knowledge of XSLT 2.0 and XPath 2.0 is considered '\n",
            " 'an asset;Excellent command of English;Knowledge of French is an asset.\\xa0')\n",
            "\n"
          ],
          "name": "stdout"
        }
      ]
    },
    {
      "cell_type": "markdown",
      "metadata": {
        "id": "mKFpcsCk3LLS"
      },
      "source": [
        "Теперь можем разделить данные, выделив для валидации 1024 примера"
      ]
    },
    {
      "cell_type": "code",
      "metadata": {
        "id": "V393xAjzP6a7"
      },
      "source": [
        "from sklearn.model_selection import train_test_split"
      ],
      "execution_count": 27,
      "outputs": []
    },
    {
      "cell_type": "code",
      "metadata": {
        "id": "bdLRMmZSP6a8"
      },
      "source": [
        "train_df, val_df = train_test_split(train_df, test_size=1024, random_state=42)"
      ],
      "execution_count": 28,
      "outputs": []
    },
    {
      "cell_type": "code",
      "metadata": {
        "id": "E96xjEpyP6a-",
        "outputId": "0faa2e85-7dfd-4530-bee5-5b855e440dfa",
        "colab": {
          "base_uri": "https://localhost:8080/",
          "height": 455
        }
      },
      "source": [
        "val_df.info()"
      ],
      "execution_count": 29,
      "outputs": [
        {
          "output_type": "stream",
          "text": [
            "<class 'pandas.core.frame.DataFrame'>\n",
            "Int64Index: 1024 entries, 592 to 6311\n",
            "Data columns (total 18 columns):\n",
            " #   Column             Non-Null Count  Dtype \n",
            "---  ------             --------------  ----- \n",
            " 0   Id                 1024 non-null   int64 \n",
            " 1   Название           1024 non-null   object\n",
            " 2   Место              1024 non-null   object\n",
            " 3   Отдел              1024 non-null   object\n",
            " 4   Зарплата           1024 non-null   object\n",
            " 5   Описание компании  1024 non-null   object\n",
            " 6   Описание вакансии  1024 non-null   object\n",
            " 7   Требования         1024 non-null   object\n",
            " 8   Соцпакет           1024 non-null   object\n",
            " 9   Дистанционно       1024 non-null   object\n",
            " 10  Вопросы            1024 non-null   object\n",
            " 11  Тип занятости      1024 non-null   object\n",
            " 12  Опыт               1024 non-null   object\n",
            " 13  Образование        1024 non-null   object\n",
            " 14  Индустрия          1024 non-null   object\n",
            " 15  Позиция            1024 non-null   object\n",
            " 16  Фейк               1024 non-null   int64 \n",
            " 17  text_data          1024 non-null   object\n",
            "dtypes: int64(2), object(16)\n",
            "memory usage: 152.0+ KB\n"
          ],
          "name": "stdout"
        }
      ]
    },
    {
      "cell_type": "markdown",
      "metadata": {
        "id": "vRoZC6fJ3W5D"
      },
      "source": [
        "Удалим все старые колонки и наши валидационные данные готовы!"
      ]
    },
    {
      "cell_type": "code",
      "metadata": {
        "id": "mA19ompCP6bA"
      },
      "source": [
        "val_df.drop(columns=old_columns, inplace=True)"
      ],
      "execution_count": 30,
      "outputs": []
    },
    {
      "cell_type": "code",
      "metadata": {
        "id": "alFplw2UP6bB",
        "outputId": "39475d87-76fb-4516-d7e8-29dcd0924897",
        "colab": {
          "base_uri": "https://localhost:8080/",
          "height": 400
        }
      },
      "source": [
        "val_df"
      ],
      "execution_count": 31,
      "outputs": [
        {
          "output_type": "execute_result",
          "data": {
            "text/html": [
              "<div>\n",
              "<style scoped>\n",
              "    .dataframe tbody tr th:only-of-type {\n",
              "        vertical-align: middle;\n",
              "    }\n",
              "\n",
              "    .dataframe tbody tr th {\n",
              "        vertical-align: top;\n",
              "    }\n",
              "\n",
              "    .dataframe thead th {\n",
              "        text-align: right;\n",
              "    }\n",
              "</style>\n",
              "<table border=\"1\" class=\"dataframe\">\n",
              "  <thead>\n",
              "    <tr style=\"text-align: right;\">\n",
              "      <th></th>\n",
              "      <th>Фейк</th>\n",
              "      <th>text_data</th>\n",
              "    </tr>\n",
              "  </thead>\n",
              "  <tbody>\n",
              "    <tr>\n",
              "      <th>592</th>\n",
              "      <td>0</td>\n",
              "      <td>Technical Site Representative  Full-time Offic...</td>\n",
              "    </tr>\n",
              "    <tr>\n",
              "      <th>608</th>\n",
              "      <td>0</td>\n",
              "      <td>Communications / Media Relations  Full-time Of...</td>\n",
              "    </tr>\n",
              "    <tr>\n",
              "      <th>424</th>\n",
              "      <td>0</td>\n",
              "      <td>Customer Support Associate  Office positions S...</td>\n",
              "    </tr>\n",
              "    <tr>\n",
              "      <th>10133</th>\n",
              "      <td>0</td>\n",
              "      <td>Property Manager (LCAM) Full-time Office posit...</td>\n",
              "    </tr>\n",
              "    <tr>\n",
              "      <th>5635</th>\n",
              "      <td>0</td>\n",
              "      <td>Talent Acquisition Specialist USA Full-time Of...</td>\n",
              "    </tr>\n",
              "    <tr>\n",
              "      <th>...</th>\n",
              "      <td>...</td>\n",
              "      <td>...</td>\n",
              "    </tr>\n",
              "    <tr>\n",
              "      <th>5269</th>\n",
              "      <td>0</td>\n",
              "      <td>Marketing Manager Full-time Office positions T...</td>\n",
              "    </tr>\n",
              "    <tr>\n",
              "      <th>7877</th>\n",
              "      <td>0</td>\n",
              "      <td>Healthcare Assistant  Office positions There a...</td>\n",
              "    </tr>\n",
              "    <tr>\n",
              "      <th>4076</th>\n",
              "      <td>0</td>\n",
              "      <td>Clinical Psychotherapist Full-time Office posi...</td>\n",
              "    </tr>\n",
              "    <tr>\n",
              "      <th>106</th>\n",
              "      <td>0</td>\n",
              "      <td>Accountant / Office Manager Full-time Office p...</td>\n",
              "    </tr>\n",
              "    <tr>\n",
              "      <th>6311</th>\n",
              "      <td>1</td>\n",
              "      <td>Manufacturing Engineer   Office positions Ther...</td>\n",
              "    </tr>\n",
              "  </tbody>\n",
              "</table>\n",
              "<p>1024 rows × 2 columns</p>\n",
              "</div>"
            ],
            "text/plain": [
              "       Фейк                                          text_data\n",
              "592       0  Technical Site Representative  Full-time Offic...\n",
              "608       0  Communications / Media Relations  Full-time Of...\n",
              "424       0  Customer Support Associate  Office positions S...\n",
              "10133     0  Property Manager (LCAM) Full-time Office posit...\n",
              "5635      0  Talent Acquisition Specialist USA Full-time Of...\n",
              "...     ...                                                ...\n",
              "5269      0  Marketing Manager Full-time Office positions T...\n",
              "7877      0  Healthcare Assistant  Office positions There a...\n",
              "4076      0  Clinical Psychotherapist Full-time Office posi...\n",
              "106       0  Accountant / Office Manager Full-time Office p...\n",
              "6311      1  Manufacturing Engineer   Office positions Ther...\n",
              "\n",
              "[1024 rows x 2 columns]"
            ]
          },
          "metadata": {
            "tags": []
          },
          "execution_count": 31
        }
      ]
    },
    {
      "cell_type": "markdown",
      "metadata": {
        "id": "KjPCQtoyP6bQ"
      },
      "source": [
        "### Test"
      ]
    },
    {
      "cell_type": "markdown",
      "metadata": {
        "id": "Ysh8MIrA41cQ"
      },
      "source": [
        "Повторяем те же действия с тестовым датасетом.\n",
        "\n",
        "Прочитаем данные"
      ]
    },
    {
      "cell_type": "code",
      "metadata": {
        "id": "8rtrxhCmP6bR"
      },
      "source": [
        "test_df = pd.read_csv('test_data.csv')"
      ],
      "execution_count": 39,
      "outputs": []
    },
    {
      "cell_type": "code",
      "metadata": {
        "id": "xYlrojJaP6bT",
        "outputId": "ba600378-66e1-4f13-b6a1-ee30d2f3f757",
        "colab": {
          "base_uri": "https://localhost:8080/",
          "height": 534
        }
      },
      "source": [
        "test_df.head()"
      ],
      "execution_count": 40,
      "outputs": [
        {
          "output_type": "execute_result",
          "data": {
            "text/html": [
              "<div>\n",
              "<style scoped>\n",
              "    .dataframe tbody tr th:only-of-type {\n",
              "        vertical-align: middle;\n",
              "    }\n",
              "\n",
              "    .dataframe tbody tr th {\n",
              "        vertical-align: top;\n",
              "    }\n",
              "\n",
              "    .dataframe thead th {\n",
              "        text-align: right;\n",
              "    }\n",
              "</style>\n",
              "<table border=\"1\" class=\"dataframe\">\n",
              "  <thead>\n",
              "    <tr style=\"text-align: right;\">\n",
              "      <th></th>\n",
              "      <th>Id</th>\n",
              "      <th>Название</th>\n",
              "      <th>Место</th>\n",
              "      <th>Отдел</th>\n",
              "      <th>Зарплата</th>\n",
              "      <th>Описание компании</th>\n",
              "      <th>Описание вакансии</th>\n",
              "      <th>Требования</th>\n",
              "      <th>Соцпакет</th>\n",
              "      <th>Дистанционно</th>\n",
              "      <th>Вопросы</th>\n",
              "      <th>Тип занятости</th>\n",
              "      <th>Опыт</th>\n",
              "      <th>Образование</th>\n",
              "      <th>Индустрия</th>\n",
              "      <th>Позиция</th>\n",
              "    </tr>\n",
              "  </thead>\n",
              "  <tbody>\n",
              "    <tr>\n",
              "      <th>0</th>\n",
              "      <td>10728</td>\n",
              "      <td>Internet Marketing Specialist</td>\n",
              "      <td>IE, L, Dublin</td>\n",
              "      <td>Marketing</td>\n",
              "      <td>NaN</td>\n",
              "      <td>NaN</td>\n",
              "      <td>This role represents an important position wit...</td>\n",
              "      <td> 3 to 10+ years experience in a similar inter...</td>\n",
              "      <td>RemunerationA highly attractive salary will be...</td>\n",
              "      <td>0</td>\n",
              "      <td>0</td>\n",
              "      <td>NaN</td>\n",
              "      <td>NaN</td>\n",
              "      <td>NaN</td>\n",
              "      <td>NaN</td>\n",
              "      <td>NaN</td>\n",
              "    </tr>\n",
              "    <tr>\n",
              "      <th>1</th>\n",
              "      <td>10729</td>\n",
              "      <td>Business Development</td>\n",
              "      <td>DE, , Berlin</td>\n",
              "      <td>NaN</td>\n",
              "      <td>NaN</td>\n",
              "      <td>We are on a mission: Making cities smarter.Cit...</td>\n",
              "      <td>You have an opinion about how we can make our ...</td>\n",
              "      <td>NaN</td>\n",
              "      <td>NaN</td>\n",
              "      <td>0</td>\n",
              "      <td>1</td>\n",
              "      <td>NaN</td>\n",
              "      <td>NaN</td>\n",
              "      <td>NaN</td>\n",
              "      <td>NaN</td>\n",
              "      <td>NaN</td>\n",
              "    </tr>\n",
              "    <tr>\n",
              "      <th>2</th>\n",
              "      <td>10730</td>\n",
              "      <td>Sonographer - Full and Part Time Opportunities</td>\n",
              "      <td>GB, ,</td>\n",
              "      <td>Ultrasound</td>\n",
              "      <td>NaN</td>\n",
              "      <td>Diagnostic Health deploy and manage high quali...</td>\n",
              "      <td>We are a leading local ultrasound company spec...</td>\n",
              "      <td>Diploma of College of Radiographers or BSc (Ho...</td>\n",
              "      <td>Competative SalaryHours to suit</td>\n",
              "      <td>0</td>\n",
              "      <td>1</td>\n",
              "      <td>Part-time</td>\n",
              "      <td>NaN</td>\n",
              "      <td>Associate Degree</td>\n",
              "      <td>Medical Practice</td>\n",
              "      <td>Health Care Provider</td>\n",
              "    </tr>\n",
              "    <tr>\n",
              "      <th>3</th>\n",
              "      <td>10731</td>\n",
              "      <td>Care Support Worker</td>\n",
              "      <td>GB, EDH, Edinburgh</td>\n",
              "      <td>NaN</td>\n",
              "      <td>NaN</td>\n",
              "      <td>Social Care Alba is the highest graded Care at...</td>\n",
              "      <td>Social Care Alba is the highest quality Care a...</td>\n",
              "      <td>Key Accountabilities would be:To provide indiv...</td>\n",
              "      <td>This is your chance to become part of our cont...</td>\n",
              "      <td>0</td>\n",
              "      <td>1</td>\n",
              "      <td>NaN</td>\n",
              "      <td>Not Applicable</td>\n",
              "      <td>NaN</td>\n",
              "      <td>Hospital &amp; Health Care</td>\n",
              "      <td>NaN</td>\n",
              "    </tr>\n",
              "    <tr>\n",
              "      <th>4</th>\n",
              "      <td>10732</td>\n",
              "      <td>Outside Sales Professional-Springfield</td>\n",
              "      <td>US, IL, Springfield</td>\n",
              "      <td>NaN</td>\n",
              "      <td>NaN</td>\n",
              "      <td>ABC Supply Co., Inc. is the nation’s largest w...</td>\n",
              "      <td>As an Outside Sales Representative, you must h...</td>\n",
              "      <td>Track Record of Sales Success – B2B or B2CNo m...</td>\n",
              "      <td>As an Outside Sales Representative, you will r...</td>\n",
              "      <td>0</td>\n",
              "      <td>0</td>\n",
              "      <td>NaN</td>\n",
              "      <td>NaN</td>\n",
              "      <td>NaN</td>\n",
              "      <td>NaN</td>\n",
              "      <td>NaN</td>\n",
              "    </tr>\n",
              "  </tbody>\n",
              "</table>\n",
              "</div>"
            ],
            "text/plain": [
              "      Id  ...               Позиция\n",
              "0  10728  ...                   NaN\n",
              "1  10729  ...                   NaN\n",
              "2  10730  ...  Health Care Provider\n",
              "3  10731  ...                   NaN\n",
              "4  10732  ...                   NaN\n",
              "\n",
              "[5 rows x 16 columns]"
            ]
          },
          "metadata": {
            "tags": []
          },
          "execution_count": 40
        }
      ]
    },
    {
      "cell_type": "code",
      "metadata": {
        "id": "q601N_9gP6bW",
        "outputId": "20a357fd-5eab-4787-fb5a-b97dde364883",
        "colab": {
          "base_uri": "https://localhost:8080/",
          "height": 420
        }
      },
      "source": [
        "test_df.info()"
      ],
      "execution_count": 41,
      "outputs": [
        {
          "output_type": "stream",
          "text": [
            "<class 'pandas.core.frame.DataFrame'>\n",
            "RangeIndex: 7152 entries, 0 to 7151\n",
            "Data columns (total 16 columns):\n",
            " #   Column             Non-Null Count  Dtype \n",
            "---  ------             --------------  ----- \n",
            " 0   Id                 7152 non-null   int64 \n",
            " 1   Название           7152 non-null   object\n",
            " 2   Место              7030 non-null   object\n",
            " 3   Отдел              2575 non-null   object\n",
            " 4   Зарплата           1138 non-null   object\n",
            " 5   Описание компании  5890 non-null   object\n",
            " 6   Описание вакансии  7151 non-null   object\n",
            " 7   Требования         6088 non-null   object\n",
            " 8   Соцпакет           4273 non-null   object\n",
            " 9   Дистанционно       7152 non-null   int64 \n",
            " 10  Вопросы            7152 non-null   int64 \n",
            " 11  Тип занятости      5823 non-null   object\n",
            " 12  Опыт               4352 non-null   object\n",
            " 13  Образование        3939 non-null   object\n",
            " 14  Индустрия          5202 non-null   object\n",
            " 15  Позиция            4572 non-null   object\n",
            "dtypes: int64(3), object(13)\n",
            "memory usage: 894.1+ KB\n"
          ],
          "name": "stdout"
        }
      ]
    },
    {
      "cell_type": "markdown",
      "metadata": {
        "id": "yaLq27IA5Cgb"
      },
      "source": [
        "Преобразуем значения в колонках **Дистанционно** и **Вопросы**"
      ]
    },
    {
      "cell_type": "code",
      "metadata": {
        "id": "VqwO4bMCP6bX"
      },
      "source": [
        "test_df['Дистанционно'] = test_df['Дистанционно'].map({1:'Telecommuting positions', 0:'Office positions'})"
      ],
      "execution_count": 42,
      "outputs": []
    },
    {
      "cell_type": "code",
      "metadata": {
        "id": "kteJ4MSLP6bY"
      },
      "source": [
        "test_df['Вопросы'] = test_df['Вопросы'].map({1:'Screening questions are present', 0:'There are no screening questions'})"
      ],
      "execution_count": 43,
      "outputs": []
    },
    {
      "cell_type": "markdown",
      "metadata": {
        "id": "fcXBncnC5IyF"
      },
      "source": [
        "Заменим пропуски"
      ]
    },
    {
      "cell_type": "code",
      "metadata": {
        "id": "UC3EpiRGP6ba"
      },
      "source": [
        "test_df.fillna('', inplace=True)"
      ],
      "execution_count": 44,
      "outputs": []
    },
    {
      "cell_type": "markdown",
      "metadata": {
        "id": "MTE6xSaE5Lxs"
      },
      "source": [
        "Добавим новую колонку с объединенным текстом из выбранных колонок"
      ]
    },
    {
      "cell_type": "code",
      "metadata": {
        "id": "P71l8LAmP6bb"
      },
      "source": [
        "test_df['text_data'] = test_df[columns_to_text].agg(' '.join, axis=1)"
      ],
      "execution_count": 45,
      "outputs": []
    },
    {
      "cell_type": "markdown",
      "metadata": {
        "id": "S57yX8ao5hVk"
      },
      "source": [
        "Удалим все старые колонки"
      ]
    },
    {
      "cell_type": "code",
      "metadata": {
        "id": "hFVJsKymP6be"
      },
      "source": [
        "test_df.drop(columns=old_columns, inplace=True)"
      ],
      "execution_count": 46,
      "outputs": []
    },
    {
      "cell_type": "code",
      "metadata": {
        "id": "HWvjc03qP6bf",
        "outputId": "71f1adcb-c08b-4b04-868f-d61bc3bfdb62",
        "colab": {
          "base_uri": "https://localhost:8080/",
          "height": 157
        }
      },
      "source": [
        "test_df.info()"
      ],
      "execution_count": 47,
      "outputs": [
        {
          "output_type": "stream",
          "text": [
            "<class 'pandas.core.frame.DataFrame'>\n",
            "RangeIndex: 7152 entries, 0 to 7151\n",
            "Data columns (total 1 columns):\n",
            " #   Column     Non-Null Count  Dtype \n",
            "---  ------     --------------  ----- \n",
            " 0   text_data  7152 non-null   object\n",
            "dtypes: object(1)\n",
            "memory usage: 56.0+ KB\n"
          ],
          "name": "stdout"
        }
      ]
    },
    {
      "cell_type": "markdown",
      "metadata": {
        "papermill": {
          "duration": 0.038143,
          "end_time": "2020-09-05T22:13:15.685456",
          "exception": false,
          "start_time": "2020-09-05T22:13:15.647313",
          "status": "completed"
        },
        "tags": [],
        "id": "fRSQpIupP6bh"
      },
      "source": [
        "## Datasets"
      ]
    },
    {
      "cell_type": "markdown",
      "metadata": {
        "id": "75BiBoq1Crok"
      },
      "source": [
        "С помощью токенизатора преобразуем наши тексты в вектора `input_ids` одной длины (512) и переведем их в необходимый для нашей модели формат тензоров `torch`"
      ]
    },
    {
      "cell_type": "code",
      "metadata": {
        "id": "29WwPKtEP6bh"
      },
      "source": [
        "import nlp"
      ],
      "execution_count": 48,
      "outputs": []
    },
    {
      "cell_type": "code",
      "metadata": {
        "execution": {
          "iopub.execute_input": "2020-09-05T22:13:15.845561Z",
          "iopub.status.busy": "2020-09-05T22:13:15.844629Z",
          "iopub.status.idle": "2020-09-05T22:14:18.490780Z",
          "shell.execute_reply": "2020-09-05T22:14:18.489532Z"
        },
        "papermill": {
          "duration": 62.76746,
          "end_time": "2020-09-05T22:14:18.490930",
          "exception": false,
          "start_time": "2020-09-05T22:13:15.723470",
          "status": "completed"
        },
        "tags": [],
        "id": "EFb4SyqOP6bi",
        "outputId": "be1167cb-a846-4294-8424-05be42b915ab",
        "colab": {
          "base_uri": "https://localhost:8080/",
          "height": 165,
          "referenced_widgets": [
            "a06f6fda5b9e4b30b216a9b05e3a6bf1",
            "2c42585aa5f641f5b30c1abe64277b3d",
            "0df31c6222514a4f92e88701cbcd677a",
            "08c73b9524254f4585d6a9f2721ddd65",
            "b5b9114a57f141949d596591382821a0",
            "710e4174eafd4fceb598f5321d02cded",
            "86829dc3637c490fadde17e42c811663",
            "8f9432dfc4fc493386c9539785ddb997",
            "2453c12ddecb4a389fe369fbba3721a6",
            "860dd09ed4294f9daa0a787f65546216",
            "0ff85d905a8a4c24a6ea763a1462537b",
            "e154a27fb22242d99a15a35ae715fbf3",
            "01a1d07a18024a4aa6f0f36f3967076c",
            "8edeef019c314f19983933d0a94e3e38",
            "c0784093be6341f4b61e97be57d3fe87",
            "31dfff14bd944ecab249c5cf36707690",
            "51b029a97c0b42c99399890a7c4501dc",
            "29e2e7d09d624f39a5ee45a4856b5930",
            "df003bae59444bbab6869a9a6b91f1d9",
            "9ca159f0971e4450acf17b13a1968a3b",
            "fc8bb88e6cd14f82a92d2954ee32069f",
            "ad1434c063624f0c931e1ceaec870034",
            "33d62a4d16044b5a88db4c8f962ace64",
            "beb02047231d49939452aa0509045b50"
          ]
        }
      },
      "source": [
        "MAX_LEN = 512 \n",
        "\n",
        "def convert_to_features(batch):\n",
        "\n",
        "    encodings = tokenizer.batch_encode_plus(batch['text_data'], \n",
        "                                            add_special_tokens=True,\n",
        "                                            pad_to_max_length=True,\n",
        "                                            truncation=True,\n",
        "                                            max_length=MAX_LEN)\n",
        "    return encodings\n",
        "\n",
        "valid_dataset = nlp.Dataset.from_pandas(val_df)\n",
        "valid_dataset = valid_dataset.map(convert_to_features, batched=True)  \n",
        "valid_dataset.set_format(\"torch\", columns=['input_ids', 'attention_mask', 'Фейк'])\n",
        "\n",
        "test_dataset = nlp.Dataset.from_pandas(test_df) \n",
        "test_dataset = test_dataset.map(convert_to_features, batched=True)  \n",
        "test_dataset.set_format(\"torch\", columns=['input_ids', 'attention_mask'])"
      ],
      "execution_count": 49,
      "outputs": [
        {
          "output_type": "display_data",
          "data": {
            "application/vnd.jupyter.widget-view+json": {
              "model_id": "a06f6fda5b9e4b30b216a9b05e3a6bf1",
              "version_minor": 0,
              "version_major": 2
            },
            "text/plain": [
              "HBox(children=(FloatProgress(value=0.0, max=10.0), HTML(value='')))"
            ]
          },
          "metadata": {
            "tags": []
          }
        },
        {
          "output_type": "stream",
          "text": [
            "\n"
          ],
          "name": "stdout"
        },
        {
          "output_type": "display_data",
          "data": {
            "application/vnd.jupyter.widget-view+json": {
              "model_id": "2453c12ddecb4a389fe369fbba3721a6",
              "version_minor": 0,
              "version_major": 2
            },
            "text/plain": [
              "HBox(children=(FloatProgress(value=0.0, max=2.0), HTML(value='')))"
            ]
          },
          "metadata": {
            "tags": []
          }
        },
        {
          "output_type": "stream",
          "text": [
            "\n"
          ],
          "name": "stdout"
        },
        {
          "output_type": "display_data",
          "data": {
            "application/vnd.jupyter.widget-view+json": {
              "model_id": "51b029a97c0b42c99399890a7c4501dc",
              "version_minor": 0,
              "version_major": 2
            },
            "text/plain": [
              "HBox(children=(FloatProgress(value=0.0, max=8.0), HTML(value='')))"
            ]
          },
          "metadata": {
            "tags": []
          }
        },
        {
          "output_type": "stream",
          "text": [
            "\n"
          ],
          "name": "stdout"
        }
      ]
    },
    {
      "cell_type": "markdown",
      "metadata": {
        "papermill": {
          "duration": 0.039562,
          "end_time": "2020-09-05T22:14:18.575706",
          "exception": false,
          "start_time": "2020-09-05T22:14:18.536144",
          "status": "completed"
        },
        "tags": [],
        "id": "myBpIjHVP6bo"
      },
      "source": [
        "## Evaluate & Submit"
      ]
    },
    {
      "cell_type": "markdown",
      "metadata": {
        "papermill": {
          "duration": 0.03969,
          "end_time": "2020-09-05T22:14:19.015962",
          "exception": false,
          "start_time": "2020-09-05T22:14:18.976272",
          "status": "completed"
        },
        "tags": [],
        "id": "vFWQ8UkEP6bs"
      },
      "source": [
        "### Evaluation"
      ]
    },
    {
      "cell_type": "markdown",
      "metadata": {
        "id": "wBW0G4CCE4q3"
      },
      "source": [
        "Опишем функцию для валидации"
      ]
    },
    {
      "cell_type": "code",
      "metadata": {
        "id": "ZQYkDBLOP6bo"
      },
      "source": [
        "from sklearn.metrics import f1_score"
      ],
      "execution_count": null,
      "outputs": []
    },
    {
      "cell_type": "code",
      "metadata": {
        "id": "6kUpApR6P6bs"
      },
      "source": [
        "from sklearn.metrics import confusion_matrix"
      ],
      "execution_count": 53,
      "outputs": []
    },
    {
      "cell_type": "code",
      "metadata": {
        "id": "nO3HmQglP6bu"
      },
      "source": [
        "def eval_loop_fn(test_data_loader, model, device):\n",
        "\n",
        "    model.eval()\n",
        "\n",
        "    with torch.no_grad():\n",
        "\n",
        "        test_preds = []\n",
        "        targets = []\n",
        "        val_loss = 0\n",
        "\n",
        "        for i, data in enumerate(test_data_loader):\n",
        "\n",
        "            input_ids = data[\"input_ids\"].to(device, dtype=torch.long)\n",
        "            attention_mask = data[\"attention_mask\"].to(device, dtype=torch.long)\n",
        "            labels = data[\"Фейк\"].to(device, dtype=torch.float)\n",
        "\n",
        "            outputs = model(\n",
        "                input_ids = input_ids,\n",
        "                attention_mask = attention_mask,\n",
        "                labels = labels\n",
        "            )\n",
        "\n",
        "            val_loss += outputs[0].item()\n",
        "            test_preds.extend(torch.argmax(outputs[1], -1).cpu().detach().tolist())\n",
        "            targets.extend(data[\"Фейк\"].detach().tolist())  \n",
        "        \n",
        "    xm.master_print(f'Val loss: {val_loss / len(test_data_loader)}')\n",
        "    xm.master_print(f'F1 score: {f1_score(targets, test_preds)}')\n",
        "    xm.master_print('Confusion matrix:')\n",
        "    xm.master_print(f'{confusion_matrix(targets, test_preds)}')\n",
        "\n",
        "    del outputs\n",
        "    del targets\n",
        "    del val_loss\n",
        "    del test_preds\n",
        "    del input_ids\n",
        "    del attention_mask\n",
        "    del labels\n",
        "    gc.collect()"
      ],
      "execution_count": 54,
      "outputs": []
    },
    {
      "cell_type": "markdown",
      "metadata": {
        "papermill": {
          "duration": 0.039369,
          "end_time": "2020-09-05T22:14:19.195683",
          "exception": false,
          "start_time": "2020-09-05T22:14:19.156314",
          "status": "completed"
        },
        "tags": [],
        "id": "qcVdHk9CP6bv"
      },
      "source": [
        "### Test"
      ]
    },
    {
      "cell_type": "markdown",
      "metadata": {
        "id": "DJJ80DBGE8Nv"
      },
      "source": [
        "Опишем функцию, которая будет получать предсказания для тестового датасета и записывать их в колонку `Фейк` файла `sample_submission.csv` под именем `submission_epoch.csv`"
      ]
    },
    {
      "cell_type": "code",
      "metadata": {
        "id": "SVyKzxHsP6bv"
      },
      "source": [
        "sample_submission = pd.read_csv('sample_submission.csv')"
      ],
      "execution_count": 55,
      "outputs": []
    },
    {
      "cell_type": "code",
      "metadata": {
        "execution": {
          "iopub.execute_input": "2020-09-05T22:14:19.288684Z",
          "iopub.status.busy": "2020-09-05T22:14:19.287895Z",
          "iopub.status.idle": "2020-09-05T22:14:19.291933Z",
          "shell.execute_reply": "2020-09-05T22:14:19.291203Z"
        },
        "papermill": {
          "duration": 0.056595,
          "end_time": "2020-09-05T22:14:19.292056",
          "exception": false,
          "start_time": "2020-09-05T22:14:19.235461",
          "status": "completed"
        },
        "tags": [],
        "id": "eTo2OAKDP6bx"
      },
      "source": [
        "def test_loop_fn(test_data_loader, model, device):\n",
        "\n",
        "    model.eval()\n",
        "\n",
        "    with torch.no_grad():\n",
        "\n",
        "        test_preds = []\n",
        "\n",
        "        for i, data in enumerate(test_data_loader):\n",
        "\n",
        "            input_ids = data[\"input_ids\"].to(device, dtype=torch.long)\n",
        "            attention_mask = data[\"attention_mask\"].to(device, dtype=torch.long)\n",
        "\n",
        "            outputs = model(\n",
        "                input_ids = input_ids,\n",
        "                attention_mask = attention_mask,\n",
        "            )[0]\n",
        "            \n",
        "            test_preds.extend(torch.argmax(outputs, -1).cpu().detach().tolist())  \n",
        "\n",
        "    sample_submission['Фейк'] = test_preds\n",
        "    sample_submission.to_csv(f'submission.csv', index=False)\n",
        "\n",
        "    del outputs\n",
        "    del test_preds\n",
        "    del input_ids\n",
        "    del attention_mask\n",
        "    gc.collect()"
      ],
      "execution_count": 60,
      "outputs": []
    },
    {
      "cell_type": "markdown",
      "metadata": {
        "papermill": {
          "duration": 0.03919,
          "end_time": "2020-09-05T22:14:19.370981",
          "exception": false,
          "start_time": "2020-09-05T22:14:19.331791",
          "status": "completed"
        },
        "tags": [],
        "id": "N7J7xRGoP6by"
      },
      "source": [
        "### Run"
      ]
    },
    {
      "cell_type": "markdown",
      "metadata": {
        "id": "0IGGsfMCF4OQ"
      },
      "source": [
        "Укажем параметры обучения"
      ]
    },
    {
      "cell_type": "code",
      "metadata": {
        "_kg_hide-output": true,
        "execution": {
          "iopub.execute_input": "2020-09-05T22:14:19.457902Z",
          "iopub.status.busy": "2020-09-05T22:14:19.457110Z",
          "iopub.status.idle": "2020-09-05T22:14:19.461887Z",
          "shell.execute_reply": "2020-09-05T22:14:19.461152Z"
        },
        "papermill": {
          "duration": 0.051603,
          "end_time": "2020-09-05T22:14:19.462019",
          "exception": false,
          "start_time": "2020-09-05T22:14:19.410416",
          "status": "completed"
        },
        "tags": [],
        "id": "_zTfenmEP6by"
      },
      "source": [
        "my_seed(42)\n",
        "\n",
        "TRAIN_BATCH_SIZE = 4 * xm.xrt_world_size()\n",
        "VALID_BATCH_SIZE = 8 \n",
        "TEST_BATCH_SIZE = 8\n",
        "EPOCHS = 10\n",
        "LR = 5e-5 * xm.xrt_world_size() "
      ],
      "execution_count": 57,
      "outputs": []
    },
    {
      "cell_type": "markdown",
      "metadata": {
        "id": "Xzp_m5LEGBpS"
      },
      "source": [
        "Определим загрузчики данных для каждого датасета и опишем основной цикл обучения. После каждой эпохи будем оценивать качество на валидационном датасете и делать предсказания для тестового."
      ]
    },
    {
      "cell_type": "code",
      "metadata": {
        "execution": {
          "iopub.execute_input": "2020-09-05T22:14:19.563132Z",
          "iopub.status.busy": "2020-09-05T22:14:19.562322Z",
          "iopub.status.idle": "2020-09-05T22:14:19.567315Z",
          "shell.execute_reply": "2020-09-05T22:14:19.566643Z"
        },
        "papermill": {
          "duration": 0.065445,
          "end_time": "2020-09-05T22:14:19.567452",
          "exception": false,
          "start_time": "2020-09-05T22:14:19.502007",
          "status": "completed"
        },
        "tags": [],
        "id": "NPl-WIuvP6b0"
      },
      "source": [
        "def _run():\n",
        "    \n",
        "    # Valid    \n",
        "    valid_data_loader = DataLoader(\n",
        "        valid_dataset,\n",
        "        batch_size=VALID_BATCH_SIZE,\n",
        "        drop_last=False,\n",
        "        num_workers=0,\n",
        "        shuffle=False,\n",
        "    )\n",
        "    xm.master_print('Valid Loader Created.')\n",
        "\n",
        "    # Test\n",
        "    test_data_loader = DataLoader(\n",
        "        test_dataset, \n",
        "        batch_size=TEST_BATCH_SIZE,\n",
        "        drop_last=False,\n",
        "        num_workers=0,\n",
        "        shuffle=False,\n",
        "    )\n",
        "    xm.master_print('Test Loader Created.')\n",
        "\n",
        "    device = xm.xla_device()\n",
        "    model = WRAPPED_MODEL.to(device)\n",
        "    xm.master_print('Done Model Loading.')\n",
        "            \n",
        "    para_loader = pl.ParallelLoader(valid_data_loader, [device])\n",
        "    xm.master_print('Parallel Loader Created. Validating ...')\n",
        "    eval_loop_fn(para_loader.per_device_loader(device), \n",
        "                model,  \n",
        "                device\n",
        "                )\n",
        "        \n",
        "    para_loader = pl.ParallelLoader(test_data_loader, [device])\n",
        "    xm.master_print('Parallel Loader Created. Testing ...')\n",
        "    test_loop_fn(para_loader.per_device_loader(device), \n",
        "                model,  \n",
        "                device, \n",
        "                )\n",
        "    xm.master_print('Predicted.')"
      ],
      "execution_count": 61,
      "outputs": []
    },
    {
      "cell_type": "markdown",
      "metadata": {
        "id": "1adnN4bXGlaN"
      },
      "source": [
        "Запускаем обучение"
      ]
    },
    {
      "cell_type": "code",
      "metadata": {
        "_kg_hide-output": true,
        "execution": {
          "iopub.execute_input": "2020-09-05T22:14:19.658948Z",
          "iopub.status.busy": "2020-09-05T22:14:19.657927Z",
          "iopub.status.idle": "2020-09-05T23:43:19.065617Z",
          "shell.execute_reply": "2020-09-05T23:43:19.064773Z"
        },
        "papermill": {
          "duration": 5339.457651,
          "end_time": "2020-09-05T23:43:19.065763",
          "exception": false,
          "start_time": "2020-09-05T22:14:19.608112",
          "status": "completed"
        },
        "tags": [],
        "id": "t_CQpV6bP6b1",
        "outputId": "6e89f264-fb40-4d11-d65c-e0e2c5e18faf",
        "colab": {
          "base_uri": "https://localhost:8080/",
          "height": 210
        }
      },
      "source": [
        "def _mp_fn(rank, flags):\n",
        "    _run()\n",
        "\n",
        "FLAGS={}\n",
        "xmp.spawn(_mp_fn, args=(FLAGS,), nprocs=8, start_method='fork')"
      ],
      "execution_count": 62,
      "outputs": [
        {
          "output_type": "stream",
          "text": [
            "Valid Loader Created.\n",
            "Test Loader Created.\n",
            "Done Model Loading.\n",
            "Parallel Loader Created. Validating ...\n",
            "Val loss: 0.051411598920822144\n",
            "F1 score: 0.8928571428571428\n",
            "Confusion matrix:\n",
            "[[962   5]\n",
            " [  7  50]]\n",
            "Parallel Loader Created. Testing ...\n",
            "Predicted.\n"
          ],
          "name": "stdout"
        }
      ]
    }
  ]
}