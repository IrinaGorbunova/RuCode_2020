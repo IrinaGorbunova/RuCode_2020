{
  "nbformat": 4,
  "nbformat_minor": 0,
  "metadata": {
    "colab": {
      "name": "_v25_18000_RoBERTa_10e_tran_320.ipynb",
      "provenance": [],
      "toc_visible": true,
      "machine_shape": "hm"
    },
    "kernelspec": {
      "name": "python3",
      "display_name": "Python 3"
    },
    "accelerator": "TPU",
    "widgets": {
      "application/vnd.jupyter.widget-state+json": {
        "e7212e64e4ae432fb082c59f026053f0": {
          "model_module": "@jupyter-widgets/controls",
          "model_name": "HBoxModel",
          "state": {
            "_view_name": "HBoxView",
            "_dom_classes": [],
            "_model_name": "HBoxModel",
            "_view_module": "@jupyter-widgets/controls",
            "_model_module_version": "1.5.0",
            "_view_count": null,
            "_view_module_version": "1.5.0",
            "box_style": "",
            "layout": "IPY_MODEL_f0dbc3a9206f4c0fafb9cf578b5ec4b1",
            "_model_module": "@jupyter-widgets/controls",
            "children": [
              "IPY_MODEL_06460e2219dd45e5baf48f9cccc8c5f1",
              "IPY_MODEL_fe6b3c526479455698bfddd94086622a"
            ]
          }
        },
        "f0dbc3a9206f4c0fafb9cf578b5ec4b1": {
          "model_module": "@jupyter-widgets/base",
          "model_name": "LayoutModel",
          "state": {
            "_view_name": "LayoutView",
            "grid_template_rows": null,
            "right": null,
            "justify_content": null,
            "_view_module": "@jupyter-widgets/base",
            "overflow": null,
            "_model_module_version": "1.2.0",
            "_view_count": null,
            "flex_flow": null,
            "width": null,
            "min_width": null,
            "border": null,
            "align_items": null,
            "bottom": null,
            "_model_module": "@jupyter-widgets/base",
            "top": null,
            "grid_column": null,
            "overflow_y": null,
            "overflow_x": null,
            "grid_auto_flow": null,
            "grid_area": null,
            "grid_template_columns": null,
            "flex": null,
            "_model_name": "LayoutModel",
            "justify_items": null,
            "grid_row": null,
            "max_height": null,
            "align_content": null,
            "visibility": null,
            "align_self": null,
            "height": null,
            "min_height": null,
            "padding": null,
            "grid_auto_rows": null,
            "grid_gap": null,
            "max_width": null,
            "order": null,
            "_view_module_version": "1.2.0",
            "grid_template_areas": null,
            "object_position": null,
            "object_fit": null,
            "grid_auto_columns": null,
            "margin": null,
            "display": null,
            "left": null
          }
        },
        "06460e2219dd45e5baf48f9cccc8c5f1": {
          "model_module": "@jupyter-widgets/controls",
          "model_name": "FloatProgressModel",
          "state": {
            "_view_name": "ProgressView",
            "style": "IPY_MODEL_292dcfecff3d48db943df772c1430646",
            "_dom_classes": [],
            "description": "Downloading: 100%",
            "_model_name": "FloatProgressModel",
            "bar_style": "success",
            "max": 482,
            "_view_module": "@jupyter-widgets/controls",
            "_model_module_version": "1.5.0",
            "value": 482,
            "_view_count": null,
            "_view_module_version": "1.5.0",
            "orientation": "horizontal",
            "min": 0,
            "description_tooltip": null,
            "_model_module": "@jupyter-widgets/controls",
            "layout": "IPY_MODEL_b1d9fe5008bf4812abda7374e144aa56"
          }
        },
        "fe6b3c526479455698bfddd94086622a": {
          "model_module": "@jupyter-widgets/controls",
          "model_name": "HTMLModel",
          "state": {
            "_view_name": "HTMLView",
            "style": "IPY_MODEL_27fa1cac0a3d464c93612ebe3ffb4c45",
            "_dom_classes": [],
            "description": "",
            "_model_name": "HTMLModel",
            "placeholder": "​",
            "_view_module": "@jupyter-widgets/controls",
            "_model_module_version": "1.5.0",
            "value": " 482/482 [00:00&lt;00:00, 1.73kB/s]",
            "_view_count": null,
            "_view_module_version": "1.5.0",
            "description_tooltip": null,
            "_model_module": "@jupyter-widgets/controls",
            "layout": "IPY_MODEL_5bd2f61823b147c6aecc3256f09c1634"
          }
        },
        "292dcfecff3d48db943df772c1430646": {
          "model_module": "@jupyter-widgets/controls",
          "model_name": "ProgressStyleModel",
          "state": {
            "_view_name": "StyleView",
            "_model_name": "ProgressStyleModel",
            "description_width": "initial",
            "_view_module": "@jupyter-widgets/base",
            "_model_module_version": "1.5.0",
            "_view_count": null,
            "_view_module_version": "1.2.0",
            "bar_color": null,
            "_model_module": "@jupyter-widgets/controls"
          }
        },
        "b1d9fe5008bf4812abda7374e144aa56": {
          "model_module": "@jupyter-widgets/base",
          "model_name": "LayoutModel",
          "state": {
            "_view_name": "LayoutView",
            "grid_template_rows": null,
            "right": null,
            "justify_content": null,
            "_view_module": "@jupyter-widgets/base",
            "overflow": null,
            "_model_module_version": "1.2.0",
            "_view_count": null,
            "flex_flow": null,
            "width": null,
            "min_width": null,
            "border": null,
            "align_items": null,
            "bottom": null,
            "_model_module": "@jupyter-widgets/base",
            "top": null,
            "grid_column": null,
            "overflow_y": null,
            "overflow_x": null,
            "grid_auto_flow": null,
            "grid_area": null,
            "grid_template_columns": null,
            "flex": null,
            "_model_name": "LayoutModel",
            "justify_items": null,
            "grid_row": null,
            "max_height": null,
            "align_content": null,
            "visibility": null,
            "align_self": null,
            "height": null,
            "min_height": null,
            "padding": null,
            "grid_auto_rows": null,
            "grid_gap": null,
            "max_width": null,
            "order": null,
            "_view_module_version": "1.2.0",
            "grid_template_areas": null,
            "object_position": null,
            "object_fit": null,
            "grid_auto_columns": null,
            "margin": null,
            "display": null,
            "left": null
          }
        },
        "27fa1cac0a3d464c93612ebe3ffb4c45": {
          "model_module": "@jupyter-widgets/controls",
          "model_name": "DescriptionStyleModel",
          "state": {
            "_view_name": "StyleView",
            "_model_name": "DescriptionStyleModel",
            "description_width": "",
            "_view_module": "@jupyter-widgets/base",
            "_model_module_version": "1.5.0",
            "_view_count": null,
            "_view_module_version": "1.2.0",
            "_model_module": "@jupyter-widgets/controls"
          }
        },
        "5bd2f61823b147c6aecc3256f09c1634": {
          "model_module": "@jupyter-widgets/base",
          "model_name": "LayoutModel",
          "state": {
            "_view_name": "LayoutView",
            "grid_template_rows": null,
            "right": null,
            "justify_content": null,
            "_view_module": "@jupyter-widgets/base",
            "overflow": null,
            "_model_module_version": "1.2.0",
            "_view_count": null,
            "flex_flow": null,
            "width": null,
            "min_width": null,
            "border": null,
            "align_items": null,
            "bottom": null,
            "_model_module": "@jupyter-widgets/base",
            "top": null,
            "grid_column": null,
            "overflow_y": null,
            "overflow_x": null,
            "grid_auto_flow": null,
            "grid_area": null,
            "grid_template_columns": null,
            "flex": null,
            "_model_name": "LayoutModel",
            "justify_items": null,
            "grid_row": null,
            "max_height": null,
            "align_content": null,
            "visibility": null,
            "align_self": null,
            "height": null,
            "min_height": null,
            "padding": null,
            "grid_auto_rows": null,
            "grid_gap": null,
            "max_width": null,
            "order": null,
            "_view_module_version": "1.2.0",
            "grid_template_areas": null,
            "object_position": null,
            "object_fit": null,
            "grid_auto_columns": null,
            "margin": null,
            "display": null,
            "left": null
          }
        },
        "765ce11ff48b4f10a4f625a737654784": {
          "model_module": "@jupyter-widgets/controls",
          "model_name": "HBoxModel",
          "state": {
            "_view_name": "HBoxView",
            "_dom_classes": [],
            "_model_name": "HBoxModel",
            "_view_module": "@jupyter-widgets/controls",
            "_model_module_version": "1.5.0",
            "_view_count": null,
            "_view_module_version": "1.5.0",
            "box_style": "",
            "layout": "IPY_MODEL_0c130187d8f646d89a29e2684895679f",
            "_model_module": "@jupyter-widgets/controls",
            "children": [
              "IPY_MODEL_f593fef5147e4ccd822c19ed3f9a214b",
              "IPY_MODEL_c433dcbccb03458b8866006de26d2a84"
            ]
          }
        },
        "0c130187d8f646d89a29e2684895679f": {
          "model_module": "@jupyter-widgets/base",
          "model_name": "LayoutModel",
          "state": {
            "_view_name": "LayoutView",
            "grid_template_rows": null,
            "right": null,
            "justify_content": null,
            "_view_module": "@jupyter-widgets/base",
            "overflow": null,
            "_model_module_version": "1.2.0",
            "_view_count": null,
            "flex_flow": null,
            "width": null,
            "min_width": null,
            "border": null,
            "align_items": null,
            "bottom": null,
            "_model_module": "@jupyter-widgets/base",
            "top": null,
            "grid_column": null,
            "overflow_y": null,
            "overflow_x": null,
            "grid_auto_flow": null,
            "grid_area": null,
            "grid_template_columns": null,
            "flex": null,
            "_model_name": "LayoutModel",
            "justify_items": null,
            "grid_row": null,
            "max_height": null,
            "align_content": null,
            "visibility": null,
            "align_self": null,
            "height": null,
            "min_height": null,
            "padding": null,
            "grid_auto_rows": null,
            "grid_gap": null,
            "max_width": null,
            "order": null,
            "_view_module_version": "1.2.0",
            "grid_template_areas": null,
            "object_position": null,
            "object_fit": null,
            "grid_auto_columns": null,
            "margin": null,
            "display": null,
            "left": null
          }
        },
        "f593fef5147e4ccd822c19ed3f9a214b": {
          "model_module": "@jupyter-widgets/controls",
          "model_name": "FloatProgressModel",
          "state": {
            "_view_name": "ProgressView",
            "style": "IPY_MODEL_7f23e0aead7f43c9b6bee89cc1e02718",
            "_dom_classes": [],
            "description": "Downloading: 100%",
            "_model_name": "FloatProgressModel",
            "bar_style": "success",
            "max": 1425941629,
            "_view_module": "@jupyter-widgets/controls",
            "_model_module_version": "1.5.0",
            "value": 1425941629,
            "_view_count": null,
            "_view_module_version": "1.5.0",
            "orientation": "horizontal",
            "min": 0,
            "description_tooltip": null,
            "_model_module": "@jupyter-widgets/controls",
            "layout": "IPY_MODEL_1f53d1edadfb45e4b434e1c2f56b08b0"
          }
        },
        "c433dcbccb03458b8866006de26d2a84": {
          "model_module": "@jupyter-widgets/controls",
          "model_name": "HTMLModel",
          "state": {
            "_view_name": "HTMLView",
            "style": "IPY_MODEL_fbfc66fd3a0847d9afa306b0174a075f",
            "_dom_classes": [],
            "description": "",
            "_model_name": "HTMLModel",
            "placeholder": "​",
            "_view_module": "@jupyter-widgets/controls",
            "_model_module_version": "1.5.0",
            "value": " 1.43G/1.43G [03:22&lt;00:00, 7.03MB/s]",
            "_view_count": null,
            "_view_module_version": "1.5.0",
            "description_tooltip": null,
            "_model_module": "@jupyter-widgets/controls",
            "layout": "IPY_MODEL_a76e3bccf3f7496391897d6b78932fdf"
          }
        },
        "7f23e0aead7f43c9b6bee89cc1e02718": {
          "model_module": "@jupyter-widgets/controls",
          "model_name": "ProgressStyleModel",
          "state": {
            "_view_name": "StyleView",
            "_model_name": "ProgressStyleModel",
            "description_width": "initial",
            "_view_module": "@jupyter-widgets/base",
            "_model_module_version": "1.5.0",
            "_view_count": null,
            "_view_module_version": "1.2.0",
            "bar_color": null,
            "_model_module": "@jupyter-widgets/controls"
          }
        },
        "1f53d1edadfb45e4b434e1c2f56b08b0": {
          "model_module": "@jupyter-widgets/base",
          "model_name": "LayoutModel",
          "state": {
            "_view_name": "LayoutView",
            "grid_template_rows": null,
            "right": null,
            "justify_content": null,
            "_view_module": "@jupyter-widgets/base",
            "overflow": null,
            "_model_module_version": "1.2.0",
            "_view_count": null,
            "flex_flow": null,
            "width": null,
            "min_width": null,
            "border": null,
            "align_items": null,
            "bottom": null,
            "_model_module": "@jupyter-widgets/base",
            "top": null,
            "grid_column": null,
            "overflow_y": null,
            "overflow_x": null,
            "grid_auto_flow": null,
            "grid_area": null,
            "grid_template_columns": null,
            "flex": null,
            "_model_name": "LayoutModel",
            "justify_items": null,
            "grid_row": null,
            "max_height": null,
            "align_content": null,
            "visibility": null,
            "align_self": null,
            "height": null,
            "min_height": null,
            "padding": null,
            "grid_auto_rows": null,
            "grid_gap": null,
            "max_width": null,
            "order": null,
            "_view_module_version": "1.2.0",
            "grid_template_areas": null,
            "object_position": null,
            "object_fit": null,
            "grid_auto_columns": null,
            "margin": null,
            "display": null,
            "left": null
          }
        },
        "fbfc66fd3a0847d9afa306b0174a075f": {
          "model_module": "@jupyter-widgets/controls",
          "model_name": "DescriptionStyleModel",
          "state": {
            "_view_name": "StyleView",
            "_model_name": "DescriptionStyleModel",
            "description_width": "",
            "_view_module": "@jupyter-widgets/base",
            "_model_module_version": "1.5.0",
            "_view_count": null,
            "_view_module_version": "1.2.0",
            "_model_module": "@jupyter-widgets/controls"
          }
        },
        "a76e3bccf3f7496391897d6b78932fdf": {
          "model_module": "@jupyter-widgets/base",
          "model_name": "LayoutModel",
          "state": {
            "_view_name": "LayoutView",
            "grid_template_rows": null,
            "right": null,
            "justify_content": null,
            "_view_module": "@jupyter-widgets/base",
            "overflow": null,
            "_model_module_version": "1.2.0",
            "_view_count": null,
            "flex_flow": null,
            "width": null,
            "min_width": null,
            "border": null,
            "align_items": null,
            "bottom": null,
            "_model_module": "@jupyter-widgets/base",
            "top": null,
            "grid_column": null,
            "overflow_y": null,
            "overflow_x": null,
            "grid_auto_flow": null,
            "grid_area": null,
            "grid_template_columns": null,
            "flex": null,
            "_model_name": "LayoutModel",
            "justify_items": null,
            "grid_row": null,
            "max_height": null,
            "align_content": null,
            "visibility": null,
            "align_self": null,
            "height": null,
            "min_height": null,
            "padding": null,
            "grid_auto_rows": null,
            "grid_gap": null,
            "max_width": null,
            "order": null,
            "_view_module_version": "1.2.0",
            "grid_template_areas": null,
            "object_position": null,
            "object_fit": null,
            "grid_auto_columns": null,
            "margin": null,
            "display": null,
            "left": null
          }
        },
        "135d153bf8234ff28276b318f22f40d4": {
          "model_module": "@jupyter-widgets/controls",
          "model_name": "HBoxModel",
          "state": {
            "_view_name": "HBoxView",
            "_dom_classes": [],
            "_model_name": "HBoxModel",
            "_view_module": "@jupyter-widgets/controls",
            "_model_module_version": "1.5.0",
            "_view_count": null,
            "_view_module_version": "1.5.0",
            "box_style": "",
            "layout": "IPY_MODEL_f8314532ad0548bdafb2c927f309fa05",
            "_model_module": "@jupyter-widgets/controls",
            "children": [
              "IPY_MODEL_ebdf603d3c2a4388999b4354743fd7a1",
              "IPY_MODEL_693593d622f74946b2ed74241bae65f2"
            ]
          }
        },
        "f8314532ad0548bdafb2c927f309fa05": {
          "model_module": "@jupyter-widgets/base",
          "model_name": "LayoutModel",
          "state": {
            "_view_name": "LayoutView",
            "grid_template_rows": null,
            "right": null,
            "justify_content": null,
            "_view_module": "@jupyter-widgets/base",
            "overflow": null,
            "_model_module_version": "1.2.0",
            "_view_count": null,
            "flex_flow": null,
            "width": null,
            "min_width": null,
            "border": null,
            "align_items": null,
            "bottom": null,
            "_model_module": "@jupyter-widgets/base",
            "top": null,
            "grid_column": null,
            "overflow_y": null,
            "overflow_x": null,
            "grid_auto_flow": null,
            "grid_area": null,
            "grid_template_columns": null,
            "flex": null,
            "_model_name": "LayoutModel",
            "justify_items": null,
            "grid_row": null,
            "max_height": null,
            "align_content": null,
            "visibility": null,
            "align_self": null,
            "height": null,
            "min_height": null,
            "padding": null,
            "grid_auto_rows": null,
            "grid_gap": null,
            "max_width": null,
            "order": null,
            "_view_module_version": "1.2.0",
            "grid_template_areas": null,
            "object_position": null,
            "object_fit": null,
            "grid_auto_columns": null,
            "margin": null,
            "display": null,
            "left": null
          }
        },
        "ebdf603d3c2a4388999b4354743fd7a1": {
          "model_module": "@jupyter-widgets/controls",
          "model_name": "FloatProgressModel",
          "state": {
            "_view_name": "ProgressView",
            "style": "IPY_MODEL_6f346a60d9d94af1b659d2b650fd4018",
            "_dom_classes": [],
            "description": "Downloading: 100%",
            "_model_name": "FloatProgressModel",
            "bar_style": "success",
            "max": 898823,
            "_view_module": "@jupyter-widgets/controls",
            "_model_module_version": "1.5.0",
            "value": 898823,
            "_view_count": null,
            "_view_module_version": "1.5.0",
            "orientation": "horizontal",
            "min": 0,
            "description_tooltip": null,
            "_model_module": "@jupyter-widgets/controls",
            "layout": "IPY_MODEL_7de8ea17322e4be1962a556840c58b93"
          }
        },
        "693593d622f74946b2ed74241bae65f2": {
          "model_module": "@jupyter-widgets/controls",
          "model_name": "HTMLModel",
          "state": {
            "_view_name": "HTMLView",
            "style": "IPY_MODEL_416bf60f6361476a80b5da8d51fbc44a",
            "_dom_classes": [],
            "description": "",
            "_model_name": "HTMLModel",
            "placeholder": "​",
            "_view_module": "@jupyter-widgets/controls",
            "_model_module_version": "1.5.0",
            "value": " 899k/899k [00:00&lt;00:00, 1.45MB/s]",
            "_view_count": null,
            "_view_module_version": "1.5.0",
            "description_tooltip": null,
            "_model_module": "@jupyter-widgets/controls",
            "layout": "IPY_MODEL_0e5a4a4c04564982a0107149df1c5ad5"
          }
        },
        "6f346a60d9d94af1b659d2b650fd4018": {
          "model_module": "@jupyter-widgets/controls",
          "model_name": "ProgressStyleModel",
          "state": {
            "_view_name": "StyleView",
            "_model_name": "ProgressStyleModel",
            "description_width": "initial",
            "_view_module": "@jupyter-widgets/base",
            "_model_module_version": "1.5.0",
            "_view_count": null,
            "_view_module_version": "1.2.0",
            "bar_color": null,
            "_model_module": "@jupyter-widgets/controls"
          }
        },
        "7de8ea17322e4be1962a556840c58b93": {
          "model_module": "@jupyter-widgets/base",
          "model_name": "LayoutModel",
          "state": {
            "_view_name": "LayoutView",
            "grid_template_rows": null,
            "right": null,
            "justify_content": null,
            "_view_module": "@jupyter-widgets/base",
            "overflow": null,
            "_model_module_version": "1.2.0",
            "_view_count": null,
            "flex_flow": null,
            "width": null,
            "min_width": null,
            "border": null,
            "align_items": null,
            "bottom": null,
            "_model_module": "@jupyter-widgets/base",
            "top": null,
            "grid_column": null,
            "overflow_y": null,
            "overflow_x": null,
            "grid_auto_flow": null,
            "grid_area": null,
            "grid_template_columns": null,
            "flex": null,
            "_model_name": "LayoutModel",
            "justify_items": null,
            "grid_row": null,
            "max_height": null,
            "align_content": null,
            "visibility": null,
            "align_self": null,
            "height": null,
            "min_height": null,
            "padding": null,
            "grid_auto_rows": null,
            "grid_gap": null,
            "max_width": null,
            "order": null,
            "_view_module_version": "1.2.0",
            "grid_template_areas": null,
            "object_position": null,
            "object_fit": null,
            "grid_auto_columns": null,
            "margin": null,
            "display": null,
            "left": null
          }
        },
        "416bf60f6361476a80b5da8d51fbc44a": {
          "model_module": "@jupyter-widgets/controls",
          "model_name": "DescriptionStyleModel",
          "state": {
            "_view_name": "StyleView",
            "_model_name": "DescriptionStyleModel",
            "description_width": "",
            "_view_module": "@jupyter-widgets/base",
            "_model_module_version": "1.5.0",
            "_view_count": null,
            "_view_module_version": "1.2.0",
            "_model_module": "@jupyter-widgets/controls"
          }
        },
        "0e5a4a4c04564982a0107149df1c5ad5": {
          "model_module": "@jupyter-widgets/base",
          "model_name": "LayoutModel",
          "state": {
            "_view_name": "LayoutView",
            "grid_template_rows": null,
            "right": null,
            "justify_content": null,
            "_view_module": "@jupyter-widgets/base",
            "overflow": null,
            "_model_module_version": "1.2.0",
            "_view_count": null,
            "flex_flow": null,
            "width": null,
            "min_width": null,
            "border": null,
            "align_items": null,
            "bottom": null,
            "_model_module": "@jupyter-widgets/base",
            "top": null,
            "grid_column": null,
            "overflow_y": null,
            "overflow_x": null,
            "grid_auto_flow": null,
            "grid_area": null,
            "grid_template_columns": null,
            "flex": null,
            "_model_name": "LayoutModel",
            "justify_items": null,
            "grid_row": null,
            "max_height": null,
            "align_content": null,
            "visibility": null,
            "align_self": null,
            "height": null,
            "min_height": null,
            "padding": null,
            "grid_auto_rows": null,
            "grid_gap": null,
            "max_width": null,
            "order": null,
            "_view_module_version": "1.2.0",
            "grid_template_areas": null,
            "object_position": null,
            "object_fit": null,
            "grid_auto_columns": null,
            "margin": null,
            "display": null,
            "left": null
          }
        },
        "fe68298f623246e1918a54961ecdf1fd": {
          "model_module": "@jupyter-widgets/controls",
          "model_name": "HBoxModel",
          "state": {
            "_view_name": "HBoxView",
            "_dom_classes": [],
            "_model_name": "HBoxModel",
            "_view_module": "@jupyter-widgets/controls",
            "_model_module_version": "1.5.0",
            "_view_count": null,
            "_view_module_version": "1.5.0",
            "box_style": "",
            "layout": "IPY_MODEL_65773125d75d409dbcf99cf3d92a3ba8",
            "_model_module": "@jupyter-widgets/controls",
            "children": [
              "IPY_MODEL_82eba52e1bcf4ff584378d7dd292caec",
              "IPY_MODEL_1096dc925177427e910e1c9c432b4f63"
            ]
          }
        },
        "65773125d75d409dbcf99cf3d92a3ba8": {
          "model_module": "@jupyter-widgets/base",
          "model_name": "LayoutModel",
          "state": {
            "_view_name": "LayoutView",
            "grid_template_rows": null,
            "right": null,
            "justify_content": null,
            "_view_module": "@jupyter-widgets/base",
            "overflow": null,
            "_model_module_version": "1.2.0",
            "_view_count": null,
            "flex_flow": null,
            "width": null,
            "min_width": null,
            "border": null,
            "align_items": null,
            "bottom": null,
            "_model_module": "@jupyter-widgets/base",
            "top": null,
            "grid_column": null,
            "overflow_y": null,
            "overflow_x": null,
            "grid_auto_flow": null,
            "grid_area": null,
            "grid_template_columns": null,
            "flex": null,
            "_model_name": "LayoutModel",
            "justify_items": null,
            "grid_row": null,
            "max_height": null,
            "align_content": null,
            "visibility": null,
            "align_self": null,
            "height": null,
            "min_height": null,
            "padding": null,
            "grid_auto_rows": null,
            "grid_gap": null,
            "max_width": null,
            "order": null,
            "_view_module_version": "1.2.0",
            "grid_template_areas": null,
            "object_position": null,
            "object_fit": null,
            "grid_auto_columns": null,
            "margin": null,
            "display": null,
            "left": null
          }
        },
        "82eba52e1bcf4ff584378d7dd292caec": {
          "model_module": "@jupyter-widgets/controls",
          "model_name": "FloatProgressModel",
          "state": {
            "_view_name": "ProgressView",
            "style": "IPY_MODEL_f2c697b0ccc04a5ab6dbda6a94396268",
            "_dom_classes": [],
            "description": "Downloading: 100%",
            "_model_name": "FloatProgressModel",
            "bar_style": "success",
            "max": 456318,
            "_view_module": "@jupyter-widgets/controls",
            "_model_module_version": "1.5.0",
            "value": 456318,
            "_view_count": null,
            "_view_module_version": "1.5.0",
            "orientation": "horizontal",
            "min": 0,
            "description_tooltip": null,
            "_model_module": "@jupyter-widgets/controls",
            "layout": "IPY_MODEL_7bf8b4d8bf6046b09f53d1c909c3ce79"
          }
        },
        "1096dc925177427e910e1c9c432b4f63": {
          "model_module": "@jupyter-widgets/controls",
          "model_name": "HTMLModel",
          "state": {
            "_view_name": "HTMLView",
            "style": "IPY_MODEL_2f2d312dd5d046b4b1feb2059408ed3a",
            "_dom_classes": [],
            "description": "",
            "_model_name": "HTMLModel",
            "placeholder": "​",
            "_view_module": "@jupyter-widgets/controls",
            "_model_module_version": "1.5.0",
            "value": " 456k/456k [00:00&lt;00:00, 2.47MB/s]",
            "_view_count": null,
            "_view_module_version": "1.5.0",
            "description_tooltip": null,
            "_model_module": "@jupyter-widgets/controls",
            "layout": "IPY_MODEL_0569279776694a27b41f22dc4b47a259"
          }
        },
        "f2c697b0ccc04a5ab6dbda6a94396268": {
          "model_module": "@jupyter-widgets/controls",
          "model_name": "ProgressStyleModel",
          "state": {
            "_view_name": "StyleView",
            "_model_name": "ProgressStyleModel",
            "description_width": "initial",
            "_view_module": "@jupyter-widgets/base",
            "_model_module_version": "1.5.0",
            "_view_count": null,
            "_view_module_version": "1.2.0",
            "bar_color": null,
            "_model_module": "@jupyter-widgets/controls"
          }
        },
        "7bf8b4d8bf6046b09f53d1c909c3ce79": {
          "model_module": "@jupyter-widgets/base",
          "model_name": "LayoutModel",
          "state": {
            "_view_name": "LayoutView",
            "grid_template_rows": null,
            "right": null,
            "justify_content": null,
            "_view_module": "@jupyter-widgets/base",
            "overflow": null,
            "_model_module_version": "1.2.0",
            "_view_count": null,
            "flex_flow": null,
            "width": null,
            "min_width": null,
            "border": null,
            "align_items": null,
            "bottom": null,
            "_model_module": "@jupyter-widgets/base",
            "top": null,
            "grid_column": null,
            "overflow_y": null,
            "overflow_x": null,
            "grid_auto_flow": null,
            "grid_area": null,
            "grid_template_columns": null,
            "flex": null,
            "_model_name": "LayoutModel",
            "justify_items": null,
            "grid_row": null,
            "max_height": null,
            "align_content": null,
            "visibility": null,
            "align_self": null,
            "height": null,
            "min_height": null,
            "padding": null,
            "grid_auto_rows": null,
            "grid_gap": null,
            "max_width": null,
            "order": null,
            "_view_module_version": "1.2.0",
            "grid_template_areas": null,
            "object_position": null,
            "object_fit": null,
            "grid_auto_columns": null,
            "margin": null,
            "display": null,
            "left": null
          }
        },
        "2f2d312dd5d046b4b1feb2059408ed3a": {
          "model_module": "@jupyter-widgets/controls",
          "model_name": "DescriptionStyleModel",
          "state": {
            "_view_name": "StyleView",
            "_model_name": "DescriptionStyleModel",
            "description_width": "",
            "_view_module": "@jupyter-widgets/base",
            "_model_module_version": "1.5.0",
            "_view_count": null,
            "_view_module_version": "1.2.0",
            "_model_module": "@jupyter-widgets/controls"
          }
        },
        "0569279776694a27b41f22dc4b47a259": {
          "model_module": "@jupyter-widgets/base",
          "model_name": "LayoutModel",
          "state": {
            "_view_name": "LayoutView",
            "grid_template_rows": null,
            "right": null,
            "justify_content": null,
            "_view_module": "@jupyter-widgets/base",
            "overflow": null,
            "_model_module_version": "1.2.0",
            "_view_count": null,
            "flex_flow": null,
            "width": null,
            "min_width": null,
            "border": null,
            "align_items": null,
            "bottom": null,
            "_model_module": "@jupyter-widgets/base",
            "top": null,
            "grid_column": null,
            "overflow_y": null,
            "overflow_x": null,
            "grid_auto_flow": null,
            "grid_area": null,
            "grid_template_columns": null,
            "flex": null,
            "_model_name": "LayoutModel",
            "justify_items": null,
            "grid_row": null,
            "max_height": null,
            "align_content": null,
            "visibility": null,
            "align_self": null,
            "height": null,
            "min_height": null,
            "padding": null,
            "grid_auto_rows": null,
            "grid_gap": null,
            "max_width": null,
            "order": null,
            "_view_module_version": "1.2.0",
            "grid_template_areas": null,
            "object_position": null,
            "object_fit": null,
            "grid_auto_columns": null,
            "margin": null,
            "display": null,
            "left": null
          }
        },
        "8f81faf1bfa14f6dbc5382b45cc5fca8": {
          "model_module": "@jupyter-widgets/controls",
          "model_name": "HBoxModel",
          "state": {
            "_view_name": "HBoxView",
            "_dom_classes": [],
            "_model_name": "HBoxModel",
            "_view_module": "@jupyter-widgets/controls",
            "_model_module_version": "1.5.0",
            "_view_count": null,
            "_view_module_version": "1.5.0",
            "box_style": "",
            "layout": "IPY_MODEL_e3f57dcffa8d41429c804c3db22dbc69",
            "_model_module": "@jupyter-widgets/controls",
            "children": [
              "IPY_MODEL_817ebe4b74ba493b952095314f82a0e7",
              "IPY_MODEL_a64e1586a9674eed8ef5bb971c2796f3"
            ]
          }
        },
        "e3f57dcffa8d41429c804c3db22dbc69": {
          "model_module": "@jupyter-widgets/base",
          "model_name": "LayoutModel",
          "state": {
            "_view_name": "LayoutView",
            "grid_template_rows": null,
            "right": null,
            "justify_content": null,
            "_view_module": "@jupyter-widgets/base",
            "overflow": null,
            "_model_module_version": "1.2.0",
            "_view_count": null,
            "flex_flow": null,
            "width": null,
            "min_width": null,
            "border": null,
            "align_items": null,
            "bottom": null,
            "_model_module": "@jupyter-widgets/base",
            "top": null,
            "grid_column": null,
            "overflow_y": null,
            "overflow_x": null,
            "grid_auto_flow": null,
            "grid_area": null,
            "grid_template_columns": null,
            "flex": null,
            "_model_name": "LayoutModel",
            "justify_items": null,
            "grid_row": null,
            "max_height": null,
            "align_content": null,
            "visibility": null,
            "align_self": null,
            "height": null,
            "min_height": null,
            "padding": null,
            "grid_auto_rows": null,
            "grid_gap": null,
            "max_width": null,
            "order": null,
            "_view_module_version": "1.2.0",
            "grid_template_areas": null,
            "object_position": null,
            "object_fit": null,
            "grid_auto_columns": null,
            "margin": null,
            "display": null,
            "left": null
          }
        },
        "817ebe4b74ba493b952095314f82a0e7": {
          "model_module": "@jupyter-widgets/controls",
          "model_name": "FloatProgressModel",
          "state": {
            "_view_name": "ProgressView",
            "style": "IPY_MODEL_22f2936bfa1b4809a82ba467fa2b692c",
            "_dom_classes": [],
            "description": "100%",
            "_model_name": "FloatProgressModel",
            "bar_style": "success",
            "max": 19,
            "_view_module": "@jupyter-widgets/controls",
            "_model_module_version": "1.5.0",
            "value": 19,
            "_view_count": null,
            "_view_module_version": "1.5.0",
            "orientation": "horizontal",
            "min": 0,
            "description_tooltip": null,
            "_model_module": "@jupyter-widgets/controls",
            "layout": "IPY_MODEL_fb9650076f044edbadae40ffdc823e8c"
          }
        },
        "a64e1586a9674eed8ef5bb971c2796f3": {
          "model_module": "@jupyter-widgets/controls",
          "model_name": "HTMLModel",
          "state": {
            "_view_name": "HTMLView",
            "style": "IPY_MODEL_50947b91493f4448b057985b05e46b3a",
            "_dom_classes": [],
            "description": "",
            "_model_name": "HTMLModel",
            "placeholder": "​",
            "_view_module": "@jupyter-widgets/controls",
            "_model_module_version": "1.5.0",
            "value": " 19/19 [12:19&lt;00:00, 38.93s/it]",
            "_view_count": null,
            "_view_module_version": "1.5.0",
            "description_tooltip": null,
            "_model_module": "@jupyter-widgets/controls",
            "layout": "IPY_MODEL_fa752bf0cc1f4d90817c7d08c1938223"
          }
        },
        "22f2936bfa1b4809a82ba467fa2b692c": {
          "model_module": "@jupyter-widgets/controls",
          "model_name": "ProgressStyleModel",
          "state": {
            "_view_name": "StyleView",
            "_model_name": "ProgressStyleModel",
            "description_width": "initial",
            "_view_module": "@jupyter-widgets/base",
            "_model_module_version": "1.5.0",
            "_view_count": null,
            "_view_module_version": "1.2.0",
            "bar_color": null,
            "_model_module": "@jupyter-widgets/controls"
          }
        },
        "fb9650076f044edbadae40ffdc823e8c": {
          "model_module": "@jupyter-widgets/base",
          "model_name": "LayoutModel",
          "state": {
            "_view_name": "LayoutView",
            "grid_template_rows": null,
            "right": null,
            "justify_content": null,
            "_view_module": "@jupyter-widgets/base",
            "overflow": null,
            "_model_module_version": "1.2.0",
            "_view_count": null,
            "flex_flow": null,
            "width": null,
            "min_width": null,
            "border": null,
            "align_items": null,
            "bottom": null,
            "_model_module": "@jupyter-widgets/base",
            "top": null,
            "grid_column": null,
            "overflow_y": null,
            "overflow_x": null,
            "grid_auto_flow": null,
            "grid_area": null,
            "grid_template_columns": null,
            "flex": null,
            "_model_name": "LayoutModel",
            "justify_items": null,
            "grid_row": null,
            "max_height": null,
            "align_content": null,
            "visibility": null,
            "align_self": null,
            "height": null,
            "min_height": null,
            "padding": null,
            "grid_auto_rows": null,
            "grid_gap": null,
            "max_width": null,
            "order": null,
            "_view_module_version": "1.2.0",
            "grid_template_areas": null,
            "object_position": null,
            "object_fit": null,
            "grid_auto_columns": null,
            "margin": null,
            "display": null,
            "left": null
          }
        },
        "50947b91493f4448b057985b05e46b3a": {
          "model_module": "@jupyter-widgets/controls",
          "model_name": "DescriptionStyleModel",
          "state": {
            "_view_name": "StyleView",
            "_model_name": "DescriptionStyleModel",
            "description_width": "",
            "_view_module": "@jupyter-widgets/base",
            "_model_module_version": "1.5.0",
            "_view_count": null,
            "_view_module_version": "1.2.0",
            "_model_module": "@jupyter-widgets/controls"
          }
        },
        "fa752bf0cc1f4d90817c7d08c1938223": {
          "model_module": "@jupyter-widgets/base",
          "model_name": "LayoutModel",
          "state": {
            "_view_name": "LayoutView",
            "grid_template_rows": null,
            "right": null,
            "justify_content": null,
            "_view_module": "@jupyter-widgets/base",
            "overflow": null,
            "_model_module_version": "1.2.0",
            "_view_count": null,
            "flex_flow": null,
            "width": null,
            "min_width": null,
            "border": null,
            "align_items": null,
            "bottom": null,
            "_model_module": "@jupyter-widgets/base",
            "top": null,
            "grid_column": null,
            "overflow_y": null,
            "overflow_x": null,
            "grid_auto_flow": null,
            "grid_area": null,
            "grid_template_columns": null,
            "flex": null,
            "_model_name": "LayoutModel",
            "justify_items": null,
            "grid_row": null,
            "max_height": null,
            "align_content": null,
            "visibility": null,
            "align_self": null,
            "height": null,
            "min_height": null,
            "padding": null,
            "grid_auto_rows": null,
            "grid_gap": null,
            "max_width": null,
            "order": null,
            "_view_module_version": "1.2.0",
            "grid_template_areas": null,
            "object_position": null,
            "object_fit": null,
            "grid_auto_columns": null,
            "margin": null,
            "display": null,
            "left": null
          }
        },
        "5bd456c9161340b084f15349d378ece7": {
          "model_module": "@jupyter-widgets/controls",
          "model_name": "HBoxModel",
          "state": {
            "_view_name": "HBoxView",
            "_dom_classes": [],
            "_model_name": "HBoxModel",
            "_view_module": "@jupyter-widgets/controls",
            "_model_module_version": "1.5.0",
            "_view_count": null,
            "_view_module_version": "1.5.0",
            "box_style": "",
            "layout": "IPY_MODEL_979d0720771e4a149ba2b8bc0f9a370d",
            "_model_module": "@jupyter-widgets/controls",
            "children": [
              "IPY_MODEL_50a52cc867c049dbb42ce561da3a2015",
              "IPY_MODEL_9cfe43632c3d4c0c8fbac876cd9473be"
            ]
          }
        },
        "979d0720771e4a149ba2b8bc0f9a370d": {
          "model_module": "@jupyter-widgets/base",
          "model_name": "LayoutModel",
          "state": {
            "_view_name": "LayoutView",
            "grid_template_rows": null,
            "right": null,
            "justify_content": null,
            "_view_module": "@jupyter-widgets/base",
            "overflow": null,
            "_model_module_version": "1.2.0",
            "_view_count": null,
            "flex_flow": null,
            "width": null,
            "min_width": null,
            "border": null,
            "align_items": null,
            "bottom": null,
            "_model_module": "@jupyter-widgets/base",
            "top": null,
            "grid_column": null,
            "overflow_y": null,
            "overflow_x": null,
            "grid_auto_flow": null,
            "grid_area": null,
            "grid_template_columns": null,
            "flex": null,
            "_model_name": "LayoutModel",
            "justify_items": null,
            "grid_row": null,
            "max_height": null,
            "align_content": null,
            "visibility": null,
            "align_self": null,
            "height": null,
            "min_height": null,
            "padding": null,
            "grid_auto_rows": null,
            "grid_gap": null,
            "max_width": null,
            "order": null,
            "_view_module_version": "1.2.0",
            "grid_template_areas": null,
            "object_position": null,
            "object_fit": null,
            "grid_auto_columns": null,
            "margin": null,
            "display": null,
            "left": null
          }
        },
        "50a52cc867c049dbb42ce561da3a2015": {
          "model_module": "@jupyter-widgets/controls",
          "model_name": "FloatProgressModel",
          "state": {
            "_view_name": "ProgressView",
            "style": "IPY_MODEL_08f24f17154d48d3983067ad431805cd",
            "_dom_classes": [],
            "description": "100%",
            "_model_name": "FloatProgressModel",
            "bar_style": "success",
            "max": 2,
            "_view_module": "@jupyter-widgets/controls",
            "_model_module_version": "1.5.0",
            "value": 2,
            "_view_count": null,
            "_view_module_version": "1.5.0",
            "orientation": "horizontal",
            "min": 0,
            "description_tooltip": null,
            "_model_module": "@jupyter-widgets/controls",
            "layout": "IPY_MODEL_67ca29449ad8455a8582a7cab3007c17"
          }
        },
        "9cfe43632c3d4c0c8fbac876cd9473be": {
          "model_module": "@jupyter-widgets/controls",
          "model_name": "HTMLModel",
          "state": {
            "_view_name": "HTMLView",
            "style": "IPY_MODEL_ab35d9cf160c47c39ac454ae87140e9d",
            "_dom_classes": [],
            "description": "",
            "_model_name": "HTMLModel",
            "placeholder": "​",
            "_view_module": "@jupyter-widgets/controls",
            "_model_module_version": "1.5.0",
            "value": " 2/2 [11:17&lt;00:00, 338.92s/it]",
            "_view_count": null,
            "_view_module_version": "1.5.0",
            "description_tooltip": null,
            "_model_module": "@jupyter-widgets/controls",
            "layout": "IPY_MODEL_bf32c03a95094baf9e3b4ea7345a3c49"
          }
        },
        "08f24f17154d48d3983067ad431805cd": {
          "model_module": "@jupyter-widgets/controls",
          "model_name": "ProgressStyleModel",
          "state": {
            "_view_name": "StyleView",
            "_model_name": "ProgressStyleModel",
            "description_width": "initial",
            "_view_module": "@jupyter-widgets/base",
            "_model_module_version": "1.5.0",
            "_view_count": null,
            "_view_module_version": "1.2.0",
            "bar_color": null,
            "_model_module": "@jupyter-widgets/controls"
          }
        },
        "67ca29449ad8455a8582a7cab3007c17": {
          "model_module": "@jupyter-widgets/base",
          "model_name": "LayoutModel",
          "state": {
            "_view_name": "LayoutView",
            "grid_template_rows": null,
            "right": null,
            "justify_content": null,
            "_view_module": "@jupyter-widgets/base",
            "overflow": null,
            "_model_module_version": "1.2.0",
            "_view_count": null,
            "flex_flow": null,
            "width": null,
            "min_width": null,
            "border": null,
            "align_items": null,
            "bottom": null,
            "_model_module": "@jupyter-widgets/base",
            "top": null,
            "grid_column": null,
            "overflow_y": null,
            "overflow_x": null,
            "grid_auto_flow": null,
            "grid_area": null,
            "grid_template_columns": null,
            "flex": null,
            "_model_name": "LayoutModel",
            "justify_items": null,
            "grid_row": null,
            "max_height": null,
            "align_content": null,
            "visibility": null,
            "align_self": null,
            "height": null,
            "min_height": null,
            "padding": null,
            "grid_auto_rows": null,
            "grid_gap": null,
            "max_width": null,
            "order": null,
            "_view_module_version": "1.2.0",
            "grid_template_areas": null,
            "object_position": null,
            "object_fit": null,
            "grid_auto_columns": null,
            "margin": null,
            "display": null,
            "left": null
          }
        },
        "ab35d9cf160c47c39ac454ae87140e9d": {
          "model_module": "@jupyter-widgets/controls",
          "model_name": "DescriptionStyleModel",
          "state": {
            "_view_name": "StyleView",
            "_model_name": "DescriptionStyleModel",
            "description_width": "",
            "_view_module": "@jupyter-widgets/base",
            "_model_module_version": "1.5.0",
            "_view_count": null,
            "_view_module_version": "1.2.0",
            "_model_module": "@jupyter-widgets/controls"
          }
        },
        "bf32c03a95094baf9e3b4ea7345a3c49": {
          "model_module": "@jupyter-widgets/base",
          "model_name": "LayoutModel",
          "state": {
            "_view_name": "LayoutView",
            "grid_template_rows": null,
            "right": null,
            "justify_content": null,
            "_view_module": "@jupyter-widgets/base",
            "overflow": null,
            "_model_module_version": "1.2.0",
            "_view_count": null,
            "flex_flow": null,
            "width": null,
            "min_width": null,
            "border": null,
            "align_items": null,
            "bottom": null,
            "_model_module": "@jupyter-widgets/base",
            "top": null,
            "grid_column": null,
            "overflow_y": null,
            "overflow_x": null,
            "grid_auto_flow": null,
            "grid_area": null,
            "grid_template_columns": null,
            "flex": null,
            "_model_name": "LayoutModel",
            "justify_items": null,
            "grid_row": null,
            "max_height": null,
            "align_content": null,
            "visibility": null,
            "align_self": null,
            "height": null,
            "min_height": null,
            "padding": null,
            "grid_auto_rows": null,
            "grid_gap": null,
            "max_width": null,
            "order": null,
            "_view_module_version": "1.2.0",
            "grid_template_areas": null,
            "object_position": null,
            "object_fit": null,
            "grid_auto_columns": null,
            "margin": null,
            "display": null,
            "left": null
          }
        },
        "928cd05ba6154fda8de320d9e57921cf": {
          "model_module": "@jupyter-widgets/controls",
          "model_name": "HBoxModel",
          "state": {
            "_view_name": "HBoxView",
            "_dom_classes": [],
            "_model_name": "HBoxModel",
            "_view_module": "@jupyter-widgets/controls",
            "_model_module_version": "1.5.0",
            "_view_count": null,
            "_view_module_version": "1.5.0",
            "box_style": "",
            "layout": "IPY_MODEL_d256bf1d231b4ad0af2391b88d28e770",
            "_model_module": "@jupyter-widgets/controls",
            "children": [
              "IPY_MODEL_1697211d92d44ea0aa670f6e309e08c0",
              "IPY_MODEL_c2ec0e619d90412cbfc569dd7d07c196"
            ]
          }
        },
        "d256bf1d231b4ad0af2391b88d28e770": {
          "model_module": "@jupyter-widgets/base",
          "model_name": "LayoutModel",
          "state": {
            "_view_name": "LayoutView",
            "grid_template_rows": null,
            "right": null,
            "justify_content": null,
            "_view_module": "@jupyter-widgets/base",
            "overflow": null,
            "_model_module_version": "1.2.0",
            "_view_count": null,
            "flex_flow": null,
            "width": null,
            "min_width": null,
            "border": null,
            "align_items": null,
            "bottom": null,
            "_model_module": "@jupyter-widgets/base",
            "top": null,
            "grid_column": null,
            "overflow_y": null,
            "overflow_x": null,
            "grid_auto_flow": null,
            "grid_area": null,
            "grid_template_columns": null,
            "flex": null,
            "_model_name": "LayoutModel",
            "justify_items": null,
            "grid_row": null,
            "max_height": null,
            "align_content": null,
            "visibility": null,
            "align_self": null,
            "height": null,
            "min_height": null,
            "padding": null,
            "grid_auto_rows": null,
            "grid_gap": null,
            "max_width": null,
            "order": null,
            "_view_module_version": "1.2.0",
            "grid_template_areas": null,
            "object_position": null,
            "object_fit": null,
            "grid_auto_columns": null,
            "margin": null,
            "display": null,
            "left": null
          }
        },
        "1697211d92d44ea0aa670f6e309e08c0": {
          "model_module": "@jupyter-widgets/controls",
          "model_name": "FloatProgressModel",
          "state": {
            "_view_name": "ProgressView",
            "style": "IPY_MODEL_bcb02ab62c404107869d4f8f1487b674",
            "_dom_classes": [],
            "description": "100%",
            "_model_name": "FloatProgressModel",
            "bar_style": "success",
            "max": 8,
            "_view_module": "@jupyter-widgets/controls",
            "_model_module_version": "1.5.0",
            "value": 8,
            "_view_count": null,
            "_view_module_version": "1.5.0",
            "orientation": "horizontal",
            "min": 0,
            "description_tooltip": null,
            "_model_module": "@jupyter-widgets/controls",
            "layout": "IPY_MODEL_e6ac2d6c80ea4b06a1c27437b3ca019a"
          }
        },
        "c2ec0e619d90412cbfc569dd7d07c196": {
          "model_module": "@jupyter-widgets/controls",
          "model_name": "HTMLModel",
          "state": {
            "_view_name": "HTMLView",
            "style": "IPY_MODEL_727f78ee62e74b88ac0da045aff9ebe7",
            "_dom_classes": [],
            "description": "",
            "_model_name": "HTMLModel",
            "placeholder": "​",
            "_view_module": "@jupyter-widgets/controls",
            "_model_module_version": "1.5.0",
            "value": " 8/8 [11:13&lt;00:00, 84.24s/it]",
            "_view_count": null,
            "_view_module_version": "1.5.0",
            "description_tooltip": null,
            "_model_module": "@jupyter-widgets/controls",
            "layout": "IPY_MODEL_59d187460ce3454c804b3cf7624d8798"
          }
        },
        "bcb02ab62c404107869d4f8f1487b674": {
          "model_module": "@jupyter-widgets/controls",
          "model_name": "ProgressStyleModel",
          "state": {
            "_view_name": "StyleView",
            "_model_name": "ProgressStyleModel",
            "description_width": "initial",
            "_view_module": "@jupyter-widgets/base",
            "_model_module_version": "1.5.0",
            "_view_count": null,
            "_view_module_version": "1.2.0",
            "bar_color": null,
            "_model_module": "@jupyter-widgets/controls"
          }
        },
        "e6ac2d6c80ea4b06a1c27437b3ca019a": {
          "model_module": "@jupyter-widgets/base",
          "model_name": "LayoutModel",
          "state": {
            "_view_name": "LayoutView",
            "grid_template_rows": null,
            "right": null,
            "justify_content": null,
            "_view_module": "@jupyter-widgets/base",
            "overflow": null,
            "_model_module_version": "1.2.0",
            "_view_count": null,
            "flex_flow": null,
            "width": null,
            "min_width": null,
            "border": null,
            "align_items": null,
            "bottom": null,
            "_model_module": "@jupyter-widgets/base",
            "top": null,
            "grid_column": null,
            "overflow_y": null,
            "overflow_x": null,
            "grid_auto_flow": null,
            "grid_area": null,
            "grid_template_columns": null,
            "flex": null,
            "_model_name": "LayoutModel",
            "justify_items": null,
            "grid_row": null,
            "max_height": null,
            "align_content": null,
            "visibility": null,
            "align_self": null,
            "height": null,
            "min_height": null,
            "padding": null,
            "grid_auto_rows": null,
            "grid_gap": null,
            "max_width": null,
            "order": null,
            "_view_module_version": "1.2.0",
            "grid_template_areas": null,
            "object_position": null,
            "object_fit": null,
            "grid_auto_columns": null,
            "margin": null,
            "display": null,
            "left": null
          }
        },
        "727f78ee62e74b88ac0da045aff9ebe7": {
          "model_module": "@jupyter-widgets/controls",
          "model_name": "DescriptionStyleModel",
          "state": {
            "_view_name": "StyleView",
            "_model_name": "DescriptionStyleModel",
            "description_width": "",
            "_view_module": "@jupyter-widgets/base",
            "_model_module_version": "1.5.0",
            "_view_count": null,
            "_view_module_version": "1.2.0",
            "_model_module": "@jupyter-widgets/controls"
          }
        },
        "59d187460ce3454c804b3cf7624d8798": {
          "model_module": "@jupyter-widgets/base",
          "model_name": "LayoutModel",
          "state": {
            "_view_name": "LayoutView",
            "grid_template_rows": null,
            "right": null,
            "justify_content": null,
            "_view_module": "@jupyter-widgets/base",
            "overflow": null,
            "_model_module_version": "1.2.0",
            "_view_count": null,
            "flex_flow": null,
            "width": null,
            "min_width": null,
            "border": null,
            "align_items": null,
            "bottom": null,
            "_model_module": "@jupyter-widgets/base",
            "top": null,
            "grid_column": null,
            "overflow_y": null,
            "overflow_x": null,
            "grid_auto_flow": null,
            "grid_area": null,
            "grid_template_columns": null,
            "flex": null,
            "_model_name": "LayoutModel",
            "justify_items": null,
            "grid_row": null,
            "max_height": null,
            "align_content": null,
            "visibility": null,
            "align_self": null,
            "height": null,
            "min_height": null,
            "padding": null,
            "grid_auto_rows": null,
            "grid_gap": null,
            "max_width": null,
            "order": null,
            "_view_module_version": "1.2.0",
            "grid_template_areas": null,
            "object_position": null,
            "object_fit": null,
            "grid_auto_columns": null,
            "margin": null,
            "display": null,
            "left": null
          }
        }
      }
    }
  },
  "cells": [
    {
      "cell_type": "markdown",
      "metadata": {
        "papermill": {
          "duration": 0.020523,
          "end_time": "2020-09-05T22:08:08.228630",
          "exception": false,
          "start_time": "2020-09-05T22:08:08.208107",
          "status": "completed"
        },
        "tags": [],
        "id": "tJjnwy5Fdt9f"
      },
      "source": [
        "# RoBERTa-large"
      ]
    },
    {
      "cell_type": "markdown",
      "metadata": {
        "papermill": {
          "duration": 0.022614,
          "end_time": "2020-09-05T22:08:08.270925",
          "exception": false,
          "start_time": "2020-09-05T22:08:08.248311",
          "status": "completed"
        },
        "tags": [],
        "id": "By2lpsNbdt9n"
      },
      "source": [
        "## Dependencies"
      ]
    },
    {
      "cell_type": "code",
      "metadata": {
        "execution": {
          "iopub.execute_input": "2020-09-05T22:08:08.317383Z",
          "iopub.status.busy": "2020-09-05T22:08:08.316484Z",
          "iopub.status.idle": "2020-09-05T22:08:38.689545Z",
          "shell.execute_reply": "2020-09-05T22:08:38.688712Z"
        },
        "papermill": {
          "duration": 30.399134,
          "end_time": "2020-09-05T22:08:38.689688",
          "exception": false,
          "start_time": "2020-09-05T22:08:08.290554",
          "status": "completed"
        },
        "tags": [],
        "id": "2HmhEEH1dt9o",
        "outputId": "53892e50-7650-4d20-eaf2-30acc5c0caeb",
        "colab": {
          "base_uri": "https://localhost:8080/",
          "height": 1000
        }
      },
      "source": [
        "!pip install git+https://github.com/huggingface/transformers\n",
        "!pip install -U nlp"
      ],
      "execution_count": 1,
      "outputs": [
        {
          "output_type": "stream",
          "text": [
            "Collecting git+https://github.com/huggingface/transformers\n",
            "  Cloning https://github.com/huggingface/transformers to /tmp/pip-req-build-5glumcib\n",
            "  Running command git clone -q https://github.com/huggingface/transformers /tmp/pip-req-build-5glumcib\n",
            "  Installing build dependencies ... \u001b[?25l\u001b[?25hdone\n",
            "  Getting requirements to build wheel ... \u001b[?25l\u001b[?25hdone\n",
            "    Preparing wheel metadata ... \u001b[?25l\u001b[?25hdone\n",
            "Requirement already satisfied: numpy in /usr/local/lib/python3.6/dist-packages (from transformers==3.2.0) (1.18.5)\n",
            "Requirement already satisfied: dataclasses; python_version < \"3.7\" in /usr/local/lib/python3.6/dist-packages (from transformers==3.2.0) (0.7)\n",
            "Requirement already satisfied: regex!=2019.12.17 in /usr/local/lib/python3.6/dist-packages (from transformers==3.2.0) (2019.12.20)\n",
            "Collecting sentencepiece!=0.1.92\n",
            "\u001b[?25l  Downloading https://files.pythonhosted.org/packages/d4/a4/d0a884c4300004a78cca907a6ff9a5e9fe4f090f5d95ab341c53d28cbc58/sentencepiece-0.1.91-cp36-cp36m-manylinux1_x86_64.whl (1.1MB)\n",
            "\u001b[K     |████████████████████████████████| 1.1MB 3.4MB/s \n",
            "\u001b[?25hCollecting tokenizers==0.8.1.rc2\n",
            "\u001b[?25l  Downloading https://files.pythonhosted.org/packages/80/83/8b9fccb9e48eeb575ee19179e2bdde0ee9a1904f97de5f02d19016b8804f/tokenizers-0.8.1rc2-cp36-cp36m-manylinux1_x86_64.whl (3.0MB)\n",
            "\u001b[K     |████████████████████████████████| 3.0MB 8.7MB/s \n",
            "\u001b[?25hRequirement already satisfied: tqdm>=4.27 in /usr/local/lib/python3.6/dist-packages (from transformers==3.2.0) (4.41.1)\n",
            "Requirement already satisfied: packaging in /usr/local/lib/python3.6/dist-packages (from transformers==3.2.0) (20.4)\n",
            "Collecting sacremoses\n",
            "\u001b[?25l  Downloading https://files.pythonhosted.org/packages/7d/34/09d19aff26edcc8eb2a01bed8e98f13a1537005d31e95233fd48216eed10/sacremoses-0.0.43.tar.gz (883kB)\n",
            "\u001b[K     |████████████████████████████████| 890kB 39.6MB/s \n",
            "\u001b[?25hRequirement already satisfied: filelock in /usr/local/lib/python3.6/dist-packages (from transformers==3.2.0) (3.0.12)\n",
            "Requirement already satisfied: requests in /usr/local/lib/python3.6/dist-packages (from transformers==3.2.0) (2.23.0)\n",
            "Requirement already satisfied: six in /usr/local/lib/python3.6/dist-packages (from packaging->transformers==3.2.0) (1.15.0)\n",
            "Requirement already satisfied: pyparsing>=2.0.2 in /usr/local/lib/python3.6/dist-packages (from packaging->transformers==3.2.0) (2.4.7)\n",
            "Requirement already satisfied: click in /usr/local/lib/python3.6/dist-packages (from sacremoses->transformers==3.2.0) (7.1.2)\n",
            "Requirement already satisfied: joblib in /usr/local/lib/python3.6/dist-packages (from sacremoses->transformers==3.2.0) (0.16.0)\n",
            "Requirement already satisfied: urllib3!=1.25.0,!=1.25.1,<1.26,>=1.21.1 in /usr/local/lib/python3.6/dist-packages (from requests->transformers==3.2.0) (1.24.3)\n",
            "Requirement already satisfied: chardet<4,>=3.0.2 in /usr/local/lib/python3.6/dist-packages (from requests->transformers==3.2.0) (3.0.4)\n",
            "Requirement already satisfied: certifi>=2017.4.17 in /usr/local/lib/python3.6/dist-packages (from requests->transformers==3.2.0) (2020.6.20)\n",
            "Requirement already satisfied: idna<3,>=2.5 in /usr/local/lib/python3.6/dist-packages (from requests->transformers==3.2.0) (2.10)\n",
            "Building wheels for collected packages: transformers\n",
            "  Building wheel for transformers (PEP 517) ... \u001b[?25l\u001b[?25hdone\n",
            "  Created wheel for transformers: filename=transformers-3.2.0-cp36-none-any.whl size=1058986 sha256=8a5b2ee75ef174aafd223ff30f24b136a31c5be9ef7fa8957bbf1d829e07ea18\n",
            "  Stored in directory: /tmp/pip-ephem-wheel-cache-rqa9ndpa/wheels/70/d3/52/b3fa4f8b8ef04167ac62e5bb2accb62ae764db2a378247490e\n",
            "Successfully built transformers\n",
            "Building wheels for collected packages: sacremoses\n",
            "  Building wheel for sacremoses (setup.py) ... \u001b[?25l\u001b[?25hdone\n",
            "  Created wheel for sacremoses: filename=sacremoses-0.0.43-cp36-none-any.whl size=893257 sha256=5c410220f5aa036f28bc076499108d3c6668e5fdc6bfc2322e2b5f585e8a9c10\n",
            "  Stored in directory: /root/.cache/pip/wheels/29/3c/fd/7ce5c3f0666dab31a50123635e6fb5e19ceb42ce38d4e58f45\n",
            "Successfully built sacremoses\n",
            "Installing collected packages: sentencepiece, tokenizers, sacremoses, transformers\n",
            "Successfully installed sacremoses-0.0.43 sentencepiece-0.1.91 tokenizers-0.8.1rc2 transformers-3.2.0\n",
            "Collecting nlp\n",
            "\u001b[?25l  Downloading https://files.pythonhosted.org/packages/09/e3/bcdc59f3434b224040c1047769c47b82705feca2b89ebbc28311e3764782/nlp-0.4.0-py3-none-any.whl (1.7MB)\n",
            "\u001b[K     |████████████████████████████████| 1.7MB 3.4MB/s \n",
            "\u001b[?25hCollecting xxhash\n",
            "\u001b[?25l  Downloading https://files.pythonhosted.org/packages/f7/73/826b19f3594756cb1c6c23d2fbd8ca6a77a9cd3b650c9dec5acc85004c38/xxhash-2.0.0-cp36-cp36m-manylinux2010_x86_64.whl (242kB)\n",
            "\u001b[K     |████████████████████████████████| 245kB 25.6MB/s \n",
            "\u001b[?25hCollecting pyarrow>=0.16.0\n",
            "\u001b[?25l  Downloading https://files.pythonhosted.org/packages/f3/99/0a605f016121ca314d1469dc9069e4978395bc46fda40f73099d90ad3ba4/pyarrow-1.0.1-cp36-cp36m-manylinux2014_x86_64.whl (17.3MB)\n",
            "\u001b[K     |████████████████████████████████| 17.3MB 258kB/s \n",
            "\u001b[?25hRequirement already satisfied, skipping upgrade: pandas in /usr/local/lib/python3.6/dist-packages (from nlp) (1.0.5)\n",
            "Requirement already satisfied, skipping upgrade: tqdm>=4.27 in /usr/local/lib/python3.6/dist-packages (from nlp) (4.41.1)\n",
            "Requirement already satisfied, skipping upgrade: numpy in /usr/local/lib/python3.6/dist-packages (from nlp) (1.18.5)\n",
            "Requirement already satisfied, skipping upgrade: dataclasses; python_version < \"3.7\" in /usr/local/lib/python3.6/dist-packages (from nlp) (0.7)\n",
            "Requirement already satisfied, skipping upgrade: dill in /usr/local/lib/python3.6/dist-packages (from nlp) (0.3.2)\n",
            "Requirement already satisfied, skipping upgrade: requests>=2.19.0 in /usr/local/lib/python3.6/dist-packages (from nlp) (2.23.0)\n",
            "Requirement already satisfied, skipping upgrade: filelock in /usr/local/lib/python3.6/dist-packages (from nlp) (3.0.12)\n",
            "Requirement already satisfied, skipping upgrade: pytz>=2017.2 in /usr/local/lib/python3.6/dist-packages (from pandas->nlp) (2018.9)\n",
            "Requirement already satisfied, skipping upgrade: python-dateutil>=2.6.1 in /usr/local/lib/python3.6/dist-packages (from pandas->nlp) (2.8.1)\n",
            "Requirement already satisfied, skipping upgrade: certifi>=2017.4.17 in /usr/local/lib/python3.6/dist-packages (from requests>=2.19.0->nlp) (2020.6.20)\n",
            "Requirement already satisfied, skipping upgrade: chardet<4,>=3.0.2 in /usr/local/lib/python3.6/dist-packages (from requests>=2.19.0->nlp) (3.0.4)\n",
            "Requirement already satisfied, skipping upgrade: idna<3,>=2.5 in /usr/local/lib/python3.6/dist-packages (from requests>=2.19.0->nlp) (2.10)\n",
            "Requirement already satisfied, skipping upgrade: urllib3!=1.25.0,!=1.25.1,<1.26,>=1.21.1 in /usr/local/lib/python3.6/dist-packages (from requests>=2.19.0->nlp) (1.24.3)\n",
            "Requirement already satisfied, skipping upgrade: six>=1.5 in /usr/local/lib/python3.6/dist-packages (from python-dateutil>=2.6.1->pandas->nlp) (1.15.0)\n",
            "Installing collected packages: xxhash, pyarrow, nlp\n",
            "  Found existing installation: pyarrow 0.14.1\n",
            "    Uninstalling pyarrow-0.14.1:\n",
            "      Successfully uninstalled pyarrow-0.14.1\n",
            "Successfully installed nlp-0.4.0 pyarrow-1.0.1 xxhash-2.0.0\n"
          ],
          "name": "stdout"
        }
      ]
    },
    {
      "cell_type": "code",
      "metadata": {
        "_cell_guid": "b1076dfc-b9ad-4769-8c92-a6c4dae69d19",
        "_kg_hide-input": true,
        "_kg_hide-output": true,
        "_uuid": "8f2839f25d086af736a60e9eeb907d3b93b6e0e5",
        "execution": {
          "iopub.execute_input": "2020-09-05T22:08:38.748722Z",
          "iopub.status.busy": "2020-09-05T22:08:38.747472Z",
          "iopub.status.idle": "2020-09-05T22:10:15.283546Z",
          "shell.execute_reply": "2020-09-05T22:10:15.282840Z"
        },
        "papermill": {
          "duration": 96.571073,
          "end_time": "2020-09-05T22:10:15.283678",
          "exception": false,
          "start_time": "2020-09-05T22:08:38.712605",
          "status": "completed"
        },
        "tags": [],
        "id": "AGetq1sCdt9w",
        "outputId": "e2f256e6-4a59-4a7c-bffb-23e91476f223",
        "colab": {
          "base_uri": "https://localhost:8080/",
          "height": 1000
        }
      },
      "source": [
        "!curl https://raw.githubusercontent.com/pytorch/xla/master/contrib/scripts/env-setup.py -o pytorch-xla-env-setup.py\n",
        "!python pytorch-xla-env-setup.py --version 20200924  --apt-packages libomp5 libopenblas-dev"
      ],
      "execution_count": 2,
      "outputs": [
        {
          "output_type": "stream",
          "text": [
            "  % Total    % Received % Xferd  Average Speed   Time    Time     Time  Current\n",
            "                                 Dload  Upload   Total   Spent    Left  Speed\n",
            "100  5115  100  5115    0     0  24473      0 --:--:-- --:--:-- --:--:-- 24473\n",
            "Updating... This may take around 2 minutes.\n",
            "Updating TPU runtime to pytorch-dev20200924 ...\n",
            "Collecting cloud-tpu-client\n",
            "  Downloading https://files.pythonhosted.org/packages/56/9f/7b1958c2886db06feb5de5b2c191096f9e619914b6c31fdf93999fdbbd8b/cloud_tpu_client-0.10-py3-none-any.whl\n",
            "Collecting google-api-python-client==1.8.0\n",
            "\u001b[?25l  Downloading https://files.pythonhosted.org/packages/9a/b4/a955f393b838bc47cbb6ae4643b9d0f90333d3b4db4dc1e819f36aad18cc/google_api_python_client-1.8.0-py3-none-any.whl (57kB)\n",
            "\u001b[K     |████████████████████████████████| 61kB 2.3MB/s \n",
            "\u001b[?25hRequirement already satisfied: oauth2client in /usr/local/lib/python3.6/dist-packages (from cloud-tpu-client) (4.1.3)\n",
            "Requirement already satisfied: google-api-core<2dev,>=1.13.0 in /usr/local/lib/python3.6/dist-packages (from google-api-python-client==1.8.0->cloud-tpu-client) (1.16.0)\n",
            "Requirement already satisfied: uritemplate<4dev,>=3.0.0 in /usr/local/lib/python3.6/dist-packages (from google-api-python-client==1.8.0->cloud-tpu-client) (3.0.1)\n",
            "Requirement already satisfied: httplib2<1dev,>=0.9.2 in /usr/local/lib/python3.6/dist-packages (from google-api-python-client==1.8.0->cloud-tpu-client) (0.17.4)\n",
            "Requirement already satisfied: google-auth>=1.4.1 in /usr/local/lib/python3.6/dist-packages (from google-api-python-client==1.8.0->cloud-tpu-client) (1.17.2)\n",
            "Requirement already satisfied: six<2dev,>=1.6.1 in /usr/local/lib/python3.6/dist-packages (from google-api-python-client==1.8.0->cloud-tpu-client) (1.15.0)\n",
            "Requirement already satisfied: google-auth-httplib2>=0.0.3 in /usr/local/lib/python3.6/dist-packages (from google-api-python-client==1.8.0->cloud-tpu-client) (0.0.4)\n",
            "Requirement already satisfied: pyasn1>=0.1.7 in /usr/local/lib/python3.6/dist-packages (from oauth2client->cloud-tpu-client) (0.4.8)\n",
            "Uninstalling torch-1.6.0+cu101:\n",
            "Requirement already satisfied: pyasn1-modules>=0.0.5 in /usr/local/lib/python3.6/dist-packages (from oauth2client->cloud-tpu-client) (0.2.8)\n",
            "Requirement already satisfied: rsa>=3.1.4 in /usr/local/lib/python3.6/dist-packages (from oauth2client->cloud-tpu-client) (4.6)\n",
            "Requirement already satisfied: protobuf>=3.4.0 in /usr/local/lib/python3.6/dist-packages (from google-api-core<2dev,>=1.13.0->google-api-python-client==1.8.0->cloud-tpu-client) (3.12.4)\n",
            "Requirement already satisfied: pytz in /usr/local/lib/python3.6/dist-packages (from google-api-core<2dev,>=1.13.0->google-api-python-client==1.8.0->cloud-tpu-client) (2018.9)\n",
            "Requirement already satisfied: requests<3.0.0dev,>=2.18.0 in /usr/local/lib/python3.6/dist-packages (from google-api-core<2dev,>=1.13.0->google-api-python-client==1.8.0->cloud-tpu-client) (2.23.0)\n",
            "Requirement already satisfied: setuptools>=34.0.0 in /usr/local/lib/python3.6/dist-packages (from google-api-core<2dev,>=1.13.0->google-api-python-client==1.8.0->cloud-tpu-client) (50.3.0)\n",
            "Requirement already satisfied: googleapis-common-protos<2.0dev,>=1.6.0 in /usr/local/lib/python3.6/dist-packages (from google-api-core<2dev,>=1.13.0->google-api-python-client==1.8.0->cloud-tpu-client) (1.52.0)\n",
            "Requirement already satisfied: cachetools<5.0,>=2.0.0 in /usr/local/lib/python3.6/dist-packages (from google-auth>=1.4.1->google-api-python-client==1.8.0->cloud-tpu-client) (4.1.1)\n",
            "Requirement already satisfied: idna<3,>=2.5 in /usr/local/lib/python3.6/dist-packages (from requests<3.0.0dev,>=2.18.0->google-api-core<2dev,>=1.13.0->google-api-python-client==1.8.0->cloud-tpu-client) (2.10)\n",
            "Requirement already satisfied: certifi>=2017.4.17 in /usr/local/lib/python3.6/dist-packages (from requests<3.0.0dev,>=2.18.0->google-api-core<2dev,>=1.13.0->google-api-python-client==1.8.0->cloud-tpu-client) (2020.6.20)\n",
            "Requirement already satisfied: chardet<4,>=3.0.2 in /usr/local/lib/python3.6/dist-packages (from requests<3.0.0dev,>=2.18.0->google-api-core<2dev,>=1.13.0->google-api-python-client==1.8.0->cloud-tpu-client) (3.0.4)\n",
            "Requirement already satisfied: urllib3!=1.25.0,!=1.25.1,<1.26,>=1.21.1 in /usr/local/lib/python3.6/dist-packages (from requests<3.0.0dev,>=2.18.0->google-api-core<2dev,>=1.13.0->google-api-python-client==1.8.0->cloud-tpu-client) (1.24.3)\n",
            "Installing collected packages: google-api-python-client, cloud-tpu-client\n",
            "  Found existing installation: google-api-python-client 1.7.12\n",
            "    Uninstalling google-api-python-client-1.7.12:\n",
            "      Successfully uninstalled google-api-python-client-1.7.12\n",
            "Successfully installed cloud-tpu-client-0.10 google-api-python-client-1.8.0\n",
            "Done updating TPU runtime\n",
            "  Successfully uninstalled torch-1.6.0+cu101\n",
            "Uninstalling torchvision-0.7.0+cu101:\n",
            "  Successfully uninstalled torchvision-0.7.0+cu101\n",
            "Copying gs://tpu-pytorch/wheels/torch-nightly+20200924-cp36-cp36m-linux_x86_64.whl...\n",
            "| [1 files][113.8 MiB/113.8 MiB]                                                \n",
            "Operation completed over 1 objects/113.8 MiB.                                    \n",
            "Copying gs://tpu-pytorch/wheels/torch_xla-nightly+20200924-cp36-cp36m-linux_x86_64.whl...\n",
            "\\\n",
            "Operation completed over 1 objects/128.0 MiB.                                    \n",
            "Copying gs://tpu-pytorch/wheels/torchvision-nightly+20200924-cp36-cp36m-linux_x86_64.whl...\n",
            "/ [1 files][  2.4 MiB/  2.4 MiB]                                                \n",
            "Operation completed over 1 objects/2.4 MiB.                                      \n",
            "Processing ./torch-nightly+20200924-cp36-cp36m-linux_x86_64.whl\n",
            "Requirement already satisfied: future in /usr/local/lib/python3.6/dist-packages (from torch==nightly+20200924) (0.16.0)\n",
            "Requirement already satisfied: dataclasses in /usr/local/lib/python3.6/dist-packages (from torch==nightly+20200924) (0.7)\n",
            "Requirement already satisfied: typing-extensions in /usr/local/lib/python3.6/dist-packages (from torch==nightly+20200924) (3.7.4.3)\n",
            "Requirement already satisfied: numpy in /usr/local/lib/python3.6/dist-packages (from torch==nightly+20200924) (1.18.5)\n",
            "\u001b[31mERROR: fastai 1.0.61 requires torchvision, which is not installed.\u001b[0m\n",
            "Installing collected packages: torch\n",
            "Successfully installed torch-1.7.0a0\n",
            "Processing ./torch_xla-nightly+20200924-cp36-cp36m-linux_x86_64.whl\n",
            "Installing collected packages: torch-xla\n",
            "Successfully installed torch-xla-1.6+7dfa77f\n",
            "Processing ./torchvision-nightly+20200924-cp36-cp36m-linux_x86_64.whl\n",
            "Requirement already satisfied: pillow>=4.1.1 in /usr/local/lib/python3.6/dist-packages (from torchvision==nightly+20200924) (7.0.0)\n",
            "Requirement already satisfied: numpy in /usr/local/lib/python3.6/dist-packages (from torchvision==nightly+20200924) (1.18.5)\n",
            "Requirement already satisfied: torch in /usr/local/lib/python3.6/dist-packages (from torchvision==nightly+20200924) (1.7.0a0)\n",
            "Requirement already satisfied: typing-extensions in /usr/local/lib/python3.6/dist-packages (from torch->torchvision==nightly+20200924) (3.7.4.3)\n",
            "Requirement already satisfied: dataclasses in /usr/local/lib/python3.6/dist-packages (from torch->torchvision==nightly+20200924) (0.7)\n",
            "Requirement already satisfied: future in /usr/local/lib/python3.6/dist-packages (from torch->torchvision==nightly+20200924) (0.16.0)\n",
            "Installing collected packages: torchvision\n",
            "Successfully installed torchvision-0.8.0a0+15848ed\n",
            "Reading package lists... Done\n",
            "Building dependency tree       \n",
            "Reading state information... Done\n",
            "libopenblas-dev is already the newest version (0.2.20+ds-4).\n",
            "The following NEW packages will be installed:\n",
            "  libomp5\n",
            "0 upgraded, 1 newly installed, 0 to remove and 11 not upgraded.\n",
            "Need to get 234 kB of archives.\n",
            "After this operation, 774 kB of additional disk space will be used.\n",
            "Get:1 http://archive.ubuntu.com/ubuntu bionic/universe amd64 libomp5 amd64 5.0.1-1 [234 kB]\n",
            "Fetched 234 kB in 1s (330 kB/s)\n",
            "Selecting previously unselected package libomp5:amd64.\n",
            "(Reading database ... 144676 files and directories currently installed.)\n",
            "Preparing to unpack .../libomp5_5.0.1-1_amd64.deb ...\n",
            "Unpacking libomp5:amd64 (5.0.1-1) ...\n",
            "Setting up libomp5:amd64 (5.0.1-1) ...\n",
            "Processing triggers for libc-bin (2.27-3ubuntu1.2) ...\n",
            "/sbin/ldconfig.real: /usr/local/lib/python3.6/dist-packages/ideep4py/lib/libmkldnn.so.0 is not a symbolic link\n",
            "\n"
          ],
          "name": "stdout"
        }
      ]
    },
    {
      "cell_type": "code",
      "metadata": {
        "_cell_guid": "79c7e3d0-c299-4dcb-8224-4455121ee9b0",
        "_uuid": "d629ff2d2480ee46fbb7e2d37f6b5fab8052498a",
        "execution": {
          "iopub.execute_input": "2020-09-05T22:10:15.354859Z",
          "iopub.status.busy": "2020-09-05T22:10:15.354053Z",
          "iopub.status.idle": "2020-09-05T22:10:23.499112Z",
          "shell.execute_reply": "2020-09-05T22:10:23.498427Z"
        },
        "papermill": {
          "duration": 8.187478,
          "end_time": "2020-09-05T22:10:23.499287",
          "exception": false,
          "start_time": "2020-09-05T22:10:15.311809",
          "status": "completed"
        },
        "tags": [],
        "id": "8qpj1Vwadt9z"
      },
      "source": [
        "import os\n",
        "os.environ['XLA_USE_BF16'] = \"1\"\n",
        "os.environ['XLA_TENSOR_ALLOCATOR_MAXSIZE'] = '100000000'\n",
        "\n",
        "import gc\n",
        "gc.enable()\n",
        "\n",
        "import numpy as np\n",
        "import pandas as pd\n",
        "\n",
        "import transformers\n",
        "from transformers import AutoTokenizer, AutoModelForSequenceClassification, AdamW\n",
        "\n",
        "import torch\n",
        "import torch.nn as nn\n",
        "import torch.nn.functional as F\n",
        "from torch.utils.data import DataLoader #, Dataset\n",
        "from torch.utils.data.distributed import DistributedSampler\n",
        "\n",
        "import torch_xla\n",
        "import torch_xla.core.xla_model as xm\n",
        "import torch_xla.debug.metrics as met\n",
        "import torch_xla.distributed.parallel_loader as pl\n",
        "import torch_xla.distributed.xla_multiprocessing as xmp\n",
        "import torch_xla.utils.serialization as xser\n",
        "import torch_xla.version as xv\n",
        "\n",
        "import warnings\n",
        "warnings.filterwarnings(\"ignore\")"
      ],
      "execution_count": 3,
      "outputs": []
    },
    {
      "cell_type": "code",
      "metadata": {
        "execution": {
          "iopub.execute_input": "2020-09-05T22:10:23.569267Z",
          "iopub.status.busy": "2020-09-05T22:10:23.568501Z",
          "iopub.status.idle": "2020-09-05T22:10:23.573136Z",
          "shell.execute_reply": "2020-09-05T22:10:23.572435Z"
        },
        "papermill": {
          "duration": 0.045398,
          "end_time": "2020-09-05T22:10:23.573331",
          "exception": false,
          "start_time": "2020-09-05T22:10:23.527933",
          "status": "completed"
        },
        "tags": [],
        "id": "cvqUEzbbdt92"
      },
      "source": [
        "import random\n",
        "\n",
        "def my_seed(seed=42):\n",
        "    torch.manual_seed(seed)\n",
        "    np.random.seed(seed)\n",
        "    random.seed(seed)\n",
        "\n",
        "my_seed()"
      ],
      "execution_count": 4,
      "outputs": []
    },
    {
      "cell_type": "markdown",
      "metadata": {
        "papermill": {
          "duration": 0.036229,
          "end_time": "2020-09-05T22:11:38.510307",
          "exception": false,
          "start_time": "2020-09-05T22:11:38.474078",
          "status": "completed"
        },
        "tags": [],
        "id": "Y8Fn2RyAdt_5"
      },
      "source": [
        "## Model"
      ]
    },
    {
      "cell_type": "code",
      "metadata": {
        "execution": {
          "iopub.execute_input": "2020-09-05T22:11:38.589175Z",
          "iopub.status.busy": "2020-09-05T22:11:38.588440Z",
          "iopub.status.idle": "2020-09-05T22:13:15.608403Z",
          "shell.execute_reply": "2020-09-05T22:13:15.607633Z"
        },
        "papermill": {
          "duration": 97.061659,
          "end_time": "2020-09-05T22:13:15.608558",
          "exception": false,
          "start_time": "2020-09-05T22:11:38.546899",
          "status": "completed"
        },
        "tags": [],
        "id": "745HGcOJdt_6",
        "outputId": "c0e93de6-89e0-4ec2-daae-220da1a5fde5",
        "colab": {
          "base_uri": "https://localhost:8080/",
          "height": 323,
          "referenced_widgets": [
            "e7212e64e4ae432fb082c59f026053f0",
            "f0dbc3a9206f4c0fafb9cf578b5ec4b1",
            "06460e2219dd45e5baf48f9cccc8c5f1",
            "fe6b3c526479455698bfddd94086622a",
            "292dcfecff3d48db943df772c1430646",
            "b1d9fe5008bf4812abda7374e144aa56",
            "27fa1cac0a3d464c93612ebe3ffb4c45",
            "5bd2f61823b147c6aecc3256f09c1634",
            "765ce11ff48b4f10a4f625a737654784",
            "0c130187d8f646d89a29e2684895679f",
            "f593fef5147e4ccd822c19ed3f9a214b",
            "c433dcbccb03458b8866006de26d2a84",
            "7f23e0aead7f43c9b6bee89cc1e02718",
            "1f53d1edadfb45e4b434e1c2f56b08b0",
            "fbfc66fd3a0847d9afa306b0174a075f",
            "a76e3bccf3f7496391897d6b78932fdf",
            "135d153bf8234ff28276b318f22f40d4",
            "f8314532ad0548bdafb2c927f309fa05",
            "ebdf603d3c2a4388999b4354743fd7a1",
            "693593d622f74946b2ed74241bae65f2",
            "6f346a60d9d94af1b659d2b650fd4018",
            "7de8ea17322e4be1962a556840c58b93",
            "416bf60f6361476a80b5da8d51fbc44a",
            "0e5a4a4c04564982a0107149df1c5ad5",
            "fe68298f623246e1918a54961ecdf1fd",
            "65773125d75d409dbcf99cf3d92a3ba8",
            "82eba52e1bcf4ff584378d7dd292caec",
            "1096dc925177427e910e1c9c432b4f63",
            "f2c697b0ccc04a5ab6dbda6a94396268",
            "7bf8b4d8bf6046b09f53d1c909c3ce79",
            "2f2d312dd5d046b4b1feb2059408ed3a",
            "0569279776694a27b41f22dc4b47a259"
          ]
        }
      },
      "source": [
        "WRAPPED_MODEL = xmp.MpModelWrapper(AutoModelForSequenceClassification.from_pretrained(\"roberta-large\"))\n",
        "tokenizer = AutoTokenizer.from_pretrained(\"roberta-large\")"
      ],
      "execution_count": 5,
      "outputs": [
        {
          "output_type": "display_data",
          "data": {
            "application/vnd.jupyter.widget-view+json": {
              "model_id": "e7212e64e4ae432fb082c59f026053f0",
              "version_minor": 0,
              "version_major": 2
            },
            "text/plain": [
              "HBox(children=(FloatProgress(value=0.0, description='Downloading', max=482.0, style=ProgressStyle(description_…"
            ]
          },
          "metadata": {
            "tags": []
          }
        },
        {
          "output_type": "stream",
          "text": [
            "\n"
          ],
          "name": "stdout"
        },
        {
          "output_type": "display_data",
          "data": {
            "application/vnd.jupyter.widget-view+json": {
              "model_id": "765ce11ff48b4f10a4f625a737654784",
              "version_minor": 0,
              "version_major": 2
            },
            "text/plain": [
              "HBox(children=(FloatProgress(value=0.0, description='Downloading', max=1425941629.0, style=ProgressStyle(descr…"
            ]
          },
          "metadata": {
            "tags": []
          }
        },
        {
          "output_type": "stream",
          "text": [
            "\n"
          ],
          "name": "stdout"
        },
        {
          "output_type": "stream",
          "text": [
            "Some weights of the model checkpoint at roberta-large were not used when initializing RobertaForSequenceClassification: ['lm_head.bias', 'lm_head.dense.weight', 'lm_head.dense.bias', 'lm_head.layer_norm.weight', 'lm_head.layer_norm.bias', 'lm_head.decoder.weight', 'roberta.pooler.dense.weight', 'roberta.pooler.dense.bias']\n",
            "- This IS expected if you are initializing RobertaForSequenceClassification from the checkpoint of a model trained on another task or with another architecture (e.g. initializing a BertForSequenceClassification model from a BertForPretraining model).\n",
            "- This IS NOT expected if you are initializing RobertaForSequenceClassification from the checkpoint of a model that you expect to be exactly identical (initializing a BertForSequenceClassification model from a BertForSequenceClassification model).\n",
            "Some weights of RobertaForSequenceClassification were not initialized from the model checkpoint at roberta-large and are newly initialized: ['classifier.dense.weight', 'classifier.dense.bias', 'classifier.out_proj.weight', 'classifier.out_proj.bias']\n",
            "You should probably TRAIN this model on a down-stream task to be able to use it for predictions and inference.\n"
          ],
          "name": "stderr"
        },
        {
          "output_type": "display_data",
          "data": {
            "application/vnd.jupyter.widget-view+json": {
              "model_id": "135d153bf8234ff28276b318f22f40d4",
              "version_minor": 0,
              "version_major": 2
            },
            "text/plain": [
              "HBox(children=(FloatProgress(value=0.0, description='Downloading', max=898823.0, style=ProgressStyle(descripti…"
            ]
          },
          "metadata": {
            "tags": []
          }
        },
        {
          "output_type": "stream",
          "text": [
            "\n"
          ],
          "name": "stdout"
        },
        {
          "output_type": "display_data",
          "data": {
            "application/vnd.jupyter.widget-view+json": {
              "model_id": "fe68298f623246e1918a54961ecdf1fd",
              "version_minor": 0,
              "version_major": 2
            },
            "text/plain": [
              "HBox(children=(FloatProgress(value=0.0, description='Downloading', max=456318.0, style=ProgressStyle(descripti…"
            ]
          },
          "metadata": {
            "tags": []
          }
        },
        {
          "output_type": "stream",
          "text": [
            "\n"
          ],
          "name": "stdout"
        }
      ]
    },
    {
      "cell_type": "markdown",
      "metadata": {
        "id": "yzaZybmtuULE"
      },
      "source": [
        "## Data preprocessing"
      ]
    },
    {
      "cell_type": "code",
      "metadata": {
        "id": "s08gJf0uRHh9"
      },
      "source": [
        "import pandas as pd"
      ],
      "execution_count": 6,
      "outputs": []
    },
    {
      "cell_type": "code",
      "metadata": {
        "id": "Ag3fSIxMZufE"
      },
      "source": [
        "train_df = pd.read_csv('train_data.csv')"
      ],
      "execution_count": 7,
      "outputs": []
    },
    {
      "cell_type": "code",
      "metadata": {
        "id": "aFWvjeIsa6bM",
        "outputId": "98d3d114-e6f8-41fb-a152-906727901dd2",
        "colab": {
          "base_uri": "https://localhost:8080/",
          "height": 551
        }
      },
      "source": [
        "train_df.head()"
      ],
      "execution_count": 8,
      "outputs": [
        {
          "output_type": "execute_result",
          "data": {
            "text/html": [
              "<div>\n",
              "<style scoped>\n",
              "    .dataframe tbody tr th:only-of-type {\n",
              "        vertical-align: middle;\n",
              "    }\n",
              "\n",
              "    .dataframe tbody tr th {\n",
              "        vertical-align: top;\n",
              "    }\n",
              "\n",
              "    .dataframe thead th {\n",
              "        text-align: right;\n",
              "    }\n",
              "</style>\n",
              "<table border=\"1\" class=\"dataframe\">\n",
              "  <thead>\n",
              "    <tr style=\"text-align: right;\">\n",
              "      <th></th>\n",
              "      <th>Id</th>\n",
              "      <th>Название</th>\n",
              "      <th>Место</th>\n",
              "      <th>Отдел</th>\n",
              "      <th>Зарплата</th>\n",
              "      <th>Описание компании</th>\n",
              "      <th>Описание вакансии</th>\n",
              "      <th>Требования</th>\n",
              "      <th>Соцпакет</th>\n",
              "      <th>Дистанционно</th>\n",
              "      <th>Вопросы</th>\n",
              "      <th>Тип занятости</th>\n",
              "      <th>Опыт</th>\n",
              "      <th>Образование</th>\n",
              "      <th>Индустрия</th>\n",
              "      <th>Позиция</th>\n",
              "      <th>Фейк</th>\n",
              "    </tr>\n",
              "  </thead>\n",
              "  <tbody>\n",
              "    <tr>\n",
              "      <th>0</th>\n",
              "      <td>10497</td>\n",
              "      <td>Reporter, Agri Investor</td>\n",
              "      <td>US, ,</td>\n",
              "      <td>KHR</td>\n",
              "      <td>NaN</td>\n",
              "      <td>PEI Media (#URL_4cffe430b8da4c0d7e6074d11e638d...</td>\n",
              "      <td>Seeking savvy business reporter Are you a news...</td>\n",
              "      <td>The successful candidate should have a bachelo...</td>\n",
              "      <td>PEI Media (#URL_4cffe430b8da4c0d7e6074d11e638d...</td>\n",
              "      <td>0</td>\n",
              "      <td>0</td>\n",
              "      <td>Full-time</td>\n",
              "      <td>Associate</td>\n",
              "      <td>Bachelor's Degree</td>\n",
              "      <td>Publishing</td>\n",
              "      <td>Writing/Editing</td>\n",
              "      <td>0</td>\n",
              "    </tr>\n",
              "    <tr>\n",
              "      <th>1</th>\n",
              "      <td>8219</td>\n",
              "      <td>Software Engineer</td>\n",
              "      <td>US, VA, Herndon</td>\n",
              "      <td>Software Engineering</td>\n",
              "      <td>NaN</td>\n",
              "      <td>Roka Security is a boutique security firm that...</td>\n",
              "      <td>Roka Security is looking for Software Engineer...</td>\n",
              "      <td>NaN</td>\n",
              "      <td>NaN</td>\n",
              "      <td>0</td>\n",
              "      <td>0</td>\n",
              "      <td>Full-time</td>\n",
              "      <td>Not Applicable</td>\n",
              "      <td>Unspecified</td>\n",
              "      <td>Computer Software</td>\n",
              "      <td>Engineering</td>\n",
              "      <td>0</td>\n",
              "    </tr>\n",
              "    <tr>\n",
              "      <th>2</th>\n",
              "      <td>5342</td>\n",
              "      <td>Structural Engineer</td>\n",
              "      <td>NL, ZH, Rotterdam</td>\n",
              "      <td>onshore</td>\n",
              "      <td>NaN</td>\n",
              "      <td>NaN</td>\n",
              "      <td>Job tasks:Analyse project specifications on st...</td>\n",
              "      <td>Job requirements:HTS/TU Civil Engineering or M...</td>\n",
              "      <td>NaN</td>\n",
              "      <td>0</td>\n",
              "      <td>1</td>\n",
              "      <td>NaN</td>\n",
              "      <td>NaN</td>\n",
              "      <td>NaN</td>\n",
              "      <td>NaN</td>\n",
              "      <td>NaN</td>\n",
              "      <td>0</td>\n",
              "    </tr>\n",
              "    <tr>\n",
              "      <th>3</th>\n",
              "      <td>1916</td>\n",
              "      <td>Senior Publishing Specialist</td>\n",
              "      <td>US, ,</td>\n",
              "      <td>NaN</td>\n",
              "      <td>NaN</td>\n",
              "      <td>NaN</td>\n",
              "      <td>The Senior Publishing Specialist will be part ...</td>\n",
              "      <td>Minimum of 3 – 4 years experience in Regulator...</td>\n",
              "      <td>NaN</td>\n",
              "      <td>0</td>\n",
              "      <td>0</td>\n",
              "      <td>NaN</td>\n",
              "      <td>NaN</td>\n",
              "      <td>NaN</td>\n",
              "      <td>NaN</td>\n",
              "      <td>NaN</td>\n",
              "      <td>0</td>\n",
              "    </tr>\n",
              "    <tr>\n",
              "      <th>4</th>\n",
              "      <td>1811</td>\n",
              "      <td>Sales Representative</td>\n",
              "      <td>CA, BC, Vancouver</td>\n",
              "      <td>Sales &amp; Marketing</td>\n",
              "      <td>NaN</td>\n",
              "      <td>NaN</td>\n",
              "      <td>BCCC Enterprises provides management consultin...</td>\n",
              "      <td>Key Responsibilities:Contribute to the financi...</td>\n",
              "      <td>How to ApplyThis is an exciting opportunity. ...</td>\n",
              "      <td>0</td>\n",
              "      <td>1</td>\n",
              "      <td>NaN</td>\n",
              "      <td>NaN</td>\n",
              "      <td>NaN</td>\n",
              "      <td>NaN</td>\n",
              "      <td>NaN</td>\n",
              "      <td>0</td>\n",
              "    </tr>\n",
              "  </tbody>\n",
              "</table>\n",
              "</div>"
            ],
            "text/plain": [
              "      Id                       Название  ...          Позиция Фейк\n",
              "0  10497        Reporter, Agri Investor  ...  Writing/Editing    0\n",
              "1   8219              Software Engineer  ...      Engineering    0\n",
              "2   5342            Structural Engineer  ...              NaN    0\n",
              "3   1916  Senior Publishing Specialist   ...              NaN    0\n",
              "4   1811          Sales Representative   ...              NaN    0\n",
              "\n",
              "[5 rows x 17 columns]"
            ]
          },
          "metadata": {
            "tags": []
          },
          "execution_count": 8
        }
      ]
    },
    {
      "cell_type": "code",
      "metadata": {
        "id": "fHTik2Mua9Eu",
        "outputId": "bce3b4fa-06c4-49e4-dd21-24113795b14a",
        "colab": {
          "base_uri": "https://localhost:8080/",
          "height": 438
        }
      },
      "source": [
        "train_df.info()"
      ],
      "execution_count": 9,
      "outputs": [
        {
          "output_type": "stream",
          "text": [
            "<class 'pandas.core.frame.DataFrame'>\n",
            "RangeIndex: 10728 entries, 0 to 10727\n",
            "Data columns (total 17 columns):\n",
            " #   Column             Non-Null Count  Dtype \n",
            "---  ------             --------------  ----- \n",
            " 0   Id                 10728 non-null  int64 \n",
            " 1   Название           10728 non-null  object\n",
            " 2   Место              10504 non-null  object\n",
            " 3   Отдел              3758 non-null   object\n",
            " 4   Зарплата           1730 non-null   object\n",
            " 5   Описание компании  8682 non-null   object\n",
            " 6   Описание вакансии  10728 non-null  object\n",
            " 7   Требования         9097 non-null   object\n",
            " 8   Соцпакет           6397 non-null   object\n",
            " 9   Дистанционно       10728 non-null  int64 \n",
            " 10  Вопросы            10728 non-null  int64 \n",
            " 11  Тип занятости      8586 non-null   object\n",
            " 12  Опыт               6478 non-null   object\n",
            " 13  Образование        5836 non-null   object\n",
            " 14  Индустрия          7775 non-null   object\n",
            " 15  Позиция            6853 non-null   object\n",
            " 16  Фейк               10728 non-null  int64 \n",
            "dtypes: int64(4), object(13)\n",
            "memory usage: 1.4+ MB\n"
          ],
          "name": "stdout"
        }
      ]
    },
    {
      "cell_type": "code",
      "metadata": {
        "id": "mTDqXFWGjxaN",
        "outputId": "24f7b3cd-2d9a-4432-b4f4-db5adf4efc3c",
        "colab": {
          "base_uri": "https://localhost:8080/",
          "height": 69
        }
      },
      "source": [
        "train_df['Фейк'].value_counts()"
      ],
      "execution_count": 10,
      "outputs": [
        {
          "output_type": "execute_result",
          "data": {
            "text/plain": [
              "0    10205\n",
              "1      523\n",
              "Name: Фейк, dtype: int64"
            ]
          },
          "metadata": {
            "tags": []
          },
          "execution_count": 10
        }
      ]
    },
    {
      "cell_type": "code",
      "metadata": {
        "id": "n_P7iaSqbIoD"
      },
      "source": [
        "train_df['Дистанционно'] = train_df['Дистанционно'].map({1:'Telecommuting positions', 0:'Office positions'})"
      ],
      "execution_count": 11,
      "outputs": []
    },
    {
      "cell_type": "code",
      "metadata": {
        "id": "F6B7aLonctr8",
        "outputId": "014a42ae-20ff-4247-e31c-36ce80b3ae5b",
        "colab": {
          "base_uri": "https://localhost:8080/",
          "height": 69
        }
      },
      "source": [
        "train_df['Дистанционно'].value_counts()"
      ],
      "execution_count": 12,
      "outputs": [
        {
          "output_type": "execute_result",
          "data": {
            "text/plain": [
              "Office positions           10274\n",
              "Telecommuting positions      454\n",
              "Name: Дистанционно, dtype: int64"
            ]
          },
          "metadata": {
            "tags": []
          },
          "execution_count": 12
        }
      ]
    },
    {
      "cell_type": "code",
      "metadata": {
        "id": "ifLj5Og1cbAs"
      },
      "source": [
        "train_df['Вопросы'] = train_df['Вопросы'].map({1:'Screening questions are present', 0:'There are no screening questions'})"
      ],
      "execution_count": 13,
      "outputs": []
    },
    {
      "cell_type": "code",
      "metadata": {
        "id": "zUiiT33XcxqV",
        "outputId": "38c0c3f9-c5d7-4667-d10a-abd3a6626aba",
        "colab": {
          "base_uri": "https://localhost:8080/",
          "height": 69
        }
      },
      "source": [
        "train_df['Вопросы'].value_counts()"
      ],
      "execution_count": 14,
      "outputs": [
        {
          "output_type": "execute_result",
          "data": {
            "text/plain": [
              "There are no screening questions    5424\n",
              "Screening questions are present     5304\n",
              "Name: Вопросы, dtype: int64"
            ]
          },
          "metadata": {
            "tags": []
          },
          "execution_count": 14
        }
      ]
    },
    {
      "cell_type": "code",
      "metadata": {
        "id": "O_k8f3O4N1gv"
      },
      "source": [
        "columns_to_text = ['Название', \n",
        "                   'Тип занятости',\n",
        "                   'Дистанционно',\n",
        "                #    'Место',\n",
        "                   'Вопросы', \n",
        "                   'Описание компании', \n",
        "                   'Описание вакансии', \n",
        "                   'Требования']"
      ],
      "execution_count": 15,
      "outputs": []
    },
    {
      "cell_type": "code",
      "metadata": {
        "id": "epvsirDGcM6x"
      },
      "source": [
        "# columns_to_text = ['Название', \n",
        "#                    'Тип занятости',\n",
        "#                    'Дистанционно',\n",
        "#                    'Вопросы',\n",
        "#                 #    'Зарплата',                   \n",
        "#                 #    'Позиция',\n",
        "#                    'Образование',\n",
        "#                    'Опыт',\n",
        "#                 #    'Место',\n",
        "#                 #    'Индустрия',\n",
        "#                 #    'Отдел', \n",
        "#                    'Описание компании', \n",
        "#                    'Описание вакансии', \n",
        "#                    'Требования',\n",
        "#                    'Соцпакет']"
      ],
      "execution_count": 16,
      "outputs": []
    },
    {
      "cell_type": "code",
      "metadata": {
        "id": "6Pnlx9lCfNkV"
      },
      "source": [
        "old_columns = train_df.columns"
      ],
      "execution_count": 17,
      "outputs": []
    },
    {
      "cell_type": "code",
      "metadata": {
        "id": "Jd4vs6jtfZ40"
      },
      "source": [
        "old_columns = old_columns.drop('Фейк')"
      ],
      "execution_count": 18,
      "outputs": []
    },
    {
      "cell_type": "code",
      "metadata": {
        "id": "V9CzYle4faxi",
        "outputId": "5e080ac4-9f6e-4911-cebc-c244dcbfd317",
        "colab": {
          "base_uri": "https://localhost:8080/",
          "height": 104
        }
      },
      "source": [
        "old_columns"
      ],
      "execution_count": 19,
      "outputs": [
        {
          "output_type": "execute_result",
          "data": {
            "text/plain": [
              "Index(['Id', 'Название', 'Место', 'Отдел', 'Зарплата', 'Описание компании',\n",
              "       'Описание вакансии', 'Требования', 'Соцпакет', 'Дистанционно',\n",
              "       'Вопросы', 'Тип занятости', 'Опыт', 'Образование', 'Индустрия',\n",
              "       'Позиция'],\n",
              "      dtype='object')"
            ]
          },
          "metadata": {
            "tags": []
          },
          "execution_count": 19
        }
      ]
    },
    {
      "cell_type": "code",
      "metadata": {
        "id": "y5EgTqKFfkfx"
      },
      "source": [
        "train_df.fillna('', inplace=True)"
      ],
      "execution_count": 20,
      "outputs": []
    },
    {
      "cell_type": "code",
      "metadata": {
        "id": "49Dy11GWf238",
        "outputId": "e5c1743f-e388-4b61-d835-0be2a0c8711e",
        "colab": {
          "base_uri": "https://localhost:8080/",
          "height": 438
        }
      },
      "source": [
        "train_df.info()"
      ],
      "execution_count": 21,
      "outputs": [
        {
          "output_type": "stream",
          "text": [
            "<class 'pandas.core.frame.DataFrame'>\n",
            "RangeIndex: 10728 entries, 0 to 10727\n",
            "Data columns (total 17 columns):\n",
            " #   Column             Non-Null Count  Dtype \n",
            "---  ------             --------------  ----- \n",
            " 0   Id                 10728 non-null  int64 \n",
            " 1   Название           10728 non-null  object\n",
            " 2   Место              10728 non-null  object\n",
            " 3   Отдел              10728 non-null  object\n",
            " 4   Зарплата           10728 non-null  object\n",
            " 5   Описание компании  10728 non-null  object\n",
            " 6   Описание вакансии  10728 non-null  object\n",
            " 7   Требования         10728 non-null  object\n",
            " 8   Соцпакет           10728 non-null  object\n",
            " 9   Дистанционно       10728 non-null  object\n",
            " 10  Вопросы            10728 non-null  object\n",
            " 11  Тип занятости      10728 non-null  object\n",
            " 12  Опыт               10728 non-null  object\n",
            " 13  Образование        10728 non-null  object\n",
            " 14  Индустрия          10728 non-null  object\n",
            " 15  Позиция            10728 non-null  object\n",
            " 16  Фейк               10728 non-null  int64 \n",
            "dtypes: int64(2), object(15)\n",
            "memory usage: 1.4+ MB\n"
          ],
          "name": "stdout"
        }
      ]
    },
    {
      "cell_type": "code",
      "metadata": {
        "id": "v-p25OE-f5Ot"
      },
      "source": [
        "train_df['text_data'] = train_df[columns_to_text].agg(' '.join, axis=1)"
      ],
      "execution_count": 22,
      "outputs": []
    },
    {
      "cell_type": "code",
      "metadata": {
        "id": "k-63qmU-npsv"
      },
      "source": [
        "from pprint import pprint"
      ],
      "execution_count": 23,
      "outputs": []
    },
    {
      "cell_type": "code",
      "metadata": {
        "id": "5l1ERWONnjyM",
        "outputId": "45d7a9d8-f0c9-4a76-892d-f24e37a6ab77",
        "colab": {
          "base_uri": "https://localhost:8080/",
          "height": 1000
        }
      },
      "source": [
        "for i in range(10):\n",
        "    pprint(train_df['text_data'][i])\n",
        "    print()"
      ],
      "execution_count": 24,
      "outputs": [
        {
          "output_type": "stream",
          "text": [
            "('Reporter, Agri Investor Full-time Office positions There are no screening '\n",
            " 'questions PEI Media\\xa0'\n",
            " '(#URL_4cffe430b8da4c0d7e6074d11e638d28a1e165c8782b891e111fc17606c3d961#) '\n",
            " 'provides a range of highly respected publications and market leading events '\n",
            " 'to its financial sector audience. The\\xa0leading information provider in '\n",
            " 'private capital markets, PEI Media also has a strong international presence, '\n",
            " 'with offices in London, New York and Hong Kong. Seeking savvy business '\n",
            " 'reporter Are you a news-hungry journalist? Have a passion for finance, a '\n",
            " 'talent for breaking news, networking and developing sophisticated sources?If '\n",
            " 'so, there’s an exciting full-time reporter position available with PEI '\n",
            " 'Media, the leading global B2B financial publishing and information group '\n",
            " 'focused exclusively on alternative asset classes.Based in Manhattan, this '\n",
            " 'opening is a rare opportunity for an ambitious individual seeking to advance '\n",
            " 'their career in one of the most dynamic segments\\xa0of global\\xa0finance.The '\n",
            " 'position is tied to\\xa0Agri Investor '\n",
            " '(#URL_a2fcb2906ec9e228792ec6fd689398146109ba55c512a7a9c45b9224c88c1da0#), a '\n",
            " 'growing online news and intelligence platform covering private markets '\n",
            " 'investment in agriculture and agribusiness.\\xa0 The successful candidate '\n",
            " 'should have a bachelor’s degree or equivalent and at least three years of\\xa0'\n",
            " 'journalism or related writing/reporting experience. A\\xa0demonstrable\\xa0'\n",
            " 'passion for\\xa0business,\\xa0finance\\xa0and investment is essential, as is '\n",
            " 'the ability to work both independently and as part of a global '\n",
            " 'team.Resilience under pressure – remaining focused in the face of competing '\n",
            " 'priorities to ensure key deadlines are met – is key. The individual\\xa0'\n",
            " 'should also be a gifted networker, who is willing and able to travel\\xa0and '\n",
            " 'attend industry-related events; engaging constantly with the markets we '\n",
            " 'cover is a core requirement. Fluency in foreign languages and multimedia '\n",
            " 'reporting skills are a plus.')\n",
            "\n",
            "('Software Engineer Full-time Office positions There are no screening '\n",
            " 'questions Roka Security is a boutique security firm that specializes in '\n",
            " 'full-scale network protection and defending against advanced, targeted '\n",
            " 'attacks. Our staff members have background in governmental and intelligence '\n",
            " 'fields as well as large-scale data center and network deployments.We '\n",
            " 'leverage our in-depth experience to aid our customers in protecting their '\n",
            " \"data, and their intellectual property, andtheir customer's data, We help our \"\n",
            " \"clients with the full breadth of services whether it's consulting on general \"\n",
            " 'security issues or performing security assessments or assisting them with '\n",
            " 'their latest network design or datacenter build-out. We also provide the '\n",
            " 'full breadth of managed services including managed security perimeters, '\n",
            " 'Managed Infrastructure / private cloud, or 24x7 security monitoring in our '\n",
            " 'state-of-the-art Security Operations Center. Roka Security is looking for '\n",
            " 'Software Engineers with a variety of talents. \\xa0The position is for a full '\n",
            " 'time employee at our office in Herndon, Virginia. \\xa0We are looking for '\n",
            " 'both hourly and salaried positions.There is a large security component to '\n",
            " 'all of our software, so a background in computer security is a plus. \\xa0We '\n",
            " 'are looking for people to help us build mobile, desktop, and server based '\n",
            " 'application. \\xa0We are interesting in development languages ranging from '\n",
            " 'scripting and C, to mobile development in iOS \\xa0and Android platforms. ')\n",
            "\n",
            "('Structural Engineer  Office positions Screening questions are present  Job '\n",
            " 'tasks:Analyse project specifications on structural design related project '\n",
            " 'items and define the scope of work;Prepare design calculations for all '\n",
            " 'structural design work within the scope, budget and schedule defined at the '\n",
            " 'start of the project. Main emphasis should be to minimise fabrication cost '\n",
            " 'and vessel time;Prepare procedures for using and testing the installation '\n",
            " 'aids and discuss these procedures with the offshore personnel responsible '\n",
            " 'for the execution and the project team;Perform detailed calculations using '\n",
            " 'the appropriate in-house tools;Review subcontractor equipment design and '\n",
            " 'installation methods;Co-ordinate fabrication work of installation aids '\n",
            " 'fabricated in-house or by a subcontractor when required;Assist the Field '\n",
            " 'Engineer onshore or offshore when required during the execution phase of the '\n",
            " 'project.Responsible for the hand-over to the Field Engineer;Check reports of '\n",
            " 'structural design work performed within the Engineering Department. Job '\n",
            " 'requirements:HTS/TU Civil Engineering or Mechanical Engineering;Minimum of 3 '\n",
            " 'years experience, preferably in offshore engineering;Good knowledge of '\n",
            " 'Windows and MS Office applications;Good command of the English language, '\n",
            " 'both written and spoken;Prepared to work offshore occasionally.')\n",
            "\n",
            "('Senior Publishing Specialist   Office positions There are no screening '\n",
            " 'questions  The Senior Publishing Specialist will be part of the Regulatory '\n",
            " 'Operations Publishing Group and to ensure that dossier is prepared ready to '\n",
            " 'submit to the FDA and other agencies. This includes,\\xa0'\n",
            " 'Publishing(Bookmarking and Hyperlinking) and Peer Reviewing different types '\n",
            " 'of document like (eg Clinical Study Report, Annual Report, Protocol, '\n",
            " 'Amendments, PSUR, DMF, IMPD, CRFs and eCRF Pre-Meeting packages, '\n",
            " 'Labeling)\\xa0Knowledge in building different types of submission.\\xa0Peer '\n",
            " 'Reviewing of other group members’ documents.\\xa0Experience in publishing the '\n",
            " 'documents globally.\\xa0Knowledge in preparing Paper submission, scanning '\n",
            " 'documents and Printing Desk copies (Internal or Health Authority).\\xa0'\n",
            " 'Experience in formatting documents as per Eisai Standards.  Minimum of 3 – 4 '\n",
            " 'years experience in Regulatory Affairs publishing and reviewing the '\n",
            " 'documents\\xa0in a pharmaceutical environment, with strong familiarity with '\n",
            " 'regulatory eCTD submission process.\\xa0Must be highly proficient in '\n",
            " 'Microsoft office, Adobe Acrobat, ISI writer and ISI Toolbox (with proven\\xa0'\n",
            " 'background in bookmarking and Hyperlink, page stamp, masking and watermarks '\n",
            " 'etc,).\\xa0Knowledge of eCTD submission eCTD Validator, eCTD Viewer and Life '\n",
            " 'Cycle Management\\xa0Experience in using different application like '\n",
            " 'viewpoint, Coredossier or eCTDExpress etc\\xa0Knowledge in scanning '\n",
            " 'document.\\xa0Knowledge in FDA &amp; ICH Guidance’s\\xa0Must be able to do '\n",
            " 'multi-task and work well under tight timeliness. ')\n",
            "\n",
            "('Sales Representative   Office positions Screening questions are present  '\n",
            " 'BCCC Enterprises provides management consulting services for Commissionaires '\n",
            " 'BC, Kinetic Security and Lexxon Training.\\xa0\\xa0Position Overview\\xa0As the '\n",
            " 'Sales Representative your main focus will be on all aspects of the sales '\n",
            " 'cycle. You are responsible for the development and retention of new business '\n",
            " 'leading to revenue growth within the Fraser Valley territory. The primary '\n",
            " 'focus of this position is lead generation, provide quotes on services '\n",
            " 'required, close contracts and provide account management services. This '\n",
            " 'position is required to be home-based, ideally in the Fraser Valley and '\n",
            " 'reports to the Director of Business Development Key '\n",
            " 'Responsibilities:Contribute to the financial success of the organization by '\n",
            " 'coordinating and monitoring leads through the sales cycle to close.Qualify '\n",
            " 'leads and generate proposals to close the sale on various services; '\n",
            " 'primarily Security, Enforcement, Training, and Identification '\n",
            " 'Services.Introduce new services and expand business opportunities within '\n",
            " 'existing client accountsConduct cold calls to gain leads and generate '\n",
            " 'businessTravel to client sites to hold meetings, make sales presentations '\n",
            " 'and gather informationMaintain an active sales pipelineAccount Management of '\n",
            " 'newly established accounts, maintaining long-term sales relationships, '\n",
            " 'provide contract status reporting and cross selling additional servicesTrack '\n",
            " 'sales and status reports on leadsRespond to internal sales leads to identify '\n",
            " 'opportunities and create sales strategiesAnalyze price quotes against '\n",
            " 'competitorsSupport sales and marketing programs by maintaining/building '\n",
            " 'databases and client lists as well as participating in any applicable '\n",
            " 'marketing campaigns and or tradeshows.Maintain CRM system with account '\n",
            " 'information and sales pipelineQualifications:Working towards or completion '\n",
            " 'of a Diploma or Degree in Business Administration or Marketing, and/or '\n",
            " \"equivalent work experience2-3 years' work experience within a client focused \"\n",
            " 'sales environmentProven sales and relationship building skills; comfortable '\n",
            " 'with cold calling using a warm approach and has well developed \"closing\" '\n",
            " 'techniquesHigh accuracy and attention to detail and an ability to '\n",
            " 'multi-taskExcellent written and verbal communication skills with '\n",
            " 'professional demeanor over the telephoneExcellent presentation and '\n",
            " 'interpersonal skillsStrong time management and organizational skills with '\n",
            " 'the ability to work in an environment with shifting priorities and minimal '\n",
            " 'supervisionExcellent customer service and problem solving skillsSolid '\n",
            " 'project management and research skillsDemonstrated self-starter with a '\n",
            " 'positive can-do attitude, can work independently or as a collaborative team '\n",
            " 'playerProfessional appearance and conduct to positively represent the '\n",
            " 'companyAbility to demonstrate good judgment and a high level of '\n",
            " 'professionalism in dealing with peopleStrong computer skills including data '\n",
            " 'base management and proficiency in MS Office programs including Word, Excel '\n",
            " 'and AccessCompletion of successful criminal record check and security '\n",
            " 'clearances are required.')\n",
            "\n",
            "('Sales & Support role Full-time Office positions Screening questions are '\n",
            " 'present  We are a small and successful satellite telecoms company, offering '\n",
            " 'both hardware and airtime to a global, diverse customer base.We are '\n",
            " 'currently looking to recruit a self-motivated, adaptable and enthusiastic '\n",
            " 'candidate to a multi-task position in our London office,\\xa0located near '\n",
            " 'Oxford Circus tube station.The\\xa0role\\xa0includes\\xa0Sales, Order '\n",
            " 'preparation, Customer after-sales\\xa0support\\xa0and general '\n",
            " 'administration.Excellent written and oral communication skills and a good '\n",
            " 'telephone manner are essentialExperience in having already worked in the '\n",
            " 'technology sector preferred.We offer a competitive salary. ')\n",
            "\n",
            "('SEO Analysis Full-time Office positions Screening questions are present '\n",
            " 'Bright Edge and Aptitude Staffing Solutions have partnered up in an effort '\n",
            " 'to streamline the hiring process and provide a more efficient and effective '\n",
            " 'recruitng model.\\xa0 Our focus is to help develop and achieve your career '\n",
            " 'goals while makeing a solid geographical, cultural and professional fiit '\n",
            " 'when leveraging your career into your new and exciting professional '\n",
            " 'venture!BrightEdge today is over 180 employees strong, and continuously '\n",
            " 'growing. BrightEdge has over 8400 brands and 650 direct customers, and has '\n",
            " \"lead the market in SEO innovation. The new headquarters reflect BrightEdge's \"\n",
            " 'growth and the maturity of the company, with a sleek and modern space in the '\n",
            " \"heart of Silicon Valley.Stay tuned, as BrightEdge's story is only \"\n",
            " 'beginning.\\xa0 Seeking an SEO Analyst to drive traffic from organic '\n",
            " 'search.\\xa0 The ideal candidate will be extremely detail oriented with SEO '\n",
            " 'or online Marketing Campaign Management experience.\\xa0 This is great ground '\n",
            " 'floor opportunity to join a Nascent Digital Marketing team to establish new '\n",
            " 'processes.\\xa0 You will work with accomplished B2C and B2B digital marketers '\n",
            " 'to bring your expertise to this best-in-class team.\\xa0Responsibilities:\\xa0'\n",
            " 'Owning and growing our organic content marketing.Internal usage of company '\n",
            " 'platform.Analysis of organic rankings volatility.Backlink management.Landing '\n",
            " 'page optimization for search engine rankings.Tracking social metrics.\\xa0 '\n",
            " 'Qualifications:\\xa02+ years of experience with proven SEO results.Solid '\n",
            " 'understanding of SEO and HTML.Strong forensics, problem solving, and '\n",
            " 'analytical skills.Ability to work cross-functionally with product, '\n",
            " 'marketing, and design teams.Proficiency in site analytics, Google Analytics '\n",
            " 'preferred.Self-starter/self-motivated, capable of staying on track and '\n",
            " 'pursuing solutions without supervision.Ability to work under pressure, meet '\n",
            " 'deadlines and handle multiple projects simultaneously.\\xa0Preferred '\n",
            " 'Qualifications:\\xa0Experience in a B2B SaaS company.Experience with Drupal, '\n",
            " 'Wordpress and Marketo.Engineering background.\\xa0')\n",
            "\n",
            "('Customer Service Associate - Part Time  Part-time Office positions There are '\n",
            " 'no screening questions Novitex Enterprise Solutions, formerly Pitney Bowes '\n",
            " 'Management Services, delivers innovative document and communications '\n",
            " 'management solutions that help companies around the world drive business '\n",
            " 'process efficiencies, increase productivity, reduce costs and improve '\n",
            " 'customer satisfaction. For almost 30 years, clients have turned to us to '\n",
            " 'integrate and optimize their enterprise-wide business processes to empower '\n",
            " 'employees, increase productivity and maximize results. As a trusted partner, '\n",
            " 'we continually focus on delivering secure, technology-enabled document and '\n",
            " \"communications solutions that improve our clients' work processes, enhance \"\n",
            " 'their customer interactions and drive growth. The Customer Service Associate '\n",
            " 'will be based in Louisville, KY. The right candidate will be an integral '\n",
            " 'part of our talented team, supporting our continued '\n",
            " 'growth.Responsibilities:Perform various Mail Center activities (sorting, '\n",
            " 'metering, folding, inserting, delivery, pickup, etc.)Lift heavy boxes, files '\n",
            " 'or paper when neededMaintain the highest levels of customer care while '\n",
            " 'demonstrating a friendly and cooperative attitudeDemonstrate flexibility in '\n",
            " 'satisfying customer demands in a high volume, production '\n",
            " 'environmentConsistently adhere to business procedure guidelinesAdhere to all '\n",
            " 'safety proceduresTake direction from supervisor or site managerMaintain all '\n",
            " 'logs and reporting documentation; attention to detailParticipate in '\n",
            " 'cross-training and perform other duties as assigned (Filing, outgoing '\n",
            " 'shipments, etc)Operating mailing, copy or scanning equipmentShipping &amp; '\n",
            " 'ReceivingHandle time-sensitive material like confidential, urgent '\n",
            " 'packagesPerform other tasks as assignedScanning incoming mail to '\n",
            " 'recipientsPerform file purges and pullsCreate files and ship filesProvide '\n",
            " 'backfill when neededEnter information daily into spreadsheetsIdentify '\n",
            " 'charges and match them to billingSort and deliver mail, small packages '\n",
            " 'Minimum Requirements:Minimum of 6 months customer service related experience '\n",
            " 'requiredHigh school diploma or equivalent (GED) requiredPreferred '\n",
            " 'Qualifications:Keyboarding and windows environment PC skills required (Word, '\n",
            " 'Excel and PowerPoint preferred)Experience running mail posting equipment a '\n",
            " 'plusExcellent communication skills both verbal and writtenLifting up to 55 '\n",
            " 'lbs with or without accommodationsWillingness and availability to work '\n",
            " 'additional hours if assignedWillingness to submit to a pre-employment drug '\n",
            " 'screening and criminal background checkAbility to effectively work '\n",
            " 'individually or in a team environmentCompetency in performing multiple '\n",
            " \"functional tasksAbility to meet employer's attendance policy\")\n",
            "\n",
            "('High School Physics/Living Environment Teacher Full-time Office positions '\n",
            " 'Screening questions are present The Albany Charter School Network is a '\n",
            " 'family of charter schools in the City of Albany that works to prepare '\n",
            " 'children for meaningful future lives – as purposeful, productive, and '\n",
            " 'participatory citizens of New York, the United States, and the world.Our '\n",
            " 'strong and unified movement of charter schools collaborates with parents to '\n",
            " 'provide for all students a vibrant academic environment and dynamic learning '\n",
            " 'experiences that create what we call “Future Life Opportunity” – a pathway '\n",
            " 'to success in college, career, and community life.The Albany Charter School '\n",
            " 'Network and the schools that comprise our community are always looking for '\n",
            " 'highly committed and highly skilled people to come and join us in the '\n",
            " 'exciting and meaningful work of helping create Future Life Opportunity for '\n",
            " 'this generation of students.Please take the time to look at the various open '\n",
            " 'positions on our site. If there is a role for which you think you would be a '\n",
            " 'great match, then we encourage you to learn more about it and submit an '\n",
            " 'application. Do you have what it takes to cultivate the next generation of '\n",
            " 'students with both the disciplined expertise and creative imagination to '\n",
            " 'contribute effectively to the betterment of the global society? If so, the '\n",
            " 'Albany Charter School Network may be the place for you! We are looking for a '\n",
            " 'High School Physics and Living Environment Teacher to join Green Tech High '\n",
            " 'Charter School who is committed to helping our students write like Frederick '\n",
            " 'Douglass and reason like Albert Einstein.POSITION SUMMARYAs a High School '\n",
            " 'Physics/Living Environment Teacher, you will work collaboratively with other '\n",
            " 'science instructional staff instructional staff and the instructional leader '\n",
            " 'to champion a high-quality education for each and every student while '\n",
            " 'cultivating success for future life opportunities in college, career, and '\n",
            " 'community. You will participate in both horizontal and vertical planning to '\n",
            " 'ensure every student’s academic needs are met. You will also develop '\n",
            " 'strategies for the design, delivery, modification, and extension of Common '\n",
            " 'Core State Standards-aligned curriculum and instruction, allowing all '\n",
            " 'students to engage in active academic challenge and growth. As you work '\n",
            " 'collaboratively with your peers to foster a thirst for lifelong learning, '\n",
            " 'you will be responsible for your students’ performance and your own personal '\n",
            " 'and professional growth.ABOUT THE NETWORKThe Albany Charter School Network '\n",
            " 'is\\u2028'\n",
            " ' a family of charter schools in the city of Albany that works to prepare '\n",
            " 'students for meaningful future lives – as purposeful, productive, and '\n",
            " 'participatory citizens of New York, the United States, and the world. Our '\n",
            " 'strong and unified movement of charter schools collaborates with parents to '\n",
            " 'provide all students a vibrant academic environment and dynamic learning '\n",
            " 'experience that create what we call “Future Life Opportunity” – a pathway to '\n",
            " 'success in college, career, and community life.\\xa0 We create this '\n",
            " 'environment and these experiences with a focus on Choice, Reliability, '\n",
            " 'Quality, and Growth.ABOUT GREEN TECH CHARTER HIGH SCHOOL\\xa0Green Tech High '\n",
            " 'Charter School prepares young men to complete high school with a Regents '\n",
            " 'Diploma so they will have the opportunity to attend college or choose an '\n",
            " 'alternative, responsible career path as they enter adulthood.\\xa0 Green Tech '\n",
            " 'High provides a complete high school curriculum, backed by a philosophy and '\n",
            " 'culture that ensures every student will attain the skills and coursework '\n",
            " 'necessary for a Regents Diploma, and does so with a high graduation rate.\\xa0'\n",
            " 'HIGH SCHOOL PHYSICS &amp; LIVING ENVIRONMENT TEACHER JOB DESCRIPTION '\n",
            " 'DETAILSWorks with the instructional leader, school leadership team, and '\n",
            " 'instructional staff to establish a Common Core Standards-oriented curriculum '\n",
            " 'that engages students in active academic challenge and growth.Cultivates a '\n",
            " 'culture of high-expectations-great-outcomes learning in which students can '\n",
            " 'achieve the highest standards of success.Develops collaborative '\n",
            " 'relationships with colleagues and school leadership to ensure quality '\n",
            " 'teaching and learning for all students.Through professional development, '\n",
            " 'serves as the lead learner while building knowledge and expertise in physics '\n",
            " 'and living environment.\\xa0Engages in active classroom management to ensure '\n",
            " 'students represent their peers and teachers with excellence.Develops and '\n",
            " 'maintains open communication with parents and families.Uses predictive '\n",
            " 'analysis to design, deliver, and modify teaching practices to support '\n",
            " 'student growth and learning.Analyzes various student performance '\n",
            " 'assessments, identifies areas of growth, and implements appropriate '\n",
            " 'curriculum and instructional modifications to support student development '\n",
            " 'and advancement. QUALIFICATIONSValid Certification in Physics, Living '\n",
            " 'Environment or General Science, grades 7-12.Demonstrated ability to work in '\n",
            " 'a collaborative environment with key stakeholders, including faculty, '\n",
            " 'students, and parents.Mission-driven with a genuine commitment to fostering '\n",
            " 'future life opportunities for all students.Excellent communication skills, '\n",
            " 'both verbal and written.')\n",
            "\n",
            "('Front-End Developer  Full-time Office positions There are no screening '\n",
            " 'questions EUROPEAN DYNAMICS '\n",
            " '(#URL_c66532ffa1ce76ab447da6774719060c42c584edbf44d74cdb94fc4ac219ca45#) is '\n",
            " 'a leading European Software, Information and Communication Technologies '\n",
            " 'company, operating internationally (Athens, Brussels, Luxembourg, '\n",
            " 'Copenhagen, Berlin, Rome, Stockholm, London, Nicosia, Helsinki, Valetta, '\n",
            " 'etc). The company employs over 600 engineers and IT experts. We design and '\n",
            " 'develop software applications using integrated, state-of-the-art technology. '\n",
            " 'Our current IT and telecoms projects have a value exceeding 250 million '\n",
            " 'EURO. EUROPEAN DYNAMICS is a renowned supplier of IT services to European '\n",
            " 'Union Institutions, international organizations, European Agencies and '\n",
            " 'national government Administrations all over Europe. We currently have a '\n",
            " 'vacancy for a Front-End Developer, fluent in English, to offer his/her '\n",
            " 'services as an expert who will be based in Brussels. The work will be '\n",
            " 'carried out either in the company’s premises or on site at the customer '\n",
            " 'premises. In the context of the first assignment, the successful candidate '\n",
            " 'will be integrated in the Development Team of the company that will closely '\n",
            " 'cooperate with a major client’s IT team on site.\\xa0Your tasks:Design and '\n",
            " 'develop web user\\xa0 interfaces based on jQuery;Technical analysis and '\n",
            " 'maintenance work for back and front end services;Testing, deployment and '\n",
            " 'development of applications that reflect specifications;Provision of '\n",
            " 'assistance with the implementation of the technical architecture;Definition, '\n",
            " 'production of technical documentation and integration of technological '\n",
            " 'components and integration with other applications. Your skills:Minimum 10 '\n",
            " 'years of combined relevant University Studies and experience in IT;Minimum 6 '\n",
            " 'years of experience in Web design and development using JavaScript, JQuery '\n",
            " '(Kendo UI), SQL, Oracle PL/SQL, UML, CSS,\\xa0 XHTML, \\xa0SOAP, REST and '\n",
            " 'XML;Experience with JAVA and Web application scripting languages such as '\n",
            " 'Coldfusion, .Net and PHP;Knowledge of XSLT 2.0 and XPath 2.0 is considered '\n",
            " 'an asset;Excellent command of English;Knowledge of French is an asset.\\xa0')\n",
            "\n"
          ],
          "name": "stdout"
        }
      ]
    },
    {
      "cell_type": "code",
      "metadata": {
        "id": "RTRFp2nQXhUu"
      },
      "source": [
        "from sklearn.model_selection import train_test_split"
      ],
      "execution_count": 25,
      "outputs": []
    },
    {
      "cell_type": "code",
      "metadata": {
        "id": "XYa6MMWjXhU0"
      },
      "source": [
        "train_df, val_df = train_test_split(train_df, test_size=1024, random_state=42)"
      ],
      "execution_count": 26,
      "outputs": []
    },
    {
      "cell_type": "code",
      "metadata": {
        "id": "sexu3-A1pcxc",
        "outputId": "946f05fd-7b0b-42dc-d049-9c071ed395cf",
        "colab": {
          "base_uri": "https://localhost:8080/",
          "height": 455
        }
      },
      "source": [
        "val_df.info()"
      ],
      "execution_count": 27,
      "outputs": [
        {
          "output_type": "stream",
          "text": [
            "<class 'pandas.core.frame.DataFrame'>\n",
            "Int64Index: 1024 entries, 592 to 6311\n",
            "Data columns (total 18 columns):\n",
            " #   Column             Non-Null Count  Dtype \n",
            "---  ------             --------------  ----- \n",
            " 0   Id                 1024 non-null   int64 \n",
            " 1   Название           1024 non-null   object\n",
            " 2   Место              1024 non-null   object\n",
            " 3   Отдел              1024 non-null   object\n",
            " 4   Зарплата           1024 non-null   object\n",
            " 5   Описание компании  1024 non-null   object\n",
            " 6   Описание вакансии  1024 non-null   object\n",
            " 7   Требования         1024 non-null   object\n",
            " 8   Соцпакет           1024 non-null   object\n",
            " 9   Дистанционно       1024 non-null   object\n",
            " 10  Вопросы            1024 non-null   object\n",
            " 11  Тип занятости      1024 non-null   object\n",
            " 12  Опыт               1024 non-null   object\n",
            " 13  Образование        1024 non-null   object\n",
            " 14  Индустрия          1024 non-null   object\n",
            " 15  Позиция            1024 non-null   object\n",
            " 16  Фейк               1024 non-null   int64 \n",
            " 17  text_data          1024 non-null   object\n",
            "dtypes: int64(2), object(16)\n",
            "memory usage: 152.0+ KB\n"
          ],
          "name": "stdout"
        }
      ]
    },
    {
      "cell_type": "code",
      "metadata": {
        "id": "PutJVkl8pgL7"
      },
      "source": [
        "val_df.drop(columns=old_columns, inplace=True)"
      ],
      "execution_count": 28,
      "outputs": []
    },
    {
      "cell_type": "code",
      "metadata": {
        "id": "6G81gFnDpmzd",
        "outputId": "14fbcbe7-2835-4335-c10f-f14d22584472",
        "colab": {
          "base_uri": "https://localhost:8080/",
          "height": 400
        }
      },
      "source": [
        "val_df"
      ],
      "execution_count": 29,
      "outputs": [
        {
          "output_type": "execute_result",
          "data": {
            "text/html": [
              "<div>\n",
              "<style scoped>\n",
              "    .dataframe tbody tr th:only-of-type {\n",
              "        vertical-align: middle;\n",
              "    }\n",
              "\n",
              "    .dataframe tbody tr th {\n",
              "        vertical-align: top;\n",
              "    }\n",
              "\n",
              "    .dataframe thead th {\n",
              "        text-align: right;\n",
              "    }\n",
              "</style>\n",
              "<table border=\"1\" class=\"dataframe\">\n",
              "  <thead>\n",
              "    <tr style=\"text-align: right;\">\n",
              "      <th></th>\n",
              "      <th>Фейк</th>\n",
              "      <th>text_data</th>\n",
              "    </tr>\n",
              "  </thead>\n",
              "  <tbody>\n",
              "    <tr>\n",
              "      <th>592</th>\n",
              "      <td>0</td>\n",
              "      <td>Technical Site Representative  Full-time Offic...</td>\n",
              "    </tr>\n",
              "    <tr>\n",
              "      <th>608</th>\n",
              "      <td>0</td>\n",
              "      <td>Communications / Media Relations  Full-time Of...</td>\n",
              "    </tr>\n",
              "    <tr>\n",
              "      <th>424</th>\n",
              "      <td>0</td>\n",
              "      <td>Customer Support Associate  Office positions S...</td>\n",
              "    </tr>\n",
              "    <tr>\n",
              "      <th>10133</th>\n",
              "      <td>0</td>\n",
              "      <td>Property Manager (LCAM) Full-time Office posit...</td>\n",
              "    </tr>\n",
              "    <tr>\n",
              "      <th>5635</th>\n",
              "      <td>0</td>\n",
              "      <td>Talent Acquisition Specialist USA Full-time Of...</td>\n",
              "    </tr>\n",
              "    <tr>\n",
              "      <th>...</th>\n",
              "      <td>...</td>\n",
              "      <td>...</td>\n",
              "    </tr>\n",
              "    <tr>\n",
              "      <th>5269</th>\n",
              "      <td>0</td>\n",
              "      <td>Marketing Manager Full-time Office positions T...</td>\n",
              "    </tr>\n",
              "    <tr>\n",
              "      <th>7877</th>\n",
              "      <td>0</td>\n",
              "      <td>Healthcare Assistant  Office positions There a...</td>\n",
              "    </tr>\n",
              "    <tr>\n",
              "      <th>4076</th>\n",
              "      <td>0</td>\n",
              "      <td>Clinical Psychotherapist Full-time Office posi...</td>\n",
              "    </tr>\n",
              "    <tr>\n",
              "      <th>106</th>\n",
              "      <td>0</td>\n",
              "      <td>Accountant / Office Manager Full-time Office p...</td>\n",
              "    </tr>\n",
              "    <tr>\n",
              "      <th>6311</th>\n",
              "      <td>1</td>\n",
              "      <td>Manufacturing Engineer   Office positions Ther...</td>\n",
              "    </tr>\n",
              "  </tbody>\n",
              "</table>\n",
              "<p>1024 rows × 2 columns</p>\n",
              "</div>"
            ],
            "text/plain": [
              "       Фейк                                          text_data\n",
              "592       0  Technical Site Representative  Full-time Offic...\n",
              "608       0  Communications / Media Relations  Full-time Of...\n",
              "424       0  Customer Support Associate  Office positions S...\n",
              "10133     0  Property Manager (LCAM) Full-time Office posit...\n",
              "5635      0  Talent Acquisition Specialist USA Full-time Of...\n",
              "...     ...                                                ...\n",
              "5269      0  Marketing Manager Full-time Office positions T...\n",
              "7877      0  Healthcare Assistant  Office positions There a...\n",
              "4076      0  Clinical Psychotherapist Full-time Office posi...\n",
              "106       0  Accountant / Office Manager Full-time Office p...\n",
              "6311      1  Manufacturing Engineer   Office positions Ther...\n",
              "\n",
              "[1024 rows x 2 columns]"
            ]
          },
          "metadata": {
            "tags": []
          },
          "execution_count": 29
        }
      ]
    },
    {
      "cell_type": "code",
      "metadata": {
        "id": "OEG9sCNZqPX7"
      },
      "source": [
        "fake_df = train_df[train_df['Фейк']==1]"
      ],
      "execution_count": 30,
      "outputs": []
    },
    {
      "cell_type": "code",
      "metadata": {
        "id": "pr10HP8aqRkr",
        "outputId": "16e25b10-562b-452e-c0ab-b1f68b4a13a5",
        "colab": {
          "base_uri": "https://localhost:8080/",
          "height": 455
        }
      },
      "source": [
        "fake_df.info()"
      ],
      "execution_count": 31,
      "outputs": [
        {
          "output_type": "stream",
          "text": [
            "<class 'pandas.core.frame.DataFrame'>\n",
            "Int64Index: 466 entries, 9413 to 2433\n",
            "Data columns (total 18 columns):\n",
            " #   Column             Non-Null Count  Dtype \n",
            "---  ------             --------------  ----- \n",
            " 0   Id                 466 non-null    int64 \n",
            " 1   Название           466 non-null    object\n",
            " 2   Место              466 non-null    object\n",
            " 3   Отдел              466 non-null    object\n",
            " 4   Зарплата           466 non-null    object\n",
            " 5   Описание компании  466 non-null    object\n",
            " 6   Описание вакансии  466 non-null    object\n",
            " 7   Требования         466 non-null    object\n",
            " 8   Соцпакет           466 non-null    object\n",
            " 9   Дистанционно       466 non-null    object\n",
            " 10  Вопросы            466 non-null    object\n",
            " 11  Тип занятости      466 non-null    object\n",
            " 12  Опыт               466 non-null    object\n",
            " 13  Образование        466 non-null    object\n",
            " 14  Индустрия          466 non-null    object\n",
            " 15  Позиция            466 non-null    object\n",
            " 16  Фейк               466 non-null    int64 \n",
            " 17  text_data          466 non-null    object\n",
            "dtypes: int64(2), object(16)\n",
            "memory usage: 69.2+ KB\n"
          ],
          "name": "stdout"
        }
      ]
    },
    {
      "cell_type": "code",
      "metadata": {
        "id": "cvSjayQzjZjk"
      },
      "source": [
        "# from random import shuffle"
      ],
      "execution_count": 32,
      "outputs": []
    },
    {
      "cell_type": "code",
      "metadata": {
        "id": "A0V5xxO8p_Id"
      },
      "source": [
        "# for i in range(19):\n",
        "#     shuffle(columns_to_text)\n",
        "#     print(columns_to_text)\n",
        "#     fake_df['text_data'] = fake_df[columns_to_text].agg(' '.join, axis=1)\n",
        "#     train_df = pd.concat([train_df, fake_df], axis=0, ignore_index=True)"
      ],
      "execution_count": 33,
      "outputs": []
    },
    {
      "cell_type": "code",
      "metadata": {
        "id": "g6r2N9i-8Wfr"
      },
      "source": [
        "train_df = pd.concat([train_df] + [fake_df]*18, axis=0, ignore_index=True)"
      ],
      "execution_count": 34,
      "outputs": []
    },
    {
      "cell_type": "code",
      "metadata": {
        "id": "ujk54A3Ar_r5",
        "outputId": "a50e571c-d312-47a9-aa45-80137af69def",
        "colab": {
          "base_uri": "https://localhost:8080/",
          "height": 34
        }
      },
      "source": [
        "train_df.shape"
      ],
      "execution_count": 35,
      "outputs": [
        {
          "output_type": "execute_result",
          "data": {
            "text/plain": [
              "(18092, 18)"
            ]
          },
          "metadata": {
            "tags": []
          },
          "execution_count": 35
        }
      ]
    },
    {
      "cell_type": "code",
      "metadata": {
        "id": "queaJGw7sJMJ"
      },
      "source": [
        "train_df.drop(columns=old_columns, inplace=True)"
      ],
      "execution_count": 36,
      "outputs": []
    },
    {
      "cell_type": "code",
      "metadata": {
        "id": "_Xj76MpQsa5k",
        "outputId": "6eb6d9cb-3eb5-474c-9a6f-cbc4efee0ed2",
        "colab": {
          "base_uri": "https://localhost:8080/",
          "height": 175
        }
      },
      "source": [
        "train_df.info()"
      ],
      "execution_count": 37,
      "outputs": [
        {
          "output_type": "stream",
          "text": [
            "<class 'pandas.core.frame.DataFrame'>\n",
            "RangeIndex: 18092 entries, 0 to 18091\n",
            "Data columns (total 2 columns):\n",
            " #   Column     Non-Null Count  Dtype \n",
            "---  ------     --------------  ----- \n",
            " 0   Фейк       18092 non-null  int64 \n",
            " 1   text_data  18092 non-null  object\n",
            "dtypes: int64(1), object(1)\n",
            "memory usage: 282.8+ KB\n"
          ],
          "name": "stdout"
        }
      ]
    },
    {
      "cell_type": "code",
      "metadata": {
        "id": "i0ETAx1bsc-g",
        "outputId": "806fadc4-31a6-41ea-c041-8a9cc7b6f38b",
        "colab": {
          "base_uri": "https://localhost:8080/",
          "height": 69
        }
      },
      "source": [
        "train_df['Фейк'].value_counts()"
      ],
      "execution_count": 38,
      "outputs": [
        {
          "output_type": "execute_result",
          "data": {
            "text/plain": [
              "0    9238\n",
              "1    8854\n",
              "Name: Фейк, dtype: int64"
            ]
          },
          "metadata": {
            "tags": []
          },
          "execution_count": 38
        }
      ]
    },
    {
      "cell_type": "markdown",
      "metadata": {
        "id": "DQbkG9h_vnX1"
      },
      "source": [
        "### Test"
      ]
    },
    {
      "cell_type": "code",
      "metadata": {
        "id": "hFAUJA9_vpCu"
      },
      "source": [
        "test_df = pd.read_csv('test_data.csv')"
      ],
      "execution_count": 39,
      "outputs": []
    },
    {
      "cell_type": "code",
      "metadata": {
        "id": "zGs70D_QvpCx",
        "outputId": "9b2a4ffb-1695-4a60-c162-29226b8eb527",
        "colab": {
          "base_uri": "https://localhost:8080/",
          "height": 0
        }
      },
      "source": [
        "test_df"
      ],
      "execution_count": 40,
      "outputs": [
        {
          "output_type": "execute_result",
          "data": {
            "text/html": [
              "<div>\n",
              "<style scoped>\n",
              "    .dataframe tbody tr th:only-of-type {\n",
              "        vertical-align: middle;\n",
              "    }\n",
              "\n",
              "    .dataframe tbody tr th {\n",
              "        vertical-align: top;\n",
              "    }\n",
              "\n",
              "    .dataframe thead th {\n",
              "        text-align: right;\n",
              "    }\n",
              "</style>\n",
              "<table border=\"1\" class=\"dataframe\">\n",
              "  <thead>\n",
              "    <tr style=\"text-align: right;\">\n",
              "      <th></th>\n",
              "      <th>Id</th>\n",
              "      <th>Название</th>\n",
              "      <th>Место</th>\n",
              "      <th>Отдел</th>\n",
              "      <th>Зарплата</th>\n",
              "      <th>Описание компании</th>\n",
              "      <th>Описание вакансии</th>\n",
              "      <th>Требования</th>\n",
              "      <th>Соцпакет</th>\n",
              "      <th>Дистанционно</th>\n",
              "      <th>Вопросы</th>\n",
              "      <th>Тип занятости</th>\n",
              "      <th>Опыт</th>\n",
              "      <th>Образование</th>\n",
              "      <th>Индустрия</th>\n",
              "      <th>Позиция</th>\n",
              "    </tr>\n",
              "  </thead>\n",
              "  <tbody>\n",
              "    <tr>\n",
              "      <th>0</th>\n",
              "      <td>10728</td>\n",
              "      <td>Internet Marketing Specialist</td>\n",
              "      <td>IE, L, Dublin</td>\n",
              "      <td>Marketing</td>\n",
              "      <td>NaN</td>\n",
              "      <td>NaN</td>\n",
              "      <td>This role represents an important position wit...</td>\n",
              "      <td> 3 to 10+ years experience in a similar inter...</td>\n",
              "      <td>RemunerationA highly attractive salary will be...</td>\n",
              "      <td>0</td>\n",
              "      <td>0</td>\n",
              "      <td>NaN</td>\n",
              "      <td>NaN</td>\n",
              "      <td>NaN</td>\n",
              "      <td>NaN</td>\n",
              "      <td>NaN</td>\n",
              "    </tr>\n",
              "    <tr>\n",
              "      <th>1</th>\n",
              "      <td>10729</td>\n",
              "      <td>Business Development</td>\n",
              "      <td>DE, , Berlin</td>\n",
              "      <td>NaN</td>\n",
              "      <td>NaN</td>\n",
              "      <td>We are on a mission: Making cities smarter.Cit...</td>\n",
              "      <td>You have an opinion about how we can make our ...</td>\n",
              "      <td>NaN</td>\n",
              "      <td>NaN</td>\n",
              "      <td>0</td>\n",
              "      <td>1</td>\n",
              "      <td>NaN</td>\n",
              "      <td>NaN</td>\n",
              "      <td>NaN</td>\n",
              "      <td>NaN</td>\n",
              "      <td>NaN</td>\n",
              "    </tr>\n",
              "    <tr>\n",
              "      <th>2</th>\n",
              "      <td>10730</td>\n",
              "      <td>Sonographer - Full and Part Time Opportunities</td>\n",
              "      <td>GB, ,</td>\n",
              "      <td>Ultrasound</td>\n",
              "      <td>NaN</td>\n",
              "      <td>Diagnostic Health deploy and manage high quali...</td>\n",
              "      <td>We are a leading local ultrasound company spec...</td>\n",
              "      <td>Diploma of College of Radiographers or BSc (Ho...</td>\n",
              "      <td>Competative SalaryHours to suit</td>\n",
              "      <td>0</td>\n",
              "      <td>1</td>\n",
              "      <td>Part-time</td>\n",
              "      <td>NaN</td>\n",
              "      <td>Associate Degree</td>\n",
              "      <td>Medical Practice</td>\n",
              "      <td>Health Care Provider</td>\n",
              "    </tr>\n",
              "    <tr>\n",
              "      <th>3</th>\n",
              "      <td>10731</td>\n",
              "      <td>Care Support Worker</td>\n",
              "      <td>GB, EDH, Edinburgh</td>\n",
              "      <td>NaN</td>\n",
              "      <td>NaN</td>\n",
              "      <td>Social Care Alba is the highest graded Care at...</td>\n",
              "      <td>Social Care Alba is the highest quality Care a...</td>\n",
              "      <td>Key Accountabilities would be:To provide indiv...</td>\n",
              "      <td>This is your chance to become part of our cont...</td>\n",
              "      <td>0</td>\n",
              "      <td>1</td>\n",
              "      <td>NaN</td>\n",
              "      <td>Not Applicable</td>\n",
              "      <td>NaN</td>\n",
              "      <td>Hospital &amp; Health Care</td>\n",
              "      <td>NaN</td>\n",
              "    </tr>\n",
              "    <tr>\n",
              "      <th>4</th>\n",
              "      <td>10732</td>\n",
              "      <td>Outside Sales Professional-Springfield</td>\n",
              "      <td>US, IL, Springfield</td>\n",
              "      <td>NaN</td>\n",
              "      <td>NaN</td>\n",
              "      <td>ABC Supply Co., Inc. is the nation’s largest w...</td>\n",
              "      <td>As an Outside Sales Representative, you must h...</td>\n",
              "      <td>Track Record of Sales Success – B2B or B2CNo m...</td>\n",
              "      <td>As an Outside Sales Representative, you will r...</td>\n",
              "      <td>0</td>\n",
              "      <td>0</td>\n",
              "      <td>NaN</td>\n",
              "      <td>NaN</td>\n",
              "      <td>NaN</td>\n",
              "      <td>NaN</td>\n",
              "      <td>NaN</td>\n",
              "    </tr>\n",
              "    <tr>\n",
              "      <th>...</th>\n",
              "      <td>...</td>\n",
              "      <td>...</td>\n",
              "      <td>...</td>\n",
              "      <td>...</td>\n",
              "      <td>...</td>\n",
              "      <td>...</td>\n",
              "      <td>...</td>\n",
              "      <td>...</td>\n",
              "      <td>...</td>\n",
              "      <td>...</td>\n",
              "      <td>...</td>\n",
              "      <td>...</td>\n",
              "      <td>...</td>\n",
              "      <td>...</td>\n",
              "      <td>...</td>\n",
              "      <td>...</td>\n",
              "    </tr>\n",
              "    <tr>\n",
              "      <th>7147</th>\n",
              "      <td>17875</td>\n",
              "      <td>System Engineer (jr)</td>\n",
              "      <td>NaN</td>\n",
              "      <td>NaN</td>\n",
              "      <td>NaN</td>\n",
              "      <td>Massive Media is the social media company behi...</td>\n",
              "      <td>FunctionThe IT Services-department serves our ...</td>\n",
              "      <td>NaN</td>\n",
              "      <td>NaN</td>\n",
              "      <td>0</td>\n",
              "      <td>1</td>\n",
              "      <td>NaN</td>\n",
              "      <td>NaN</td>\n",
              "      <td>NaN</td>\n",
              "      <td>NaN</td>\n",
              "      <td>NaN</td>\n",
              "    </tr>\n",
              "    <tr>\n",
              "      <th>7148</th>\n",
              "      <td>17876</td>\n",
              "      <td>Mirfield Warehousing Apprenticeship Under NAS ...</td>\n",
              "      <td>GB, , Mirfield</td>\n",
              "      <td>NaN</td>\n",
              "      <td>NaN</td>\n",
              "      <td>Established on the principles that full time e...</td>\n",
              "      <td>Government funding is only available for 16-1...</td>\n",
              "      <td>16-18 year olds only due to government funding...</td>\n",
              "      <td>Career prospects.</td>\n",
              "      <td>0</td>\n",
              "      <td>1</td>\n",
              "      <td>Full-time</td>\n",
              "      <td>Not Applicable</td>\n",
              "      <td>High School or equivalent</td>\n",
              "      <td>Warehousing</td>\n",
              "      <td>NaN</td>\n",
              "    </tr>\n",
              "    <tr>\n",
              "      <th>7149</th>\n",
              "      <td>17877</td>\n",
              "      <td>Sales Director</td>\n",
              "      <td>US, PA, Philadelphia</td>\n",
              "      <td>NaN</td>\n",
              "      <td>NaN</td>\n",
              "      <td>Visual BI is one of the leading and fastest gr...</td>\n",
              "      <td>City / Location : Any Hub City in the USA Join...</td>\n",
              "      <td>New Business Development• Prospect, qualify an...</td>\n",
              "      <td>Salary and bonus commensurate with experience....</td>\n",
              "      <td>1</td>\n",
              "      <td>1</td>\n",
              "      <td>Full-time</td>\n",
              "      <td>Director</td>\n",
              "      <td>Associate Degree</td>\n",
              "      <td>Information Technology and Services</td>\n",
              "      <td>Sales</td>\n",
              "    </tr>\n",
              "    <tr>\n",
              "      <th>7150</th>\n",
              "      <td>17878</td>\n",
              "      <td>Sales Development Representative</td>\n",
              "      <td>US, CA, Emeryville</td>\n",
              "      <td>Sales</td>\n",
              "      <td>NaN</td>\n",
              "      <td>Abakus is a software platform built on game th...</td>\n",
              "      <td>Abakus is a software platform built on game th...</td>\n",
              "      <td>&amp;lt;1 year prior Sales Development experience ...</td>\n",
              "      <td>Competitive salaryGenerous bonus/commission ba...</td>\n",
              "      <td>0</td>\n",
              "      <td>0</td>\n",
              "      <td>Full-time</td>\n",
              "      <td>Entry level</td>\n",
              "      <td>Bachelor's Degree</td>\n",
              "      <td>Computer Software</td>\n",
              "      <td>Sales</td>\n",
              "    </tr>\n",
              "    <tr>\n",
              "      <th>7151</th>\n",
              "      <td>17879</td>\n",
              "      <td>SQL Developer</td>\n",
              "      <td>US, NY, NYC</td>\n",
              "      <td>NaN</td>\n",
              "      <td>NaN</td>\n",
              "      <td>Maxnet offers Staff Augmentation Solutions for...</td>\n",
              "      <td>We are a growing Fashion and retail company. W...</td>\n",
              "      <td>The Consultant will perform all aspects of the...</td>\n",
              "      <td>NaN</td>\n",
              "      <td>0</td>\n",
              "      <td>1</td>\n",
              "      <td>Contract</td>\n",
              "      <td>Mid-Senior level</td>\n",
              "      <td>NaN</td>\n",
              "      <td>NaN</td>\n",
              "      <td>NaN</td>\n",
              "    </tr>\n",
              "  </tbody>\n",
              "</table>\n",
              "<p>7152 rows × 16 columns</p>\n",
              "</div>"
            ],
            "text/plain": [
              "         Id  ...               Позиция\n",
              "0     10728  ...                   NaN\n",
              "1     10729  ...                   NaN\n",
              "2     10730  ...  Health Care Provider\n",
              "3     10731  ...                   NaN\n",
              "4     10732  ...                   NaN\n",
              "...     ...  ...                   ...\n",
              "7147  17875  ...                   NaN\n",
              "7148  17876  ...                   NaN\n",
              "7149  17877  ...                 Sales\n",
              "7150  17878  ...                 Sales\n",
              "7151  17879  ...                   NaN\n",
              "\n",
              "[7152 rows x 16 columns]"
            ]
          },
          "metadata": {
            "tags": []
          },
          "execution_count": 40
        }
      ]
    },
    {
      "cell_type": "code",
      "metadata": {
        "id": "FwSRub4fvpC1",
        "outputId": "e7163d4c-1989-4684-9104-7f765372aa10",
        "colab": {
          "base_uri": "https://localhost:8080/",
          "height": 0
        }
      },
      "source": [
        "test_df.info()"
      ],
      "execution_count": 41,
      "outputs": [
        {
          "output_type": "stream",
          "text": [
            "<class 'pandas.core.frame.DataFrame'>\n",
            "RangeIndex: 7152 entries, 0 to 7151\n",
            "Data columns (total 16 columns):\n",
            " #   Column             Non-Null Count  Dtype \n",
            "---  ------             --------------  ----- \n",
            " 0   Id                 7152 non-null   int64 \n",
            " 1   Название           7152 non-null   object\n",
            " 2   Место              7030 non-null   object\n",
            " 3   Отдел              2575 non-null   object\n",
            " 4   Зарплата           1138 non-null   object\n",
            " 5   Описание компании  5890 non-null   object\n",
            " 6   Описание вакансии  7151 non-null   object\n",
            " 7   Требования         6088 non-null   object\n",
            " 8   Соцпакет           4273 non-null   object\n",
            " 9   Дистанционно       7152 non-null   int64 \n",
            " 10  Вопросы            7152 non-null   int64 \n",
            " 11  Тип занятости      5823 non-null   object\n",
            " 12  Опыт               4352 non-null   object\n",
            " 13  Образование        3939 non-null   object\n",
            " 14  Индустрия          5202 non-null   object\n",
            " 15  Позиция            4572 non-null   object\n",
            "dtypes: int64(3), object(13)\n",
            "memory usage: 894.1+ KB\n"
          ],
          "name": "stdout"
        }
      ]
    },
    {
      "cell_type": "code",
      "metadata": {
        "id": "sbw2A6VdvpC3"
      },
      "source": [
        "test_df['Дистанционно'] = test_df['Дистанционно'].map({1:'Telecommuting positions', 0:'Office positions'})"
      ],
      "execution_count": 42,
      "outputs": []
    },
    {
      "cell_type": "code",
      "metadata": {
        "id": "bUEBp4RDvpC4"
      },
      "source": [
        "test_df['Вопросы'] = test_df['Вопросы'].map({1:'Screening questions are present', 0:'There are no screening questions'})"
      ],
      "execution_count": 43,
      "outputs": []
    },
    {
      "cell_type": "code",
      "metadata": {
        "id": "DDUvhU8QvpC5"
      },
      "source": [
        "# columns_to_text = ['Название', \n",
        "#                    'Тип занятости',\n",
        "#                    'Дистанционно',\n",
        "#                    'Место',\n",
        "#                    'Вопросы', \n",
        "#                    'Описание компании', \n",
        "#                    'Описание вакансии', \n",
        "#                    'Требования']"
      ],
      "execution_count": 44,
      "outputs": []
    },
    {
      "cell_type": "code",
      "metadata": {
        "id": "Q36YnO_wvpC7"
      },
      "source": [
        "test_df.fillna('', inplace=True)"
      ],
      "execution_count": 45,
      "outputs": []
    },
    {
      "cell_type": "code",
      "metadata": {
        "id": "SuySae4Tzjab"
      },
      "source": [
        "test_df['text_data'] = test_df[columns_to_text].agg(' '.join, axis=1)"
      ],
      "execution_count": 46,
      "outputs": []
    },
    {
      "cell_type": "code",
      "metadata": {
        "id": "_Bt33kjDvpC_"
      },
      "source": [
        "test_df.drop(columns=old_columns, inplace=True)"
      ],
      "execution_count": 47,
      "outputs": []
    },
    {
      "cell_type": "code",
      "metadata": {
        "id": "C7pucWrnvpDA",
        "outputId": "75fa309a-6505-4d38-d372-e0185f80b08e",
        "colab": {
          "base_uri": "https://localhost:8080/",
          "height": 0
        }
      },
      "source": [
        "test_df.info()"
      ],
      "execution_count": 48,
      "outputs": [
        {
          "output_type": "stream",
          "text": [
            "<class 'pandas.core.frame.DataFrame'>\n",
            "RangeIndex: 7152 entries, 0 to 7151\n",
            "Data columns (total 1 columns):\n",
            " #   Column     Non-Null Count  Dtype \n",
            "---  ------     --------------  ----- \n",
            " 0   text_data  7152 non-null   object\n",
            "dtypes: object(1)\n",
            "memory usage: 56.0+ KB\n"
          ],
          "name": "stdout"
        }
      ]
    },
    {
      "cell_type": "markdown",
      "metadata": {
        "papermill": {
          "duration": 0.038143,
          "end_time": "2020-09-05T22:13:15.685456",
          "exception": false,
          "start_time": "2020-09-05T22:13:15.647313",
          "status": "completed"
        },
        "tags": [],
        "id": "dHo-OozMdt_8"
      },
      "source": [
        "## Datasets"
      ]
    },
    {
      "cell_type": "code",
      "metadata": {
        "id": "ZLET3zJhlymR"
      },
      "source": [
        "import nlp"
      ],
      "execution_count": 49,
      "outputs": []
    },
    {
      "cell_type": "code",
      "metadata": {
        "execution": {
          "iopub.execute_input": "2020-09-05T22:13:15.845561Z",
          "iopub.status.busy": "2020-09-05T22:13:15.844629Z",
          "iopub.status.idle": "2020-09-05T22:14:18.490780Z",
          "shell.execute_reply": "2020-09-05T22:14:18.489532Z"
        },
        "papermill": {
          "duration": 62.76746,
          "end_time": "2020-09-05T22:14:18.490930",
          "exception": false,
          "start_time": "2020-09-05T22:13:15.723470",
          "status": "completed"
        },
        "tags": [],
        "id": "w9stWz8Zdt_8",
        "outputId": "65d46faa-0832-49bf-8019-b696277fd022",
        "colab": {
          "base_uri": "https://localhost:8080/",
          "height": 0,
          "referenced_widgets": [
            "8f81faf1bfa14f6dbc5382b45cc5fca8",
            "e3f57dcffa8d41429c804c3db22dbc69",
            "817ebe4b74ba493b952095314f82a0e7",
            "a64e1586a9674eed8ef5bb971c2796f3",
            "22f2936bfa1b4809a82ba467fa2b692c",
            "fb9650076f044edbadae40ffdc823e8c",
            "50947b91493f4448b057985b05e46b3a",
            "fa752bf0cc1f4d90817c7d08c1938223",
            "5bd456c9161340b084f15349d378ece7",
            "979d0720771e4a149ba2b8bc0f9a370d",
            "50a52cc867c049dbb42ce561da3a2015",
            "9cfe43632c3d4c0c8fbac876cd9473be",
            "08f24f17154d48d3983067ad431805cd",
            "67ca29449ad8455a8582a7cab3007c17",
            "ab35d9cf160c47c39ac454ae87140e9d",
            "bf32c03a95094baf9e3b4ea7345a3c49",
            "928cd05ba6154fda8de320d9e57921cf",
            "d256bf1d231b4ad0af2391b88d28e770",
            "1697211d92d44ea0aa670f6e309e08c0",
            "c2ec0e619d90412cbfc569dd7d07c196",
            "bcb02ab62c404107869d4f8f1487b674",
            "e6ac2d6c80ea4b06a1c27437b3ca019a",
            "727f78ee62e74b88ac0da045aff9ebe7",
            "59d187460ce3454c804b3cf7624d8798"
          ]
        }
      },
      "source": [
        "MAX_LEN = 512 #256\n",
        "\n",
        "def convert_to_features(batch):\n",
        "\n",
        "    encodings = tokenizer.batch_encode_plus(batch['text_data'], \n",
        "                                            add_special_tokens=True,\n",
        "                                            pad_to_max_length=True,\n",
        "                                            truncation=True,\n",
        "                                            max_length=MAX_LEN)\n",
        "    return encodings\n",
        "\n",
        "train_dataset = nlp.Dataset.from_pandas(train_df) #nlp.load_dataset('csv', data_files='train_data.csv') #\n",
        "# columns_to_drop = train_dataset.column_names #train_dataset['train'].column_names\n",
        "# columns_to_drop.remove('Название')\n",
        "# columns_to_drop.remove('Описание вакансии')\n",
        "# columns_to_drop.remove('Фейк')\n",
        "# train_dataset = train_dataset.map(lambda example: {'Описание вакансии': example['Название'] + ' ' + example['Тип занятости'] + ' ' + example['Описание вакансии'] + ' ' + example['Описание компании'] + ' ' + example['Требования']})\n",
        "train_dataset = train_dataset.map(convert_to_features, batched=True) #, remove_columns=columns_to_drop)\n",
        "# train_dataset = train_dataset['train'].train_test_split(test_size=0.1, shuffle=True, seed=42)\n",
        "train_dataset.set_format(\"torch\", columns=['input_ids', 'attention_mask', 'Фейк'])\n",
        "\n",
        "valid_dataset = nlp.Dataset.from_pandas(val_df)\n",
        "# valid_dataset = valid_dataset.map(lambda example: {'Описание вакансии': example['Название'] + ' ' + example['Тип занятости'] + ' ' + example['Описание вакансии'] + ' ' + example['Описание компании'] + ' ' + example['Требования']})\n",
        "valid_dataset = valid_dataset.map(convert_to_features, batched=True) #, remove_columns=columns_to_drop)\n",
        "# valid_dataset = valid_dataset.map(convert_to_features, batched=True) \n",
        "valid_dataset.set_format(\"torch\", columns=['input_ids', 'attention_mask', 'Фейк'])\n",
        "\n",
        "test_dataset = nlp.Dataset.from_pandas(test_df) #nlp.load_dataset('csv', data_files={'test':'test_data.csv'}) #\n",
        "# test_dataset = test_dataset.map(lambda example: {'Описание вакансии': example['Название'] + ' ' + example['Тип занятости'] + ' ' + example['Описание вакансии'] + ' ' + example['Описание компании'] + ' ' + example['Требования']})\n",
        "test_dataset = test_dataset.map(convert_to_features, batched=True) #, remove_columns=columns_to_drop) \n",
        "test_dataset.set_format(\"torch\", columns=['input_ids', 'attention_mask'])"
      ],
      "execution_count": 50,
      "outputs": [
        {
          "output_type": "display_data",
          "data": {
            "application/vnd.jupyter.widget-view+json": {
              "model_id": "8f81faf1bfa14f6dbc5382b45cc5fca8",
              "version_minor": 0,
              "version_major": 2
            },
            "text/plain": [
              "HBox(children=(FloatProgress(value=0.0, max=19.0), HTML(value='')))"
            ]
          },
          "metadata": {
            "tags": []
          }
        },
        {
          "output_type": "stream",
          "text": [
            "\n"
          ],
          "name": "stdout"
        },
        {
          "output_type": "display_data",
          "data": {
            "application/vnd.jupyter.widget-view+json": {
              "model_id": "5bd456c9161340b084f15349d378ece7",
              "version_minor": 0,
              "version_major": 2
            },
            "text/plain": [
              "HBox(children=(FloatProgress(value=0.0, max=2.0), HTML(value='')))"
            ]
          },
          "metadata": {
            "tags": []
          }
        },
        {
          "output_type": "stream",
          "text": [
            "\n"
          ],
          "name": "stdout"
        },
        {
          "output_type": "display_data",
          "data": {
            "application/vnd.jupyter.widget-view+json": {
              "model_id": "928cd05ba6154fda8de320d9e57921cf",
              "version_minor": 0,
              "version_major": 2
            },
            "text/plain": [
              "HBox(children=(FloatProgress(value=0.0, max=8.0), HTML(value='')))"
            ]
          },
          "metadata": {
            "tags": []
          }
        },
        {
          "output_type": "stream",
          "text": [
            "\n"
          ],
          "name": "stdout"
        }
      ]
    },
    {
      "cell_type": "code",
      "metadata": {
        "id": "rsUAJQ4WwItC"
      },
      "source": [
        "# test_df = pd.read_csv('test_data.csv')\n",
        "# test_df.info()"
      ],
      "execution_count": 51,
      "outputs": []
    },
    {
      "cell_type": "code",
      "metadata": {
        "id": "6bxoSaFjwjcW"
      },
      "source": [
        "# columns_to_drop.remove('Название')\n",
        "# test_df.drop(columns=columns_to_drop, inplace=True)\n",
        "# test_df.fillna('', inplace=True)\n",
        "# test_df.info()"
      ],
      "execution_count": 52,
      "outputs": []
    },
    {
      "cell_type": "code",
      "metadata": {
        "id": "sJ2poG7RwU_0"
      },
      "source": [
        "# test_dataset = nlp.Dataset.from_pandas(test_df)\n",
        "# test_dataset = test_dataset.map(lambda example: {'Описание вакансии': example['Название'] + ' ' + example['Описание вакансии']})\n",
        "# test_dataset = test_dataset.map(convert_to_features, batched=True) \n",
        "# test_dataset.set_format(\"torch\", columns=['input_ids', 'attention_mask'])"
      ],
      "execution_count": 53,
      "outputs": []
    },
    {
      "cell_type": "markdown",
      "metadata": {
        "papermill": {
          "duration": 0.039562,
          "end_time": "2020-09-05T22:14:18.575706",
          "exception": false,
          "start_time": "2020-09-05T22:14:18.536144",
          "status": "completed"
        },
        "tags": [],
        "id": "hioXa5BqduAB"
      },
      "source": [
        "## Train & Submit"
      ]
    },
    {
      "cell_type": "markdown",
      "metadata": {
        "papermill": {
          "duration": 0.038621,
          "end_time": "2020-09-05T22:14:18.655566",
          "exception": false,
          "start_time": "2020-09-05T22:14:18.616945",
          "status": "completed"
        },
        "tags": [],
        "id": "785uErE2duAC"
      },
      "source": [
        "### Metrics"
      ]
    },
    {
      "cell_type": "code",
      "metadata": {
        "id": "7JpsMzN2h9n-"
      },
      "source": [
        "from sklearn.metrics import f1_score"
      ],
      "execution_count": 54,
      "outputs": []
    },
    {
      "cell_type": "code",
      "metadata": {
        "execution": {
          "iopub.execute_input": "2020-09-05T22:14:18.753297Z",
          "iopub.status.busy": "2020-09-05T22:14:18.743161Z",
          "iopub.status.idle": "2020-09-05T22:14:18.756244Z",
          "shell.execute_reply": "2020-09-05T22:14:18.756843Z"
        },
        "papermill": {
          "duration": 0.062144,
          "end_time": "2020-09-05T22:14:18.757020",
          "exception": false,
          "start_time": "2020-09-05T22:14:18.694876",
          "status": "completed"
        },
        "tags": [],
        "id": "eNK34-ROduAD"
      },
      "source": [
        "class AverageMeter(object):\n",
        "    def __init__(self, name, fmt=':f'):\n",
        "        self.name = name\n",
        "        self.fmt = fmt\n",
        "        self.reset()\n",
        "\n",
        "    def reset(self):\n",
        "        self.val = 0\n",
        "        self.avg = 0\n",
        "        self.sum = 0\n",
        "        self.count = 0\n",
        "\n",
        "    def update(self, val, n=1):\n",
        "        self.val = val\n",
        "        self.sum += val * n\n",
        "        self.count += n\n",
        "        self.avg = self.sum / self.count\n",
        "\n",
        "    def __str__(self):\n",
        "        fmtstr = '{name} {avg' + self.fmt + '}'\n",
        "        return fmtstr.format(**self.__dict__)\n",
        "\n",
        "class ProgressMeter(object):\n",
        "    def __init__(self, num_batches, meters, prefix=\"\"):\n",
        "        self.batch_fmtstr = self._get_batch_fmtstr(num_batches)\n",
        "        self.meters = meters\n",
        "        self.prefix = prefix\n",
        "\n",
        "    def display(self, batch):\n",
        "        entries = [self.prefix + self.batch_fmtstr.format(batch)]\n",
        "        entries += [str(meter) for meter in self.meters]\n",
        "        print('\\t'.join(entries))\n",
        "\n",
        "    def _get_batch_fmtstr(self, num_batches):\n",
        "        num_digits = len(str(num_batches // 1))\n",
        "        fmt = '{:' + str(num_digits) + 'd}'\n",
        "        return '[' + fmt + '/' + fmt.format(num_batches) + ']'\n",
        "\n",
        "def F1_score(outputs, targets):\n",
        "    with torch.no_grad():\n",
        "        return f1_score(targets, outputs.argmax(dim=-1)) #, average='micro') "
      ],
      "execution_count": 55,
      "outputs": []
    },
    {
      "cell_type": "markdown",
      "metadata": {
        "papermill": {
          "duration": 0.03979,
          "end_time": "2020-09-05T22:14:18.837106",
          "exception": false,
          "start_time": "2020-09-05T22:14:18.797316",
          "status": "completed"
        },
        "tags": [],
        "id": "M5C7IKZMduAF"
      },
      "source": [
        "### Training"
      ]
    },
    {
      "cell_type": "code",
      "metadata": {
        "execution": {
          "iopub.execute_input": "2020-09-05T22:14:18.932557Z",
          "iopub.status.busy": "2020-09-05T22:14:18.930554Z",
          "iopub.status.idle": "2020-09-05T22:14:18.936256Z",
          "shell.execute_reply": "2020-09-05T22:14:18.935498Z"
        },
        "papermill": {
          "duration": 0.059258,
          "end_time": "2020-09-05T22:14:18.936400",
          "exception": false,
          "start_time": "2020-09-05T22:14:18.877142",
          "status": "completed"
        },
        "tags": [],
        "id": "Khu87ZumduAG"
      },
      "source": [
        "def train_loop_fn(train_loader, model, optimizer, device, epoch=None):\n",
        "\n",
        "    model.train()\n",
        "    \n",
        "    losses = AverageMeter('Loss', ':.4e')\n",
        "    top1 = AverageMeter(' F1', ':.2f')\n",
        "    progress = ProgressMeter(\n",
        "        len(train_loader),\n",
        "        [losses, top1],\n",
        "        prefix=\"[xla:{}]  Train:  Epoch: [{}]\".format(xm.get_ordinal(), epoch + 1)\n",
        "    )    \n",
        "\n",
        "    for i, data in enumerate(train_loader):\n",
        "\n",
        "        input_ids = data[\"input_ids\"].to(device, dtype=torch.long)\n",
        "        attention_mask = data[\"attention_mask\"].to(device, dtype=torch.long)\n",
        "        labels = data[\"Фейк\"].to(device, dtype=torch.float)\n",
        "\n",
        "        optimizer.zero_grad()\n",
        "        outputs = model(\n",
        "            input_ids = input_ids,\n",
        "            attention_mask = attention_mask,\n",
        "            labels = labels\n",
        "        )\n",
        "\n",
        "        loss = outputs[0] \n",
        "        loss.backward()\n",
        "        xm.optimizer_step(optimizer)\n",
        "\n",
        "        f1 = F1_score(outputs[1].cpu(), labels.cpu())\n",
        "        losses.update(loss.item(), input_ids.size(0))\n",
        "        top1.update(f1.item(), input_ids.size(0))\n",
        "\n",
        "        if i == len(train_loader) - 1: \n",
        "            progress.display(i)\n",
        "\n",
        "    del loss\n",
        "    del f1\n",
        "    del outputs\n",
        "    del input_ids\n",
        "    del attention_mask\n",
        "    del labels\n",
        "    gc.collect()"
      ],
      "execution_count": 56,
      "outputs": []
    },
    {
      "cell_type": "markdown",
      "metadata": {
        "papermill": {
          "duration": 0.03969,
          "end_time": "2020-09-05T22:14:19.015962",
          "exception": false,
          "start_time": "2020-09-05T22:14:18.976272",
          "status": "completed"
        },
        "tags": [],
        "id": "cPZ3ewCDduAI"
      },
      "source": [
        "### Evaluation"
      ]
    },
    {
      "cell_type": "code",
      "metadata": {
        "id": "zAUNHAzFnw4e"
      },
      "source": [
        "from sklearn.metrics import confusion_matrix"
      ],
      "execution_count": 57,
      "outputs": []
    },
    {
      "cell_type": "code",
      "metadata": {
        "id": "Eqcud1YHmZmm"
      },
      "source": [
        "def eval_loop_fn(test_data_loader, model, device):\n",
        "\n",
        "    model.eval()\n",
        "\n",
        "    with torch.no_grad():\n",
        "\n",
        "        test_preds = []\n",
        "        targets = []\n",
        "        val_loss = 0\n",
        "\n",
        "        for i, data in enumerate(test_data_loader):\n",
        "\n",
        "            input_ids = data[\"input_ids\"].to(device, dtype=torch.long)\n",
        "            attention_mask = data[\"attention_mask\"].to(device, dtype=torch.long)\n",
        "            labels = data[\"Фейк\"].to(device, dtype=torch.float)\n",
        "\n",
        "            outputs = model(\n",
        "                input_ids = input_ids,\n",
        "                attention_mask = attention_mask,\n",
        "                labels = labels\n",
        "            )\n",
        "\n",
        "            val_loss += outputs[0].item()\n",
        "            test_preds.extend(torch.argmax(outputs[1], -1).cpu().detach().tolist())\n",
        "            targets.extend(data[\"Фейк\"].detach().tolist())  \n",
        "        \n",
        "    xm.master_print(f'Val loss: {val_loss / len(test_data_loader)}')\n",
        "    xm.master_print(f'F1 score: {f1_score(targets, test_preds)}')\n",
        "    xm.master_print('Confusion matrix:')\n",
        "    xm.master_print(f'{confusion_matrix(targets, test_preds)}')\n",
        "\n",
        "    del outputs\n",
        "    del targets\n",
        "    del val_loss\n",
        "    del test_preds\n",
        "    del input_ids\n",
        "    del attention_mask\n",
        "    gc.collect()"
      ],
      "execution_count": 58,
      "outputs": []
    },
    {
      "cell_type": "markdown",
      "metadata": {
        "papermill": {
          "duration": 0.039369,
          "end_time": "2020-09-05T22:14:19.195683",
          "exception": false,
          "start_time": "2020-09-05T22:14:19.156314",
          "status": "completed"
        },
        "tags": [],
        "id": "5deBCxT4duAM"
      },
      "source": [
        "### Test"
      ]
    },
    {
      "cell_type": "code",
      "metadata": {
        "id": "-pVuPDKSfsmc"
      },
      "source": [
        "sample_submission = pd.read_csv('sample_submission.csv')"
      ],
      "execution_count": 59,
      "outputs": []
    },
    {
      "cell_type": "code",
      "metadata": {
        "execution": {
          "iopub.execute_input": "2020-09-05T22:14:19.288684Z",
          "iopub.status.busy": "2020-09-05T22:14:19.287895Z",
          "iopub.status.idle": "2020-09-05T22:14:19.291933Z",
          "shell.execute_reply": "2020-09-05T22:14:19.291203Z"
        },
        "papermill": {
          "duration": 0.056595,
          "end_time": "2020-09-05T22:14:19.292056",
          "exception": false,
          "start_time": "2020-09-05T22:14:19.235461",
          "status": "completed"
        },
        "tags": [],
        "id": "JMZNr1J1duAM"
      },
      "source": [
        "def test_loop_fn(test_data_loader, model, device, epoch=0):\n",
        "\n",
        "    model.eval()\n",
        "\n",
        "    with torch.no_grad():\n",
        "\n",
        "        test_preds = []\n",
        "\n",
        "        for i, data in enumerate(test_data_loader):\n",
        "\n",
        "            input_ids = data[\"input_ids\"].to(device, dtype=torch.long)\n",
        "            attention_mask = data[\"attention_mask\"].to(device, dtype=torch.long)\n",
        "\n",
        "            outputs = model(\n",
        "                input_ids = input_ids,\n",
        "                attention_mask = attention_mask,\n",
        "            )[0]\n",
        "            \n",
        "            outputs_np = outputs.cpu().detach().numpy().tolist()\n",
        "            test_preds.extend(outputs_np)  \n",
        "        \n",
        "    test_preds = torch.FloatTensor(test_preds)\n",
        "\n",
        "    sample_submission['Фейк'] = torch.argmax(test_preds, -1).cpu().detach().numpy()\n",
        "    sample_submission.to_csv(f'submission_{epoch + 1}.csv', index=False)\n",
        "\n",
        "    del outputs\n",
        "    del outputs_np\n",
        "    del test_preds\n",
        "    del input_ids\n",
        "    del attention_mask\n",
        "    gc.collect()"
      ],
      "execution_count": 60,
      "outputs": []
    },
    {
      "cell_type": "markdown",
      "metadata": {
        "papermill": {
          "duration": 0.03919,
          "end_time": "2020-09-05T22:14:19.370981",
          "exception": false,
          "start_time": "2020-09-05T22:14:19.331791",
          "status": "completed"
        },
        "tags": [],
        "id": "IsbT1MOMduAO"
      },
      "source": [
        "### Run"
      ]
    },
    {
      "cell_type": "code",
      "metadata": {
        "_kg_hide-output": true,
        "execution": {
          "iopub.execute_input": "2020-09-05T22:14:19.457902Z",
          "iopub.status.busy": "2020-09-05T22:14:19.457110Z",
          "iopub.status.idle": "2020-09-05T22:14:19.461887Z",
          "shell.execute_reply": "2020-09-05T22:14:19.461152Z"
        },
        "papermill": {
          "duration": 0.051603,
          "end_time": "2020-09-05T22:14:19.462019",
          "exception": false,
          "start_time": "2020-09-05T22:14:19.410416",
          "status": "completed"
        },
        "tags": [],
        "id": "qV7lg941duAP"
      },
      "source": [
        "my_seed(42)\n",
        "\n",
        "TRAIN_BATCH_SIZE = 4 * xm.xrt_world_size()\n",
        "VALID_BATCH_SIZE = 8 #* xm.xrt_world_size()\n",
        "TEST_BATCH_SIZE = 8\n",
        "EPOCHS = 10\n",
        "LR = 5e-5 * xm.xrt_world_size() "
      ],
      "execution_count": 61,
      "outputs": []
    },
    {
      "cell_type": "code",
      "metadata": {
        "id": "FVilPMLfoeE2"
      },
      "source": [
        "# from google.colab import drive\n",
        "# drive.mount('/content/drive')"
      ],
      "execution_count": 62,
      "outputs": []
    },
    {
      "cell_type": "code",
      "metadata": {
        "execution": {
          "iopub.execute_input": "2020-09-05T22:14:19.563132Z",
          "iopub.status.busy": "2020-09-05T22:14:19.562322Z",
          "iopub.status.idle": "2020-09-05T22:14:19.567315Z",
          "shell.execute_reply": "2020-09-05T22:14:19.566643Z"
        },
        "id": "akuL2cGPzqmn",
        "papermill": {
          "duration": 0.065445,
          "end_time": "2020-09-05T22:14:19.567452",
          "exception": false,
          "start_time": "2020-09-05T22:14:19.502007",
          "status": "completed"
        },
        "tags": []
      },
      "source": [
        "def _run():\n",
        "\n",
        "    # Train\n",
        "    xm.master_print('Starting Run ...')\n",
        "    train_sampler = DistributedSampler( #DistributedWeightedSampler( #\n",
        "        train_dataset, #train_dataset['train'],\n",
        "        num_replicas=xm.xrt_world_size(),\n",
        "        rank=xm.get_ordinal(),\n",
        "        shuffle=True \n",
        "    )    \n",
        "    train_data_loader = DataLoader(\n",
        "        train_dataset,\n",
        "        batch_size=TRAIN_BATCH_SIZE,\n",
        "        sampler=train_sampler,\n",
        "        drop_last=True,\n",
        "        num_workers=0,\n",
        "    )\n",
        "    xm.master_print('Train Loader Created.')\n",
        "    \n",
        "    # Valid\n",
        "    # valid_sampler = DistributedSampler(\n",
        "    #     train_dataset['test'],\n",
        "    #     num_replicas=xm.xrt_world_size(),\n",
        "    #     rank=xm.get_ordinal(),\n",
        "    #     shuffle=False\n",
        "    # )    \n",
        "    valid_data_loader = DataLoader(\n",
        "        valid_dataset,\n",
        "        batch_size=VALID_BATCH_SIZE,\n",
        "        # sampler=valid_sampler,\n",
        "        drop_last=False,\n",
        "        num_workers=0,\n",
        "        shuffle=False,\n",
        "    )\n",
        "    xm.master_print('Valid Loader Created.')\n",
        "\n",
        "    # Test\n",
        "    test_data_loader = DataLoader(\n",
        "        test_dataset, \n",
        "        batch_size=TEST_BATCH_SIZE,\n",
        "        drop_last=False,\n",
        "        num_workers=0,\n",
        "        shuffle=False,\n",
        "    )\n",
        "    xm.master_print('Test Loader Created.')\n",
        "    \n",
        "    num_train_steps = int(train_dataset.num_rows / TRAIN_BATCH_SIZE / xm.xrt_world_size())\n",
        "    device = xm.xla_device()\n",
        "    model = WRAPPED_MODEL.to(device)\n",
        "    xm.master_print('Done Model Loading.')\n",
        "    optimizer = AdamW(\n",
        "        model.parameters(),\n",
        "        lr=LR, \n",
        "    )\n",
        "    xm.master_print(f'Num Train Steps= {num_train_steps}, XRT World Size= {xm.xrt_world_size()}.')\n",
        "\n",
        "    # para_loader = pl.ParallelLoader(valid_data_loader, [device])\n",
        "    # xm.master_print('Parallel Loader Created. Validating ...')\n",
        "    # eval_loop_fn(para_loader.per_device_loader(device), \n",
        "    #                  model,  \n",
        "    #                  device\n",
        "    #                 )\n",
        "    \n",
        "    for epoch in range(EPOCHS):\n",
        "\n",
        "        # !\n",
        "        train_sampler.set_epoch(epoch)\n",
        "\n",
        "        para_loader = pl.ParallelLoader(train_data_loader, [device])\n",
        "        xm.master_print('Parallel Loader Created. Training ...')\n",
        "        train_loop_fn(para_loader.per_device_loader(device),\n",
        "                      model,  \n",
        "                      optimizer, \n",
        "                      device,  \n",
        "                      epoch\n",
        "                     )        \n",
        "        xm.master_print(\"Finished training epoch {}\".format(epoch + 1))\n",
        "            \n",
        "        para_loader = pl.ParallelLoader(valid_data_loader, [device])\n",
        "        xm.master_print('Parallel Loader Created. Validating ...')\n",
        "        eval_loop_fn(para_loader.per_device_loader(device), \n",
        "                     model,  \n",
        "                     device\n",
        "                    )\n",
        "        \n",
        "        para_loader = pl.ParallelLoader(test_data_loader, [device])\n",
        "        xm.master_print('Parallel Loader Created. Testing ...')\n",
        "        test_loop_fn(para_loader.per_device_loader(device), \n",
        "                    model,  \n",
        "                    device,\n",
        "                    epoch \n",
        "                    )\n",
        "        xm.master_print('Predicted.')\n",
        "\n",
        "        # if epoch == EPOCHS-1:\n",
        "        #     xm.save(model.state_dict(), f'/content/drive/My Drive/RoBERTa_{epoch + 1}.pt')\n",
        "        #     xm.master_print('Model Saved.')"
      ],
      "execution_count": 63,
      "outputs": []
    },
    {
      "cell_type": "code",
      "metadata": {
        "_kg_hide-output": true,
        "execution": {
          "iopub.execute_input": "2020-09-05T22:14:19.658948Z",
          "iopub.status.busy": "2020-09-05T22:14:19.657927Z",
          "iopub.status.idle": "2020-09-05T23:43:19.065617Z",
          "shell.execute_reply": "2020-09-05T23:43:19.064773Z"
        },
        "id": "Gm0V-BTnzqmq",
        "papermill": {
          "duration": 5339.457651,
          "end_time": "2020-09-05T23:43:19.065763",
          "exception": false,
          "start_time": "2020-09-05T22:14:19.608112",
          "status": "completed"
        },
        "tags": [],
        "outputId": "8c8b63ef-6282-4b1e-c666-c63815ec3ddc",
        "colab": {
          "base_uri": "https://localhost:8080/",
          "height": 1000
        }
      },
      "source": [
        "def _mp_fn(rank, flags):\n",
        "    _run()\n",
        "\n",
        "FLAGS={}\n",
        "xmp.spawn(_mp_fn, args=(FLAGS,), nprocs=8, start_method='fork')"
      ],
      "execution_count": 64,
      "outputs": [
        {
          "output_type": "stream",
          "text": [
            "Starting Run ...\n",
            "Train Loader Created.\n",
            "Valid Loader Created.\n",
            "Test Loader Created.\n",
            "Done Model Loading.\n",
            "Num Train Steps= 565, XRT World Size= 8.\n",
            "Parallel Loader Created. Training ...\n",
            "[xla:2]  Train:  Epoch: [1][564/565]\tLoss 1.1932e-01\t F1 0.88\n",
            "[xla:1]  Train:  Epoch: [1][564/565]\tLoss 1.1027e-01\t F1 0.87\n",
            "[xla:4]  Train:  Epoch: [1][564/565]\tLoss 1.1992e-01\t F1 0.89\n",
            "[xla:3]  Train:  Epoch: [1][564/565]\tLoss 1.2601e-01\t F1 0.87\n",
            "[xla:0]  Train:  Epoch: [1][564/565]\tLoss 1.2175e-01\t F1 0.87\n",
            "[xla:7]  Train:  Epoch: [1][564/565]\tLoss 1.2366e-01\t F1 0.87\n",
            "[xla:6]  Train:  Epoch: [1][564/565]\tLoss 1.2880e-01\t F1 0.86\n",
            "[xla:5]  Train:  Epoch: [1][564/565]\tLoss 1.1696e-01\t F1 0.86\n",
            "Finished training epoch 1\n",
            "Parallel Loader Created. Validating ...\n",
            "Val loss: 0.043856799602508545\n",
            "F1 score: 0.8807339449541285\n",
            "Confusion matrix:\n",
            "[[963   4]\n",
            " [  9  48]]\n",
            "Parallel Loader Created. Testing ...\n",
            "Predicted.\n",
            "Parallel Loader Created. Training ...\n",
            "[xla:7]  Train:  Epoch: [2][564/565]\tLoss 7.2519e-03\t F1 0.93\n",
            "[xla:4]  Train:  Epoch: [2][564/565]\tLoss 1.4214e-02\t F1 0.94\n",
            "[xla:5]  Train:  Epoch: [2][564/565]\tLoss 2.4708e-02\t F1 0.92\n",
            "[xla:2]  Train:  Epoch: [2][564/565]\tLoss 1.6299e-02\t F1 0.93\n",
            "[xla:0]  Train:  Epoch: [2][564/565]\tLoss 2.0837e-02\t F1 0.93\n",
            "[xla:3]  Train:  Epoch: [2][564/565]\tLoss 1.1693e-02\t F1 0.93\n",
            "[xla:6]  Train:  Epoch: [2][564/565]\tLoss 1.5779e-02\t F1 0.92\n",
            "[xla:1]  Train:  Epoch: [2][564/565]\tLoss 1.2171e-02\t F1 0.94\n",
            "Finished training epoch 2\n",
            "Parallel Loader Created. Validating ...\n",
            "Val loss: 0.0512482225894928\n",
            "F1 score: 0.8739495798319329\n",
            "Confusion matrix:\n",
            "[[957  10]\n",
            " [  5  52]]\n",
            "Parallel Loader Created. Testing ...\n",
            "Predicted.\n",
            "Parallel Loader Created. Training ...\n",
            "[xla:6]  Train:  Epoch: [3][564/565]\tLoss 9.6549e-03\t F1 0.93\n",
            "[xla:2]  Train:  Epoch: [3][564/565]\tLoss 1.3301e-02\t F1 0.92\n",
            "[xla:0]  Train:  Epoch: [3][564/565]\tLoss 1.6279e-02\t F1 0.93\n",
            "[xla:1]  Train:  Epoch: [3][564/565]\tLoss 1.5141e-02\t F1 0.93\n",
            "[xla:5]  Train:  Epoch: [3][564/565]\tLoss 1.0182e-02\t F1 0.94\n",
            "[xla:4]  Train:  Epoch: [3][564/565]\tLoss 1.5562e-02\t F1 0.93\n",
            "[xla:7]  Train:  Epoch: [3][564/565]\tLoss 1.3276e-02\t F1 0.94\n",
            "[xla:3]  Train:  Epoch: [3][564/565]\tLoss 1.2216e-02\t F1 0.92\n",
            "Finished training epoch 3\n",
            "Parallel Loader Created. Validating ...\n",
            "Val loss: 0.05153653025627136\n",
            "F1 score: 0.8793103448275862\n",
            "Confusion matrix:\n",
            "[[959   8]\n",
            " [  6  51]]\n",
            "Parallel Loader Created. Testing ...\n",
            "Predicted.\n",
            "Parallel Loader Created. Training ...\n",
            "[xla:1]  Train:  Epoch: [4][564/565]\tLoss 2.5816e-03\t F1 0.93\n",
            "[xla:4]  Train:  Epoch: [4][564/565]\tLoss 2.3382e-03\t F1 0.94\n",
            "[xla:0]  Train:  Epoch: [4][564/565]\tLoss 1.6598e-03\t F1 0.91\n",
            "[xla:6]  Train:  Epoch: [4][564/565]\tLoss 2.6816e-03\t F1 0.94\n",
            "[xla:5]  Train:  Epoch: [4][564/565]\tLoss 3.9465e-03\t F1 0.92\n",
            "[xla:2]  Train:  Epoch: [4][564/565]\tLoss 1.4153e-03\t F1 0.94\n",
            "[xla:3]  Train:  Epoch: [4][564/565]\tLoss 2.6937e-03\t F1 0.94\n",
            "[xla:7]  Train:  Epoch: [4][564/565]\tLoss 3.9362e-03\t F1 0.92\n",
            "Finished training epoch 4\n",
            "Parallel Loader Created. Validating ...\n",
            "Val loss: 0.05945652723312378\n",
            "F1 score: 0.8761904761904762\n",
            "Confusion matrix:\n",
            "[[965   2]\n",
            " [ 11  46]]\n",
            "Parallel Loader Created. Testing ...\n",
            "Predicted.\n",
            "Parallel Loader Created. Training ...\n",
            "[xla:1]  Train:  Epoch: [5][564/565]\tLoss 7.5237e-04\t F1 0.94\n",
            "[xla:3]  Train:  Epoch: [5][564/565]\tLoss 7.2319e-04\t F1 0.94\n",
            "[xla:5]  Train:  Epoch: [5][564/565]\tLoss 7.7208e-04\t F1 0.94\n",
            "[xla:7]  Train:  Epoch: [5][564/565]\tLoss 3.7375e-03\t F1 0.94\n",
            "[xla:6]  Train:  Epoch: [5][564/565]\tLoss 4.4751e-04\t F1 0.93\n",
            "[xla:0]  Train:  Epoch: [5][564/565]\tLoss 6.3416e-04\t F1 0.93\n",
            "[xla:4]  Train:  Epoch: [5][564/565]\tLoss 9.5835e-04\t F1 0.92\n",
            "[xla:2]  Train:  Epoch: [5][564/565]\tLoss 7.5621e-04\t F1 0.95\n",
            "Finished training epoch 5\n",
            "Parallel Loader Created. Validating ...\n",
            "Val loss: 0.051623374223709106\n",
            "F1 score: 0.9074074074074074\n",
            "Confusion matrix:\n",
            "[[965   2]\n",
            " [  8  49]]\n",
            "Parallel Loader Created. Testing ...\n",
            "Predicted.\n",
            "Parallel Loader Created. Training ...\n",
            "[xla:4]  Train:  Epoch: [6][564/565]\tLoss 6.0815e-04\t F1 0.95\n",
            "[xla:3]  Train:  Epoch: [6][564/565]\tLoss 1.8063e-03\t F1 0.94\n",
            "[xla:2]  Train:  Epoch: [6][564/565]\tLoss 1.2931e-03\t F1 0.93\n",
            "[xla:5]  Train:  Epoch: [6][564/565]\tLoss 3.2926e-03\t F1 0.92\n",
            "[xla:6]  Train:  Epoch: [6][564/565]\tLoss 9.8268e-04\t F1 0.94\n",
            "[xla:1]  Train:  Epoch: [6][564/565]\tLoss 6.5177e-04\t F1 0.92\n",
            "[xla:0]  Train:  Epoch: [6][564/565]\tLoss 3.7925e-03\t F1 0.93\n",
            "[xla:7]  Train:  Epoch: [6][564/565]\tLoss 9.5771e-04\t F1 0.95\n",
            "Finished training epoch 6\n",
            "Parallel Loader Created. Validating ...\n",
            "Val loss: 0.05060037970542908\n",
            "F1 score: 0.9090909090909091\n",
            "Confusion matrix:\n",
            "[[964   3]\n",
            " [  7  50]]\n",
            "Parallel Loader Created. Testing ...\n",
            "Predicted.\n",
            "Parallel Loader Created. Training ...\n",
            "[xla:5]  Train:  Epoch: [7][564/565]\tLoss 3.6871e-04\t F1 0.94\n",
            "[xla:6]  Train:  Epoch: [7][564/565]\tLoss 4.3197e-04\t F1 0.93\n",
            "[xla:0]  Train:  Epoch: [7][564/565]\tLoss 3.7649e-04\t F1 0.92\n",
            "[xla:2]  Train:  Epoch: [7][564/565]\tLoss 5.0877e-04\t F1 0.93\n",
            "[xla:1]  Train:  Epoch: [7][564/565]\tLoss 3.5273e-04\t F1 0.93\n",
            "[xla:4]  Train:  Epoch: [7][564/565]\tLoss 9.7126e-04\t F1 0.93\n",
            "[xla:3]  Train:  Epoch: [7][564/565]\tLoss 3.5091e-03\t F1 0.94\n",
            "[xla:7]  Train:  Epoch: [7][564/565]\tLoss 6.4268e-04\t F1 0.92\n",
            "Finished training epoch 7\n",
            "Parallel Loader Created. Validating ...\n",
            "Val loss: 0.05315566062927246\n",
            "F1 score: 0.9090909090909091\n",
            "Confusion matrix:\n",
            "[[964   3]\n",
            " [  7  50]]\n",
            "Parallel Loader Created. Testing ...\n",
            "Predicted.\n",
            "Parallel Loader Created. Training ...\n",
            "[xla:6]  Train:  Epoch: [8][564/565]\tLoss 4.7907e-04\t F1 0.92\n",
            "[xla:4]  Train:  Epoch: [8][564/565]\tLoss 5.7539e-04\t F1 0.94\n",
            "[xla:7]  Train:  Epoch: [8][564/565]\tLoss 4.7343e-04\t F1 0.93\n",
            "[xla:1]  Train:  Epoch: [8][564/565]\tLoss 3.5784e-04\t F1 0.94\n",
            "[xla:5]  Train:  Epoch: [8][564/565]\tLoss 3.7048e-04\t F1 0.93\n",
            "[xla:2]  Train:  Epoch: [8][564/565]\tLoss 7.3984e-04\t F1 0.94\n",
            "[xla:3]  Train:  Epoch: [8][564/565]\tLoss 3.1209e-03\t F1 0.94\n",
            "[xla:0]  Train:  Epoch: [8][564/565]\tLoss 4.4909e-04\t F1 0.93\n",
            "Finished training epoch 8\n",
            "Parallel Loader Created. Validating ...\n",
            "Val loss: 0.052138566970825195\n",
            "F1 score: 0.9009009009009009\n",
            "Confusion matrix:\n",
            "[[963   4]\n",
            " [  7  50]]\n",
            "Parallel Loader Created. Testing ...\n",
            "Predicted.\n",
            "Parallel Loader Created. Training ...\n",
            "[xla:7]  Train:  Epoch: [9][564/565]\tLoss 2.8031e-03\t F1 0.93\n",
            "[xla:4]  Train:  Epoch: [9][564/565]\tLoss 5.7181e-04\t F1 0.93\n",
            "[xla:6]  Train:  Epoch: [9][564/565]\tLoss 5.6664e-04\t F1 0.94\n",
            "[xla:3]  Train:  Epoch: [9][564/565]\tLoss 5.5795e-04\t F1 0.92\n",
            "[xla:5]  Train:  Epoch: [9][564/565]\tLoss 6.1816e-04\t F1 0.94\n",
            "[xla:0]  Train:  Epoch: [9][564/565]\tLoss 5.7223e-04\t F1 0.93\n",
            "[xla:2]  Train:  Epoch: [9][564/565]\tLoss 4.6984e-04\t F1 0.91\n",
            "[xla:1]  Train:  Epoch: [9][564/565]\tLoss 1.5323e-03\t F1 0.93\n",
            "Finished training epoch 9\n",
            "Parallel Loader Created. Validating ...\n",
            "Val loss: 0.051411598920822144\n",
            "F1 score: 0.8928571428571428\n",
            "Confusion matrix:\n",
            "[[962   5]\n",
            " [  7  50]]\n",
            "Parallel Loader Created. Testing ...\n",
            "Predicted.\n",
            "Parallel Loader Created. Training ...\n",
            "[xla:1]  Train:  Epoch: [10][564/565]\tLoss 3.9365e-04\t F1 0.94\n",
            "[xla:7]  Train:  Epoch: [10][564/565]\tLoss 4.5234e-04\t F1 0.94\n",
            "[xla:5]  Train:  Epoch: [10][564/565]\tLoss 2.5282e-03\t F1 0.93\n",
            "[xla:6]  Train:  Epoch: [10][564/565]\tLoss 5.3531e-04\t F1 0.92\n",
            "[xla:2]  Train:  Epoch: [10][564/565]\tLoss 4.7945e-04\t F1 0.93\n",
            "[xla:3]  Train:  Epoch: [10][564/565]\tLoss 9.8620e-04\t F1 0.93\n",
            "[xla:4]  Train:  Epoch: [10][564/565]\tLoss 4.5275e-04\t F1 0.92\n",
            "[xla:0]  Train:  Epoch: [10][564/565]\tLoss 6.8444e-04\t F1 0.94\n",
            "Finished training epoch 10\n",
            "Parallel Loader Created. Validating ...\n",
            "Val loss: 0.05495256185531616\n",
            "F1 score: 0.8828828828828829\n",
            "Confusion matrix:\n",
            "[[962   5]\n",
            " [  8  49]]\n",
            "Parallel Loader Created. Testing ...\n",
            "Predicted.\n"
          ],
          "name": "stdout"
        }
      ]
    },
    {
      "cell_type": "code",
      "metadata": {
        "id": "_bDcEEu6XD4e"
      },
      "source": [
        ""
      ],
      "execution_count": 64,
      "outputs": []
    }
  ]
}